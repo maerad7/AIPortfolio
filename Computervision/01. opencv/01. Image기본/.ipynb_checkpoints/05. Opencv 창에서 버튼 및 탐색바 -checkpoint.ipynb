{
 "cells": [
  {
   "cell_type": "code",
   "execution_count": null,
   "metadata": {},
   "outputs": [],
   "source": [
    "import cv2\n",
    "import numpy as np\n",
    "import matplotlib.pyplot as plt"
   ]
  },
  {
   "cell_type": "code",
   "execution_count": null,
   "metadata": {},
   "outputs": [],
   "source": [
    "# window창 생성\n",
    "cv2.namedWindow('window')"
   ]
  },
  {
   "cell_type": "code",
   "execution_count": null,
   "metadata": {},
   "outputs": [],
   "source": [
    "bgr_val = np.array([255,255,255],np.uint8)"
   ]
  },
  {
   "cell_type": "code",
   "execution_count": null,
   "metadata": {},
   "outputs": [],
   "source": [
    "def trackbar_callback(idx,value):\n",
    "    bgr_val = value\n",
    "# 입력된 값을 rgb 값으로"
   ]
  },
  {
   "cell_type": "code",
   "execution_count": null,
   "metadata": {},
   "outputs": [],
   "source": [
    "#  trackbar 생성\n",
    "cv2.createTrackbar('R','window',255,255,lambda v:trackbar_callback(2,v))\n",
    "cv2.createTrackbar('G','window',255,255,lambda v:trackbar_callback(1,v))\n",
    "cv2.createTrackbar('B','window',255,255,lambda v:trackbar_callback(0,v))"
   ]
  },
  {
   "cell_type": "code",
   "execution_count": null,
   "metadata": {},
   "outputs": [],
   "source": [
    "while True:\n",
    "    image = np.full((500,500,3),bgr_val)\n",
    "    cv2.imshow('window',image)\n",
    "    key = cv2.waitKey(3)\n",
    "    # esc key 브레이크\n",
    "    if key == 27:\n",
    "        break\n",
    "cv2.destroyAllWindows"
   ]
  },
  {
   "cell_type": "code",
   "execution_count": null,
   "metadata": {},
   "outputs": [],
   "source": []
  }
 ],
 "metadata": {
  "kernelspec": {
   "display_name": "Python 3",
   "language": "python",
   "name": "python3"
  },
  "language_info": {
   "codemirror_mode": {
    "name": "ipython",
    "version": 3
   },
   "file_extension": ".py",
   "mimetype": "text/x-python",
   "name": "python",
   "nbconvert_exporter": "python",
   "pygments_lexer": "ipython3",
   "version": "3.6.8"
  }
 },
 "nbformat": 4,
 "nbformat_minor": 2
}
