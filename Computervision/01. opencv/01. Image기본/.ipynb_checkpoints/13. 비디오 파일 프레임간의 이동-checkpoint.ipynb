{
 "cells": [
  {
   "cell_type": "code",
   "execution_count": 1,
   "metadata": {},
   "outputs": [],
   "source": [
    "import cv2"
   ]
  },
  {
   "cell_type": "code",
   "execution_count": 7,
   "metadata": {},
   "outputs": [
    {
     "name": "stdout",
     "output_type": "stream",
     "text": [
      "프레임 카운트 : 182\n"
     ]
    }
   ],
   "source": [
    "capture = cv2.VideoCapture('../data/drop.avi')\n",
    "frame_count = int(capture.get(cv2.CAP_PROP_FRAME_COUNT))\n",
    "print ('프레임 카운트 :' , frame_count )"
   ]
  },
  {
   "cell_type": "code",
   "execution_count": 8,
   "metadata": {},
   "outputs": [
    {
     "name": "stdout",
     "output_type": "stream",
     "text": [
      "프레임 위치 :  0.0\n"
     ]
    }
   ],
   "source": [
    "print (\"프레임 위치 : \",capture.get(cv2.CAP_PROP_POS_FRAMES))\n",
    "_,frame = capture.read()\n",
    "cv2.imshow('frame0',frame)"
   ]
  },
  {
   "cell_type": "code",
   "execution_count": 9,
   "metadata": {},
   "outputs": [
    {
     "name": "stdout",
     "output_type": "stream",
     "text": [
      "프레임 위치 :  1.0\n"
     ]
    }
   ],
   "source": [
    "print (\"프레임 위치 : \",capture.get(cv2.CAP_PROP_POS_FRAMES))\n",
    "_,frame = capture.read()\n",
    "cv2.imshow('frame1',frame)"
   ]
  },
  {
   "cell_type": "code",
   "execution_count": 10,
   "metadata": {},
   "outputs": [
    {
     "name": "stdout",
     "output_type": "stream",
     "text": [
      "프레임 위치 :  100.0\n"
     ]
    }
   ],
   "source": [
    "capture.set(cv2.CAP_PROP_POS_FRAMES,100)\n",
    "print (\"프레임 위치 : \",capture.get(cv2.CAP_PROP_POS_FRAMES))\n",
    "_,frame = capture.read()\n",
    "cv2.imshow('frame100',frame)\n",
    "\n",
    "cv2.waitKey()\n",
    "cv2.destroyAllWindows()"
   ]
  },
  {
   "cell_type": "code",
   "execution_count": null,
   "metadata": {},
   "outputs": [],
   "source": []
  }
 ],
 "metadata": {
  "kernelspec": {
   "display_name": "Python 3",
   "language": "python",
   "name": "python3"
  },
  "language_info": {
   "codemirror_mode": {
    "name": "ipython",
    "version": 3
   },
   "file_extension": ".py",
   "mimetype": "text/x-python",
   "name": "python",
   "nbconvert_exporter": "python",
   "pygments_lexer": "ipython3",
   "version": "3.6.8"
  }
 },
 "nbformat": 4,
 "nbformat_minor": 2
}
