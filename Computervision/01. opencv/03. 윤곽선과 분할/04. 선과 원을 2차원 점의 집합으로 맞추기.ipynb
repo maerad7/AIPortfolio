{
 "cells": [
  {
   "cell_type": "code",
   "execution_count": 11,
   "metadata": {},
   "outputs": [],
   "source": [
    "import cv2\n",
    "import numpy as np\n",
    "import random\n",
    "import matplotlib.pyplot as plt"
   ]
  },
  {
   "cell_type": "markdown",
   "metadata": {},
   "source": [
    "* 타원을 그리기위한 매개변수 생성"
   ]
  },
  {
   "cell_type": "code",
   "execution_count": 5,
   "metadata": {},
   "outputs": [],
   "source": [
    "img = np.full((512, 512, 3), 255, np.uint8)\n",
    "# 타원의 크기\n",
    "axes = (int(256*random.uniform(0, 1)), int(256*random.uniform(0, 1)))\n",
    "# 타원의 회전각\n",
    "angle = int(180*random.uniform(0, 1))\n",
    "center = (256, 256)"
   ]
  },
  {
   "cell_type": "markdown",
   "metadata": {},
   "source": [
    "* 타원 생성하고 노이즈를 추가한다"
   ]
  },
  {
   "cell_type": "code",
   "execution_count": 7,
   "metadata": {},
   "outputs": [],
   "source": [
    "pts = cv2.ellipse2Poly(center, axes, angle, 0, 360, 1)\n",
    "pts += np.random.uniform(-10, 10, pts.shape).astype(np.int32)"
   ]
  },
  {
   "cell_type": "markdown",
   "metadata": {},
   "source": [
    "* 선에 원을 추가한다"
   ]
  },
  {
   "cell_type": "code",
   "execution_count": 10,
   "metadata": {},
   "outputs": [],
   "source": [
    "cv2.ellipse(img, center, axes, angle, 0, 360, (0, 255, 0), 3)\n",
    "\n",
    "for pt in pts:\n",
    "    cv2.circle(img, (int(pt[0]), int(pt[1])), 3, (0, 0, 255))\n",
    "\n",
    "cv2.imshow('Fit ellipse', img)\n",
    "cv2.waitKey()\n",
    "cv2.destroyAllWindows()"
   ]
  },
  {
   "cell_type": "code",
   "execution_count": 12,
   "metadata": {},
   "outputs": [
    {
     "data": {
      "text/plain": [
       "<matplotlib.image.AxesImage at 0x275e1ea99b0>"
      ]
     },
     "execution_count": 12,
     "metadata": {},
     "output_type": "execute_result"
    },
    {
     "data": {
      "image/png": "[encoded data removed]",
      "text/plain": [
       "<Figure size 432x288 with 1 Axes>"
      ]
     },
     "metadata": {
      "needs_background": "light"
     },
     "output_type": "display_data"
    }
   ],
   "source": [
    "plt.imshow(img)"
   ]
  },
  {
   "cell_type": "markdown",
   "metadata": {},
   "source": [
    "* 노이즈인 점들의 집합을 타원으로 연결한다."
   ]
  },
  {
   "cell_type": "code",
   "execution_count": 13,
   "metadata": {},
   "outputs": [],
   "source": [
    "ellipse = cv2.fitEllipse(pts)\n",
    "cv2.ellipse(img, ellipse, (0, 0, 0), 3)\n",
    "\n",
    "cv2.imshow('Fit ellipse', img)\n",
    "cv2.waitKey()\n",
    "cv2.destroyAllWindows()"
   ]
  },
  {
   "cell_type": "markdown",
   "metadata": {},
   "source": [
    "* fitEllipse - > 중심점,반축길이,회전각도 리턴"
   ]
  },
  {
   "cell_type": "code",
   "execution_count": 18,
   "metadata": {},
   "outputs": [
    {
     "data": {
      "text/plain": [
       "((256.0308837890625, 256.08038330078125),\n",
       " (217.12765502929688, 421.9125061035156),\n",
       " 168.14791870117188)"
      ]
     },
     "execution_count": 18,
     "metadata": {},
     "output_type": "execute_result"
    }
   ],
   "source": [
    "ellipse"
   ]
  },
  {
   "cell_type": "code",
   "execution_count": 15,
   "metadata": {},
   "outputs": [],
   "source": [
    "img = np.full((512, 512, 3), 255, np.uint8)\n",
    "\n",
    "pts = np.arange(512).reshape(-1, 1)\n",
    "pts = np.hstack((pts, pts))\n",
    "pts += np.random.uniform(-10, 10, pts.shape).astype(np.int32)"
   ]
  },
  {
   "cell_type": "code",
   "execution_count": 16,
   "metadata": {},
   "outputs": [],
   "source": [
    "cv2.line(img, (0,0), (512, 512), (0, 255, 0), 3)\n",
    "\n",
    "for pt in pts:\n",
    "    cv2.circle(img, (int(pt[0]), int(pt[1])), 3, (0, 0, 255))\n",
    "\n",
    "cv2.imshow('Fit line', img)\n",
    "cv2.waitKey()\n",
    "cv2.destroyAllWindows()"
   ]
  },
  {
   "cell_type": "markdown",
   "metadata": {},
   "source": [
    "* cv2.fitLine -> 파라미터 : 점의 집합, 최소화를 위한 거리함수 타입,거리함수 제어할 값, 직선 계수에 대한 허용정확도"
   ]
  },
  {
   "cell_type": "code",
   "execution_count": 17,
   "metadata": {},
   "outputs": [],
   "source": [
    "vx,vy,x,y = cv2.fitLine(pts, cv2.DIST_L2, 0, 0.01, 0.01)\n",
    "y0 = int(y - x*vy/vx)\n",
    "y1 = int((512 - x)*vy/vx + y)\n",
    "cv2.line(img, (0, y0), (512, y1), (0, 0, 0), 3)\n",
    "\n",
    "cv2.imshow('Fit line', img)\n",
    "cv2.waitKey()\n",
    "cv2.destroyAllWindows()"
   ]
  }
 ],
 "metadata": {
  "kernelspec": {
   "display_name": "Python 3",
   "language": "python",
   "name": "python3"
  },
  "language_info": {
   "codemirror_mode": {
    "name": "ipython",
    "version": 3
   },
   "file_extension": ".py",
   "mimetype": "text/x-python",
   "name": "python",
   "nbconvert_exporter": "python",
   "pygments_lexer": "ipython3",
   "version": "3.6.8"
  }
 },
 "nbformat": 4,
 "nbformat_minor": 2
}
