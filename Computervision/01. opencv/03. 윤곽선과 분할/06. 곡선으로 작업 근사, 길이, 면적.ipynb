{
 "cells": [
  {
   "cell_type": "code",
   "execution_count": 2,
   "metadata": {},
   "outputs": [],
   "source": [
    "import cv2, random\n",
    "import numpy as np\n",
    "import matplotlib.pyplot as plt"
   ]
  },
  {
   "cell_type": "code",
   "execution_count": 3,
   "metadata": {},
   "outputs": [],
   "source": [
    "img = cv2.imread('../data/bw.png', cv2.IMREAD_GRAYSCALE)"
   ]
  },
  {
   "cell_type": "markdown",
   "metadata": {},
   "source": [
    "* 이미지의 윤곽선을 찾아 표시"
   ]
  },
  {
   "cell_type": "code",
   "execution_count": 4,
   "metadata": {},
   "outputs": [],
   "source": [
    "contours, hierarchy = cv2.findContours(img, cv2.RETR_TREE, cv2.CHAIN_APPROX_SIMPLE)\n",
    "\n",
    "color = cv2.cvtColor(img, cv2.COLOR_GRAY2BGR)\n",
    "# -1 : 모든 외곽선 그리기\n",
    "cv2.drawContours(color, contours, -1, (0,255,0), 3)\n",
    "\n",
    "cv2.imshow('contours', color)\n",
    "cv2.waitKey()\n",
    "cv2.destroyAllWindows()"
   ]
  },
  {
   "cell_type": "code",
   "execution_count": 5,
   "metadata": {},
   "outputs": [
    {
     "data": {
      "text/plain": [
       "<matplotlib.image.AxesImage at 0x25ff6e92f60>"
      ]
     },
     "execution_count": 5,
     "metadata": {},
     "output_type": "execute_result"
    },
    {
     "data": {
      "image/png": "[encoded data removed]",
      "text/plain": [
       "<Figure size 432x288 with 1 Axes>"
      ]
     },
     "metadata": {
      "needs_background": "light"
     },
     "output_type": "display_data"
    }
   ],
   "source": [
    "plt.imshow(color)"
   ]
  },
  {
   "cell_type": "markdown",
   "metadata": {},
   "source": [
    "* 면적구하기"
   ]
  },
  {
   "cell_type": "markdown",
   "metadata": {},
   "source": [
    "* true일때는 부호가 있는 면적 아닐때는 부호가 없는 면적을 구함"
   ]
  },
  {
   "cell_type": "code",
   "execution_count": 6,
   "metadata": {},
   "outputs": [
    {
     "name": "stdout",
     "output_type": "stream",
     "text": [
      "Area of contour is 47474.00\n",
      "Signed area of contour is -47474.00\n",
      "Signed area of contour is 47474.00\n"
     ]
    }
   ],
   "source": [
    "contour = contours[0]\n",
    "\n",
    "print('Area of contour is %.2f' % cv2.contourArea(contour))\n",
    "print('Signed area of contour is %.2f' % cv2.contourArea(contour, True))\n",
    "print('Signed area of contour is %.2f' % cv2.contourArea(contour[::-1], True))"
   ]
  },
  {
   "cell_type": "markdown",
   "metadata": {},
   "source": [
    "* 컨투어의 둘레는 arcLength()함수로 구할 수 있다. 두번째 파라미터인 2번째 파라미터의 의미는 폐곡선의 여부로, 설정한 값이 True 일 때는 컨투어의 시작점과 끝점을 이어 도형을 구성하고 그 둘레 값을 계산한다. False인 경우 시작점과 끝점을 잇지 않고 둘레를 계산한다"
   ]
  },
  {
   "cell_type": "code",
   "execution_count": 7,
   "metadata": {},
   "outputs": [
    {
     "name": "stdout",
     "output_type": "stream",
     "text": [
      "Length of closed contour is 1905.29\n",
      "Length of open contour is 1897.29\n"
     ]
    }
   ],
   "source": [
    "print('Length of closed contour is %.2f' % cv2.arcLength(contour, True))\n",
    "print('Length of open contour is %.2f' % cv2.arcLength(contour, False))"
   ]
  },
  {
   "cell_type": "markdown",
   "metadata": {},
   "source": [
    "* 윤곽선의 볼록외피를 찾아 이미지에 표시"
   ]
  },
  {
   "cell_type": "code",
   "execution_count": 8,
   "metadata": {},
   "outputs": [],
   "source": [
    "hull = cv2.convexHull(contour)\n",
    "cv2.drawContours(color, [hull], -1, (0,0,255), 3)\n",
    "\n",
    "cv2.imshow('contours', color)\n",
    "cv2.waitKey()\n",
    "cv2.destroyAllWindows()"
   ]
  },
  {
   "cell_type": "code",
   "execution_count": 9,
   "metadata": {},
   "outputs": [
    {
     "data": {
      "text/plain": [
       "<matplotlib.image.AxesImage at 0x25ff6f36320>"
      ]
     },
     "execution_count": 9,
     "metadata": {},
     "output_type": "execute_result"
    },
    {
     "data": {
      "image/png": "[encoded data removed]",
      "text/plain": [
       "<Figure size 432x288 with 1 Axes>"
      ]
     },
     "metadata": {
      "needs_background": "light"
     },
     "output_type": "display_data"
    }
   ],
   "source": [
    "plt.imshow(color)"
   ]
  },
  {
   "cell_type": "markdown",
   "metadata": {},
   "source": [
    "* 볼록외피 존재 유무 판단"
   ]
  },
  {
   "cell_type": "code",
   "execution_count": 10,
   "metadata": {},
   "outputs": [
    {
     "name": "stdout",
     "output_type": "stream",
     "text": [
      "Convex status of contour is False\n",
      "Convex status of its hull is True\n"
     ]
    }
   ],
   "source": [
    "print('Convex status of contour is %s' % cv2.isContourConvex(contour))\n",
    "print('Convex status of its hull is %s' % cv2.isContourConvex(hull))"
   ]
  },
  {
   "cell_type": "markdown",
   "metadata": {},
   "source": [
    "* 윤곽선 근사값에 대한 트랙바 생성, 근사된 윤곽선 출력 화면에 표시"
   ]
  },
  {
   "cell_type": "markdown",
   "metadata": {},
   "source": [
    "* approxPolyDP : 인자로 주어진 곡선 또는 다각형을 입실론 값에 따라 꼭지점수를 줄여 새로운 곡선이나 다각형을 생성하여 리턴한다."
   ]
  },
  {
   "cell_type": "code",
   "execution_count": 12,
   "metadata": {},
   "outputs": [],
   "source": [
    "cv2.namedWindow('contours')\n",
    "\n",
    "img = np.copy(color)\n",
    "\n",
    "def trackbar_callback(value):\n",
    "    global img\n",
    "    epsilon = value*cv2.arcLength(contour, True)*0.1/255\n",
    "    #Ramer-Douglas-Peucker 알고리즘\n",
    "    approx = cv2.approxPolyDP(contour, epsilon, True)\n",
    "    img = np.copy(color)\n",
    "    cv2.drawContours(img, [approx], -1, (255,0,255), 3)\n",
    "\n",
    "cv2.createTrackbar('Epsilon', 'contours', 1, 255, lambda v: trackbar_callback(v))\n",
    "while True:\n",
    "    cv2.imshow('contours', img)\n",
    "    key = cv2.waitKey(3)\n",
    "    if key == 27: \n",
    "        break\n",
    "\n",
    "cv2.destroyAllWindows()"
   ]
  }
 ],
 "metadata": {
  "kernelspec": {
   "display_name": "Python 3",
   "language": "python",
   "name": "python3"
  },
  "language_info": {
   "codemirror_mode": {
    "name": "ipython",
    "version": 3
   },
   "file_extension": ".py",
   "mimetype": "text/x-python",
   "name": "python",
   "nbconvert_exporter": "python",
   "pygments_lexer": "ipython3",
   "version": "3.6.8"
  }
 },
 "nbformat": 4,
 "nbformat_minor": 2
}
