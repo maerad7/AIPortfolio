{
 "cells": [
  {
   "cell_type": "markdown",
   "metadata": {},
   "source": [
    "# 이미지분할 다른부분과 밝기가 비슷할때 사용(밝은 부분과 어두운 부분 분리할때는 성능이 좋지 않다)"
   ]
  },
  {
   "cell_type": "code",
   "execution_count": 45,
   "metadata": {},
   "outputs": [],
   "source": [
    "import cv2\n",
    "import numpy as np\n",
    "import matplotlib.pyplot as plt"
   ]
  },
  {
   "cell_type": "markdown",
   "metadata": {},
   "source": [
    "* 이미지를 열고 직사각형을 그리는 마우스 콜백함수"
   ]
  },
  {
   "cell_type": "code",
   "execution_count": 65,
   "metadata": {},
   "outputs": [],
   "source": [
    "img = cv2.imread('../data/Lena.png', cv2.IMREAD_COLOR)\n",
    "show_img = np.copy(img)\n",
    "\n",
    "mouse_pressed = False\n",
    "y = x = w = h = 0\n",
    "\n",
    "def mouse_callback(event, _x, _y, flags, param):\n",
    "    global show_img, x, y, w, h, mouse_pressed\n",
    "\n",
    "    if event == cv2.EVENT_LBUTTONDOWN:\n",
    "        mouse_pressed = True\n",
    "        x, y = _x, _y\n",
    "        show_img = np.copy(img)\n",
    "\n",
    "    elif event == cv2.EVENT_MOUSEMOVE:\n",
    "        if mouse_pressed:\n",
    "            show_img = np.copy(img)\n",
    "            cv2.rectangle(show_img, (x, y),\n",
    "                          (_x, _y), (0, 255, 0), 3)\n",
    "\n",
    "    elif event == cv2.EVENT_LBUTTONUP:\n",
    "        mouse_pressed = False\n",
    "        w, h = _x - x, _y - y"
   ]
  },
  {
   "cell_type": "markdown",
   "metadata": {},
   "source": [
    "* 이미지를 표시 -> 사각형 크롭 -> A누르면 종료"
   ]
  },
  {
   "cell_type": "code",
   "execution_count": 66,
   "metadata": {},
   "outputs": [],
   "source": [
    "cv2.namedWindow('image')\n",
    "cv2.setMouseCallback('image', mouse_callback)\n",
    "\n",
    "while True:\n",
    "    cv2.imshow('image', show_img)\n",
    "    k = cv2.waitKey(1)\n",
    "\n",
    "    if k == ord('a') and not mouse_pressed:\n",
    "        if w*h > 0:\n",
    "            break\n",
    "\n",
    "cv2.destroyAllWindows()"
   ]
  },
  {
   "cell_type": "markdown",
   "metadata": {},
   "source": [
    "* grabCut : 3채널 이미지 입력, 픽셀에 대한 초기 레이블이 있는 행렬(mask), 레이블 초깃값을 정의하는 사각형, 처리상태를 저장할 두개의 행렬, 반복횟수, 실행할 함수의 모드\n",
    "\n",
    "* 리턴값 : 레이블 행렬과 처리상태나타는 두행렬 리턴"
   ]
  },
  {
   "cell_type": "markdown",
   "metadata": {},
   "source": [
    "* cv2.GC_BGD : 픽셀이 배경에 확실히 속함 , cv2.GC_PR_BGD(배경일 가능성이 있는 픽셀), cv2.GC_PR_FGD(전경일 가능성이 있는 픽셀),cv2._FGD(픽셀이 전경에 확실히 속함)"
   ]
  },
  {
   "cell_type": "markdown",
   "metadata": {},
   "source": [
    "* cv2.GC_INIT_WITH_RECT : 세번째 인수의 사각형으로 초기의 레이블을 정의할 때 사용, 이 경우 사각형 외부의 펙셀은 cv2.bgd로 설정되고 사각형 내부의 픽셀은 cv2.fgd로 설정"
   ]
  },
  {
   "cell_type": "markdown",
   "metadata": {},
   "source": [
    "* cv2.GC_INIT_WITH_MASK : 초기의 레이블을 함수의 두번째 인수인 행렬의 값을 사용\n",
    "* cv2.GC_BGD, cv2.GC_PR_BGD, cv2.GC_PR_FGD,cv2._FGD 중 하나로 설정해야됨"
   ]
  },
  {
   "cell_type": "code",
   "execution_count": 59,
   "metadata": {},
   "outputs": [],
   "source": [
    "labels = np.zeros(img.shape[:2],np.uint8)\n",
    "\n",
    "labels, bgdModel, fgdModel = cv2.grabCut(img, labels, (x, y, w, h), None, None, 5, cv2.GC_INIT_WITH_RECT)\n",
    "\n",
    "show_img = np.copy(img)\n",
    "show_img[(labels == cv2.GC_PR_BGD)|(labels == cv2.GC_BGD)]  //= 3\n",
    "\n",
    "cv2.imshow('image', show_img)\n",
    "cv2.waitKey()\n",
    "cv2.destroyAllWindows()"
   ]
  },
  {
   "cell_type": "markdown",
   "metadata": {},
   "source": [
    "<img src=\"./grabcut1.png\">"
   ]
  },
  {
   "cell_type": "markdown",
   "metadata": {},
   "source": [
    "* grabcut알고리즘으로 분리된 전경을 수정하기 위해 흑백 선을 그리는 함수"
   ]
  },
  {
   "cell_type": "code",
   "execution_count": 54,
   "metadata": {},
   "outputs": [
    {
     "data": {
      "text/plain": [
       "(512, 512, 3)"
      ]
     },
     "execution_count": 54,
     "metadata": {},
     "output_type": "execute_result"
    }
   ],
   "source": [
    "show_img.shape"
   ]
  },
  {
   "cell_type": "code",
   "execution_count": 75,
   "metadata": {},
   "outputs": [],
   "source": [
    "label = cv2.GC_BGD\n",
    "lbl_clrs = {cv2.GC_BGD: (0,0,0), cv2.GC_FGD: (255,255,255)}\n",
    "\n",
    "def mouse_callback(event, x, y, flags, param):\n",
    "    global mouse_pressed\n",
    "\n",
    "    if event == cv2.EVENT_LBUTTONDOWN:\n",
    "        mouse_pressed = True\n",
    "        cv2.circle(labels, (x, y), 5, label, cv2.FILLED)\n",
    "        cv2.circle(show_img, (x, y), 5, lbl_clrs[label], cv2.FILLED)\n",
    "\n",
    "    elif event == cv2.EVENT_MOUSEMOVE:\n",
    "        if mouse_pressed:\n",
    "            cv2.circle(labels, (x, y), 5, label, cv2.FILLED)\n",
    "            cv2.circle(show_img, (x, y), 5, lbl_clrs[label], cv2.FILLED)\n",
    "\n",
    "    elif event == cv2.EVENT_LBUTTONUP:\n",
    "        mouse_pressed = False"
   ]
  },
  {
   "cell_type": "code",
   "execution_count": 77,
   "metadata": {},
   "outputs": [],
   "source": [
    "cv2.namedWindow('image')\n",
    "cv2.setMouseCallback('image', mouse_callback)\n",
    "\n",
    "while True:\n",
    "    cv2.imshow('image', show_img)\n",
    "    k = cv2.waitKey(1)\n",
    "\n",
    "    if k == ord('a') and not mouse_pressed:\n",
    "        break\n",
    "    elif k == ord('l'):\n",
    "        label = cv2.GC_FGD - label\n",
    "\n",
    "cv2.destroyAllWindows()\n",
    "\n",
    "labels, bgdModel, fgdModel = cv2.grabCut(img, labels, None, bgdModel, fgdModel, 5, cv2.GC_INIT_WITH_MASK)\n",
    "\n",
    "show_img = np.copy(img)\n",
    "show_img[(labels == cv2.GC_PR_BGD)|(labels == cv2.GC_BGD)] //= 3\n",
    "\n",
    "cv2.imshow('image', show_img)\n",
    "cv2.waitKey()\n",
    "cv2.destroyAllWindows()"
   ]
  },
  {
   "cell_type": "markdown",
   "metadata": {},
   "source": [
    "* 다른코드(ex)"
   ]
  },
  {
   "cell_type": "code",
   "execution_count": 74,
   "metadata": {},
   "outputs": [
    {
     "data": {
      "image/png": "[encoded data removed]",
      "text/plain": [
       "<Figure size 432x288 with 2 Axes>"
      ]
     },
     "metadata": {
      "needs_background": "light"
     },
     "output_type": "display_data"
    },
    {
     "data": {
      "text/plain": [
       "(<matplotlib.image.AxesImage at 0x25b99985da0>,\n",
       " <matplotlib.colorbar.Colorbar at 0x25b999b53c8>,\n",
       " None)"
      ]
     },
     "execution_count": 74,
     "metadata": {},
     "output_type": "execute_result"
    }
   ],
   "source": [
    " \n",
    "img = cv2.imread('../data/Lena.png')\n",
    "mask = np.zeros(img.shape[:2],np.uint8)\n",
    " \n",
    "bgdModel = np.zeros((1,65),np.float64)\n",
    "fgdModel = np.zeros((1,65),np.float64)\n",
    " \n",
    "# Step 1\n",
    "rect = (50,50,450,290)\n",
    "cv2.grabCut(img,mask,rect,bgdModel,fgdModel,1,cv2.GC_INIT_WITH_RECT)\n",
    " \n",
    "# Step 2\n",
    "newmask = cv2.imread('./data/newmask2.png',0)\n",
    "mask[newmask == 0] = 0\n",
    "mask[newmask == 255] = 1\n",
    "cv2.grabCut(img,mask,None,bgdModel,fgdModel,,cv2.GC_INIT_WITH_MASK)\n",
    " \n",
    "mask2 = np.where((mask==2)|(mask==0),0,1).astype('uint8')\n",
    "img = img*mask2[:,:,np.newaxis]\n",
    "plt.imshow(img),plt.colorbar(),plt.show()"
   ]
  },
  {
   "cell_type": "code",
   "execution_count": null,
   "metadata": {},
   "outputs": [],
   "source": []
  }
 ],
 "metadata": {
  "kernelspec": {
   "display_name": "Python 3",
   "language": "python",
   "name": "python3"
  },
  "language_info": {
   "codemirror_mode": {
    "name": "ipython",
    "version": 3
   },
   "file_extension": ".py",
   "mimetype": "text/x-python",
   "name": "python",
   "nbconvert_exporter": "python",
   "pygments_lexer": "ipython3",
   "version": "3.6.8"
  }
 },
 "nbformat": 4,
 "nbformat_minor": 2
}
