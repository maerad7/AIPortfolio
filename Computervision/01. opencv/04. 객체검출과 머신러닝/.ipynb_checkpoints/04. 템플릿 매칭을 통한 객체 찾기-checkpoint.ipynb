{
 "cells": [
  {
   "cell_type": "code",
   "execution_count": 12,
   "metadata": {},
   "outputs": [],
   "source": [
    "import cv2\n",
    "import numpy as np"
   ]
  },
  {
   "cell_type": "code",
   "execution_count": 13,
   "metadata": {},
   "outputs": [],
   "source": [
    "img = cv2.imread('../data/Lena.png', cv2.IMREAD_COLOR)\n",
    "show_img = np.copy(img)\n",
    "\n",
    "mouse_pressed = False\n",
    "y = x = w = h = 0\n",
    "\n",
    "def mouse_callback(event, _x, _y, flags, param):\n",
    "    global show_img, x, y, w, h, mouse_pressed\n",
    "\n",
    "    if event == cv2.EVENT_LBUTTONDOWN:\n",
    "        mouse_pressed = True\n",
    "        x, y = _x, _y\n",
    "        show_img = np.copy(img)\n",
    "\n",
    "    elif event == cv2.EVENT_MOUSEMOVE:\n",
    "        if mouse_pressed:\n",
    "            show_img = np.copy(img)\n",
    "            cv2.rectangle(show_img, (x, y),\n",
    "                          (_x, _y), (0, 255, 0), 2)\n",
    "\n",
    "    elif event == cv2.EVENT_LBUTTONUP:\n",
    "        mouse_pressed = False\n",
    "        w, h = _x - x, _y - y"
   ]
  },
  {
   "cell_type": "code",
   "execution_count": 14,
   "metadata": {},
   "outputs": [],
   "source": [
    "cv2.namedWindow('image')\n",
    "cv2.setMouseCallback('image', mouse_callback)\n",
    "\n",
    "while True:\n",
    "    cv2.imshow('image', show_img)\n",
    "    k = cv2.waitKey(1)\n",
    "\n",
    "    if k == ord('a') and not mouse_pressed:\n",
    "        if w*h > 0:\n",
    "            break\n",
    "\n",
    "cv2.destroyAllWindows()\n",
    "\n",
    "template = np.copy(img[y:y+h, x:x+w])"
   ]
  },
  {
   "cell_type": "markdown",
   "metadata": {},
   "source": [
    "* cv2.matchTemplate : 템플릿과 유사한 이미지 영역을 찾기위해 사용된다. \n",
    "\n",
    "* 리턴 값 : (W-w+1,H-h+1) 대문자 입력이미지의 차원 소문자 템플릿의 차원"
   ]
  },
  {
   "cell_type": "markdown",
   "metadata": {},
   "source": [
    "TM_CCOEFF : 유사도 측정과 같은 상관계수(값이 클수록 유사도가 큼)\n",
    "\n",
    "TM_CCORR : 교차상관연산 이미지 비교\n",
    "\n",
    "TM_SQDIFF : 영역과 템플릿 차이에 제곱한 값 사용 (값이 작을수록 좋음)"
   ]
  },
  {
   "cell_type": "code",
   "execution_count": null,
   "metadata": {},
   "outputs": [],
   "source": []
  },
  {
   "cell_type": "code",
   "execution_count": 20,
   "metadata": {},
   "outputs": [],
   "source": [
    "res = cv2.matchTemplate(img, template,1)"
   ]
  },
  {
   "cell_type": "code",
   "execution_count": 22,
   "metadata": {},
   "outputs": [
    {
     "data": {
      "text/plain": [
       "(476, 444)"
      ]
     },
     "execution_count": 22,
     "metadata": {},
     "output_type": "execute_result"
    }
   ],
   "source": [
    "res.shape"
   ]
  },
  {
   "cell_type": "code",
   "execution_count": 15,
   "metadata": {},
   "outputs": [],
   "source": [
    "methods = ['cv2.TM_CCOEFF', 'cv2.TM_CCOEFF_NORMED', 'cv2.TM_CCORR',\n",
    "            'cv2.TM_CCORR_NORMED', 'cv2.TM_SQDIFF', 'cv2.TM_SQDIFF_NORMED']\n",
    "\n",
    "show_img = np.copy(img)\n",
    "\n",
    "while True:\n",
    "    cv2.imshow('image', show_img)\n",
    "    k = cv2.waitKey()\n",
    "\n",
    "    if k == 27:\n",
    "        break\n",
    "    elif k > 0 and chr(k).isdigit():\n",
    "        index = int(chr(k))\n",
    "        if 0 <= index < len(methods):\n",
    "            method = methods[index]\n",
    "            \n",
    "            res = cv2.matchTemplate(img, template, eval(method))\n",
    "            \n",
    "            res = cv2.normalize(res, None, 0, 1, cv2.NORM_MINMAX)\n",
    "            \n",
    "            if index >= methods.index('cv2.TM_SQDIFF'):\n",
    "                loc = np.where(res < 0.01)\n",
    "            else:\n",
    "                loc = np.where(res > 0.99)\n",
    "            \n",
    "            show_img = np.copy(img)\n",
    "            for pt in zip(*loc[::-1]):\n",
    "                cv2.rectangle(show_img, pt, (pt[0] + w, pt[1] + h), \n",
    "                              (0, 0, 255), 2)\n",
    "            \n",
    "            res = cv2.resize(res, show_img.shape[:2])*255\n",
    "            res = cv2.cvtColor(res, cv2.COLOR_GRAY2BGR).astype(np.uint8)\n",
    "            cv2.putText(res, method, (0, 30), cv2.FONT_HERSHEY_SIMPLEX, \n",
    "                        1, (0, 0, 255), 3)\n",
    "            \n",
    "            show_img = np.hstack((show_img, res))\n",
    "\n",
    "cv2.destroyAllWindows()"
   ]
  },
  {
   "cell_type": "markdown",
   "metadata": {},
   "source": [
    "<img src=\"temp.png\">"
   ]
  },
  {
   "cell_type": "code",
   "execution_count": null,
   "metadata": {},
   "outputs": [],
   "source": []
  }
 ],
 "metadata": {
  "kernelspec": {
   "display_name": "Python 3",
   "language": "python",
   "name": "python3"
  },
  "language_info": {
   "codemirror_mode": {
    "name": "ipython",
    "version": 3
   },
   "file_extension": ".py",
   "mimetype": "text/x-python",
   "name": "python",
   "nbconvert_exporter": "python",
   "pygments_lexer": "ipython3",
   "version": "3.6.8"
  }
 },
 "nbformat": 4,
 "nbformat_minor": 2
}
