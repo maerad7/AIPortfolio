{
 "cells": [
  {
   "cell_type": "code",
   "execution_count": 14,
   "metadata": {},
   "outputs": [],
   "source": [
    "dimport cv2\n",
    "import numpy as np\n",
    "import matplotlib.pyplot as plt"
   ]
  },
  {
   "cell_type": "code",
   "execution_count": 2,
   "metadata": {},
   "outputs": [],
   "source": [
    "CELL_SIZE = 20\n",
    "NCLASSES = 10\n",
    "TRAIN_RATIO = 0.8"
   ]
  },
  {
   "cell_type": "code",
   "execution_count": 3,
   "metadata": {},
   "outputs": [],
   "source": [
    "digits_img = cv2.imread('../data/digits.png', 0)\n",
    "digits = [np.hsplit(r, digits_img.shape[1] // CELL_SIZE) \n",
    "          for r in np.vsplit(digits_img, digits_img.shape[0] // CELL_SIZE)]\n",
    "digits = np.array(digits).reshape(-1, CELL_SIZE, CELL_SIZE)\n",
    "nsamples = digits.shape[0]\n",
    "labels = np.repeat(np.arange(NCLASSES), nsamples // NCLASSES)"
   ]
  },
  {
   "cell_type": "code",
   "execution_count": 4,
   "metadata": {},
   "outputs": [],
   "source": [
    "for i in range(nsamples):\n",
    "    m = cv2.moments(digits[i])\n",
    "    if m['mu02'] > 1e-3:\n",
    "        s = m['mu11'] / m['mu02']\n",
    "        M = np.float32([[1, -s, 0.5*CELL_SIZE*s], \n",
    "                        [0, 1, 0]])\n",
    "        digits[i] = cv2.warpAffine(digits[i], M, (CELL_SIZE, CELL_SIZE))"
   ]
  },
  {
   "cell_type": "code",
   "execution_count": 5,
   "metadata": {},
   "outputs": [],
   "source": [
    "perm = np.random.permutation(nsamples)\n",
    "digits = digits[perm]\n",
    "labels = labels[perm]"
   ]
  },
  {
   "cell_type": "code",
   "execution_count": 6,
   "metadata": {},
   "outputs": [],
   "source": [
    "ntrain = int(TRAIN_RATIO * nsamples)\n",
    "ntest = nsamples - ntrain"
   ]
  },
  {
   "cell_type": "markdown",
   "metadata": {},
   "source": [
    "- win_size : 탐지 윈도우 사이즈\n",
    "\n",
    "- block_size : 픽셀에서의 블록 사이즈 , 현재 (16,16) 만 지원됨\n",
    "\n",
    "- block_stride : 블록의 보폭, 셀 크기의 배수여야 함  \n",
    "\n",
    "- cell_size : 셀 사이즈\n",
    "\n",
    "- nbins : bin의 갯수, 현재 9 bin 만 지원됨\n",
    "\n",
    "\n",
    "\n",
    "출처: https://eehoeskrap.tistory.com/122 "
   ]
  },
  {
   "cell_type": "code",
   "execution_count": 7,
   "metadata": {},
   "outputs": [],
   "source": [
    "def calc_hog(digits):\n",
    "    win_size = (20, 20)\n",
    "    block_size = (10, 10)\n",
    "    block_stride = (10, 10)\n",
    "    cell_size = (10, 10)\n",
    "    nbins = 9\n",
    "    hog = cv2.HOGDescriptor(win_size, block_size, block_stride, cell_size, nbins)\n",
    "    samples = []\n",
    "    for d in digits: samples.append(hog.compute(d))\n",
    "    return np.array(samples, np.float32)"
   ]
  },
  {
   "cell_type": "code",
   "execution_count": 8,
   "metadata": {},
   "outputs": [],
   "source": [
    "fea_hog_train = calc_hog(digits[:ntrain])\n",
    "fea_hog_test = calc_hog(digits[ntrain:])\n",
    "labels_train, labels_test = labels[:ntrain], labels[ntrain:]"
   ]
  },
  {
   "cell_type": "code",
   "execution_count": 9,
   "metadata": {},
   "outputs": [
    {
     "data": {
      "text/plain": [
       "True"
      ]
     },
     "execution_count": 9,
     "metadata": {},
     "output_type": "execute_result"
    }
   ],
   "source": [
    "K = 3\n",
    "knn_model = cv2.ml.KNearest_create()\n",
    "knn_model.train(fea_hog_train, cv2.ml.ROW_SAMPLE, labels_train)"
   ]
  },
  {
   "cell_type": "code",
   "execution_count": 10,
   "metadata": {},
   "outputs": [
    {
     "data": {
      "text/plain": [
       "True"
      ]
     },
     "execution_count": 10,
     "metadata": {},
     "output_type": "execute_result"
    }
   ],
   "source": [
    "svm_model = cv2.ml.SVM_create()\n",
    "svm_model.setGamma(2)\n",
    "svm_model.setC(1)\n",
    "svm_model.setKernel(cv2.ml.SVM_RBF)\n",
    "svm_model.setType(cv2.ml.SVM_C_SVC)\n",
    "svm_model.train(fea_hog_train, cv2.ml.ROW_SAMPLE, labels_train)"
   ]
  },
  {
   "cell_type": "code",
   "execution_count": 11,
   "metadata": {},
   "outputs": [],
   "source": [
    "def eval_model(fea, labels, fpred):\n",
    "    pred = fpred(fea).astype(np.int32)\n",
    "    acc = (pred.T == labels).mean()*100\n",
    "    \n",
    "    conf_mat = np.zeros((NCLASSES, NCLASSES), np.int32)\n",
    "    for c_gt, c_pred in zip(labels, pred):\n",
    "        conf_mat[c_gt, c_pred] += 1\n",
    "    \n",
    "    return acc, conf_mat"
   ]
  },
  {
   "cell_type": "code",
   "execution_count": 12,
   "metadata": {},
   "outputs": [
    {
     "name": "stdout",
     "output_type": "stream",
     "text": [
      "KNN accuracy (%): 91.8\n",
      "KNN confusion matrix:\n",
      "[[100   0   0   0   0   0   1   0   0   0]\n",
      " [  0  89   2   0   1   0   0   0   0   0]\n",
      " [  0   0  96   3   0   0   0   0   1   0]\n",
      " [  1   0   1  99   1   3   0   1   2   0]\n",
      " [  2   0   3   6  90   0   5   1   1   6]\n",
      " [  0   0   0   2   1  93   1   1   3   2]\n",
      " [  1   0   1   0   0   0 102   0   1   0]\n",
      " [  0   2   2   5   0   1   0  72   0   3]\n",
      " [  1   0   0   2   1   2   0   0 101   0]\n",
      " [  1   0   2   2   2   0   0   0   2  76]]\n"
     ]
    }
   ],
   "source": [
    "knn_acc, knn_conf_mat = eval_model(fea_hog_test, labels_test, lambda fea: knn_model.findNearest(fea, K)[1])\n",
    "print('KNN accuracy (%):', knn_acc)\n",
    "print('KNN confusion matrix:')\n",
    "print(knn_conf_mat)"
   ]
  },
  {
   "cell_type": "code",
   "execution_count": 13,
   "metadata": {},
   "outputs": [
    {
     "name": "stdout",
     "output_type": "stream",
     "text": [
      "SVM accuracy (%): 94.6\n",
      "SVM confusion matrix:\n",
      "[[ 98   0   0   0   0   0   2   0   0   1]\n",
      " [  0  90   0   0   2   0   0   0   0   0]\n",
      " [  0   0  94   2   2   0   0   2   0   0]\n",
      " [  0   0   2 103   0   2   0   1   0   0]\n",
      " [  1   0   1   1 103   0   3   2   0   3]\n",
      " [  0   0   0   1   0  99   0   2   1   0]\n",
      " [  0   0   1   0   0   0 103   0   1   0]\n",
      " [  0   1   2   0   0   2   0  77   0   3]\n",
      " [  1   0   0   1   2   2   0   0 101   0]\n",
      " [  0   0   0   1   3   0   0   0   3  78]]\n"
     ]
    }
   ],
   "source": [
    "svm_acc, svm_conf_mat = eval_model(fea_hog_test, labels_test, lambda fea: svm_model.predict(fea)[1])\n",
    "print('SVM accuracy (%):', svm_acc)\n",
    "print('SVM confusion matrix:')\n",
    "print(svm_conf_mat)"
   ]
  },
  {
   "cell_type": "code",
   "execution_count": null,
   "metadata": {},
   "outputs": [],
   "source": []
  }
 ],
 "metadata": {
  "kernelspec": {
   "display_name": "Python 3",
   "language": "python",
   "name": "python3"
  },
  "language_info": {
   "codemirror_mode": {
    "name": "ipython",
    "version": 3
   },
   "file_extension": ".py",
   "mimetype": "text/x-python",
   "name": "python",
   "nbconvert_exporter": "python",
   "pygments_lexer": "ipython3",
   "version": "3.6.8"
  }
 },
 "nbformat": 4,
 "nbformat_minor": 2
}
