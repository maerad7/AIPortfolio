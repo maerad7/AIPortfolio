{
 "cells": [
  {
   "cell_type": "code",
   "execution_count": 1,
   "metadata": {},
   "outputs": [],
   "source": [
    "import cv2\n",
    "import numpy as np"
   ]
  },
  {
   "cell_type": "code",
   "execution_count": 2,
   "metadata": {},
   "outputs": [
    {
     "name": "stdout",
     "output_type": "stream",
     "text": [
      "(512, 512, 3)\n"
     ]
    }
   ],
   "source": [
    "image_bgr = cv2.imread('../data/Lena.png', cv2.IMREAD_COLOR)\n",
    "print(image_bgr.shape)"
   ]
  },
  {
   "cell_type": "markdown",
   "metadata": {},
   "source": [
    "1. 이미지를 부동 소수점으로 변환\n",
    "2. BGR -> RGB\n",
    "3. 높이 너비 채널 -> 채널 너비 높이 로변환\n",
    "4. 채널 너비 높이 텐서에 배치에 포함된 이미지수 추가"
   ]
  },
  {
   "cell_type": "code",
   "execution_count": 3,
   "metadata": {},
   "outputs": [
    {
     "name": "stdout",
     "output_type": "stream",
     "text": [
      "(1, 3, 512, 512)\n"
     ]
    }
   ],
   "source": [
    "image_bgr_float = image_bgr.astype(np.float32)\n",
    "image_rgb = image_bgr_float[..., ::-1]\n",
    "tensor_chw = np.transpose(image_rgb, (2, 0, 1))\n",
    "tensor_nchw = tensor_chw[np.newaxis, ...]\n",
    "\n",
    "print(tensor_nchw.shape)"
   ]
  },
  {
   "cell_type": "code",
   "execution_count": 8,
   "metadata": {},
   "outputs": [
    {
     "data": {
      "text/plain": [
       "array([125., 137., 226.], dtype=float32)"
      ]
     },
     "execution_count": 8,
     "metadata": {},
     "output_type": "execute_result"
    }
   ],
   "source": [
    "image_bgr_float[0][0]"
   ]
  },
  {
   "cell_type": "code",
   "execution_count": 10,
   "metadata": {},
   "outputs": [
    {
     "data": {
      "text/plain": [
       "array([226., 137., 125.], dtype=float32)"
      ]
     },
     "execution_count": 10,
     "metadata": {},
     "output_type": "execute_result"
    }
   ],
   "source": [
    "image_rgb[0][0]"
   ]
  },
  {
   "cell_type": "code",
   "execution_count": null,
   "metadata": {},
   "outputs": [],
   "source": []
  },
  {
   "cell_type": "code",
   "execution_count": 15,
   "metadata": {},
   "outputs": [
    {
     "data": {
      "text/plain": [
       "(3, 512, 512)"
      ]
     },
     "execution_count": 15,
     "metadata": {},
     "output_type": "execute_result"
    }
   ],
   "source": [
    "tensor_chw.shape"
   ]
  },
  {
   "cell_type": "code",
   "execution_count": 20,
   "metadata": {},
   "outputs": [
    {
     "data": {
      "text/plain": [
       "array([[[226., 226., 223., ..., 230., 221., 200.],\n",
       "        [226., 226., 223., ..., 230., 221., 200.],\n",
       "        [226., 226., 223., ..., 230., 221., 200.],\n",
       "        ...,\n",
       "        [ 84.,  84.,  92., ..., 173., 172., 177.],\n",
       "        [ 82.,  82.,  96., ..., 179., 181., 185.],\n",
       "        [ 82.,  82.,  96., ..., 179., 181., 185.]],\n",
       "\n",
       "       [[137., 137., 137., ..., 148., 130.,  99.],\n",
       "        [137., 137., 137., ..., 148., 130.,  99.],\n",
       "        [137., 137., 137., ..., 148., 130.,  99.],\n",
       "        ...,\n",
       "        [ 18.,  18.,  27., ...,  73.,  68.,  62.],\n",
       "        [ 22.,  22.,  32., ...,  70.,  71.,  74.],\n",
       "        [ 22.,  22.,  32., ...,  70.,  71.,  74.]],\n",
       "\n",
       "       [[125., 125., 133., ..., 122., 110.,  90.],\n",
       "        [125., 125., 133., ..., 122., 110.,  90.],\n",
       "        [125., 125., 133., ..., 122., 110.,  90.],\n",
       "        ...,\n",
       "        [ 60.,  60.,  58., ...,  84.,  76.,  79.],\n",
       "        [ 57.,  57.,  62., ...,  79.,  81.,  81.],\n",
       "        [ 57.,  57.,  62., ...,  79.,  81.,  81.]]], dtype=float32)"
      ]
     },
     "execution_count": 20,
     "metadata": {},
     "output_type": "execute_result"
    }
   ],
   "source": [
    "tensor_nchw[0]"
   ]
  },
  {
   "cell_type": "code",
   "execution_count": 17,
   "metadata": {},
   "outputs": [
    {
     "data": {
      "text/plain": [
       "array([[226., 226., 223., ..., 230., 221., 200.],\n",
       "       [226., 226., 223., ..., 230., 221., 200.],\n",
       "       [226., 226., 223., ..., 230., 221., 200.],\n",
       "       ...,\n",
       "       [ 84.,  84.,  92., ..., 173., 172., 177.],\n",
       "       [ 82.,  82.,  96., ..., 179., 181., 185.],\n",
       "       [ 82.,  82.,  96., ..., 179., 181., 185.]], dtype=float32)"
      ]
     },
     "execution_count": 17,
     "metadata": {},
     "output_type": "execute_result"
    }
   ],
   "source": [
    "tensor_nchw[0][0]"
   ]
  },
  {
   "cell_type": "code",
   "execution_count": null,
   "metadata": {},
   "outputs": [],
   "source": []
  }
 ],
 "metadata": {
  "kernelspec": {
   "display_name": "Python 3",
   "language": "python",
   "name": "python3"
  },
  "language_info": {
   "codemirror_mode": {
    "name": "ipython",
    "version": 3
   },
   "file_extension": ".py",
   "mimetype": "text/x-python",
   "name": "python",
   "nbconvert_exporter": "python",
   "pygments_lexer": "ipython3",
   "version": "3.6.8"
  }
 },
 "nbformat": 4,
 "nbformat_minor": 2
}
