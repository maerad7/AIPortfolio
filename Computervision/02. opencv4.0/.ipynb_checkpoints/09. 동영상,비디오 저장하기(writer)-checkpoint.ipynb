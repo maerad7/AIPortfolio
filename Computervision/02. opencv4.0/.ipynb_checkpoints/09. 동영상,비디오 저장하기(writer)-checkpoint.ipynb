{
 "cells": [
  {
   "cell_type": "code",
   "execution_count": 1,
   "metadata": {},
   "outputs": [],
   "source": [
    "import sys\n",
    "import cv2"
   ]
  },
  {
   "cell_type": "code",
   "execution_count": 2,
   "metadata": {},
   "outputs": [],
   "source": [
    "cap = cv2.VideoCapture(0)\n",
    "\n",
    "if not cap.isOpened():\n",
    "    print(\"Camera open failed!\")\n",
    "    sys.exit()\n",
    "\n",
    "w = round(cap.get(cv2.CAP_PROP_FRAME_WIDTH))\n",
    "h = round(cap.get(cv2.CAP_PROP_FRAME_HEIGHT))\n",
    "fps = cap.get(cv2.CAP_PROP_FPS)\n",
    "\n",
    "fourcc = cv2.VideoWriter_fourcc(*'DIVX') # *'DIVX' == 'D', 'I', 'V', 'X'\n",
    "delay = round(1000 / fps)\n",
    "\n",
    "out = cv2.VideoWriter('output.avi', fourcc, fps, (w, h))"
   ]
  },
  {
   "cell_type": "code",
   "execution_count": 3,
   "metadata": {},
   "outputs": [],
   "source": [
    "if not out.isOpened():\n",
    "    print('File open failed!')\n",
    "    cap.release()\n",
    "    sys.exit()"
   ]
  },
  {
   "cell_type": "code",
   "execution_count": 4,
   "metadata": {},
   "outputs": [],
   "source": [
    "while True:\n",
    "    ret, frame = cap.read()\n",
    "\n",
    "    if not ret:\n",
    "        break\n",
    "\n",
    "    inversed = ~frame\n",
    "\n",
    "    out.write(inversed)\n",
    "\n",
    "    cv2.imshow('frame', frame)\n",
    "    cv2.imshow('inversed', inversed)\n",
    "\n",
    "    if cv2.waitKey(delay) == 27:\n",
    "        break\n",
    "\n",
    "cap.release()\n",
    "out.release()\n",
    "cv2.destroyAllWindows()\n"
   ]
  },
  {
   "cell_type": "code",
   "execution_count": 5,
   "metadata": {},
   "outputs": [
    {
     "name": "stdout",
     "output_type": "stream",
     "text": [
      " C 드라이브의 볼륨에는 이름이 없습니다.\n",
      " 볼륨 일련 번호: F650-C7A0\n",
      "\n",
      " C:\\Users\\maerad7\\AIPortfolio\\Computervision\\02. opencv4.0 디렉터리\n",
      "\n",
      "2020-07-18  오후 09:56    <DIR>          .\n",
      "2020-07-18  오후 09:56    <DIR>          ..\n",
      "2020-07-18  오후 09:55    <DIR>          .ipynb_checkpoints\n",
      "2020-07-11  오후 04:55             3,788 01. 영상의 기초.ipynb\n",
      "2020-07-11  오후 05:26             4,762 02. 영상의 생성, 복사, 부분영상 추출.ipynb\n",
      "2020-07-18  오후 09:41             3,056 03. 영상의 속성, 픽셀 참조.ipynb\n",
      "2020-07-18  오후 09:45             2,446 04. 영상의 생성, 복사, 부분 영상 추출.ipynb\n",
      "2020-07-18  오후 09:49             2,339 05. Mask 영상을 이용한 영상 합성.ipynb\n",
      "2020-07-18  오후 09:50             1,621 06. 선과 도형 그리기.ipynb\n",
      "2020-07-18  오후 09:53             1,887 07. 카메라.ipynb\n",
      "2020-07-18  오후 09:54             2,286 08. 비디오_열기, 정보.ipynb\n",
      "2020-07-18  오후 09:56             2,136 09. 동영상,비디오 저장하기(writer).ipynb\n",
      "2020-07-11  오후 05:19    <DIR>          data\n",
      "2020-07-18  오후 09:34           152,110 jupyter.ipynb\n",
      "2020-07-18  오후 09:56         1,567,104 output.avi\n",
      "              11개 파일           1,743,535 바이트\n",
      "               4개 디렉터리   6,463,852,544 바이트 남음\n"
     ]
    }
   ],
   "source": [
    "!dir"
   ]
  }
 ],
 "metadata": {
  "kernelspec": {
   "display_name": "Python 3",
   "language": "python",
   "name": "python3"
  },
  "language_info": {
   "codemirror_mode": {
    "name": "ipython",
    "version": 3
   },
   "file_extension": ".py",
   "mimetype": "text/x-python",
   "name": "python",
   "nbconvert_exporter": "python",
   "pygments_lexer": "ipython3",
   "version": "3.6.5"
  }
 },
 "nbformat": 4,
 "nbformat_minor": 2
}
