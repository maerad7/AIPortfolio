{
 "cells": [
  {
   "cell_type": "code",
   "execution_count": 1,
   "metadata": {},
   "outputs": [],
   "source": [
    "import numpy as np\n",
    "import cv2"
   ]
  },
  {
   "cell_type": "code",
   "execution_count": 2,
   "metadata": {},
   "outputs": [],
   "source": [
    "# 새 영상 생성하기\n",
    "img1 = np.empty((240, 320), dtype=np.uint8)       # grayscale image\n",
    "img2 = np.zeros((240, 320, 3), dtype=np.uint8)    # color image\n",
    "img3 = np.ones((240, 320), dtype=np.uint8) * 255  # dark gray\n",
    "img4 = np.full((240, 320, 3), (0, 255, 255), dtype=np.uint8)  # yellow\n",
    "\n",
    "cv2.imshow('img1', img1)\n",
    "cv2.imshow('img2', img2)\n",
    "cv2.imshow('img3', img3)\n",
    "cv2.imshow('img4', img4)\n",
    "cv2.waitKey()\n",
    "cv2.destroyAllWindows()"
   ]
  },
  {
   "cell_type": "code",
   "execution_count": 4,
   "metadata": {},
   "outputs": [],
   "source": [
    "# 영상 복사\n",
    "img1 = cv2.imread('./data/HappyFish.jpg')\n",
    "http://localhost:8890/notebooks/AIPortfolio/Computervision/02.%20opencv4.0/04.%20%EC%98%81%EC%83%81%EC%9D%98%20%EC%83%9D%EC%84%B1%2C%20%EB%B3%B5%EC%82%AC%2C%20%EB%B6%80%EB%B6%84%20%EC%98%81%EC%83%81%20%EC%B6%94%EC%B6%9C.ipynb#\n",
    "img2 = img1\n",
    "img3 = img1.copy()\n",
    "\n",
    "#img1.fill(255)\n",
    "\n",
    "cv2.imshow('img1', img1)\n",
    "cv2.imshow('img2', img2)\n",
    "cv2.imshow('img3', img3)\n",
    "cv2.waitKey()\n",
    "cv2.destroyAllWindows()"
   ]
  },
  {
   "cell_type": "code",
   "execution_count": 6,
   "metadata": {},
   "outputs": [],
   "source": [
    "# 부분 영상 추출\n",
    "img1 = cv2.imread('./data/HappyFish.jpg')\n",
    "\n",
    "img2 = img1[40:120, 30:150]  # numpy.ndarray의 슬라이싱\n",
    "img3 = img1[40:120, 30:150].copy()\n",
    "\n",
    "img2.fill(0)\n",
    "\n",
    "cv2.imshow('img1', img1)\n",
    "cv2.imshow('img2', img2)\n",
    "cv2.imshow('img3', img3)\n",
    "cv2.waitKey()\n",
    "cv2.destroyAllWindows()"
   ]
  }
 ],
 "metadata": {
  "kernelspec": {
   "display_name": "Python 3",
   "language": "python",
   "name": "python3"
  },
  "language_info": {
   "codemirror_mode": {
    "name": "ipython",
    "version": 3
   },
   "file_extension": ".py",
   "mimetype": "text/x-python",
   "name": "python",
   "nbconvert_exporter": "python",
   "pygments_lexer": "ipython3",
   "version": "3.6.5"
  }
 },
 "nbformat": 4,
 "nbformat_minor": 2
}
