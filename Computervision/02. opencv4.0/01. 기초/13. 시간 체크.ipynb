{
 "cells": [
  {
   "cell_type": "code",
   "execution_count": 1,
   "metadata": {},
   "outputs": [],
   "source": [
    "import sys\n",
    "import time\n",
    "import numpy as np\n",
    "import cv2"
   ]
  },
  {
   "cell_type": "code",
   "execution_count": 4,
   "metadata": {},
   "outputs": [
    {
     "name": "stdout",
     "output_type": "stream",
     "text": [
      "time: 214.8764133453369\n",
      "Elapsed time: 214.8213217002177ms\n"
     ]
    }
   ],
   "source": [
    "img = cv2.imread('./data/hongkong.jpg')\n",
    "tm = cv2.TickMeter()\n",
    "\n",
    "tm.reset()\n",
    "tm.start()\n",
    "t1 = time.time()\n",
    "\n",
    "edge = cv2.Canny(img , 50, 150)\n",
    "tm.stop()\n",
    "\n",
    "print('time: {}'.format((time.time()-t1)*1000))\n",
    "print('Elapsed time: {}ms'.format(tm.getTimeMilli()))"
   ]
  }
 ],
 "metadata": {
  "kernelspec": {
   "display_name": "Python 3",
   "language": "python",
   "name": "python3"
  },
  "language_info": {
   "codemirror_mode": {
    "name": "ipython",
    "version": 3
   },
   "file_extension": ".py",
   "mimetype": "text/x-python",
   "name": "python",
   "nbconvert_exporter": "python",
   "pygments_lexer": "ipython3",
   "version": "3.6.5"
  }
 },
 "nbformat": 4,
 "nbformat_minor": 2
}
