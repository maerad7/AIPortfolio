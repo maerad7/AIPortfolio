{
 "cells": [
  {
   "cell_type": "code",
   "execution_count": 1,
   "metadata": {},
   "outputs": [],
   "source": [
    "import sys\n",
    "import numpy as np\n",
    "import cv2"
   ]
  },
  {
   "cell_type": "code",
   "execution_count": 2,
   "metadata": {},
   "outputs": [],
   "source": [
    "oldx = oldy = -1"
   ]
  },
  {
   "cell_type": "code",
   "execution_count": 3,
   "metadata": {},
   "outputs": [],
   "source": [
    "def on_mouse(event, x, y, flags, param):\n",
    "    global oldx, oldy\n",
    "\n",
    "    if event == cv2.EVENT_LBUTTONDOWN:\n",
    "        oldx, oldy = x, y\n",
    "        print('EVENT_LBUTTONDOWN: %d, %d' % (x, y))\n",
    "\n",
    "    elif event == cv2.EVENT_LBUTTONUP:\n",
    "        print('EVENT_LBUTTONUP: %d, %d' % (x, y))\n",
    "\n",
    "    elif event == cv2.EVENT_MOUSEMOVE:\n",
    "        ## == 으로하면 다른 키랑 같이 눌렀을때 동작하지 않음\n",
    "        if flags & cv2.EVENT_FLAG_LBUTTON:\n",
    "            cv2.line(img, (oldx, oldy), (x, y), (0, 0, 255), 4, cv2.LINE_AA)\n",
    "            cv2.imshow('image', img)\n",
    "            oldx, oldy = x, y"
   ]
  },
  {
   "cell_type": "code",
   "execution_count": null,
   "metadata": {},
   "outputs": [
    {
     "name": "stdout",
     "output_type": "stream",
     "text": [
      "EVENT_LBUTTONDOWN: 296, 116\n",
      "EVENT_LBUTTONUP: 296, 116\n",
      "EVENT_LBUTTONDOWN: 292, 160\n",
      "EVENT_LBUTTONUP: 292, 166\n",
      "EVENT_LBUTTONDOWN: 292, 163\n",
      "EVENT_LBUTTONUP: 292, 163\n",
      "EVENT_LBUTTONDOWN: 354, 208\n",
      "EVENT_LBUTTONUP: 354, 208\n",
      "EVENT_LBUTTONDOWN: 420, 174\n",
      "EVENT_LBUTTONUP: 421, 173\n",
      "EVENT_LBUTTONDOWN: 252, 184\n",
      "EVENT_LBUTTONUP: 366, 274\n",
      "EVENT_LBUTTONDOWN: 461, 161\n",
      "EVENT_LBUTTONUP: 292, 369\n",
      "EVENT_LBUTTONDOWN: 250, 211\n",
      "EVENT_LBUTTONUP: 223, 380\n",
      "EVENT_LBUTTONDOWN: 466, 400\n",
      "EVENT_LBUTTONUP: 466, 400\n",
      "EVENT_LBUTTONUP: 466, 400\n",
      "EVENT_LBUTTONDOWN: 466, 400\n",
      "EVENT_LBUTTONUP: 466, 400\n",
      "EVENT_LBUTTONDOWN: 467, 276\n",
      "EVENT_LBUTTONUP: 468, 372\n"
     ]
    }
   ],
   "source": [
    "img = np.ones((480, 640, 3), dtype=np.uint8) * 255\n",
    "\n",
    "cv2.namedWindow('image')\n",
    "cv2.setMouseCallback('image', on_mouse, img)\n",
    "\n",
    "cv2.imshow('image', img)\n",
    "cv2.waitKey()\n",
    "\n",
    "cv2.destroyAllWindows()\n"
   ]
  },
  {
   "cell_type": "code",
   "execution_count": null,
   "metadata": {},
   "outputs": [],
   "source": []
  }
 ],
 "metadata": {
  "kernelspec": {
   "display_name": "Python 3",
   "language": "python",
   "name": "python3"
  },
  "language_info": {
   "codemirror_mode": {
    "name": "ipython",
    "version": 3
   },
   "file_extension": ".py",
   "mimetype": "text/x-python",
   "name": "python",
   "nbconvert_exporter": "python",
   "pygments_lexer": "ipython3",
   "version": "3.6.5"
  }
 },
 "nbformat": 4,
 "nbformat_minor": 2
}
