{
 "cells": [
  {
   "cell_type": "code",
   "execution_count": 1,
   "metadata": {},
   "outputs": [
    {
     "data": {
      "text/plain": [
       "'\\n대화형 매체는 텍스트, 그래픽, 애니메이션, 영상, 소리와 같은 콘텐츠를 눌러서 사용자의 동작에 반응하는 디지털 컴퓨터 기반 시스템 \\n상의 제품과 용역을 가리킨다. \\n대화식 매체, 대화형 미디어, 인터랙티브 미디어(interactive media, 상호작용하는 매체)라고도 부른다.\\n\\n'"
      ]
     },
     "execution_count": 1,
     "metadata": {},
     "output_type": "execute_result"
    }
   ],
   "source": [
    "'''\n",
    "대화형 매체는 텍스트, 그래픽, 애니메이션, 영상, 소리와 같은 콘텐츠를 눌러서 사용자의 동작에 반응하는 디지털 컴퓨터 기반 시스템 \n",
    "상의 제품과 용역을 가리킨다. \n",
    "대화식 매체, 대화형 미디어, 인터랙티브 미디어(interactive media, 상호작용하는 매체)라고도 부른다.\n",
    "\n",
    "'''"
   ]
  },
  {
   "cell_type": "code",
   "execution_count": 2,
   "metadata": {},
   "outputs": [],
   "source": [
    "import cv2\n",
    "import numpy as np\n",
    "import matplotlib.pyplot as plt"
   ]
  },
  {
   "cell_type": "code",
   "execution_count": 3,
   "metadata": {},
   "outputs": [],
   "source": [
    "img = cv2.imread('../data/Lena.png')\n",
    "img_to_show = np.copy(img)"
   ]
  },
  {
   "cell_type": "code",
   "execution_count": 4,
   "metadata": {},
   "outputs": [],
   "source": [
    "# 마우스 저장하기 위한 상태 변수\n",
    "mouse_pressed = False\n",
    "s_x = s_y = e_x = e_y = -1"
   ]
  },
  {
   "cell_type": "code",
   "execution_count": 5,
   "metadata": {},
   "outputs": [],
   "source": [
    "# 마우스 이벤트 핸들러 만들기\n",
    "def mouse_callback(event,x,y,flags,param):\n",
    "    global img_to_show, s_x,s_y,e_x,e_y,mouse_pressed\n",
    "    \n",
    "    if event == cv2.EVENT_LBUTTONDOWN:\n",
    "        mouse_pressed =  True\n",
    "        s_x,s_y = x,y\n",
    "        img_to_show = np.copy(img)\n",
    "    elif event == cv2.EVENT_MOUSEMOVE:\n",
    "        if mouse_pressed:\n",
    "            img_to_show=np.copy(img)\n",
    "            cv2.rectangle(img_to_show,(s_x,s_y),(x,y),(0,255,0),1)\n",
    "        \n",
    "    elif event == cv2.EVENT_LBUTTONUP:\n",
    "        mouse_pressed = False\n",
    "        e_x,e_y = x,y"
   ]
  },
  {
   "cell_type": "code",
   "execution_count": 6,
   "metadata": {},
   "outputs": [],
   "source": [
    "cv2.namedWindow('image')\n",
    "cv2.setMouseCallback('image',mouse_callback)"
   ]
  },
  {
   "cell_type": "code",
   "execution_count": 9,
   "metadata": {},
   "outputs": [],
   "source": [
    "# 버튼을 누르면 이미지를 자름\n",
    "while True:\n",
    "    cv2.imshow('image',img_to_show)\n",
    "    k = cv2.waitKey(1)\n",
    "    \n",
    "    if k == ord('c'):\n",
    "        if s_y > e_y:\n",
    "            s_y, e_y = e_y, s_y\n",
    "        if s_x > e_x:\n",
    "            s_x, e_x = e_x, s_x\n",
    "\n",
    "        if e_y - s_y > 1 and e_x - s_x > 0:\n",
    "            img = img[s_y:e_y, s_x:e_x]\n",
    "            img_to_show = np.copy(img)\n",
    "    elif k == 27:\n",
    "        break\n",
    "\n",
    "cv2.destroyAllWindows()"
   ]
  },
  {
   "cell_type": "code",
   "execution_count": null,
   "metadata": {},
   "outputs": [],
   "source": []
  },
  {
   "cell_type": "code",
   "execution_count": null,
   "metadata": {},
   "outputs": [],
   "source": []
  }
 ],
 "metadata": {
  "kernelspec": {
   "display_name": "Python 3",
   "language": "python",
   "name": "python3"
  },
  "language_info": {
   "codemirror_mode": {
    "name": "ipython",
    "version": 3
   },
   "file_extension": ".py",
   "mimetype": "text/x-python",
   "name": "python",
   "nbconvert_exporter": "python",
   "pygments_lexer": "ipython3",
   "version": "3.6.8"
  }
 },
 "nbformat": 4,
 "nbformat_minor": 2
}
