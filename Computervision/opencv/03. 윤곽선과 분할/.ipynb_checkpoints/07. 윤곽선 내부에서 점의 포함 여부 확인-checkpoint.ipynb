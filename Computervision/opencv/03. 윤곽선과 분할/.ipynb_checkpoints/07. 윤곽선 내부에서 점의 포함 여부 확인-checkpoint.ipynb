{
 "cells": [
  {
   "cell_type": "code",
   "execution_count": 2,
   "metadata": {},
   "outputs": [],
   "source": [
    "import cv2, random\n",
    "import numpy as np\n",
    "\n",
    "img = cv2.imread('../data/bw.png', cv2.IMREAD_GRAYSCALE)"
   ]
  },
  {
   "cell_type": "code",
   "execution_count": 3,
   "metadata": {},
   "outputs": [],
   "source": [
    "contours, hierarchy = cv2.findContours(img, cv2.RETR_TREE, cv2.CHAIN_APPROX_SIMPLE)\n",
    "\n",
    "color = cv2.cvtColor(img, cv2.COLOR_GRAY2BGR)\n",
    "cv2.drawContours(color, contours, -1, (0,255,0), 3)\n",
    "\n",
    "cv2.imshow('contours', color)\n",
    "cv2.waitKey()\n",
    "cv2.destroyAllWindows()"
   ]
  },
  {
   "cell_type": "markdown",
   "metadata": {},
   "source": [
    "* cv2.pointPolygonTest : 외곽선,점,불리언값 -> 외곽선과 점사이의 거리를 리턴"
   ]
  },
  {
   "cell_type": "code",
   "execution_count": 7,
   "metadata": {},
   "outputs": [],
   "source": [
    "contour = contours[0]\n",
    "image_to_show = np.copy(color)\n",
    "measure = True\n",
    "\n",
    "def mouse_callback(event, x, y, flags, param):    \n",
    "    global contour, image_to_show\n",
    "    \n",
    "    if event == cv2.EVENT_LBUTTONUP:\n",
    "        distance = cv2.pointPolygonTest(contour, (x,y), measure)\n",
    "        image_to_show = np.copy(color)\n",
    "        if distance > 0:\n",
    "            pt_color = (0, 255, 0)\n",
    "        elif distance < 0:\n",
    "            pt_color = (255,0, 0, ) \n",
    "        else:\n",
    "            pt_color = (128, 0, 128)\n",
    "        cv2.circle(image_to_show, (x,y), 5, pt_color, -1)\n",
    "        '''\n",
    "        cv.putText(\t\n",
    "\n",
    "                        img,   문자열을 그릴 이미지\n",
    "\n",
    "                       text,   문자열             \n",
    "\n",
    "                        org,   문자열의 왼쪽아래 좌표\n",
    "\n",
    "                   fontFace,   폰트 타입\n",
    "\n",
    "                  fontScale,   폰트 기본 크기에 곱해질 폰트 스케일 팩터(Font scale factor)\n",
    "\n",
    "                      color,   글자 색\n",
    "\n",
    "                  thickness,   디폴트값 1\n",
    "\n",
    "                   lineType,   디폴트값 cv.LINE_8(=8-connected line)\n",
    "\n",
    "           bottomLeftOrigin)   디폴트값 false\n",
    "        \n",
    "        '''\n",
    "        cv2.putText(image_to_show, '%.2f' % distance, (0, image_to_show.shape[1] - 5), \n",
    "                    cv2.FONT_HERSHEY_SIMPLEX, 1, (255, 255, 255))"
   ]
  },
  {
   "cell_type": "code",
   "execution_count": 8,
   "metadata": {},
   "outputs": [],
   "source": [
    "cv2.namedWindow('contours')\n",
    "cv2.setMouseCallback('contours', mouse_callback)\n",
    "\n",
    "while(True):\n",
    "    cv2.imshow('contours', image_to_show)\n",
    "    k = cv2.waitKey(1)\n",
    "\n",
    "    if k == ord('m'):\n",
    "        measure = not measure\n",
    "    elif k == 27:\n",
    "        break\n",
    "\n",
    "cv2.destroyAllWindows()"
   ]
  },
  {
   "cell_type": "code",
   "execution_count": null,
   "metadata": {},
   "outputs": [],
   "source": []
  }
 ],
 "metadata": {
  "kernelspec": {
   "display_name": "Python 3",
   "language": "python",
   "name": "python3"
  },
  "language_info": {
   "codemirror_mode": {
    "name": "ipython",
    "version": 3
   },
   "file_extension": ".py",
   "mimetype": "text/x-python",
   "name": "python",
   "nbconvert_exporter": "python",
   "pygments_lexer": "ipython3",
   "version": "3.6.8"
  }
 },
 "nbformat": 4,
 "nbformat_minor": 2
}
