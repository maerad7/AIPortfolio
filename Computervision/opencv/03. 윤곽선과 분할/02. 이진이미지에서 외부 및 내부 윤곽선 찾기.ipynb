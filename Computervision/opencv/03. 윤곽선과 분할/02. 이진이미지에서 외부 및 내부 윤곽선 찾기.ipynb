{
 "cells": [
  {
   "cell_type": "markdown",
   "metadata": {},
   "source": [
    "<a href=\"https://m.blog.naver.com/PostView.nhn?blogId=samsjang&logNo=220534805843&proxyReferer=https%3A%2F%2Fwww.google.com%2F\">[HIERACHCY]"
   ]
  },
  {
   "cell_type": "code",
   "execution_count": 2,
   "metadata": {},
   "outputs": [],
   "source": [
    "import cv2\n",
    "import numpy as np\n",
    "import matplotlib.pyplot as plt"
   ]
  },
  {
   "cell_type": "code",
   "execution_count": 8,
   "metadata": {},
   "outputs": [],
   "source": [
    "image = cv2.imread('../data/BnW.png', 0)"
   ]
  },
  {
   "cell_type": "markdown",
   "metadata": {},
   "source": [
    "* 컨투어란 동일한 색 또는 동일한 픽셀값(강도,intensity)을 가지고 있는 영역의 경계선을 연결한 선을 말한다 ,윤곽선, 계층 구조를 반환한다.\n",
    "* cv2.findContours(이진화 이미지, 컨투어를 찾는 방법, 컨투어를 표현하는 방법)"
   ]
  },
  {
   "cell_type": "code",
   "execution_count": 16,
   "metadata": {},
   "outputs": [],
   "source": [
    "contours, hierarchy = cv2.findContours(image, cv2.RETR_CCOMP, cv2.CHAIN_APPROX_SIMPLE)"
   ]
  },
  {
   "cell_type": "markdown",
   "metadata": {},
   "source": [
    "* cv2.drawContours()을 이용하여 검출된 윤곽선을 그린다. cv2.drawContours(이미지, [윤곽선], 윤곽선 인덱스, (B, G, R), 두께, 선형 타입)을 의의미한다."
   ]
  },
  {
   "cell_type": "code",
   "execution_count": 31,
   "metadata": {},
   "outputs": [
    {
     "data": {
      "text/plain": [
       "array([[[ 1, -1, -1, -1],\n",
       "        [-1,  0,  2, -1],\n",
       "        [ 3, -1, -1,  1],\n",
       "        [ 4,  2, -1,  1],\n",
       "        [-1,  3, -1,  1]]], dtype=int32)"
      ]
     },
     "execution_count": 31,
     "metadata": {},
     "output_type": "execute_result"
    }
   ],
   "source": [
    "hierarchy"
   ]
  },
  {
   "cell_type": "code",
   "execution_count": 45,
   "metadata": {},
   "outputs": [
    {
     "data": {
      "text/plain": [
       "1"
      ]
     },
     "execution_count": 45,
     "metadata": {},
     "output_type": "execute_result"
    }
   ],
   "source": [
    "hierarchy[0][4][3]"
   ]
  },
  {
   "cell_type": "code",
   "execution_count": 20,
   "metadata": {},
   "outputs": [],
   "source": [
    "# 외부 윤곽선 마스크\n",
    "image_external = np.zeros(image.shape, image.dtype)\n",
    "for i in range(len(contours)):\n",
    "    if hierarchy[0][i][3] == -1: # 이부분은 뭐지?\n",
    "        cv2.drawContours(image_external, contours, i, 255, -1)"
   ]
  },
  {
   "cell_type": "code",
   "execution_count": 21,
   "metadata": {},
   "outputs": [],
   "source": [
    "# 내부 윤곽선 마스크\n",
    "image_internal = np.zeros(image.shape, image.dtype)\n",
    "for i in range(len(contours)):\n",
    "    if hierarchy[0][i][3] != -1:\n",
    "        cv2.drawContours(image_internal, contours, i, 255, -1)"
   ]
  },
  {
   "cell_type": "code",
   "execution_count": 23,
   "metadata": {
    "scrolled": true
   },
   "outputs": [
    {
     "data": {
      "image/png": "[encoded data removed]",
      "text/plain": [
       "<Figure size 720x216 with 3 Axes>"
      ]
     },
     "metadata": {
      "needs_background": "light"
     },
     "output_type": "display_data"
    }
   ],
   "source": [
    "plt.figure(figsize=(10,3))\n",
    "plt.subplot(131)\n",
    "plt.axis('off')\n",
    "plt.title('original')\n",
    "plt.imshow(image, cmap='gray')\n",
    "plt.subplot(132)\n",
    "plt.axis('off')\n",
    "plt.title('external')\n",
    "plt.imshow(image_external, cmap='gray')\n",
    "plt.subplot(133)\n",
    "plt.axis('off')\n",
    "plt.title('internal')\n",
    "plt.imshow(image_internal, cmap='gray')\n",
    "plt.tight_layout()\n",
    "plt.show()"
   ]
  },
  {
   "cell_type": "markdown",
   "metadata": {},
   "source": [
    "<img src=\"contour.png\">"
   ]
  },
  {
   "cell_type": "code",
   "execution_count": null,
   "metadata": {},
   "outputs": [],
   "source": []
  }
 ],
 "metadata": {
  "kernelspec": {
   "display_name": "Python 3",
   "language": "python",
   "name": "python3"
  },
  "language_info": {
   "codemirror_mode": {
    "name": "ipython",
    "version": 3
   },
   "file_extension": ".py",
   "mimetype": "text/x-python",
   "name": "python",
   "nbconvert_exporter": "python",
   "pygments_lexer": "ipython3",
   "version": "3.6.8"
  }
 },
 "nbformat": 4,
 "nbformat_minor": 2
}
