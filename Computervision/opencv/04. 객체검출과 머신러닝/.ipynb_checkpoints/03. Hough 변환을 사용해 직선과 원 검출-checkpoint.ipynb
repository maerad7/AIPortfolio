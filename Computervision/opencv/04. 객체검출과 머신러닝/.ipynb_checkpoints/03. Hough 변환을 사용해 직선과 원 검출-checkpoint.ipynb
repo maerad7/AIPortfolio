{
 "cells": [
  {
   "cell_type": "code",
   "execution_count": 1,
   "metadata": {},
   "outputs": [],
   "source": [
    "import cv2\n",
    "import numpy as np\n",
    "import matplotlib.pyplot as plt"
   ]
  },
  {
   "cell_type": "code",
   "execution_count": 2,
   "metadata": {},
   "outputs": [],
   "source": [
    "img = np.zeros((500, 500), np.uint8)"
   ]
  },
  {
   "cell_type": "code",
   "execution_count": 3,
   "metadata": {},
   "outputs": [],
   "source": [
    "cv2.circle(img, (200, 200), 50, 255, 3)\n",
    "cv2.line(img, (100, 400), (400, 350), 255, 3);"
   ]
  },
  {
   "cell_type": "markdown",
   "metadata": {},
   "source": [
    "* HoughCircles : 입력이미지, 검출 방법, 해상도에대한 투표공간의 반비례 비율, 검출되는 원 중심사의이 최소거리,param1, param2, minRadius, maxRdius\n",
    "* param1 – 내부적으로 사용하는 canny edge 검출기에 전달되는 Paramter\n",
    "* param2 – 이 값이 작을 수록 오류가 높아짐. 크면 검출률이 낮아짐"
   ]
  },
  {
   "cell_type": "code",
   "execution_count": 4,
   "metadata": {},
   "outputs": [],
   "source": [
    "circles = cv2.HoughCircles(img, cv2.HOUGH_GRADIENT, 1, 15, param1=200, param2=30)[0]"
   ]
  },
  {
   "cell_type": "markdown",
   "metadata": {},
   "source": [
    "* HoughLinesP : 입력이미지, 직선의 거리에대한 투표 공간, 직선의 각도에대한 투표 공간, 쓰레스홀드, 최소직선 길이, 동일 직선상의 점들 사이 최대 간격\n",
    "    \n",
    "* 리턴 값: 시작점, 끝점"
   ]
  },
  {
   "cell_type": "code",
   "execution_count": 5,
   "metadata": {},
   "outputs": [],
   "source": [
    "lines = cv2.HoughLinesP(img, 1, np.pi/180, 100, 100, 10)[0]"
   ]
  },
  {
   "cell_type": "code",
   "execution_count": 8,
   "metadata": {},
   "outputs": [
    {
     "data": {
      "text/plain": [
       "array([[ 99, 401, 372, 353]], dtype=int32)"
      ]
     },
     "execution_count": 8,
     "metadata": {},
     "output_type": "execute_result"
    }
   ],
   "source": [
    "lines "
   ]
  },
  {
   "cell_type": "code",
   "execution_count": 7,
   "metadata": {},
   "outputs": [
    {
     "data": {
      "text/plain": [
       "array([[200.5, 200.5,  52.3]], dtype=float32)"
      ]
     },
     "execution_count": 7,
     "metadata": {},
     "output_type": "execute_result"
    }
   ],
   "source": [
    "circles # 중심위치, 원의 반지름"
   ]
  },
  {
   "cell_type": "code",
   "execution_count": 6,
   "metadata": {},
   "outputs": [
    {
     "name": "stdout",
     "output_type": "stream",
     "text": [
      "Detected line: (99 401) (372 353)\n",
      "Detected circle: center=(200.5 200.5), radius=52.29999923706055\n"
     ]
    },
    {
     "data": {
      "image/png": "[encoded data removed]",
      "text/plain": [
       "<Figure size 576x288 with 2 Axes>"
      ]
     },
     "metadata": {
      "needs_background": "light"
     },
     "output_type": "display_data"
    }
   ],
   "source": [
    "dbg_img = np.zeros((img.shape[0], img.shape[1], 3), np.uint8)    \n",
    "for x1, y1, x2, y2 in lines:\n",
    "    print('Detected line: ({} {}) ({} {})'.format(x1, y1, x2, y2))\n",
    "    cv2.line(dbg_img, (x1, y1), (x2, y2), (0, 255, 0), 2)    \n",
    "\n",
    "for c in circles:\n",
    "    print('Detected circle: center=({} {}), radius={}'.format(c[0], c[1], c[2]))\n",
    "    cv2.circle(dbg_img, (c[0], c[1]), c[2], (0, 255, 0), 2)\n",
    "    \n",
    "plt.figure(figsize=(8,4))\n",
    "plt.subplot(121)\n",
    "plt.title('original')\n",
    "plt.axis('off')\n",
    "plt.imshow(img, cmap='gray')\n",
    "plt.subplot(122)\n",
    "plt.title('detected primitives')\n",
    "plt.axis('off')\n",
    "plt.imshow(dbg_img)\n",
    "plt.show()"
   ]
  }
 ],
 "metadata": {
  "kernelspec": {
   "display_name": "Python 3",
   "language": "python",
   "name": "python3"
  },
  "language_info": {
   "codemirror_mode": {
    "name": "ipython",
    "version": 3
   },
   "file_extension": ".py",
   "mimetype": "text/x-python",
   "name": "python",
   "nbconvert_exporter": "python",
   "pygments_lexer": "ipython3",
   "version": "3.6.8"
  }
 },
 "nbformat": 4,
 "nbformat_minor": 2
}
