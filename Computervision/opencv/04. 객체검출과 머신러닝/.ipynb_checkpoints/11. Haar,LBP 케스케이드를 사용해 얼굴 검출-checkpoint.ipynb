{
 "cells": [
  {
   "cell_type": "code",
   "execution_count": 9,
   "metadata": {},
   "outputs": [],
   "source": [
    "import cv2\n",
    "import numpy as np"
   ]
  },
  {
   "cell_type": "code",
   "execution_count": 10,
   "metadata": {},
   "outputs": [],
   "source": [
    "def detect_faces(video_file, detector, win_title):\n",
    "    cap = cv2.VideoCapture(video_file)\n",
    "    \n",
    "    while True:\n",
    "        status_cap, frame = cap.read()\n",
    "        if not status_cap:\n",
    "            break\n",
    "\n",
    "        gray = cv2.cvtColor(frame, cv2.COLOR_BGR2GRAY)\n",
    "        \n",
    "        faces = detector.detectMultiScale(gray, 1.3, 5)\n",
    "\n",
    "        for x, y, w, h in faces:\n",
    "            cv2.rectangle(frame, (x, y), (x + w, y + h), (0, 255, 0), 3)\n",
    "            text_size, _ = cv2.getTextSize('Face', cv2.FONT_HERSHEY_SIMPLEX, 1, 2)\n",
    "            cv2.rectangle(frame, (x, y - text_size[1]), (x + text_size[0], y), (255, 255, 255), cv2.FILLED)\n",
    "            cv2.putText(frame, 'Face', (x, y), cv2.FONT_HERSHEY_SIMPLEX, 1, (0, 0, 0), 2)\n",
    "        cv2.imshow(win_title, frame)\n",
    "        \n",
    "        if cv2.waitKey(1) == 27: \n",
    "            break\n",
    "\n",
    "    cap.release()\n",
    "    cv2.destroyAllWindows()  "
   ]
  },
  {
   "cell_type": "code",
   "execution_count": 17,
   "metadata": {},
   "outputs": [],
   "source": [
    "haar_face_cascade = cv2.CascadeClassifier('../data/haarcascade_frontalface_default.xml')\n",
    "\n",
    "detect_faces('../data/faces.mp4', haar_face_cascade, 'Haar cascade face detector')"
   ]
  },
  {
   "cell_type": "code",
   "execution_count": 16,
   "metadata": {},
   "outputs": [],
   "source": [
    "lbp_face_cascade = cv2.CascadeClassifier()\n",
    "lbp_face_cascade.load('../data/lbpcascade_frontalface.xml')\n",
    "\n",
    "detect_faces(0, lbp_face_cascade, 'LBP cascade face detector')"
   ]
  },
  {
   "cell_type": "code",
   "execution_count": null,
   "metadata": {},
   "outputs": [],
   "source": []
  }
 ],
 "metadata": {
  "kernelspec": {
   "display_name": "Python 3",
   "language": "python",
   "name": "python3"
  },
  "language_info": {
   "codemirror_mode": {
    "name": "ipython",
    "version": 3
   },
   "file_extension": ".py",
   "mimetype": "text/x-python",
   "name": "python",
   "nbconvert_exporter": "python",
   "pygments_lexer": "ipython3",
   "version": "3.6.8"
  }
 },
 "nbformat": 4,
 "nbformat_minor": 2
}
