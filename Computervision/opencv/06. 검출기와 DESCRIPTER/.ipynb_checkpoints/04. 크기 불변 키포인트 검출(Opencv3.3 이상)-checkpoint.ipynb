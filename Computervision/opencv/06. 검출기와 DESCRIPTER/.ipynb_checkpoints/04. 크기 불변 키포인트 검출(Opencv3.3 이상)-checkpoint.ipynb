{
 "cells": [
  {
   "cell_type": "markdown",
   "metadata": {},
   "source": [
    "* 크기가 다른 객체 크기를 처리하고 크기가 어떻든지 객체에 대해 동일한 특징을 찾을 수 있다"
   ]
  },
  {
   "cell_type": "code",
   "execution_count": 3,
   "metadata": {},
   "outputs": [],
   "source": [
    "import cv2"
   ]
  },
  {
   "cell_type": "code",
   "execution_count": 4,
   "metadata": {},
   "outputs": [
    {
     "data": {
      "text/plain": [
       "'3.4.2'"
      ]
     },
     "execution_count": 4,
     "metadata": {},
     "output_type": "execute_result"
    }
   ],
   "source": [
    "cv2.__version__"
   ]
  },
  {
   "cell_type": "code",
   "execution_count": 5,
   "metadata": {},
   "outputs": [],
   "source": [
    "import cv2\n",
    "import numpy as np\n",
    "\n",
    "img0 = cv2.imread('../data/Lena.png', cv2.IMREAD_COLOR)\n",
    "img1 = cv2.imread('../data/Lena_rotated.png', cv2.IMREAD_COLOR)\n",
    "img1 = cv2.resize(img1, None, fx=0.75, fy=0.75)\n",
    "img1 = np.pad(img1, ((64,)*2, (64,)*2, (0,)*2), 'constant', constant_values=0)\n",
    "imgs_list = [img0, img1]"
   ]
  },
  {
   "cell_type": "markdown",
   "metadata": {},
   "source": [
    "* xfeatures2d.SIFT_create : 찾고 반환할 키포인트의 수, 다양한 크기의 피라미드가 갖는 레벨 수, 민감도 조정하는 두개의 임계값, 이미지를 섞기위한 시그마 분산 값"
   ]
  },
  {
   "cell_type": "code",
   "execution_count": 6,
   "metadata": {},
   "outputs": [],
   "source": [
    "detector = cv2.xfeatures2d.SIFT_create(50)"
   ]
  },
  {
   "cell_type": "code",
   "execution_count": 7,
   "metadata": {},
   "outputs": [],
   "source": [
    "for i in range(len(imgs_list)):\n",
    "    keypoints, descriptors = detector.detectAndCompute(imgs_list[i], None)\n",
    "        \n",
    "    imgs_list[i] = cv2.drawKeypoints(imgs_list[i], keypoints, None, (0, 255, 0),\n",
    "                                     flags=cv2.DRAW_MATCHES_FLAGS_DRAW_RICH_KEYPOINTS)\n",
    "    \n",
    "cv2.imshow('SIFT keypoints', np.hstack(imgs_list))\n",
    "cv2.waitKey()\n",
    "        \n",
    "cv2.destroyAllWindows()"
   ]
  },
  {
   "cell_type": "markdown",
   "metadata": {},
   "source": [
    "<img src=\"sift.png\">"
   ]
  },
  {
   "cell_type": "code",
   "execution_count": null,
   "metadata": {},
   "outputs": [],
   "source": []
  }
 ],
 "metadata": {
  "kernelspec": {
   "display_name": "Python 3",
   "language": "python",
   "name": "python3"
  },
  "language_info": {
   "codemirror_mode": {
    "name": "ipython",
    "version": 3
   },
   "file_extension": ".py",
   "mimetype": "text/x-python",
   "name": "python",
   "nbconvert_exporter": "python",
   "pygments_lexer": "ipython3",
   "version": "3.6.8"
  }
 },
 "nbformat": 4,
 "nbformat_minor": 2
}
