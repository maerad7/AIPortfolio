{
 "cells": [
  {
   "cell_type": "code",
   "execution_count": 2,
   "metadata": {},
   "outputs": [],
   "source": [
    "import cv2"
   ]
  },
  {
   "cell_type": "code",
   "execution_count": 3,
   "metadata": {},
   "outputs": [],
   "source": [
    "import numpy as np\n",
    "\n",
    "img = cv2.imread('../data/scenetext01.jpg', cv2.IMREAD_COLOR)"
   ]
  },
  {
   "cell_type": "markdown",
   "metadata": {},
   "source": [
    "* SURF : sift의 발전형, 블러 이미지나 회전된 이미지의 특징을 제대로 잡아내지만 뷰포인트나 조명이 달라진 상태에서 특징을 검출하지 못함\n",
    "<a href=\"https://m.blog.naver.com/PostView.nhn?blogId=samsjang&logNo=220651788585&proxyReferer=https%3A%2F%2Fwww.google.com%2F\">[SURF]"
   ]
  },
  {
   "cell_type": "code",
   "execution_count": 8,
   "metadata": {},
   "outputs": [],
   "source": [
    "surf = cv2.xfeatures2d.SURF_create(10000) # 파라미터를 크게하면 검출되는 키포인트의 수가 작아짐\n",
    "surf.setExtended(True)\n",
    "surf.setNOctaves(3)\n",
    "surf.setNOctaveLayers(10)\n",
    "surf.setUpright(False)\n",
    "\n",
    "keyPoints, descriptors = surf.detectAndCompute(img, None)\n",
    "\n",
    "show_img = cv2.drawKeypoints(img, keyPoints, None, (255, 0, 0), \n",
    "                             cv2.DRAW_MATCHES_FLAGS_DRAW_RICH_KEYPOINTS)\n",
    "\n",
    "cv2.imshow('SURF descriptors', show_img)\n",
    "cv2.waitKey()\n",
    "cv2.destroyAllWindows()"
   ]
  },
  {
   "cell_type": "markdown",
   "metadata": {},
   "source": [
    "<img src=\"surf.png\">"
   ]
  },
  {
   "cell_type": "markdown",
   "metadata": {},
   "source": [
    "* brief : 이미지 특성 디스크립터를 빠르게 계산하고 매칭하는 법( 무겁지 않고 가벼움 주로 모바일장비나 임베디드)\n",
    "<a href=\"https://m.blog.naver.com/PostView.nhn?blogId=samsjang&logNo=220656394437&proxyReferer=https%3A%2F%2Fwww.google.com%2F\">[BRIEF]"
   ]
  },
  {
   "cell_type": "code",
   "execution_count": 5,
   "metadata": {},
   "outputs": [],
   "source": [
    "brief = cv2.xfeatures2d.BriefDescriptorExtractor_create(32, True)\n",
    "\n",
    "keyPoints, descriptors = brief.compute(img, keyPoints)\n",
    "\n",
    "show_img = cv2.drawKeypoints(img, keyPoints, None, (0, 255, 0), \n",
    "                             cv2.DRAW_MATCHES_FLAGS_DRAW_RICH_KEYPOINTS)\n",
    "\n",
    "cv2.imshow('BRIEF descriptors', show_img)\n",
    "cv2.waitKey()\n",
    "cv2.destroyAllWindows()"
   ]
  },
  {
   "cell_type": "markdown",
   "metadata": {},
   "source": [
    "<img src=\"brief.png\">"
   ]
  },
  {
   "cell_type": "markdown",
   "metadata": {},
   "source": [
    "* orb : fast와 BRIEF를 혼합한 알고리즘( sift와 Surf보다 성능이 좋다), 키포인트를 찾기위해 fast사용 최상위 N개를 추출하기위해 Harris 코너 검출 사용, 크기 불변 이미지특성을 추출하기 위해 다양한 스케일의 피라미드 적용. 회전불변 특성 추출하기위해 BIREF 적용"
   ]
  },
  {
   "cell_type": "code",
   "execution_count": 9,
   "metadata": {},
   "outputs": [],
   "source": [
    "orb = cv2.ORB_create()\n",
    "\n",
    "orb.setMaxFeatures(200)\n",
    "\n",
    "keyPoints = orb.detect(img, None)\n",
    "keyPoints, descriptors = orb.compute(img, keyPoints)\n",
    "\n",
    "show_img = cv2.drawKeypoints(img, keyPoints, None, (0, 0, 255), \n",
    "                             cv2.DRAW_MATCHES_FLAGS_DRAW_RICH_KEYPOINTS)\n",
    "\n",
    "cv2.imshow('ORB descriptors', show_img)\n",
    "cv2.waitKey()\n",
    "cv2.destroyAllWindows()"
   ]
  },
  {
   "cell_type": "markdown",
   "metadata": {},
   "source": [
    "<img src=\"orb.png\">"
   ]
  },
  {
   "cell_type": "code",
   "execution_count": null,
   "metadata": {},
   "outputs": [],
   "source": []
  }
 ],
 "metadata": {
  "kernelspec": {
   "display_name": "Python 3",
   "language": "python",
   "name": "python3"
  },
  "language_info": {
   "codemirror_mode": {
    "name": "ipython",
    "version": 3
   },
   "file_extension": ".py",
   "mimetype": "text/x-python",
   "name": "python",
   "nbconvert_exporter": "python",
   "pygments_lexer": "ipython3",
   "version": "3.6.8"
  }
 },
 "nbformat": 4,
 "nbformat_minor": 2
}
