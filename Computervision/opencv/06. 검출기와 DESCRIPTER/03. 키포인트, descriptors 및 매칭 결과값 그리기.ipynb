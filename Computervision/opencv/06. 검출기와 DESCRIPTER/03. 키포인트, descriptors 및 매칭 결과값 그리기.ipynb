{
 "cells": [
  {
   "cell_type": "code",
   "execution_count": 1,
   "metadata": {},
   "outputs": [],
   "source": [
    "import cv2\n",
    "import numpy as np\n",
    "import random"
   ]
  },
  {
   "cell_type": "code",
   "execution_count": 5,
   "metadata": {},
   "outputs": [],
   "source": [
    "img = cv2.imread('../data/scenetext01.jpg', cv2.IMREAD_COLOR)\n",
    "\n",
    "fast = cv2.FastFeatureDetector_create(160, True, cv2.FAST_FEATURE_DETECTOR_TYPE_9_16)\n",
    "keyPoints = fast.detect(img)\n",
    "\n",
    "for kp in keyPoints:\n",
    "    kp.size = 100*random.random()\n",
    "    kp.angle = 360*random.random()\n",
    "\n",
    "matches = []\n",
    "for i in range(len(keyPoints)):\n",
    "    matches.append(cv2.DMatch(i, i, 1))"
   ]
  },
  {
   "cell_type": "markdown",
   "metadata": {},
   "source": [
    "* drawKeypoints : 원본 이미지, 키포인트 목록,  색상 및 프래그를 파라미터로 사용하여 이미지를 리턴함"
   ]
  },
  {
   "cell_type": "code",
   "execution_count": 3,
   "metadata": {},
   "outputs": [],
   "source": [
    "show_img = cv2.drawKeypoints(img, keyPoints, None, (255, 0, 255))\n",
    "\n",
    "cv2.imshow('Keypoints', show_img)\n",
    "cv2.waitKey()\n",
    "cv2.destroyAllWindows()"
   ]
  },
  {
   "cell_type": "markdown",
   "metadata": {},
   "source": [
    "<img src=\"key1.png\">"
   ]
  },
  {
   "cell_type": "markdown",
   "metadata": {},
   "source": [
    "* drawKeypoints : 원본 이미지, 키포인트 목록,  색상,  플래그를 파라미터로 사용하여 이미지를 리턴함\n",
    "* 원의 직경은 키포인트를 계산하는데 사용된 이웃값, 방향은 키포인트의 특정방향"
   ]
  },
  {
   "cell_type": "code",
   "execution_count": 4,
   "metadata": {},
   "outputs": [],
   "source": [
    "show_img = cv2.drawKeypoints(img, keyPoints, None, (0, 255, 0), \n",
    "                             cv2.DRAW_MATCHES_FLAGS_DRAW_RICH_KEYPOINTS)\n",
    "\n",
    "cv2.imshow('Keypoints', show_img)\n",
    "cv2.waitKey()\n",
    "cv2.destroyAllWindows()"
   ]
  },
  {
   "cell_type": "markdown",
   "metadata": {},
   "source": [
    "<img src=\"key2.png\">"
   ]
  },
  {
   "cell_type": "markdown",
   "metadata": {},
   "source": [
    "* drawMatches : 1번째이미지,키포인트,2번째 이미지 키포인트, 키포인트 일치결과 목록, 대응점 색상, 대응상태를 나타내기 위한 마스크와 플래그"
   ]
  },
  {
   "cell_type": "code",
   "execution_count": 8,
   "metadata": {},
   "outputs": [],
   "source": [
    "show_img = cv2.drawMatches(img, keyPoints, img, keyPoints, matches, None, \n",
    "                           flags=cv2.DRAW_MATCHES_FLAGS_DRAW_RICH_KEYPOINTS)\n",
    "\n",
    "cv2.imshow('Matches', show_img)\n",
    "cv2.waitKey()\n",
    "cv2.destroyAllWindows()"
   ]
  },
  {
   "cell_type": "markdown",
   "metadata": {},
   "source": [
    "<img src=\"key3.png\">"
   ]
  }
 ],
 "metadata": {
  "kernelspec": {
   "display_name": "Python 3",
   "language": "python",
   "name": "python3"
  },
  "language_info": {
   "codemirror_mode": {
    "name": "ipython",
    "version": 3
   },
   "file_extension": ".py",
   "mimetype": "text/x-python",
   "name": "python",
   "nbconvert_exporter": "python",
   "pygments_lexer": "ipython3",
   "version": "3.6.8"
  }
 },
 "nbformat": 4,
 "nbformat_minor": 2
}
