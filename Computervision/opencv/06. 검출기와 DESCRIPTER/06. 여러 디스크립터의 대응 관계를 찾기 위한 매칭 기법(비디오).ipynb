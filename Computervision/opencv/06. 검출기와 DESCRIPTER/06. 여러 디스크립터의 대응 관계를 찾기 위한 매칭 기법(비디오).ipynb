{
 "cells": [
  {
   "cell_type": "markdown",
   "metadata": {},
   "source": [
    "* 검출 및 추적 작업을 할 때 키포인트 간의 대응관계를 찾고 싶지만 포인트 자체를 비교할 수는 없다. 대신에 키포인트 디스크리벝를 사용해야만 한다. opencv에서는 다양한 매칭 기술을 사용해 대응 방법을 알 수 있다"
   ]
  },
  {
   "cell_type": "code",
   "execution_count": 1,
   "metadata": {},
   "outputs": [],
   "source": [
    "import cv2\n",
    "import numpy as np"
   ]
  },
  {
   "cell_type": "code",
   "execution_count": null,
   "metadata": {},
   "outputs": [],
   "source": [
    "* descriptormatcher : 검출과 추적모드 지원, "
   ]
  },
  {
   "cell_type": "code",
   "execution_count": 2,
   "metadata": {},
   "outputs": [],
   "source": [
    "def video_keypoints(matcher, cap=cv2.VideoCapture(\"../data/traffic.mp4\"), \n",
    "                    detector=cv2.ORB_create(40)):\n",
    "    cap.set(cv2.CAP_PROP_POS_FRAMES, 0)\n",
    "    while True:\n",
    "        status_cap, frame = cap.read()\n",
    "        frame = cv2.resize(frame, (0, 0), fx=0.5, fy=0.5)\n",
    "        if not status_cap:\n",
    "            break\n",
    "            # CAP_PROP_POS_FRAMES-> 현재프레임의 개수\n",
    "        if (cap.get(cv2.CAP_PROP_POS_FRAMES) - 1) % 40 == 0:\n",
    "            key_frame = np.copy(frame)\n",
    "            key_points_1, descriptors_1 = detector.detectAndCompute(frame, None)\n",
    "        else:\n",
    "            key_points_2, descriptors_2 = detector.detectAndCompute(frame, None)\n",
    "            matches = matcher.match(descriptors_2, descriptors_1)\n",
    "            frame = cv2.drawMatches(frame, key_points_2, key_frame, key_points_1, \n",
    "                                    matches, None, \n",
    "                                    flags=cv2.DRAW_MATCHES_FLAGS_DRAW_RICH_KEYPOINTS | \n",
    "                                    cv2.DRAW_MATCHES_FLAGS_NOT_DRAW_SINGLE_POINTS)\n",
    "        cv2.imshow('Keypoints matching', frame)\n",
    "        if cv2.waitKey(300) == 27:\n",
    "            break\n",
    "\n",
    "    cv2.destroyAllWindows()"
   ]
  },
  {
   "cell_type": "code",
   "execution_count": 3,
   "metadata": {},
   "outputs": [],
   "source": [
    "bf_matcher = cv2.BFMatcher_create(cv2.NORM_HAMMING2, True)\n",
    "video_keypoints(bf_matcher)"
   ]
  },
  {
   "cell_type": "markdown",
   "metadata": {},
   "source": [
    "<img src=\"./bfm.png\">"
   ]
  },
  {
   "cell_type": "markdown",
   "metadata": {},
   "source": [
    "* FlannBasedMatcher : 큰 이미지에서 특성들을 매칭할 때 성능을 최적하시키기위해 사용하는 라이브러리\n",
    "<a href=\"https://m.blog.naver.com/PostView.nhn?blogId=samsjang&logNo=220657746860&proxyReferer=https%3A%2F%2Fwww.google.com%2F\">[FlannBasedMatcher]"
   ]
  },
  {
   "cell_type": "code",
   "execution_count": 4,
   "metadata": {},
   "outputs": [],
   "source": [
    "flann_kd_matcher = cv2.FlannBasedMatcher()\n",
    "video_keypoints(flann_kd_matcher, detector=cv2.xfeatures2d.SURF_create(20000))"
   ]
  },
  {
   "cell_type": "markdown",
   "metadata": {},
   "source": [
    "<img src=\"./flann_kd.png\">"
   ]
  },
  {
   "cell_type": "code",
   "execution_count": 6,
   "metadata": {},
   "outputs": [],
   "source": [
    "FLANN_INDEX_LSH = 6\n",
    "index_params = dict(algorithm=FLANN_INDEX_LSH, table_number=20, key_size=15, multi_probe_level=2)\n",
    "search_params = dict(checks=10)\n",
    "\n",
    "flann_kd_matcher = cv2.FlannBasedMatcher(index_params, search_params)\n",
    "video_keypoints(flann_kd_matcher)"
   ]
  },
  {
   "cell_type": "markdown",
   "metadata": {},
   "source": [
    "<img src=\"./videoorb.png\">"
   ]
  },
  {
   "cell_type": "code",
   "execution_count": 7,
   "metadata": {},
   "outputs": [],
   "source": [
    "FLANN_INDEX_COMPOSITE = 3\n",
    "index_params = dict(algorithm=FLANN_INDEX_COMPOSITE, trees=16)\n",
    "search_params = dict(checks=10)\n",
    "\n",
    "flann_kd_matcher = cv2.FlannBasedMatcher(index_params, search_params)\n",
    "video_keypoints(flann_kd_matcher, detector=cv2.xfeatures2d.SURF_create(20000))"
   ]
  },
  {
   "cell_type": "markdown",
   "metadata": {},
   "source": [
    "<img src=\"kd.png\">"
   ]
  }
 ],
 "metadata": {
  "kernelspec": {
   "display_name": "Python 3",
   "language": "python",
   "name": "python3"
  },
  "language_info": {
   "codemirror_mode": {
    "name": "ipython",
    "version": 3
   },
   "file_extension": ".py",
   "mimetype": "text/x-python",
   "name": "python",
   "nbconvert_exporter": "python",
   "pygments_lexer": "ipython3",
   "version": "3.6.8"
  }
 },
 "nbformat": 4,
 "nbformat_minor": 2
}
