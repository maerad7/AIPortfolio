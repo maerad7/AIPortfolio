{
 "cells": [
  {
   "cell_type": "code",
   "execution_count": 1,
   "metadata": {},
   "outputs": [],
   "source": [
    "import tensorflow as tf\n",
    "import numpy as np"
   ]
  },
  {
   "cell_type": "markdown",
   "metadata": {},
   "source": [
    "# Multi-feature regression\n",
    "\n",
    "### Hypothesis\n",
    "\n",
    "$$ H(x) = w x + b $$\n",
    "\n",
    "$$ H(x_1, x_2, x_3) = w_1 x_1 + w_2 x_2 + w_3 x_3 + b $$"
   ]
  },
  {
   "cell_type": "markdown",
   "metadata": {},
   "source": [
    "# Hypothesis without b\n",
    "\n",
    "$$ H(x_1, x_2, x_3) = w_1 x_1 + w_2 x_2 + w_3 x_3 + b$$\n",
    "\n",
    "$$ = b + w_1 x_1 + w_2 x_2 + w_3 x_3 $$\n",
    "\n",
    "$$ = \\begin{pmatrix} b & x_{ 1 } & x_{ 2 } & x_{ 3 } \\end{pmatrix}\\cdot \\begin{pmatrix} 1 \\\\ w_{ 1 } \\\\ w_{ 2 } \\\\ w_{ 3 } \\end{pmatrix} $$\n",
    "\n",
    "$$ = XW $$\n",
    "\n"
   ]
  },
  {
   "cell_type": "markdown",
   "metadata": {},
   "source": [
    "# Hypothesis using matrix \n",
    "\n",
    "### Many x instances\n",
    "\n",
    "$$ \\begin{pmatrix} x_{ 11 } & x_{ 12 } & x_{ 13 } \\\\ x_{ 21 } & x_{ 22 } & x_{ 23 } \\\\ x_{ 31 } & x_{ 32 } & x_{ 33 }\\\\ x_{ 41 } & x_{ 42 } & x_{ 43 }\\\\ x_{ 51 } & x_{ 52 } & x_{ 53 }\\end{pmatrix} \\cdot \\begin{pmatrix} w_{ 1 } \\\\ w_{ 2 } \\\\ w_{ 3 } \\end{pmatrix}=\\begin{pmatrix} x_{ 11 }w_{ 1 }+x_{ 12 }w_{ 2 }+x_{ 13 }w_{ 3 } \\\\ x_{ 21 }w_{ 1 }+x_{ 22 }w_{ 2 }+x_{ 23 }w_{ 3 }\\\\ x_{ 31 }w_{ 1 }+x_{ 32 }w_{ 2 }+x_{ 33 }w_{ 3 } \\\\ x_{ 41 }w_{ 1 }+x_{ 42 }w_{ 2 }+x_{ 43 }w_{ 3 } \\\\ x_{ 51 }w_{ 1 }+x_{ 52 }w_{ 2 }+x_{ 53 }w_{ 3 } \\end{pmatrix} $$\n",
    "\n",
    "$$ [5, 3] \\cdot [3, 1] = [5, 1] $$\n",
    "\n",
    "$$ H(X) = XW $$\n",
    "\n",
    "5는 데이터(instance)의 수, 3은 변수(feature)의 수, 1은 결과"
   ]
  },
  {
   "cell_type": "markdown",
   "metadata": {},
   "source": [
    "# Hypothesis using matrix (n output)\n",
    "\n",
    "$$ [n, 3] \\cdot [?, ?] = [n, 2] $$\n",
    "\n",
    "$$ H(X) = XW $$\n",
    "\n",
    "* n은 데이터(instance)의 개수, 2는 결과 값의 개수로 주어진다.\n",
    "* 이때, W [?, ?] ⇒ [3, 2]"
   ]
  },
  {
   "cell_type": "markdown",
   "metadata": {},
   "source": [
    "# WX vs XW\n",
    "\n",
    "### Theory (Lecture) :\n",
    " $$ H(x) = Wx + b  $$\n",
    "\n",
    "### TensorFlow (Implementation) :\n",
    "\n",
    "$$ H(X) = XW $$"
   ]
  },
  {
   "cell_type": "markdown",
   "metadata": {},
   "source": [
    "# Example 1"
   ]
  },
  {
   "cell_type": "code",
   "execution_count": 4,
   "metadata": {},
   "outputs": [],
   "source": [
    "tf.random.set_seed(0)  # for reproducibility"
   ]
  },
  {
   "cell_type": "code",
   "execution_count": 5,
   "metadata": {},
   "outputs": [],
   "source": [
    "x1_data = [1, 0, 3, 0, 5]\n",
    "x2_data = [0, 2, 0, 4, 0]\n",
    "y_data  = [1, 2, 3, 4, 5]"
   ]
  },
  {
   "cell_type": "code",
   "execution_count": 7,
   "metadata": {},
   "outputs": [
    {
     "name": "stdout",
     "output_type": "stream",
     "text": [
      "i:     0 | cost: 966.489624 | W1:    -6.3849 | W2:    -9.6386 | b:  -1.997182\n",
      "i:    50 | cost: 290.719482 | W1:    -2.5520 | W2:    -6.0406 | b:   0.083186\n",
      "i:   100 | cost:  97.416336 | W1:    -0.8520 | W2:    -3.7830 | b:   1.185548\n",
      "i:   150 | cost:  36.060600 | W1:    -0.1155 | W2:    -2.3524 | b:   1.777458\n",
      "i:   200 | cost:  14.622516 | W1:     0.1927 | W2:    -1.4381 | b:   2.096439\n",
      "i:   250 | cost:   6.551729 | W1:     0.3151 | W2:    -0.8494 | b:   2.265759\n",
      "i:   300 | cost:   3.350713 | W1:     0.3601 | W2:    -0.4675 | b:   2.350938\n",
      "i:   350 | cost:   2.032307 | W1:     0.3750 | W2:    -0.2176 | b:   2.387711\n",
      "i:   400 | cost:   1.469417 | W1:     0.3797 | W2:    -0.0524 | b:   2.396086\n",
      "i:   450 | cost:   1.216593 | W1:     0.3823 | W2:     0.0583 | b:   2.387553\n",
      "i:   500 | cost:   1.092846 | W1:     0.3854 | W2:     0.1338 | b:   2.368865\n",
      "i:   550 | cost:   1.023482 | W1:     0.3899 | W2:     0.1865 | b:   2.344070\n",
      "i:   600 | cost:   0.977404 | W1:     0.3956 | W2:     0.2244 | b:   2.315640\n",
      "i:   650 | cost:   0.941599 | W1:     0.4023 | W2:     0.2527 | b:   2.285101\n",
      "i:   700 | cost:   0.910600 | W1:     0.4097 | W2:     0.2748 | b:   2.253407\n",
      "i:   750 | cost:   0.882098 | W1:     0.4175 | W2:     0.2927 | b:   2.221159\n",
      "i:   800 | cost:   0.855110 | W1:     0.4255 | W2:     0.3080 | b:   2.188733\n",
      "i:   850 | cost:   0.829210 | W1:     0.4337 | W2:     0.3214 | b:   2.156371\n",
      "i:   900 | cost:   0.804204 | W1:     0.4420 | W2:     0.3335 | b:   2.124223\n",
      "i:   950 | cost:   0.779998 | W1:     0.4502 | W2:     0.3448 | b:   2.092385\n",
      "i:  1000 | cost:   0.756540 | W1:     0.4584 | W2:     0.3556 | b:   2.060913\n"
     ]
    }
   ],
   "source": [
    "W1 = tf.Variable(tf.random.uniform((1,),-10.0,10.0))\n",
    "W2 = tf.Variable(tf.random.uniform((1,),-10.0,10.0))\n",
    "b = tf.Variable(tf.random.uniform((1,),-10.0,10.0))\n",
    "\n",
    "learning_rate = tf.Variable(0.001)\n",
    "\n",
    "for i in range(1000+1):\n",
    "    with tf.GradientTape() as tape:\n",
    "        hypothesis = W1*x1_data + W2*x2_data +b\n",
    "        cost = tf.reduce_mean(tf.square(hypothesis - y_data))\n",
    "        \n",
    "    W1_grad, W2_grad, b_grad = tape.gradient(cost,[W1,W2,b])\n",
    "    W1.assign_sub(learning_rate * W1_grad)\n",
    "    W2.assign_sub(learning_rate * W2_grad)\n",
    "    b.assign_sub(learning_rate * b_grad)\n",
    "    \n",
    "    if i % 50 == 0:\n",
    "         print(\"i: {:5} | cost: {:10.6f} | W1: {:10.4f} | W2: {:10.4f} | b: {:10.6f}\".format(i, cost.numpy(), W1.numpy()[0], W2.numpy()[0], b.numpy()[0]))"
   ]
  },
  {
   "cell_type": "markdown",
   "metadata": {},
   "source": [
    "# Example2"
   ]
  },
  {
   "cell_type": "code",
   "execution_count": 8,
   "metadata": {},
   "outputs": [],
   "source": [
    "x_data = [\n",
    "    [1., 0., 3., 0., 5.],\n",
    "    [0., 2., 0., 4., 0.]\n",
    "]\n",
    "y_data  = [1, 2, 3, 4, 5]"
   ]
  },
  {
   "cell_type": "code",
   "execution_count": 9,
   "metadata": {},
   "outputs": [],
   "source": [
    "W = tf.Variable(tf.random.uniform((1, 2), -1.0, 1.0))\n",
    "b = tf.Variable(tf.random.uniform((1,), -1.0, 1.0))\n"
   ]
  },
  {
   "cell_type": "code",
   "execution_count": 12,
   "metadata": {},
   "outputs": [
    {
     "data": {
      "text/plain": [
       "(<tf.Variable 'Variable:0' shape=(1, 2) dtype=float32, numpy=array([[-0.89377856, -0.62153316]], dtype=float32)>,\n",
       " <tf.Variable 'Variable:0' shape=(1,) dtype=float32, numpy=array([0.5532179], dtype=float32)>)"
      ]
     },
     "execution_count": 12,
     "metadata": {},
     "output_type": "execute_result"
    }
   ],
   "source": [
    "W,b"
   ]
  },
  {
   "cell_type": "code",
   "execution_count": 13,
   "metadata": {},
   "outputs": [],
   "source": [
    "learning_rate = tf.Variable(0.001)"
   ]
  },
  {
   "cell_type": "code",
   "execution_count": 15,
   "metadata": {},
   "outputs": [
    {
     "name": "stdout",
     "output_type": "stream",
     "text": [
      "    0 |  30.003744 |    -0.8693 |    -0.6099 |   0.562821\n",
      "   50 |   7.836334 |    -0.0238 |    -0.1530 |   0.904018\n",
      "  100 |   2.377153 |     0.3633 |     0.1291 |   1.070535\n",
      "  150 |   0.924887 |     0.5399 |     0.3063 |   1.149366\n",
      "  200 |   0.495451 |     0.6204 |     0.4197 |   1.183373\n",
      "  250 |   0.350969 |     0.6575 |     0.4935 |   1.194003\n",
      "  300 |   0.294564 |     0.6755 |     0.5426 |   1.192192\n",
      "  350 |   0.268330 |     0.6851 |     0.5760 |   1.183638\n",
      "  400 |   0.253377 |     0.6913 |     0.5994 |   1.171381\n",
      "  450 |   0.242959 |     0.6961 |     0.6164 |   1.157086\n",
      "  500 |   0.234499 |     0.7004 |     0.6293 |   1.141689\n",
      "  550 |   0.226969 |     0.7046 |     0.6394 |   1.125728\n",
      "  600 |   0.219946 |     0.7087 |     0.6478 |   1.109518\n",
      "  650 |   0.213252 |     0.7129 |     0.6551 |   1.093248\n",
      "  700 |   0.206807 |     0.7171 |     0.6615 |   1.077033\n",
      "  750 |   0.200576 |     0.7213 |     0.6674 |   1.060942\n",
      "  800 |   0.194542 |     0.7254 |     0.6730 |   1.045016\n",
      "  850 |   0.188692 |     0.7295 |     0.6783 |   1.029283\n",
      "  900 |   0.183020 |     0.7336 |     0.6834 |   1.013755\n",
      "  950 |   0.177519 |     0.7376 |     0.6883 |   0.998442\n",
      " 1000 |   0.172183 |     0.7415 |     0.6931 |   0.983348\n"
     ]
    }
   ],
   "source": [
    "for i in range(1000+1):\n",
    "    with tf.GradientTape() as tape:\n",
    "        hypothesis = tf.matmul(W, x_data) + b\n",
    "        cost = tf.reduce_mean(tf.square(hypothesis-y_data))\n",
    "        \n",
    "        \n",
    "        W_grad, b_grad = tape.gradient(cost, [W, b])\n",
    "        W.assign_sub(learning_rate * W_grad)\n",
    "        b.assign_sub(learning_rate * b_grad)\n",
    "    \n",
    "    if i % 50 == 0:\n",
    "        print(\"{:5} | {:10.6f} | {:10.4f} | {:10.4f} | {:10.6f}\".format(\n",
    "            i, cost.numpy(), W.numpy()[0][0], W.numpy()[0][1], b.numpy()[0]))"
   ]
  },
  {
   "cell_type": "markdown",
   "metadata": {},
   "source": [
    "# Hypothesis without b"
   ]
  },
  {
   "cell_type": "code",
   "execution_count": 17,
   "metadata": {},
   "outputs": [
    {
     "name": "stdout",
     "output_type": "stream",
     "text": [
      "    0 |  21.931831 |     0.0647 |    -0.7119 |     0.4413\n",
      "   50 |   4.901238 |     0.3252 |     0.1250 |     0.6045\n",
      "  100 |   1.138956 |     0.4462 |     0.5157 |     0.6960\n",
      "  150 |   0.301578 |     0.5006 |     0.6983 |     0.7491\n",
      "  200 |   0.112023 |     0.5231 |     0.7840 |     0.7811\n",
      "  250 |   0.067243 |     0.5302 |     0.8246 |     0.8011\n",
      "  300 |   0.055370 |     0.5299 |     0.8443 |     0.8143\n",
      "  350 |   0.051222 |     0.5258 |     0.8544 |     0.8233\n",
      "  400 |   0.049003 |     0.5200 |     0.8601 |     0.8299\n",
      "  450 |   0.047323 |     0.5133 |     0.8637 |     0.8349\n",
      "  500 |   0.045832 |     0.5061 |     0.8664 |     0.8389\n",
      "  550 |   0.044429 |     0.4988 |     0.8687 |     0.8424\n",
      "  600 |   0.043084 |     0.4915 |     0.8707 |     0.8454\n",
      "  650 |   0.041785 |     0.4842 |     0.8727 |     0.8481\n",
      "  700 |   0.040528 |     0.4769 |     0.8746 |     0.8507\n",
      "  750 |   0.039309 |     0.4698 |     0.8765 |     0.8531\n",
      "  800 |   0.038127 |     0.4627 |     0.8784 |     0.8555\n",
      "  850 |   0.036981 |     0.4557 |     0.8802 |     0.8577\n",
      "  900 |   0.035870 |     0.4488 |     0.8820 |     0.8599\n",
      "  950 |   0.034792 |     0.4420 |     0.8838 |     0.8621\n",
      " 1000 |   0.033746 |     0.4353 |     0.8856 |     0.8642\n"
     ]
    }
   ],
   "source": [
    "import tensorflow as tf\n",
    "\n",
    "# 앞의 코드에서 bias(b)를 행렬에 추가\n",
    "x_data = [\n",
    "    [1., 1., 1., 1., 1.], # bias(b)\n",
    "    [1., 0., 3., 0., 5.], \n",
    "    [0., 2., 0., 4., 0.]\n",
    "]\n",
    "y_data  = [1, 2, 3, 4, 5]\n",
    "\n",
    "W = tf.Variable(tf.random.uniform((1, 3), -1.0, 1.0)) # [1, 3]으로 변경하고, b 삭제\n",
    "\n",
    "learning_rate = 0.001\n",
    "optimizer = tf.keras.optimizers.SGD(learning_rate)\n",
    "\n",
    "for i in range(1000+1):\n",
    "    with tf.GradientTape() as tape:\n",
    "        hypothesis = tf.matmul(W, x_data) # b가 없다\n",
    "        cost = tf.reduce_mean(tf.square(hypothesis - y_data))\n",
    "\n",
    "    grads = tape.gradient(cost, [W])\n",
    "    optimizer.apply_gradients(grads_and_vars=zip(grads,[W]))\n",
    "    if i % 50 == 0:\n",
    "        print(\"{:5} | {:10.6f} | {:10.4f} | {:10.4f} | {:10.4f}\".format(\n",
    "            i, cost.numpy(), W.numpy()[0][0], W.numpy()[0][1], W.numpy()[0][2]))"
   ]
  },
  {
   "cell_type": "markdown",
   "metadata": {},
   "source": [
    "# Custom Gradient\n",
    "* tf.train.GradientDescentOptimizer(): optimizer\n",
    "* optimizer.apply_gradients(): update"
   ]
  },
  {
   "cell_type": "code",
   "execution_count": 18,
   "metadata": {},
   "outputs": [
    {
     "name": "stdout",
     "output_type": "stream",
     "text": [
      "epoch | cost\n",
      "    0 |   0.932096\n",
      "   50 |   0.612641\n",
      "  100 |   0.418868\n",
      "  150 |   0.286384\n",
      "  200 |   0.195804\n",
      "  250 |   0.133873\n",
      "  300 |   0.091530\n",
      "  350 |   0.062580\n",
      "  400 |   0.042786\n",
      "  450 |   0.029253\n",
      "  500 |   0.020001\n",
      "  550 |   0.013675\n",
      "  600 |   0.009350\n",
      "  650 |   0.006392\n",
      "  700 |   0.004371\n",
      "  750 |   0.002988\n",
      "  800 |   0.002043\n",
      "  850 |   0.001397\n",
      "  900 |   0.000955\n",
      "  950 |   0.000653\n",
      " 1000 |   0.000446\n"
     ]
    }
   ],
   "source": [
    "# Multi-variable linear regression (1)\n",
    "\n",
    "X = tf.constant([[1., 2.], \n",
    "                 [3., 4.]])\n",
    "y = tf.constant([[1.5], [3.5]])\n",
    "\n",
    "W = tf.Variable(tf.random.normal((2, 1)))\n",
    "b = tf.Variable(tf.random.normal((1,)))\n",
    "\n",
    "# Create an optimizer\n",
    "optimizer = tf.keras.optimizers.SGD(learning_rate=0.01)\n",
    "\n",
    "n_epoch = 1000+1\n",
    "print(\"epoch | cost\")\n",
    "\n",
    "for i in range(n_epoch):\n",
    "    with tf.GradientTape() as tape:\n",
    "        y_pred = tf.matmul(X, W) + b\n",
    "        cost = tf.reduce_mean(tf.square(y_pred - y))\n",
    "        \n",
    "    grads = tape.gradient(cost, [W, b])\n",
    "    optimizer.apply_gradients(grads_and_vars=zip(grads, [W, b]))\n",
    "    if i % 50 == 0:\n",
    "        print(\"{:5} | {:10.6f}\".format(i, cost.numpy()))\n"
   ]
  },
  {
   "cell_type": "markdown",
   "metadata": {},
   "source": [
    "# Multi-variable linear regression"
   ]
  },
  {
   "cell_type": "code",
   "execution_count": 20,
   "metadata": {},
   "outputs": [
    {
     "name": "stdout",
     "output_type": "stream",
     "text": [
      "epoch | cost\n",
      "    0 | 195206.6562\n",
      "  100 |    40.8115\n",
      "  200 |    16.6931\n",
      "  300 |    16.6015\n",
      "  400 |    16.5132\n",
      "  500 |    16.4254\n",
      "  600 |    16.3381\n",
      "  700 |    16.2514\n",
      "  800 |    16.1649\n",
      "  900 |    16.0791\n",
      " 1000 |    15.9937\n",
      " 1100 |    15.9088\n",
      " 1200 |    15.8243\n",
      " 1300 |    15.7403\n",
      " 1400 |    15.6566\n",
      " 1500 |    15.5736\n",
      " 1600 |    15.4908\n",
      " 1700 |    15.4087\n",
      " 1800 |    15.3268\n",
      " 1900 |    15.2455\n",
      " 2000 |    15.1645\n"
     ]
    }
   ],
   "source": [
    "data = np.array([\n",
    "    # X1,   X2,    X3,   y\n",
    "    [ 73.,  80.,  75., 152. ],\n",
    "    [ 93.,  88.,  93., 185. ],\n",
    "    [ 89.,  91.,  90., 180. ],\n",
    "    [ 96.,  98., 100., 196. ],\n",
    "    [ 73.,  66.,  70., 142. ]\n",
    "], dtype=np.float32)\n",
    "\n",
    "# slice data\n",
    "X = data[:, :-1]\n",
    "y = data[:, [-1]]\n",
    "\n",
    "W = tf.Variable(tf.random.normal((3, 1)))\n",
    "b = tf.Variable(tf.random.normal((1,)))\n",
    "\n",
    "learning_rate = 0.000001\n",
    "\n",
    "# hypothesis, prediction function\n",
    "def predict(X):\n",
    "    return tf.matmul(X, W) + b\n",
    "\n",
    "print(\"epoch | cost\")\n",
    "\n",
    "n_epochs = 2000\n",
    "for i in range(n_epochs+1):\n",
    "    # tf.GradientTape() to record the gradient of the cost function\n",
    "    with tf.GradientTape() as tape:\n",
    "        cost = tf.reduce_mean((tf.square(predict(X) - y)))\n",
    "\n",
    "    # calculates the gradients of the loss\n",
    "    W_grad, b_grad = tape.gradient(cost, [W, b])\n",
    "\n",
    "    # updates parameters (W and b)\n",
    "    W.assign_sub(learning_rate * W_grad)\n",
    "    b.assign_sub(learning_rate * b_grad)\n",
    "    \n",
    "    if i % 100 == 0:\n",
    "        print(\"{:5} | {:10.4f}\".format(i, cost.numpy()))"
   ]
  },
  {
   "cell_type": "code",
   "execution_count": 21,
   "metadata": {},
   "outputs": [
    {
     "data": {
      "text/plain": [
       "array([[0.25667503],\n",
       "       [1.2582879 ],\n",
       "       [0.5000149 ]], dtype=float32)"
      ]
     },
     "execution_count": 21,
     "metadata": {},
     "output_type": "execute_result"
    }
   ],
   "source": [
    "W.numpy()"
   ]
  },
  {
   "cell_type": "code",
   "execution_count": 22,
   "metadata": {},
   "outputs": [
    {
     "data": {
      "text/plain": [
       "array([-0.13203251], dtype=float32)"
      ]
     },
     "execution_count": 22,
     "metadata": {},
     "output_type": "execute_result"
    }
   ],
   "source": [
    "b.numpy()"
   ]
  },
  {
   "cell_type": "code",
   "execution_count": 23,
   "metadata": {},
   "outputs": [
    {
     "data": {
      "text/plain": [
       "<tf.Tensor: shape=(5, 1), dtype=float32, numpy=\n",
       "array([[156.7694 ],\n",
       "       [180.96947],\n",
       "       [182.21758],\n",
       "       [197.82248],\n",
       "       [136.65329]], dtype=float32)>"
      ]
     },
     "execution_count": 23,
     "metadata": {},
     "output_type": "execute_result"
    }
   ],
   "source": [
    "tf.matmul(X, W) + b"
   ]
  },
  {
   "cell_type": "markdown",
   "metadata": {},
   "source": [
    "# predict"
   ]
  },
  {
   "cell_type": "code",
   "execution_count": 26,
   "metadata": {},
   "outputs": [
    {
     "data": {
      "text/plain": [
       "array([[152.],\n",
       "       [185.],\n",
       "       [180.],\n",
       "       [196.],\n",
       "       [142.]], dtype=float32)"
      ]
     },
     "execution_count": 26,
     "metadata": {},
     "output_type": "execute_result"
    }
   ],
   "source": [
    "y # labels"
   ]
  },
  {
   "cell_type": "code",
   "execution_count": 24,
   "metadata": {},
   "outputs": [
    {
     "data": {
      "text/plain": [
       "array([[156.7694 ],\n",
       "       [180.96947],\n",
       "       [182.21758],\n",
       "       [197.82248],\n",
       "       [136.65329]], dtype=float32)"
      ]
     },
     "execution_count": 24,
     "metadata": {},
     "output_type": "execute_result"
    }
   ],
   "source": [
    "predict(X).numpy() # prediction, 예측값"
   ]
  },
  {
   "cell_type": "code",
   "execution_count": 27,
   "metadata": {},
   "outputs": [
    {
     "data": {
      "text/plain": [
       "array([[188.25078],\n",
       "       [179.69243]], dtype=float32)"
      ]
     },
     "execution_count": 27,
     "metadata": {},
     "output_type": "execute_result"
    }
   ],
   "source": [
    "predict([[ 89.,  95.,  92.],[ 84.,  92.,  85.]]).numpy() "
   ]
  }
 ],
 "metadata": {
  "kernelspec": {
   "display_name": "Python 3",
   "language": "python",
   "name": "python3"
  },
  "language_info": {
   "codemirror_mode": {
    "name": "ipython",
    "version": 3
   },
   "file_extension": ".py",
   "mimetype": "text/x-python",
   "name": "python",
   "nbconvert_exporter": "python",
   "pygments_lexer": "ipython3",
   "version": "3.6.9"
  }
 },
 "nbformat": 4,
 "nbformat_minor": 4
}
