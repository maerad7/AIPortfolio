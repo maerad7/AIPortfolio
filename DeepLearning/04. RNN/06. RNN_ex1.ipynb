{
 "cells": [
  {
   "cell_type": "code",
   "execution_count": 1,
   "metadata": {},
   "outputs": [],
   "source": [
    "import numpy as np"
   ]
  },
  {
   "cell_type": "code",
   "execution_count": 49,
   "metadata": {},
   "outputs": [],
   "source": [
    "hidden_size=3\n",
    "vocab_size=4"
   ]
  },
  {
   "cell_type": "code",
   "execution_count": 58,
   "metadata": {
    "scrolled": true
   },
   "outputs": [],
   "source": [
    "Wxh=np.random.rand(hidden_size,vocab_size)*0.01\n",
    "Whh=np.random.rand(hidden_size,hidden_size)*0.01\n",
    "Why= np.random.rand(vocab_size,hidden_size)*0.01\n",
    "bh=np.zeros((hidden_size,1))\n",
    "by=np.zeros((vocab_size,1))"
   ]
  },
  {
   "cell_type": "code",
   "execution_count": 101,
   "metadata": {},
   "outputs": [],
   "source": [
    "def sample(h,seed_ix,n):\n",
    "    x = np.zeros((vocab_size,1))\n",
    "    x[seed_ix] = 1\n",
    "    ixes = []\n",
    "    for t in range(n):\n",
    "        h=np.tanh(np.dot(Wxh,x)+np.dot(Whh,h)+bh)\n",
    "        y=np.dot(Why,h)+by\n",
    "        p=np.exp(y)/np.sum(np.exp(y))\n",
    "        ix = np.random.choice(list(range(vocab_size)),p=p.ravel())\n",
    "        print('x:',x,'\\np:',p)\n",
    "        x=np.zeros((vocab_size,1))\n",
    "        x[ix]=1\n",
    "        ixes.append(ix)\n",
    "    return ixes"
   ]
  },
  {
   "cell_type": "code",
   "execution_count": 102,
   "metadata": {},
   "outputs": [],
   "source": [
    "whhsize=np.zeros((3,1))"
   ]
  },
  {
   "cell_type": "code",
   "execution_count": 103,
   "metadata": {},
   "outputs": [
    {
     "data": {
      "text/plain": [
       "(3, 1)"
      ]
     },
     "execution_count": 103,
     "metadata": {},
     "output_type": "execute_result"
    }
   ],
   "source": [
    "whhsize.shape"
   ]
  },
  {
   "cell_type": "code",
   "execution_count": 104,
   "metadata": {
    "scrolled": true
   },
   "outputs": [
    {
     "name": "stdout",
     "output_type": "stream",
     "text": [
      "0\n",
      "x: [[1.]\n",
      " [0.]\n",
      " [0.]\n",
      " [0.]] \n",
      "p: [[0.24998772]\n",
      " [0.250007  ]\n",
      " [0.25000222]\n",
      " [0.25000306]]\n",
      "1\n",
      "x: [[0.]\n",
      " [0.]\n",
      " [0.]\n",
      " [1.]] \n",
      "p: [[0.2499878 ]\n",
      " [0.25000423]\n",
      " [0.25000444]\n",
      " [0.25000353]]\n",
      "2\n",
      "x: [[0.]\n",
      " [0.]\n",
      " [1.]\n",
      " [0.]] \n",
      "p: [[0.24999359]\n",
      " [0.24999678]\n",
      " [0.25000507]\n",
      " [0.25000456]]\n"
     ]
    },
    {
     "data": {
      "text/plain": [
       "[3, 2, 0]"
      ]
     },
     "execution_count": 104,
     "metadata": {},
     "output_type": "execute_result"
    }
   ],
   "source": [
    "sample(whhsize,0,3)"
   ]
  },
  {
   "cell_type": "code",
   "execution_count": null,
   "metadata": {},
   "outputs": [],
   "source": []
  }
 ],
 "metadata": {
  "kernelspec": {
   "display_name": "Python 3",
   "language": "python",
   "name": "python3"
  },
  "language_info": {
   "codemirror_mode": {
    "name": "ipython",
    "version": 3
   },
   "file_extension": ".py",
   "mimetype": "text/x-python",
   "name": "python",
   "nbconvert_exporter": "python",
   "pygments_lexer": "ipython3",
   "version": "3.6.5"
  }
 },
 "nbformat": 4,
 "nbformat_minor": 2
}
