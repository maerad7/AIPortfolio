{
 "cells": [
  {
   "cell_type": "code",
   "execution_count": 1,
   "metadata": {},
   "outputs": [],
   "source": [
    "import numpy as np"
   ]
  },
  {
   "cell_type": "markdown",
   "metadata": {},
   "source": [
    "## data i/o"
   ]
  },
  {
   "cell_type": "code",
   "execution_count": 2,
   "metadata": {},
   "outputs": [
    {
     "name": "stdout",
     "output_type": "stream",
     "text": [
      "data has 263 characters, 41 unique.\n",
      "Original Text : The first appearance of an Infinity Gem occurred in 1972 in Marvel Premiere #1. It was originally called a \"Soul Gem.\"[1][2] In 1976, a second \"Soul Gem\" appeared in a Captain Marvel story and established that there were six Soul Gems, each with different powers. \n",
      "\n"
     ]
    }
   ],
   "source": [
    "data = 'The first appearance of an Infinity Gem occurred in 1972 in Marvel Premiere #1. It was originally called a \"Soul Gem.\"[1][2] In 1976, a second \"Soul Gem\" appeared in a Captain Marvel story and established that there were six Soul Gems, each with different powers.' # should be simple plain text file\n",
    "\n",
    "chars = list(set(data))\n",
    "data_size, vocab_size = len(data),len(chars)\n",
    "\n",
    "print('data has %d characters, %d unique.' % (data_size, vocab_size))\n",
    "print('Original Text :', data, '\\n')\n",
    "\n",
    "char_to_ix = {ch:i for i,ch in enumerate(chars)}\n",
    "ix_to_char = {i:ch for i,ch in enumerate(chars)}"
   ]
  },
  {
   "cell_type": "markdown",
   "metadata": {},
   "source": [
    "## HyperParameter"
   ]
  },
  {
   "cell_type": "code",
   "execution_count": 4,
   "metadata": {},
   "outputs": [],
   "source": [
    "hidden_size = 5 # size of hidden layer of neurons\n",
    "\n",
    "seq_length = 25 # number of steps to unroll the RNN for\n",
    "\n",
    "learning_rate = 1e-1\n"
   ]
  },
  {
   "cell_type": "markdown",
   "metadata": {},
   "source": [
    "## ModelParameter"
   ]
  },
  {
   "cell_type": "code",
   "execution_count": 14,
   "metadata": {},
   "outputs": [],
   "source": [
    "Wxh = np.random.rand(hidden_size,vocab_size)*0.01\n",
    "Whh = np.random.rand(hidden_size,hidden_size)*0.01\n",
    "Why = np.random.rand(vocab_size,hidden_size)*0.01\n",
    "bh = np.zeros((hidden_size, 1)) # hidden bias\n",
    "by = np.zeros((vocab_size, 1)) # output bias\n"
   ]
  },
  {
   "cell_type": "markdown",
   "metadata": {},
   "source": [
    "## Loss function"
   ]
  },
  {
   "cell_type": "code",
   "execution_count": 10,
   "metadata": {},
   "outputs": [],
   "source": [
    "def lossFun(inputs,targets,hprev):\n",
    "    xs,hs,ys,ps={},{},{},{}\n",
    "    \n",
    "    # HS[-1]에 임시저장\n",
    "    hs[-1] =np.copy(hprev)\n",
    "    loss = 0\n",
    "    \n",
    "    # forward pass\n",
    "    \n",
    "    for t in range(len(inputs)):\n",
    "        xs[t] = np.zeros((vocab_size,1))\n",
    "        \n",
    "        # 이게 왜 1 일까?\n",
    "        xs[t][inputs[t]] = 1\n",
    "        hs[t] = np.tanh(np.dot(Wxh,xs[t])+np.dot(Whh,hs[t-1])+bh)\n",
    "        ys[t] = np.dot(Why,hs[t])+by\n",
    "        ps[t] = np.exp(ys[t])/np.sum(np.exp(ys[t]))\n",
    "        \n",
    "        # [targets[t],0] 0의 의미는? 3차원 행렬이므로 ps[t][targets[t]가 리스트의 형태로 나옴 input 010 targets 102 1출력\n",
    "        loss += -np.log(ps[t][targets[t],0])\n",
    "\n",
    "    \n",
    "    # backward\n",
    "    dWxh, dWhh, dWhy = np.zeros_like(Wxh), np.zeros_like(Whh), np.zeros_like(Why)\n",
    "    dbh,dby = np.zeros_like(bh), np.zeros_like(by)\n",
    "    dhnext = np.zeros_like(hs[0])\n",
    "    \n",
    "    for t in reversed(range(len(inputs))):\n",
    "        dy = np.copy(ps[t])\n",
    "        \n",
    "        # 타겟의 역전파는 순정파의 -1\n",
    "        dy[targets[t]] -= 1\n",
    "        \n",
    "        dWhy += np.dot(dy,hs[t].T)\n",
    "        dby += dy\n",
    "        dh = np.dot(Why.T,dy)+dhnext\n",
    "        dhraw = ( 1- hs[t]*hs[t])*dh\n",
    "        dbh += dhraw\n",
    "        dWxh += np.dot(dhraw,xs[t].T)\n",
    "        dWhh += np.dot(dhraw,hs[t-1].T)\n",
    "        dhnext = np.dot(Whh.T,dhraw)\n",
    "    \n",
    "    for dparam in [dWxh, dWhh, dWhy, dbh, dby]:\n",
    "        # -5,5까지 정규화\n",
    "        np.clip(dparam ,-5,-5,out=dparam)\n",
    "    return loss,dWxh, dWhh,dWhy,dbh,dby,hs[len(inputs)-1]\n",
    "\n"
   ]
  },
  {
   "cell_type": "markdown",
   "metadata": {},
   "source": [
    "## Sample"
   ]
  },
  {
   "cell_type": "code",
   "execution_count": 11,
   "metadata": {},
   "outputs": [],
   "source": [
    "def sample(h,seed_ix,n):\n",
    "    x = np.zeros(((vocab_size,1)))\n",
    "    x[seed_ix] = 1 \n",
    "    ixes = []\n",
    "    \n",
    "    for t in range(n):\n",
    "        \n",
    "        h=np.tanh(np.dot(Wxh,x)+np.dot(Whh,h)+bh)\n",
    "        y = np.dot(Why,h) + by\n",
    "        p = np.exp(y) / np.sum(np.exp(y))\n",
    "        ix = np.argmax(p)\n",
    "        \n",
    "        x= np.zeros((vocab_size,1))\n",
    "        x[ix]=1\n",
    "        ixes.append(ix)\n",
    "    return ixes"
   ]
  },
  {
   "cell_type": "code",
   "execution_count": null,
   "metadata": {},
   "outputs": [],
   "source": []
  },
  {
   "cell_type": "code",
   "execution_count": 16,
   "metadata": {},
   "outputs": [],
   "source": [
    "mWxh, mWhh, mWhy = np.zeros_like(Wxh), np.zeros_like(Whh), np.zeros_like(Why)\n",
    "\n",
    "mbh, mby = np.zeros_like(bh), np.zeros_like(by) # memory variables for Adagrad\n",
    "\n",
    "smooth_loss = -np.log(1.0/vocab_size)*seq_length\n",
    "    "
   ]
  },
  {
   "cell_type": "code",
   "execution_count": 24,
   "metadata": {},
   "outputs": [
    {
     "ename": "IndentationError",
     "evalue": "unindent does not match any outer indentation level (<ipython-input-24-196e38684b0d>, line 18)",
     "output_type": "error",
     "traceback": [
      "\u001b[1;36m  File \u001b[1;32m\"<ipython-input-24-196e38684b0d>\"\u001b[1;36m, line \u001b[1;32m18\u001b[0m\n\u001b[1;33m    for param, dparam, mem in zip([Wxh, Whh, Why, bh, by],[dWxh, dWhh, dWhy, dbh, dby],[mWxh, mWhh, mWhy, mbh, mby]):\u001b[0m\n\u001b[1;37m                                                                                                                     ^\u001b[0m\n\u001b[1;31mIndentationError\u001b[0m\u001b[1;31m:\u001b[0m unindent does not match any outer indentation level\n"
     ]
    }
   ],
   "source": [
    "while True:\n",
    "    if p+seq_length+1>=len(data) or n==0:\n",
    "        \n",
    "        hprev = np.zeros((hidden_size,1))\n",
    "        p=0\n",
    "        \n",
    "    inputs = [char_to_ix[ch] for ch in data[p:p+seq_length]]\n",
    "    targets = [char_to_ix[ch] for ch in data[p+1:p+seq_length+1]]\n",
    "    \n",
    "    if n%100 == 0:\n",
    "        \n",
    "        sample_ix = sample(hprev,inputs[0],200)\n",
    "        txt =''.join(ix_to_char[ix] for ix in sample_ix)\n",
    "        print('-----\\n %s \\n --------' %(txt,))\n",
    "    loss, dWxh, dWhh, dWhy, dbh, dby, hprev = lossFun(inputs, targets, hprev)\n",
    "    smooth_loss = smooth_loss* 0.999 + los*0.001\n",
    "   \n",
    " "
   ]
  },
  {
   "cell_type": "code",
   "execution_count": null,
   "metadata": {},
   "outputs": [],
   "source": []
  }
 ],
 "metadata": {
  "kernelspec": {
   "display_name": "Python 3",
   "language": "python",
   "name": "python3"
  },
  "language_info": {
   "codemirror_mode": {
    "name": "ipython",
    "version": 3
   },
   "file_extension": ".py",
   "mimetype": "text/x-python",
   "name": "python",
   "nbconvert_exporter": "python",
   "pygments_lexer": "ipython3",
   "version": "3.6.5"
  }
 },
 "nbformat": 4,
 "nbformat_minor": 2
}
