{
 "cells": [
  {
   "cell_type": "markdown",
   "metadata": {},
   "source": [
    "### Importing image data"
   ]
  },
  {
   "cell_type": "code",
   "execution_count": 1,
   "metadata": {},
   "outputs": [
    {
     "name": "stdout",
     "output_type": "stream",
     "text": [
      "[102] CATEGORIES ARE IN \n",
      " C:\\Users\\p\\Google 드라이브\\jupyter\\deep learning\\kearaexam/101_ObjectCategories\n"
     ]
    },
    {
     "name": "stderr",
     "output_type": "stream",
     "text": [
      "C:\\Users\\p\\Anaconda3\\lib\\site-packages\\ipykernel_launcher.py:7: DeprecationWarning: `imread` is deprecated!\n",
      "`imread` is deprecated in SciPy 1.0.0, and will be removed in 1.2.0.\n",
      "Use ``imageio.imread`` instead.\n",
      "  import sys\n",
      "C:\\Users\\p\\Anaconda3\\lib\\site-packages\\ipykernel_launcher.py:30: DeprecationWarning: `imresize` is deprecated!\n",
      "`imresize` is deprecated in SciPy 1.0.0, and will be removed in 1.2.0.\n",
      "Use ``skimage.transform.resize`` instead.\n"
     ]
    },
    {
     "name": "stdout",
     "output_type": "stream",
     "text": [
      "Num imgs: 9144\n",
      "Num labels: 9144\n",
      "102\n"
     ]
    }
   ],
   "source": [
    "import os\n",
    "import numpy as np\n",
    "import scipy.io\n",
    "import scipy.misc\n",
    "\n",
    "def imread(path):\n",
    "    img = scipy.misc.imread(path).astype(np.float)\n",
    "    if len(img.shape) == 2:\n",
    "        img = np.transpose(np.array([img, img, img]), (2, 0, 1))\n",
    "    return img\n",
    "    \n",
    "cwd = os.getcwd()\n",
    "path = cwd + \"/101_ObjectCategories\"\n",
    "valid_exts = [\".jpg\", \".gif\", \".png\", \".jpeg\"]\n",
    "print (\"[%d] CATEGORIES ARE IN \\n %s\" % (len(os.listdir(path)), path))\n",
    "\n",
    "categories = sorted(os.listdir(path))\n",
    "ncategories = len(categories)\n",
    "imgs = []\n",
    "labels = []\n",
    "# LOAD ALL IMAGES \n",
    "for i, category in enumerate(categories):\n",
    "    iter = 0\n",
    "    for f in os.listdir(path + \"/\" + category):\n",
    "        if iter == 0:\n",
    "            ext = os.path.splitext(f)[1]\n",
    "            if ext.lower() not in valid_exts:\n",
    "                continue\n",
    "            fullpath = os.path.join(path + \"/\" + category, f)\n",
    "            img = scipy.misc.imresize(imread(fullpath), [128,128, 3])\n",
    "            img = img.astype('float32')\n",
    "            img /= 255\n",
    "            imgs.append(img) # NORMALIZE IMAGE \n",
    "            label_curr = i\n",
    "            labels.append(label_curr)\n",
    "print (\"Num imgs: %d\" % (len(imgs)))\n",
    "print (\"Num labels: %d\" % (len(labels)) )\n",
    "print (ncategories)"
   ]
  },
  {
   "cell_type": "code",
   "execution_count": 3,
   "metadata": {},
   "outputs": [],
   "source": [
    "x=np.array(imgs)"
   ]
  },
  {
   "cell_type": "code",
   "execution_count": 4,
   "metadata": {},
   "outputs": [],
   "source": [
    "y=np.array(labels)"
   ]
  },
  {
   "cell_type": "code",
   "execution_count": 5,
   "metadata": {},
   "outputs": [
    {
     "name": "stderr",
     "output_type": "stream",
     "text": [
      "C:\\Users\\p\\Anaconda3\\lib\\site-packages\\h5py\\__init__.py:36: FutureWarning: Conversion of the second argument of issubdtype from `float` to `np.floating` is deprecated. In future, it will be treated as `np.float64 == np.dtype(float).type`.\n",
      "  from ._conv import register_converters as _register_converters\n",
      "Using TensorFlow backend.\n"
     ]
    }
   ],
   "source": [
    "from sklearn.model_selection import train_test_split \n",
    "from keras.models import Sequential\n",
    "from keras.layers import Dense, Activation\n",
    "from keras.utils import np_utils\n",
    "from keras.optimizers import Adam\n",
    "import numpy as np"
   ]
  },
  {
   "cell_type": "code",
   "execution_count": 6,
   "metadata": {},
   "outputs": [],
   "source": [
    "nb_classes = int(y.max()+1)\n",
    "y_one_hot = np_utils.to_categorical(y, nb_classes)\n",
    "x_train, x_test, y_train, y_test = train_test_split(\n",
    "    x, y_one_hot, test_size=0.3, random_state=42)"
   ]
  },
  {
   "cell_type": "code",
   "execution_count": 7,
   "metadata": {},
   "outputs": [
    {
     "data": {
      "text/plain": [
       "(6400, 128, 128, 3)"
      ]
     },
     "execution_count": 7,
     "metadata": {},
     "output_type": "execute_result"
    }
   ],
   "source": [
    "x_train.shape"
   ]
  },
  {
   "cell_type": "code",
   "execution_count": 8,
   "metadata": {},
   "outputs": [
    {
     "data": {
      "text/plain": [
       "(6400, 102)"
      ]
     },
     "execution_count": 8,
     "metadata": {},
     "output_type": "execute_result"
    }
   ],
   "source": [
    "y_train.shape"
   ]
  },
  {
   "cell_type": "code",
   "execution_count": 9,
   "metadata": {},
   "outputs": [
    {
     "data": {
      "text/plain": [
       "(9144, 102)"
      ]
     },
     "execution_count": 9,
     "metadata": {},
     "output_type": "execute_result"
    }
   ],
   "source": [
    "y_one_hot.shape"
   ]
  },
  {
   "cell_type": "code",
   "execution_count": 10,
   "metadata": {},
   "outputs": [],
   "source": [
    "from keras.utils import np_utils\n",
    "from keras.models import Sequential\n",
    "from keras.layers.core import Dense, Dropout, Activation, Flatten\n",
    "from keras.layers.convolutional import Conv2D, MaxPooling2D\n",
    "from keras.optimizers import SGD, Adam,RMSprop\n",
    "import matplotlib.pyplot as plt\n",
    "import keras"
   ]
  },
  {
   "cell_type": "code",
   "execution_count": 13,
   "metadata": {},
   "outputs": [
    {
     "name": "stdout",
     "output_type": "stream",
     "text": [
      "_________________________________________________________________\n",
      "Layer (type)                 Output Shape              Param #   \n",
      "=================================================================\n",
      "conv2d_4 (Conv2D)            (None, 128, 128, 32)      1568      \n",
      "_________________________________________________________________\n",
      "activation_8 (Activation)    (None, 128, 128, 32)      0         \n",
      "_________________________________________________________________\n",
      "max_pooling2d_4 (MaxPooling2 (None, 64, 64, 32)        0         \n",
      "_________________________________________________________________\n",
      "conv2d_5 (Conv2D)            (None, 32, 32, 32)        16416     \n",
      "_________________________________________________________________\n",
      "activation_9 (Activation)    (None, 32, 32, 32)        0         \n",
      "_________________________________________________________________\n",
      "max_pooling2d_5 (MaxPooling2 (None, 16, 16, 32)        0         \n",
      "_________________________________________________________________\n",
      "conv2d_6 (Conv2D)            (None, 16, 16, 64)        131136    \n",
      "_________________________________________________________________\n",
      "activation_10 (Activation)   (None, 16, 16, 64)        0         \n",
      "_________________________________________________________________\n",
      "max_pooling2d_6 (MaxPooling2 (None, 8, 8, 64)          0         \n",
      "_________________________________________________________________\n",
      "flatten_2 (Flatten)          (None, 4096)              0         \n",
      "_________________________________________________________________\n",
      "dense_5 (Dense)              (None, 512)               2097664   \n",
      "_________________________________________________________________\n",
      "activation_11 (Activation)   (None, 512)               0         \n",
      "_________________________________________________________________\n",
      "dense_6 (Dense)              (None, 256)               131328    \n",
      "_________________________________________________________________\n",
      "activation_12 (Activation)   (None, 256)               0         \n",
      "_________________________________________________________________\n",
      "dense_7 (Dense)              (None, 256)               65792     \n",
      "_________________________________________________________________\n",
      "activation_13 (Activation)   (None, 256)               0         \n",
      "_________________________________________________________________\n",
      "dense_8 (Dense)              (None, 102)               26214     \n",
      "_________________________________________________________________\n",
      "activation_14 (Activation)   (None, 102)               0         \n",
      "=================================================================\n",
      "Total params: 2,470,118\n",
      "Trainable params: 2,470,118\n",
      "Non-trainable params: 0\n",
      "_________________________________________________________________\n"
     ]
    }
   ],
   "source": [
    "keras.initializers\n",
    "model = Sequential()\n",
    "\n",
    "model.add(Conv2D(32,(4,4),padding='same',input_shape=(128,128,3)))\n",
    "model.add(Activation('relu'))\n",
    "model.add(MaxPooling2D(pool_size=(2,2)))\n",
    "\n",
    "model.add(Conv2D(32,(4,4),strides=(2,2),padding='same'))\n",
    "model.add(Activation('relu'))\n",
    "model.add(MaxPooling2D(pool_size=(2,2)))\n",
    "model.add(Conv2D(64,(8,8),padding='same'))\n",
    "model.add(Activation('relu'))\n",
    "model.add(MaxPooling2D(pool_size=(2,2)))\n",
    "# model.add(Dropout(0.25))\n",
    "model.add(Flatten())\n",
    "\n",
    "model.add(Dense(512))\n",
    "model.add(Activation('relu'))\n",
    "\n",
    "model.add(Dense(256))\n",
    "model.add(Activation('relu'))\n",
    "\n",
    "model.add(Dense(256))\n",
    "model.add(Activation('relu'))\n",
    "# model.add(Dense(5))\n",
    "# model.add(Activation('relu'))\n",
    "model.add(Dense(nb_classes))\n",
    "model.add(Activation('softmax'))\n",
    "\n",
    "model.summary()"
   ]
  },
  {
   "cell_type": "code",
   "execution_count": null,
   "metadata": {
    "scrolled": false
   },
   "outputs": [
    {
     "name": "stdout",
     "output_type": "stream",
     "text": [
      "Train on 5120 samples, validate on 1280 samples\n",
      "Epoch 1/20\n",
      "5120/5120 [==============================] - 166s 32ms/step - loss: 4.0865 - acc: 0.1475 - val_loss: 3.8337 - val_acc: 0.1883\n",
      "Epoch 2/20\n",
      "5120/5120 [==============================] - 167s 33ms/step - loss: 3.4832 - acc: 0.2674 - val_loss: 3.3166 - val_acc: 0.2977\n",
      "Epoch 3/20\n",
      "5120/5120 [==============================] - 166s 32ms/step - loss: 3.0990 - acc: 0.3295 - val_loss: 3.0706 - val_acc: 0.3469\n",
      "Epoch 4/20\n",
      "5120/5120 [==============================] - 162s 32ms/step - loss: 2.7172 - acc: 0.3963 - val_loss: 2.8579 - val_acc: 0.3680\n",
      "Epoch 5/20\n",
      "5120/5120 [==============================] - 166s 32ms/step - loss: 2.3642 - acc: 0.4553 - val_loss: 2.7043 - val_acc: 0.4070\n",
      "Epoch 6/20\n",
      "5120/5120 [==============================] - 162s 32ms/step - loss: 2.0475 - acc: 0.5014 - val_loss: 2.9178 - val_acc: 0.3945\n",
      "Epoch 7/20\n",
      "5120/5120 [==============================] - 170s 33ms/step - loss: 1.7198 - acc: 0.5717 - val_loss: 2.6957 - val_acc: 0.4211\n",
      "Epoch 8/20\n",
      "5120/5120 [==============================] - 170s 33ms/step - loss: 1.4145 - acc: 0.6293 - val_loss: 2.7965 - val_acc: 0.4344\n",
      "Epoch 9/20\n",
      "5120/5120 [==============================] - 174s 34ms/step - loss: 1.1367 - acc: 0.6965 - val_loss: 2.8618 - val_acc: 0.4453\n",
      "Epoch 10/20\n",
      "5120/5120 [==============================] - 180s 35ms/step - loss: 0.9064 - acc: 0.7447 - val_loss: 3.0073 - val_acc: 0.4320\n",
      "Epoch 11/20\n",
      "5120/5120 [==============================] - 166s 32ms/step - loss: 0.7542 - acc: 0.7934 - val_loss: 3.1471 - val_acc: 0.4547\n",
      "Epoch 12/20\n",
      "5120/5120 [==============================] - 167s 33ms/step - loss: 0.6373 - acc: 0.8252 - val_loss: 3.2126 - val_acc: 0.4484\n",
      "Epoch 13/20\n",
      "5120/5120 [==============================] - 175s 34ms/step - loss: 0.5477 - acc: 0.8486 - val_loss: 4.0223 - val_acc: 0.4313\n",
      "Epoch 14/20\n",
      "5120/5120 [==============================] - 189s 37ms/step - loss: 0.4619 - acc: 0.8746 - val_loss: 3.7420 - val_acc: 0.4594\n",
      "Epoch 15/20\n",
      "5120/5120 [==============================] - 198s 39ms/step - loss: 0.3545 - acc: 0.9031 - val_loss: 4.3981 - val_acc: 0.4578\n",
      "Epoch 16/20\n",
      "5120/5120 [==============================] - 194s 38ms/step - loss: 0.3210 - acc: 0.9131 - val_loss: 3.9446 - val_acc: 0.4570\n",
      "Epoch 17/20\n",
      "5120/5120 [==============================] - 195s 38ms/step - loss: 0.2836 - acc: 0.9195 - val_loss: 4.6063 - val_acc: 0.4539\n",
      "Epoch 18/20\n",
      "1100/5120 [=====>........................] - ETA: 2:09 - loss: 0.2893 - acc: 0.9318"
     ]
    }
   ],
   "source": [
    "model.compile(loss='categorical_crossentropy',\n",
    "              optimizer=SGD(lr=0.01,momentum=0.9,decay=1e-6,nesterov=True), metrics=['accuracy'])\n",
    "history=model.fit(x_train,y_train,batch_size=50,epochs=20,validation_split=0.2,verbose=1)\n",
    "print('\\ntest :\\n', model.evaluate(x_test, y_test))"
   ]
  },
  {
   "cell_type": "code",
   "execution_count": null,
   "metadata": {},
   "outputs": [],
   "source": [
    "print('Testing')\n",
    "score = model.evaluate(x_test,y_test,batch_size=40,verbose=1)\n",
    "print('\\nTest score: ',score[0])\n",
    "print('\\Test accuracy',score[1])"
   ]
  },
  {
   "cell_type": "code",
   "execution_count": null,
   "metadata": {},
   "outputs": [],
   "source": [
    "print(history.history.keys())\n",
    "plt.plot(history.history['val_acc'])\n",
    "plt.title('model accuracy')\n",
    "plt.ylabel('accuracy')\n",
    "plt.xlabel('epoch')\n",
    "plt.legend(['train','test'],loc='upper left')\n",
    "plt.show()"
   ]
  }
 ],
 "metadata": {
  "kernelspec": {
   "display_name": "Python 3",
   "language": "python",
   "name": "python3"
  },
  "language_info": {
   "codemirror_mode": {
    "name": "ipython",
    "version": 3
   },
   "file_extension": ".py",
   "mimetype": "text/x-python",
   "name": "python",
   "nbconvert_exporter": "python",
   "pygments_lexer": "ipython3",
   "version": "3.6.5"
  }
 },
 "nbformat": 4,
 "nbformat_minor": 2
}
