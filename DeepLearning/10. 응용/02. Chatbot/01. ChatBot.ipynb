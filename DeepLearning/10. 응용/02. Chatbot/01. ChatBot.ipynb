{
 "cells": [
  {
   "cell_type": "markdown",
   "metadata": {},
   "source": [
    "# 1. 규칙 기반 챗봇"
   ]
  },
  {
   "cell_type": "markdown",
   "metadata": {},
   "source": [
    "## 1.1. 단어 기준 답변 생성"
   ]
  },
  {
   "cell_type": "code",
   "execution_count": 1,
   "metadata": {},
   "outputs": [],
   "source": [
    "def answer(question):\n",
    "    if '날씨' in question:\n",
    "        return '날씨는 맑습니다.'"
   ]
  },
  {
   "cell_type": "code",
   "execution_count": 2,
   "metadata": {},
   "outputs": [
    {
     "data": {
      "text/plain": [
       "'날씨는 맑습니다.'"
      ]
     },
     "execution_count": 2,
     "metadata": {},
     "output_type": "execute_result"
    }
   ],
   "source": [
    "answer('오늘 날씨는 어떻게 되나요?')"
   ]
  },
  {
   "cell_type": "code",
   "execution_count": 3,
   "metadata": {},
   "outputs": [
    {
     "data": {
      "text/plain": [
       "'날씨는 맑습니다.'"
      ]
     },
     "execution_count": 3,
     "metadata": {},
     "output_type": "execute_result"
    }
   ],
   "source": [
    "answer('날씨가 어때?')"
   ]
  },
  {
   "cell_type": "code",
   "execution_count": 4,
   "metadata": {},
   "outputs": [],
   "source": [
    "answer('오늘 날이 어떤가요?')"
   ]
  },
  {
   "cell_type": "code",
   "execution_count": 5,
   "metadata": {},
   "outputs": [],
   "source": [
    "def answer(question):\n",
    "    if '날씨' in question:\n",
    "        return '날씨는 맑습니다.'\n",
    "    else:\n",
    "        return '무슨 말인지 모르겠습니다.'"
   ]
  },
  {
   "cell_type": "code",
   "execution_count": 6,
   "metadata": {},
   "outputs": [
    {
     "data": {
      "text/plain": [
       "'무슨 말인지 모르겠습니다.'"
      ]
     },
     "execution_count": 6,
     "metadata": {},
     "output_type": "execute_result"
    }
   ],
   "source": [
    "answer('오늘 날이 어떤가요?')"
   ]
  },
  {
   "cell_type": "code",
   "execution_count": 7,
   "metadata": {},
   "outputs": [],
   "source": [
    "def answer(question):\n",
    "    if '날씨' in question and '기온' in question:\n",
    "        return '오늘 날씨는 맑고 기온은 10도 입니다.'\n",
    "    else:\n",
    "        return '무슨 말인지 모르겠습니다.'"
   ]
  },
  {
   "cell_type": "code",
   "execution_count": 8,
   "metadata": {},
   "outputs": [
    {
     "data": {
      "text/plain": [
       "'오늘 날씨는 맑고 기온은 10도 입니다.'"
      ]
     },
     "execution_count": 8,
     "metadata": {},
     "output_type": "execute_result"
    }
   ],
   "source": [
    "answer('오늘 날씨와 기온은?')"
   ]
  },
  {
   "cell_type": "code",
   "execution_count": 9,
   "metadata": {},
   "outputs": [
    {
     "data": {
      "text/plain": [
       "'무슨 말인지 모르겠습니다.'"
      ]
     },
     "execution_count": 9,
     "metadata": {},
     "output_type": "execute_result"
    }
   ],
   "source": [
    "answer('오늘 날씨는?')"
   ]
  },
  {
   "cell_type": "code",
   "execution_count": 10,
   "metadata": {},
   "outputs": [],
   "source": [
    "def answer(question):\n",
    "    if '날씨' in question:\n",
    "        return '오늘 날씨는 맑고 기온은 10도 입니다.'\n",
    "    elif '기온' in question:\n",
    "        return '오늘 날씨는 맑고 기온은 10도 입니다.'\n",
    "    else:\n",
    "        return '무슨 말인지 모르겠습니다.'"
   ]
  },
  {
   "cell_type": "code",
   "execution_count": 11,
   "metadata": {},
   "outputs": [
    {
     "data": {
      "text/plain": [
       "'오늘 날씨는 맑고 기온은 10도 입니다.'"
      ]
     },
     "execution_count": 11,
     "metadata": {},
     "output_type": "execute_result"
    }
   ],
   "source": [
    "answer('오늘 날씨는?')"
   ]
  },
  {
   "cell_type": "code",
   "execution_count": 12,
   "metadata": {},
   "outputs": [],
   "source": [
    "def answer(question):\n",
    "    if '날씨' in question or '기온' in question:\n",
    "        return '오늘 날씨는 맑고 기온은 10도 입니다.'\n",
    "    else:\n",
    "        return '무슨 말인지 모르겠습니다.'"
   ]
  },
  {
   "cell_type": "code",
   "execution_count": 13,
   "metadata": {},
   "outputs": [
    {
     "data": {
      "text/plain": [
       "'오늘 날씨는 맑고 기온은 10도 입니다.'"
      ]
     },
     "execution_count": 13,
     "metadata": {},
     "output_type": "execute_result"
    }
   ],
   "source": [
    "answer('오늘 날씨는?')"
   ]
  },
  {
   "cell_type": "code",
   "execution_count": 1,
   "metadata": {},
   "outputs": [],
   "source": [
    "words = ['날씨', '기온', 'weather', '비',' 우산', '구름']"
   ]
  },
  {
   "cell_type": "code",
   "execution_count": 2,
   "metadata": {},
   "outputs": [],
   "source": [
    "def answer(question, words):\n",
    "    for word in words:\n",
    "        if word in question:\n",
    "            return '오늘 날씨는 맑고 기온은 10도 입니다.'\n",
    "    return '무슨 말인지 모르겠습니다.'"
   ]
  },
  {
   "cell_type": "code",
   "execution_count": 3,
   "metadata": {},
   "outputs": [
    {
     "data": {
      "text/plain": [
       "'오늘 날씨는 맑고 기온은 10도 입니다.'"
      ]
     },
     "execution_count": 3,
     "metadata": {},
     "output_type": "execute_result"
    }
   ],
   "source": [
    "answer('오늘 비와?', words)"
   ]
  },
  {
   "cell_type": "code",
   "execution_count": 17,
   "metadata": {},
   "outputs": [
    {
     "data": {
      "text/plain": [
       "'오늘 날씨는 맑고 기온은 10도 입니다.'"
      ]
     },
     "execution_count": 17,
     "metadata": {},
     "output_type": "execute_result"
    }
   ],
   "source": [
    "answer('how is the weather', words)"
   ]
  },
  {
   "cell_type": "code",
   "execution_count": 18,
   "metadata": {},
   "outputs": [],
   "source": [
    "import pandas as pd"
   ]
  },
  {
   "cell_type": "code",
   "execution_count": 19,
   "metadata": {},
   "outputs": [
    {
     "data": {
      "text/html": [
       "<div>\n",
       "<style scoped>\n",
       "    .dataframe tbody tr th:only-of-type {\n",
       "        vertical-align: middle;\n",
       "    }\n",
       "\n",
       "    .dataframe tbody tr th {\n",
       "        vertical-align: top;\n",
       "    }\n",
       "\n",
       "    .dataframe thead th {\n",
       "        text-align: right;\n",
       "    }\n",
       "</style>\n",
       "<table border=\"1\" class=\"dataframe\">\n",
       "  <thead>\n",
       "    <tr style=\"text-align: right;\">\n",
       "      <th></th>\n",
       "      <th>키워드</th>\n",
       "    </tr>\n",
       "  </thead>\n",
       "  <tbody>\n",
       "    <tr>\n",
       "      <th>0</th>\n",
       "      <td>날씨</td>\n",
       "    </tr>\n",
       "    <tr>\n",
       "      <th>1</th>\n",
       "      <td>기온</td>\n",
       "    </tr>\n",
       "    <tr>\n",
       "      <th>2</th>\n",
       "      <td>비</td>\n",
       "    </tr>\n",
       "    <tr>\n",
       "      <th>3</th>\n",
       "      <td>우산</td>\n",
       "    </tr>\n",
       "    <tr>\n",
       "      <th>4</th>\n",
       "      <td>구름</td>\n",
       "    </tr>\n",
       "  </tbody>\n",
       "</table>\n",
       "</div>"
      ],
      "text/plain": [
       "  키워드\n",
       "0  날씨\n",
       "1  기온\n",
       "2   비\n",
       "3  우산\n",
       "4  구름"
      ]
     },
     "execution_count": 19,
     "metadata": {},
     "output_type": "execute_result"
    }
   ],
   "source": [
    "w = pd.read_csv('data/날씨키워드.csv', engine='python', encoding='euc-kr')\n",
    "w.head()"
   ]
  },
  {
   "cell_type": "code",
   "execution_count": 20,
   "metadata": {},
   "outputs": [],
   "source": [
    "def answer(question):\n",
    "    w = pd.read_csv('data/날씨키워드.csv', engine='python', encoding='euc-kr')\n",
    "    for word in w.values:\n",
    "        if word[0] in question:\n",
    "            return '오늘 날씨는 구름이 적고 맑을 예정입니다.'\n",
    "    return '무슨 말인지 모르겠습니다.'"
   ]
  },
  {
   "cell_type": "code",
   "execution_count": 21,
   "metadata": {},
   "outputs": [
    {
     "data": {
      "text/plain": [
       "'오늘 날씨는 구름이 적고 맑을 예정입니다.'"
      ]
     },
     "execution_count": 21,
     "metadata": {},
     "output_type": "execute_result"
    }
   ],
   "source": [
    " answer('오늘 날씨가 어떨것 같아?')"
   ]
  },
  {
   "cell_type": "code",
   "execution_count": 22,
   "metadata": {},
   "outputs": [
    {
     "data": {
      "text/plain": [
       "'오늘 날씨는 구름이 적고 맑을 예정입니다.'"
      ]
     },
     "execution_count": 22,
     "metadata": {},
     "output_type": "execute_result"
    }
   ],
   "source": [
    "answer('비가 올것 같은데...')"
   ]
  },
  {
   "cell_type": "code",
   "execution_count": 23,
   "metadata": {},
   "outputs": [
    {
     "data": {
      "text/plain": [
       "'오늘 날씨는 구름이 적고 맑을 예정입니다.'"
      ]
     },
     "execution_count": 23,
     "metadata": {},
     "output_type": "execute_result"
    }
   ],
   "source": [
    "answer('오늘 축구 비겼어?')"
   ]
  },
  {
   "cell_type": "code",
   "execution_count": 24,
   "metadata": {},
   "outputs": [
    {
     "data": {
      "text/plain": [
       "'오늘 날씨는 구름이 적고 맑을 예정입니다.'"
      ]
     },
     "execution_count": 24,
     "metadata": {},
     "output_type": "execute_result"
    }
   ],
   "source": [
    "answer('고기온도가 어때?')"
   ]
  },
  {
   "cell_type": "code",
   "execution_count": 25,
   "metadata": {},
   "outputs": [],
   "source": [
    "from konlpy.tag import Twitter, Komoran"
   ]
  },
  {
   "cell_type": "code",
   "execution_count": 26,
   "metadata": {},
   "outputs": [],
   "source": [
    "tagger = Komoran()"
   ]
  },
  {
   "cell_type": "code",
   "execution_count": 27,
   "metadata": {},
   "outputs": [
    {
     "data": {
      "text/plain": [
       "['고기', '온도']"
      ]
     },
     "execution_count": 27,
     "metadata": {},
     "output_type": "execute_result"
    }
   ],
   "source": [
    "tagger.nouns('고기온도가 어때')"
   ]
  },
  {
   "cell_type": "code",
   "execution_count": 28,
   "metadata": {},
   "outputs": [
    {
     "data": {
      "text/plain": [
       "['오늘', '축구']"
      ]
     },
     "execution_count": 28,
     "metadata": {},
     "output_type": "execute_result"
    }
   ],
   "source": [
    "tagger.nouns('오늘 축구 비겼어?')"
   ]
  },
  {
   "cell_type": "code",
   "execution_count": 29,
   "metadata": {},
   "outputs": [],
   "source": [
    "def answer(question):\n",
    "    w = pd.read_csv('data/날씨키워드.csv', engine='python', encoding='euc-kr')\n",
    "    nouns = tagger.nouns(question)\n",
    "    for word in w.values:\n",
    "        if word[0] in nouns:\n",
    "            return '오늘 날씨는 구름이 적고 맑을 예정입니다.'\n",
    "    return '무슨 말인지 모르겠습니다.'"
   ]
  },
  {
   "cell_type": "code",
   "execution_count": 30,
   "metadata": {},
   "outputs": [
    {
     "data": {
      "text/plain": [
       "'무슨 말인지 모르겠습니다.'"
      ]
     },
     "execution_count": 30,
     "metadata": {},
     "output_type": "execute_result"
    }
   ],
   "source": [
    "answer('오늘 축구 비겼어?')"
   ]
  },
  {
   "cell_type": "code",
   "execution_count": 31,
   "metadata": {},
   "outputs": [
    {
     "data": {
      "text/plain": [
       "'무슨 말인지 모르겠습니다.'"
      ]
     },
     "execution_count": 31,
     "metadata": {},
     "output_type": "execute_result"
    }
   ],
   "source": [
    "answer('고기온도가 어때?')"
   ]
  },
  {
   "cell_type": "code",
   "execution_count": 32,
   "metadata": {},
   "outputs": [
    {
     "data": {
      "text/plain": [
       "'오늘 날씨는 구름이 적고 맑을 예정입니다.'"
      ]
     },
     "execution_count": 32,
     "metadata": {},
     "output_type": "execute_result"
    }
   ],
   "source": [
    "answer('오늘 기온이 어때?')"
   ]
  },
  {
   "cell_type": "code",
   "execution_count": 33,
   "metadata": {},
   "outputs": [],
   "source": [
    "import re"
   ]
  },
  {
   "cell_type": "code",
   "execution_count": 34,
   "metadata": {},
   "outputs": [],
   "source": [
    "r = re.compile(r'((?P<date>.+) 날씨)')"
   ]
  },
  {
   "cell_type": "code",
   "execution_count": 35,
   "metadata": {},
   "outputs": [
    {
     "data": {
      "text/plain": [
       "{'date': '오늘'}"
      ]
     },
     "execution_count": 35,
     "metadata": {},
     "output_type": "execute_result"
    }
   ],
   "source": [
    "m = r.match('오늘 날씨')\n",
    "m.groupdict()"
   ]
  },
  {
   "cell_type": "code",
   "execution_count": 36,
   "metadata": {},
   "outputs": [],
   "source": [
    "def get_date(question):\n",
    "    m = r.match(question)\n",
    "    group = m.groupdict()\n",
    "    date = group['date']\n",
    "    return date"
   ]
  },
  {
   "cell_type": "code",
   "execution_count": 37,
   "metadata": {},
   "outputs": [
    {
     "data": {
      "text/plain": [
       "'내일'"
      ]
     },
     "execution_count": 37,
     "metadata": {},
     "output_type": "execute_result"
    }
   ],
   "source": [
    "get_date('내일 날씨 알려줘')"
   ]
  },
  {
   "cell_type": "code",
   "execution_count": 38,
   "metadata": {},
   "outputs": [],
   "source": [
    "r = re.compile(r'((?P<place>.+) 날씨)')"
   ]
  },
  {
   "cell_type": "code",
   "execution_count": 39,
   "metadata": {},
   "outputs": [
    {
     "data": {
      "text/plain": [
       "{'place': '서울의'}"
      ]
     },
     "execution_count": 39,
     "metadata": {},
     "output_type": "execute_result"
    }
   ],
   "source": [
    "m = r.match('서울의 날씨는 어때')\n",
    "m.groupdict()"
   ]
  },
  {
   "cell_type": "code",
   "execution_count": 40,
   "metadata": {},
   "outputs": [
    {
     "data": {
      "text/plain": [
       "['서울']"
      ]
     },
     "execution_count": 40,
     "metadata": {},
     "output_type": "execute_result"
    }
   ],
   "source": [
    "group = m.groupdict()\n",
    "place = group['place']\n",
    "tagger.nouns(place)"
   ]
  },
  {
   "cell_type": "code",
   "execution_count": 41,
   "metadata": {},
   "outputs": [],
   "source": [
    "def get_place(question):\n",
    "    r = re.compile(r'((?P<place>.+) 날씨)')\n",
    "    m = r.match(question)\n",
    "    group = m.groupdict()\n",
    "    place = group['place']\n",
    "    return tagger.nouns(place)"
   ]
  },
  {
   "cell_type": "code",
   "execution_count": 42,
   "metadata": {},
   "outputs": [
    {
     "data": {
      "text/plain": [
       "['제주도']"
      ]
     },
     "execution_count": 42,
     "metadata": {},
     "output_type": "execute_result"
    }
   ],
   "source": [
    "get_place('제주도 날씨')"
   ]
  },
  {
   "cell_type": "code",
   "execution_count": 43,
   "metadata": {},
   "outputs": [
    {
     "data": {
      "text/plain": [
       "['서울']"
      ]
     },
     "execution_count": 43,
     "metadata": {},
     "output_type": "execute_result"
    }
   ],
   "source": [
    "get_place('서울의 날씨는 어떻게 되나요?')"
   ]
  },
  {
   "cell_type": "code",
   "execution_count": 44,
   "metadata": {},
   "outputs": [],
   "source": [
    "r = re.compile(r'((?P<date>\\S+) )?((?P<place>\\S+) )?날씨')"
   ]
  },
  {
   "cell_type": "code",
   "execution_count": 45,
   "metadata": {},
   "outputs": [
    {
     "data": {
      "text/plain": [
       "{'date': '내일', 'place': '서울'}"
      ]
     },
     "execution_count": 45,
     "metadata": {},
     "output_type": "execute_result"
    }
   ],
   "source": [
    "group = r.match('내일 서울 날씨는 어떨까?').groupdict()\n",
    "group"
   ]
  },
  {
   "cell_type": "code",
   "execution_count": 46,
   "metadata": {},
   "outputs": [],
   "source": [
    "def get_date_place(question):\n",
    "    r = re.compile(r'((?P<date>\\S+) )?((?P<place>\\S+) )?날씨')\n",
    "    m = r.match(question)\n",
    "    group = m.groupdict()\n",
    "    \n",
    "    if group['date']:\n",
    "        group['date'] = tagger.nouns(group['date'])\n",
    "    if group['place']:\n",
    "        group['place'] = tagger.nouns(group['place'])\n",
    "    return group"
   ]
  },
  {
   "cell_type": "code",
   "execution_count": 47,
   "metadata": {},
   "outputs": [
    {
     "data": {
      "text/plain": [
       "{'date': ['오늘'], 'place': ['서울']}"
      ]
     },
     "execution_count": 47,
     "metadata": {},
     "output_type": "execute_result"
    }
   ],
   "source": [
    "get_date_place('오늘 서울의 날씨는 어때?')"
   ]
  },
  {
   "cell_type": "code",
   "execution_count": 48,
   "metadata": {},
   "outputs": [
    {
     "data": {
      "text/plain": [
       "{'date': ['내일'], 'place': None}"
      ]
     },
     "execution_count": 48,
     "metadata": {},
     "output_type": "execute_result"
    }
   ],
   "source": [
    "get_date_place('내일의 날씨는 어떨까?')"
   ]
  },
  {
   "cell_type": "code",
   "execution_count": 49,
   "metadata": {},
   "outputs": [],
   "source": [
    "w_date = {'오늘': '오늘은 전국적으로 비가 내릴 것으로 예상됩니다.', '내일': '내일은 전국적으로 화창할 것으로 예상됩니다.'}\n",
    "w_place = {'서울': '서울의 최고 기온은 25도, 최저 기온은 20도입니다.', '제주도':'제주도의 최고 기온은 23도, 최저 기온은 18도입니다.'}"
   ]
  },
  {
   "cell_type": "code",
   "execution_count": 50,
   "metadata": {},
   "outputs": [
    {
     "data": {
      "text/plain": [
       "'오늘'"
      ]
     },
     "execution_count": 50,
     "metadata": {},
     "output_type": "execute_result"
    }
   ],
   "source": [
    "answer = get_date_place('오늘 서울의 날씨는 어때?')\n",
    "answer['date'][0]"
   ]
  },
  {
   "cell_type": "code",
   "execution_count": 51,
   "metadata": {},
   "outputs": [
    {
     "data": {
      "text/plain": [
       "'오늘은 전국적으로 비가 내릴 것으로 예상됩니다.'"
      ]
     },
     "execution_count": 51,
     "metadata": {},
     "output_type": "execute_result"
    }
   ],
   "source": [
    "w_date[answer['date'][0]]"
   ]
  },
  {
   "cell_type": "code",
   "execution_count": 52,
   "metadata": {},
   "outputs": [],
   "source": [
    "def get_date_place(question):\n",
    "    r = re.compile(r'((?P<date>\\S+) )?((?P<place>\\S+) )?날씨')\n",
    "    m = r.match(question)\n",
    "\n",
    "    if m:\n",
    "        group = m.groupdict()\n",
    "\n",
    "        date = tagger.nouns(group['date'])\n",
    "        segment = w_date[date[0]]\n",
    "\n",
    "        if group['place']:\n",
    "            place = tagger.nouns(group['place'])\n",
    "            segment2 = w_place[place[0]]\n",
    "            segment = segment + '\\n' + segment2\n",
    "\n",
    "    else:\n",
    "        segment = '무슨말인지 모르겠습니다.'\n",
    "    print(segment)"
   ]
  },
  {
   "cell_type": "code",
   "execution_count": 53,
   "metadata": {},
   "outputs": [
    {
     "name": "stdout",
     "output_type": "stream",
     "text": [
      "오늘은 전국적으로 비가 내릴 것으로 예상됩니다.\n",
      "서울의 최고 기온은 25도, 최저 기온은 20도입니다.\n"
     ]
    }
   ],
   "source": [
    "get_date_place('오늘 서울의 날씨는 어떨까?')"
   ]
  },
  {
   "cell_type": "code",
   "execution_count": 54,
   "metadata": {},
   "outputs": [
    {
     "name": "stdout",
     "output_type": "stream",
     "text": [
      "내일은 전국적으로 화창할 것으로 예상됩니다.\n"
     ]
    }
   ],
   "source": [
    "get_date_place('내일 날씨?')"
   ]
  },
  {
   "cell_type": "code",
   "execution_count": 55,
   "metadata": {},
   "outputs": [
    {
     "name": "stdout",
     "output_type": "stream",
     "text": [
      "무슨말인지 모르겠습니다.\n"
     ]
    }
   ],
   "source": [
    "get_date_place('피자 주문해줘')"
   ]
  },
  {
   "cell_type": "markdown",
   "metadata": {},
   "source": [
    "## 1.2. LSTM 기반 질문 분류기"
   ]
  },
  {
   "cell_type": "markdown",
   "metadata": {},
   "source": [
    "### 1.2.1. 순방향 LSTM"
   ]
  },
  {
   "cell_type": "code",
   "execution_count": 56,
   "metadata": {},
   "outputs": [],
   "source": [
    "data_arg = ['오늘', '오늘은','내일','내일은']\n",
    "data_pred = ['날씨?','날씨는?','날씨 어때?', '날씨가 어때?']"
   ]
  },
  {
   "cell_type": "code",
   "execution_count": 57,
   "metadata": {},
   "outputs": [],
   "source": [
    "data=[]\n",
    "\n",
    "for arg in data_arg:\n",
    "    for pred in data_pred:\n",
    "        sentence = arg + ' ' + pred\n",
    "        data.append(sentence)"
   ]
  },
  {
   "cell_type": "code",
   "execution_count": 58,
   "metadata": {},
   "outputs": [
    {
     "data": {
      "text/plain": [
       "['오늘 날씨?',\n",
       " '오늘 날씨는?',\n",
       " '오늘 날씨 어때?',\n",
       " '오늘 날씨가 어때?',\n",
       " '오늘은 날씨?',\n",
       " '오늘은 날씨는?',\n",
       " '오늘은 날씨 어때?',\n",
       " '오늘은 날씨가 어때?',\n",
       " '내일 날씨?',\n",
       " '내일 날씨는?',\n",
       " '내일 날씨 어때?',\n",
       " '내일 날씨가 어때?',\n",
       " '내일은 날씨?',\n",
       " '내일은 날씨는?',\n",
       " '내일은 날씨 어때?',\n",
       " '내일은 날씨가 어때?']"
      ]
     },
     "execution_count": 58,
     "metadata": {},
     "output_type": "execute_result"
    }
   ],
   "source": [
    "data"
   ]
  },
  {
   "cell_type": "code",
   "execution_count": 59,
   "metadata": {},
   "outputs": [
    {
     "data": {
      "text/plain": [
       "11"
      ]
     },
     "execution_count": 59,
     "metadata": {},
     "output_type": "execute_result"
    }
   ],
   "source": [
    "MAXLEN = max(len(s) for s in data)\n",
    "MAXLEN"
   ]
  },
  {
   "cell_type": "code",
   "execution_count": 60,
   "metadata": {},
   "outputs": [
    {
     "name": "stderr",
     "output_type": "stream",
     "text": [
      "C:\\Users\\Hyunsil\\Anaconda3\\lib\\site-packages\\h5py\\__init__.py:36: FutureWarning: Conversion of the second argument of issubdtype from `float` to `np.floating` is deprecated. In future, it will be treated as `np.float64 == np.dtype(float).type`.\n",
      "  from ._conv import register_converters as _register_converters\n",
      "Using TensorFlow backend.\n"
     ]
    }
   ],
   "source": [
    "from keras.preprocessing.text import Tokenizer"
   ]
  },
  {
   "cell_type": "code",
   "execution_count": 61,
   "metadata": {},
   "outputs": [
    {
     "data": {
      "text/plain": [
       "{' ': 1,\n",
       " '날': 2,\n",
       " '씨': 3,\n",
       " '?': 4,\n",
       " '오': 5,\n",
       " '늘': 6,\n",
       " '어': 7,\n",
       " '때': 8,\n",
       " '은': 9,\n",
       " '내': 10,\n",
       " '일': 11,\n",
       " '는': 12,\n",
       " '가': 13}"
      ]
     },
     "execution_count": 61,
     "metadata": {},
     "output_type": "execute_result"
    }
   ],
   "source": [
    "tok = Tokenizer(char_level=True)\n",
    "tok.fit_on_texts(data)\n",
    "tok.word_index"
   ]
  },
  {
   "cell_type": "code",
   "execution_count": 62,
   "metadata": {},
   "outputs": [
    {
     "data": {
      "text/plain": [
       "[[5, 6, 1, 2, 3, 4],\n",
       " [5, 6, 1, 2, 3, 12, 4],\n",
       " [5, 6, 1, 2, 3, 1, 7, 8, 4],\n",
       " [5, 6, 1, 2, 3, 13, 1, 7, 8, 4],\n",
       " [5, 6, 9, 1, 2, 3, 4],\n",
       " [5, 6, 9, 1, 2, 3, 12, 4],\n",
       " [5, 6, 9, 1, 2, 3, 1, 7, 8, 4],\n",
       " [5, 6, 9, 1, 2, 3, 13, 1, 7, 8, 4],\n",
       " [10, 11, 1, 2, 3, 4],\n",
       " [10, 11, 1, 2, 3, 12, 4],\n",
       " [10, 11, 1, 2, 3, 1, 7, 8, 4],\n",
       " [10, 11, 1, 2, 3, 13, 1, 7, 8, 4],\n",
       " [10, 11, 9, 1, 2, 3, 4],\n",
       " [10, 11, 9, 1, 2, 3, 12, 4],\n",
       " [10, 11, 9, 1, 2, 3, 1, 7, 8, 4],\n",
       " [10, 11, 9, 1, 2, 3, 13, 1, 7, 8, 4]]"
      ]
     },
     "execution_count": 62,
     "metadata": {},
     "output_type": "execute_result"
    }
   ],
   "source": [
    "sequence = tok.texts_to_sequences(data)\n",
    "sequence"
   ]
  },
  {
   "cell_type": "code",
   "execution_count": 63,
   "metadata": {},
   "outputs": [],
   "source": [
    "from keras.preprocessing.sequence import pad_sequences"
   ]
  },
  {
   "cell_type": "code",
   "execution_count": 64,
   "metadata": {},
   "outputs": [
    {
     "data": {
      "text/plain": [
       "array([[ 0,  0,  0,  0,  0,  5,  6,  1,  2,  3,  4],\n",
       "       [ 0,  0,  0,  0,  5,  6,  1,  2,  3, 12,  4],\n",
       "       [ 0,  0,  5,  6,  1,  2,  3,  1,  7,  8,  4],\n",
       "       [ 0,  5,  6,  1,  2,  3, 13,  1,  7,  8,  4],\n",
       "       [ 0,  0,  0,  0,  5,  6,  9,  1,  2,  3,  4],\n",
       "       [ 0,  0,  0,  5,  6,  9,  1,  2,  3, 12,  4],\n",
       "       [ 0,  5,  6,  9,  1,  2,  3,  1,  7,  8,  4],\n",
       "       [ 5,  6,  9,  1,  2,  3, 13,  1,  7,  8,  4],\n",
       "       [ 0,  0,  0,  0,  0, 10, 11,  1,  2,  3,  4],\n",
       "       [ 0,  0,  0,  0, 10, 11,  1,  2,  3, 12,  4],\n",
       "       [ 0,  0, 10, 11,  1,  2,  3,  1,  7,  8,  4],\n",
       "       [ 0, 10, 11,  1,  2,  3, 13,  1,  7,  8,  4],\n",
       "       [ 0,  0,  0,  0, 10, 11,  9,  1,  2,  3,  4],\n",
       "       [ 0,  0,  0, 10, 11,  9,  1,  2,  3, 12,  4],\n",
       "       [ 0, 10, 11,  9,  1,  2,  3,  1,  7,  8,  4],\n",
       "       [10, 11,  9,  1,  2,  3, 13,  1,  7,  8,  4]])"
      ]
     },
     "execution_count": 64,
     "metadata": {},
     "output_type": "execute_result"
    }
   ],
   "source": [
    "padded = pad_sequences(sequence, padding='pre')\n",
    "padded"
   ]
  },
  {
   "cell_type": "code",
   "execution_count": 65,
   "metadata": {},
   "outputs": [
    {
     "data": {
      "text/plain": [
       "[[1, 2, 0, 0, 0, 0],\n",
       " [1, 2, 0, 0, 0, 0, 0],\n",
       " [1, 2, 0, 0, 0, 0, 0, 0, 0],\n",
       " [1, 2, 0, 0, 0, 0, 0, 0, 0, 0],\n",
       " [1, 2, 0, 0, 0, 0, 0],\n",
       " [1, 2, 0, 0, 0, 0, 0, 0],\n",
       " [1, 2, 0, 0, 0, 0, 0, 0, 0, 0],\n",
       " [1, 2, 0, 0, 0, 0, 0, 0, 0, 0, 0],\n",
       " [1, 2, 0, 0, 0, 0],\n",
       " [1, 2, 0, 0, 0, 0, 0],\n",
       " [1, 2, 0, 0, 0, 0, 0, 0, 0],\n",
       " [1, 2, 0, 0, 0, 0, 0, 0, 0, 0],\n",
       " [1, 2, 0, 0, 0, 0, 0],\n",
       " [1, 2, 0, 0, 0, 0, 0, 0],\n",
       " [1, 2, 0, 0, 0, 0, 0, 0, 0, 0],\n",
       " [1, 2, 0, 0, 0, 0, 0, 0, 0, 0, 0]]"
      ]
     },
     "execution_count": 65,
     "metadata": {},
     "output_type": "execute_result"
    }
   ],
   "source": [
    "labels = []\n",
    "for s in data:\n",
    "    labels.append([1, 2] + [0 for _ in s[2:]])\n",
    "labels"
   ]
  },
  {
   "cell_type": "code",
   "execution_count": 66,
   "metadata": {},
   "outputs": [
    {
     "data": {
      "text/html": [
       "<div>\n",
       "<style scoped>\n",
       "    .dataframe tbody tr th:only-of-type {\n",
       "        vertical-align: middle;\n",
       "    }\n",
       "\n",
       "    .dataframe tbody tr th {\n",
       "        vertical-align: top;\n",
       "    }\n",
       "\n",
       "    .dataframe thead th {\n",
       "        text-align: right;\n",
       "    }\n",
       "</style>\n",
       "<table border=\"1\" class=\"dataframe\">\n",
       "  <thead>\n",
       "    <tr style=\"text-align: right;\">\n",
       "      <th></th>\n",
       "      <th>0</th>\n",
       "      <th>1</th>\n",
       "      <th>2</th>\n",
       "      <th>3</th>\n",
       "      <th>4</th>\n",
       "      <th>5</th>\n",
       "      <th>6</th>\n",
       "      <th>7</th>\n",
       "      <th>8</th>\n",
       "      <th>9</th>\n",
       "    </tr>\n",
       "  </thead>\n",
       "  <tbody>\n",
       "    <tr>\n",
       "      <th>0</th>\n",
       "      <td>1</td>\n",
       "      <td>2</td>\n",
       "      <td>0</td>\n",
       "      <td>0</td>\n",
       "      <td>0</td>\n",
       "      <td>0</td>\n",
       "      <td>0</td>\n",
       "      <td>0</td>\n",
       "      <td>0</td>\n",
       "      <td>0</td>\n",
       "    </tr>\n",
       "    <tr>\n",
       "      <th>1</th>\n",
       "      <td>오</td>\n",
       "      <td>늘</td>\n",
       "      <td>은</td>\n",
       "      <td></td>\n",
       "      <td>날</td>\n",
       "      <td>씨</td>\n",
       "      <td></td>\n",
       "      <td>어</td>\n",
       "      <td>때</td>\n",
       "      <td>?</td>\n",
       "    </tr>\n",
       "  </tbody>\n",
       "</table>\n",
       "</div>"
      ],
      "text/plain": [
       "   0  1  2  3  4  5  6  7  8  9\n",
       "0  1  2  0  0  0  0  0  0  0  0\n",
       "1  오  늘  은     날  씨     어  때  ?"
      ]
     },
     "execution_count": 66,
     "metadata": {},
     "output_type": "execute_result"
    }
   ],
   "source": [
    "import pandas as pd\n",
    "pd.DataFrame([labels[6], list(data[6])])"
   ]
  },
  {
   "cell_type": "code",
   "execution_count": 67,
   "metadata": {},
   "outputs": [
    {
     "data": {
      "text/plain": [
       "array([[0, 0, 0, 0, 0, 1, 2, 0, 0, 0, 0],\n",
       "       [0, 0, 0, 0, 1, 2, 0, 0, 0, 0, 0],\n",
       "       [0, 0, 1, 2, 0, 0, 0, 0, 0, 0, 0],\n",
       "       [0, 1, 2, 0, 0, 0, 0, 0, 0, 0, 0],\n",
       "       [0, 0, 0, 0, 1, 2, 0, 0, 0, 0, 0],\n",
       "       [0, 0, 0, 1, 2, 0, 0, 0, 0, 0, 0],\n",
       "       [0, 1, 2, 0, 0, 0, 0, 0, 0, 0, 0],\n",
       "       [1, 2, 0, 0, 0, 0, 0, 0, 0, 0, 0],\n",
       "       [0, 0, 0, 0, 0, 1, 2, 0, 0, 0, 0],\n",
       "       [0, 0, 0, 0, 1, 2, 0, 0, 0, 0, 0],\n",
       "       [0, 0, 1, 2, 0, 0, 0, 0, 0, 0, 0],\n",
       "       [0, 1, 2, 0, 0, 0, 0, 0, 0, 0, 0],\n",
       "       [0, 0, 0, 0, 1, 2, 0, 0, 0, 0, 0],\n",
       "       [0, 0, 0, 1, 2, 0, 0, 0, 0, 0, 0],\n",
       "       [0, 1, 2, 0, 0, 0, 0, 0, 0, 0, 0],\n",
       "       [1, 2, 0, 0, 0, 0, 0, 0, 0, 0, 0]])"
      ]
     },
     "execution_count": 67,
     "metadata": {},
     "output_type": "execute_result"
    }
   ],
   "source": [
    "y = pad_sequences(labels)\n",
    "y"
   ]
  },
  {
   "cell_type": "code",
   "execution_count": 68,
   "metadata": {},
   "outputs": [
    {
     "data": {
      "text/plain": [
       "(16, 11)"
      ]
     },
     "execution_count": 68,
     "metadata": {},
     "output_type": "execute_result"
    }
   ],
   "source": [
    "y.shape"
   ]
  },
  {
   "cell_type": "code",
   "execution_count": 69,
   "metadata": {},
   "outputs": [
    {
     "data": {
      "text/plain": [
       "(16, 11, 1)"
      ]
     },
     "execution_count": 69,
     "metadata": {},
     "output_type": "execute_result"
    }
   ],
   "source": [
    "y2 = y.reshape((16, 11, 1))\n",
    "y2.shape"
   ]
  },
  {
   "cell_type": "code",
   "execution_count": 70,
   "metadata": {},
   "outputs": [],
   "source": [
    "from keras.models import Sequential\n",
    "from keras.models import Model\n",
    "from keras.layers import Input, Dense, Embedding, LSTM\n",
    "from keras.layers import TimeDistributed, concatenate\n",
    "from keras.optimizers import Adam\n",
    "import matplotlib.pyplot as plt\n",
    "from IPython.display import Image\n",
    "import os\n",
    "os.environ[\"PATH\"] += os.pathsep + 'C:/Program Files (x86)/Graphviz2.38/bin/'\n",
    "from keras.utils.vis_utils import plot_model"
   ]
  },
  {
   "cell_type": "code",
   "execution_count": 71,
   "metadata": {},
   "outputs": [
    {
     "data": {
      "text/plain": [
       "14"
      ]
     },
     "execution_count": 71,
     "metadata": {},
     "output_type": "execute_result"
    }
   ],
   "source": [
    "NUM_CHAR = len(tok.word_index) + 1\n",
    "NUM_CHAR"
   ]
  },
  {
   "cell_type": "code",
   "execution_count": 72,
   "metadata": {},
   "outputs": [
    {
     "name": "stdout",
     "output_type": "stream",
     "text": [
      "_________________________________________________________________\n",
      "Layer (type)                 Output Shape              Param #   \n",
      "=================================================================\n",
      "embedding_1 (Embedding)      (None, 11, 2)             28        \n",
      "_________________________________________________________________\n",
      "lstm_1 (LSTM)                (None, 11, 2)             40        \n",
      "_________________________________________________________________\n",
      "time_distributed_1 (TimeDist (None, 11, 3)             9         \n",
      "=================================================================\n",
      "Total params: 77\n",
      "Trainable params: 77\n",
      "Non-trainable params: 0\n",
      "_________________________________________________________________\n"
     ]
    },
    {
     "data": {
      "image/png": "[encoded data removed]",
      "text/plain": [
       "<IPython.core.display.Image object>"
      ]
     },
     "execution_count": 72,
     "metadata": {},
     "output_type": "execute_result"
    }
   ],
   "source": [
    "model = Sequential()\n",
    "model.add(Embedding(NUM_CHAR, 2, input_length=MAXLEN))\n",
    "model.add(LSTM(2, return_sequences=True))\n",
    "model.add(TimeDistributed(Dense(3, activation='softmax')))\n",
    "model.summary()\n",
    "plot_model(model, to_file='model.png', show_shapes=True)\n",
    "Image('model.png')"
   ]
  },
  {
   "cell_type": "code",
   "execution_count": 73,
   "metadata": {},
   "outputs": [
    {
     "name": "stdout",
     "output_type": "stream",
     "text": [
      "Epoch 1/300\n",
      "16/16 [==============================] - 1s 48ms/step - loss: 0.9908 - acc: 0.8011\n",
      "Epoch 2/300\n",
      "16/16 [==============================] - 0s 4ms/step - loss: 0.7032 - acc: 0.8182\n",
      "Epoch 3/300\n",
      "16/16 [==============================] - 0s 4ms/step - loss: 0.5369 - acc: 0.8182\n",
      "Epoch 4/300\n",
      "16/16 [==============================] - 0s 4ms/step - loss: 0.4791 - acc: 0.8182\n",
      "Epoch 5/300\n",
      "16/16 [==============================] - 0s 5ms/step - loss: 0.3964 - acc: 0.8182\n",
      "Epoch 6/300\n",
      "16/16 [==============================] - 0s 5ms/step - loss: 0.3366 - acc: 0.8182\n",
      "Epoch 7/300\n",
      "16/16 [==============================] - 0s 4ms/step - loss: 0.2843 - acc: 0.8182\n",
      "Epoch 8/300\n",
      "16/16 [==============================] - 0s 4ms/step - loss: 0.2434 - acc: 0.8920\n",
      "Epoch 9/300\n",
      "16/16 [==============================] - 0s 5ms/step - loss: 0.2076 - acc: 0.9091\n",
      "Epoch 10/300\n",
      "16/16 [==============================] - 0s 4ms/step - loss: 0.1799 - acc: 0.9091\n",
      "Epoch 11/300\n",
      "16/16 [==============================] - 0s 4ms/step - loss: 0.1616 - acc: 0.9091\n",
      "Epoch 12/300\n",
      "16/16 [==============================] - 0s 4ms/step - loss: 0.1470 - acc: 0.9091\n",
      "Epoch 13/300\n",
      "16/16 [==============================] - 0s 4ms/step - loss: 0.1347 - acc: 0.9773\n",
      "Epoch 14/300\n",
      "16/16 [==============================] - 0s 4ms/step - loss: 0.1232 - acc: 1.0000\n",
      "Epoch 15/300\n",
      "16/16 [==============================] - 0s 4ms/step - loss: 0.1111 - acc: 1.0000\n",
      "Epoch 16/300\n",
      "16/16 [==============================] - 0s 4ms/step - loss: 0.0980 - acc: 1.0000\n",
      "Epoch 17/300\n",
      "16/16 [==============================] - 0s 4ms/step - loss: 0.0841 - acc: 1.0000\n",
      "Epoch 18/300\n",
      "16/16 [==============================] - 0s 4ms/step - loss: 0.0705 - acc: 1.0000\n",
      "Epoch 19/300\n",
      "16/16 [==============================] - 0s 4ms/step - loss: 0.0579 - acc: 1.0000\n",
      "Epoch 20/300\n",
      "16/16 [==============================] - 0s 4ms/step - loss: 0.0482 - acc: 1.0000\n",
      "Epoch 21/300\n",
      "16/16 [==============================] - 0s 4ms/step - loss: 0.0418 - acc: 1.0000\n",
      "Epoch 22/300\n",
      "16/16 [==============================] - 0s 4ms/step - loss: 0.0372 - acc: 1.0000\n",
      "Epoch 23/300\n",
      "16/16 [==============================] - 0s 4ms/step - loss: 0.0332 - acc: 1.0000\n",
      "Epoch 24/300\n",
      "16/16 [==============================] - 0s 4ms/step - loss: 0.0299 - acc: 1.0000\n",
      "Epoch 25/300\n",
      "16/16 [==============================] - 0s 4ms/step - loss: 0.0271 - acc: 1.0000\n",
      "Epoch 26/300\n",
      "16/16 [==============================] - 0s 4ms/step - loss: 0.0250 - acc: 1.0000\n",
      "Epoch 27/300\n",
      "16/16 [==============================] - 0s 4ms/step - loss: 0.0229 - acc: 1.0000\n",
      "Epoch 28/300\n",
      "16/16 [==============================] - 0s 4ms/step - loss: 0.0212 - acc: 1.0000\n",
      "Epoch 29/300\n",
      "16/16 [==============================] - 0s 4ms/step - loss: 0.0197 - acc: 1.0000\n",
      "Epoch 30/300\n",
      "16/16 [==============================] - 0s 4ms/step - loss: 0.0184 - acc: 1.0000\n",
      "Epoch 31/300\n",
      "16/16 [==============================] - 0s 4ms/step - loss: 0.0172 - acc: 1.0000\n",
      "Epoch 32/300\n",
      "16/16 [==============================] - 0s 5ms/step - loss: 0.0162 - acc: 1.0000\n",
      "Epoch 33/300\n",
      "16/16 [==============================] - 0s 4ms/step - loss: 0.0152 - acc: 1.0000\n",
      "Epoch 34/300\n",
      "16/16 [==============================] - 0s 5ms/step - loss: 0.0144 - acc: 1.0000\n",
      "Epoch 35/300\n",
      "16/16 [==============================] - 0s 4ms/step - loss: 0.0136 - acc: 1.0000\n",
      "Epoch 36/300\n",
      "16/16 [==============================] - 0s 4ms/step - loss: 0.0129 - acc: 1.0000\n",
      "Epoch 37/300\n",
      "16/16 [==============================] - 0s 4ms/step - loss: 0.0123 - acc: 1.0000\n",
      "Epoch 38/300\n",
      "16/16 [==============================] - 0s 4ms/step - loss: 0.0117 - acc: 1.0000\n",
      "Epoch 39/300\n",
      "16/16 [==============================] - 0s 4ms/step - loss: 0.0112 - acc: 1.0000\n",
      "Epoch 40/300\n",
      "16/16 [==============================] - 0s 5ms/step - loss: 0.0107 - acc: 1.0000\n",
      "Epoch 41/300\n",
      "16/16 [==============================] - 0s 4ms/step - loss: 0.0102 - acc: 1.0000\n",
      "Epoch 42/300\n",
      "16/16 [==============================] - 0s 4ms/step - loss: 0.0098 - acc: 1.0000\n",
      "Epoch 43/300\n",
      "16/16 [==============================] - 0s 4ms/step - loss: 0.0094 - acc: 1.0000\n",
      "Epoch 44/300\n",
      "16/16 [==============================] - 0s 4ms/step - loss: 0.0090 - acc: 1.0000\n",
      "Epoch 45/300\n",
      "16/16 [==============================] - 0s 4ms/step - loss: 0.0087 - acc: 1.0000\n",
      "Epoch 46/300\n",
      "16/16 [==============================] - 0s 4ms/step - loss: 0.0084 - acc: 1.0000\n",
      "Epoch 47/300\n",
      "16/16 [==============================] - 0s 4ms/step - loss: 0.0081 - acc: 1.0000\n",
      "Epoch 48/300\n",
      "16/16 [==============================] - 0s 5ms/step - loss: 0.0078 - acc: 1.0000\n",
      "Epoch 49/300\n",
      "16/16 [==============================] - 0s 4ms/step - loss: 0.0075 - acc: 1.0000\n",
      "Epoch 50/300\n",
      "16/16 [==============================] - 0s 4ms/step - loss: 0.0073 - acc: 1.0000\n",
      "Epoch 51/300\n",
      "16/16 [==============================] - 0s 4ms/step - loss: 0.0070 - acc: 1.0000\n",
      "Epoch 52/300\n",
      "16/16 [==============================] - 0s 5ms/step - loss: 0.0068 - acc: 1.0000\n",
      "Epoch 53/300\n",
      "16/16 [==============================] - 0s 5ms/step - loss: 0.0066 - acc: 1.0000\n",
      "Epoch 54/300\n",
      "16/16 [==============================] - 0s 5ms/step - loss: 0.0064 - acc: 1.0000\n",
      "Epoch 55/300\n",
      "16/16 [==============================] - 0s 5ms/step - loss: 0.0062 - acc: 1.0000\n",
      "Epoch 56/300\n",
      "16/16 [==============================] - 0s 5ms/step - loss: 0.0060 - acc: 1.0000\n",
      "Epoch 57/300\n",
      "16/16 [==============================] - 0s 5ms/step - loss: 0.0058 - acc: 1.0000\n",
      "Epoch 58/300\n",
      "16/16 [==============================] - 0s 6ms/step - loss: 0.0057 - acc: 1.0000\n",
      "Epoch 59/300\n",
      "16/16 [==============================] - 0s 4ms/step - loss: 0.0055 - acc: 1.0000\n",
      "Epoch 60/300\n",
      "16/16 [==============================] - 0s 5ms/step - loss: 0.0054 - acc: 1.0000\n",
      "Epoch 61/300\n",
      "16/16 [==============================] - 0s 6ms/step - loss: 0.0052 - acc: 1.0000\n",
      "Epoch 62/300\n",
      "16/16 [==============================] - 0s 4ms/step - loss: 0.0051 - acc: 1.0000\n",
      "Epoch 63/300\n",
      "16/16 [==============================] - 0s 5ms/step - loss: 0.0049 - acc: 1.0000\n",
      "Epoch 64/300\n",
      "16/16 [==============================] - 0s 5ms/step - loss: 0.0048 - acc: 1.0000\n",
      "Epoch 65/300\n",
      "16/16 [==============================] - 0s 5ms/step - loss: 0.0047 - acc: 1.0000\n",
      "Epoch 66/300\n",
      "16/16 [==============================] - 0s 4ms/step - loss: 0.0046 - acc: 1.0000\n",
      "Epoch 67/300\n",
      "16/16 [==============================] - 0s 4ms/step - loss: 0.0045 - acc: 1.0000\n",
      "Epoch 68/300\n",
      "16/16 [==============================] - 0s 4ms/step - loss: 0.0043 - acc: 1.0000\n",
      "Epoch 69/300\n",
      "16/16 [==============================] - 0s 4ms/step - loss: 0.0042 - acc: 1.0000\n",
      "Epoch 70/300\n",
      "16/16 [==============================] - 0s 4ms/step - loss: 0.0041 - acc: 1.0000\n",
      "Epoch 71/300\n",
      "16/16 [==============================] - 0s 4ms/step - loss: 0.0040 - acc: 1.0000\n",
      "Epoch 72/300\n",
      "16/16 [==============================] - 0s 4ms/step - loss: 0.0039 - acc: 1.0000\n",
      "Epoch 73/300\n",
      "16/16 [==============================] - 0s 5ms/step - loss: 0.0039 - acc: 1.0000\n",
      "Epoch 74/300\n",
      "16/16 [==============================] - 0s 4ms/step - loss: 0.0038 - acc: 1.0000\n",
      "Epoch 75/300\n",
      "16/16 [==============================] - 0s 5ms/step - loss: 0.0037 - acc: 1.0000\n",
      "Epoch 76/300\n",
      "16/16 [==============================] - 0s 4ms/step - loss: 0.0036 - acc: 1.0000\n",
      "Epoch 77/300\n",
      "16/16 [==============================] - 0s 4ms/step - loss: 0.0035 - acc: 1.0000\n",
      "Epoch 78/300\n",
      "16/16 [==============================] - 0s 5ms/step - loss: 0.0034 - acc: 1.0000\n",
      "Epoch 79/300\n",
      "16/16 [==============================] - 0s 5ms/step - loss: 0.0034 - acc: 1.0000\n",
      "Epoch 80/300\n",
      "16/16 [==============================] - 0s 4ms/step - loss: 0.0033 - acc: 1.0000\n",
      "Epoch 81/300\n",
      "16/16 [==============================] - 0s 4ms/step - loss: 0.0032 - acc: 1.0000\n",
      "Epoch 82/300\n",
      "16/16 [==============================] - 0s 4ms/step - loss: 0.0032 - acc: 1.0000\n",
      "Epoch 83/300\n",
      "16/16 [==============================] - 0s 5ms/step - loss: 0.0031 - acc: 1.0000\n",
      "Epoch 84/300\n",
      "16/16 [==============================] - 0s 5ms/step - loss: 0.0030 - acc: 1.0000\n",
      "Epoch 85/300\n",
      "16/16 [==============================] - 0s 5ms/step - loss: 0.0030 - acc: 1.0000\n",
      "Epoch 86/300\n",
      "16/16 [==============================] - 0s 5ms/step - loss: 0.0029 - acc: 1.0000\n",
      "Epoch 87/300\n",
      "16/16 [==============================] - 0s 5ms/step - loss: 0.0029 - acc: 1.0000\n",
      "Epoch 88/300\n",
      "16/16 [==============================] - 0s 5ms/step - loss: 0.0028 - acc: 1.0000\n",
      "Epoch 89/300\n",
      "16/16 [==============================] - 0s 5ms/step - loss: 0.0027 - acc: 1.0000\n",
      "Epoch 90/300\n",
      "16/16 [==============================] - 0s 5ms/step - loss: 0.0027 - acc: 1.0000\n",
      "Epoch 91/300\n",
      "16/16 [==============================] - 0s 5ms/step - loss: 0.0026 - acc: 1.0000\n",
      "Epoch 92/300\n",
      "16/16 [==============================] - 0s 5ms/step - loss: 0.0026 - acc: 1.0000\n",
      "Epoch 93/300\n",
      "16/16 [==============================] - 0s 5ms/step - loss: 0.0025 - acc: 1.0000\n",
      "Epoch 94/300\n",
      "16/16 [==============================] - 0s 5ms/step - loss: 0.0025 - acc: 1.0000\n",
      "Epoch 95/300\n",
      "16/16 [==============================] - 0s 4ms/step - loss: 0.0025 - acc: 1.0000\n",
      "Epoch 96/300\n",
      "16/16 [==============================] - 0s 5ms/step - loss: 0.0024 - acc: 1.0000\n",
      "Epoch 97/300\n",
      "16/16 [==============================] - 0s 5ms/step - loss: 0.0024 - acc: 1.0000\n",
      "Epoch 98/300\n",
      "16/16 [==============================] - 0s 4ms/step - loss: 0.0023 - acc: 1.0000\n",
      "Epoch 99/300\n",
      "16/16 [==============================] - 0s 5ms/step - loss: 0.0023 - acc: 1.0000\n",
      "Epoch 100/300\n",
      "16/16 [==============================] - 0s 4ms/step - loss: 0.0022 - acc: 1.0000\n",
      "Epoch 101/300\n",
      "16/16 [==============================] - 0s 5ms/step - loss: 0.0022 - acc: 1.0000\n",
      "Epoch 102/300\n",
      "16/16 [==============================] - 0s 6ms/step - loss: 0.0022 - acc: 1.0000\n",
      "Epoch 103/300\n",
      "16/16 [==============================] - 0s 5ms/step - loss: 0.0021 - acc: 1.0000\n",
      "Epoch 104/300\n",
      "16/16 [==============================] - 0s 5ms/step - loss: 0.0021 - acc: 1.0000\n",
      "Epoch 105/300\n",
      "16/16 [==============================] - 0s 5ms/step - loss: 0.0021 - acc: 1.0000\n",
      "Epoch 106/300\n",
      "16/16 [==============================] - 0s 4ms/step - loss: 0.0020 - acc: 1.0000\n",
      "Epoch 107/300\n",
      "16/16 [==============================] - 0s 5ms/step - loss: 0.0020 - acc: 1.0000\n",
      "Epoch 108/300\n",
      "16/16 [==============================] - 0s 4ms/step - loss: 0.0020 - acc: 1.0000\n",
      "Epoch 109/300\n",
      "16/16 [==============================] - 0s 5ms/step - loss: 0.0019 - acc: 1.0000\n",
      "Epoch 110/300\n",
      "16/16 [==============================] - 0s 5ms/step - loss: 0.0019 - acc: 1.0000\n",
      "Epoch 111/300\n",
      "16/16 [==============================] - 0s 5ms/step - loss: 0.0019 - acc: 1.0000\n",
      "Epoch 112/300\n",
      "16/16 [==============================] - 0s 5ms/step - loss: 0.0018 - acc: 1.0000\n",
      "Epoch 113/300\n",
      "16/16 [==============================] - 0s 5ms/step - loss: 0.0018 - acc: 1.0000\n",
      "Epoch 114/300\n",
      "16/16 [==============================] - 0s 5ms/step - loss: 0.0018 - acc: 1.0000\n",
      "Epoch 115/300\n",
      "16/16 [==============================] - 0s 5ms/step - loss: 0.0017 - acc: 1.0000\n",
      "Epoch 116/300\n",
      "16/16 [==============================] - 0s 5ms/step - loss: 0.0017 - acc: 1.0000\n",
      "Epoch 117/300\n",
      "16/16 [==============================] - 0s 5ms/step - loss: 0.0017 - acc: 1.0000\n",
      "Epoch 118/300\n",
      "16/16 [==============================] - 0s 5ms/step - loss: 0.0017 - acc: 1.0000\n",
      "Epoch 119/300\n",
      "16/16 [==============================] - 0s 5ms/step - loss: 0.0016 - acc: 1.0000\n",
      "Epoch 120/300\n",
      "16/16 [==============================] - 0s 5ms/step - loss: 0.0016 - acc: 1.0000\n",
      "Epoch 121/300\n",
      "16/16 [==============================] - 0s 4ms/step - loss: 0.0016 - acc: 1.0000\n",
      "Epoch 122/300\n",
      "16/16 [==============================] - 0s 5ms/step - loss: 0.0016 - acc: 1.0000\n",
      "Epoch 123/300\n",
      "16/16 [==============================] - 0s 5ms/step - loss: 0.0015 - acc: 1.0000\n",
      "Epoch 124/300\n",
      "16/16 [==============================] - 0s 4ms/step - loss: 0.0015 - acc: 1.0000\n",
      "Epoch 125/300\n",
      "16/16 [==============================] - 0s 4ms/step - loss: 0.0015 - acc: 1.0000\n",
      "Epoch 126/300\n",
      "16/16 [==============================] - 0s 5ms/step - loss: 0.0015 - acc: 1.0000\n",
      "Epoch 127/300\n",
      "16/16 [==============================] - 0s 5ms/step - loss: 0.0014 - acc: 1.0000\n",
      "Epoch 128/300\n",
      "16/16 [==============================] - 0s 4ms/step - loss: 0.0014 - acc: 1.0000\n",
      "Epoch 129/300\n",
      "16/16 [==============================] - 0s 5ms/step - loss: 0.0014 - acc: 1.0000\n",
      "Epoch 130/300\n",
      "16/16 [==============================] - 0s 4ms/step - loss: 0.0014 - acc: 1.0000\n",
      "Epoch 131/300\n",
      "16/16 [==============================] - 0s 5ms/step - loss: 0.0014 - acc: 1.0000\n",
      "Epoch 132/300\n",
      "16/16 [==============================] - 0s 5ms/step - loss: 0.0013 - acc: 1.0000\n",
      "Epoch 133/300\n",
      "16/16 [==============================] - 0s 4ms/step - loss: 0.0013 - acc: 1.0000\n",
      "Epoch 134/300\n",
      "16/16 [==============================] - 0s 4ms/step - loss: 0.0013 - acc: 1.0000\n",
      "Epoch 135/300\n",
      "16/16 [==============================] - 0s 5ms/step - loss: 0.0013 - acc: 1.0000\n",
      "Epoch 136/300\n",
      "16/16 [==============================] - 0s 5ms/step - loss: 0.0013 - acc: 1.0000\n",
      "Epoch 137/300\n",
      "16/16 [==============================] - 0s 5ms/step - loss: 0.0013 - acc: 1.0000\n",
      "Epoch 138/300\n",
      "16/16 [==============================] - 0s 5ms/step - loss: 0.0012 - acc: 1.0000\n",
      "Epoch 139/300\n",
      "16/16 [==============================] - 0s 4ms/step - loss: 0.0012 - acc: 1.0000\n",
      "Epoch 140/300\n",
      "16/16 [==============================] - 0s 5ms/step - loss: 0.0012 - acc: 1.0000\n",
      "Epoch 141/300\n",
      "16/16 [==============================] - 0s 4ms/step - loss: 0.0012 - acc: 1.0000\n",
      "Epoch 142/300\n",
      "16/16 [==============================] - 0s 4ms/step - loss: 0.0012 - acc: 1.0000\n",
      "Epoch 143/300\n",
      "16/16 [==============================] - 0s 4ms/step - loss: 0.0012 - acc: 1.0000\n",
      "Epoch 144/300\n",
      "16/16 [==============================] - 0s 5ms/step - loss: 0.0011 - acc: 1.0000\n",
      "Epoch 145/300\n",
      "16/16 [==============================] - 0s 5ms/step - loss: 0.0011 - acc: 1.0000\n",
      "Epoch 146/300\n",
      "16/16 [==============================] - 0s 4ms/step - loss: 0.0011 - acc: 1.0000\n",
      "Epoch 147/300\n",
      "16/16 [==============================] - 0s 4ms/step - loss: 0.0011 - acc: 1.0000\n",
      "Epoch 148/300\n",
      "16/16 [==============================] - 0s 4ms/step - loss: 0.0011 - acc: 1.0000\n",
      "Epoch 149/300\n",
      "16/16 [==============================] - 0s 4ms/step - loss: 0.0011 - acc: 1.0000\n",
      "Epoch 150/300\n",
      "16/16 [==============================] - 0s 5ms/step - loss: 0.0011 - acc: 1.0000\n",
      "Epoch 151/300\n",
      "16/16 [==============================] - 0s 5ms/step - loss: 0.0010 - acc: 1.0000\n",
      "Epoch 152/300\n",
      "16/16 [==============================] - 0s 4ms/step - loss: 0.0010 - acc: 1.0000\n",
      "Epoch 153/300\n",
      "16/16 [==============================] - 0s 4ms/step - loss: 0.0010 - acc: 1.0000\n",
      "Epoch 154/300\n",
      "16/16 [==============================] - 0s 5ms/step - loss: 9.9895e-04 - acc: 1.0000\n",
      "Epoch 155/300\n",
      "16/16 [==============================] - 0s 4ms/step - loss: 9.8615e-04 - acc: 1.0000\n",
      "Epoch 156/300\n",
      "16/16 [==============================] - 0s 5ms/step - loss: 9.7357e-04 - acc: 1.0000\n",
      "Epoch 157/300\n",
      "16/16 [==============================] - 0s 4ms/step - loss: 9.6122e-04 - acc: 1.0000\n",
      "Epoch 158/300\n",
      "16/16 [==============================] - 0s 5ms/step - loss: 9.4907e-04 - acc: 1.0000\n",
      "Epoch 159/300\n",
      "16/16 [==============================] - 0s 4ms/step - loss: 9.3712e-04 - acc: 1.0000\n",
      "Epoch 160/300\n",
      "16/16 [==============================] - 0s 4ms/step - loss: 9.2539e-04 - acc: 1.0000\n",
      "Epoch 161/300\n",
      "16/16 [==============================] - 0s 4ms/step - loss: 9.1381e-04 - acc: 1.0000\n",
      "Epoch 162/300\n",
      "16/16 [==============================] - 0s 4ms/step - loss: 9.0244e-04 - acc: 1.0000\n",
      "Epoch 163/300\n",
      "16/16 [==============================] - 0s 4ms/step - loss: 8.9126e-04 - acc: 1.0000\n",
      "Epoch 164/300\n",
      "16/16 [==============================] - 0s 4ms/step - loss: 8.8027e-04 - acc: 1.0000\n",
      "Epoch 165/300\n",
      "16/16 [==============================] - 0s 5ms/step - loss: 8.6944e-04 - acc: 1.0000\n",
      "Epoch 166/300\n",
      "16/16 [==============================] - 0s 4ms/step - loss: 8.5881e-04 - acc: 1.0000\n",
      "Epoch 167/300\n",
      "16/16 [==============================] - 0s 5ms/step - loss: 8.4833e-04 - acc: 1.0000\n",
      "Epoch 168/300\n",
      "16/16 [==============================] - 0s 5ms/step - loss: 8.3802e-04 - acc: 1.0000\n",
      "Epoch 169/300\n",
      "16/16 [==============================] - 0s 5ms/step - loss: 8.2787e-04 - acc: 1.0000\n",
      "Epoch 170/300\n",
      "16/16 [==============================] - 0s 4ms/step - loss: 8.1785e-04 - acc: 1.0000\n",
      "Epoch 171/300\n"
     ]
    },
    {
     "name": "stdout",
     "output_type": "stream",
     "text": [
      "16/16 [==============================] - 0s 4ms/step - loss: 8.0804e-04 - acc: 1.0000\n",
      "Epoch 172/300\n",
      "16/16 [==============================] - 0s 5ms/step - loss: 7.9843e-04 - acc: 1.0000\n",
      "Epoch 173/300\n",
      "16/16 [==============================] - 0s 5ms/step - loss: 7.8887e-04 - acc: 1.0000\n",
      "Epoch 174/300\n",
      "16/16 [==============================] - 0s 4ms/step - loss: 7.7946e-04 - acc: 1.0000\n",
      "Epoch 175/300\n",
      "16/16 [==============================] - 0s 4ms/step - loss: 7.7023e-04 - acc: 1.0000\n",
      "Epoch 176/300\n",
      "16/16 [==============================] - 0s 5ms/step - loss: 7.6114e-04 - acc: 1.0000\n",
      "Epoch 177/300\n",
      "16/16 [==============================] - 0s 5ms/step - loss: 7.5218e-04 - acc: 1.0000\n",
      "Epoch 178/300\n",
      "16/16 [==============================] - 0s 5ms/step - loss: 7.4333e-04 - acc: 1.0000\n",
      "Epoch 179/300\n",
      "16/16 [==============================] - 0s 5ms/step - loss: 7.3463e-04 - acc: 1.0000\n",
      "Epoch 180/300\n",
      "16/16 [==============================] - 0s 5ms/step - loss: 7.2606e-04 - acc: 1.0000\n",
      "Epoch 181/300\n",
      "16/16 [==============================] - 0s 4ms/step - loss: 7.1764e-04 - acc: 1.0000\n",
      "Epoch 182/300\n",
      "16/16 [==============================] - 0s 5ms/step - loss: 7.0934e-04 - acc: 1.0000\n",
      "Epoch 183/300\n",
      "16/16 [==============================] - 0s 5ms/step - loss: 7.0113e-04 - acc: 1.0000\n",
      "Epoch 184/300\n",
      "16/16 [==============================] - 0s 4ms/step - loss: 6.9309e-04 - acc: 1.0000\n",
      "Epoch 185/300\n",
      "16/16 [==============================] - 0s 5ms/step - loss: 6.8515e-04 - acc: 1.0000\n",
      "Epoch 186/300\n",
      "16/16 [==============================] - 0s 5ms/step - loss: 6.7730e-04 - acc: 1.0000\n",
      "Epoch 187/300\n",
      "16/16 [==============================] - 0s 4ms/step - loss: 6.6961e-04 - acc: 1.0000\n",
      "Epoch 188/300\n",
      "16/16 [==============================] - 0s 4ms/step - loss: 6.6200e-04 - acc: 1.0000\n",
      "Epoch 189/300\n",
      "16/16 [==============================] - 0s 5ms/step - loss: 6.5449e-04 - acc: 1.0000\n",
      "Epoch 190/300\n",
      "16/16 [==============================] - 0s 7ms/step - loss: 6.4710e-04 - acc: 1.0000\n",
      "Epoch 191/300\n",
      "16/16 [==============================] - 0s 5ms/step - loss: 6.3981e-04 - acc: 1.0000\n",
      "Epoch 192/300\n",
      "16/16 [==============================] - 0s 4ms/step - loss: 6.3262e-04 - acc: 1.0000\n",
      "Epoch 193/300\n",
      "16/16 [==============================] - 0s 4ms/step - loss: 6.2552e-04 - acc: 1.0000\n",
      "Epoch 194/300\n",
      "16/16 [==============================] - 0s 5ms/step - loss: 6.1855e-04 - acc: 1.0000\n",
      "Epoch 195/300\n",
      "16/16 [==============================] - 0s 5ms/step - loss: 6.1167e-04 - acc: 1.0000\n",
      "Epoch 196/300\n",
      "16/16 [==============================] - 0s 6ms/step - loss: 6.0488e-04 - acc: 1.0000\n",
      "Epoch 197/300\n",
      "16/16 [==============================] - 0s 5ms/step - loss: 5.9820e-04 - acc: 1.0000\n",
      "Epoch 198/300\n",
      "16/16 [==============================] - 0s 4ms/step - loss: 5.9160e-04 - acc: 1.0000\n",
      "Epoch 199/300\n",
      "16/16 [==============================] - 0s 5ms/step - loss: 5.8510e-04 - acc: 1.0000\n",
      "Epoch 200/300\n",
      "16/16 [==============================] - 0s 5ms/step - loss: 5.7872e-04 - acc: 1.0000\n",
      "Epoch 201/300\n",
      "16/16 [==============================] - 0s 4ms/step - loss: 5.7241e-04 - acc: 1.0000\n",
      "Epoch 202/300\n",
      "16/16 [==============================] - 0s 4ms/step - loss: 5.6610e-04 - acc: 1.0000\n",
      "Epoch 203/300\n",
      "16/16 [==============================] - 0s 4ms/step - loss: 5.5995e-04 - acc: 1.0000\n",
      "Epoch 204/300\n",
      "16/16 [==============================] - 0s 5ms/step - loss: 5.5388e-04 - acc: 1.0000\n",
      "Epoch 205/300\n",
      "16/16 [==============================] - 0s 4ms/step - loss: 5.4789e-04 - acc: 1.0000\n",
      "Epoch 206/300\n",
      "16/16 [==============================] - 0s 4ms/step - loss: 5.4196e-04 - acc: 1.0000\n",
      "Epoch 207/300\n",
      "16/16 [==============================] - 0s 4ms/step - loss: 5.3613e-04 - acc: 1.0000\n",
      "Epoch 208/300\n",
      "16/16 [==============================] - 0s 4ms/step - loss: 5.3039e-04 - acc: 1.0000\n",
      "Epoch 209/300\n",
      "16/16 [==============================] - 0s 4ms/step - loss: 5.2471e-04 - acc: 1.0000\n",
      "Epoch 210/300\n",
      "16/16 [==============================] - 0s 4ms/step - loss: 5.1909e-04 - acc: 1.0000\n",
      "Epoch 211/300\n",
      "16/16 [==============================] - 0s 4ms/step - loss: 5.1355e-04 - acc: 1.0000\n",
      "Epoch 212/300\n",
      "16/16 [==============================] - 0s 5ms/step - loss: 5.0808e-04 - acc: 1.0000\n",
      "Epoch 213/300\n",
      "16/16 [==============================] - 0s 5ms/step - loss: 5.0268e-04 - acc: 1.0000\n",
      "Epoch 214/300\n",
      "16/16 [==============================] - 0s 4ms/step - loss: 4.9738e-04 - acc: 1.0000\n",
      "Epoch 215/300\n",
      "16/16 [==============================] - 0s 4ms/step - loss: 4.9211e-04 - acc: 1.0000\n",
      "Epoch 216/300\n",
      "16/16 [==============================] - 0s 4ms/step - loss: 4.8690e-04 - acc: 1.0000\n",
      "Epoch 217/300\n",
      "16/16 [==============================] - 0s 4ms/step - loss: 4.8180e-04 - acc: 1.0000\n",
      "Epoch 218/300\n",
      "16/16 [==============================] - 0s 4ms/step - loss: 4.7676e-04 - acc: 1.0000\n",
      "Epoch 219/300\n",
      "16/16 [==============================] - 0s 5ms/step - loss: 4.7177e-04 - acc: 1.0000\n",
      "Epoch 220/300\n",
      "16/16 [==============================] - 0s 4ms/step - loss: 4.6686e-04 - acc: 1.0000\n",
      "Epoch 221/300\n",
      "16/16 [==============================] - 0s 4ms/step - loss: 4.6198e-04 - acc: 1.0000\n",
      "Epoch 222/300\n",
      "16/16 [==============================] - 0s 4ms/step - loss: 4.5717e-04 - acc: 1.0000\n",
      "Epoch 223/300\n",
      "16/16 [==============================] - 0s 4ms/step - loss: 4.5245e-04 - acc: 1.0000\n",
      "Epoch 224/300\n",
      "16/16 [==============================] - 0s 4ms/step - loss: 4.4777e-04 - acc: 1.0000\n",
      "Epoch 225/300\n",
      "16/16 [==============================] - 0s 4ms/step - loss: 4.4316e-04 - acc: 1.0000\n",
      "Epoch 226/300\n",
      "16/16 [==============================] - 0s 4ms/step - loss: 4.3862e-04 - acc: 1.0000\n",
      "Epoch 227/300\n",
      "16/16 [==============================] - 0s 4ms/step - loss: 4.3415e-04 - acc: 1.0000\n",
      "Epoch 228/300\n",
      "16/16 [==============================] - 0s 4ms/step - loss: 4.2964e-04 - acc: 1.0000\n",
      "Epoch 229/300\n",
      "16/16 [==============================] - 0s 4ms/step - loss: 4.2525e-04 - acc: 1.0000\n",
      "Epoch 230/300\n",
      "16/16 [==============================] - 0s 6ms/step - loss: 4.2091e-04 - acc: 1.0000\n",
      "Epoch 231/300\n",
      "16/16 [==============================] - 0s 5ms/step - loss: 4.1664e-04 - acc: 1.0000\n",
      "Epoch 232/300\n",
      "16/16 [==============================] - 0s 4ms/step - loss: 4.1241e-04 - acc: 1.0000\n",
      "Epoch 233/300\n",
      "16/16 [==============================] - 0s 4ms/step - loss: 4.0822e-04 - acc: 1.0000\n",
      "Epoch 234/300\n",
      "16/16 [==============================] - 0s 4ms/step - loss: 4.0407e-04 - acc: 1.0000\n",
      "Epoch 235/300\n",
      "16/16 [==============================] - 0s 4ms/step - loss: 3.9998e-04 - acc: 1.0000\n",
      "Epoch 236/300\n",
      "16/16 [==============================] - 0s 4ms/step - loss: 3.9596e-04 - acc: 1.0000\n",
      "Epoch 237/300\n",
      "16/16 [==============================] - 0s 4ms/step - loss: 3.9198e-04 - acc: 1.0000\n",
      "Epoch 238/300\n",
      "16/16 [==============================] - 0s 4ms/step - loss: 3.8804e-04 - acc: 1.0000\n",
      "Epoch 239/300\n",
      "16/16 [==============================] - 0s 5ms/step - loss: 3.8416e-04 - acc: 1.0000\n",
      "Epoch 240/300\n",
      "16/16 [==============================] - 0s 4ms/step - loss: 3.8032e-04 - acc: 1.0000\n",
      "Epoch 241/300\n",
      "16/16 [==============================] - 0s 4ms/step - loss: 3.7652e-04 - acc: 1.0000\n",
      "Epoch 242/300\n",
      "16/16 [==============================] - 0s 4ms/step - loss: 3.7276e-04 - acc: 1.0000\n",
      "Epoch 243/300\n",
      "16/16 [==============================] - 0s 4ms/step - loss: 3.6904e-04 - acc: 1.0000\n",
      "Epoch 244/300\n",
      "16/16 [==============================] - 0s 5ms/step - loss: 3.6538e-04 - acc: 1.0000\n",
      "Epoch 245/300\n",
      "16/16 [==============================] - 0s 4ms/step - loss: 3.6177e-04 - acc: 1.0000\n",
      "Epoch 246/300\n",
      "16/16 [==============================] - 0s 4ms/step - loss: 3.5820e-04 - acc: 1.0000\n",
      "Epoch 247/300\n",
      "16/16 [==============================] - 0s 4ms/step - loss: 3.5467e-04 - acc: 1.0000\n",
      "Epoch 248/300\n",
      "16/16 [==============================] - 0s 4ms/step - loss: 3.5117e-04 - acc: 1.0000\n",
      "Epoch 249/300\n",
      "16/16 [==============================] - 0s 4ms/step - loss: 3.4772e-04 - acc: 1.0000\n",
      "Epoch 250/300\n",
      "16/16 [==============================] - 0s 4ms/step - loss: 3.4430e-04 - acc: 1.0000\n",
      "Epoch 251/300\n",
      "16/16 [==============================] - 0s 4ms/step - loss: 3.4092e-04 - acc: 1.0000\n",
      "Epoch 252/300\n",
      "16/16 [==============================] - 0s 4ms/step - loss: 3.3760e-04 - acc: 1.0000\n",
      "Epoch 253/300\n"
     ]
    },
    {
     "name": "stdout",
     "output_type": "stream",
     "text": [
      "16/16 [==============================] - 0s 4ms/step - loss: 3.3432e-04 - acc: 1.0000\n",
      "Epoch 254/300\n",
      "16/16 [==============================] - 0s 4ms/step - loss: 3.3104e-04 - acc: 1.0000\n",
      "Epoch 255/300\n",
      "16/16 [==============================] - 0s 4ms/step - loss: 3.2782e-04 - acc: 1.0000\n",
      "Epoch 256/300\n",
      "16/16 [==============================] - 0s 4ms/step - loss: 3.2463e-04 - acc: 1.0000\n",
      "Epoch 257/300\n",
      "16/16 [==============================] - 0s 5ms/step - loss: 3.2149e-04 - acc: 1.0000\n",
      "Epoch 258/300\n",
      "16/16 [==============================] - 0s 5ms/step - loss: 3.1837e-04 - acc: 1.0000\n",
      "Epoch 259/300\n",
      "16/16 [==============================] - 0s 4ms/step - loss: 3.1529e-04 - acc: 1.0000\n",
      "Epoch 260/300\n",
      "16/16 [==============================] - 0s 4ms/step - loss: 3.1225e-04 - acc: 1.0000\n",
      "Epoch 261/300\n",
      "16/16 [==============================] - 0s 4ms/step - loss: 3.0925e-04 - acc: 1.0000\n",
      "Epoch 262/300\n",
      "16/16 [==============================] - 0s 4ms/step - loss: 3.0624e-04 - acc: 1.0000\n",
      "Epoch 263/300\n",
      "16/16 [==============================] - 0s 4ms/step - loss: 3.0330e-04 - acc: 1.0000\n",
      "Epoch 264/300\n",
      "16/16 [==============================] - 0s 5ms/step - loss: 3.0040e-04 - acc: 1.0000\n",
      "Epoch 265/300\n",
      "16/16 [==============================] - 0s 4ms/step - loss: 2.9752e-04 - acc: 1.0000\n",
      "Epoch 266/300\n",
      "16/16 [==============================] - 0s 4ms/step - loss: 2.9468e-04 - acc: 1.0000\n",
      "Epoch 267/300\n",
      "16/16 [==============================] - 0s 4ms/step - loss: 2.9187e-04 - acc: 1.0000\n",
      "Epoch 268/300\n",
      "16/16 [==============================] - 0s 4ms/step - loss: 2.8909e-04 - acc: 1.0000\n",
      "Epoch 269/300\n",
      "16/16 [==============================] - 0s 4ms/step - loss: 2.8633e-04 - acc: 1.0000\n",
      "Epoch 270/300\n",
      "16/16 [==============================] - 0s 4ms/step - loss: 2.8361e-04 - acc: 1.0000\n",
      "Epoch 271/300\n",
      "16/16 [==============================] - 0s 4ms/step - loss: 2.8093e-04 - acc: 1.0000\n",
      "Epoch 272/300\n",
      "16/16 [==============================] - 0s 4ms/step - loss: 2.7827e-04 - acc: 1.0000\n",
      "Epoch 273/300\n",
      "16/16 [==============================] - 0s 4ms/step - loss: 2.7565e-04 - acc: 1.0000\n",
      "Epoch 274/300\n",
      "16/16 [==============================] - 0s 4ms/step - loss: 2.7302e-04 - acc: 1.0000\n",
      "Epoch 275/300\n",
      "16/16 [==============================] - 0s 4ms/step - loss: 2.7043e-04 - acc: 1.0000\n",
      "Epoch 276/300\n",
      "16/16 [==============================] - 0s 4ms/step - loss: 2.6788e-04 - acc: 1.0000\n",
      "Epoch 277/300\n",
      "16/16 [==============================] - 0s 4ms/step - loss: 2.6536e-04 - acc: 1.0000\n",
      "Epoch 278/300\n",
      "16/16 [==============================] - 0s 4ms/step - loss: 2.6287e-04 - acc: 1.0000\n",
      "Epoch 279/300\n",
      "16/16 [==============================] - 0s 4ms/step - loss: 2.6047e-04 - acc: 1.0000\n",
      "Epoch 280/300\n",
      "16/16 [==============================] - 0s 4ms/step - loss: 2.5799e-04 - acc: 1.0000\n",
      "Epoch 281/300\n",
      "16/16 [==============================] - 0s 4ms/step - loss: 2.5556e-04 - acc: 1.0000\n",
      "Epoch 282/300\n",
      "16/16 [==============================] - 0s 4ms/step - loss: 2.5316e-04 - acc: 1.0000\n",
      "Epoch 283/300\n",
      "16/16 [==============================] - 0s 4ms/step - loss: 2.5080e-04 - acc: 1.0000\n",
      "Epoch 284/300\n",
      "16/16 [==============================] - 0s 4ms/step - loss: 2.4847e-04 - acc: 1.0000\n",
      "Epoch 285/300\n",
      "16/16 [==============================] - 0s 4ms/step - loss: 2.4616e-04 - acc: 1.0000\n",
      "Epoch 286/300\n",
      "16/16 [==============================] - 0s 4ms/step - loss: 2.4388e-04 - acc: 1.0000\n",
      "Epoch 287/300\n",
      "16/16 [==============================] - 0s 4ms/step - loss: 2.4161e-04 - acc: 1.0000\n",
      "Epoch 288/300\n",
      "16/16 [==============================] - 0s 4ms/step - loss: 2.3938e-04 - acc: 1.0000\n",
      "Epoch 289/300\n",
      "16/16 [==============================] - 0s 4ms/step - loss: 2.3716e-04 - acc: 1.0000\n",
      "Epoch 290/300\n",
      "16/16 [==============================] - 0s 4ms/step - loss: 2.3494e-04 - acc: 1.0000\n",
      "Epoch 291/300\n",
      "16/16 [==============================] - 0s 4ms/step - loss: 2.3277e-04 - acc: 1.0000\n",
      "Epoch 292/300\n",
      "16/16 [==============================] - 0s 4ms/step - loss: 2.3062e-04 - acc: 1.0000\n",
      "Epoch 293/300\n",
      "16/16 [==============================] - 0s 4ms/step - loss: 2.2850e-04 - acc: 1.0000\n",
      "Epoch 294/300\n",
      "16/16 [==============================] - 0s 4ms/step - loss: 2.2640e-04 - acc: 1.0000\n",
      "Epoch 295/300\n",
      "16/16 [==============================] - 0s 4ms/step - loss: 2.2432e-04 - acc: 1.0000\n",
      "Epoch 296/300\n",
      "16/16 [==============================] - 0s 4ms/step - loss: 2.2226e-04 - acc: 1.0000\n",
      "Epoch 297/300\n",
      "16/16 [==============================] - 0s 4ms/step - loss: 2.2021e-04 - acc: 1.0000\n",
      "Epoch 298/300\n",
      "16/16 [==============================] - 0s 4ms/step - loss: 2.1820e-04 - acc: 1.0000\n",
      "Epoch 299/300\n",
      "16/16 [==============================] - 0s 4ms/step - loss: 2.1620e-04 - acc: 1.0000\n",
      "Epoch 300/300\n",
      "16/16 [==============================] - 0s 4ms/step - loss: 2.1423e-04 - acc: 1.0000\n"
     ]
    },
    {
     "data": {
      "text/plain": [
       "<keras.callbacks.History at 0x1bd1f7f65c0>"
      ]
     },
     "execution_count": 73,
     "metadata": {},
     "output_type": "execute_result"
    }
   ],
   "source": [
    "model.compile(optimizer=Adam(lr=.01), loss='sparse_categorical_crossentropy', metrics=['accuracy'])\n",
    "model.fit(padded, y2, batch_size=1, epochs=300)"
   ]
  },
  {
   "cell_type": "code",
   "execution_count": 74,
   "metadata": {},
   "outputs": [
    {
     "data": {
      "text/plain": [
       "array([[9.9997973e-01, 1.8550531e-05, 1.6648906e-06],\n",
       "       [9.9999917e-01, 8.4158341e-07, 4.8211305e-08],\n",
       "       [9.9999952e-01, 5.0712845e-07, 2.7370612e-08],\n",
       "       [9.9999952e-01, 4.6874524e-07, 2.5210564e-08],\n",
       "       [9.9999952e-01, 4.6305007e-07, 2.4914572e-08],\n",
       "       [7.5510914e-05, 9.9940360e-01, 5.2092219e-04],\n",
       "       [7.8135025e-04, 2.4711108e-04, 9.9897158e-01],\n",
       "       [9.9930620e-01, 1.6302927e-05, 6.7747041e-04],\n",
       "       [9.9999881e-01, 9.0419661e-07, 1.8783415e-07],\n",
       "       [9.9999952e-01, 5.1413099e-07, 3.3944783e-08],\n",
       "       [9.9999952e-01, 4.7030079e-07, 2.6153611e-08]], dtype=float32)"
      ]
     },
     "execution_count": 74,
     "metadata": {},
     "output_type": "execute_result"
    }
   ],
   "source": [
    "pred = model.predict(padded)\n",
    "pred[0]"
   ]
  },
  {
   "cell_type": "code",
   "execution_count": 75,
   "metadata": {},
   "outputs": [
    {
     "data": {
      "text/plain": [
       "array([0, 0, 0, 0, 0, 1, 2, 0, 0, 0, 0], dtype=int64)"
      ]
     },
     "execution_count": 75,
     "metadata": {},
     "output_type": "execute_result"
    }
   ],
   "source": [
    "result = pred.argmax(axis=2)\n",
    "result[0]"
   ]
  },
  {
   "cell_type": "code",
   "execution_count": 76,
   "metadata": {},
   "outputs": [
    {
     "data": {
      "text/plain": [
       "array([0, 0, 0, 0, 0, 5, 6, 1, 2, 3, 4])"
      ]
     },
     "execution_count": 76,
     "metadata": {},
     "output_type": "execute_result"
    }
   ],
   "source": [
    "padded[0]"
   ]
  },
  {
   "cell_type": "code",
   "execution_count": 77,
   "metadata": {},
   "outputs": [],
   "source": [
    "def get_key_by_value(value):\n",
    "    for k, v in tok.word_index.items():\n",
    "        if v==value:\n",
    "            return k"
   ]
  },
  {
   "cell_type": "code",
   "execution_count": 78,
   "metadata": {},
   "outputs": [],
   "source": [
    "get_value = []\n",
    "for x_value, y_value in zip(padded[0], result[0]):\n",
    "    if y_value != 0:\n",
    "        letter = get_key_by_value(x_value)\n",
    "        get_value.append([y_value, letter])"
   ]
  },
  {
   "cell_type": "code",
   "execution_count": 79,
   "metadata": {},
   "outputs": [
    {
     "data": {
      "text/plain": [
       "[[1, '오'], [2, '늘']]"
      ]
     },
     "execution_count": 79,
     "metadata": {},
     "output_type": "execute_result"
    }
   ],
   "source": [
    "get_value"
   ]
  },
  {
   "cell_type": "code",
   "execution_count": 80,
   "metadata": {},
   "outputs": [],
   "source": [
    "def get_words(x, y):\n",
    "    final_result = []\n",
    "    sentence_num = 1\n",
    "    for x_value, y_value in zip(x, y):\n",
    "        date = []\n",
    "        for word_num, y_label in zip(x_value, y_value):\n",
    "            if y_label != 0:                           \n",
    "                word = get_key_by_value(word_num)      \n",
    "                date.append([y_label, word])\n",
    "        final_result.append([sentence_num, date])      \n",
    "        sentence_num += 1\n",
    "    return final_result"
   ]
  },
  {
   "cell_type": "code",
   "execution_count": 81,
   "metadata": {},
   "outputs": [
    {
     "data": {
      "text/plain": [
       "[[1, [[1, '오'], [2, '늘']]],\n",
       " [2, [[1, '오'], [2, '늘']]],\n",
       " [3, [[1, '오'], [2, '늘']]],\n",
       " [4, [[1, '오'], [2, '늘']]],\n",
       " [5, [[1, '오'], [2, '늘']]],\n",
       " [6, [[1, '오'], [2, '늘']]],\n",
       " [7, [[1, '오'], [2, '늘']]],\n",
       " [8, [[1, '오'], [2, '늘']]],\n",
       " [9, [[1, '내'], [2, '일']]],\n",
       " [10, [[1, '내'], [2, '일']]],\n",
       " [11, [[1, '내'], [2, '일']]],\n",
       " [12, [[1, '내'], [2, '일']]],\n",
       " [13, [[1, '내'], [2, '일']]],\n",
       " [14, [[1, '내'], [2, '일']]],\n",
       " [15, [[1, '내'], [2, '일']]],\n",
       " [16, [[1, '내'], [2, '일']]]]"
      ]
     },
     "execution_count": 81,
     "metadata": {},
     "output_type": "execute_result"
    }
   ],
   "source": [
    "get_words(padded, result)"
   ]
  },
  {
   "cell_type": "markdown",
   "metadata": {},
   "source": [
    "### 1.2.2. 역방향 LSTM"
   ]
  },
  {
   "cell_type": "code",
   "execution_count": 82,
   "metadata": {},
   "outputs": [
    {
     "name": "stdout",
     "output_type": "stream",
     "text": [
      "_________________________________________________________________\n",
      "Layer (type)                 Output Shape              Param #   \n",
      "=================================================================\n",
      "embedding_2 (Embedding)      (None, 11, 2)             28        \n",
      "_________________________________________________________________\n",
      "lstm_2 (LSTM)                (None, 11, 2)             40        \n",
      "_________________________________________________________________\n",
      "time_distributed_2 (TimeDist (None, 11, 3)             9         \n",
      "=================================================================\n",
      "Total params: 77\n",
      "Trainable params: 77\n",
      "Non-trainable params: 0\n",
      "_________________________________________________________________\n"
     ]
    },
    {
     "data": {
      "image/png": "[encoded data removed]",
      "text/plain": [
       "<IPython.core.display.Image object>"
      ]
     },
     "execution_count": 82,
     "metadata": {},
     "output_type": "execute_result"
    }
   ],
   "source": [
    "model2 = Sequential()\n",
    "model2.add(Embedding(NUM_CHAR, 2, input_length=MAXLEN))\n",
    "model2.add(LSTM(2, return_sequences=True, go_backwards=True))\n",
    "model2.add(TimeDistributed(Dense(3, activation='softmax')))\n",
    "model2.summary()\n",
    "plot_model(model2, to_file='model2.png', show_shapes=True)\n",
    "Image('model2.png')"
   ]
  },
  {
   "cell_type": "code",
   "execution_count": 83,
   "metadata": {},
   "outputs": [
    {
     "name": "stdout",
     "output_type": "stream",
     "text": [
      "Epoch 1/300\n",
      "16/16 [==============================] - 1s 52ms/step - loss: 0.9769 - acc: 0.7727\n",
      "Epoch 2/300\n",
      "16/16 [==============================] - 0s 4ms/step - loss: 0.6618 - acc: 0.8182\n",
      "Epoch 3/300\n",
      "16/16 [==============================] - 0s 4ms/step - loss: 0.5788 - acc: 0.8182\n",
      "Epoch 4/300\n",
      "16/16 [==============================] - 0s 4ms/step - loss: 0.5711 - acc: 0.8182\n",
      "Epoch 5/300\n",
      "16/16 [==============================] - 0s 4ms/step - loss: 0.5566 - acc: 0.8182\n",
      "Epoch 6/300\n",
      "16/16 [==============================] - 0s 4ms/step - loss: 0.5462 - acc: 0.8182\n",
      "Epoch 7/300\n",
      "16/16 [==============================] - 0s 5ms/step - loss: 0.5327 - acc: 0.8182\n",
      "Epoch 8/300\n",
      "16/16 [==============================] - 0s 4ms/step - loss: 0.5158 - acc: 0.8182\n",
      "Epoch 9/300\n",
      "16/16 [==============================] - 0s 4ms/step - loss: 0.4895 - acc: 0.8182\n",
      "Epoch 10/300\n",
      "16/16 [==============================] - 0s 4ms/step - loss: 0.4676 - acc: 0.8182\n",
      "Epoch 11/300\n",
      "16/16 [==============================] - 0s 4ms/step - loss: 0.4486 - acc: 0.8182\n",
      "Epoch 12/300\n",
      "16/16 [==============================] - 0s 4ms/step - loss: 0.4348 - acc: 0.8182\n",
      "Epoch 13/300\n",
      "16/16 [==============================] - 0s 4ms/step - loss: 0.4274 - acc: 0.8182\n",
      "Epoch 14/300\n",
      "16/16 [==============================] - 0s 4ms/step - loss: 0.4180 - acc: 0.8182\n",
      "Epoch 15/300\n",
      "16/16 [==============================] - 0s 4ms/step - loss: 0.4125 - acc: 0.8182\n",
      "Epoch 16/300\n",
      "16/16 [==============================] - 0s 4ms/step - loss: 0.4059 - acc: 0.8182\n",
      "Epoch 17/300\n",
      "16/16 [==============================] - 0s 4ms/step - loss: 0.4015 - acc: 0.8182\n",
      "Epoch 18/300\n",
      "16/16 [==============================] - 0s 4ms/step - loss: 0.3968 - acc: 0.8125\n",
      "Epoch 19/300\n",
      "16/16 [==============================] - 0s 5ms/step - loss: 0.3942 - acc: 0.8125\n",
      "Epoch 20/300\n",
      "16/16 [==============================] - 0s 4ms/step - loss: 0.3889 - acc: 0.8239\n",
      "Epoch 21/300\n",
      "16/16 [==============================] - 0s 4ms/step - loss: 0.3845 - acc: 0.8295\n",
      "Epoch 22/300\n",
      "16/16 [==============================] - 0s 4ms/step - loss: 0.3789 - acc: 0.8239\n",
      "Epoch 23/300\n",
      "16/16 [==============================] - 0s 4ms/step - loss: 0.3722 - acc: 0.8068\n",
      "Epoch 24/300\n",
      "16/16 [==============================] - 0s 4ms/step - loss: 0.3734 - acc: 0.8125\n",
      "Epoch 25/300\n",
      "16/16 [==============================] - 0s 5ms/step - loss: 0.3678 - acc: 0.8011\n",
      "Epoch 26/300\n",
      "16/16 [==============================] - 0s 4ms/step - loss: 0.3606 - acc: 0.8068\n",
      "Epoch 27/300\n",
      "16/16 [==============================] - 0s 4ms/step - loss: 0.3577 - acc: 0.7955\n",
      "Epoch 28/300\n",
      "16/16 [==============================] - 0s 4ms/step - loss: 0.3532 - acc: 0.8068\n",
      "Epoch 29/300\n",
      "16/16 [==============================] - 0s 4ms/step - loss: 0.3473 - acc: 0.8125\n",
      "Epoch 30/300\n",
      "16/16 [==============================] - 0s 5ms/step - loss: 0.3426 - acc: 0.8125\n",
      "Epoch 31/300\n",
      "16/16 [==============================] - 0s 4ms/step - loss: 0.3418 - acc: 0.8182\n",
      "Epoch 32/300\n",
      "16/16 [==============================] - 0s 4ms/step - loss: 0.3364 - acc: 0.8295\n",
      "Epoch 33/300\n",
      "16/16 [==============================] - 0s 4ms/step - loss: 0.3344 - acc: 0.8466\n",
      "Epoch 34/300\n",
      "16/16 [==============================] - 0s 4ms/step - loss: 0.3321 - acc: 0.8352\n",
      "Epoch 35/300\n",
      "16/16 [==============================] - 0s 5ms/step - loss: 0.3327 - acc: 0.8295\n",
      "Epoch 36/300\n",
      "16/16 [==============================] - 0s 4ms/step - loss: 0.3236 - acc: 0.8409\n",
      "Epoch 37/300\n",
      "16/16 [==============================] - 0s 4ms/step - loss: 0.3153 - acc: 0.8523\n",
      "Epoch 38/300\n",
      "16/16 [==============================] - 0s 4ms/step - loss: 0.3132 - acc: 0.8466\n",
      "Epoch 39/300\n",
      "16/16 [==============================] - 0s 4ms/step - loss: 0.3124 - acc: 0.8409\n",
      "Epoch 40/300\n",
      "16/16 [==============================] - 0s 5ms/step - loss: 0.3062 - acc: 0.8580\n",
      "Epoch 41/300\n",
      "16/16 [==============================] - 0s 5ms/step - loss: 0.3021 - acc: 0.8636\n",
      "Epoch 42/300\n",
      "16/16 [==============================] - 0s 6ms/step - loss: 0.3006 - acc: 0.8750\n",
      "Epoch 43/300\n",
      "16/16 [==============================] - 0s 6ms/step - loss: 0.3015 - acc: 0.8807\n",
      "Epoch 44/300\n",
      "16/16 [==============================] - 0s 5ms/step - loss: 0.2942 - acc: 0.8750\n",
      "Epoch 45/300\n",
      "16/16 [==============================] - 0s 5ms/step - loss: 0.2909 - acc: 0.8750\n",
      "Epoch 46/300\n",
      "16/16 [==============================] - 0s 5ms/step - loss: 0.2877 - acc: 0.8750\n",
      "Epoch 47/300\n",
      "16/16 [==============================] - 0s 4ms/step - loss: 0.2875 - acc: 0.8864\n",
      "Epoch 48/300\n",
      "16/16 [==============================] - 0s 5ms/step - loss: 0.2883 - acc: 0.8977\n",
      "Epoch 49/300\n",
      "16/16 [==============================] - 0s 6ms/step - loss: 0.2856 - acc: 0.8864\n",
      "Epoch 50/300\n",
      "16/16 [==============================] - 0s 5ms/step - loss: 0.2809 - acc: 0.8977\n",
      "Epoch 51/300\n",
      "16/16 [==============================] - 0s 9ms/step - loss: 0.2789 - acc: 0.8977\n",
      "Epoch 52/300\n",
      "16/16 [==============================] - 0s 8ms/step - loss: 0.2787 - acc: 0.8977\n",
      "Epoch 53/300\n",
      "16/16 [==============================] - 0s 7ms/step - loss: 0.2757 - acc: 0.8977\n",
      "Epoch 54/300\n",
      "16/16 [==============================] - 0s 6ms/step - loss: 0.2740 - acc: 0.8977\n",
      "Epoch 55/300\n",
      "16/16 [==============================] - 0s 7ms/step - loss: 0.2700 - acc: 0.8977\n",
      "Epoch 56/300\n",
      "16/16 [==============================] - 0s 6ms/step - loss: 0.2692 - acc: 0.8977\n",
      "Epoch 57/300\n",
      "16/16 [==============================] - 0s 5ms/step - loss: 0.2680 - acc: 0.8977\n",
      "Epoch 58/300\n",
      "16/16 [==============================] - 0s 5ms/step - loss: 0.2669 - acc: 0.8977\n",
      "Epoch 59/300\n",
      "16/16 [==============================] - 0s 5ms/step - loss: 0.2635 - acc: 0.8977\n",
      "Epoch 60/300\n",
      "16/16 [==============================] - 0s 4ms/step - loss: 0.2612 - acc: 0.8977\n",
      "Epoch 61/300\n",
      "16/16 [==============================] - 0s 5ms/step - loss: 0.2662 - acc: 0.8920\n",
      "Epoch 62/300\n",
      "16/16 [==============================] - 0s 5ms/step - loss: 0.2588 - acc: 0.8977\n",
      "Epoch 63/300\n",
      "16/16 [==============================] - 0s 4ms/step - loss: 0.2596 - acc: 0.8977\n",
      "Epoch 64/300\n",
      "16/16 [==============================] - 0s 4ms/step - loss: 0.2574 - acc: 0.8977\n",
      "Epoch 65/300\n",
      "16/16 [==============================] - 0s 4ms/step - loss: 0.2593 - acc: 0.8977\n",
      "Epoch 66/300\n",
      "16/16 [==============================] - 0s 5ms/step - loss: 0.2575 - acc: 0.8920\n",
      "Epoch 67/300\n",
      "16/16 [==============================] - 0s 5ms/step - loss: 0.2575 - acc: 0.8977\n",
      "Epoch 68/300\n",
      "16/16 [==============================] - 0s 6ms/step - loss: 0.2547 - acc: 0.8977\n",
      "Epoch 69/300\n",
      "16/16 [==============================] - 0s 5ms/step - loss: 0.2608 - acc: 0.8920\n",
      "Epoch 70/300\n",
      "16/16 [==============================] - 0s 6ms/step - loss: 0.2540 - acc: 0.8920\n",
      "Epoch 71/300\n",
      "16/16 [==============================] - 0s 5ms/step - loss: 0.2565 - acc: 0.8977\n",
      "Epoch 72/300\n",
      "16/16 [==============================] - 0s 5ms/step - loss: 0.2554 - acc: 0.8920\n",
      "Epoch 73/300\n",
      "16/16 [==============================] - 0s 5ms/step - loss: 0.2570 - acc: 0.8977\n",
      "Epoch 74/300\n",
      "16/16 [==============================] - 0s 5ms/step - loss: 0.2502 - acc: 0.8977\n",
      "Epoch 75/300\n",
      "16/16 [==============================] - 0s 5ms/step - loss: 0.2505 - acc: 0.8977\n",
      "Epoch 76/300\n",
      "16/16 [==============================] - 0s 6ms/step - loss: 0.2534 - acc: 0.8977\n",
      "Epoch 77/300\n",
      "16/16 [==============================] - 0s 6ms/step - loss: 0.2485 - acc: 0.8977\n",
      "Epoch 78/300\n",
      "16/16 [==============================] - 0s 5ms/step - loss: 0.2483 - acc: 0.8977\n",
      "Epoch 79/300\n",
      "16/16 [==============================] - 0s 5ms/step - loss: 0.2515 - acc: 0.9034\n",
      "Epoch 80/300\n",
      "16/16 [==============================] - 0s 6ms/step - loss: 0.2570 - acc: 0.8977\n",
      "Epoch 81/300\n",
      "16/16 [==============================] - 0s 5ms/step - loss: 0.2511 - acc: 0.8864\n",
      "Epoch 82/300\n",
      "16/16 [==============================] - 0s 5ms/step - loss: 0.2476 - acc: 0.8977\n",
      "Epoch 83/300\n",
      "16/16 [==============================] - 0s 4ms/step - loss: 0.2488 - acc: 0.8977\n",
      "Epoch 84/300\n",
      "16/16 [==============================] - 0s 4ms/step - loss: 0.2437 - acc: 0.8977\n",
      "Epoch 85/300\n",
      "16/16 [==============================] - 0s 4ms/step - loss: 0.2442 - acc: 0.8977\n",
      "Epoch 86/300\n",
      "16/16 [==============================] - 0s 4ms/step - loss: 0.2429 - acc: 0.8977\n",
      "Epoch 87/300\n",
      "16/16 [==============================] - 0s 4ms/step - loss: 0.2463 - acc: 0.8920\n",
      "Epoch 88/300\n",
      "16/16 [==============================] - 0s 4ms/step - loss: 0.2445 - acc: 0.8977\n",
      "Epoch 89/300\n",
      "16/16 [==============================] - 0s 4ms/step - loss: 0.2485 - acc: 0.8864\n",
      "Epoch 90/300\n",
      "16/16 [==============================] - 0s 4ms/step - loss: 0.2450 - acc: 0.8977\n",
      "Epoch 91/300\n",
      "16/16 [==============================] - 0s 5ms/step - loss: 0.2423 - acc: 0.8977\n",
      "Epoch 92/300\n",
      "16/16 [==============================] - 0s 4ms/step - loss: 0.2398 - acc: 0.8977\n",
      "Epoch 93/300\n",
      "16/16 [==============================] - 0s 5ms/step - loss: 0.2431 - acc: 0.8977\n",
      "Epoch 94/300\n",
      "16/16 [==============================] - 0s 4ms/step - loss: 0.2419 - acc: 0.8920\n",
      "Epoch 95/300\n",
      "16/16 [==============================] - 0s 4ms/step - loss: 0.2420 - acc: 0.8920\n",
      "Epoch 96/300\n",
      "16/16 [==============================] - 0s 4ms/step - loss: 0.2434 - acc: 0.9091\n",
      "Epoch 97/300\n",
      "16/16 [==============================] - 0s 4ms/step - loss: 0.2412 - acc: 0.8977\n",
      "Epoch 98/300\n",
      "16/16 [==============================] - 0s 4ms/step - loss: 0.2392 - acc: 0.8977\n",
      "Epoch 99/300\n",
      "16/16 [==============================] - 0s 4ms/step - loss: 0.2382 - acc: 0.9034\n",
      "Epoch 100/300\n",
      "16/16 [==============================] - 0s 9ms/step - loss: 0.2376 - acc: 0.9034\n",
      "Epoch 101/300\n",
      "16/16 [==============================] - 0s 5ms/step - loss: 0.2424 - acc: 0.8920\n",
      "Epoch 102/300\n",
      "16/16 [==============================] - 0s 5ms/step - loss: 0.2453 - acc: 0.9034\n",
      "Epoch 103/300\n",
      "16/16 [==============================] - 0s 5ms/step - loss: 0.2380 - acc: 0.9034\n",
      "Epoch 104/300\n",
      "16/16 [==============================] - 0s 5ms/step - loss: 0.2375 - acc: 0.8977\n",
      "Epoch 105/300\n",
      "16/16 [==============================] - 0s 5ms/step - loss: 0.2347 - acc: 0.9091\n",
      "Epoch 106/300\n",
      "16/16 [==============================] - 0s 6ms/step - loss: 0.2333 - acc: 0.9091\n",
      "Epoch 107/300\n",
      "16/16 [==============================] - 0s 5ms/step - loss: 0.2308 - acc: 0.9091\n",
      "Epoch 108/300\n",
      "16/16 [==============================] - 0s 5ms/step - loss: 0.2294 - acc: 0.9091\n",
      "Epoch 109/300\n",
      "16/16 [==============================] - 0s 5ms/step - loss: 0.2304 - acc: 0.9091\n",
      "Epoch 110/300\n",
      "16/16 [==============================] - 0s 7ms/step - loss: 0.2325 - acc: 0.9091\n",
      "Epoch 111/300\n",
      "16/16 [==============================] - 0s 4ms/step - loss: 0.2278 - acc: 0.9034\n",
      "Epoch 112/300\n",
      "16/16 [==============================] - 0s 4ms/step - loss: 0.2284 - acc: 0.9091\n",
      "Epoch 113/300\n",
      "16/16 [==============================] - 0s 5ms/step - loss: 0.2270 - acc: 0.9091\n",
      "Epoch 114/300\n",
      "16/16 [==============================] - 0s 5ms/step - loss: 0.2383 - acc: 0.9091\n",
      "Epoch 115/300\n",
      "16/16 [==============================] - 0s 6ms/step - loss: 0.2263 - acc: 0.9091\n",
      "Epoch 116/300\n",
      "16/16 [==============================] - 0s 4ms/step - loss: 0.2320 - acc: 0.8977\n",
      "Epoch 117/300\n",
      "16/16 [==============================] - 0s 4ms/step - loss: 0.2259 - acc: 0.9091\n",
      "Epoch 118/300\n",
      "16/16 [==============================] - 0s 8ms/step - loss: 0.2297 - acc: 0.9091\n",
      "Epoch 119/300\n",
      "16/16 [==============================] - 0s 6ms/step - loss: 0.2220 - acc: 0.9034\n",
      "Epoch 120/300\n",
      "16/16 [==============================] - 0s 5ms/step - loss: 0.2263 - acc: 0.8977\n",
      "Epoch 121/300\n",
      "16/16 [==============================] - 0s 4ms/step - loss: 0.2204 - acc: 0.9034\n",
      "Epoch 122/300\n",
      "16/16 [==============================] - 0s 5ms/step - loss: 0.2229 - acc: 0.9034\n",
      "Epoch 123/300\n",
      "16/16 [==============================] - 0s 5ms/step - loss: 0.2216 - acc: 0.9034\n",
      "Epoch 124/300\n",
      "16/16 [==============================] - 0s 4ms/step - loss: 0.2283 - acc: 0.9091\n",
      "Epoch 125/300\n",
      "16/16 [==============================] - 0s 5ms/step - loss: 0.2331 - acc: 0.9034\n",
      "Epoch 126/300\n",
      "16/16 [==============================] - 0s 7ms/step - loss: 0.2372 - acc: 0.9034\n",
      "Epoch 127/300\n",
      "16/16 [==============================] - 0s 6ms/step - loss: 0.2642 - acc: 0.8977\n",
      "Epoch 128/300\n",
      "16/16 [==============================] - 0s 6ms/step - loss: 0.2366 - acc: 0.9034\n",
      "Epoch 129/300\n",
      "16/16 [==============================] - 0s 6ms/step - loss: 0.2296 - acc: 0.9091\n",
      "Epoch 130/300\n",
      "16/16 [==============================] - 0s 5ms/step - loss: 0.2294 - acc: 0.9091\n",
      "Epoch 131/300\n",
      "16/16 [==============================] - 0s 5ms/step - loss: 0.2217 - acc: 0.9091\n",
      "Epoch 132/300\n",
      "16/16 [==============================] - 0s 5ms/step - loss: 0.2247 - acc: 0.9091\n",
      "Epoch 133/300\n",
      "16/16 [==============================] - 0s 4ms/step - loss: 0.2234 - acc: 0.9091\n",
      "Epoch 134/300\n",
      "16/16 [==============================] - 0s 4ms/step - loss: 0.2235 - acc: 0.8977\n",
      "Epoch 135/300\n",
      "16/16 [==============================] - 0s 4ms/step - loss: 0.2181 - acc: 0.9148\n",
      "Epoch 136/300\n",
      "16/16 [==============================] - 0s 4ms/step - loss: 0.2230 - acc: 0.9091\n",
      "Epoch 137/300\n",
      "16/16 [==============================] - 0s 4ms/step - loss: 0.2199 - acc: 0.9091\n",
      "Epoch 138/300\n",
      "16/16 [==============================] - 0s 4ms/step - loss: 0.2243 - acc: 0.8864\n",
      "Epoch 139/300\n",
      "16/16 [==============================] - 0s 4ms/step - loss: 0.2190 - acc: 0.9148\n",
      "Epoch 140/300\n",
      "16/16 [==============================] - 0s 5ms/step - loss: 0.2197 - acc: 0.9091\n",
      "Epoch 141/300\n",
      "16/16 [==============================] - 0s 4ms/step - loss: 0.2214 - acc: 0.9091\n",
      "Epoch 142/300\n",
      "16/16 [==============================] - 0s 4ms/step - loss: 0.2179 - acc: 0.9091\n",
      "Epoch 143/300\n",
      "16/16 [==============================] - 0s 4ms/step - loss: 0.2219 - acc: 0.9034\n",
      "Epoch 144/300\n",
      "16/16 [==============================] - 0s 4ms/step - loss: 0.2164 - acc: 0.9034\n",
      "Epoch 145/300\n",
      "16/16 [==============================] - 0s 4ms/step - loss: 0.2197 - acc: 0.8977\n",
      "Epoch 146/300\n",
      "16/16 [==============================] - 0s 5ms/step - loss: 0.2171 - acc: 0.9034\n",
      "Epoch 147/300\n",
      "16/16 [==============================] - 0s 5ms/step - loss: 0.2171 - acc: 0.9034\n",
      "Epoch 148/300\n",
      "16/16 [==============================] - 0s 4ms/step - loss: 0.2241 - acc: 0.8864\n",
      "Epoch 149/300\n",
      "16/16 [==============================] - 0s 5ms/step - loss: 0.2168 - acc: 0.9091\n",
      "Epoch 150/300\n",
      "16/16 [==============================] - 0s 4ms/step - loss: 0.2176 - acc: 0.9091\n",
      "Epoch 151/300\n",
      "16/16 [==============================] - 0s 5ms/step - loss: 0.2191 - acc: 0.9034\n",
      "Epoch 152/300\n",
      "16/16 [==============================] - 0s 5ms/step - loss: 0.2180 - acc: 0.8977\n",
      "Epoch 153/300\n",
      "16/16 [==============================] - 0s 4ms/step - loss: 0.2170 - acc: 0.9091\n",
      "Epoch 154/300\n",
      "16/16 [==============================] - 0s 5ms/step - loss: 0.2139 - acc: 0.9148\n",
      "Epoch 155/300\n",
      "16/16 [==============================] - 0s 4ms/step - loss: 0.2152 - acc: 0.8920\n",
      "Epoch 156/300\n",
      "16/16 [==============================] - 0s 4ms/step - loss: 0.2195 - acc: 0.8977\n",
      "Epoch 157/300\n",
      "16/16 [==============================] - 0s 4ms/step - loss: 0.2172 - acc: 0.9034\n",
      "Epoch 158/300\n",
      "16/16 [==============================] - 0s 4ms/step - loss: 0.2136 - acc: 0.9034\n",
      "Epoch 159/300\n",
      "16/16 [==============================] - 0s 4ms/step - loss: 0.2154 - acc: 0.9034\n",
      "Epoch 160/300\n",
      "16/16 [==============================] - 0s 4ms/step - loss: 0.2142 - acc: 0.8977\n",
      "Epoch 161/300\n",
      "16/16 [==============================] - 0s 5ms/step - loss: 0.2213 - acc: 0.9091\n",
      "Epoch 162/300\n",
      "16/16 [==============================] - 0s 4ms/step - loss: 0.2158 - acc: 0.9091\n",
      "Epoch 163/300\n",
      "16/16 [==============================] - 0s 5ms/step - loss: 0.2232 - acc: 0.9034\n",
      "Epoch 164/300\n",
      "16/16 [==============================] - 0s 8ms/step - loss: 0.2181 - acc: 0.9091\n",
      "Epoch 165/300\n",
      "16/16 [==============================] - 0s 7ms/step - loss: 0.2127 - acc: 0.9091\n",
      "Epoch 166/300\n",
      "16/16 [==============================] - 0s 8ms/step - loss: 0.2147 - acc: 0.9034\n",
      "Epoch 167/300\n",
      "16/16 [==============================] - 0s 6ms/step - loss: 0.2160 - acc: 0.9091\n",
      "Epoch 168/300\n",
      "16/16 [==============================] - 0s 7ms/step - loss: 0.2179 - acc: 0.9091\n",
      "Epoch 169/300\n",
      "16/16 [==============================] - 0s 6ms/step - loss: 0.2190 - acc: 0.8977\n",
      "Epoch 170/300\n",
      "16/16 [==============================] - 0s 5ms/step - loss: 0.2123 - acc: 0.9034\n",
      "Epoch 171/300\n",
      "16/16 [==============================] - 0s 7ms/step - loss: 0.2223 - acc: 0.8920\n",
      "Epoch 172/300\n"
     ]
    },
    {
     "name": "stdout",
     "output_type": "stream",
     "text": [
      "16/16 [==============================] - 0s 6ms/step - loss: 0.2122 - acc: 0.9091\n",
      "Epoch 173/300\n",
      "16/16 [==============================] - 0s 6ms/step - loss: 0.2180 - acc: 0.8920\n",
      "Epoch 174/300\n",
      "16/16 [==============================] - 0s 5ms/step - loss: 0.2144 - acc: 0.9034\n",
      "Epoch 175/300\n",
      "16/16 [==============================] - 0s 7ms/step - loss: 0.2133 - acc: 0.9034\n",
      "Epoch 176/300\n",
      "16/16 [==============================] - 0s 6ms/step - loss: 0.2155 - acc: 0.9034\n",
      "Epoch 177/300\n",
      "16/16 [==============================] - 0s 7ms/step - loss: 0.2129 - acc: 0.9034\n",
      "Epoch 178/300\n",
      "16/16 [==============================] - 0s 7ms/step - loss: 0.2166 - acc: 0.9034\n",
      "Epoch 179/300\n",
      "16/16 [==============================] - 0s 5ms/step - loss: 0.2178 - acc: 0.9034\n",
      "Epoch 180/300\n",
      "16/16 [==============================] - 0s 5ms/step - loss: 0.2126 - acc: 0.9034\n",
      "Epoch 181/300\n",
      "16/16 [==============================] - 0s 5ms/step - loss: 0.2145 - acc: 0.9034\n",
      "Epoch 182/300\n",
      "16/16 [==============================] - 0s 8ms/step - loss: 0.2117 - acc: 0.8977\n",
      "Epoch 183/300\n",
      "16/16 [==============================] - 0s 6ms/step - loss: 0.2151 - acc: 0.9034\n",
      "Epoch 184/300\n",
      "16/16 [==============================] - 0s 7ms/step - loss: 0.2126 - acc: 0.9034\n",
      "Epoch 185/300\n",
      "16/16 [==============================] - 0s 7ms/step - loss: 0.2126 - acc: 0.9091\n",
      "Epoch 186/300\n",
      "16/16 [==============================] - 0s 7ms/step - loss: 0.2227 - acc: 0.9091\n",
      "Epoch 187/300\n",
      "16/16 [==============================] - 0s 8ms/step - loss: 0.2197 - acc: 0.9091\n",
      "Epoch 188/300\n",
      "16/16 [==============================] - 0s 5ms/step - loss: 0.2139 - acc: 0.9091\n",
      "Epoch 189/300\n",
      "16/16 [==============================] - 0s 5ms/step - loss: 0.2132 - acc: 0.8977\n",
      "Epoch 190/300\n",
      "16/16 [==============================] - 0s 6ms/step - loss: 0.2140 - acc: 0.8920\n",
      "Epoch 191/300\n",
      "16/16 [==============================] - 0s 6ms/step - loss: 0.2156 - acc: 0.8977\n",
      "Epoch 192/300\n",
      "16/16 [==============================] - 0s 6ms/step - loss: 0.2134 - acc: 0.9091\n",
      "Epoch 193/300\n",
      "16/16 [==============================] - 0s 5ms/step - loss: 0.2129 - acc: 0.8977\n",
      "Epoch 194/300\n",
      "16/16 [==============================] - 0s 5ms/step - loss: 0.2126 - acc: 0.9091\n",
      "Epoch 195/300\n",
      "16/16 [==============================] - 0s 5ms/step - loss: 0.2111 - acc: 0.9034\n",
      "Epoch 196/300\n",
      "16/16 [==============================] - 0s 6ms/step - loss: 0.2222 - acc: 0.8920\n",
      "Epoch 197/300\n",
      "16/16 [==============================] - 0s 5ms/step - loss: 0.2132 - acc: 0.9034\n",
      "Epoch 198/300\n",
      "16/16 [==============================] - 0s 6ms/step - loss: 0.2127 - acc: 0.9034\n",
      "Epoch 199/300\n",
      "16/16 [==============================] - 0s 6ms/step - loss: 0.2179 - acc: 0.8977\n",
      "Epoch 200/300\n",
      "16/16 [==============================] - 0s 5ms/step - loss: 0.2116 - acc: 0.8920\n",
      "Epoch 201/300\n",
      "16/16 [==============================] - 0s 5ms/step - loss: 0.2138 - acc: 0.9091\n",
      "Epoch 202/300\n",
      "16/16 [==============================] - 0s 5ms/step - loss: 0.2103 - acc: 0.9034\n",
      "Epoch 203/300\n",
      "16/16 [==============================] - 0s 5ms/step - loss: 0.2099 - acc: 0.9034\n",
      "Epoch 204/300\n",
      "16/16 [==============================] - 0s 5ms/step - loss: 0.2131 - acc: 0.9034\n",
      "Epoch 205/300\n",
      "16/16 [==============================] - 0s 5ms/step - loss: 0.2118 - acc: 0.9091\n",
      "Epoch 206/300\n",
      "16/16 [==============================] - 0s 5ms/step - loss: 0.2110 - acc: 0.9091\n",
      "Epoch 207/300\n",
      "16/16 [==============================] - 0s 6ms/step - loss: 0.2119 - acc: 0.9034\n",
      "Epoch 208/300\n",
      "16/16 [==============================] - 0s 10ms/step - loss: 0.2179 - acc: 0.9034\n",
      "Epoch 209/300\n",
      "16/16 [==============================] - 0s 11ms/step - loss: 0.2094 - acc: 0.9148\n",
      "Epoch 210/300\n",
      "16/16 [==============================] - 0s 6ms/step - loss: 0.2133 - acc: 0.9091\n",
      "Epoch 211/300\n",
      "16/16 [==============================] - 0s 6ms/step - loss: 0.2109 - acc: 0.8920\n",
      "Epoch 212/300\n",
      "16/16 [==============================] - 0s 14ms/step - loss: 0.2094 - acc: 0.9034\n",
      "Epoch 213/300\n",
      "16/16 [==============================] - 0s 8ms/step - loss: 0.2235 - acc: 0.9034\n",
      "Epoch 214/300\n",
      "16/16 [==============================] - 0s 5ms/step - loss: 0.2230 - acc: 0.9091\n",
      "Epoch 215/300\n",
      "16/16 [==============================] - 0s 6ms/step - loss: 0.2406 - acc: 0.9034\n",
      "Epoch 216/300\n",
      "16/16 [==============================] - 0s 5ms/step - loss: 0.2192 - acc: 0.9091\n",
      "Epoch 217/300\n",
      "16/16 [==============================] - 0s 5ms/step - loss: 0.2163 - acc: 0.9091\n",
      "Epoch 218/300\n",
      "16/16 [==============================] - 0s 12ms/step - loss: 0.2192 - acc: 0.9034\n",
      "Epoch 219/300\n",
      "16/16 [==============================] - 0s 6ms/step - loss: 0.2116 - acc: 0.9034\n",
      "Epoch 220/300\n",
      "16/16 [==============================] - 0s 6ms/step - loss: 0.2121 - acc: 0.8920\n",
      "Epoch 221/300\n",
      "16/16 [==============================] - 0s 5ms/step - loss: 0.2072 - acc: 0.9091\n",
      "Epoch 222/300\n",
      "16/16 [==============================] - 0s 5ms/step - loss: 0.2151 - acc: 0.8977\n",
      "Epoch 223/300\n",
      "16/16 [==============================] - 0s 5ms/step - loss: 0.2098 - acc: 0.9091\n",
      "Epoch 224/300\n",
      "16/16 [==============================] - 0s 5ms/step - loss: 0.2124 - acc: 0.9034\n",
      "Epoch 225/300\n",
      "16/16 [==============================] - 0s 6ms/step - loss: 0.2077 - acc: 0.8920\n",
      "Epoch 226/300\n",
      "16/16 [==============================] - 0s 5ms/step - loss: 0.2150 - acc: 0.9034\n",
      "Epoch 227/300\n",
      "16/16 [==============================] - 0s 6ms/step - loss: 0.2233 - acc: 0.9034\n",
      "Epoch 228/300\n",
      "16/16 [==============================] - 0s 6ms/step - loss: 0.2077 - acc: 0.9091\n",
      "Epoch 229/300\n",
      "16/16 [==============================] - 0s 5ms/step - loss: 0.2247 - acc: 0.9034\n",
      "Epoch 230/300\n",
      "16/16 [==============================] - 0s 5ms/step - loss: 0.2133 - acc: 0.9148\n",
      "Epoch 231/300\n",
      "16/16 [==============================] - 0s 5ms/step - loss: 0.2119 - acc: 0.9091\n",
      "Epoch 232/300\n",
      "16/16 [==============================] - 0s 10ms/step - loss: 0.2111 - acc: 0.9034\n",
      "Epoch 233/300\n",
      "16/16 [==============================] - 0s 14ms/step - loss: 0.2110 - acc: 0.9034\n",
      "Epoch 234/300\n",
      "16/16 [==============================] - 0s 7ms/step - loss: 0.2090 - acc: 0.9091\n",
      "Epoch 235/300\n",
      "16/16 [==============================] - 0s 6ms/step - loss: 0.2094 - acc: 0.9034\n",
      "Epoch 236/300\n",
      "16/16 [==============================] - 0s 8ms/step - loss: 0.2080 - acc: 0.9091\n",
      "Epoch 237/300\n",
      "16/16 [==============================] - 0s 6ms/step - loss: 0.2067 - acc: 0.9148\n",
      "Epoch 238/300\n",
      "16/16 [==============================] - 0s 8ms/step - loss: 0.2095 - acc: 0.9091\n",
      "Epoch 239/300\n",
      "16/16 [==============================] - 0s 5ms/step - loss: 0.2104 - acc: 0.8920\n",
      "Epoch 240/300\n",
      "16/16 [==============================] - 0s 5ms/step - loss: 0.2080 - acc: 0.9091\n",
      "Epoch 241/300\n",
      "16/16 [==============================] - 0s 6ms/step - loss: 0.2112 - acc: 0.9034\n",
      "Epoch 242/300\n",
      "16/16 [==============================] - 0s 8ms/step - loss: 0.2201 - acc: 0.9091\n",
      "Epoch 243/300\n",
      "16/16 [==============================] - 0s 7ms/step - loss: 0.2058 - acc: 0.9148\n",
      "Epoch 244/300\n",
      "16/16 [==============================] - 0s 7ms/step - loss: 0.2170 - acc: 0.8920\n",
      "Epoch 245/300\n",
      "16/16 [==============================] - 0s 8ms/step - loss: 0.2105 - acc: 0.8920\n",
      "Epoch 246/300\n",
      "16/16 [==============================] - 0s 7ms/step - loss: 0.2085 - acc: 0.9148\n",
      "Epoch 247/300\n",
      "16/16 [==============================] - 0s 7ms/step - loss: 0.2072 - acc: 0.8977\n",
      "Epoch 248/300\n",
      "16/16 [==============================] - 0s 6ms/step - loss: 0.2121 - acc: 0.9091\n",
      "Epoch 249/300\n",
      "16/16 [==============================] - 0s 5ms/step - loss: 0.2101 - acc: 0.9034\n",
      "Epoch 250/300\n",
      "16/16 [==============================] - 0s 6ms/step - loss: 0.2062 - acc: 0.9091\n",
      "Epoch 251/300\n",
      "16/16 [==============================] - 0s 6ms/step - loss: 0.2139 - acc: 0.8977\n",
      "Epoch 252/300\n",
      "16/16 [==============================] - 0s 6ms/step - loss: 0.2060 - acc: 0.9091\n",
      "Epoch 253/300\n",
      "16/16 [==============================] - 0s 9ms/step - loss: 0.2057 - acc: 0.9091\n",
      "Epoch 254/300\n",
      "16/16 [==============================] - 0s 6ms/step - loss: 0.2089 - acc: 0.9034\n",
      "Epoch 255/300\n",
      "16/16 [==============================] - 0s 6ms/step - loss: 0.2101 - acc: 0.9148\n",
      "Epoch 256/300\n",
      "16/16 [==============================] - 0s 7ms/step - loss: 0.2064 - acc: 0.9034\n",
      "Epoch 257/300\n",
      "16/16 [==============================] - 0s 5ms/step - loss: 0.2122 - acc: 0.8920\n",
      "Epoch 258/300\n",
      "16/16 [==============================] - 0s 6ms/step - loss: 0.2096 - acc: 0.9091\n",
      "Epoch 259/300\n",
      "16/16 [==============================] - 0s 6ms/step - loss: 0.2074 - acc: 0.9148\n",
      "Epoch 260/300\n",
      "16/16 [==============================] - 0s 5ms/step - loss: 0.2076 - acc: 0.9034\n",
      "Epoch 261/300\n",
      "16/16 [==============================] - 0s 5ms/step - loss: 0.2067 - acc: 0.9034\n",
      "Epoch 262/300\n",
      "16/16 [==============================] - 0s 5ms/step - loss: 0.2053 - acc: 0.9091\n",
      "Epoch 263/300\n",
      "16/16 [==============================] - 0s 5ms/step - loss: 0.2097 - acc: 0.8977\n",
      "Epoch 264/300\n",
      "16/16 [==============================] - 0s 6ms/step - loss: 0.2052 - acc: 0.9091\n",
      "Epoch 265/300\n",
      "16/16 [==============================] - 0s 6ms/step - loss: 0.2057 - acc: 0.9091\n",
      "Epoch 266/300\n",
      "16/16 [==============================] - 0s 7ms/step - loss: 0.2079 - acc: 0.9091\n",
      "Epoch 267/300\n",
      "16/16 [==============================] - 0s 6ms/step - loss: 0.2056 - acc: 0.9091\n",
      "Epoch 268/300\n",
      "16/16 [==============================] - 0s 5ms/step - loss: 0.2052 - acc: 0.8977\n",
      "Epoch 269/300\n",
      "16/16 [==============================] - 0s 5ms/step - loss: 0.2078 - acc: 0.9091\n",
      "Epoch 270/300\n",
      "16/16 [==============================] - 0s 5ms/step - loss: 0.2071 - acc: 0.9148\n",
      "Epoch 271/300\n",
      "16/16 [==============================] - 0s 5ms/step - loss: 0.2039 - acc: 0.9091\n",
      "Epoch 272/300\n",
      "16/16 [==============================] - 0s 7ms/step - loss: 0.2099 - acc: 0.8977\n",
      "Epoch 273/300\n",
      "16/16 [==============================] - 0s 6ms/step - loss: 0.2051 - acc: 0.8977\n",
      "Epoch 274/300\n",
      "16/16 [==============================] - 0s 6ms/step - loss: 0.2052 - acc: 0.9091\n",
      "Epoch 275/300\n",
      "16/16 [==============================] - 0s 5ms/step - loss: 0.2048 - acc: 0.9091\n",
      "Epoch 276/300\n",
      "16/16 [==============================] - 0s 5ms/step - loss: 0.2098 - acc: 0.8977\n",
      "Epoch 277/300\n",
      "16/16 [==============================] - 0s 5ms/step - loss: 0.2087 - acc: 0.9205\n",
      "Epoch 278/300\n",
      "16/16 [==============================] - 0s 5ms/step - loss: 0.2052 - acc: 0.8977\n",
      "Epoch 279/300\n",
      "16/16 [==============================] - 0s 5ms/step - loss: 0.2072 - acc: 0.8977\n",
      "Epoch 280/300\n",
      "16/16 [==============================] - 0s 6ms/step - loss: 0.2070 - acc: 0.9091\n",
      "Epoch 281/300\n",
      "16/16 [==============================] - 0s 6ms/step - loss: 0.2072 - acc: 0.9034\n",
      "Epoch 282/300\n",
      "16/16 [==============================] - 0s 6ms/step - loss: 0.2045 - acc: 0.9091A: 0s - loss: 0.1766 - acc: 0.945\n",
      "Epoch 283/300\n",
      "16/16 [==============================] - 0s 5ms/step - loss: 0.2068 - acc: 0.9091\n",
      "Epoch 284/300\n",
      "16/16 [==============================] - 0s 5ms/step - loss: 0.2073 - acc: 0.9091\n",
      "Epoch 285/300\n",
      "16/16 [==============================] - 0s 8ms/step - loss: 0.2049 - acc: 0.9091\n",
      "Epoch 286/300\n",
      "16/16 [==============================] - 0s 10ms/step - loss: 0.2051 - acc: 0.8977\n",
      "Epoch 287/300\n",
      "16/16 [==============================] - 0s 6ms/step - loss: 0.2066 - acc: 0.9091\n",
      "Epoch 288/300\n",
      "16/16 [==============================] - 0s 6ms/step - loss: 0.2021 - acc: 0.9034\n",
      "Epoch 289/300\n",
      "16/16 [==============================] - 0s 5ms/step - loss: 0.2035 - acc: 0.9091\n",
      "Epoch 290/300\n",
      "16/16 [==============================] - 0s 5ms/step - loss: 0.2088 - acc: 0.9148\n",
      "Epoch 291/300\n",
      "16/16 [==============================] - 0s 5ms/step - loss: 0.2047 - acc: 0.9034\n",
      "Epoch 292/300\n",
      "16/16 [==============================] - 0s 6ms/step - loss: 0.2379 - acc: 0.8920\n",
      "Epoch 293/300\n",
      "16/16 [==============================] - 0s 5ms/step - loss: 0.2589 - acc: 0.8920\n",
      "Epoch 294/300\n",
      "16/16 [==============================] - 0s 6ms/step - loss: 0.2125 - acc: 0.9034A: 0s - loss: 0.2244 - acc: 0.884\n",
      "Epoch 295/300\n",
      "16/16 [==============================] - 0s 6ms/step - loss: 0.2118 - acc: 0.9091\n",
      "Epoch 296/300\n",
      "16/16 [==============================] - 0s 6ms/step - loss: 0.2118 - acc: 0.9034\n",
      "Epoch 297/300\n",
      "16/16 [==============================] - 0s 6ms/step - loss: 0.2147 - acc: 0.9091\n",
      "Epoch 298/300\n",
      "16/16 [==============================] - 0s 5ms/step - loss: 0.2117 - acc: 0.9034\n",
      "Epoch 299/300\n",
      "16/16 [==============================] - 0s 6ms/step - loss: 0.2103 - acc: 0.9091\n",
      "Epoch 300/300\n",
      "16/16 [==============================] - 0s 6ms/step - loss: 0.2145 - acc: 0.8920\n"
     ]
    },
    {
     "data": {
      "text/plain": [
       "<keras.callbacks.History at 0x1bd2432c7f0>"
      ]
     },
     "execution_count": 83,
     "metadata": {},
     "output_type": "execute_result"
    }
   ],
   "source": [
    "model2.compile(optimizer=Adam(lr=.01), loss='sparse_categorical_crossentropy', metrics=['accuracy'])\n",
    "model2.fit(padded, y2, batch_size=1, epochs=300)"
   ]
  },
  {
   "cell_type": "code",
   "execution_count": 84,
   "metadata": {},
   "outputs": [
    {
     "data": {
      "text/plain": [
       "array([[0, 0, 0, 0, 0, 1, 2, 0, 0, 0, 0],\n",
       "       [0, 0, 0, 1, 2, 2, 0, 0, 0, 0, 0],\n",
       "       [0, 1, 2, 0, 0, 0, 0, 0, 0, 0, 0],\n",
       "       [0, 1, 2, 0, 0, 0, 0, 0, 0, 0, 0],\n",
       "       [0, 0, 0, 0, 1, 2, 0, 0, 0, 0, 0],\n",
       "       [0, 0, 0, 1, 2, 0, 0, 0, 0, 0, 0],\n",
       "       [0, 1, 2, 0, 0, 0, 0, 0, 0, 0, 0],\n",
       "       [0, 1, 2, 0, 0, 0, 0, 0, 0, 0, 0],\n",
       "       [0, 0, 0, 0, 0, 1, 2, 0, 0, 0, 0],\n",
       "       [0, 0, 0, 1, 2, 2, 0, 0, 0, 0, 0],\n",
       "       [0, 1, 2, 0, 0, 0, 0, 0, 0, 0, 0],\n",
       "       [0, 1, 2, 0, 0, 0, 0, 0, 0, 0, 0],\n",
       "       [0, 0, 0, 0, 1, 2, 0, 0, 0, 0, 0],\n",
       "       [0, 0, 0, 1, 2, 0, 0, 0, 0, 0, 0],\n",
       "       [0, 1, 2, 0, 0, 0, 0, 0, 0, 0, 0],\n",
       "       [0, 1, 2, 0, 0, 0, 0, 0, 0, 0, 0]], dtype=int64)"
      ]
     },
     "execution_count": 84,
     "metadata": {},
     "output_type": "execute_result"
    }
   ],
   "source": [
    "pred2 = model2.predict(padded)\n",
    "result2 = pred2.argmax(axis=2)\n",
    "result2"
   ]
  },
  {
   "cell_type": "code",
   "execution_count": 85,
   "metadata": {},
   "outputs": [
    {
     "data": {
      "text/plain": [
       "[[1, [[1, '오'], [2, '늘']]],\n",
       " [2, [[1, None], [2, '오'], [2, '늘']]],\n",
       " [3, [[1, None], [2, '오']]],\n",
       " [4, [[1, '오'], [2, '늘']]],\n",
       " [5, [[1, '오'], [2, '늘']]],\n",
       " [6, [[1, '오'], [2, '늘']]],\n",
       " [7, [[1, '오'], [2, '늘']]],\n",
       " [8, [[1, '늘'], [2, '은']]],\n",
       " [9, [[1, '내'], [2, '일']]],\n",
       " [10, [[1, None], [2, '내'], [2, '일']]],\n",
       " [11, [[1, None], [2, '내']]],\n",
       " [12, [[1, '내'], [2, '일']]],\n",
       " [13, [[1, '내'], [2, '일']]],\n",
       " [14, [[1, '내'], [2, '일']]],\n",
       " [15, [[1, '내'], [2, '일']]],\n",
       " [16, [[1, '일'], [2, '은']]]]"
      ]
     },
     "execution_count": 85,
     "metadata": {},
     "output_type": "execute_result"
    }
   ],
   "source": [
    "get_words(padded, result2)"
   ]
  },
  {
   "cell_type": "markdown",
   "metadata": {},
   "source": [
    "### 1.2.2 양방향 LSTM"
   ]
  },
  {
   "cell_type": "code",
   "execution_count": 86,
   "metadata": {},
   "outputs": [
    {
     "name": "stdout",
     "output_type": "stream",
     "text": [
      "__________________________________________________________________________________________________\n",
      "Layer (type)                    Output Shape         Param #     Connected to                     \n",
      "==================================================================================================\n",
      "input_1 (InputLayer)            (None, 11)           0                                            \n",
      "__________________________________________________________________________________________________\n",
      "embedding_3 (Embedding)         (None, 11, 2)        28          input_1[0][0]                    \n",
      "__________________________________________________________________________________________________\n",
      "lstm_3 (LSTM)                   (None, 11, 2)        40          embedding_3[0][0]                \n",
      "__________________________________________________________________________________________________\n",
      "lstm_4 (LSTM)                   (None, 11, 2)        40          embedding_3[0][0]                \n",
      "__________________________________________________________________________________________________\n",
      "concatenate_1 (Concatenate)     (None, 11, 4)        0           lstm_3[0][0]                     \n",
      "                                                                 lstm_4[0][0]                     \n",
      "__________________________________________________________________________________________________\n",
      "time_distributed_3 (TimeDistrib (None, 11, 3)        15          concatenate_1[0][0]              \n",
      "==================================================================================================\n",
      "Total params: 123\n",
      "Trainable params: 123\n",
      "Non-trainable params: 0\n",
      "__________________________________________________________________________________________________\n"
     ]
    },
    {
     "data": {
      "image/png": "[encoded data removed]",
      "text/plain": [
       "<IPython.core.display.Image object>"
      ]
     },
     "execution_count": 86,
     "metadata": {},
     "output_type": "execute_result"
    }
   ],
   "source": [
    "layer_input = Input(shape=(MAXLEN,), dtype='int32')\n",
    "layer_embed = Embedding(NUM_CHAR, 2, input_length=MAXLEN)(layer_input)\n",
    "layer_forward = LSTM(2, return_sequences=True)(layer_embed)\n",
    "layer_backward = LSTM(2, return_sequences=True, go_backwards=True)(layer_embed)\n",
    "merged_layers = concatenate([layer_forward, layer_backward])\n",
    "layer_label = (TimeDistributed(Dense(3, activation='softmax')))(merged_layers)\n",
    "model3 = Model(layer_input, layer_label)\n",
    "model3.summary()\n",
    "plot_model(model3, to_file='model3.png', show_shapes=True)\n",
    "Image('model3.png')"
   ]
  },
  {
   "cell_type": "code",
   "execution_count": 87,
   "metadata": {},
   "outputs": [
    {
     "name": "stdout",
     "output_type": "stream",
     "text": [
      "Epoch 1/300\n",
      "16/16 [==============================] - 3s 173ms/step - loss: 0.9428 - acc: 0.7955\n",
      "Epoch 2/300\n",
      "16/16 [==============================] - 0s 10ms/step - loss: 0.6339 - acc: 0.8182\n",
      "Epoch 3/300\n",
      "16/16 [==============================] - 0s 9ms/step - loss: 0.5556 - acc: 0.8182\n",
      "Epoch 4/300\n",
      "16/16 [==============================] - 0s 9ms/step - loss: 0.5070 - acc: 0.8182\n",
      "Epoch 5/300\n",
      "16/16 [==============================] - 0s 13ms/step - loss: 0.4514 - acc: 0.8182\n",
      "Epoch 6/300\n",
      "16/16 [==============================] - 0s 9ms/step - loss: 0.3837 - acc: 0.8182\n",
      "Epoch 7/300\n",
      "16/16 [==============================] - 0s 8ms/step - loss: 0.3011 - acc: 0.8409\n",
      "Epoch 8/300\n",
      "16/16 [==============================] - 0s 7ms/step - loss: 0.2237 - acc: 0.9034\n",
      "Epoch 9/300\n",
      "16/16 [==============================] - 0s 7ms/step - loss: 0.1759 - acc: 0.9261\n",
      "Epoch 10/300\n",
      "16/16 [==============================] - 0s 8ms/step - loss: 0.1475 - acc: 0.9716\n",
      "Epoch 11/300\n",
      "16/16 [==============================] - 0s 8ms/step - loss: 0.1219 - acc: 0.9886\n",
      "Epoch 12/300\n",
      "16/16 [==============================] - 0s 10ms/step - loss: 0.0924 - acc: 1.0000\n",
      "Epoch 13/300\n",
      "16/16 [==============================] - 0s 10ms/step - loss: 0.0670 - acc: 1.0000\n",
      "Epoch 14/300\n",
      "16/16 [==============================] - 0s 8ms/step - loss: 0.0487 - acc: 1.0000\n",
      "Epoch 15/300\n",
      "16/16 [==============================] - 0s 11ms/step - loss: 0.0374 - acc: 1.0000\n",
      "Epoch 16/300\n",
      "16/16 [==============================] - 0s 9ms/step - loss: 0.0305 - acc: 1.0000\n",
      "Epoch 17/300\n",
      "16/16 [==============================] - 0s 10ms/step - loss: 0.0259 - acc: 1.0000\n",
      "Epoch 18/300\n",
      "16/16 [==============================] - 0s 9ms/step - loss: 0.0225 - acc: 1.0000\n",
      "Epoch 19/300\n",
      "16/16 [==============================] - 0s 11ms/step - loss: 0.0199 - acc: 1.0000\n",
      "Epoch 20/300\n",
      "16/16 [==============================] - 0s 13ms/step - loss: 0.0178 - acc: 1.0000\n",
      "Epoch 21/300\n",
      "16/16 [==============================] - 0s 9ms/step - loss: 0.0161 - acc: 1.0000\n",
      "Epoch 22/300\n",
      "16/16 [==============================] - 0s 9ms/step - loss: 0.0147 - acc: 1.0000\n",
      "Epoch 23/300\n",
      "16/16 [==============================] - 0s 9ms/step - loss: 0.0134 - acc: 1.0000\n",
      "Epoch 24/300\n",
      "16/16 [==============================] - 0s 10ms/step - loss: 0.0124 - acc: 1.0000\n",
      "Epoch 25/300\n",
      "16/16 [==============================] - 0s 10ms/step - loss: 0.0114 - acc: 1.0000\n",
      "Epoch 26/300\n",
      "16/16 [==============================] - 0s 9ms/step - loss: 0.0106 - acc: 1.0000\n",
      "Epoch 27/300\n",
      "16/16 [==============================] - 0s 10ms/step - loss: 0.0099 - acc: 1.0000\n",
      "Epoch 28/300\n",
      "16/16 [==============================] - 0s 9ms/step - loss: 0.0093 - acc: 1.0000\n",
      "Epoch 29/300\n",
      "16/16 [==============================] - 0s 9ms/step - loss: 0.0087 - acc: 1.0000\n",
      "Epoch 30/300\n",
      "16/16 [==============================] - 0s 10ms/step - loss: 0.0082 - acc: 1.0000\n",
      "Epoch 31/300\n",
      "16/16 [==============================] - 0s 8ms/step - loss: 0.0077 - acc: 1.0000\n",
      "Epoch 32/300\n",
      "16/16 [==============================] - 0s 9ms/step - loss: 0.0073 - acc: 1.0000\n",
      "Epoch 33/300\n",
      "16/16 [==============================] - 0s 9ms/step - loss: 0.0069 - acc: 1.0000\n",
      "Epoch 34/300\n",
      "16/16 [==============================] - 0s 9ms/step - loss: 0.0065 - acc: 1.0000\n",
      "Epoch 35/300\n",
      "16/16 [==============================] - 0s 9ms/step - loss: 0.0062 - acc: 1.0000\n",
      "Epoch 36/300\n",
      "16/16 [==============================] - 0s 12ms/step - loss: 0.0059 - acc: 1.0000\n",
      "Epoch 37/300\n",
      "16/16 [==============================] - 0s 11ms/step - loss: 0.0056 - acc: 1.0000\n",
      "Epoch 38/300\n",
      "16/16 [==============================] - 0s 10ms/step - loss: 0.0054 - acc: 1.0000\n",
      "Epoch 39/300\n",
      "16/16 [==============================] - 0s 9ms/step - loss: 0.0051 - acc: 1.0000\n",
      "Epoch 40/300\n",
      "16/16 [==============================] - 0s 9ms/step - loss: 0.0049 - acc: 1.0000\n",
      "Epoch 41/300\n",
      "16/16 [==============================] - 0s 10ms/step - loss: 0.0047 - acc: 1.0000\n",
      "Epoch 42/300\n",
      "16/16 [==============================] - 0s 9ms/step - loss: 0.0045 - acc: 1.0000\n",
      "Epoch 43/300\n",
      "16/16 [==============================] - 0s 10ms/step - loss: 0.0043 - acc: 1.0000\n",
      "Epoch 44/300\n",
      "16/16 [==============================] - 0s 10ms/step - loss: 0.0041 - acc: 1.0000\n",
      "Epoch 45/300\n",
      "16/16 [==============================] - 0s 9ms/step - loss: 0.0040 - acc: 1.0000\n",
      "Epoch 46/300\n",
      "16/16 [==============================] - 0s 8ms/step - loss: 0.0038 - acc: 1.0000\n",
      "Epoch 47/300\n",
      "16/16 [==============================] - 0s 9ms/step - loss: 0.0037 - acc: 1.0000\n",
      "Epoch 48/300\n",
      "16/16 [==============================] - 0s 8ms/step - loss: 0.0036 - acc: 1.0000\n",
      "Epoch 49/300\n",
      "16/16 [==============================] - 0s 8ms/step - loss: 0.0034 - acc: 1.0000\n",
      "Epoch 50/300\n",
      "16/16 [==============================] - 0s 8ms/step - loss: 0.0033 - acc: 1.0000\n",
      "Epoch 51/300\n",
      "16/16 [==============================] - 0s 10ms/step - loss: 0.0032 - acc: 1.0000\n",
      "Epoch 52/300\n",
      "16/16 [==============================] - 0s 10ms/step - loss: 0.0031 - acc: 1.0000\n",
      "Epoch 53/300\n",
      "16/16 [==============================] - 0s 11ms/step - loss: 0.0030 - acc: 1.0000\n",
      "Epoch 54/300\n",
      "16/16 [==============================] - 0s 14ms/step - loss: 0.0029 - acc: 1.0000\n",
      "Epoch 55/300\n",
      "16/16 [==============================] - 0s 13ms/step - loss: 0.0028 - acc: 1.0000\n",
      "Epoch 56/300\n",
      "16/16 [==============================] - 0s 11ms/step - loss: 0.0027 - acc: 1.0000\n",
      "Epoch 57/300\n",
      "16/16 [==============================] - 0s 12ms/step - loss: 0.0026 - acc: 1.0000\n",
      "Epoch 58/300\n",
      "16/16 [==============================] - 0s 11ms/step - loss: 0.0025 - acc: 1.0000\n",
      "Epoch 59/300\n",
      "16/16 [==============================] - 0s 10ms/step - loss: 0.0025 - acc: 1.0000\n",
      "Epoch 60/300\n",
      "16/16 [==============================] - 0s 9ms/step - loss: 0.0024 - acc: 1.0000\n",
      "Epoch 61/300\n",
      "16/16 [==============================] - 0s 8ms/step - loss: 0.0023 - acc: 1.0000\n",
      "Epoch 62/300\n",
      "16/16 [==============================] - 0s 10ms/step - loss: 0.0023 - acc: 1.0000\n",
      "Epoch 63/300\n",
      "16/16 [==============================] - 0s 11ms/step - loss: 0.0022 - acc: 1.0000\n",
      "Epoch 64/300\n",
      "16/16 [==============================] - 0s 8ms/step - loss: 0.0021 - acc: 1.0000\n",
      "Epoch 65/300\n",
      "16/16 [==============================] - 0s 8ms/step - loss: 0.0021 - acc: 1.0000\n",
      "Epoch 66/300\n",
      "16/16 [==============================] - 0s 8ms/step - loss: 0.0020 - acc: 1.0000\n",
      "Epoch 67/300\n",
      "16/16 [==============================] - 0s 9ms/step - loss: 0.0020 - acc: 1.0000\n",
      "Epoch 68/300\n",
      "16/16 [==============================] - 0s 8ms/step - loss: 0.0019 - acc: 1.0000\n",
      "Epoch 69/300\n",
      "16/16 [==============================] - 0s 10ms/step - loss: 0.0019 - acc: 1.0000\n",
      "Epoch 70/300\n",
      "16/16 [==============================] - 0s 10ms/step - loss: 0.0018 - acc: 1.0000\n",
      "Epoch 71/300\n",
      "16/16 [==============================] - 0s 9ms/step - loss: 0.0018 - acc: 1.0000\n",
      "Epoch 72/300\n",
      "16/16 [==============================] - 0s 9ms/step - loss: 0.0017 - acc: 1.0000\n",
      "Epoch 73/300\n",
      "16/16 [==============================] - 0s 11ms/step - loss: 0.0017 - acc: 1.0000\n",
      "Epoch 74/300\n",
      "16/16 [==============================] - 0s 11ms/step - loss: 0.0016 - acc: 1.0000\n",
      "Epoch 75/300\n",
      "16/16 [==============================] - 0s 10ms/step - loss: 0.0016 - acc: 1.0000\n",
      "Epoch 76/300\n",
      "16/16 [==============================] - 0s 11ms/step - loss: 0.0016 - acc: 1.0000\n",
      "Epoch 77/300\n",
      "16/16 [==============================] - 0s 9ms/step - loss: 0.0015 - acc: 1.0000\n",
      "Epoch 78/300\n",
      "16/16 [==============================] - 0s 11ms/step - loss: 0.0015 - acc: 1.0000\n",
      "Epoch 79/300\n",
      "16/16 [==============================] - 0s 9ms/step - loss: 0.0015 - acc: 1.0000\n",
      "Epoch 80/300\n",
      "16/16 [==============================] - 0s 10ms/step - loss: 0.0014 - acc: 1.0000\n",
      "Epoch 81/300\n",
      "16/16 [==============================] - 0s 9ms/step - loss: 0.0014 - acc: 1.0000\n",
      "Epoch 82/300\n",
      "16/16 [==============================] - 0s 8ms/step - loss: 0.0014 - acc: 1.0000\n",
      "Epoch 83/300\n",
      "16/16 [==============================] - 0s 9ms/step - loss: 0.0013 - acc: 1.0000\n",
      "Epoch 84/300\n",
      "16/16 [==============================] - 0s 9ms/step - loss: 0.0013 - acc: 1.0000\n",
      "Epoch 85/300\n",
      "16/16 [==============================] - 0s 9ms/step - loss: 0.0013 - acc: 1.0000\n",
      "Epoch 86/300\n",
      "16/16 [==============================] - 0s 10ms/step - loss: 0.0012 - acc: 1.0000\n",
      "Epoch 87/300\n",
      "16/16 [==============================] - 0s 10ms/step - loss: 0.0012 - acc: 1.0000\n",
      "Epoch 88/300\n",
      "16/16 [==============================] - 0s 9ms/step - loss: 0.0012 - acc: 1.0000\n",
      "Epoch 89/300\n",
      "16/16 [==============================] - 0s 8ms/step - loss: 0.0012 - acc: 1.0000\n",
      "Epoch 90/300\n",
      "16/16 [==============================] - 0s 9ms/step - loss: 0.0011 - acc: 1.0000\n",
      "Epoch 91/300\n",
      "16/16 [==============================] - 0s 9ms/step - loss: 0.0011 - acc: 1.0000\n",
      "Epoch 92/300\n",
      "16/16 [==============================] - 0s 9ms/step - loss: 0.0011 - acc: 1.0000\n",
      "Epoch 93/300\n",
      "16/16 [==============================] - 0s 9ms/step - loss: 0.0011 - acc: 1.0000\n",
      "Epoch 94/300\n",
      "16/16 [==============================] - 0s 8ms/step - loss: 0.0011 - acc: 1.0000\n",
      "Epoch 95/300\n",
      "16/16 [==============================] - 0s 8ms/step - loss: 0.0010 - acc: 1.0000\n",
      "Epoch 96/300\n",
      "16/16 [==============================] - 0s 10ms/step - loss: 0.0010 - acc: 1.0000\n",
      "Epoch 97/300\n",
      "16/16 [==============================] - 0s 10ms/step - loss: 9.9481e-04 - acc: 1.0000\n",
      "Epoch 98/300\n",
      "16/16 [==============================] - 0s 9ms/step - loss: 9.7588e-04 - acc: 1.0000\n",
      "Epoch 99/300\n",
      "16/16 [==============================] - ETA: 0s - loss: 9.4521e-04 - acc: 1.000 - 0s 10ms/step - loss: 9.5734e-04 - acc: 1.0000\n",
      "Epoch 100/300\n",
      "16/16 [==============================] - 0s 9ms/step - loss: 9.3918e-04 - acc: 1.0000\n",
      "Epoch 101/300\n",
      "16/16 [==============================] - 0s 9ms/step - loss: 9.2187e-04 - acc: 1.0000\n",
      "Epoch 102/300\n",
      "16/16 [==============================] - 0s 8ms/step - loss: 9.0459e-04 - acc: 1.0000\n",
      "Epoch 103/300\n",
      "16/16 [==============================] - 0s 8ms/step - loss: 8.8800e-04 - acc: 1.0000\n",
      "Epoch 104/300\n",
      "16/16 [==============================] - 0s 9ms/step - loss: 8.7181e-04 - acc: 1.0000\n",
      "Epoch 105/300\n",
      "16/16 [==============================] - 0s 8ms/step - loss: 8.5613e-04 - acc: 1.0000\n",
      "Epoch 106/300\n",
      "16/16 [==============================] - 0s 10ms/step - loss: 8.4094e-04 - acc: 1.0000\n",
      "Epoch 107/300\n",
      "16/16 [==============================] - 0s 9ms/step - loss: 8.2614e-04 - acc: 1.0000\n",
      "Epoch 108/300\n",
      "16/16 [==============================] - 0s 10ms/step - loss: 8.1171e-04 - acc: 1.0000\n",
      "Epoch 109/300\n",
      "16/16 [==============================] - 0s 13ms/step - loss: 7.9764e-04 - acc: 1.0000\n",
      "Epoch 110/300\n",
      "16/16 [==============================] - 0s 13ms/step - loss: 7.8389e-04 - acc: 1.0000\n",
      "Epoch 111/300\n",
      "16/16 [==============================] - 0s 10ms/step - loss: 7.7062e-04 - acc: 1.0000\n",
      "Epoch 112/300\n",
      "16/16 [==============================] - 0s 10ms/step - loss: 7.5740e-04 - acc: 1.0000\n",
      "Epoch 113/300\n",
      "16/16 [==============================] - 0s 10ms/step - loss: 7.4480e-04 - acc: 1.0000\n",
      "Epoch 114/300\n",
      "16/16 [==============================] - 0s 9ms/step - loss: 7.3219e-04 - acc: 1.0000\n",
      "Epoch 115/300\n",
      "16/16 [==============================] - 0s 11ms/step - loss: 7.2003e-04 - acc: 1.0000\n",
      "Epoch 116/300\n",
      "16/16 [==============================] - 0s 9ms/step - loss: 7.0815e-04 - acc: 1.0000\n",
      "Epoch 117/300\n",
      "16/16 [==============================] - 0s 11ms/step - loss: 6.9652e-04 - acc: 1.0000\n",
      "Epoch 118/300\n",
      "16/16 [==============================] - 0s 8ms/step - loss: 6.8511e-04 - acc: 1.0000\n",
      "Epoch 119/300\n",
      "16/16 [==============================] - 0s 8ms/step - loss: 6.7410e-04 - acc: 1.0000\n",
      "Epoch 120/300\n",
      "16/16 [==============================] - 0s 9ms/step - loss: 6.6324e-04 - acc: 1.0000\n",
      "Epoch 121/300\n",
      "16/16 [==============================] - 0s 8ms/step - loss: 6.5261e-04 - acc: 1.0000\n",
      "Epoch 122/300\n",
      "16/16 [==============================] - 0s 10ms/step - loss: 6.4220e-04 - acc: 1.0000\n",
      "Epoch 123/300\n",
      "16/16 [==============================] - 0s 10ms/step - loss: 6.3207e-04 - acc: 1.0000\n",
      "Epoch 124/300\n",
      "16/16 [==============================] - 0s 10ms/step - loss: 6.2212e-04 - acc: 1.0000\n",
      "Epoch 125/300\n",
      "16/16 [==============================] - 0s 9ms/step - loss: 6.1248e-04 - acc: 1.0000\n",
      "Epoch 126/300\n",
      "16/16 [==============================] - 0s 9ms/step - loss: 6.0313e-04 - acc: 1.0000\n",
      "Epoch 127/300\n",
      "16/16 [==============================] - 0s 9ms/step - loss: 5.9387e-04 - acc: 1.0000\n",
      "Epoch 128/300\n",
      "16/16 [==============================] - 0s 10ms/step - loss: 5.8480e-04 - acc: 1.0000\n",
      "Epoch 129/300\n",
      "16/16 [==============================] - 0s 8ms/step - loss: 5.7603e-04 - acc: 1.0000\n",
      "Epoch 130/300\n",
      "16/16 [==============================] - 0s 9ms/step - loss: 5.6717e-04 - acc: 1.0000\n",
      "Epoch 131/300\n",
      "16/16 [==============================] - 0s 9ms/step - loss: 5.5877e-04 - acc: 1.0000\n",
      "Epoch 132/300\n",
      "16/16 [==============================] - 0s 9ms/step - loss: 5.5056e-04 - acc: 1.0000\n",
      "Epoch 133/300\n",
      "16/16 [==============================] - 0s 9ms/step - loss: 5.4226e-04 - acc: 1.0000\n",
      "Epoch 134/300\n",
      "16/16 [==============================] - 0s 9ms/step - loss: 5.3417e-04 - acc: 1.0000\n",
      "Epoch 135/300\n",
      "16/16 [==============================] - 0s 10ms/step - loss: 5.2632e-04 - acc: 1.0000\n",
      "Epoch 136/300\n",
      "16/16 [==============================] - 0s 12ms/step - loss: 5.1867e-04 - acc: 1.0000\n",
      "Epoch 137/300\n",
      "16/16 [==============================] - ETA: 0s - loss: 5.1369e-04 - acc: 1.000 - 0s 10ms/step - loss: 5.1122e-04 - acc: 1.0000\n",
      "Epoch 138/300\n",
      "16/16 [==============================] - 0s 10ms/step - loss: 5.0370e-04 - acc: 1.0000\n",
      "Epoch 139/300\n",
      "16/16 [==============================] - 0s 9ms/step - loss: 4.9664e-04 - acc: 1.0000\n",
      "Epoch 140/300\n",
      "16/16 [==============================] - 0s 8ms/step - loss: 4.8959e-04 - acc: 1.0000\n",
      "Epoch 141/300\n",
      "16/16 [==============================] - 0s 8ms/step - loss: 4.8255e-04 - acc: 1.0000\n",
      "Epoch 142/300\n",
      "16/16 [==============================] - 0s 10ms/step - loss: 4.7576e-04 - acc: 1.0000\n",
      "Epoch 143/300\n",
      "16/16 [==============================] - 0s 9ms/step - loss: 4.6909e-04 - acc: 1.0000\n",
      "Epoch 144/300\n",
      "16/16 [==============================] - 0s 8ms/step - loss: 4.6247e-04 - acc: 1.0000\n",
      "Epoch 145/300\n",
      "16/16 [==============================] - 0s 8ms/step - loss: 4.5606e-04 - acc: 1.0000\n",
      "Epoch 146/300\n",
      "16/16 [==============================] - 0s 10ms/step - loss: 4.4965e-04 - acc: 1.0000\n",
      "Epoch 147/300\n",
      "16/16 [==============================] - 0s 10ms/step - loss: 4.4366e-04 - acc: 1.0000\n",
      "Epoch 148/300\n",
      "16/16 [==============================] - 0s 9ms/step - loss: 4.3741e-04 - acc: 1.0000\n",
      "Epoch 149/300\n",
      "16/16 [==============================] - 0s 9ms/step - loss: 4.3137e-04 - acc: 1.0000\n",
      "Epoch 150/300\n",
      "16/16 [==============================] - 0s 9ms/step - loss: 4.2550e-04 - acc: 1.0000\n",
      "Epoch 151/300\n",
      "16/16 [==============================] - 0s 11ms/step - loss: 4.1977e-04 - acc: 1.0000\n",
      "Epoch 152/300\n",
      "16/16 [==============================] - 0s 10ms/step - loss: 4.1404e-04 - acc: 1.0000\n",
      "Epoch 153/300\n",
      "16/16 [==============================] - 0s 9ms/step - loss: 4.0848e-04 - acc: 1.0000\n",
      "Epoch 154/300\n",
      "16/16 [==============================] - 0s 11ms/step - loss: 4.0309e-04 - acc: 1.0000\n",
      "Epoch 155/300\n",
      "16/16 [==============================] - 0s 10ms/step - loss: 3.9777e-04 - acc: 1.0000\n",
      "Epoch 156/300\n",
      "16/16 [==============================] - 0s 10ms/step - loss: 3.9242e-04 - acc: 1.0000\n",
      "Epoch 157/300\n",
      "16/16 [==============================] - 0s 10ms/step - loss: 3.8719e-04 - acc: 1.0000\n",
      "Epoch 158/300\n",
      "16/16 [==============================] - 0s 9ms/step - loss: 3.8218e-04 - acc: 1.0000\n",
      "Epoch 159/300\n",
      "16/16 [==============================] - 0s 9ms/step - loss: 3.7716e-04 - acc: 1.0000\n",
      "Epoch 160/300\n",
      "16/16 [==============================] - 0s 9ms/step - loss: 3.7213e-04 - acc: 1.0000\n",
      "Epoch 161/300\n",
      "16/16 [==============================] - 0s 8ms/step - loss: 3.6734e-04 - acc: 1.0000\n",
      "Epoch 162/300\n",
      "16/16 [==============================] - 0s 11ms/step - loss: 3.6258e-04 - acc: 1.0000: 0s - loss: 3.6332e-04 - acc: 1.000\n",
      "Epoch 163/300\n",
      "16/16 [==============================] - 0s 12ms/step - loss: 3.5789e-04 - acc: 1.0000\n",
      "Epoch 164/300\n",
      "16/16 [==============================] - 0s 10ms/step - loss: 3.5330e-04 - acc: 1.0000\n",
      "Epoch 165/300\n",
      "16/16 [==============================] - 0s 9ms/step - loss: 3.4876e-04 - acc: 1.0000\n",
      "Epoch 166/300\n",
      "16/16 [==============================] - 0s 10ms/step - loss: 3.4431e-04 - acc: 1.0000\n",
      "Epoch 167/300\n"
     ]
    },
    {
     "name": "stdout",
     "output_type": "stream",
     "text": [
      "16/16 [==============================] - 0s 11ms/step - loss: 3.4003e-04 - acc: 1.0000\n",
      "Epoch 168/300\n",
      "16/16 [==============================] - 0s 11ms/step - loss: 3.3562e-04 - acc: 1.0000\n",
      "Epoch 169/300\n",
      "16/16 [==============================] - 0s 11ms/step - loss: 3.3141e-04 - acc: 1.0000\n",
      "Epoch 170/300\n",
      "16/16 [==============================] - 0s 9ms/step - loss: 3.2726e-04 - acc: 1.0000\n",
      "Epoch 171/300\n",
      "16/16 [==============================] - 0s 9ms/step - loss: 3.2316e-04 - acc: 1.0000\n",
      "Epoch 172/300\n",
      "16/16 [==============================] - 0s 9ms/step - loss: 3.1907e-04 - acc: 1.0000\n",
      "Epoch 173/300\n",
      "16/16 [==============================] - 0s 9ms/step - loss: 3.1508e-04 - acc: 1.0000\n",
      "Epoch 174/300\n",
      "16/16 [==============================] - 0s 9ms/step - loss: 3.1124e-04 - acc: 1.0000\n",
      "Epoch 175/300\n",
      "16/16 [==============================] - 0s 9ms/step - loss: 3.0734e-04 - acc: 1.0000\n",
      "Epoch 176/300\n",
      "16/16 [==============================] - 0s 10ms/step - loss: 3.0369e-04 - acc: 1.0000\n",
      "Epoch 177/300\n",
      "16/16 [==============================] - 0s 9ms/step - loss: 2.9987e-04 - acc: 1.0000\n",
      "Epoch 178/300\n",
      "16/16 [==============================] - 0s 10ms/step - loss: 2.9622e-04 - acc: 1.0000\n",
      "Epoch 179/300\n",
      "16/16 [==============================] - 0s 14ms/step - loss: 2.9259e-04 - acc: 1.0000\n",
      "Epoch 180/300\n",
      "16/16 [==============================] - 0s 14ms/step - loss: 2.8906e-04 - acc: 1.0000\n",
      "Epoch 181/300\n",
      "16/16 [==============================] - 0s 11ms/step - loss: 2.8551e-04 - acc: 1.0000\n",
      "Epoch 182/300\n",
      "16/16 [==============================] - 0s 10ms/step - loss: 2.8206e-04 - acc: 1.0000\n",
      "Epoch 183/300\n",
      "16/16 [==============================] - 0s 13ms/step - loss: 2.7878e-04 - acc: 1.0000\n",
      "Epoch 184/300\n",
      "16/16 [==============================] - 0s 19ms/step - loss: 2.7534e-04 - acc: 1.0000\n",
      "Epoch 185/300\n",
      "16/16 [==============================] - 0s 12ms/step - loss: 2.7206e-04 - acc: 1.0000\n",
      "Epoch 186/300\n",
      "16/16 [==============================] - 0s 10ms/step - loss: 2.6878e-04 - acc: 1.0000\n",
      "Epoch 187/300\n",
      "16/16 [==============================] - 0s 10ms/step - loss: 2.6561e-04 - acc: 1.0000\n",
      "Epoch 188/300\n",
      "16/16 [==============================] - 0s 10ms/step - loss: 2.6246e-04 - acc: 1.0000\n",
      "Epoch 189/300\n",
      "16/16 [==============================] - 0s 10ms/step - loss: 2.5938e-04 - acc: 1.0000\n",
      "Epoch 190/300\n",
      "16/16 [==============================] - 0s 10ms/step - loss: 2.5629e-04 - acc: 1.0000\n",
      "Epoch 191/300\n",
      "16/16 [==============================] - 0s 9ms/step - loss: 2.5332e-04 - acc: 1.0000\n",
      "Epoch 192/300\n",
      "16/16 [==============================] - 0s 9ms/step - loss: 2.5040e-04 - acc: 1.0000\n",
      "Epoch 193/300\n",
      "16/16 [==============================] - 0s 10ms/step - loss: 2.4751e-04 - acc: 1.0000\n",
      "Epoch 194/300\n",
      "16/16 [==============================] - 0s 10ms/step - loss: 2.4468e-04 - acc: 1.0000\n",
      "Epoch 195/300\n",
      "16/16 [==============================] - 0s 10ms/step - loss: 2.4191e-04 - acc: 1.0000\n",
      "Epoch 196/300\n",
      "16/16 [==============================] - 0s 10ms/step - loss: 2.3914e-04 - acc: 1.0000\n",
      "Epoch 197/300\n",
      "16/16 [==============================] - 0s 10ms/step - loss: 2.3645e-04 - acc: 1.0000\n",
      "Epoch 198/300\n",
      "16/16 [==============================] - 0s 10ms/step - loss: 2.3374e-04 - acc: 1.0000\n",
      "Epoch 199/300\n",
      "16/16 [==============================] - 0s 10ms/step - loss: 2.3120e-04 - acc: 1.0000\n",
      "Epoch 200/300\n",
      "16/16 [==============================] - 0s 10ms/step - loss: 2.2856e-04 - acc: 1.0000\n",
      "Epoch 201/300\n",
      "16/16 [==============================] - 0s 10ms/step - loss: 2.2603e-04 - acc: 1.0000\n",
      "Epoch 202/300\n",
      "16/16 [==============================] - 0s 9ms/step - loss: 2.2353e-04 - acc: 1.0000\n",
      "Epoch 203/300\n",
      "16/16 [==============================] - 0s 9ms/step - loss: 2.2106e-04 - acc: 1.0000\n",
      "Epoch 204/300\n",
      "16/16 [==============================] - 0s 10ms/step - loss: 2.1864e-04 - acc: 1.0000\n",
      "Epoch 205/300\n",
      "16/16 [==============================] - 0s 9ms/step - loss: 2.1621e-04 - acc: 1.0000\n",
      "Epoch 206/300\n",
      "16/16 [==============================] - 0s 10ms/step - loss: 2.1382e-04 - acc: 1.0000\n",
      "Epoch 207/300\n",
      "16/16 [==============================] - 0s 10ms/step - loss: 2.1144e-04 - acc: 1.0000\n",
      "Epoch 208/300\n",
      "16/16 [==============================] - 0s 10ms/step - loss: 2.0914e-04 - acc: 1.0000\n",
      "Epoch 209/300\n",
      "16/16 [==============================] - 0s 10ms/step - loss: 2.0690e-04 - acc: 1.0000\n",
      "Epoch 210/300\n",
      "16/16 [==============================] - 0s 10ms/step - loss: 2.0466e-04 - acc: 1.0000\n",
      "Epoch 211/300\n",
      "16/16 [==============================] - 0s 11ms/step - loss: 2.0245e-04 - acc: 1.0000\n",
      "Epoch 212/300\n",
      "16/16 [==============================] - 0s 10ms/step - loss: 2.0030e-04 - acc: 1.0000\n",
      "Epoch 213/300\n",
      "16/16 [==============================] - 0s 9ms/step - loss: 1.9807e-04 - acc: 1.0000\n",
      "Epoch 214/300\n",
      "16/16 [==============================] - 0s 11ms/step - loss: 1.9597e-04 - acc: 1.0000\n",
      "Epoch 215/300\n",
      "16/16 [==============================] - 0s 10ms/step - loss: 1.9387e-04 - acc: 1.0000\n",
      "Epoch 216/300\n",
      "16/16 [==============================] - 0s 12ms/step - loss: 1.9176e-04 - acc: 1.0000\n",
      "Epoch 217/300\n",
      "16/16 [==============================] - 0s 15ms/step - loss: 1.8976e-04 - acc: 1.0000\n",
      "Epoch 218/300\n",
      "16/16 [==============================] - 0s 10ms/step - loss: 1.8768e-04 - acc: 1.0000\n",
      "Epoch 219/300\n",
      "16/16 [==============================] - 0s 10ms/step - loss: 1.8576e-04 - acc: 1.0000\n",
      "Epoch 220/300\n",
      "16/16 [==============================] - 0s 10ms/step - loss: 1.8377e-04 - acc: 1.0000\n",
      "Epoch 221/300\n",
      "16/16 [==============================] - 0s 8ms/step - loss: 1.8184e-04 - acc: 1.0000\n",
      "Epoch 222/300\n",
      "16/16 [==============================] - 0s 11ms/step - loss: 1.7994e-04 - acc: 1.0000\n",
      "Epoch 223/300\n",
      "16/16 [==============================] - 0s 10ms/step - loss: 1.7803e-04 - acc: 1.0000\n",
      "Epoch 224/300\n",
      "16/16 [==============================] - 0s 9ms/step - loss: 1.7619e-04 - acc: 1.0000\n",
      "Epoch 225/300\n",
      "16/16 [==============================] - 0s 13ms/step - loss: 1.7431e-04 - acc: 1.0000\n",
      "Epoch 226/300\n",
      "16/16 [==============================] - ETA: 0s - loss: 1.8130e-04 - acc: 1.000 - 0s 10ms/step - loss: 1.7252e-04 - acc: 1.0000\n",
      "Epoch 227/300\n",
      "16/16 [==============================] - 0s 12ms/step - loss: 1.7070e-04 - acc: 1.0000\n",
      "Epoch 228/300\n",
      "16/16 [==============================] - 0s 18ms/step - loss: 1.6890e-04 - acc: 1.0000\n",
      "Epoch 229/300\n",
      "16/16 [==============================] - 0s 16ms/step - loss: 1.6713e-04 - acc: 1.0000\n",
      "Epoch 230/300\n",
      "16/16 [==============================] - 0s 14ms/step - loss: 1.6542e-04 - acc: 1.0000\n",
      "Epoch 231/300\n",
      "16/16 [==============================] - 0s 16ms/step - loss: 1.6371e-04 - acc: 1.0000\n",
      "Epoch 232/300\n",
      "16/16 [==============================] - 0s 15ms/step - loss: 1.6201e-04 - acc: 1.0000\n",
      "Epoch 233/300\n",
      "16/16 [==============================] - 0s 12ms/step - loss: 1.6036e-04 - acc: 1.0000\n",
      "Epoch 234/300\n",
      "16/16 [==============================] - 0s 14ms/step - loss: 1.5871e-04 - acc: 1.0000\n",
      "Epoch 235/300\n",
      "16/16 [==============================] - 0s 12ms/step - loss: 1.5707e-04 - acc: 1.0000\n",
      "Epoch 236/300\n",
      "16/16 [==============================] - 0s 16ms/step - loss: 1.5547e-04 - acc: 1.0000\n",
      "Epoch 237/300\n",
      "16/16 [==============================] - 0s 12ms/step - loss: 1.5391e-04 - acc: 1.0000\n",
      "Epoch 238/300\n",
      "16/16 [==============================] - 0s 10ms/step - loss: 1.5232e-04 - acc: 1.0000\n",
      "Epoch 239/300\n",
      "16/16 [==============================] - 0s 10ms/step - loss: 1.5075e-04 - acc: 1.0000\n",
      "Epoch 240/300\n",
      "16/16 [==============================] - 0s 10ms/step - loss: 1.4921e-04 - acc: 1.0000\n",
      "Epoch 241/300\n",
      "16/16 [==============================] - 0s 10ms/step - loss: 1.4771e-04 - acc: 1.0000\n",
      "Epoch 242/300\n",
      "16/16 [==============================] - 0s 10ms/step - loss: 1.4625e-04 - acc: 1.0000\n",
      "Epoch 243/300\n",
      "16/16 [==============================] - 0s 10ms/step - loss: 1.4474e-04 - acc: 1.0000\n",
      "Epoch 244/300\n",
      "16/16 [==============================] - 0s 10ms/step - loss: 1.4330e-04 - acc: 1.0000\n",
      "Epoch 245/300\n",
      "16/16 [==============================] - 0s 10ms/step - loss: 1.4183e-04 - acc: 1.0000\n",
      "Epoch 246/300\n",
      "16/16 [==============================] - 0s 10ms/step - loss: 1.4038e-04 - acc: 1.0000\n",
      "Epoch 247/300\n",
      "16/16 [==============================] - 0s 10ms/step - loss: 1.3899e-04 - acc: 1.0000\n"
     ]
    },
    {
     "name": "stdout",
     "output_type": "stream",
     "text": [
      "Epoch 248/300\n",
      "16/16 [==============================] - 0s 11ms/step - loss: 1.3759e-04 - acc: 1.0000\n",
      "Epoch 249/300\n",
      "16/16 [==============================] - 0s 10ms/step - loss: 1.3626e-04 - acc: 1.0000\n",
      "Epoch 250/300\n",
      "16/16 [==============================] - 0s 11ms/step - loss: 1.3485e-04 - acc: 1.0000\n",
      "Epoch 251/300\n",
      "16/16 [==============================] - 0s 11ms/step - loss: 1.3352e-04 - acc: 1.0000\n",
      "Epoch 252/300\n",
      "16/16 [==============================] - 0s 19ms/step - loss: 1.3222e-04 - acc: 1.0000\n",
      "Epoch 253/300\n",
      "16/16 [==============================] - 0s 23ms/step - loss: 1.3086e-04 - acc: 1.0000\n",
      "Epoch 254/300\n",
      "16/16 [==============================] - 0s 15ms/step - loss: 1.2956e-04 - acc: 1.0000\n",
      "Epoch 255/300\n",
      "16/16 [==============================] - 0s 15ms/step - loss: 1.2827e-04 - acc: 1.0000\n",
      "Epoch 256/300\n",
      "16/16 [==============================] - 0s 17ms/step - loss: 1.2704e-04 - acc: 1.0000\n",
      "Epoch 257/300\n",
      "16/16 [==============================] - 0s 17ms/step - loss: 1.2579e-04 - acc: 1.0000\n",
      "Epoch 258/300\n",
      "16/16 [==============================] - 0s 21ms/step - loss: 1.2451e-04 - acc: 1.0000\n",
      "Epoch 259/300\n",
      "16/16 [==============================] - 0s 15ms/step - loss: 1.2330e-04 - acc: 1.0000\n",
      "Epoch 260/300\n",
      "16/16 [==============================] - 0s 14ms/step - loss: 1.2211e-04 - acc: 1.0000\n",
      "Epoch 261/300\n",
      "16/16 [==============================] - 0s 14ms/step - loss: 1.2092e-04 - acc: 1.0000\n",
      "Epoch 262/300\n",
      "16/16 [==============================] - 0s 13ms/step - loss: 1.1973e-04 - acc: 1.0000\n",
      "Epoch 263/300\n",
      "16/16 [==============================] - 0s 13ms/step - loss: 1.1855e-04 - acc: 1.0000\n",
      "Epoch 264/300\n",
      "16/16 [==============================] - 0s 16ms/step - loss: 1.1738e-04 - acc: 1.0000\n",
      "Epoch 265/300\n",
      "16/16 [==============================] - 0s 16ms/step - loss: 1.1627e-04 - acc: 1.0000\n",
      "Epoch 266/300\n",
      "16/16 [==============================] - 0s 14ms/step - loss: 1.1514e-04 - acc: 1.0000\n",
      "Epoch 267/300\n",
      "16/16 [==============================] - 0s 14ms/step - loss: 1.1401e-04 - acc: 1.0000\n",
      "Epoch 268/300\n",
      "16/16 [==============================] - 0s 14ms/step - loss: 1.1295e-04 - acc: 1.0000\n",
      "Epoch 269/300\n",
      "16/16 [==============================] - 0s 13ms/step - loss: 1.1182e-04 - acc: 1.0000\n",
      "Epoch 270/300\n",
      "16/16 [==============================] - 0s 15ms/step - loss: 1.1072e-04 - acc: 1.0000\n",
      "Epoch 271/300\n",
      "16/16 [==============================] - 0s 14ms/step - loss: 1.0968e-04 - acc: 1.0000\n",
      "Epoch 272/300\n",
      "16/16 [==============================] - 0s 12ms/step - loss: 1.0864e-04 - acc: 1.0000\n",
      "Epoch 273/300\n",
      "16/16 [==============================] - 0s 12ms/step - loss: 1.0758e-04 - acc: 1.0000\n",
      "Epoch 274/300\n",
      "16/16 [==============================] - 0s 12ms/step - loss: 1.0656e-04 - acc: 1.0000\n",
      "Epoch 275/300\n",
      "16/16 [==============================] - 0s 12ms/step - loss: 1.0552e-04 - acc: 1.0000: 0s - loss: 1.0904e-04 - acc: 1.00\n",
      "Epoch 276/300\n",
      "16/16 [==============================] - 0s 11ms/step - loss: 1.0451e-04 - acc: 1.0000\n",
      "Epoch 277/300\n",
      "16/16 [==============================] - 0s 11ms/step - loss: 1.0348e-04 - acc: 1.0000\n",
      "Epoch 278/300\n",
      "16/16 [==============================] - 0s 12ms/step - loss: 1.0255e-04 - acc: 1.0000\n",
      "Epoch 279/300\n",
      "16/16 [==============================] - 0s 13ms/step - loss: 1.0153e-04 - acc: 1.0000\n",
      "Epoch 280/300\n",
      "16/16 [==============================] - 0s 15ms/step - loss: 1.0059e-04 - acc: 1.0000\n",
      "Epoch 281/300\n",
      "16/16 [==============================] - 0s 12ms/step - loss: 9.9645e-05 - acc: 1.0000\n",
      "Epoch 282/300\n",
      "16/16 [==============================] - 0s 16ms/step - loss: 9.8662e-05 - acc: 1.0000\n",
      "Epoch 283/300\n",
      "16/16 [==============================] - 0s 12ms/step - loss: 9.7715e-05 - acc: 1.0000\n",
      "Epoch 284/300\n",
      "16/16 [==============================] - 0s 13ms/step - loss: 9.6852e-05 - acc: 1.0000\n",
      "Epoch 285/300\n",
      "16/16 [==============================] - 0s 12ms/step - loss: 9.5905e-05 - acc: 1.0000\n",
      "Epoch 286/300\n",
      "16/16 [==============================] - 0s 12ms/step - loss: 9.4968e-05 - acc: 1.0000\n",
      "Epoch 287/300\n",
      "16/16 [==============================] - 0s 13ms/step - loss: 9.4098e-05 - acc: 1.0000\n",
      "Epoch 288/300\n",
      "16/16 [==============================] - 0s 12ms/step - loss: 9.3179e-05 - acc: 1.0000\n",
      "Epoch 289/300\n",
      "16/16 [==============================] - 0s 11ms/step - loss: 9.2306e-05 - acc: 1.0000\n",
      "Epoch 290/300\n",
      "16/16 [==============================] - 0s 14ms/step - loss: 9.1459e-05 - acc: 1.0000\n",
      "Epoch 291/300\n",
      "16/16 [==============================] - 0s 12ms/step - loss: 9.0587e-05 - acc: 1.0000\n",
      "Epoch 292/300\n",
      "16/16 [==============================] - 0s 11ms/step - loss: 8.9755e-05 - acc: 1.0000\n",
      "Epoch 293/300\n",
      "16/16 [==============================] - 0s 13ms/step - loss: 8.8950e-05 - acc: 1.0000\n",
      "Epoch 294/300\n",
      "16/16 [==============================] - 0s 12ms/step - loss: 8.8083e-05 - acc: 1.0000\n",
      "Epoch 295/300\n",
      "16/16 [==============================] - 0s 20ms/step - loss: 8.7242e-05 - acc: 1.0000\n",
      "Epoch 296/300\n",
      "16/16 [==============================] - 0s 14ms/step - loss: 8.6424e-05 - acc: 1.0000\n",
      "Epoch 297/300\n",
      "16/16 [==============================] - 0s 10ms/step - loss: 8.5649e-05 - acc: 1.0000\n",
      "Epoch 298/300\n",
      "16/16 [==============================] - 0s 16ms/step - loss: 8.4843e-05 - acc: 1.0000\n",
      "Epoch 299/300\n",
      "16/16 [==============================] - 0s 17ms/step - loss: 8.4026e-05 - acc: 1.0000\n",
      "Epoch 300/300\n",
      "16/16 [==============================] - 0s 14ms/step - loss: 8.3262e-05 - acc: 1.0000\n"
     ]
    },
    {
     "data": {
      "text/plain": [
       "<keras.callbacks.History at 0x1bd2432cba8>"
      ]
     },
     "execution_count": 87,
     "metadata": {},
     "output_type": "execute_result"
    }
   ],
   "source": [
    "model3.compile(optimizer=Adam(lr=.01), loss='sparse_categorical_crossentropy', metrics=['accuracy'])\n",
    "model3.fit(padded, y2, batch_size=1, epochs=300)"
   ]
  },
  {
   "cell_type": "code",
   "execution_count": 88,
   "metadata": {},
   "outputs": [
    {
     "data": {
      "text/plain": [
       "array([[0, 0, 0, 0, 0, 1, 2, 0, 0, 0, 0],\n",
       "       [0, 0, 0, 0, 1, 2, 0, 0, 0, 0, 0],\n",
       "       [0, 0, 1, 2, 0, 0, 0, 0, 0, 0, 0],\n",
       "       [0, 1, 2, 0, 0, 0, 0, 0, 0, 0, 0],\n",
       "       [0, 0, 0, 0, 1, 2, 0, 0, 0, 0, 0],\n",
       "       [0, 0, 0, 1, 2, 0, 0, 0, 0, 0, 0],\n",
       "       [0, 1, 2, 0, 0, 0, 0, 0, 0, 0, 0],\n",
       "       [1, 2, 0, 0, 0, 0, 0, 0, 0, 0, 0],\n",
       "       [0, 0, 0, 0, 0, 1, 2, 0, 0, 0, 0],\n",
       "       [0, 0, 0, 0, 1, 2, 0, 0, 0, 0, 0],\n",
       "       [0, 0, 1, 2, 0, 0, 0, 0, 0, 0, 0],\n",
       "       [0, 1, 2, 0, 0, 0, 0, 0, 0, 0, 0],\n",
       "       [0, 0, 0, 0, 1, 2, 0, 0, 0, 0, 0],\n",
       "       [0, 0, 0, 1, 2, 0, 0, 0, 0, 0, 0],\n",
       "       [0, 1, 2, 0, 0, 0, 0, 0, 0, 0, 0],\n",
       "       [1, 2, 0, 0, 0, 0, 0, 0, 0, 0, 0]], dtype=int64)"
      ]
     },
     "execution_count": 88,
     "metadata": {},
     "output_type": "execute_result"
    }
   ],
   "source": [
    "pred3 = model3.predict(padded)\n",
    "result3 = pred3.argmax(axis=2)\n",
    "result3"
   ]
  },
  {
   "cell_type": "code",
   "execution_count": 89,
   "metadata": {},
   "outputs": [
    {
     "data": {
      "text/plain": [
       "[[1, [[1, '오'], [2, '늘']]],\n",
       " [2, [[1, '오'], [2, '늘']]],\n",
       " [3, [[1, '오'], [2, '늘']]],\n",
       " [4, [[1, '오'], [2, '늘']]],\n",
       " [5, [[1, '오'], [2, '늘']]],\n",
       " [6, [[1, '오'], [2, '늘']]],\n",
       " [7, [[1, '오'], [2, '늘']]],\n",
       " [8, [[1, '오'], [2, '늘']]],\n",
       " [9, [[1, '내'], [2, '일']]],\n",
       " [10, [[1, '내'], [2, '일']]],\n",
       " [11, [[1, '내'], [2, '일']]],\n",
       " [12, [[1, '내'], [2, '일']]],\n",
       " [13, [[1, '내'], [2, '일']]],\n",
       " [14, [[1, '내'], [2, '일']]],\n",
       " [15, [[1, '내'], [2, '일']]],\n",
       " [16, [[1, '내'], [2, '일']]]]"
      ]
     },
     "execution_count": 89,
     "metadata": {},
     "output_type": "execute_result"
    }
   ],
   "source": [
    "get_words(padded, result3)"
   ]
  }
 ],
 "metadata": {
  "kernelspec": {
   "display_name": "Python 3",
   "language": "python",
   "name": "python3"
  },
  "language_info": {
   "codemirror_mode": {
    "name": "ipython",
    "version": 3
   },
   "file_extension": ".py",
   "mimetype": "text/x-python",
   "name": "python",
   "nbconvert_exporter": "python",
   "pygments_lexer": "ipython3",
   "version": "3.6.5"
  }
 },
 "nbformat": 4,
 "nbformat_minor": 2
}
