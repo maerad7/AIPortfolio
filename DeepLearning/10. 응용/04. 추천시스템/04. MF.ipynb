{
 "cells": [
  {
   "cell_type": "markdown",
   "metadata": {},
   "source": [
    "# Matrix Factorization\n",
    "*  유저나 상품의 정보를 나타내는 벡터를 PCA나 SVD같은 알고리즘으로 분해하거나 축소하는 방법"
   ]
  },
  {
   "cell_type": "code",
   "execution_count": null,
   "metadata": {},
   "outputs": [],
   "source": [
    "import pandas as pd\n",
    "import numpy as np\n",
    "from surprise.model_selection import cross_validate\n",
    "from surprise import SVD\n",
    "from surprise import SVDpp\n",
    "from surprise import NMF\n",
    "import surprise"
   ]
  },
  {
   "cell_type": "code",
   "execution_count": null,
   "metadata": {},
   "outputs": [],
   "source": [
    "data = surprise.Dataset.load_builtin('ml-100k')"
   ]
  },
  {
   "cell_type": "markdown",
   "metadata": {},
   "source": [
    "# 2. Matrix Factorization"
   ]
  },
  {
   "cell_type": "markdown",
   "metadata": {},
   "source": [
    "** NMF(Non-negative Matrix Factorization) **\n",
    "- n_factors=15 : Factor 수\n",
    "- n_epochs=50 : 반복횟수\n",
    "- biased=False : baseline 오차 사용여부\n",
    "- reg_pu=0.06 : 사용자에 대한 정규화식 \n",
    "- reg_qi=0.06 : 아이템에 대한 정규화식\n",
    "- reg_bu=0.02 : baseline 오차 중 사용자에 대한 정규화식\n",
    "- reg_bi=0.02 : baseline 오차 중 아이템에 대한 정규화식\n",
    "- lr_bu=0.02 : 사용자에 대한 학습률\n",
    "- lr_bi=0.005 : 아이템에 대한 학습률\n",
    "- init_low=0 : 랜덤초기화 최소값\n",
    "- init_high=1 : 랜덤초기화 최대값\n",
    "- random_state : 난수표\n",
    "- verbose : 자세한 결과 여부"
   ]
  },
  {
   "cell_type": "markdown",
   "metadata": {},
   "source": [
    "** SVD **\n",
    "- init_mean=0 : 초기 평균값\n",
    "- init_std_dev=0.1 : 초기 분산값\n",
    "- lr_all=0.005 : 전체 파라미터에 대한 학습률\n",
    "- reg_all=0.02 : 전체 파라미터에 대한 정규화식\n",
    "- 각 파라미터에 대한 학습률 및 정규화식을 사용한 경우에는 그 값을 우선 사용"
   ]
  },
  {
   "cell_type": "markdown",
   "metadata": {},
   "source": [
    "** SVDpp **\n",
    "- lr_yj : implicit rating 학습률\n",
    "- reg_yj : implicit rating 정규화식"
   ]
  }
 ],
 "metadata": {
  "kernelspec": {
   "display_name": "Python 3",
   "language": "python",
   "name": "python3"
  },
  "language_info": {
   "codemirror_mode": {
    "name": "ipython",
    "version": 3
   },
   "file_extension": ".py",
   "mimetype": "text/x-python",
   "name": "python",
   "nbconvert_exporter": "python",
   "pygments_lexer": "ipython3",
   "version": "3.7.1"
  }
 },
 "nbformat": 4,
 "nbformat_minor": 2
}
