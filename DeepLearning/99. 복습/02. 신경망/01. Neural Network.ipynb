{
 "cells": [
  {
   "cell_type": "markdown",
   "metadata": {},
   "source": [
    "# Perceptron "
   ]
  },
  {
   "cell_type": "code",
   "execution_count": 7,
   "metadata": {},
   "outputs": [],
   "source": [
    "#AND gate\n",
    "import numpy as np\n",
    "def AND(x1, x2):\n",
    "    x = np.array([x1, x2]) #입력\n",
    "    w = np.array([0.5, 0.5]) # 가중치\n",
    "    b = -0.5 # bias(편향)\n",
    "    tmp = np.sum(w*x) + b\n",
    "    if tmp <= 0:\n",
    "        return 0\n",
    "    else:\n",
    "        return 1 "
   ]
  },
  {
   "cell_type": "code",
   "execution_count": 8,
   "metadata": {},
   "outputs": [],
   "source": [
    "#OR gate\n",
    "import numpy as np\n",
    "def OR(x1, x2):\n",
    "    x = np.array([x1, x2]) #입력\n",
    "    w = np.array([0.5, 0.5]) # 가중치\n",
    "    b = -0.2 # bias(편향)\n",
    "    tmp = np.sum(w*x) + b\n",
    "    if tmp <= 0:\n",
    "        return 0\n",
    "    else:\n",
    "        return 1 "
   ]
  },
  {
   "cell_type": "code",
   "execution_count": 9,
   "metadata": {},
   "outputs": [],
   "source": [
    "#NAND gate\n",
    "import numpy as np\n",
    "def NAND(x1, x2):\n",
    "    x = np.array([x1, x2]) #입력\n",
    "    w = np.array([-0.5, -0.5]) # 가중치\n",
    "    b = 0.7 # bias(편향)\n",
    "    tmp = np.sum(w*x) + b\n",
    "    if tmp <= 0:\n",
    "        return 0\n",
    "    else:\n",
    "        return 1 "
   ]
  },
  {
   "attachments": {
    "image.png": {
     "image/png": "[encoded data removed]"
    }
   },
   "cell_type": "markdown",
   "metadata": {},
   "source": [
    "![image.png](attachment:image.png)"
   ]
  },
  {
   "cell_type": "code",
   "execution_count": 10,
   "metadata": {},
   "outputs": [],
   "source": [
    "#XOR gate\n",
    "def XOR(x1, x2):\n",
    "    s1 = NAND(x1, x2)\n",
    "    s2 = OR(x1, x2)\n",
    "    y = AND(s1, s2)\n",
    "    return y"
   ]
  },
  {
   "cell_type": "code",
   "execution_count": 11,
   "metadata": {},
   "outputs": [
    {
     "data": {
      "text/plain": [
       "0"
      ]
     },
     "execution_count": 11,
     "metadata": {},
     "output_type": "execute_result"
    }
   ],
   "source": [
    "XOR(0,0)"
   ]
  },
  {
   "cell_type": "code",
   "execution_count": 12,
   "metadata": {},
   "outputs": [
    {
     "data": {
      "text/plain": [
       "1"
      ]
     },
     "execution_count": 12,
     "metadata": {},
     "output_type": "execute_result"
    }
   ],
   "source": [
    "XOR(1,0)"
   ]
  },
  {
   "cell_type": "code",
   "execution_count": 13,
   "metadata": {},
   "outputs": [
    {
     "data": {
      "text/plain": [
       "1"
      ]
     },
     "execution_count": 13,
     "metadata": {},
     "output_type": "execute_result"
    }
   ],
   "source": [
    "XOR(0,1)"
   ]
  },
  {
   "cell_type": "code",
   "execution_count": 14,
   "metadata": {},
   "outputs": [
    {
     "data": {
      "text/plain": [
       "0"
      ]
     },
     "execution_count": 14,
     "metadata": {},
     "output_type": "execute_result"
    }
   ],
   "source": [
    "XOR(1,1)"
   ]
  },
  {
   "cell_type": "markdown",
   "metadata": {},
   "source": [
    "# Neural Network"
   ]
  },
  {
   "cell_type": "markdown",
   "metadata": {},
   "source": [
    "### Activation Function\n",
    "### 1. Step Function"
   ]
  },
  {
   "cell_type": "code",
   "execution_count": 15,
   "metadata": {},
   "outputs": [],
   "source": [
    "import numpy as np\n",
    "import matplotlib.pylab as plt"
   ]
  },
  {
   "cell_type": "code",
   "execution_count": 16,
   "metadata": {},
   "outputs": [
    {
     "name": "stdout",
     "output_type": "stream",
     "text": [
      "x =  [-1.  1.  2.]\n",
      "y =  [False  True  True]\n"
     ]
    }
   ],
   "source": [
    "x = np.array([-1.0, 1.0, 2.0])\n",
    "y = x > 0\n",
    "print(\"x = \", x)\n",
    "print(\"y = \", y)"
   ]
  },
  {
   "cell_type": "code",
   "execution_count": 17,
   "metadata": {},
   "outputs": [
    {
     "name": "stdout",
     "output_type": "stream",
     "text": [
      "y =  [0 1 1]\n"
     ]
    }
   ],
   "source": [
    "y = y.astype(np.int)\n",
    "print(\"y = \", y)"
   ]
  },
  {
   "cell_type": "code",
   "execution_count": 18,
   "metadata": {},
   "outputs": [],
   "source": [
    "def step_function(x):\n",
    "    return np.array(x > 0, dtype=np.int)"
   ]
  },
  {
   "cell_type": "code",
   "execution_count": 19,
   "metadata": {},
   "outputs": [
    {
     "data": {
      "image/png": "[encoded data removed]",
      "text/plain": [
       "<Figure size 432x288 with 1 Axes>"
      ]
     },
     "metadata": {},
     "output_type": "display_data"
    }
   ],
   "source": [
    "X = np.arange(-5.0, 5.0, 0.1) #-5.0에서 5.0전 까지 0.1 간격의 배열 생성 \n",
    "Y = step_function(X)\n",
    "#plt.figure(figsize = (15, 10)) # 그래프 사이즈 확대하고 싶을때 \n",
    "plt.plot(X, Y)\n",
    "plt.ylim(-0.1, 1.1)  # y축 범위 지정\n",
    "plt.show()"
   ]
  },
  {
   "cell_type": "markdown",
   "metadata": {},
   "source": [
    "### 2. Sigmoid Fucntion"
   ]
  },
  {
   "cell_type": "code",
   "execution_count": 20,
   "metadata": {},
   "outputs": [],
   "source": [
    "def sigmoid(x):\n",
    "    return 1 / (1 + np.exp(-x))    "
   ]
  },
  {
   "cell_type": "code",
   "execution_count": 21,
   "metadata": {},
   "outputs": [
    {
     "name": "stdout",
     "output_type": "stream",
     "text": [
      "y = [0.26894142 0.73105858 0.88079708]\n"
     ]
    }
   ],
   "source": [
    "x = np.array([-1, 1.0, 2.0])\n",
    "y = sigmoid(x)\n",
    "print(\"y =\", y)"
   ]
  },
  {
   "cell_type": "code",
   "execution_count": 22,
   "metadata": {},
   "outputs": [
    {
     "name": "stdout",
     "output_type": "stream",
     "text": [
      "t + 1 = [2. 3. 4.]\n",
      "1 / t = [1.         0.5        0.33333333]\n"
     ]
    }
   ],
   "source": [
    "t = np.array([1.0, 2.0, 3.0])\n",
    "print(\"t + 1 =\", t + 1) #결과 배열 출력\n",
    "print(\"1 / t =\", 1/t)"
   ]
  },
  {
   "cell_type": "code",
   "execution_count": 23,
   "metadata": {},
   "outputs": [
    {
     "data": {
      "image/png": "[encoded data removed]",
      "text/plain": [
       "<Figure size 432x288 with 1 Axes>"
      ]
     },
     "metadata": {},
     "output_type": "display_data"
    }
   ],
   "source": [
    "X = np.arange(-5.0, 5.0, 0.1)\n",
    "Y = sigmoid(X)\n",
    "\n",
    "#plt.figure(figsize = (15, 10)) # 그래프 사이즈 확대하고 싶을때 \n",
    "plt.plot(X, Y)\n",
    "plt.ylim(-0.1, 1.1)\n",
    "plt.show()"
   ]
  },
  {
   "cell_type": "markdown",
   "metadata": {},
   "source": [
    "#### Sigmoid vs. Step Function"
   ]
  },
  {
   "cell_type": "code",
   "execution_count": 24,
   "metadata": {},
   "outputs": [
    {
     "data": {
      "image/png": "[encoded data removed]",
      "text/plain": [
       "<Figure size 432x288 with 1 Axes>"
      ]
     },
     "metadata": {},
     "output_type": "display_data"
    }
   ],
   "source": [
    "X = np.arange(-5.0, 5.0, 0.1)\n",
    "Y_sig = sigmoid(X)\n",
    "Y_step = step_function(X)\n",
    "Y = np.vstack((Y_sig, Y_step))\n",
    "labels = [\"Sigmoid\", \"Step\"]\n",
    "#plt.figure(figsize = (15, 10))\n",
    "for index in range(len(Y)):\n",
    "    plt.plot(X, Y[index], label=labels[index])\n",
    "plt.xlabel(\"x\")\n",
    "plt.ylabel(\"y\")\n",
    "plt.ylim(-0.1, 1.1)\n",
    "plt.legend()\n",
    "plt.show()"
   ]
  },
  {
   "cell_type": "markdown",
   "metadata": {},
   "source": [
    "### 3. ReLU Function"
   ]
  },
  {
   "cell_type": "code",
   "execution_count": 25,
   "metadata": {},
   "outputs": [],
   "source": [
    "def relu(x):\n",
    "    return np.maximum(0, x)"
   ]
  },
  {
   "cell_type": "code",
   "execution_count": 26,
   "metadata": {
    "scrolled": true
   },
   "outputs": [
    {
     "data": {
      "image/png": "[encoded data removed]",
      "text/plain": [
       "<Figure size 432x288 with 1 Axes>"
      ]
     },
     "metadata": {},
     "output_type": "display_data"
    }
   ],
   "source": [
    "X = np.arange(-5.0, 5.0, 0.1)\n",
    "Y = relu(X)\n",
    "#plt.figure(figsize = (15, 10))\n",
    "plt.plot(X, Y)\n",
    "plt.ylim(-0.1, 4)\n",
    "plt.show()"
   ]
  },
  {
   "cell_type": "code",
   "execution_count": 27,
   "metadata": {},
   "outputs": [
    {
     "data": {
      "image/png": "[encoded data removed]",
      "text/plain": [
       "<Figure size 720x576 with 1 Axes>"
      ]
     },
     "metadata": {},
     "output_type": "display_data"
    }
   ],
   "source": [
    "def relu_func(x): # ReLU(Rectified Linear Unit) 함수\n",
    "    return (x>0)*x\n",
    "    \n",
    "x = np.arange(-5.0, 5.0, 0.1)\n",
    "\n",
    "#그래프 출력\n",
    "plt.figure(figsize = (10, 8))\n",
    "plt.plot(x, relu_func(x), linestyle='--', label=\"ReLU\")\n",
    " \n",
    "def leakyrelu_func(x): # Leaky ReLU 함수\n",
    "    return (x>=0)*x + (x<0)*0.01*x # 알파값(보통 0.01) 조정가능\n",
    "    \n",
    " #그래프 출력\n",
    "plt.plot(x, leakyrelu_func(x), linestyle='--', label=\"Leaky ReLU\")\n",
    " \n",
    "def elu_func(x): # ELU(Exponential linear unit)\n",
    "    return (x>=0)*x + (x<0)*0.01*(np.exp(x)-1)\n",
    " \n",
    "#그래프 출력\n",
    "plt.plot(x, elu_func(x), linestyle='--', label=\"ELU(Exponential linear unit)\")\n",
    "\n",
    "#그래프 fitting\n",
    "plt.xlim(-1.5, 0.5)\n",
    "plt.ylim(-0.020, 0.01)\n",
    "plt.legend()\n",
    "plt.show()"
   ]
  },
  {
   "cell_type": "markdown",
   "metadata": {},
   "source": [
    "## Caculate Multi-dimension Array"
   ]
  },
  {
   "cell_type": "markdown",
   "metadata": {},
   "source": [
    "### Multi Dimension Array"
   ]
  },
  {
   "cell_type": "code",
   "execution_count": 28,
   "metadata": {},
   "outputs": [
    {
     "name": "stdout",
     "output_type": "stream",
     "text": [
      "A = [1 2 3 4]\n",
      "A.ndim = 1\n",
      "A.shape = (4,)\n"
     ]
    }
   ],
   "source": [
    "A = np.array([1, 2, 3, 4])\n",
    "print(\"A =\", A)\n",
    "print(\"A.ndim =\",np.ndim(A)) #차원수\n",
    "print(\"A.shape =\", A.shape) #형상"
   ]
  },
  {
   "cell_type": "code",
   "execution_count": 29,
   "metadata": {},
   "outputs": [
    {
     "name": "stdout",
     "output_type": "stream",
     "text": [
      "B = [[1 2]\n",
      " [3 4]\n",
      " [5 6]]\n",
      "B.ndim =  2\n",
      "B.shape = (3, 2)\n"
     ]
    }
   ],
   "source": [
    "B = np.array([[1,2], [3,4], [5,6]])\n",
    "print(\"B =\", B)\n",
    "print(\"B.ndim = \", np.ndim(B))\n",
    "print(\"B.shape =\", B.shape)"
   ]
  },
  {
   "cell_type": "markdown",
   "metadata": {},
   "source": [
    "### Inner Product of Matrix"
   ]
  },
  {
   "cell_type": "code",
   "execution_count": 30,
   "metadata": {},
   "outputs": [
    {
     "name": "stdout",
     "output_type": "stream",
     "text": [
      "A.shape = (2, 2)\n",
      "B.shape = (2, 2)\n"
     ]
    }
   ],
   "source": [
    "A = np.array([[1, 2], [3, 4]])\n",
    "B = np.array([[5, 6], [7, 8]])\n",
    "print(\"A.shape =\", A.shape)\n",
    "print(\"B.shape =\", B.shape)"
   ]
  },
  {
   "cell_type": "code",
   "execution_count": 31,
   "metadata": {},
   "outputs": [
    {
     "name": "stdout",
     "output_type": "stream",
     "text": [
      "A·B = [[19 22]\n",
      " [43 50]]\n",
      "result.shape = (2, 2)\n"
     ]
    }
   ],
   "source": [
    "result = np.dot(A, B)\n",
    "print(\"A·B =\",result)\n",
    "print(\"result.shape =\", result.shape)"
   ]
  },
  {
   "cell_type": "code",
   "execution_count": 32,
   "metadata": {},
   "outputs": [
    {
     "name": "stdout",
     "output_type": "stream",
     "text": [
      "A.shape = (2, 3)\n",
      "B.shape = (3, 2)\n"
     ]
    }
   ],
   "source": [
    "A = np.array([[1, 2, 3], [4, 5, 6]])\n",
    "B = np.array([[1, 2], [3, 4], [5, 6]])\n",
    "print(\"A.shape =\", A.shape)\n",
    "print(\"B.shape =\", B.shape)"
   ]
  },
  {
   "cell_type": "code",
   "execution_count": 33,
   "metadata": {},
   "outputs": [
    {
     "name": "stdout",
     "output_type": "stream",
     "text": [
      "A·B = [[22 28]\n",
      " [49 64]]\n",
      "result.shape = (2, 2)\n"
     ]
    }
   ],
   "source": [
    "result = np.dot(A, B)\n",
    "print(\"A·B =\",result)\n",
    "print(\"result.shape =\", result.shape)"
   ]
  },
  {
   "cell_type": "code",
   "execution_count": 34,
   "metadata": {},
   "outputs": [
    {
     "name": "stdout",
     "output_type": "stream",
     "text": [
      "C.shape = (2, 2)\n"
     ]
    },
    {
     "ename": "ValueError",
     "evalue": "shapes (2,3) and (2,2) not aligned: 3 (dim 1) != 2 (dim 0)",
     "output_type": "error",
     "traceback": [
      "\u001b[1;31m---------------------------------------------------------------------------\u001b[0m",
      "\u001b[1;31mValueError\u001b[0m                                Traceback (most recent call last)",
      "\u001b[1;32m<ipython-input-34-d0e86aa025e2>\u001b[0m in \u001b[0;36m<module>\u001b[1;34m()\u001b[0m\n\u001b[0;32m      1\u001b[0m \u001b[0mC\u001b[0m \u001b[1;33m=\u001b[0m \u001b[0mnp\u001b[0m\u001b[1;33m.\u001b[0m\u001b[0marray\u001b[0m\u001b[1;33m(\u001b[0m\u001b[1;33m[\u001b[0m\u001b[1;33m[\u001b[0m\u001b[1;36m1\u001b[0m\u001b[1;33m,\u001b[0m \u001b[1;36m2\u001b[0m\u001b[1;33m]\u001b[0m\u001b[1;33m,\u001b[0m \u001b[1;33m[\u001b[0m\u001b[1;36m3\u001b[0m\u001b[1;33m,\u001b[0m \u001b[1;36m4\u001b[0m\u001b[1;33m]\u001b[0m\u001b[1;33m]\u001b[0m\u001b[1;33m)\u001b[0m\u001b[1;33m\u001b[0m\u001b[0m\n\u001b[0;32m      2\u001b[0m \u001b[0mprint\u001b[0m\u001b[1;33m(\u001b[0m\u001b[1;34m\"C.shape =\"\u001b[0m\u001b[1;33m,\u001b[0m \u001b[0mC\u001b[0m\u001b[1;33m.\u001b[0m\u001b[0mshape\u001b[0m\u001b[1;33m)\u001b[0m\u001b[1;33m\u001b[0m\u001b[0m\n\u001b[1;32m----> 3\u001b[1;33m \u001b[0mprint\u001b[0m\u001b[1;33m(\u001b[0m\u001b[1;34m\"A·C =\"\u001b[0m\u001b[1;33m,\u001b[0m \u001b[0mnp\u001b[0m\u001b[1;33m.\u001b[0m\u001b[0mdot\u001b[0m\u001b[1;33m(\u001b[0m\u001b[0mA\u001b[0m\u001b[1;33m,\u001b[0m \u001b[0mC\u001b[0m\u001b[1;33m)\u001b[0m\u001b[1;33m)\u001b[0m\u001b[1;33m\u001b[0m\u001b[0m\n\u001b[0m",
      "\u001b[1;31mValueError\u001b[0m: shapes (2,3) and (2,2) not aligned: 3 (dim 1) != 2 (dim 0)"
     ]
    }
   ],
   "source": [
    "C = np.array([[1, 2], [3, 4]])\n",
    "print(\"C.shape =\", C.shape)\n",
    "print(\"A·C =\", np.dot(A, C))"
   ]
  },
  {
   "cell_type": "markdown",
   "metadata": {},
   "source": [
    "matrix의 차원이 다르면 내적 불가능"
   ]
  },
  {
   "cell_type": "code",
   "execution_count": 35,
   "metadata": {},
   "outputs": [
    {
     "name": "stdout",
     "output_type": "stream",
     "text": [
      "A.shape = (3, 2)\n",
      "B.shape = (2,)\n",
      "A·B =  [23 53 83]\n"
     ]
    }
   ],
   "source": [
    "A = np.array([[1, 2], [3, 4], [5, 6]])\n",
    "print(\"A.shape =\", A.shape)\n",
    "B = np.array([7, 8])\n",
    "print(\"B.shape =\", B.shape)\n",
    "print(\"A·B = \", np.dot(A, B))"
   ]
  },
  {
   "cell_type": "markdown",
   "metadata": {},
   "source": [
    "### Inner Product of Neural Network"
   ]
  },
  {
   "cell_type": "code",
   "execution_count": 38,
   "metadata": {},
   "outputs": [
    {
     "name": "stdout",
     "output_type": "stream",
     "text": [
      "shape of input = (2,)\n",
      "weight = [[1 3 5]\n",
      " [2 4 6]]\n",
      "shape of weight = (2, 3)\n",
      "y = [ 5 11 17]\n"
     ]
    }
   ],
   "source": [
    "x = np.array([1, 2])\n",
    "print(\"shape of input =\", x.shape)\n",
    "weight = np.array([[1, 3, 5], [2, 4, 6]])\n",
    "print(\"weight =\", weight)\n",
    "print(\"shape of weight =\", weight.shape)\n",
    "y = np.dot(x, weight)\n",
    "print(\"y =\", y)"
   ]
  },
  {
   "cell_type": "markdown",
   "metadata": {},
   "source": [
    "## 3 Layers Neural Network"
   ]
  },
  {
   "cell_type": "markdown",
   "metadata": {},
   "source": [
    "### Tranfer Signal of Each Layers"
   ]
  },
  {
   "cell_type": "code",
   "execution_count": 39,
   "metadata": {},
   "outputs": [
    {
     "name": "stdout",
     "output_type": "stream",
     "text": [
      "shape of input = (2,)\n",
      "shape of weight1 = (2, 3)\n",
      "shape of bias1 = (3,)\n"
     ]
    }
   ],
   "source": [
    "#X, weight, bias 값은 임의 설정\n",
    "x = np.array([1.0, 0.5]) # 1X2\n",
    "weight1 = np.array([[0.1, 0.3, 0.5], [0.2, 0.4, 0.6]]) # 2X3\n",
    "bias1 = np.array([0.1, 0.2, 0.3]) # 1X3\n",
    "print(\"shape of input =\", x.shape)\n",
    "print(\"shape of weight1 =\", weight1.shape)\n",
    "print(\"shape of bias1 =\", bias1.shape)"
   ]
  },
  {
   "cell_type": "code",
   "execution_count": 42,
   "metadata": {},
   "outputs": [
    {
     "name": "stdout",
     "output_type": "stream",
     "text": [
      "result of inner1 = [0.3 0.7 1.1]\n",
      "result of sigmoid1 = [0.57444252 0.66818777 0.75026011]\n"
     ]
    }
   ],
   "source": [
    "result_of_inner1 = np.dot(x, weight1) + bias1 # 행렬 연산\n",
    "print(\"result of inner1 =\", result_of_inner1)\n",
    "result_of_sigmoid1 = sigmoid(result_of_inner1) # 활성화 함수\n",
    "print(\"result of sigmoid1 =\", result_of_sigmoid1)"
   ]
  },
  {
   "cell_type": "code",
   "execution_count": 43,
   "metadata": {},
   "outputs": [
    {
     "name": "stdout",
     "output_type": "stream",
     "text": [
      "shape of sigmoid1 = (3,)\n",
      "shape of weight2 = (3, 2)\n",
      "shape of bias2 = (2,)\n",
      "[[0.1 0.4]\n",
      " [0.2 0.5]\n",
      " [0.3 0.6]]\n"
     ]
    }
   ],
   "source": [
    "weight2 = np.array([[0.1, 0.4], [0.2, 0.5], [0.3, 0.6]])\n",
    "bias2 = np.array([0.1, 0.2])\n",
    "print(\"shape of sigmoid1 =\", result_of_sigmoid1.shape)\n",
    "print(\"shape of weight2 =\", weight2.shape)\n",
    "print(\"shape of bias2 =\", bias2.shape)\n",
    "print(weight2)"
   ]
  },
  {
   "cell_type": "code",
   "execution_count": 44,
   "metadata": {},
   "outputs": [
    {
     "name": "stdout",
     "output_type": "stream",
     "text": [
      "result of inner1 = [0.51615984 1.21402696]\n",
      "result of sigmoid1 = [0.62624937 0.7710107 ]\n"
     ]
    }
   ],
   "source": [
    "result_of_inner2 = np.dot(result_of_sigmoid1, weight2) + bias2\n",
    "result_of_sigmoid2 = sigmoid(result_of_inner2)\n",
    "print(\"result of inner1 =\", result_of_inner2)\n",
    "print(\"result of sigmoid1 =\", result_of_sigmoid2)"
   ]
  },
  {
   "cell_type": "code",
   "execution_count": 45,
   "metadata": {},
   "outputs": [],
   "source": [
    "# part of activation function\n",
    "# 출력층의 활성화 함수로 항등 함수 사용\n",
    "# 입력을 그대로 출력하도록 하는 함수 \n",
    "def identity_function(x):\n",
    "    return x"
   ]
  },
  {
   "cell_type": "code",
   "execution_count": 46,
   "metadata": {},
   "outputs": [
    {
     "name": "stdout",
     "output_type": "stream",
     "text": [
      "shape of sigmoid2 = (2,)\n",
      "shape of weight3 = (2, 2)\n",
      "shape of bias3 = (2,)\n"
     ]
    }
   ],
   "source": [
    "weight3 = np.array([[0.1, 0.3], [0.2, 0.4]])\n",
    "bias3 = np.array([0.1, 0.2])\n",
    "print(\"shape of sigmoid2 =\", result_of_sigmoid2.shape)\n",
    "print(\"shape of weight3 =\", weight3.shape)\n",
    "print(\"shape of bias3 =\", bias3.shape)"
   ]
  },
  {
   "cell_type": "code",
   "execution_count": 47,
   "metadata": {},
   "outputs": [
    {
     "name": "stdout",
     "output_type": "stream",
     "text": [
      "output = [0.31682708 0.69627909]\n"
     ]
    }
   ],
   "source": [
    "result_of_inner3 = np.dot(result_of_sigmoid2, weight3) + bias3\n",
    "output = identity_function(result_of_inner3)\n",
    "print(\"output =\", output)"
   ]
  },
  {
   "cell_type": "markdown",
   "metadata": {},
   "source": [
    "### Summary of Tranfering Signal of Each Layers"
   ]
  },
  {
   "cell_type": "code",
   "execution_count": 49,
   "metadata": {},
   "outputs": [],
   "source": [
    "#가중치와 bias 초기화 후 딕셔너리 변수 network에 저장\n",
    "def init_network():\n",
    "    network = {}\n",
    "    network[\"weight1\"] = np.array([[0.1, 0.3, 0.5], [0.2, 0.4, 0.6]])\n",
    "    network[\"bias1\"] = np.array([0.1, 0.2, 0.3])\n",
    "    network[\"weight2\"] = np.array([[0.1, 0.4], [0.2, 0.5], [0.3, 0.6]])\n",
    "    network[\"bias2\"] = np.array([0.1, 0.2])\n",
    "    network[\"weight3\"] = np.array([[0.1, 0.3], [0.2, 0.4]])\n",
    "    network[\"bias3\"] = np.array([0.1, 0.2])\n",
    "    \n",
    "    return network"
   ]
  },
  {
   "cell_type": "code",
   "execution_count": 50,
   "metadata": {},
   "outputs": [],
   "source": [
    "# 입력 신호를 출력으로 변환\n",
    "def forward(network, x):\n",
    "    weight1, weight2, weight3 = network[\"weight1\"], network[\"weight2\"], network[\"weight3\"]\n",
    "    bias1, bias2, bias3 = network[\"bias1\"], network[\"bias2\"], network[\"bias3\"]\n",
    "    \n",
    "    result_of_inner1 = np.dot(x, weight1) + bias1\n",
    "    output1 = sigmoid(result_of_inner1)\n",
    "    result_of_inner2 = np.dot(output1, weight2) + bias2\n",
    "    output2 = sigmoid(result_of_inner2)\n",
    "    result_of_inner3 = np.dot(output2, weight3) + bias3\n",
    "    y = identity_function(result_of_inner3)\n",
    "    \n",
    "    return y"
   ]
  },
  {
   "cell_type": "code",
   "execution_count": 51,
   "metadata": {},
   "outputs": [
    {
     "name": "stdout",
     "output_type": "stream",
     "text": [
      "[0.31682708 0.69627909]\n"
     ]
    }
   ],
   "source": [
    "network = init_network()\n",
    "x = np.array([1.0, 0.5])\n",
    "y = forward(network, x)\n",
    "print(y)"
   ]
  },
  {
   "cell_type": "markdown",
   "metadata": {},
   "source": [
    "## Design of Output Layers"
   ]
  },
  {
   "cell_type": "markdown",
   "metadata": {},
   "source": [
    "### Identy Function & Softmax Function"
   ]
  },
  {
   "cell_type": "markdown",
   "metadata": {},
   "source": [
    "#### Process of Softmax Function"
   ]
  },
  {
   "cell_type": "code",
   "execution_count": 52,
   "metadata": {},
   "outputs": [
    {
     "name": "stdout",
     "output_type": "stream",
     "text": [
      "[ 1.34985881 18.17414537 54.59815003]\n"
     ]
    }
   ],
   "source": [
    "matrix = np.array([0.3, 2.9, 4.0])\n",
    "exponential_matrix = np.exp(matrix) # 지수함수\n",
    "print(exponential_matrix)"
   ]
  },
  {
   "cell_type": "code",
   "execution_count": 53,
   "metadata": {},
   "outputs": [
    {
     "name": "stdout",
     "output_type": "stream",
     "text": [
      "74.1221542101633\n"
     ]
    }
   ],
   "source": [
    "sum_of_exponential_matrix = np.sum(exponential_matrix) # 지수함수의 합\n",
    "print(sum_of_exponential_matrix)"
   ]
  },
  {
   "cell_type": "code",
   "execution_count": 54,
   "metadata": {},
   "outputs": [
    {
     "name": "stdout",
     "output_type": "stream",
     "text": [
      "[0.01821127 0.24519181 0.73659691]\n"
     ]
    }
   ],
   "source": [
    "y = exponential_matrix / sum_of_exponential_matrix\n",
    "print(y)"
   ]
  },
  {
   "cell_type": "markdown",
   "metadata": {},
   "source": [
    "#### Softmax Function"
   ]
  },
  {
   "cell_type": "code",
   "execution_count": 55,
   "metadata": {},
   "outputs": [],
   "source": [
    "def softmax(matrix):\n",
    "    exponential_matrix = np.exp(matrix)\n",
    "    sum_of_exponential_matrix = np.sum(exponential_matrix)\n",
    "    y = exponential_matrix / sum_of_exponential_matrix"
   ]
  },
  {
   "cell_type": "markdown",
   "metadata": {},
   "source": [
    "### Precautions of Softmax Function"
   ]
  },
  {
   "cell_type": "code",
   "execution_count": 56,
   "metadata": {},
   "outputs": [
    {
     "name": "stdout",
     "output_type": "stream",
     "text": [
      "[nan nan nan]\n"
     ]
    },
    {
     "name": "stderr",
     "output_type": "stream",
     "text": [
      "C:\\Users\\p\\Anaconda3\\lib\\site-packages\\ipykernel_launcher.py:2: RuntimeWarning: overflow encountered in exp\n",
      "  \n",
      "C:\\Users\\p\\Anaconda3\\lib\\site-packages\\ipykernel_launcher.py:2: RuntimeWarning: invalid value encountered in true_divide\n",
      "  \n"
     ]
    }
   ],
   "source": [
    "matrix = np.array([1010, 1000, 900])\n",
    "result_of_softmax = np.exp(matrix) / np.sum(np.exp(matrix)) #softmax 함수 계산\n",
    "print(result_of_softmax) #nan 으로 계산이 안됨"
   ]
  },
  {
   "cell_type": "markdown",
   "metadata": {},
   "source": [
    " 지수함수에 큰값이 들어가서 overflow가 발생, 제대로 softmax가 계산되지 않는다."
   ]
  },
  {
   "cell_type": "code",
   "execution_count": 57,
   "metadata": {},
   "outputs": [
    {
     "name": "stdout",
     "output_type": "stream",
     "text": [
      "1010\n",
      "[   0  -10 -110]\n"
     ]
    }
   ],
   "source": [
    "maximum_of_matrix = np.max(matrix)\n",
    "print(maximum_of_matrix)\n",
    "difference_from_maximum = matrix - maximum_of_matrix # matrix의 최대 값을 빼주면 올바르게 작동\n",
    "print(difference_from_maximum)"
   ]
  },
  {
   "cell_type": "code",
   "execution_count": 58,
   "metadata": {},
   "outputs": [
    {
     "name": "stdout",
     "output_type": "stream",
     "text": [
      "[9.99954602e-01 4.53978687e-05 1.68883521e-48]\n"
     ]
    }
   ],
   "source": [
    "result_of_softmax = np.exp(difference_from_maximum) / np.sum(np.exp(difference_from_maximum))\n",
    "print(result_of_softmax)"
   ]
  },
  {
   "cell_type": "markdown",
   "metadata": {},
   "source": [
    "#### Softmax Function reversion"
   ]
  },
  {
   "cell_type": "code",
   "execution_count": 59,
   "metadata": {},
   "outputs": [],
   "source": [
    "def softmax(matrix):\n",
    "    maximum_of_matrix = np.max(matrix) #오버플로우 방지용, 입력 값의 가장 큰 수 찾기\n",
    "    difference_from_maximum = matrix - maximum_of_matrix #입력값에 가장 큰 수로 빼주기 \n",
    "    exponential_of_difference = np.exp(difference_from_maximum)\n",
    "    sum_of_exponential = np.sum(exponential_of_difference)\n",
    "    y = exponential_of_difference / sum_of_exponential\n",
    "    \n",
    "    return y"
   ]
  },
  {
   "cell_type": "markdown",
   "metadata": {},
   "source": [
    "### feature of softmax function"
   ]
  },
  {
   "cell_type": "code",
   "execution_count": 60,
   "metadata": {},
   "outputs": [
    {
     "name": "stdout",
     "output_type": "stream",
     "text": [
      "y = [0.01821127 0.24519181 0.73659691]\n",
      "sum of y = 1.0\n"
     ]
    }
   ],
   "source": [
    "matrix = np.array([0.3, 2.9, 4.0])\n",
    "y = softmax(matrix)\n",
    "print(\"y =\", y)\n",
    "print(\"sum of y =\", np.sum(y))"
   ]
  },
  {
   "cell_type": "markdown",
   "metadata": {},
   "source": [
    "## Recognition of Handwriting Numbers"
   ]
  },
  {
   "cell_type": "markdown",
   "metadata": {},
   "source": [
    "### MNIST Dataset"
   ]
  },
  {
   "cell_type": "code",
   "execution_count": 61,
   "metadata": {},
   "outputs": [],
   "source": [
    "import sys, os\n",
    "sys.path.append(\"./dataset\")\n",
    "import numpy as np\n",
    "import pickle\n",
    "from mnist import load_mnist\n",
    "import matplotlib.pylab as plt"
   ]
  },
  {
   "cell_type": "code",
   "execution_count": 62,
   "metadata": {},
   "outputs": [],
   "source": [
    "# load_mnist() : MNIST 데이터를 (train 이미지, train레이블), (test 이미지, test레이블) 로 반환\n",
    "# load_mnist()의 3가지 인수\n",
    "#1. normalize = False: 입력 이미지의 픽셀을 0.0 ~1.0사이의 값으로 정규화 할지 여부, False의 경우 0 ~ 255 값\n",
    "#2. flatten = True: 입력 이미지를 어떻게 가져올 것인지, True의 경우 1차원 배열, False의 경우 1X28X28의 3차원 배열\n",
    "#3. One_hot_label: 원-핫 인코딩 형태로 저장 여부\n",
    "(train_image_data, train_label_data), (test_image_data, test_label_data) = load_mnist(flatten = True, normalize = False)"
   ]
  },
  {
   "cell_type": "code",
   "execution_count": 63,
   "metadata": {},
   "outputs": [
    {
     "name": "stdout",
     "output_type": "stream",
     "text": [
      "(60000, 784)\n",
      "(60000,)\n",
      "(10000, 784)\n",
      "(10000,)\n"
     ]
    }
   ],
   "source": [
    "print(train_image_data.shape)\n",
    "print(train_label_data.shape)\n",
    "print(test_image_data.shape)\n",
    "print(test_label_data.shape)"
   ]
  },
  {
   "cell_type": "code",
   "execution_count": 64,
   "metadata": {},
   "outputs": [
    {
     "data": {
      "text/plain": [
       "(784,)"
      ]
     },
     "execution_count": 64,
     "metadata": {},
     "output_type": "execute_result"
    }
   ],
   "source": [
    "image = train_image_data[0]\n",
    "image.shape"
   ]
  },
  {
   "cell_type": "code",
   "execution_count": 65,
   "metadata": {},
   "outputs": [
    {
     "data": {
      "text/plain": [
       "(28, 28)"
      ]
     },
     "execution_count": 65,
     "metadata": {},
     "output_type": "execute_result"
    }
   ],
   "source": [
    "#load_mnist()함수에서 flatten = True로 불러왔으므로 현재 1차원 배열로 저장되어 있음\n",
    "# 이를 원래 이미지로 복원하여 원래 이미지 확인\n",
    "image_reshaped = image.reshape(28,28)  \n",
    "image_reshaped.shape"
   ]
  },
  {
   "cell_type": "code",
   "execution_count": 66,
   "metadata": {},
   "outputs": [
    {
     "data": {
      "text/plain": [
       "<function matplotlib.pyplot.show(*args, **kw)>"
      ]
     },
     "execution_count": 66,
     "metadata": {},
     "output_type": "execute_result"
    },
    {
     "data": {
      "image/png": "[encoded data removed]",
      "text/plain": [
       "<Figure size 288x288 with 1 Axes>"
      ]
     },
     "metadata": {},
     "output_type": "display_data"
    }
   ],
   "source": [
    "label = train_label_data[0]\n",
    "plt.figure(figsize = (4, 4))\n",
    "plt.title(\"sample of \" + str(label))\n",
    "plt.imshow(image_reshaped, cmap = \"gray\")\n",
    "plt.show"
   ]
  },
  {
   "cell_type": "markdown",
   "metadata": {},
   "source": [
    "### Design Neural Network"
   ]
  },
  {
   "cell_type": "code",
   "execution_count": 67,
   "metadata": {},
   "outputs": [],
   "source": [
    "def get_data():\n",
    "    (image_train, label_train), (image_test, label_test) = load_mnist(normalize=True, flatten=True, one_hot_label=False)\n",
    "    return image_test, label_test\n",
    "\n",
    "#학습된 가중치와, bias가 딕셔너리 변수로 저장되어 있음, 학습은 다음시간에!\n",
    "def init_network():\n",
    "    with open(\"sample_weight.pkl\", 'rb') as f:\n",
    "        network = pickle.load(f)\n",
    "    return network\n",
    "\n",
    "# Hidden layer 2개 \n",
    "def predict(network, x):\n",
    "    W1, W2, W3 = network['W1'], network['W2'], network['W3']\n",
    "    b1, b2, b3 = network['b1'], network['b2'], network['b3']\n",
    "\n",
    "    a1 = np.dot(x, W1) + b1\n",
    "    z1 = sigmoid(a1)\n",
    "    a2 = np.dot(z1, W2) + b2\n",
    "    z2 = sigmoid(a2)\n",
    "    a3 = np.dot(z2, W3) + b3\n",
    "    y = softmax(a3)\n",
    "\n",
    "    return y"
   ]
  },
  {
   "cell_type": "code",
   "execution_count": 75,
   "metadata": {},
   "outputs": [
    {
     "data": {
      "text/plain": [
       "array([7, 2, 1, ..., 4, 5, 6], dtype=uint8)"
      ]
     },
     "execution_count": 75,
     "metadata": {},
     "output_type": "execute_result"
    }
   ],
   "source": [
    "labels"
   ]
  },
  {
   "cell_type": "code",
   "execution_count": 82,
   "metadata": {},
   "outputs": [
    {
     "name": "stdout",
     "output_type": "stream",
     "text": [
      "Accuracy:0.9352\n"
     ]
    }
   ],
   "source": [
    "images, labels = get_data()\n",
    "network = init_network()\n",
    "\n",
    "accuracy_cnt = 0\n",
    "# x에 저장된 이미지 데이터를 1장씩 꺼내어 Predict()함수를 통해 분류\n",
    "for i in range(len(images)): #predict() 함수는 각 레이블의 값을 넘파이 배열로 반환\n",
    "    y = predict(network, images[i]) \n",
    "    p = np.argmax(y) # 레이블 값 중 가장 큰 원소의 인덱스 구함 \n",
    "    if p == labels[i]:\n",
    "        accuracy_cnt += 1 #예측 답변과 정답 레이블 비교하여 맞은 숫자 카운트\n",
    "\n",
    "    #맞은 숫자를 전체 이미지 숫자로 나누어 정확도 구함 \n",
    "print(\"Accuracy:\" + str(float(accuracy_cnt) / len(images))) "
   ]
  },
  {
   "cell_type": "markdown",
   "metadata": {},
   "source": [
    "### Neural Network with Batch"
   ]
  },
  {
   "cell_type": "code",
   "execution_count": 86,
   "metadata": {},
   "outputs": [],
   "source": [
    "images, labels = get_data()\n",
    "network = init_network()"
   ]
  },
  {
   "cell_type": "code",
   "execution_count": 87,
   "metadata": {},
   "outputs": [
    {
     "name": "stdout",
     "output_type": "stream",
     "text": [
      "shape of images = (10000, 784)\n",
      "shape of weight1 = (784, 50)\n",
      "shape of weight2 = (50, 100)\n",
      "shape of weight3 = (100, 10)\n"
     ]
    }
   ],
   "source": [
    "print(\"shape of images =\", images.shape)\n",
    "print(\"shape of weight1 =\", network[\"W1\"].shape)\n",
    "print(\"shape of weight2 =\", network[\"W2\"].shape)\n",
    "print(\"shape of weight3 =\", network[\"W3\"].shape)"
   ]
  },
  {
   "cell_type": "code",
   "execution_count": 88,
   "metadata": {},
   "outputs": [
    {
     "name": "stdout",
     "output_type": "stream",
     "text": [
      "Accuracy:0.9352\n"
     ]
    }
   ],
   "source": [
    "batch_size = 100 #배치 크기\n",
    "accuracy_cnt = 0\n",
    "\n",
    "#0부터 len(image)-1까지 배치 사이즈(100) 간격으로 증가하는 리스트 반환\n",
    "for i in range(0, len(images), batch_size): \n",
    "#입력 데이터의 i 번째부터 i+batch_n 까지의 데이터를 묶는다.\n",
    "#현재 배치 사이즈가 100 이므로 images[0:100], images[100:200]식으로 앞에서 부터 100장씩 묶어 꺼냄   \n",
    "    x_batch = images[i:i+batch_size] \n",
    "    y_batch = predict(network, x_batch)\n",
    "    p = np.argmax(y_batch, axis=1) # 최댓값의 인덱스틑 찾도록 함 \n",
    "    accuracy_cnt += np.sum(p == labels[i:i+batch_size])\n",
    "\n",
    "print(\"Accuracy:\" + str(float(accuracy_cnt) / len(images)))"
   ]
  },
  {
   "cell_type": "code",
   "execution_count": 89,
   "metadata": {},
   "outputs": [
    {
     "name": "stdout",
     "output_type": "stream",
     "text": [
      "[0, 1, 2, 3, 4, 5, 6, 7, 8, 9]\n",
      "[0, 3, 6, 9]\n"
     ]
    }
   ],
   "source": [
    "print(list(range(0, 10))) #0에서 9까지 리스트 반환\n",
    "print(list(range(0, 10, 3))) #0에서 9까지 리스트 중 3step 간격으로 반환"
   ]
  },
  {
   "cell_type": "code",
   "execution_count": 90,
   "metadata": {},
   "outputs": [
    {
     "name": "stdout",
     "output_type": "stream",
     "text": [
      "[1 2 1 0]\n"
     ]
    }
   ],
   "source": [
    "x = np.array([[0.1, 0.8, 0.1], [0.3, 0.1, 0.6], [0.2, 0.5, 0.3], [0.8, 0.1, 0.1]])\n",
    "y = np.argmax(x, axis = 1)\n",
    "print(y)"
   ]
  },
  {
   "cell_type": "code",
   "execution_count": null,
   "metadata": {},
   "outputs": [],
   "source": []
  },
  {
   "cell_type": "code",
   "execution_count": 91,
   "metadata": {},
   "outputs": [
    {
     "name": "stdout",
     "output_type": "stream",
     "text": [
      "[ True  True False  True]\n",
      "3\n"
     ]
    }
   ],
   "source": [
    "true = np.array([1, 2, 0, 0])\n",
    "print(y == true)\n",
    "print(np.sum(y == true))"
   ]
  },
  {
   "cell_type": "code",
   "execution_count": null,
   "metadata": {},
   "outputs": [],
   "source": []
  }
 ],
 "metadata": {
  "kernelspec": {
   "display_name": "Python 3",
   "language": "python",
   "name": "python3"
  },
  "language_info": {
   "codemirror_mode": {
    "name": "ipython",
    "version": 3
   },
   "file_extension": ".py",
   "mimetype": "text/x-python",
   "name": "python",
   "nbconvert_exporter": "python",
   "pygments_lexer": "ipython3",
   "version": "3.7.1"
  }
 },
 "nbformat": 4,
 "nbformat_minor": 2
}
