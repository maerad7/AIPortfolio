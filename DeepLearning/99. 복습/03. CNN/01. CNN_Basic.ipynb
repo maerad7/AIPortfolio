{
 "cells": [
  {
   "cell_type": "markdown",
   "metadata": {},
   "source": [
    "# CNN 기초\n",
    "이 곳에 작성된 소스코드들은 https://github.com/hunkim/DeepLearningZeroToAll 를 기반으로 작성되었습니다"
   ]
  },
  {
   "cell_type": "code",
   "execution_count": 1,
   "metadata": {},
   "outputs": [],
   "source": [
    "import numpy as np\n",
    "import tensorflow as tf\n",
    "import matplotlib.pyplot as plt"
   ]
  },
  {
   "cell_type": "markdown",
   "metadata": {},
   "source": [
    "### p.42 이미지 보여주기"
   ]
  },
  {
   "cell_type": "code",
   "execution_count": 2,
   "metadata": {
    "scrolled": true
   },
   "outputs": [
    {
     "name": "stdout",
     "output_type": "stream",
     "text": [
      "(1, 3, 3, 1)\n"
     ]
    },
    {
     "data": {
      "image/png": "[encoded data removed]",
      "text/plain": [
       "<Figure size 432x288 with 1 Axes>"
      ]
     },
     "metadata": {
      "needs_background": "light"
     },
     "output_type": "display_data"
    }
   ],
   "source": [
    "sess = tf.InteractiveSession()\n",
    "image = np.array([[[[1], [2], [3]],\n",
    "                   [[4], [5], [6]],\n",
    "                   [[7], [8], [9]]]], dtype = np.float32)\n",
    "print(image.shape)\n",
    "plt.imshow(image.reshape(3,3), cmap='Greys')\n",
    "sess.close()"
   ]
  },
  {
   "cell_type": "markdown",
   "metadata": {},
   "source": [
    "### p.47 Convolution Layer"
   ]
  },
  {
   "cell_type": "code",
   "execution_count": 3,
   "metadata": {},
   "outputs": [
    {
     "name": "stdout",
     "output_type": "stream",
     "text": [
      "image.shape (1, 3, 3, 1)\n",
      "filter.shape (2, 2, 1, 1)\n",
      "conv2d_img.shape (1, 2, 2, 1)\n",
      "[[12. 16.]\n",
      " [24. 28.]]\n"
     ]
    },
    {
     "data": {
      "image/png": "[encoded data removed]",
      "text/plain": [
       "<Figure size 432x288 with 1 Axes>"
      ]
     },
     "metadata": {
      "needs_background": "light"
     },
     "output_type": "display_data"
    }
   ],
   "source": [
    "sess = tf.InteractiveSession()\n",
    "\n",
    "print(\"image.shape\", image.shape)\n",
    "w_filter = tf.constant([[[[1.]],[[1.]]],\n",
    "                      [[[1.]],[[1.]]]])\n",
    "print(\"filter.shape\", w_filter.shape)\n",
    "conv2d = tf.nn.conv2d(input=image, filter=w_filter, strides=[1, 1, 1, 1], padding='VALID')\n",
    "conv2d_img = conv2d.eval()\n",
    "print(\"conv2d_img.shape\", conv2d_img.shape)\n",
    "print(conv2d_img.reshape(2,2))\n",
    "plt.imshow(conv2d_img.reshape(2,2), cmap='Greys')\n",
    "\n",
    "sess.close()"
   ]
  },
  {
   "cell_type": "markdown",
   "metadata": {},
   "source": [
    "### p.49 Reshape"
   ]
  },
  {
   "cell_type": "code",
   "execution_count": 4,
   "metadata": {},
   "outputs": [
    {
     "name": "stdout",
     "output_type": "stream",
     "text": [
      "conv2d_img.shape (1, 2, 2, 1)\n",
      "[[12. 16.]\n",
      " [24. 28.]]\n"
     ]
    },
    {
     "data": {
      "image/png": "[encoded data removed]",
      "text/plain": [
       "<Figure size 432x288 with 1 Axes>"
      ]
     },
     "metadata": {
      "needs_background": "light"
     },
     "output_type": "display_data"
    }
   ],
   "source": [
    "sess = tf.InteractiveSession()\n",
    "\n",
    "image = np.arange(1, 10, dtype=np.float32).reshape(1, 3, 3, 1)\n",
    "w_filter = tf.constant(np.ones(4, dtype=np.float32).reshape(2, 2, 1, 1))\n",
    "conv2d = tf.nn.conv2d(input=image, filter=w_filter, strides=[1, 1, 1, 1], padding='VALID')\n",
    "conv2d_img = conv2d.eval()\n",
    "print(\"conv2d_img.shape\", conv2d_img.shape)\n",
    "print(conv2d_img.reshape(2,2))\n",
    "plt.imshow(conv2d_img.reshape(2,2), cmap='Greys')\n",
    "\n",
    "sess.close()"
   ]
  },
  {
   "cell_type": "markdown",
   "metadata": {},
   "source": [
    "### p.56 Padding='VALID'"
   ]
  },
  {
   "cell_type": "code",
   "execution_count": 5,
   "metadata": {},
   "outputs": [
    {
     "name": "stdout",
     "output_type": "stream",
     "text": [
      "conv2d_img.shape (1, 3, 3, 1)\n",
      "[[162. 198. 234.]\n",
      " [414. 450. 486.]\n",
      " [666. 702. 738.]]\n"
     ]
    },
    {
     "data": {
      "image/png": "[encoded data removed]",
      "text/plain": [
       "<Figure size 432x288 with 1 Axes>"
      ]
     },
     "metadata": {
      "needs_background": "light"
     },
     "output_type": "display_data"
    }
   ],
   "source": [
    "sess = tf.InteractiveSession()\n",
    "\n",
    "image = np.arange(1, 50, dtype=np.float32).reshape(1, 7, 7, 1)\n",
    "w_filter = tf.constant(np.full((3,3),2, dtype=np.float32).reshape(3, 3, 1, 1))\n",
    "conv2d = tf.nn.conv2d(input=image, filter=w_filter, strides=[1, 2, 2, 1], padding='VALID')\n",
    "conv2d_img = conv2d.eval()\n",
    "print(\"conv2d_img.shape\", conv2d_img.shape)\n",
    "print(conv2d_img.reshape(3,3))\n",
    "plt.imshow(conv2d_img.reshape(3,3), cmap='Greys')\n",
    "\n",
    "sess.close()"
   ]
  },
  {
   "cell_type": "markdown",
   "metadata": {},
   "source": [
    "### p.60 Padding='SAME'"
   ]
  },
  {
   "cell_type": "code",
   "execution_count": 6,
   "metadata": {
    "scrolled": false
   },
   "outputs": [
    {
     "name": "stdout",
     "output_type": "stream",
     "text": [
      "[[12. 16.]\n",
      " [24. 28.]]\n",
      "[[12. 16.  9.]\n",
      " [24. 28. 15.]\n",
      " [15. 17.  9.]]\n"
     ]
    }
   ],
   "source": [
    "sess = tf.InteractiveSession()\n",
    "\n",
    "image = np.arange(1, 10, dtype=np.float32).reshape(1, 3, 3, 1)\n",
    "w_filter = tf.constant(np.ones(4, dtype=np.float32).reshape(2, 2, 1, 1))\n",
    "conv2d_1 = tf.nn.conv2d(input=image, filter=w_filter, strides=[1, 1, 1, 1], padding='VALID')\n",
    "conv2d_2 = tf.nn.conv2d(input=image, filter=w_filter, strides=[1, 1, 1, 1], padding='SAME')\n",
    "print(conv2d_1.eval().reshape(2,2))\n",
    "print(conv2d_2.eval().reshape(3,3))\n",
    "\n",
    "sess.close()"
   ]
  },
  {
   "cell_type": "markdown",
   "metadata": {},
   "source": [
    "### p.62 Padding - 5 x 5 -> 5 x 5"
   ]
  },
  {
   "cell_type": "code",
   "execution_count": 7,
   "metadata": {
    "scrolled": false
   },
   "outputs": [
    {
     "name": "stdout",
     "output_type": "stream",
     "text": [
      "[[4. 6. 6. 6. 4.]\n",
      " [6. 9. 9. 9. 6.]\n",
      " [6. 9. 9. 9. 6.]\n",
      " [6. 9. 9. 9. 6.]\n",
      " [4. 6. 6. 6. 4.]]\n"
     ]
    }
   ],
   "source": [
    "sess = tf.InteractiveSession()\n",
    "\n",
    "image = np.ones(25, dtype=np.float32).reshape(1, 5, 5, 1)\n",
    "w_filter = tf.constant(np.ones(9, dtype=np.float32).reshape(3, 3, 1, 1))\n",
    "conv2d_2 = tf.nn.conv2d(input=image, filter=w_filter, strides=[1, 1, 1, 1], padding='SAME')\n",
    "print(conv2d_2.eval().reshape(5,5))\n",
    "\n",
    "sess.close()"
   ]
  },
  {
   "cell_type": "markdown",
   "metadata": {},
   "source": [
    "### p.65 Padding 고급"
   ]
  },
  {
   "cell_type": "code",
   "execution_count": 8,
   "metadata": {},
   "outputs": [
    {
     "name": "stdout",
     "output_type": "stream",
     "text": [
      "Tensor(\"Conv2D_6:0\", shape=(1, 2, 2, 1), dtype=float32)\n",
      "Tensor(\"Conv2D_7:0\", shape=(1, 3, 3, 1), dtype=float32)\n",
      "[[36. 36.]\n",
      " [36. 36.]]\n",
      "[[25. 30. 20.]\n",
      " [30. 36. 24.]\n",
      " [20. 24. 16.]]\n"
     ]
    }
   ],
   "source": [
    "sess = tf.InteractiveSession()\n",
    "\n",
    "image = np.ones(121, dtype=np.float32).reshape(1, 11, 11, 1)\n",
    "w_filter = tf.constant(np.ones(36, dtype=np.float32).reshape(6, 6, 1, 1))\n",
    "conv2d_1 = tf.nn.conv2d(input=image, filter=w_filter, strides=[1, 4, 4, 1], padding='VALID')\n",
    "conv2d_2 = tf.nn.conv2d(input=image, filter=w_filter, strides=[1, 4, 4, 1], padding='SAME')\n",
    "print(conv2d_1)\n",
    "print(conv2d_2)\n",
    "print(conv2d_1.eval().reshape(2, 2))\n",
    "print(conv2d_2.eval().reshape(3, 3))\n",
    "\n",
    "sess.close()"
   ]
  },
  {
   "cell_type": "markdown",
   "metadata": {},
   "source": [
    "### p.71 Pooling"
   ]
  },
  {
   "cell_type": "code",
   "execution_count": 9,
   "metadata": {},
   "outputs": [
    {
     "name": "stdout",
     "output_type": "stream",
     "text": [
      "(1, 2, 2, 1)\n",
      "[[ 6.  8.]\n",
      " [14. 16.]]\n",
      "[[ 3.5  5.5]\n",
      " [11.5 13.5]]\n"
     ]
    }
   ],
   "source": [
    "sess = tf.InteractiveSession()\n",
    "\n",
    "image = np.arange(1, 17, dtype=np.float32).reshape(1, 4, 4, 1)\n",
    "max_pool = tf.nn.max_pool(image, ksize=[1,2,2,1], strides=[1,2,2,1], padding='VALID')\n",
    "avg_pool = tf.nn.avg_pool(image, ksize=[1,2,2,1], strides=[1,2,2,1], padding='VALID')\n",
    "\n",
    "print(max_pool.eval().shape)\n",
    "print(max_pool.eval().reshape(2, 2))\n",
    "print(avg_pool.eval().reshape(2, 2))\n",
    "\n",
    "sess.close()"
   ]
  },
  {
   "cell_type": "markdown",
   "metadata": {},
   "source": [
    "### p.72 Pooling - 고급"
   ]
  },
  {
   "cell_type": "code",
   "execution_count": 10,
   "metadata": {},
   "outputs": [
    {
     "name": "stdout",
     "output_type": "stream",
     "text": [
      "(1, 1, 1, 1)\n",
      "[[29.]]\n",
      "(1, 2, 2, 1)\n",
      "[[22. 24.]\n",
      " [34. 36.]]\n"
     ]
    }
   ],
   "source": [
    "sess = tf.InteractiveSession()\n",
    "\n",
    "image = np.arange(1, 37, dtype=np.float32).reshape(1, 6, 6, 1)\n",
    "pool_1 = tf.nn.max_pool(image, ksize=[1,5,5,1], strides=[1,4,4,1], padding='VALID')\n",
    "pool_2 = tf.nn.max_pool(image, ksize=[1,5,5,1], strides=[1,4,4,1], padding='SAME')\n",
    "\n",
    "print(pool_1.eval().shape)\n",
    "print(pool_1.eval().reshape(1, 1))\n",
    "print(pool_2.eval().shape)\n",
    "print(pool_2.eval().reshape(2, 2))\n",
    "\n",
    "sess.close()"
   ]
  },
  {
   "cell_type": "markdown",
   "metadata": {},
   "source": [
    "### p.77 답안"
   ]
  },
  {
   "cell_type": "code",
   "execution_count": 11,
   "metadata": {},
   "outputs": [
    {
     "name": "stdout",
     "output_type": "stream",
     "text": [
      "conv2d_img.shape (1, 3, 3, 1)\n",
      "[[162. 198. 234.]\n",
      " [414. 450. 486.]\n",
      " [666. 702. 738.]]\n"
     ]
    },
    {
     "data": {
      "image/png": "[encoded data removed]",
      "text/plain": [
       "<Figure size 432x288 with 1 Axes>"
      ]
     },
     "metadata": {
      "needs_background": "light"
     },
     "output_type": "display_data"
    }
   ],
   "source": [
    "sess = tf.InteractiveSession()\n",
    "\n",
    "image = np.arange(1, 50, dtype=np.float32).reshape(1, 7, 7, 1)\n",
    "w_filter = tf.constant(np.full((3,3),2, dtype=np.float32).reshape(3, 3, 1, 1))\n",
    "conv2d = tf.nn.conv2d(input=image, filter=w_filter, strides=[1, 2, 2, 1], padding='VALID')\n",
    "conv2d_img = conv2d.eval()\n",
    "print(\"conv2d_img.shape\", conv2d_img.shape)\n",
    "print(conv2d_img.reshape(3,3))\n",
    "plt.imshow(conv2d_img.reshape(3,3), cmap='Greys')\n",
    "\n",
    "sess.close()"
   ]
  },
  {
   "cell_type": "markdown",
   "metadata": {},
   "source": [
    "# 텐서플로우에서는 필터에 넣는 파라미터가 넘파이의 쉐이프와 다르므로 swapaxes함수를 이용하여 바꾸어준다."
   ]
  },
  {
   "cell_type": "markdown",
   "metadata": {
    "heading_collapsed": true
   },
   "source": [
    "### p.85 Filter 3개"
   ]
  },
  {
   "cell_type": "code",
   "execution_count": 12,
   "metadata": {
    "hidden": true
   },
   "outputs": [
    {
     "name": "stdout",
     "output_type": "stream",
     "text": [
      "conv2d_img.shape (3, 3, 3)\n",
      "[[[12. 16.  9.]\n",
      "  [24. 28. 15.]\n",
      "  [15. 17.  9.]]\n",
      "\n",
      " [[24. 32. 18.]\n",
      "  [48. 56. 30.]\n",
      "  [30. 34. 18.]]\n",
      "\n",
      " [[36. 48. 27.]\n",
      "  [72. 84. 45.]\n",
      "  [45. 51. 27.]]]\n"
     ]
    }
   ],
   "source": [
    "sess = tf.InteractiveSession()\n",
    "\n",
    "image = np.arange(1, 10, dtype=np.float32).reshape(1, 3, 3, 1)\n",
    "w_filter = np.array([1,1,1,1,2,2,2,2,3,3,3,3], dtype=np.float32).reshape(1,3,2,2)\n",
    "w_filter = np.swapaxes(w_filter, 0, 2)\n",
    "w_filter = np.swapaxes(w_filter, 1, 3)\n",
    "conv2d = tf.nn.conv2d(input=image, filter=w_filter, strides=[1, 1, 1, 1], padding='SAME')\n",
    "conv2d_img = conv2d.eval()\n",
    "conv2d_img = np.swapaxes(conv2d_img, 0, 3).reshape(3, 3, 3)\n",
    "print(\"conv2d_img.shape\", conv2d_img.shape)\n",
    "print(conv2d_img)\n",
    "\n",
    "sess.close()"
   ]
  },
  {
   "cell_type": "markdown",
   "metadata": {},
   "source": [
    "### p.89 Filter 3개 - 2"
   ]
  },
  {
   "cell_type": "code",
   "execution_count": 13,
   "metadata": {},
   "outputs": [
    {
     "name": "stdout",
     "output_type": "stream",
     "text": [
      "conv2d_img.shape (3, 3, 3)\n",
      "[[[ 6.2283955   8.038742    1.5265172 ]\n",
      "  [11.659434   13.46978     2.3611684 ]\n",
      "  [ 6.739383    7.587756    0.42835605]]\n",
      "\n",
      " [[ 5.930396    8.302185    3.2973197 ]\n",
      "  [13.045763   15.417552    5.979921  ]\n",
      "  [12.735638   14.413755    6.2036476 ]]\n",
      "\n",
      " [[ 6.20831     8.37718     6.5399494 ]\n",
      "  [12.71492    14.883789   10.376992  ]\n",
      "  [ 8.57402     9.693029    3.4024053 ]]]\n"
     ]
    }
   ],
   "source": [
    "sess = tf.InteractiveSession()\n",
    "\n",
    "image = np.arange(1, 10, dtype=np.float32).reshape(1, 3, 3, 1)\n",
    "w_filter = np.random.random((1,3,2,2))\n",
    "w_filter = np.swapaxes(w_filter, 0, 2)\n",
    "w_filter = np.swapaxes(w_filter, 1, 3)\n",
    "conv2d = tf.nn.conv2d(input=image, filter=w_filter, strides=[1, 1, 1, 1], padding='SAME')\n",
    "conv2d_img = conv2d.eval()\n",
    "conv2d_img = np.swapaxes(conv2d_img, 0, 3).reshape(3, 3, 3)\n",
    "print(\"conv2d_img.shape\", conv2d_img.shape)\n",
    "print(conv2d_img)\n",
    "\n",
    "sess.close()"
   ]
  },
  {
   "cell_type": "markdown",
   "metadata": {},
   "source": [
    "### p.92 Mnist"
   ]
  },
  {
   "cell_type": "code",
   "execution_count": 15,
   "metadata": {},
   "outputs": [
    {
     "name": "stdout",
     "output_type": "stream",
     "text": [
      "Extracting MNIST_data/train-images-idx3-ubyte.gz\n",
      "Extracting MNIST_data/train-labels-idx1-ubyte.gz\n",
      "Extracting MNIST_data/t10k-images-idx3-ubyte.gz\n",
      "Extracting MNIST_data/t10k-labels-idx1-ubyte.gz\n"
     ]
    }
   ],
   "source": [
    "from tensorflow.examples.tutorials.mnist import input_data\n",
    "mnist = input_data.read_data_sets(\"MNIST_data/\", one_hot=True)"
   ]
  },
  {
   "cell_type": "code",
   "execution_count": 16,
   "metadata": {},
   "outputs": [
    {
     "name": "stdout",
     "output_type": "stream",
     "text": [
      "[0. 0. 0. 0. 0. 0. 0. 1. 0. 0.]\n"
     ]
    },
    {
     "data": {
      "text/plain": [
       "<matplotlib.image.AxesImage at 0x7fabb5b057f0>"
      ]
     },
     "execution_count": 16,
     "metadata": {},
     "output_type": "execute_result"
    },
    {
     "data": {
      "image/png": "[encoded data removed]",
      "text/plain": [
       "<Figure size 432x288 with 1 Axes>"
      ]
     },
     "metadata": {
      "needs_background": "light"
     },
     "output_type": "display_data"
    }
   ],
   "source": [
    "img = mnist.train.images[0].reshape(28,28)\n",
    "print(mnist.train.labels[0])\n",
    "plt.imshow(img, cmap='gray')"
   ]
  },
  {
   "cell_type": "markdown",
   "metadata": {},
   "source": [
    "### p.93 비슷해보이는 5장"
   ]
  },
  {
   "cell_type": "code",
   "execution_count": 17,
   "metadata": {},
   "outputs": [
    {
     "name": "stdout",
     "output_type": "stream",
     "text": [
      "Tensor(\"Conv2D_11:0\", shape=(1, 14, 14, 5), dtype=float32)\n"
     ]
    },
    {
     "data": {
      "image/png": "[encoded data removed]",
      "text/plain": [
       "<Figure size 432x288 with 5 Axes>"
      ]
     },
     "metadata": {
      "needs_background": "light"
     },
     "output_type": "display_data"
    }
   ],
   "source": [
    "sess = tf.InteractiveSession()\n",
    "\n",
    "img = img.reshape(1,28,28,1)\n",
    "w_filter = np.random.random((3,3,1,5))\n",
    "conv2d = tf.nn.conv2d(img, w_filter, strides=[1, 2, 2, 1], padding='SAME')\n",
    "print(conv2d)\n",
    "conv2d_img = conv2d.eval()\n",
    "conv2d_img = np.swapaxes(conv2d_img, 0, 3)\n",
    "for i, one_img in enumerate(conv2d_img):\n",
    "    plt.subplot(1,5,i+1), plt.imshow(one_img.reshape(14,14), cmap='gray')\n",
    "    \n",
    "sess.close()"
   ]
  },
  {
   "cell_type": "markdown",
   "metadata": {},
   "source": [
    "### p.95 필터를 음수도 나오게"
   ]
  },
  {
   "cell_type": "code",
   "execution_count": 18,
   "metadata": {},
   "outputs": [
    {
     "name": "stdout",
     "output_type": "stream",
     "text": [
      "Tensor(\"Conv2D_12:0\", shape=(1, 14, 14, 5), dtype=float32)\n"
     ]
    },
    {
     "data": {
      "image/png": "[encoded data removed]",
      "text/plain": [
       "<Figure size 432x288 with 5 Axes>"
      ]
     },
     "metadata": {
      "needs_background": "light"
     },
     "output_type": "display_data"
    }
   ],
   "source": [
    "sess = tf.InteractiveSession()\n",
    "\n",
    "img = img.reshape(1,28,28,1)\n",
    "w_filter = np.random.random((3,3,1,5)) - 0.5\n",
    "conv2d = tf.nn.conv2d(img, w_filter, strides=[1, 2, 2, 1], padding='SAME')\n",
    "print(conv2d)\n",
    "conv2d_img = conv2d.eval()\n",
    "conv2d_img = np.swapaxes(conv2d_img, 0, 3)\n",
    "for i, one_img in enumerate(conv2d_img):\n",
    "    plt.subplot(1,5,i+1), plt.imshow(one_img.reshape(14,14), cmap='gray')\n",
    "    \n",
    "sess.close()"
   ]
  },
  {
   "cell_type": "markdown",
   "metadata": {},
   "source": [
    "### p.109 ReLU"
   ]
  },
  {
   "cell_type": "code",
   "execution_count": 19,
   "metadata": {},
   "outputs": [
    {
     "data": {
      "image/png": "[encoded data removed]",
      "text/plain": [
       "<Figure size 432x288 with 5 Axes>"
      ]
     },
     "metadata": {
      "needs_background": "light"
     },
     "output_type": "display_data"
    }
   ],
   "source": [
    "sess = tf.InteractiveSession()\n",
    "\n",
    "img = img.reshape(1,28,28,1)\n",
    "w_filter = np.random.random((3,3,1,5)) - 0.5\n",
    "conv2d = tf.nn.conv2d(img, w_filter, strides=[1, 2, 2, 1], padding='SAME')\n",
    "conv2d_img = conv2d.eval()\n",
    "conv2d_img = tf.nn.relu(conv2d_img).eval()\n",
    "conv2d_img = np.swapaxes(conv2d_img, 0, 3)\n",
    "for i, one_img in enumerate(conv2d_img):\n",
    "    plt.subplot(1,5,i+1), plt.imshow(one_img.reshape(14,14), cmap='gray')\n",
    "    \n",
    "sess.close()"
   ]
  },
  {
   "cell_type": "markdown",
   "metadata": {},
   "source": [
    "### p.109 Leaky ReLU"
   ]
  },
  {
   "cell_type": "code",
   "execution_count": 20,
   "metadata": {},
   "outputs": [
    {
     "data": {
      "image/png": "[encoded data removed]",
      "text/plain": [
       "<Figure size 432x288 with 5 Axes>"
      ]
     },
     "metadata": {
      "needs_background": "light"
     },
     "output_type": "display_data"
    }
   ],
   "source": [
    "sess = tf.InteractiveSession()\n",
    "\n",
    "img = img.reshape(1,28,28,1)\n",
    "w_filter = np.random.random((3,3,1,5)) - 0.5\n",
    "conv2d = tf.nn.conv2d(img, w_filter, strides=[1, 2, 2, 1], padding='SAME')\n",
    "conv2d_img = conv2d.eval()\n",
    "conv2d_img = tf.nn.leaky_relu(conv2d_img).eval()\n",
    "conv2d_img = np.swapaxes(conv2d_img, 0, 3)\n",
    "for i, one_img in enumerate(conv2d_img):\n",
    "    plt.subplot(1,5,i+1), plt.imshow(one_img.reshape(14,14), cmap='gray')\n",
    "    \n",
    "sess.close()"
   ]
  },
  {
   "cell_type": "markdown",
   "metadata": {},
   "source": [
    "### p.121 MNIST 학습"
   ]
  },
  {
   "cell_type": "code",
   "execution_count": 21,
   "metadata": {},
   "outputs": [],
   "source": [
    "import tensorflow as tf\n",
    "import random\n",
    "from tensorflow.examples.tutorials.mnist import input_data"
   ]
  },
  {
   "cell_type": "code",
   "execution_count": 22,
   "metadata": {},
   "outputs": [
    {
     "name": "stdout",
     "output_type": "stream",
     "text": [
      "Extracting MNIST_data/train-images-idx3-ubyte.gz\n",
      "Extracting MNIST_data/train-labels-idx1-ubyte.gz\n",
      "Extracting MNIST_data/t10k-images-idx3-ubyte.gz\n",
      "Extracting MNIST_data/t10k-labels-idx1-ubyte.gz\n",
      "Learning started. It takes sometime.\n",
      "Epoch: 0001 cost = 0.391009184\n",
      "Epoch: 0002 cost = 0.098247811\n",
      "Epoch: 0003 cost = 0.074012881\n",
      "Epoch: 0004 cost = 0.060703204\n",
      "Epoch: 0005 cost = 0.051089959\n",
      "Epoch: 0006 cost = 0.044144351\n",
      "Epoch: 0007 cost = 0.040145029\n",
      "Epoch: 0008 cost = 0.035082561\n",
      "Epoch: 0009 cost = 0.029848771\n",
      "Epoch: 0010 cost = 0.026804067\n",
      "Epoch: 0011 cost = 0.022919716\n",
      "Epoch: 0012 cost = 0.020861099\n",
      "Epoch: 0013 cost = 0.017693707\n",
      "Epoch: 0014 cost = 0.015462332\n",
      "Epoch: 0015 cost = 0.013619192\n",
      "Learning Finished!\n",
      "Accuracy: 0.9875\n",
      "Label:  [0]\n",
      "Prediction:  [0]\n"
     ]
    }
   ],
   "source": [
    "tf.set_random_seed(777)\n",
    "mnist = input_data.read_data_sets(\"MNIST_data/\", one_hot=True)\n",
    "\n",
    "learning_rate = 0.001\n",
    "training_epochs = 15\n",
    "batch_size = 100\n",
    "\n",
    "X = tf.placeholder(tf.float32, [None, 784])\n",
    "X_img = tf.reshape(X, [-1, 28, 28, 1])\n",
    "Y = tf.placeholder(tf.float32, [None, 10])\n",
    "\n",
    "W1 = tf.Variable(tf.random_normal([3, 3, 1, 32], stddev=0.01))\n",
    "L1 = tf.nn.conv2d(X_img, W1, strides=[1, 1, 1, 1], padding='SAME')\n",
    "L1 = tf.nn.relu(L1)\n",
    "L1 = tf.nn.max_pool(L1, ksize=[1, 2, 2, 1], strides=[1, 2, 2, 1], padding='SAME')\n",
    "\n",
    "W2 = tf.Variable(tf.random_normal([3, 3, 32, 64], stddev=0.01))\n",
    "L2 = tf.nn.conv2d(L1, W2, strides=[1, 1, 1, 1], padding='SAME')\n",
    "L2 = tf.nn.relu(L2)\n",
    "L2 = tf.nn.max_pool(L2, ksize=[1, 2, 2, 1], strides=[1, 2, 2, 1], padding='SAME')\n",
    "L2_flat = tf.reshape(L2, [-1, 7 * 7 * 64])\n",
    "\n",
    "# Final FC 7x7x64 inputs -> 10 outputs\n",
    "W3 = tf.get_variable(\"W3\", shape=[7 * 7 * 64, 10], \n",
    "                     initializer=tf.contrib.layers.xavier_initializer())\n",
    "b = tf.Variable(tf.random_normal([10]))\n",
    "\n",
    "logits = tf.matmul(L2_flat, W3) + b\n",
    "cost = tf.reduce_mean(tf.nn.softmax_cross_entropy_with_logits_v2(logits=logits, labels=Y))\n",
    "optimizer = tf.train.AdamOptimizer(learning_rate=learning_rate).minimize(cost)\n",
    "\n",
    "# initialize\n",
    "sess = tf.Session()\n",
    "sess.run(tf.global_variables_initializer())\n",
    "\n",
    "print('Learning started. It takes sometime.')\n",
    "for epoch in range(training_epochs):\n",
    "    avg_cost = 0\n",
    "    total_batch = int(mnist.train.num_examples / batch_size)\n",
    "    for i in range(total_batch):\n",
    "        batch_xs, batch_ys = mnist.train.next_batch(batch_size)\n",
    "        feed_dict = {X: batch_xs, Y: batch_ys}\n",
    "        c, _ = sess.run([cost, optimizer], feed_dict=feed_dict)\n",
    "        avg_cost += c / total_batch\n",
    "\n",
    "    print('Epoch:', '%04d' % (epoch + 1), 'cost =', '{:.9f}'.format(avg_cost))\n",
    "\n",
    "print('Learning Finished!')\n",
    "\n",
    "# Test model and check accuracy\n",
    "correct_prediction = tf.equal(tf.argmax(logits, 1), tf.argmax(Y, 1))\n",
    "accuracy = tf.reduce_mean(tf.cast(correct_prediction, tf.float32))\n",
    "print('Accuracy:', sess.run(accuracy, feed_dict={\n",
    "      X: mnist.test.images, Y: mnist.test.labels}))\n",
    "\n",
    "# Get one and predict\n",
    "r = random.randint(0, mnist.test.num_examples - 1)\n",
    "print(\"Label: \", sess.run(tf.argmax(mnist.test.labels[r:r + 1], 1)))\n",
    "print(\"Prediction: \", sess.run(\n",
    "    tf.argmax(logits, 1), feed_dict={X: mnist.test.images[r:r + 1]}))\n",
    "\n",
    "sess.close()"
   ]
  }
 ],
 "metadata": {
  "kernelspec": {
   "display_name": "Python 3",
   "language": "python",
   "name": "python3"
  },
  "language_info": {
   "codemirror_mode": {
    "name": "ipython",
    "version": 3
   },
   "file_extension": ".py",
   "mimetype": "text/x-python",
   "name": "python",
   "nbconvert_exporter": "python",
   "pygments_lexer": "ipython3",
   "version": "3.6.5"
  }
 },
 "nbformat": 4,
 "nbformat_minor": 2
}
