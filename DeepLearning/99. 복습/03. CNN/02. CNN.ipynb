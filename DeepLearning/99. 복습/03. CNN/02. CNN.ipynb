{
 "cells": [
  {
   "cell_type": "code",
   "execution_count": null,
   "metadata": {
    "scrolled": true
   },
   "outputs": [],
   "source": [
    "import numpy as np\n",
    "import tensorflow as tf\n",
    "import matplotlib.pyplot as plt"
   ]
  },
  {
   "cell_type": "code",
   "execution_count": null,
   "metadata": {},
   "outputs": [],
   "source": [
    "sess = tf.InteractiveSession()\n",
    "image = np.array([[[[1], [2], [3]],\n",
    "                   [[4], [5], [6]],\n",
    "                   [[7], [8], [9]]]], dtype = np.float32)\n",
    "print(image.shape)\n",
    "plt.imshow(image.reshape(3,3), cmap='Greys')\n",
    "sess.close()"
   ]
  },
  {
   "cell_type": "code",
   "execution_count": null,
   "metadata": {},
   "outputs": [],
   "source": [
    "sess = tf.InteractiveSession()\n",
    "print(\"image.shape\", image.shape)\n",
    "w_filter = tf.constant([[[[1.]],[[1.]]],\n",
    "                      [[[1.]],[[1.]]]])\n",
    "print(\"filter.shape\",w_filter.shape)\n",
    "conv2d = tf.nn.conv2d(input=image,filter=w_filter,strides=[1,1,1,1],padding='VALID')\n",
    "conv2d_img = conv2d.eval()\n",
    "print(\"conv2d_img.shape\",conv2d_img.shape)\n",
    "print(conv2d_img.reshape(2,2))\n",
    "plt.imshow(conv2d_img.reshape(2,2),cmap='Greys')\n",
    "\n",
    "sess.close()"
   ]
  },
  {
   "cell_type": "code",
   "execution_count": null,
   "metadata": {},
   "outputs": [],
   "source": [
    "sess = tf.InteractiveSession()\n",
    "image=np.arange(1,10,dtype=np.float32).reshape(1,3,3,1)\n",
    "print(\"image.shape\", image.shape)\n",
    "w_filter = tf.constant(np.ones(4,dtype=np.float32).reshape(2,2,1,1))\n",
    "print(\"filter.shape\",w_filter.shape)\n",
    "conv2d = tf.nn.conv2d(input=image,filter=w_filter,strides=[1,1,1,1],padding='VALID')\n",
    "conv2d_img = conv2d.eval()\n",
    "print(\"conv2d_img.shape\",conv2d_img.shape)\n",
    "print(conv2d_img.reshape(2,2))\n",
    "plt.imshow(conv2d_img.reshape(2,2),cmap='Greys')\n",
    "\n",
    "sess.close()"
   ]
  },
  {
   "cell_type": "code",
   "execution_count": null,
   "metadata": {
    "scrolled": true
   },
   "outputs": [],
   "source": [
    "sess = tf.InteractiveSession()\n",
    "image = np.arange(1,50,dtype=np.float32).reshape(1,7,7,1)\n",
    "w_filter = tf.constant(np.full((3,3),2, dtype=np.float32).reshape(3, 3, 1, 1))\n",
    "conv2d = tf.nn.conv2d(input=image,filter=w_filter,strides=[1,2,2,1],padding='VALID')\n",
    "conv2d_img = conv2d.eval()\n",
    "\n",
    "plt.imshow(conv2d_img.reshape(3,3),cmap='Greys')\n",
    "\n",
    "sess.close()"
   ]
  },
  {
   "cell_type": "code",
   "execution_count": null,
   "metadata": {},
   "outputs": [],
   "source": [
    "sess =tf.InteractiveSession()\n",
    "image = np.arange(1,10,dtype=np.float32).reshape(1,3,3,1)\n",
    "w_filter = tf.constant(np.ones(4,dtype=np.float32).reshape(2,2,1,1))\n",
    "conv2d_1 = tf.nn.conv2d(input=image,filter=w_filter,strides=[1,1,1,1], padding='VALID')\n",
    "conv2d_2 = tf.nn.conv2d(input=image,filter=w_filter,strides=[1,1,1,1], padding='SAME')\n",
    "print(conv2d_1.eval().reshape(2,2))\n",
    "print(conv2d_2.eval().reshape(3,3))\n",
    "sess.close()"
   ]
  },
  {
   "cell_type": "code",
   "execution_count": null,
   "metadata": {},
   "outputs": [],
   "source": [
    "sess = tf.InteractiveSession()\n",
    "image = np.ones(25,dtype=np.float32).reshape(1,5,5,1)\n",
    "w_filter = tf.constant(np.ones(9, dtype=np.float32).reshape(3, 3, 1, 1))\n",
    "conv2d_2 = tf.nn.conv2d(input=image, filter=w_filter, strides=[1, 1, 1, 1], padding='SAME')\n",
    "print(conv2d_2.eval().reshape(5,5))\n",
    "sess.close()"
   ]
  },
  {
   "cell_type": "code",
   "execution_count": null,
   "metadata": {
    "scrolled": false
   },
   "outputs": [],
   "source": [
    "sess = tf.InteractiveSession()\n",
    "image = np.ones(11*11,dtype=np.float32).reshape(1,11,11,1)\n",
    "w_filter = tf.constant(np.ones(6*6,dtype=np.float32).reshape(6,6,1,1))\n",
    "conv_2d_1 = tf.nn.conv2d(input=image,filter=w_filter,strides=[1,4,4,1],padding='VALID')\n",
    "conv_2d_2 = tf.nn.conv2d(input=image,filter=w_filter,strides=[1,4,4,1],padding='SAME')\n",
    "print(conv_2d_1)\n",
    "print(conv_2d_2)\n",
    "print (conv_2d_1.eval().reshape(2,2))\n",
    "print (conv_2d_2.eval().reshape(3,3))\n",
    "# print(conv_2d_2.eval())\n",
    "sess.close()"
   ]
  },
  {
   "cell_type": "code",
   "execution_count": null,
   "metadata": {},
   "outputs": [],
   "source": [
    "sess = tf.InteractiveSession()\n",
    "image = np.arange(1,17,dtype=np.float32).reshape(1,4,4,1)\n",
    "max_pool = tf.nn.max_pool(image, ksize=[1,2,2,1],strides=[1,2,2,1],padding='VALID')\n",
    "avg_pool = tf.nn.avg_pool(image, ksize=[1,2,2,1],strides=[1,2,2,1],padding='VALID')\n",
    "\n",
    "print(max_pool.eval().shape)\n",
    "print(max_pool.eval().reshape(2,2))\n",
    "print(avg_pool.eval().reshape(2,2))\n",
    "sess.close()"
   ]
  },
  {
   "cell_type": "code",
   "execution_count": null,
   "metadata": {},
   "outputs": [],
   "source": [
    "sess = tf.InteractiveSession()\n",
    "image = np.arange(1,37,dtype=np.float32).reshape(1,6,6,1)\n",
    "max_pool = tf.nn.max_pool(image, ksize=[1,5,5,1],strides=[1,4,4,1],padding='SAME')\n",
    "max_pool_v = tf.nn.max_pool(image, ksize=[1,5,5,1],strides=[1,4,4,1],padding='VALID')\n",
    "avg_pool = tf.nn.avg_pool(image, ksize=[1,5,5,1],strides=[1,4,4,1],padding='SAME')\n",
    "avg_pool_v = tf.nn.avg_pool(image, ksize=[1,5,5,1],strides=[1,4,4,1],padding='VALID')\n",
    "print(max_pool.eval().shape)\n",
    "print(avg_pool.eval().shape)\n",
    "print(max_pool_v.eval().shape)\n",
    "print(avg_pool_v.eval().shape)\n",
    "\n",
    "\n",
    "print(max_pool.eval().reshape(2,2))\n",
    "print(avg_pool.eval().reshape(2,2))\n",
    "\n",
    "print(max_pool_v.eval().reshape(1,1))\n",
    "print(avg_pool_v.eval().reshape(1,1))\n",
    "\n",
    "sess.close()"
   ]
  },
  {
   "cell_type": "markdown",
   "metadata": {},
   "source": [
    "# 텐서플로우에서는 필터에 넣는 파라미터가 넘파이의 쉐이프와 다르므로 swapaxes함수를 이용하여 바꾸어준다.\n"
   ]
  },
  {
   "cell_type": "markdown",
   "metadata": {},
   "source": [
    "(행,열,인,아웃)"
   ]
  },
  {
   "cell_type": "code",
   "execution_count": null,
   "metadata": {
    "scrolled": false
   },
   "outputs": [],
   "source": [
    "filter= np.array([[[[1,1],[1,1]],[[2,2],[2,2]],[[3,3],[3,3]]]])\n",
    "print(filter.shape)\n",
    "filter = np.swapaxes(filter,0,2)\n",
    "filter = np.swapaxes(filter,1,3)\n",
    "print(filter.shape)\n",
    "print(filter)"
   ]
  },
  {
   "cell_type": "code",
   "execution_count": null,
   "metadata": {
    "scrolled": true
   },
   "outputs": [],
   "source": [
    "sess = tf.InteractiveSession()\n",
    "image = np.arange(1,10,dtype=np.float32).reshape(1,3,3,1)\n",
    "w_filter = np.array([1,1,1,1,2,2,2,2,3,3,3,3],dtype=np.float32).reshape(1,3,2,2)\n",
    "w_filter = np.swapaxes(w_filter,0,2)\n",
    "w_filter = np.swapaxes(w_filter,1,3)\n",
    "conv2d = tf.nn.conv2d(input = image, filter=w_filter,strides=[1,1,1,1],padding='SAME')\n",
    "conv2d_image = conv2d.eval()\n",
    "print(conv2d_image.shape)\n",
    "conv2_image = np.swapaxes(conv2d_image,0,3)\n",
    "print(\"conv2d_img.shape\",conv2_image.shape)\n",
    "print(conv2_image)\n",
    "\n",
    "sess.close() "
   ]
  },
  {
   "cell_type": "code",
   "execution_count": null,
   "metadata": {},
   "outputs": [],
   "source": [
    "from tensorflow.examples.tutorials.mnist import input_data\n",
    "mnist = input_data.read_data_sets(\"MNIST_data/\", one_hot=True)"
   ]
  },
  {
   "cell_type": "code",
   "execution_count": null,
   "metadata": {},
   "outputs": [],
   "source": [
    "img = mnist.train.images[0].reshape(28,28)\n",
    "print(mnist.train.labels[0])\n",
    "plt.imshow(img, cmap='gray')"
   ]
  },
  {
   "cell_type": "code",
   "execution_count": null,
   "metadata": {},
   "outputs": [],
   "source": [
    "sess = tf.InteractiveSession()\n",
    "img = img.reshape(1,28,28,1)\n",
    "w_filter= np.random.random((3,3,1,5))\n",
    "conv2d = tf.nn.conv2d(img,w_filter,strides=[1,2,2,1],padding='SAME')\n",
    "print(conv2d)\n",
    "conv2d_img = conv2d.eval()\n",
    "conv2d_img = np.swapaxes(conv2d_img,0,3)\n",
    "for i, one_img in enumerate(conv2d_img):\n",
    "    plt.subplot(1,5,i+1),plt.imshow(one_img.reshape(14,14),cmap='gray')\n",
    "sess.close()\n",
    "print(w_filter)"
   ]
  },
  {
   "cell_type": "code",
   "execution_count": null,
   "metadata": {},
   "outputs": [],
   "source": [
    "sess = tf.InteractiveSession()\n",
    "img = img.reshape(1,28,28,1)\n",
    "w_filter= np.random.random((3,3,1,5))-0.5\n",
    "conv2d = tf.nn.conv2d(img,w_filter,strides=[1,2,2,1],padding='SAME')\n",
    "print(conv2d)\n",
    "conv2d_img = conv2d.eval()\n",
    "conv2d_img = np.swapaxes(conv2d_img,0,3)\n",
    "for i, one_img in enumerate(conv2d_img):\n",
    "    plt.subplot(1,5,i+1),plt.imshow(one_img.reshape(14,14),cmap='gray')\n",
    "sess.close()\n",
    "print(w_filter)"
   ]
  },
  {
   "cell_type": "code",
   "execution_count": null,
   "metadata": {},
   "outputs": [],
   "source": [
    "sess = tf.InteractiveSession()\n",
    "\n",
    "img = img.reshape(1,28,28,1)\n",
    "w_filter = np.random.random((3,3,1,5)) - 0.5\n",
    "conv2d = tf.nn.conv2d(img, w_filter, strides=[1, 2, 2, 1], padding='SAME')\n",
    "conv2d_img = conv2d.eval()\n",
    "conv2d_img = tf.nn.relu(conv2d_img).eval()\n",
    "conv2d_img = np.swapaxes(conv2d_img, 0, 3)\n",
    "for i, one_img in enumerate(conv2d_img):\n",
    "    plt.subplot(1,5,i+1), plt.imshow(one_img.reshape(14,14), cmap='gray')\n",
    "    \n",
    "sess.close()"
   ]
  },
  {
   "cell_type": "code",
   "execution_count": null,
   "metadata": {},
   "outputs": [],
   "source": [
    "sess = tf.InteractiveSession()\n",
    "\n",
    "img = img.reshape(1,28,28,1)\n",
    "w_filter = np.random.random((3,3,1,5)) - 0.5\n",
    "conv2d = tf.nn.conv2d(img, w_filter, strides=[1, 2, 2, 1], padding='SAME')\n",
    "conv2d_img = conv2d.eval()\n",
    "conv2d_img = tf.nn.leaky_relu(conv2d_img).eval()\n",
    "conv2d_img = np.swapaxes(conv2d_img, 0, 3)\n",
    "for i, one_img in enumerate(conv2d_img):\n",
    "    plt.subplot(1,5,i+1), plt.imshow(one_img.reshape(14,14), cmap='gray')\n",
    "    \n",
    "sess.close()"
   ]
  },
  {
   "cell_type": "markdown",
   "metadata": {},
   "source": [
    "# CNN 예제"
   ]
  },
  {
   "cell_type": "code",
   "execution_count": 1,
   "metadata": {},
   "outputs": [
    {
     "name": "stderr",
     "output_type": "stream",
     "text": [
      "C:\\Users\\p\\Anaconda3\\lib\\site-packages\\h5py\\__init__.py:36: FutureWarning: Conversion of the second argument of issubdtype from `float` to `np.floating` is deprecated. In future, it will be treated as `np.float64 == np.dtype(float).type`.\n",
      "  from ._conv import register_converters as _register_converters\n"
     ]
    }
   ],
   "source": [
    "import tensorflow as tf\n",
    "import random\n",
    "from tensorflow.examples.tutorials.mnist import input_data"
   ]
  },
  {
   "cell_type": "code",
   "execution_count": 2,
   "metadata": {
    "scrolled": true
   },
   "outputs": [
    {
     "name": "stdout",
     "output_type": "stream",
     "text": [
      "WARNING:tensorflow:From <ipython-input-2-124fb748f8a0>:2: read_data_sets (from tensorflow.contrib.learn.python.learn.datasets.mnist) is deprecated and will be removed in a future version.\n",
      "Instructions for updating:\n",
      "Please use alternatives such as official/mnist/dataset.py from tensorflow/models.\n",
      "WARNING:tensorflow:From C:\\Users\\p\\Anaconda3\\lib\\site-packages\\tensorflow\\contrib\\learn\\python\\learn\\datasets\\mnist.py:260: maybe_download (from tensorflow.contrib.learn.python.learn.datasets.base) is deprecated and will be removed in a future version.\n",
      "Instructions for updating:\n",
      "Please write your own downloading logic.\n",
      "WARNING:tensorflow:From C:\\Users\\p\\Anaconda3\\lib\\site-packages\\tensorflow\\contrib\\learn\\python\\learn\\datasets\\mnist.py:262: extract_images (from tensorflow.contrib.learn.python.learn.datasets.mnist) is deprecated and will be removed in a future version.\n",
      "Instructions for updating:\n",
      "Please use tf.data to implement this functionality.\n",
      "Extracting MNIST_data\\train-images-idx3-ubyte.gz\n",
      "WARNING:tensorflow:From C:\\Users\\p\\Anaconda3\\lib\\site-packages\\tensorflow\\contrib\\learn\\python\\learn\\datasets\\mnist.py:267: extract_labels (from tensorflow.contrib.learn.python.learn.datasets.mnist) is deprecated and will be removed in a future version.\n",
      "Instructions for updating:\n",
      "Please use tf.data to implement this functionality.\n",
      "Extracting MNIST_data\\train-labels-idx1-ubyte.gz\n",
      "WARNING:tensorflow:From C:\\Users\\p\\Anaconda3\\lib\\site-packages\\tensorflow\\contrib\\learn\\python\\learn\\datasets\\mnist.py:110: dense_to_one_hot (from tensorflow.contrib.learn.python.learn.datasets.mnist) is deprecated and will be removed in a future version.\n",
      "Instructions for updating:\n",
      "Please use tf.one_hot on tensors.\n",
      "Extracting MNIST_data\\t10k-images-idx3-ubyte.gz\n",
      "Extracting MNIST_data\\t10k-labels-idx1-ubyte.gz\n",
      "WARNING:tensorflow:From C:\\Users\\p\\Anaconda3\\lib\\site-packages\\tensorflow\\contrib\\learn\\python\\learn\\datasets\\mnist.py:290: DataSet.__init__ (from tensorflow.contrib.learn.python.learn.datasets.mnist) is deprecated and will be removed in a future version.\n",
      "Instructions for updating:\n",
      "Please use alternatives such as official/mnist/dataset.py from tensorflow/models.\n"
     ]
    }
   ],
   "source": [
    "tf.set_random_seed(777)\n",
    "mnist = input_data.read_data_sets(\"MNIST_data\",one_hot=True)"
   ]
  },
  {
   "cell_type": "code",
   "execution_count": 151,
   "metadata": {},
   "outputs": [
    {
     "name": "stdout",
     "output_type": "stream",
     "text": [
      "Tensor(\"Placeholder_14:0\", dtype=float32) Tensor(\"Placeholder_15:0\", shape=(?, 10), dtype=float32)\n"
     ]
    }
   ],
   "source": [
    "learning_rate = 0.001\n",
    "traning_epochs = 5\n",
    "batch_size = 100\n",
    "\n",
    "X= tf.placeholder(tf.float32,[None,784])\n",
    "X=tf.placeholder(tf.float32)\n",
    "X_img = tf.reshape(X,[-1,28,28,1])\n",
    "Y = tf.placeholder(tf.float32,[None,10])\n",
    "print(X,Y)"
   ]
  },
  {
   "cell_type": "code",
   "execution_count": 152,
   "metadata": {},
   "outputs": [
    {
     "name": "stdout",
     "output_type": "stream",
     "text": [
      "<tf.Variable 'Variable_3:0' shape=(3, 3, 1, 32) dtype=float32_ref> Tensor(\"Conv2D_2:0\", shape=(?, 28, 28, 32), dtype=float32)\n"
     ]
    }
   ],
   "source": [
    "W1 = tf.Variable(tf.random_normal([3,3,1,32],stddev=0.01))\n",
    "L1 = tf.nn.conv2d(X_img,W1,strides=[1,1,1,1],padding='SAME')\n",
    "print(W1,L1)"
   ]
  },
  {
   "cell_type": "code",
   "execution_count": 153,
   "metadata": {},
   "outputs": [],
   "source": [
    "L1 = tf.nn.relu(L1)\n",
    "L1 = tf.nn.max_pool(L1,ksize=[1,2,2,1],strides=[1,2,2,1],padding='SAME')"
   ]
  },
  {
   "cell_type": "code",
   "execution_count": 154,
   "metadata": {},
   "outputs": [
    {
     "data": {
      "text/plain": [
       "<tf.Tensor 'MaxPool_2:0' shape=(?, 14, 14, 32) dtype=float32>"
      ]
     },
     "execution_count": 154,
     "metadata": {},
     "output_type": "execute_result"
    }
   ],
   "source": [
    "L1"
   ]
  },
  {
   "cell_type": "code",
   "execution_count": 155,
   "metadata": {},
   "outputs": [
    {
     "name": "stdout",
     "output_type": "stream",
     "text": [
      "<tf.Variable 'Variable_4:0' shape=(3, 3, 32, 64) dtype=float32_ref> Tensor(\"Conv2D_3:0\", shape=(?, 14, 14, 64), dtype=float32)\n"
     ]
    }
   ],
   "source": [
    "W2 = tf.Variable(tf.random_normal([3,3,32,64],stddev=0.01))\n",
    "L2 = tf.nn.conv2d(L1,W2,strides=[1,1,1,1],padding='SAME')\n",
    "print(W2,L2)"
   ]
  },
  {
   "cell_type": "code",
   "execution_count": 156,
   "metadata": {},
   "outputs": [
    {
     "data": {
      "text/plain": [
       "<tf.Tensor 'Relu_3:0' shape=(?, 14, 14, 64) dtype=float32>"
      ]
     },
     "execution_count": 156,
     "metadata": {},
     "output_type": "execute_result"
    }
   ],
   "source": [
    "L2=tf.nn.relu(L2)\n",
    "L2"
   ]
  },
  {
   "cell_type": "code",
   "execution_count": 157,
   "metadata": {},
   "outputs": [
    {
     "data": {
      "text/plain": [
       "<tf.Tensor 'MaxPool_3:0' shape=(?, 7, 7, 64) dtype=float32>"
      ]
     },
     "execution_count": 157,
     "metadata": {},
     "output_type": "execute_result"
    }
   ],
   "source": [
    "L2 = tf.nn.max_pool(L2,ksize=[1,2,2,1],strides=[1,2,2,1],padding='SAME')\n",
    "L2"
   ]
  },
  {
   "cell_type": "code",
   "execution_count": 158,
   "metadata": {},
   "outputs": [
    {
     "data": {
      "text/plain": [
       "<tf.Tensor 'Reshape_3:0' shape=(?, 3136) dtype=float32>"
      ]
     },
     "execution_count": 158,
     "metadata": {},
     "output_type": "execute_result"
    }
   ],
   "source": [
    "# ?\n",
    "L2_flat = tf.reshape(L2,shape=[-1,7*7*64])\n",
    "L2_flat"
   ]
  },
  {
   "cell_type": "code",
   "execution_count": 161,
   "metadata": {},
   "outputs": [
    {
     "ename": "ValueError",
     "evalue": "Variable W3 already exists, disallowed. Did you mean to set reuse=True or reuse=tf.AUTO_REUSE in VarScope? Originally defined at:\n\n  File \"C:\\Users\\p\\Anaconda3\\lib\\site-packages\\tensorflow\\python\\framework\\ops.py\", line 1768, in __init__\n    self._traceback = tf_stack.extract_stack()\n  File \"C:\\Users\\p\\Anaconda3\\lib\\site-packages\\tensorflow\\python\\framework\\ops.py\", line 3272, in create_op\n    op_def=op_def)\n  File \"C:\\Users\\p\\Anaconda3\\lib\\site-packages\\tensorflow\\python\\util\\deprecation.py\", line 488, in new_func\n    return func(*args, **kwargs)\n",
     "output_type": "error",
     "traceback": [
      "\u001b[1;31m---------------------------------------------------------------------------\u001b[0m",
      "\u001b[1;31mValueError\u001b[0m                                Traceback (most recent call last)",
      "\u001b[1;32m<ipython-input-161-e0f768ff4ba0>\u001b[0m in \u001b[0;36m<module>\u001b[1;34m()\u001b[0m\n\u001b[1;32m----> 1\u001b[1;33m \u001b[0mW3\u001b[0m \u001b[1;33m=\u001b[0m \u001b[0mtf\u001b[0m\u001b[1;33m.\u001b[0m\u001b[0mget_variable\u001b[0m\u001b[1;33m(\u001b[0m\u001b[1;34m\"W3\"\u001b[0m\u001b[1;33m,\u001b[0m\u001b[0mshape\u001b[0m\u001b[1;33m=\u001b[0m\u001b[1;33m[\u001b[0m\u001b[1;36m7\u001b[0m\u001b[1;33m*\u001b[0m\u001b[1;36m7\u001b[0m\u001b[1;33m*\u001b[0m\u001b[1;36m64\u001b[0m\u001b[1;33m,\u001b[0m\u001b[1;36m10\u001b[0m\u001b[1;33m]\u001b[0m\u001b[1;33m,\u001b[0m\u001b[0minitializer\u001b[0m\u001b[1;33m=\u001b[0m\u001b[0mtf\u001b[0m\u001b[1;33m.\u001b[0m\u001b[0mcontrib\u001b[0m\u001b[1;33m.\u001b[0m\u001b[0mlayers\u001b[0m\u001b[1;33m.\u001b[0m\u001b[0mxavier_initializer\u001b[0m\u001b[1;33m(\u001b[0m\u001b[1;33m)\u001b[0m\u001b[1;33m)\u001b[0m\u001b[1;33m\u001b[0m\u001b[0m\n\u001b[0m\u001b[0;32m      2\u001b[0m \u001b[0mprint\u001b[0m\u001b[1;33m(\u001b[0m\u001b[0mW3\u001b[0m\u001b[1;33m)\u001b[0m\u001b[1;33m\u001b[0m\u001b[0m\n",
      "\u001b[1;32m~\\Anaconda3\\lib\\site-packages\\tensorflow\\python\\ops\\variable_scope.py\u001b[0m in \u001b[0;36mget_variable\u001b[1;34m(name, shape, dtype, initializer, regularizer, trainable, collections, caching_device, partitioner, validate_shape, use_resource, custom_getter, constraint, synchronization, aggregation)\u001b[0m\n\u001b[0;32m   1482\u001b[0m       \u001b[0mconstraint\u001b[0m\u001b[1;33m=\u001b[0m\u001b[0mconstraint\u001b[0m\u001b[1;33m,\u001b[0m\u001b[1;33m\u001b[0m\u001b[0m\n\u001b[0;32m   1483\u001b[0m       \u001b[0msynchronization\u001b[0m\u001b[1;33m=\u001b[0m\u001b[0msynchronization\u001b[0m\u001b[1;33m,\u001b[0m\u001b[1;33m\u001b[0m\u001b[0m\n\u001b[1;32m-> 1484\u001b[1;33m       aggregation=aggregation)\n\u001b[0m\u001b[0;32m   1485\u001b[0m \u001b[1;33m\u001b[0m\u001b[0m\n\u001b[0;32m   1486\u001b[0m \u001b[1;33m\u001b[0m\u001b[0m\n",
      "\u001b[1;32m~\\Anaconda3\\lib\\site-packages\\tensorflow\\python\\ops\\variable_scope.py\u001b[0m in \u001b[0;36mget_variable\u001b[1;34m(self, var_store, name, shape, dtype, initializer, regularizer, reuse, trainable, collections, caching_device, partitioner, validate_shape, use_resource, custom_getter, constraint, synchronization, aggregation)\u001b[0m\n\u001b[0;32m   1232\u001b[0m           \u001b[0mconstraint\u001b[0m\u001b[1;33m=\u001b[0m\u001b[0mconstraint\u001b[0m\u001b[1;33m,\u001b[0m\u001b[1;33m\u001b[0m\u001b[0m\n\u001b[0;32m   1233\u001b[0m           \u001b[0msynchronization\u001b[0m\u001b[1;33m=\u001b[0m\u001b[0msynchronization\u001b[0m\u001b[1;33m,\u001b[0m\u001b[1;33m\u001b[0m\u001b[0m\n\u001b[1;32m-> 1234\u001b[1;33m           aggregation=aggregation)\n\u001b[0m\u001b[0;32m   1235\u001b[0m \u001b[1;33m\u001b[0m\u001b[0m\n\u001b[0;32m   1236\u001b[0m   def _get_partitioned_variable(self,\n",
      "\u001b[1;32m~\\Anaconda3\\lib\\site-packages\\tensorflow\\python\\ops\\variable_scope.py\u001b[0m in \u001b[0;36mget_variable\u001b[1;34m(self, name, shape, dtype, initializer, regularizer, reuse, trainable, collections, caching_device, partitioner, validate_shape, use_resource, custom_getter, constraint, synchronization, aggregation)\u001b[0m\n\u001b[0;32m    536\u001b[0m           \u001b[0mconstraint\u001b[0m\u001b[1;33m=\u001b[0m\u001b[0mconstraint\u001b[0m\u001b[1;33m,\u001b[0m\u001b[1;33m\u001b[0m\u001b[0m\n\u001b[0;32m    537\u001b[0m           \u001b[0msynchronization\u001b[0m\u001b[1;33m=\u001b[0m\u001b[0msynchronization\u001b[0m\u001b[1;33m,\u001b[0m\u001b[1;33m\u001b[0m\u001b[0m\n\u001b[1;32m--> 538\u001b[1;33m           aggregation=aggregation)\n\u001b[0m\u001b[0;32m    539\u001b[0m \u001b[1;33m\u001b[0m\u001b[0m\n\u001b[0;32m    540\u001b[0m   def _get_partitioned_variable(self,\n",
      "\u001b[1;32m~\\Anaconda3\\lib\\site-packages\\tensorflow\\python\\ops\\variable_scope.py\u001b[0m in \u001b[0;36m_true_getter\u001b[1;34m(name, shape, dtype, initializer, regularizer, reuse, trainable, collections, caching_device, partitioner, validate_shape, use_resource, constraint, synchronization, aggregation)\u001b[0m\n\u001b[0;32m    490\u001b[0m           \u001b[0mconstraint\u001b[0m\u001b[1;33m=\u001b[0m\u001b[0mconstraint\u001b[0m\u001b[1;33m,\u001b[0m\u001b[1;33m\u001b[0m\u001b[0m\n\u001b[0;32m    491\u001b[0m           \u001b[0msynchronization\u001b[0m\u001b[1;33m=\u001b[0m\u001b[0msynchronization\u001b[0m\u001b[1;33m,\u001b[0m\u001b[1;33m\u001b[0m\u001b[0m\n\u001b[1;32m--> 492\u001b[1;33m           aggregation=aggregation)\n\u001b[0m\u001b[0;32m    493\u001b[0m \u001b[1;33m\u001b[0m\u001b[0m\n\u001b[0;32m    494\u001b[0m     \u001b[1;31m# Set trainable value based on synchronization value.\u001b[0m\u001b[1;33m\u001b[0m\u001b[1;33m\u001b[0m\u001b[0m\n",
      "\u001b[1;32m~\\Anaconda3\\lib\\site-packages\\tensorflow\\python\\ops\\variable_scope.py\u001b[0m in \u001b[0;36m_get_single_variable\u001b[1;34m(self, name, shape, dtype, initializer, regularizer, partition_info, reuse, trainable, collections, caching_device, validate_shape, use_resource, constraint, synchronization, aggregation)\u001b[0m\n\u001b[0;32m    857\u001b[0m                          \u001b[1;34m\"reuse=tf.AUTO_REUSE in VarScope? \"\u001b[0m\u001b[1;33m\u001b[0m\u001b[0m\n\u001b[0;32m    858\u001b[0m                          \"Originally defined at:\\n\\n%s\" % (\n\u001b[1;32m--> 859\u001b[1;33m                              name, \"\".join(traceback.format_list(tb))))\n\u001b[0m\u001b[0;32m    860\u001b[0m       \u001b[0mfound_var\u001b[0m \u001b[1;33m=\u001b[0m \u001b[0mself\u001b[0m\u001b[1;33m.\u001b[0m\u001b[0m_vars\u001b[0m\u001b[1;33m[\u001b[0m\u001b[0mname\u001b[0m\u001b[1;33m]\u001b[0m\u001b[1;33m\u001b[0m\u001b[0m\n\u001b[0;32m    861\u001b[0m       \u001b[1;32mif\u001b[0m \u001b[1;32mnot\u001b[0m \u001b[0mshape\u001b[0m\u001b[1;33m.\u001b[0m\u001b[0mis_compatible_with\u001b[0m\u001b[1;33m(\u001b[0m\u001b[0mfound_var\u001b[0m\u001b[1;33m.\u001b[0m\u001b[0mget_shape\u001b[0m\u001b[1;33m(\u001b[0m\u001b[1;33m)\u001b[0m\u001b[1;33m)\u001b[0m\u001b[1;33m:\u001b[0m\u001b[1;33m\u001b[0m\u001b[0m\n",
      "\u001b[1;31mValueError\u001b[0m: Variable W3 already exists, disallowed. Did you mean to set reuse=True or reuse=tf.AUTO_REUSE in VarScope? Originally defined at:\n\n  File \"C:\\Users\\p\\Anaconda3\\lib\\site-packages\\tensorflow\\python\\framework\\ops.py\", line 1768, in __init__\n    self._traceback = tf_stack.extract_stack()\n  File \"C:\\Users\\p\\Anaconda3\\lib\\site-packages\\tensorflow\\python\\framework\\ops.py\", line 3272, in create_op\n    op_def=op_def)\n  File \"C:\\Users\\p\\Anaconda3\\lib\\site-packages\\tensorflow\\python\\util\\deprecation.py\", line 488, in new_func\n    return func(*args, **kwargs)\n"
     ]
    }
   ],
   "source": [
    "W3 = tf.get_variable(\"W3\",shape=[7*7*64,10],initializer=tf.contrib.layers.xavier_initializer())\n",
    "print(W3)"
   ]
  },
  {
   "cell_type": "code",
   "execution_count": 160,
   "metadata": {},
   "outputs": [
    {
     "data": {
      "text/plain": [
       "<tf.Variable 'Variable_5:0' shape=(10,) dtype=float32_ref>"
      ]
     },
     "execution_count": 160,
     "metadata": {},
     "output_type": "execute_result"
    }
   ],
   "source": [
    "b= tf.Variable(tf.random_normal([10]))\n",
    "b"
   ]
  },
  {
   "cell_type": "code",
   "execution_count": 13,
   "metadata": {},
   "outputs": [],
   "source": [
    "logits =tf.matmul(L2_flat,W3) + b"
   ]
  },
  {
   "cell_type": "code",
   "execution_count": 14,
   "metadata": {},
   "outputs": [
    {
     "name": "stdout",
     "output_type": "stream",
     "text": [
      "Tensor(\"Mean:0\", shape=(), dtype=float32) name: \"Adam\"\n",
      "op: \"NoOp\"\n",
      "input: \"^Adam/update_Variable/ApplyAdam\"\n",
      "input: \"^Adam/update_Variable_1/ApplyAdam\"\n",
      "input: \"^Adam/update_W3/ApplyAdam\"\n",
      "input: \"^Adam/update_Variable_2/ApplyAdam\"\n",
      "input: \"^Adam/Assign\"\n",
      "input: \"^Adam/Assign_1\"\n",
      "\n"
     ]
    }
   ],
   "source": [
    "cost = tf.reduce_mean(tf.nn.softmax_cross_entropy_with_logits_v2(logits=logits,labels=Y))\n",
    "optimizer = tf.train.AdamOptimizer(learning_rate=learning_rate).minimize(cost)\n",
    "print(cost,optimizer)"
   ]
  },
  {
   "cell_type": "code",
   "execution_count": 15,
   "metadata": {},
   "outputs": [],
   "source": [
    "sess = tf.Session()\n",
    "sess.run(tf.global_variables_initializer())"
   ]
  },
  {
   "cell_type": "code",
   "execution_count": 16,
   "metadata": {},
   "outputs": [
    {
     "name": "stdout",
     "output_type": "stream",
     "text": [
      "Learning started. It takes sometime\n"
     ]
    }
   ],
   "source": [
    "print('Learning started. It takes sometime')"
   ]
  },
  {
   "cell_type": "code",
   "execution_count": 17,
   "metadata": {},
   "outputs": [
    {
     "name": "stdout",
     "output_type": "stream",
     "text": [
      "Epoch: 0001 cost = 0.345577185\n",
      "Epoch: 0002 cost = 0.091736604\n",
      "Epoch: 0003 cost = 0.068284046\n",
      "Epoch: 0004 cost = 0.056339833\n",
      "Epoch: 0005 cost = 0.047010720\n",
      "Learning Finished : \n"
     ]
    }
   ],
   "source": [
    "for epoch in range(traning_epochs):\n",
    "    avg_cost = 0\n",
    "    total_batch = int(mnist.train.num_examples/batch_size)\n",
    "    \n",
    "    for i in range(total_batch):\n",
    "        batch_xs, batch_ys = mnist.train.next_batch(batch_size)\n",
    "        feed_dict = {X: batch_xs, Y:batch_ys}\n",
    "        c,_ = sess.run([cost,optimizer],feed_dict=feed_dict)\n",
    "        avg_cost += c/ total_batch\n",
    "    print('Epoch:','%04d' % (epoch+1),'cost =','{:.9f}'.format(avg_cost))\n",
    "print('Learning Finished : ')"
   ]
  },
  {
   "cell_type": "code",
   "execution_count": 19,
   "metadata": {},
   "outputs": [
    {
     "name": "stdout",
     "output_type": "stream",
     "text": [
      "Accuracy: 0.9841\n",
      "Label: [6]\n",
      "Prediction: [6]\n"
     ]
    }
   ],
   "source": [
    "correct_prediction = tf.equal(tf.argmax(logits,1),tf.argmax(Y,1))\n",
    "accuracy = tf.reduce_mean(tf.cast(correct_prediction, tf.float32))\n",
    "print('Accuracy:',sess.run(accuracy,feed_dict={\n",
    "    X: mnist.test.images, Y:mnist.test.labels}))\n",
    "\n",
    "r = random.randint(0,mnist.test.num_examples -1 )\n",
    "print(\"Label:\", sess.run(tf.argmax(mnist.test.labels[r:r+1],1)))\n",
    "print(\"Prediction:\",sess.run(\n",
    "    tf.argmax(logits,1) , feed_dict={\n",
    "        X: mnist.test.images[r:r+1]\n",
    "    }\n",
    "))\n",
    "sess.close()"
   ]
  },
  {
   "cell_type": "code",
   "execution_count": 20,
   "metadata": {},
   "outputs": [
    {
     "data": {
      "text/plain": [
       "2677"
      ]
     },
     "execution_count": 20,
     "metadata": {},
     "output_type": "execute_result"
    }
   ],
   "source": [
    "r"
   ]
  },
  {
   "cell_type": "code",
   "execution_count": 21,
   "metadata": {},
   "outputs": [
    {
     "name": "stdout",
     "output_type": "stream",
     "text": [
      "[0. 0. 0. 0. 0. 0. 1. 0. 0. 0.]\n"
     ]
    }
   ],
   "source": [
    "print(mnist.test.labels[r])"
   ]
  },
  {
   "cell_type": "code",
   "execution_count": 25,
   "metadata": {},
   "outputs": [
    {
     "name": "stdout",
     "output_type": "stream",
     "text": [
      "[array([0.        , 0.        , 0.        , 0.        , 0.        ,\n",
      "       0.        , 0.        , 0.        , 0.        , 0.        ,\n",
      "       0.        , 0.        , 0.        , 0.        , 0.        ,\n",
      "       0.        , 0.        , 0.        , 0.        , 0.        ,\n",
      "       0.        , 0.        , 0.        , 0.        , 0.        ,\n",
      "       0.        , 0.        , 0.        , 0.        , 0.        ,\n",
      "       0.        , 0.        , 0.        , 0.        , 0.        ,\n",
      "       0.        , 0.        , 0.        , 0.        , 0.        ,\n",
      "       0.        , 0.        , 0.        , 0.        , 0.        ,\n",
      "       0.        , 0.        , 0.        , 0.        , 0.        ,\n",
      "       0.        , 0.        , 0.        , 0.        , 0.        ,\n",
      "       0.        , 0.        , 0.        , 0.        , 0.        ,\n",
      "       0.        , 0.        , 0.        , 0.        , 0.        ,\n",
      "       0.        , 0.        , 0.        , 0.        , 0.        ,\n",
      "       0.        , 0.        , 0.        , 0.        , 0.31764707,\n",
      "       0.8862746 , 0.9215687 , 0.        , 0.        , 0.        ,\n",
      "       0.        , 0.        , 0.        , 0.        , 0.        ,\n",
      "       0.        , 0.        , 0.        , 0.        , 0.        ,\n",
      "       0.        , 0.        , 0.        , 0.        , 0.        ,\n",
      "       0.        , 0.        , 0.        , 0.        , 0.        ,\n",
      "       0.        , 0.12941177, 0.8705883 , 0.9960785 , 0.9176471 ,\n",
      "       0.        , 0.        , 0.        , 0.        , 0.        ,\n",
      "       0.        , 0.        , 0.        , 0.        , 0.        ,\n",
      "       0.        , 0.        , 0.        , 0.        , 0.        ,\n",
      "       0.        , 0.        , 0.        , 0.        , 0.        ,\n",
      "       0.        , 0.        , 0.        , 0.21176472, 0.8745099 ,\n",
      "       0.9960785 , 0.95294124, 0.28627452, 0.        , 0.        ,\n",
      "       0.        , 0.        , 0.        , 0.        , 0.        ,\n",
      "       0.        , 0.        , 0.        , 0.        , 0.        ,\n",
      "       0.        , 0.        , 0.        , 0.        , 0.        ,\n",
      "       0.        , 0.        , 0.        , 0.        , 0.        ,\n",
      "       0.42352945, 0.9921569 , 0.9960785 , 0.7725491 , 0.18431373,\n",
      "       0.        , 0.        , 0.        , 0.        , 0.        ,\n",
      "       0.        , 0.        , 0.        , 0.        , 0.        ,\n",
      "       0.        , 0.        , 0.        , 0.        , 0.        ,\n",
      "       0.        , 0.        , 0.        , 0.        , 0.        ,\n",
      "       0.        , 0.        , 0.23137257, 0.9843138 , 0.9960785 ,\n",
      "       0.9215687 , 0.25490198, 0.        , 0.        , 0.        ,\n",
      "       0.        , 0.        , 0.        , 0.        , 0.        ,\n",
      "       0.        , 0.        , 0.        , 0.        , 0.        ,\n",
      "       0.        , 0.        , 0.        , 0.        , 0.        ,\n",
      "       0.        , 0.        , 0.        , 0.        , 0.13333334,\n",
      "       0.882353  , 0.9960785 , 0.95294124, 0.17254902, 0.        ,\n",
      "       0.        , 0.        , 0.        , 0.        , 0.        ,\n",
      "       0.        , 0.        , 0.        , 0.        , 0.        ,\n",
      "       0.        , 0.        , 0.        , 0.        , 0.        ,\n",
      "       0.        , 0.        , 0.        , 0.        , 0.        ,\n",
      "       0.        , 0.        , 0.61960787, 0.9960785 , 0.9725491 ,\n",
      "       0.1137255 , 0.        , 0.        , 0.        , 0.        ,\n",
      "       0.        , 0.        , 0.        , 0.        , 0.        ,\n",
      "       0.        , 0.        , 0.        , 0.        , 0.        ,\n",
      "       0.        , 0.        , 0.        , 0.        , 0.        ,\n",
      "       0.        , 0.        , 0.        , 0.        , 0.2627451 ,\n",
      "       0.94117653, 0.9490197 , 0.29411766, 0.        , 0.        ,\n",
      "       0.        , 0.        , 0.        , 0.        , 0.        ,\n",
      "       0.        , 0.        , 0.        , 0.        , 0.        ,\n",
      "       0.        , 0.        , 0.        , 0.        , 0.        ,\n",
      "       0.        , 0.        , 0.        , 0.        , 0.        ,\n",
      "       0.        , 0.03529412, 0.8000001 , 0.9960785 , 0.6156863 ,\n",
      "       0.        , 0.        , 0.        , 0.        , 0.        ,\n",
      "       0.        , 0.        , 0.        , 0.        , 0.        ,\n",
      "       0.        , 0.        , 0.        , 0.        , 0.        ,\n",
      "       0.        , 0.        , 0.        , 0.        , 0.        ,\n",
      "       0.        , 0.        , 0.        , 0.        , 0.5529412 ,\n",
      "       0.9960785 , 0.73333335, 0.14901961, 0.        , 0.        ,\n",
      "       0.        , 0.        , 0.        , 0.        , 0.        ,\n",
      "       0.        , 0.        , 0.        , 0.        , 0.        ,\n",
      "       0.        , 0.        , 0.        , 0.        , 0.        ,\n",
      "       0.        , 0.        , 0.        , 0.        , 0.        ,\n",
      "       0.        , 0.1137255 , 0.92549026, 0.9960785 , 0.41176474,\n",
      "       0.        , 0.        , 0.        , 0.        , 0.        ,\n",
      "       0.        , 0.        , 0.        , 0.        , 0.        ,\n",
      "       0.        , 0.        , 0.        , 0.        , 0.        ,\n",
      "       0.        , 0.        , 0.        , 0.        , 0.        ,\n",
      "       0.        , 0.        , 0.        , 0.01960784, 0.7372549 ,\n",
      "       0.9960785 , 0.9568628 , 0.45098042, 0.8235295 , 0.9803922 ,\n",
      "       0.9803922 , 0.83921576, 0.3372549 , 0.        , 0.        ,\n",
      "       0.        , 0.        , 0.        , 0.        , 0.        ,\n",
      "       0.        , 0.        , 0.        , 0.        , 0.        ,\n",
      "       0.        , 0.        , 0.        , 0.        , 0.        ,\n",
      "       0.        , 0.10588236, 0.9960785 , 0.9960785 , 0.93725497,\n",
      "       0.9607844 , 0.9960785 , 0.9960785 , 0.9960785 , 0.9960785 ,\n",
      "       0.9686275 , 0.52156866, 0.        , 0.        , 0.        ,\n",
      "       0.        , 0.        , 0.        , 0.        , 0.        ,\n",
      "       0.        , 0.        , 0.        , 0.        , 0.        ,\n",
      "       0.        , 0.        , 0.        , 0.        , 0.32156864,\n",
      "       0.9960785 , 0.9960785 , 0.9960785 , 0.9960785 , 0.9725491 ,\n",
      "       0.8745099 , 0.8745099 , 0.9176471 , 0.9960785 , 0.854902  ,\n",
      "       0.10588236, 0.        , 0.        , 0.        , 0.        ,\n",
      "       0.        , 0.        , 0.        , 0.        , 0.        ,\n",
      "       0.        , 0.        , 0.        , 0.        , 0.        ,\n",
      "       0.        , 0.        , 0.50980395, 0.9960785 , 0.9960785 ,\n",
      "       0.9960785 , 0.6901961 , 0.227451  , 0.        , 0.        ,\n",
      "       0.10196079, 0.9568628 , 0.9960785 , 0.5058824 , 0.        ,\n",
      "       0.        , 0.        , 0.        , 0.        , 0.        ,\n",
      "       0.        , 0.        , 0.        , 0.        , 0.        ,\n",
      "       0.        , 0.        , 0.        , 0.        , 0.        ,\n",
      "       0.8470589 , 1.        , 0.9960785 , 0.9960785 , 0.23529413,\n",
      "       0.        , 0.        , 0.        , 0.37647063, 0.9686275 ,\n",
      "       0.9960785 , 0.4784314 , 0.        , 0.        , 0.        ,\n",
      "       0.        , 0.        , 0.        , 0.        , 0.        ,\n",
      "       0.        , 0.        , 0.        , 0.        , 0.        ,\n",
      "       0.        , 0.        , 0.        , 0.50980395, 0.9960785 ,\n",
      "       0.9960785 , 0.9960785 , 0.46274513, 0.        , 0.        ,\n",
      "       0.32941177, 0.9215687 , 0.9960785 , 0.78823537, 0.03529412,\n",
      "       0.        , 0.        , 0.        , 0.        , 0.        ,\n",
      "       0.        , 0.        , 0.        , 0.        , 0.        ,\n",
      "       0.        , 0.        , 0.        , 0.        , 0.        ,\n",
      "       0.        , 0.28235295, 0.86274517, 0.9960785 , 0.9960785 ,\n",
      "       0.882353  , 0.8588236 , 0.8588236 , 0.9960785 , 0.9960785 ,\n",
      "       0.94117653, 0.21568629, 0.        , 0.        , 0.        ,\n",
      "       0.        , 0.        , 0.        , 0.        , 0.        ,\n",
      "       0.        , 0.        , 0.        , 0.        , 0.        ,\n",
      "       0.        , 0.        , 0.        , 0.        , 0.        ,\n",
      "       0.37254903, 0.9725491 , 0.9960785 , 0.9960785 , 0.9960785 ,\n",
      "       0.9960785 , 0.9960785 , 0.9176471 , 0.34509805, 0.        ,\n",
      "       0.        , 0.        , 0.        , 0.        , 0.        ,\n",
      "       0.        , 0.        , 0.        , 0.        , 0.        ,\n",
      "       0.        , 0.        , 0.        , 0.        , 0.        ,\n",
      "       0.        , 0.        , 0.        , 0.        , 0.3803922 ,\n",
      "       0.9960785 , 0.8235295 , 0.5882353 , 0.5882353 , 0.35686275,\n",
      "       0.11764707, 0.        , 0.        , 0.        , 0.        ,\n",
      "       0.        , 0.        , 0.        , 0.        , 0.        ,\n",
      "       0.        , 0.        , 0.        , 0.        , 0.        ,\n",
      "       0.        , 0.        , 0.        , 0.        , 0.        ,\n",
      "       0.        , 0.        , 0.        , 0.        , 0.        ,\n",
      "       0.        , 0.        , 0.        , 0.        , 0.        ,\n",
      "       0.        , 0.        , 0.        , 0.        , 0.        ,\n",
      "       0.        , 0.        , 0.        , 0.        , 0.        ,\n",
      "       0.        , 0.        , 0.        , 0.        , 0.        ,\n",
      "       0.        , 0.        , 0.        , 0.        , 0.        ,\n",
      "       0.        , 0.        , 0.        , 0.        , 0.        ,\n",
      "       0.        , 0.        , 0.        , 0.        , 0.        ,\n",
      "       0.        , 0.        , 0.        , 0.        , 0.        ,\n",
      "       0.        , 0.        , 0.        , 0.        , 0.        ,\n",
      "       0.        , 0.        , 0.        , 0.        , 0.        ,\n",
      "       0.        , 0.        , 0.        , 0.        , 0.        ,\n",
      "       0.        , 0.        , 0.        , 0.        , 0.        ,\n",
      "       0.        , 0.        , 0.        , 0.        , 0.        ,\n",
      "       0.        , 0.        , 0.        , 0.        , 0.        ,\n",
      "       0.        , 0.        , 0.        , 0.        , 0.        ,\n",
      "       0.        , 0.        , 0.        , 0.        , 0.        ,\n",
      "       0.        , 0.        , 0.        , 0.        , 0.        ,\n",
      "       0.        , 0.        , 0.        , 0.        , 0.        ,\n",
      "       0.        , 0.        , 0.        , 0.        , 0.        ,\n",
      "       0.        , 0.        , 0.        , 0.        , 0.        ,\n",
      "       0.        , 0.        , 0.        , 0.        , 0.        ,\n",
      "       0.        , 0.        , 0.        , 0.        , 0.        ,\n",
      "       0.        , 0.        , 0.        , 0.        , 0.        ,\n",
      "       0.        , 0.        , 0.        , 0.        , 0.        ,\n",
      "       0.        , 0.        , 0.        , 0.        , 0.        ,\n",
      "       0.        , 0.        , 0.        , 0.        , 0.        ,\n",
      "       0.        , 0.        , 0.        , 0.        , 0.        ,\n",
      "       0.        , 0.        , 0.        , 0.        , 0.        ,\n",
      "       0.        , 0.        , 0.        , 0.        , 0.        ,\n",
      "       0.        , 0.        , 0.        , 0.        , 0.        ,\n",
      "       0.        , 0.        , 0.        , 0.        ], dtype=float32)]\n"
     ]
    }
   ],
   "source": [
    "print([mnist.test.images[r]])"
   ]
  },
  {
   "cell_type": "code",
   "execution_count": 26,
   "metadata": {},
   "outputs": [
    {
     "data": {
      "text/plain": [
       "10000"
      ]
     },
     "execution_count": 26,
     "metadata": {},
     "output_type": "execute_result"
    }
   ],
   "source": [
    "mnist.test.num_examples"
   ]
  },
  {
   "cell_type": "markdown",
   "metadata": {},
   "source": [
    "# Gradient Descent"
   ]
  },
  {
   "cell_type": "code",
   "execution_count": 34,
   "metadata": {},
   "outputs": [],
   "source": [
    "import numpy as np\n",
    "import matplotlib.pyplot as plt"
   ]
  },
  {
   "cell_type": "code",
   "execution_count": 28,
   "metadata": {},
   "outputs": [],
   "source": [
    "np.random.seed(2222)\n",
    "X = np.array([1,2,4])\n",
    "Y = np.array([2,4,8])"
   ]
  },
  {
   "cell_type": "code",
   "execution_count": 30,
   "metadata": {},
   "outputs": [],
   "source": [
    "W=np.random.random([1])\n",
    "hypothesis = W*X"
   ]
  },
  {
   "cell_type": "code",
   "execution_count": 35,
   "metadata": {},
   "outputs": [
    {
     "data": {
      "image/png": "[encoded data removed]",
      "text/plain": [
       "<Figure size 432x288 with 1 Axes>"
      ]
     },
     "metadata": {},
     "output_type": "display_data"
    }
   ],
   "source": [
    "plt.plot(X,Y,'o')\n",
    "plt.plot(X,hypothesis)\n",
    "plt.show()"
   ]
  },
  {
   "cell_type": "code",
   "execution_count": 36,
   "metadata": {},
   "outputs": [
    {
     "name": "stdout",
     "output_type": "stream",
     "text": [
      "[-1.71101451 -3.42202903 -6.84405806]\n",
      "-11.97710160165343\n"
     ]
    }
   ],
   "source": [
    "cost = hypothesis - Y\n",
    "print(cost)\n",
    "print(cost.sum())"
   ]
  },
  {
   "cell_type": "code",
   "execution_count": 37,
   "metadata": {},
   "outputs": [],
   "source": [
    "np.random.seed(2222)\n",
    "X = np.array([1,2,4])\n",
    "Y = np.array([2,4,8])"
   ]
  },
  {
   "cell_type": "code",
   "execution_count": 38,
   "metadata": {},
   "outputs": [],
   "source": [
    "W=np.random.random([1])\n",
    "hypothesis = W*X\n",
    "cost = hypothesis - Y"
   ]
  },
  {
   "cell_type": "code",
   "execution_count": 39,
   "metadata": {},
   "outputs": [
    {
     "name": "stdout",
     "output_type": "stream",
     "text": [
      "[-1.27279982 -2.54559964 -5.09119928]\n",
      "8.909598742500547\n",
      "34.020407036728855\n"
     ]
    }
   ],
   "source": [
    "print(cost)\n",
    "print(np.abs(cost).sum())\n",
    "print((cost**2).sum())"
   ]
  },
  {
   "cell_type": "markdown",
   "metadata": {},
   "source": [
    "# 절대값과 제곱의 차이"
   ]
  },
  {
   "cell_type": "code",
   "execution_count": 96,
   "metadata": {},
   "outputs": [],
   "source": [
    "np.random.seed(2222)\n",
    "X = np.array([1,2,4])\n",
    "Y = np.array([2,4,8])\n",
    "\n",
    "W_val = []\n",
    "cost_val = []\n",
    "cost_val2 = []"
   ]
  },
  {
   "cell_type": "code",
   "execution_count": 97,
   "metadata": {},
   "outputs": [],
   "source": [
    "for W in range(-30,50):\n",
    "    W /= 10 # x축값 만들기\n",
    "    hypothesis = W*X\n",
    "    cost = hypothesis - Y\n",
    "    W_val.append(W)\n",
    "    cost_val.append((cost**2).sum())\n",
    "    cost_val2.append(np.abs(cost).sum())"
   ]
  },
  {
   "cell_type": "code",
   "execution_count": 49,
   "metadata": {},
   "outputs": [
    {
     "data": {
      "image/png": "[encoded data removed]",
      "text/plain": [
       "<Figure size 432x288 with 2 Axes>"
      ]
     },
     "metadata": {},
     "output_type": "display_data"
    }
   ],
   "source": [
    "plt.subplot(2,1,1)\n",
    "plt.plot(W_val,cost_val)\n",
    "\n",
    "plt.subplot(2,1,2)\n",
    "plt.plot(W_val,cost_val2)\n",
    "\n",
    "3plt.show()"
   ]
  },
  {
   "cell_type": "markdown",
   "metadata": {},
   "source": [
    "# 미분 라이브러리"
   ]
  },
  {
   "cell_type": "code",
   "execution_count": 52,
   "metadata": {},
   "outputs": [],
   "source": [
    "import sympy as sp"
   ]
  },
  {
   "cell_type": "code",
   "execution_count": 53,
   "metadata": {},
   "outputs": [],
   "source": [
    "x = sp.symbols('x')\n",
    "y = sp.symbols('y')\n",
    "f = x*sp.sin(x)+y\n",
    "diff_x = sp.diff(f,x)\n",
    "diff_y = sp.diff(f,y)"
   ]
  },
  {
   "cell_type": "code",
   "execution_count": 54,
   "metadata": {},
   "outputs": [
    {
     "name": "stdout",
     "output_type": "stream",
     "text": [
      "x*cos(x) + sin(x)\n"
     ]
    }
   ],
   "source": [
    "print(diff_x)"
   ]
  },
  {
   "cell_type": "code",
   "execution_count": 55,
   "metadata": {},
   "outputs": [
    {
     "name": "stdout",
     "output_type": "stream",
     "text": [
      "1\n"
     ]
    }
   ],
   "source": [
    "print(diff_y)"
   ]
  },
  {
   "cell_type": "code",
   "execution_count": 56,
   "metadata": {},
   "outputs": [
    {
     "name": "stdout",
     "output_type": "stream",
     "text": [
      "cos(1) + sin(1)\n"
     ]
    }
   ],
   "source": [
    "print(diff_x.subs({x:1}))"
   ]
  },
  {
   "cell_type": "markdown",
   "metadata": {},
   "source": [
    "# Linear regression code"
   ]
  },
  {
   "cell_type": "code",
   "execution_count": 78,
   "metadata": {},
   "outputs": [],
   "source": [
    "X = np.array([1,2,4])\n",
    "Y = np.array([2,4,8])"
   ]
  },
  {
   "cell_type": "code",
   "execution_count": 79,
   "metadata": {},
   "outputs": [],
   "source": [
    "W = np.random.random([1])\n",
    "cost = (np.sum((X*W-Y)**2))/X.size"
   ]
  },
  {
   "cell_type": "code",
   "execution_count": 80,
   "metadata": {},
   "outputs": [],
   "source": [
    "sp_W = sp.symbols('W')\n",
    "sp_cost = (np.sum((X*sp_W - Y))**2) / X.size"
   ]
  },
  {
   "cell_type": "code",
   "execution_count": 81,
   "metadata": {},
   "outputs": [],
   "source": [
    "f=sp.diff(sp_cost,sp_W)"
   ]
  },
  {
   "cell_type": "code",
   "execution_count": 82,
   "metadata": {},
   "outputs": [
    {
     "name": "stdout",
     "output_type": "stream",
     "text": [
      "diff function: 98*W/3 - 196/3\n",
      "d/dw(func(1)): -98/3\n",
      "d/dw(func(1.5)): -16.3333333333333\n",
      "d/dw(func(1.8)): -6.53333333333333\n",
      "d/dw(func(1.9)): -3.26666666666667\n",
      "w , d/dw(func(w)): [0.72706081] -41.5826802967167\n"
     ]
    }
   ],
   "source": [
    "print('diff function:',f)\n",
    "print('d/dw(func(1)):',f.subs({sp_W:1}))\n",
    "print('d/dw(func(1.5)):',f.subs({sp_W:1.5}))\n",
    "print('d/dw(func(1.8)):',f.subs({sp_W:1.8}))\n",
    "print('d/dw(func(1.9)):',f.subs({sp_W:1.9}))\n",
    "print('w , d/dw(func(w)):',W,f.subs({sp_W:W}))"
   ]
  },
  {
   "cell_type": "markdown",
   "metadata": {},
   "source": [
    "# Gradient Descent example"
   ]
  },
  {
   "cell_type": "code",
   "execution_count": 112,
   "metadata": {
    "scrolled": true
   },
   "outputs": [
    {
     "name": "stdout",
     "output_type": "stream",
     "text": [
      "W, d/dw(func(W)) : [1.14298145429280] -27.9959391597684\n",
      "W, d/dw(func(W)) : [1.42294084589049] -18.8505990342440\n",
      "W, d/dw(func(W)) : [1.61144683623293] -12.6927366830577\n",
      "W, d/dw(func(W)) : [1.73837420306351] -8.54644269992549\n",
      "W, d/dw(func(W)) : [1.82383863006276] -5.75460475128317\n",
      "W, d/dw(func(W)) : [1.88138467757559] -3.87476719919733\n",
      "W, d/dw(func(W)) : [1.92013234956757] -2.60900991412620\n",
      "W, d/dw(func(W)) : [1.94622244870883] -1.75673334217831\n",
      "W, d/dw(func(W)) : [1.96378978213061] -1.18286711706672\n",
      "W, d/dw(func(W)) : [1.97561845330128] -0.796463858824922\n",
      "W, d/dw(func(W)) : [1.98358309188953] -0.536285664942113\n",
      "W, d/dw(func(W)) : [1.98894594853895] -0.361099014394370\n",
      "W, d/dw(func(W)) : [1.99255693868289] -0.243140003025545\n",
      "W, d/dw(func(W)) : [1.99498833871315] -0.163714268703856\n",
      "W, d/dw(func(W)) : [1.99662548140019] -0.110234274260606\n",
      "W, d/dw(func(W)) : [1.99772782414279] -0.0742244113354786\n",
      "W, d/dw(func(W)) : [1.99847006825615] -0.0499777702992219\n",
      "W, d/dw(func(W)) : [1.99896984595914] -0.0336516986681374\n",
      "W, d/dw(func(W)) : [1.99930636294582] -0.0226588104365391\n",
      "W, d/dw(func(W)) : [1.99953295105019] -0.0152569323606002\n"
     ]
    }
   ],
   "source": [
    "X = np.array([1,2,4])\n",
    "Y = np.array([2,4,8])\n",
    "np.random.seed(2222)\n",
    "W = np.random.random([1])\n",
    "sp_W = sp.symbols('W')\n",
    "cost = (np.sum((X*W - Y))**2) / X.size\n",
    "\n",
    "sp_W = sp.symbols('W')\n",
    "sp_cost = (np.sum((X*sp_W - Y))**2)/X.size\n",
    "f = sp.diff(sp_cost , sp_W)\n",
    "learning_rate=0.01\n",
    "for step in range(20):\n",
    "    W = W - learning_rate * f.subs({sp_W:W})\n",
    "    print('W, d/dw(func(W)) :',W,f.subs({sp_W:W}))"
   ]
  },
  {
   "cell_type": "code",
   "execution_count": 116,
   "metadata": {},
   "outputs": [
    {
     "data": {
      "image/png": "[encoded data removed]",
      "text/plain": [
       "<Figure size 432x288 with 1 Axes>"
      ]
     },
     "metadata": {},
     "output_type": "display_data"
    }
   ],
   "source": [
    "X = np.array([1,2,4])\n",
    "Y = np.array([2,4,8])\n",
    "np.random.seed(2222)\n",
    "W = np.random.random([1])\n",
    "sp_W = sp.symbols('W')\n",
    "cost = (np.sum((X*W - Y))**2) / X.size\n",
    "\n",
    "sp_W = sp.symbols('W')\n",
    "sp_cost = (np.sum((X*sp_W - Y))**2)/X.size\n",
    "f = sp.diff(sp_cost , sp_W)\n",
    "learning_rate=0.01\n",
    "for step in range(20):\n",
    "    W = W - learning_rate * f.subs({sp_W:W})\n",
    "    \n",
    "hypothesis = W*X\n",
    "\n",
    "plt.plot(X,Y,'o')\n",
    "plt.plot(X,hypothesis)\n",
    "plt.show()"
   ]
  },
  {
   "cell_type": "code",
   "execution_count": 117,
   "metadata": {},
   "outputs": [
    {
     "name": "stdout",
     "output_type": "stream",
     "text": [
      "3시간 놀명 행복지수는 [5.99859885315056]\n"
     ]
    }
   ],
   "source": [
    "X = np.array([1,2,4])\n",
    "Y = np.array([2,4,8])\n",
    "np.random.seed(2222)\n",
    "W = np.random.random([1])\n",
    "sp_W = sp.symbols('W')\n",
    "cost = (np.sum((X*W - Y))**2) / X.size\n",
    "\n",
    "sp_W = sp.symbols('W')\n",
    "sp_cost = (np.sum((X*sp_W - Y))**2)/X.size\n",
    "f = sp.diff(sp_cost , sp_W)\n",
    "learning_rate=0.01\n",
    "for step in range(20):\n",
    "    W = W - learning_rate * f.subs({sp_W:W})\n",
    "    \n",
    "hypothesis = (lambda input : input*W)\n",
    "/\n",
    "print('3시간 놀명 행복지수는',hypothesis(3))"
   ]
  },
  {
   "cell_type": "code",
   "execution_count": 163,
   "metadata": {},
   "outputs": [],
   "source": [
    "tf.set_random_seed(2222)\n",
    "learning_rate = 0.01\n",
    "X_data = np.array([1,2,4])\n",
    "Y_data = np.array([2,4,8])"
   ]
  },
  {
   "cell_type": "code",
   "execution_count": 164,
   "metadata": {},
   "outputs": [],
   "source": [
    "X = tf.placeholder(tf.float32,[3])\n",
    "Y = tf.placeholder(tf.float32,[3])"
   ]
  },
  {
   "cell_type": "code",
   "execution_count": 165,
   "metadata": {},
   "outputs": [],
   "source": [
    "W = tf.Variable(tf.random_normal([1]),name='weight')\n",
    "hypothesis = X*W\n",
    "cost = tf.reduce_mean(tf.square(hypothesis-Y))"
   ]
  },
  {
   "cell_type": "code",
   "execution_count": 166,
   "metadata": {},
   "outputs": [],
   "source": [
    "optimizer = tf.train.GradientDescentOptimizer(learning_rate=learning_rate)\n",
    "train = optimizer.minimize(cost)"
   ]
  },
  {
   "cell_type": "code",
   "execution_count": 167,
   "metadata": {},
   "outputs": [],
   "source": [
    "sess = tf.Session()\n",
    "'sess.run(tf.global_variables_initializer())"
   ]
  },
  {
   "cell_type": "code",
   "execution_count": 168,
   "metadata": {},
   "outputs": [
    {
     "name": "stdout",
     "output_type": "stream",
     "text": [
      "step:  1 cost : 37.144596 W : [0.01894161]\n",
      "step:  2 cost : 27.472145 W : [0.29628977]\n",
      "step:  3 cost : 20.3184 W : [0.53480923]\n",
      "step:  4 cost : 15.027489 W : [0.73993593]\n",
      "step:  5 cost : 11.114331 W : [0.9163449]\n",
      "step:  6 cost : 8.220159 W : [1.0680566]\n",
      "step:  7 cost : 6.07963 W : [1.1985286]\n",
      "step:  8 cost : 4.4964943 W : [1.3107346]\n",
      "step:  9 cost : 3.3256073 W : [1.4072318]\n",
      "step:  10 cost : 2.4596188 W : [1.4902194]\n",
      "step:  11 cost : 1.8191341 W : [1.5615886]\n",
      "step:  12 cost : 1.3454317 W : [1.6229663]\n",
      "step:  13 cost : 0.99508095 W : [1.675751]\n",
      "step:  14 cost : 0.735962 W : [1.7211459]\n",
      "step:  15 cost : 0.54431736 W : [1.7601855]\n",
      "step:  16 cost : 0.40257704 W : [1.7937595]\n",
      "step:  17 cost : 0.29774612 W : [1.8226331]\n",
      "step:  18 cost : 0.220213 W : [1.8474646]\n",
      "step:  19 cost : 0.16286942 W : [1.8688195]\n",
      "step:  20 cost : 0.12045831 W : [1.8871847]\n"
     ]
    }
   ],
   "source": [
    "for step in range(20):\n",
    "    cost_val, W_val, _ = sess.run([cost,W,train],feed_dict={X:X_data,Y:Y_data})\n",
    "    print(\"step: \",step+1,\"cost :\",cost_val,\"W :\",W_val)"
   ]
  },
  {
   "cell_type": "code",
   "execution_count": 169,
   "metadata": {},
   "outputs": [
    {
     "name": "stdout",
     "output_type": "stream",
     "text": [
      "3시간 놀면 행복지수는 [5.6615543]\n"
     ]
    }
   ],
   "source": [
    "print(\"3시간 놀면 행복지수는\",sess.run(3*W))\n",
    "sess.close()"
   ]
  },
  {
   "cell_type": "markdown",
   "metadata": {},
   "source": [
    "# Perceptron"
   ]
  },
  {
   "cell_type": "code",
   "execution_count": 170,
   "metadata": {},
   "outputs": [],
   "source": [
    "import tensorflow as tf"
   ]
  },
  {
   "cell_type": "code",
   "execution_count": 171,
   "metadata": {},
   "outputs": [],
   "source": [
    "X_data = [[0,0],[0,1],[1,0],[1,1]]"
   ]
  },
  {
   "cell_type": "code",
   "execution_count": 174,
   "metadata": {},
   "outputs": [],
   "source": [
    "X = tf.placeholder(tf.float32,[None,2])\n",
    "W =  tf.Variable([[2.],[4.]],name=\"wieght\")\n",
    "b=tf.Variable([1.],name=\"bias\")"
   ]
  },
  {
   "cell_type": "code",
   "execution_count": 175,
   "metadata": {},
   "outputs": [],
   "source": [
    "hypothesis = tf.matmul(X,W) + b"
   ]
  },
  {
   "cell_type": "code",
   "execution_count": 176,
   "metadata": {},
   "outputs": [
    {
     "name": "stdout",
     "output_type": "stream",
     "text": [
      "[[2.]\n",
      " [4.]]\n",
      "[[1.]\n",
      " [5.]\n",
      " [3.]\n",
      " [7.]]\n"
     ]
    }
   ],
   "source": [
    "with tf.Session() as sess:\n",
    "    sess.run(tf.global_variables_initializer())\n",
    "    print(sess.run(W))\n",
    "    print(sess.run(hypothesis,feed_dict={X:X_data}))"
   ]
  },
  {
   "cell_type": "markdown",
   "metadata": {},
   "source": [
    "## 정답 데이터"
   ]
  },
  {
   "cell_type": "code",
   "execution_count": 202,
   "metadata": {},
   "outputs": [],
   "source": [
    "X_data = [[1,1]]\n",
    "Y_data = [[1]]"
   ]
  },
  {
   "cell_type": "code",
   "execution_count": 203,
   "metadata": {},
   "outputs": [],
   "source": [
    "X = tf.placeholder(tf.float32,[None,2])\n",
    "Y = tf.placeholder(tf.float32,[None,1])\n"
   ]
  },
  {
   "cell_type": "code",
   "execution_count": 204,
   "metadata": {},
   "outputs": [],
   "source": [
    "W =  tf.Variable([[2.],[4.]],name=\"wieght\")\n",
    "b=tf.Variable([1.],name=\"bias\")"
   ]
  },
  {
   "cell_type": "code",
   "execution_count": 205,
   "metadata": {},
   "outputs": [],
   "source": [
    "hypothesis = tf.matmul(X,W)+b\n",
    "cost = tf.square(hypothesis-Y)\n",
    "optimizer = tf.train.GradientDescentOptimizer(learning_rate=0.1)\n",
    "train = optimizer.minimize(cost)"
   ]
  },
  {
   "cell_type": "code",
   "execution_count": 206,
   "metadata": {},
   "outputs": [
    {
     "name": "stdout",
     "output_type": "stream",
     "text": [
      "W: [[2. 4.]] b: [1.] cost:  [[36.]]\n",
      "W: [[0.79999995 2.8       ]] b: [-0.20000005] cost:  [[5.7599993]]\n",
      "W: [[0.31999996 2.32      ]] b: [-0.68000007] cost:  [[0.9215996]]\n",
      "W: [[0.128 2.128]] b: [-0.87200004] cost:  [[0.14745605]]\n",
      "W: [[0.05119999 2.0512    ]] b: [-0.9488] cost:  [[0.02359288]]\n",
      "W: [[0.02048005 2.02048   ]] b: [-0.97951996] cost:  [[0.00377489]]\n",
      "W: [[0.00819202 2.0081918 ]] b: [-0.991808] cost:  [[0.00060398]]\n"
     ]
    }
   ],
   "source": [
    "with tf.Session() as sess:\n",
    "    sess.run(tf.global_variables_initializer())\n",
    "    for step in range(7):\n",
    "        W_val,b_val,cost_val = sess.run([W,b,cost],\n",
    "                                       feed_dict={X:X_data,Y:Y_data})\n",
    "        sess.run(train,feed_dict={X:X_data,Y:Y_data})\n",
    "        print(\"W:\",W_val.reshape(1,2), \"b:\",b_val,\"cost: \",cost_val)"
   ]
  },
  {
   "cell_type": "markdown",
   "metadata": {},
   "source": [
    "# AND Gate"
   ]
  },
  {
   "cell_type": "code",
   "execution_count": 229,
   "metadata": {},
   "outputs": [],
   "source": [
    "X_data = [[0,0],[0,1],[1,0],[1,1]]\n",
    "Y_data = [[0],[0],[0],[1]]"
   ]
  },
  {
   "cell_type": "code",
   "execution_count": 230,
   "metadata": {},
   "outputs": [],
   "source": [
    "X = tf.placeholder(tf.float32,[None,2])\n",
    "Y = tf.placeholder(tf.float32,[None,1])\n"
   ]
  },
  {
   "cell_type": "code",
   "execution_count": 231,
   "metadata": {},
   "outputs": [],
   "source": [
    "W =  tf.Variable([[2.],[4.]],name=\"wieght\")\n",
    "b=tf.Variable([1.],name=\"bias\")"
   ]
  },
  {
   "cell_type": "code",
   "execution_count": 232,
   "metadata": {},
   "outputs": [],
   "source": [
    "hypothesis = tf.matmul(X,W)+b\n",
    "cost = tf.square(hypothesis-Y)\n",
    "optimizer = tf.train.GradientDescentOptimizer(learning_rate=0.1)\n",
    "train = optimizer.minimize(cost)\n",
    "predicted = tf.cast(hypothesis>0.5,dtype=tf.float32)"
   ]
  },
  {
   "cell_type": "code",
   "execution_count": 233,
   "metadata": {},
   "outputs": [
    {
     "name": "stdout",
     "output_type": "stream",
     "text": [
      "W: [[0.5000001 0.5000001]] b: [-0.25000012] cost: [[0.06250006]\n",
      " [0.0625    ]\n",
      " [0.0625    ]\n",
      " [0.06249994]] hypothesis:  [[-0.25000012]\n",
      " [ 0.25      ]\n",
      " [ 0.25      ]\n",
      " [ 0.7500001 ]] predicted:  [[0.]\n",
      " [0.]\n",
      " [0.]\n",
      " [1.]]\n"
     ]
    }
   ],
   "source": [
    "with tf.Session() as sess:\n",
    "    sess.run(tf.global_variables_initializer())\n",
    "    for step in range(1000):\n",
    "        sess.run(train,feed_dict={X:X_data,Y:Y_data})\n",
    "        W_val, b_val, cost_val, hyp_val,pre_val = sess.run(\n",
    "        [W,b,cost,hypothesis,predicted],feed_dict={X:X_data,Y:Y_data}\n",
    "        )\n",
    "    print(\"W:\", W_val.reshape(1,2),\"b:\",b_val,\"cost:\",cost_val,\"hypothesis: \",hyp_val,\"predicted: \",pre_val) "
   ]
  },
  {
   "cell_type": "code",
   "execution_count": 228,
   "metadata": {},
   "outputs": [],
   "source": [
    "tf.reset_default_graph()"
   ]
  },
  {
   "cell_type": "markdown",
   "metadata": {},
   "source": [
    "# Sigmoid"
   ]
  },
  {
   "cell_type": "code",
   "execution_count": 234,
   "metadata": {},
   "outputs": [],
   "source": [
    "X_data = [[0,0],[0,1],[1,0],[1,1]]\n",
    "Y_data = [[0],[0],[0],[1]]\n",
    "X = tf.placeholder(tf.float32,[None,2])\n",
    "Y = tf.placeholder(tf.float32,[None,1])\n",
    "W =  tf.Variable([[2.],[4.]],name=\"wieght\")\n",
    "b=tf.Variable([1.],name=\"bias\")"
   ]
  },
  {
   "cell_type": "code",
   "execution_count": 240,
   "metadata": {},
   "outputs": [],
   "source": [
    "hypothesis = tf.sigmoid(tf.matmul(X,W)+b) \n",
    "# cost = tf.square(hypothesis-Y)\n",
    "cost = -tf.reduce_mean(Y*tf.log(hypothesis)+(1-Y)*tf.log(1-hypothesis))\n",
    "optimizer = tf.train.GradientDescentOptimizer(learning_rate=0.1)\n",
    "train = optimizer.minimize(cost)\n",
    "predicted = tf.cast(hypothesis>0.5,dtype=tf.float32)"
   ]
  },
  {
   "cell_type": "code",
   "execution_count": 241,
   "metadata": {},
   "outputs": [
    {
     "name": "stdout",
     "output_type": "stream",
     "text": [
      "W: [[3.3827615 3.4324124]] b: [-5.3185835] cost:  0.12072968 hypothesis:  [[0.0048758 ]\n",
      " [0.13168165]\n",
      " [0.12610757]\n",
      " [0.8170654 ]] predicted:  [[0.]\n",
      " [0.]\n",
      " [0.]\n",
      " [1.]]\n"
     ]
    }
   ],
   "source": [
    "with tf.Session() as sess:\n",
    "    sess.run(tf.global_variables_initializer())\n",
    "    for step in range(1000):\n",
    "        sess.run(train,feed_dict={X:X_data,Y:Y_data})\n",
    "        W_val, b_val, cost_val, hyp_val,pre_val = sess.run(\n",
    "        [W,b,cost,hypothesis,predicted],feed_dict={X:X_data,Y:Y_data}\n",
    "        )\n",
    "    print(\"W:\", W_val.reshape(1,2),\"b:\",b_val,\"cost: \",cost_val,\"hypothesis: \",hyp_val,\"predicted: \",pre_val) "
   ]
  },
  {
   "cell_type": "markdown",
   "metadata": {},
   "source": [
    "# Softmax"
   ]
  },
  {
   "cell_type": "code",
   "execution_count": 4,
   "metadata": {},
   "outputs": [],
   "source": [
    "import numpy as np"
   ]
  },
  {
   "cell_type": "code",
   "execution_count": 6,
   "metadata": {},
   "outputs": [
    {
     "data": {
      "text/plain": [
       "0.6590011388859679"
      ]
     },
     "execution_count": 6,
     "metadata": {},
     "output_type": "execute_result"
    }
   ],
   "source": [
    "np.exp(2) / (np.exp(2)+np.exp(1)+np.exp(0.1))"
   ]
  },
  {
   "cell_type": "code",
   "execution_count": 7,
   "metadata": {},
   "outputs": [
    {
     "data": {
      "text/plain": [
       "0.2424329707047139"
      ]
     },
     "execution_count": 7,
     "metadata": {},
     "output_type": "execute_result"
    }
   ],
   "source": [
    "np.exp(1) / (np.exp(2)+np.exp(1)+np.exp(0.1))"
   ]
  },
  {
   "cell_type": "code",
   "execution_count": 8,
   "metadata": {},
   "outputs": [
    {
     "data": {
      "text/plain": [
       "0.09856589040931818"
      ]
     },
     "execution_count": 8,
     "metadata": {},
     "output_type": "execute_result"
    }
   ],
   "source": [
    "np.exp(0.1) / (np.exp(2)+np.exp(1)+np.exp(0.1))"
   ]
  },
  {
   "cell_type": "markdown",
   "metadata": {},
   "source": [
    "### argmax는 첫번째 파라미터의 최대값의 인덱스를 반환한다. 두번째 파라미터는 axis 값이다."
   ]
  },
  {
   "cell_type": "code",
   "execution_count": 18,
   "metadata": {
    "scrolled": false
   },
   "outputs": [
    {
     "name": "stdout",
     "output_type": "stream",
     "text": [
      "0 7.617276\n",
      "200 0.5760485\n",
      "400 0.46889427\n",
      "600 0.39161724\n",
      "800 0.3201337\n",
      "1000 0.24982867\n",
      "1200 0.22186035\n",
      "1400 0.2021348\n",
      "1600 0.18552387\n",
      "1800 0.1713487\n",
      "2000 0.15911701\n",
      "--------------\n",
      "[[9.63493437e-03 9.90354061e-01 1.10147985e-05]] [1] w_val: [[-3.1963801   1.3862532   3.7835743 ]\n",
      " [-1.437983   -1.0502657  -0.24418539]\n",
      " [ 3.979966   -0.49463877 -2.5772676 ]\n",
      " [-1.7584865   0.9929392  -0.60073036]]\n",
      "--------------\n",
      "[[0.8072407  0.17068322 0.02207607]] [0]\n",
      "--------------\n",
      "[[1.6381939e-08 3.8557901e-04 9.9961436e-01]] [2]\n",
      "--------------\n",
      "[[9.63493437e-03 9.90354061e-01 1.10147985e-05]\n",
      " [8.07240725e-01 1.70683220e-01 2.20760740e-02]\n",
      " [1.63819394e-08 3.85579013e-04 9.99614358e-01]] [1 0 2]\n"
     ]
    }
   ],
   "source": [
    "# Lab 6 Softmax Classifier\n",
    "\n",
    "import tensorflow as tf\n",
    "\n",
    "tf.set_random_seed(777)  # for reproducibility\n",
    "\n",
    "\n",
    "\n",
    "x_data = [[1, 2, 1, 1],\n",
    "\n",
    "          [2, 1, 3, 2],\n",
    "\n",
    "          [3, 1, 3, 4],\n",
    "\n",
    "          [4, 1, 5, 5],\n",
    "\n",
    "          [1, 7, 5, 5],\n",
    "\n",
    "          [1, 2, 5, 6],\n",
    "\n",
    "          [1, 6, 6, 6],\n",
    "\n",
    "          [1, 7, 7, 7]]\n",
    "\n",
    "y_data = [[0, 0, 1],\n",
    "\n",
    "          [0, 0, 1],\n",
    "\n",
    "          [0, 0, 1],\n",
    "\n",
    "          [0, 1, 0],\n",
    "\n",
    "          [0, 1, 0],\n",
    "\n",
    "          [0, 1, 0],\n",
    "\n",
    "          [1, 0, 0],\n",
    "\n",
    "          [1, 0, 0]]\n",
    "\n",
    "\n",
    "\n",
    "X = tf.placeholder(\"float\", [None, 4])\n",
    "Y = tf.placeholder(\"float\", [None, 3])\n",
    "\n",
    "nb_classes = 3\n",
    "\n",
    "W = tf.Variable(tf.random_normal([4, nb_classes]), name='weight')\n",
    "b = tf.Variable(tf.random_normal([nb_classes]), name='bias')\n",
    "\n",
    "# tf.nn.softmax computes softmax activations\n",
    "# softmax = exp(logits) / reduce_sum(exp(logits), dim)\n",
    "\n",
    "hypothesis = tf.nn.softmax(tf.matmul(X, W) + b)\n",
    "\n",
    "# Cross entropy cost/loss\n",
    "\n",
    "cost = tf.reduce_mean(-tf.reduce_sum(Y * tf.log(hypothesis), axis=1))\n",
    "optimizer = tf.train.GradientDescentOptimizer(learning_rate=0.1).minimize(cost)\n",
    "\n",
    "# #accuracy 구하기\n",
    "# pred = tf.equal(tf.arg_max(hypothesis,1),tf.arg_max(Y,1))\n",
    "# accuracy = tf.reduce_mean(tf.cast(pred,tf.float32))\n",
    "# Launch graph\n",
    "\n",
    "with tf.Session() as sess:\n",
    "\n",
    "    sess.run(tf.global_variables_initializer())\n",
    "    for step in range(2001):\n",
    "        sess.run(optimizer, feed_dict={X: x_data, Y: y_data})\n",
    "        if step % 200 == 0:\n",
    "            print(step, sess.run(cost, feed_dict={X: x_data, Y: y_data}))\n",
    "    print('--------------')\n",
    "\n",
    "    # Testing & One-hot encoding\n",
    "    W_val, a = sess.run([W,hypothesis], feed_dict={X: [[1, 11, 7, 9]]})\n",
    "    print(a, sess.run(tf.argmax(a, 1)),'w_val:',W_val)\n",
    "    print('--------------')\n",
    "\n",
    "    b = sess.run(hypothesis, feed_dict={X: [[1, 3, 4, 3]]})\n",
    "    print(b, sess.run(tf.argmax(b, 1)))\n",
    "    print('--------------')\n",
    "\n",
    "    c = sess.run(hypothesis, feed_dict={X: [[1, 1, 0, 1]]})\n",
    "    print(c, sess.run(tf.argmax(c, 1)))\n",
    "    print('--------------')\n",
    "\n",
    "    all = sess.run(hypothesis, feed_dict={\n",
    "                   X: [[1, 11, 7, 9], [1, 3, 4, 3], [1, 1, 0, 1]]})\n",
    "    print(all, sess.run(tf.argmax(all, 1)))"
   ]
  },
  {
   "cell_type": "code",
   "execution_count": 17,
   "metadata": {},
   "outputs": [
    {
     "data": {
      "text/plain": [
       "<tf.Tensor 'mul_6:0' shape=(?, 3) dtype=float32>"
      ]
     },
     "execution_count": 17,
     "metadata": {},
     "output_type": "execute_result"
    }
   ],
   "source": [
    "Y * tf.log(hypothesis)"
   ]
  },
  {
   "cell_type": "markdown",
   "metadata": {},
   "source": [
    "# Gradient Decent Tensorflow"
   ]
  },
  {
   "cell_type": "code",
   "execution_count": 3,
   "metadata": {},
   "outputs": [
    {
     "name": "stderr",
     "output_type": "stream",
     "text": [
      "C:\\Users\\p\\Anaconda3\\lib\\site-packages\\h5py\\__init__.py:36: FutureWarning: Conversion of the second argument of issubdtype from `float` to `np.floating` is deprecated. In future, it will be treated as `np.float64 == np.dtype(float).type`.\n",
      "  from ._conv import register_converters as _register_converters\n"
     ]
    }
   ],
   "source": [
    "import tensorflow as tf\n",
    "\n",
    "import numpy as np\n",
    "X_data = np.array([1])\n",
    "Y_data = np.array([2])"
   ]
  },
  {
   "cell_type": "code",
   "execution_count": 4,
   "metadata": {},
   "outputs": [],
   "source": [
    "X = tf.placeholder(tf.float32,[1])\n",
    "Y = tf.placeholder(tf.float32,[1])\n"
   ]
  },
  {
   "cell_type": "code",
   "execution_count": 22,
   "metadata": {},
   "outputs": [],
   "source": [
    "W = tf.Variable([10.],name='weight')\n",
    "hypothesis = X*W\n",
    "cost = tf.square(hypothesis-Y)\n",
    "optimizer = tf.train.GradientDescentOptimizer(learning_rate=0.1)\n",
    "train = optimizer.minimize(cost)"
   ]
  },
  {
   "cell_type": "code",
   "execution_count": 23,
   "metadata": {},
   "outputs": [
    {
     "name": "stdout",
     "output_type": "stream",
     "text": [
      "step : 1 cost : [64.] W : [10.]\n",
      "step : 2 cost : [40.959995] W : [8.4]\n",
      "step : 3 cost : [26.2144] W : [7.12]\n",
      "step : 4 cost : [16.777214] W : [6.0959997]\n",
      "step : 5 cost : [10.737416] W : [5.2767997]\n",
      "step : 6 cost : [6.8719473] W : [4.62144]\n",
      "step : 7 cost : [4.3980455] W : [4.0971518]\n",
      "step : 8 cost : [2.8147495] W : [3.6777215]\n",
      "step : 9 cost : [1.8014395] W : [3.3421772]\n",
      "step : 10 cost : [1.1529212] W : [3.0737417]\n",
      "step : 11 cost : [0.7378695] W : [2.8589933]\n",
      "step : 12 cost : [0.4722364] W : [2.6871946]\n",
      "step : 13 cost : [0.3022312] W : [2.5497556]\n",
      "step : 14 cost : [0.19342804] W : [2.4398046]\n",
      "step : 15 cost : [0.12379391] W : [2.3518436]\n",
      "step : 16 cost : [0.07922808] W : [2.2814748]\n",
      "step : 17 cost : [0.05070599] W : [2.22518]\n",
      "step : 18 cost : [0.0324518] W : [2.1801438]\n",
      "step : 19 cost : [0.02076912] W : [2.144115]\n",
      "step : 20 cost : [0.01329226] W : [2.115292]\n"
     ]
    }
   ],
   "source": [
    "with tf.Session() as sess:\n",
    "    feed_dict={X:X_data,Y:Y_data}\n",
    "    sess.run(tf.global_variables_initializer())\n",
    "    for step in range(20):\n",
    "        cost_val,W_val = sess.run([cost,W],feed_dict=feed_dict)\n",
    "        sess.run(train, feed_dict=feed_dict)\n",
    "        print(\"step :\",step+1,\"cost :\" ,cost_val,\"W :\",W_val)"
   ]
  },
  {
   "cell_type": "markdown",
   "metadata": {},
   "source": [
    "# Learning Neural Network"
   ]
  },
  {
   "cell_type": "code",
   "execution_count": 2,
   "metadata": {},
   "outputs": [
    {
     "name": "stderr",
     "output_type": "stream",
     "text": [
      "C:\\Users\\p\\Anaconda3\\lib\\site-packages\\h5py\\__init__.py:36: FutureWarning: Conversion of the second argument of issubdtype from `float` to `np.floating` is deprecated. In future, it will be treated as `np.float64 == np.dtype(float).type`.\n",
      "  from ._conv import register_converters as _register_converters\n"
     ]
    }
   ],
   "source": [
    "import tensorflow as tf\n",
    "import numpy as np"
   ]
  },
  {
   "cell_type": "code",
   "execution_count": 22,
   "metadata": {},
   "outputs": [
    {
     "ename": "AttributeError",
     "evalue": "'list' object has no attribute 'shape'",
     "output_type": "error",
     "traceback": [
      "\u001b[1;31m---------------------------------------------------------------------------\u001b[0m",
      "\u001b[1;31mAttributeError\u001b[0m                            Traceback (most recent call last)",
      "\u001b[1;32m<ipython-input-22-bd345c99f20d>\u001b[0m in \u001b[0;36m<module>\u001b[1;34m()\u001b[0m\n\u001b[0;32m      1\u001b[0m \u001b[0mX_data\u001b[0m \u001b[1;33m=\u001b[0m \u001b[1;33m[\u001b[0m\u001b[1;33m[\u001b[0m\u001b[1;36m1\u001b[0m\u001b[1;33m,\u001b[0m\u001b[1;36m2\u001b[0m\u001b[1;33m]\u001b[0m\u001b[1;33m]\u001b[0m\u001b[1;33m\u001b[0m\u001b[0m\n\u001b[0;32m      2\u001b[0m \u001b[0mY_data\u001b[0m \u001b[1;33m=\u001b[0m \u001b[1;33m[\u001b[0m\u001b[1;33m[\u001b[0m\u001b[1;36m1\u001b[0m\u001b[1;33m,\u001b[0m\u001b[1;36m0\u001b[0m\u001b[1;33m]\u001b[0m\u001b[1;33m]\u001b[0m\u001b[1;33m\u001b[0m\u001b[0m\n\u001b[1;32m----> 3\u001b[1;33m \u001b[0mX_data\u001b[0m\u001b[1;33m.\u001b[0m\u001b[0mshape\u001b[0m\u001b[1;33m\u001b[0m\u001b[0m\n\u001b[0m",
      "\u001b[1;31mAttributeError\u001b[0m: 'list' object has no attribute 'shape'"
     ]
    }
   ],
   "source": [
    "X_data = [[1,2]]\n",
    "Y_data = [[1,0]]\n"
   ]
  },
  {
   "cell_type": "code",
   "execution_count": 9,
   "metadata": {},
   "outputs": [],
   "source": [
    "X = tf.placeholder(\"float32\", [None, 2])\n",
    "Y = tf.placeholder(\"float32\", [None, 2])\n",
    "\n",
    "nb_classes = 3\n",
    "\n",
    "W = tf.Variable([[1.,2.],[3.,4.]], name='weight')\n",
    "b = tf.Variable([1.,2.], name='bias')"
   ]
  },
  {
   "cell_type": "code",
   "execution_count": 10,
   "metadata": {},
   "outputs": [],
   "source": [
    "hypothesis = tf.nn.softmax(tf.matmul(X,W) + b)\n",
    "cost = tf.reduce_mean(-tf.reduce_sum(Y*tf.log(hypothesis),axis=1))\n",
    "optimizer = tf.train.GradientDescentOptimizer(learning_rate=0.1)\n",
    "train = optimizer.minimize(cost)"
   ]
  },
  {
   "cell_type": "code",
   "execution_count": 11,
   "metadata": {
    "scrolled": true
   },
   "outputs": [
    {
     "name": "stdout",
     "output_type": "stream",
     "text": [
      "step : 1 \n",
      "W: [[1. 2.]\n",
      " [3. 4.]] \n",
      "b:  [1. 2.] \n",
      "cost: 4.01815 \n",
      "hypothesis :\n",
      " [[0.018 0.982]] \n",
      "predicted\n",
      " [1]\n",
      "--------------------\n",
      "step : 2 \n",
      "W: [[1.0982 1.9018]\n",
      " [3.1964 3.8036]] \n",
      "b:  [1.0982 1.9018] \n",
      "cost: 2.879391 \n",
      "hypothesis :\n",
      " [[0.0562 0.9438]] \n",
      "predicted\n",
      " [1]\n",
      "--------------------\n",
      "step : 3 \n",
      "W: [[1.1926 1.8074]\n",
      " [3.3852 3.6148]] \n",
      "b:  [1.1926 1.8074] \n",
      "cost: 1.8584803 \n",
      "hypothesis :\n",
      " [[0.1559 0.8441]] \n",
      "predicted\n",
      " [1]\n",
      "--------------------\n",
      "step : 4 \n",
      "W: [[1.277 1.723]\n",
      " [3.554 3.446]] \n",
      "b:  [1.277 1.723] \n",
      "cost: 1.0872645 \n",
      "hypothesis :\n",
      " [[0.3371 0.6629]] \n",
      "predicted\n",
      " [1]\n",
      "--------------------\n",
      "step : 5 \n",
      "W: [[1.3433 1.6567]\n",
      " [3.6866 3.3134]] \n",
      "b:  [1.3433 1.6567] \n",
      "cost: 0.63524795 \n",
      "hypothesis :\n",
      " [[0.5298 0.4702]] \n",
      "predicted\n",
      " [0]\n",
      "--------------------\n",
      "step : 6 \n",
      "W: [[1.3903 1.6097]\n",
      " [3.7806 3.2194]] \n",
      "b:  [1.3903 1.6097] \n",
      "cost: 0.40865976 \n",
      "hypothesis :\n",
      " [[0.6645 0.3355]] \n",
      "predicted\n",
      " [0]\n",
      "--------------------\n",
      "step : 7 \n",
      "W: [[1.4238 1.5762]\n",
      " [3.8477 3.1523]] \n",
      "b:  [1.4238 1.5762] \n",
      "cost: 0.29081345 \n",
      "hypothesis :\n",
      " [[0.7477 0.2523]] \n",
      "predicted\n",
      " [0]\n",
      "--------------------\n",
      "step : 8 \n",
      "W: [[1.4491 1.5509]\n",
      " [3.8982 3.1018]] \n",
      "b:  [1.4491 1.5509] \n",
      "cost: 0.22261134 \n",
      "hypothesis :\n",
      " [[0.8004 0.1996]] \n",
      "predicted\n",
      " [0]\n",
      "--------------------\n",
      "step : 9 \n",
      "W: [[1.469  1.531 ]\n",
      " [3.9381 3.0619]] \n",
      "b:  [1.469 1.531] \n",
      "cost: 0.17917848 \n",
      "hypothesis :\n",
      " [[0.836 0.164]] \n",
      "predicted\n",
      " [0]\n",
      "--------------------\n",
      "step : 10 \n",
      "W: [[1.4854 1.5146]\n",
      " [3.9709 3.0291]] \n",
      "b:  [1.4854 1.5146] \n",
      "cost: 0.14942771 \n",
      "hypothesis :\n",
      " [[0.8612 0.1388]] \n",
      "predicted\n",
      " [0]\n",
      "--------------------\n"
     ]
    }
   ],
   "source": [
    "with tf.Session() as sess:\n",
    "    sess.run(tf.global_variables_initializer())\n",
    "    for step in range(10):\n",
    "        cost_val, W_val, b_val , hyp_val= sess.run([cost,W,b,hypothesis],feed_dict={X:X_data,Y:Y_data})\n",
    "        pred = sess.run(tf.argmax(hyp_val,1))\n",
    "        print(\"step :\",step+1,'\\nW:',np.round(W_val,4),'\\nb: ',np.round(b_val,4),\n",
    "        '\\ncost:',cost_val,'\\nhypothesis :\\n',np.round(hyp_val,4),'\\npredicted\\n',pred)\n",
    "        print('-'*20)\n",
    "        sess.run(train,feed_dict={X:X_data,Y:Y_data})"
   ]
  },
  {
   "cell_type": "markdown",
   "metadata": {},
   "source": [
    "# Batch 예제"
   ]
  },
  {
   "cell_type": "code",
   "execution_count": 24,
   "metadata": {},
   "outputs": [],
   "source": [
    "X_data = [[0,0],[1,0],[0,1],[1,1]]\n",
    "Y_data = [[1,0],[1,0],[1,0],[0,1]]"
   ]
  },
  {
   "cell_type": "code",
   "execution_count": 36,
   "metadata": {},
   "outputs": [],
   "source": [
    "X = tf.placeholder(\"float32\", [None, 2])\n",
    "Y = tf.placeholder(\"float32\", [None, 2])\n",
    "\n",
    "\n",
    "W = tf.Variable([[1.,2.],[3.,4.]], name='weight')\n",
    "b = tf.Variable([[1.,2.]], name='bias')"
   ]
  },
  {
   "cell_type": "code",
   "execution_count": 41,
   "metadata": {},
   "outputs": [],
   "source": [
    "hypothesis = tf.nn.softmax(tf.matmul(X,W) + b)\n",
    "# cost = tf.reduce_mean(-tf.reduce_sum(Y*tf.log(hypothesis),axis=1))\n",
    "cost=tf.nn.softmax_cross_entropy_with_logits_v2(logits=tf.matmul(X,W) + b,labels=Y)\n",
    "optimizer = tf.train.GradientDescentOptimizer(learning_rate=1)\n",
    "train = optimizer.minimize(cost)"
   ]
  },
  {
   "cell_type": "code",
   "execution_count": 42,
   "metadata": {
    "scrolled": true
   },
   "outputs": [
    {
     "name": "stdout",
     "output_type": "stream",
     "text": [
      "step : 1 \n",
      "W: [[1. 2.]\n",
      " [3. 4.]] \n",
      "b:  [[1. 2.]] \n",
      "cost: [1.3132616  2.126928   2.126928   0.04858733] \n",
      "hypothesis :\n",
      " [[0.2689 0.7311]\n",
      " [0.1192 0.8808]\n",
      " [0.1192 0.8808]\n",
      " [0.0474 0.9526]] \n",
      "predicted\n",
      " [1 1 1 1]\n",
      "--------------------\n",
      "step : 2 \n",
      "W: [[1.8334 1.1666]\n",
      " [3.8334 3.1666]] \n",
      "b:  [[ 3.4452 -0.4452]] \n",
      "cost: [0.02023003 0.01043684 0.01043684 5.2293096 ] \n",
      "hypothesis :\n",
      " [[0.98   0.02  ]\n",
      " [0.9896 0.0104]\n",
      " [0.9896 0.0104]\n",
      " [0.9946 0.0054]] \n",
      "predicted\n",
      " [0 0 0 0]\n",
      "--------------------\n",
      "step : 3 \n",
      "W: [[0.8491 2.1509]\n",
      " [2.8491 4.1509]] \n",
      "b:  [[2.4914 0.5086]] \n",
      "cost: [0.12899974 0.4095395  0.4095395  0.43016562] \n",
      "hypothesis :\n",
      " [[0.879  0.121 ]\n",
      " [0.664  0.336 ]\n",
      " [0.664  0.336 ]\n",
      " [0.3496 0.6504]] \n",
      "predicted\n",
      " [0 0 0 1]\n",
      "--------------------\n",
      "step : 4 \n",
      "W: [[0.8356 2.1644]\n",
      " [2.8356 4.1644]] \n",
      "b:  [[2.9349 0.0651]] \n",
      "cost: [0.05516155 0.19407661 0.19407651 0.80475914] \n",
      "hypothesis :\n",
      " [[0.9463 0.0537]\n",
      " [0.8236 0.1764]\n",
      " [0.8236 0.1764]\n",
      " [0.5528 0.4472]] \n",
      "predicted\n",
      " [0 0 0 0]\n",
      "--------------------\n",
      "step : 5 \n",
      "W: [[0.4592 2.5408]\n",
      " [2.4592 4.5408]] \n",
      "b:  [[2.7886 0.2114]] \n",
      "cost: [0.0732429  0.47579953 0.47579938 0.18622524] \n",
      "hypothesis :\n",
      " [[0.9294 0.0706]\n",
      " [0.6214 0.3786]\n",
      " [0.6214 0.3786]\n",
      " [0.1699 0.8301]] \n",
      "predicted\n",
      " [0 0 0 1]\n",
      "--------------------\n",
      "step : 6 \n",
      "W: [[0.6679 2.3321]\n",
      " [2.6679 4.3321]] \n",
      "b:  [[ 3.4465 -0.4465]] \n",
      "cost: [0.0201791  0.10225607 0.10225607 1.0146627 ] \n",
      "hypothesis :\n",
      " [[0.98   0.02  ]\n",
      " [0.9028 0.0972]\n",
      " [0.9028 0.0972]\n",
      " [0.6375 0.3625]] \n",
      "predicted\n",
      " [0 0 0 0]\n",
      "--------------------\n",
      "step : 7 \n",
      "W: [[0.1276 2.8724]\n",
      " [2.1276 4.8724]] \n",
      "b:  [[ 3.0234 -0.0234]] \n",
      "cost: [0.04641617 0.5535158  0.5535158  0.08334046] \n",
      "hypothesis :\n",
      " [[0.9546 0.0454]\n",
      " [0.5749 0.4251]\n",
      " [0.5749 0.4251]\n",
      " [0.08   0.92  ]] \n",
      "predicted\n",
      " [0 0 0 1]\n",
      "--------------------\n",
      "step : 8 \n",
      "W: [[0.4727 2.5273]\n",
      " [2.4727 4.5273]] \n",
      "b:  [[ 3.8389 -0.8389]] \n",
      "cost: [0.0092556  0.07005205 0.07005205 1.0173763 ] \n",
      "hypothesis :\n",
      " [[0.9908 0.0092]\n",
      " [0.9323 0.0677]\n",
      " [0.9323 0.0677]\n",
      " [0.6385 0.3615]] \n",
      "predicted\n",
      " [0 0 0 0]\n",
      "--------------------\n",
      "step : 9 \n",
      "W: [[-0.0981  3.0981]\n",
      " [ 1.9019  5.0981]] \n",
      "b:  [[ 3.345 -0.345]] \n",
      "cost: [0.02466468 0.4764186  0.4764186  0.06489211] \n",
      "hypothesis :\n",
      " [[0.9756 0.0244]\n",
      " [0.621  0.379 ]\n",
      " [0.621  0.379 ]\n",
      " [0.0628 0.9372]] \n",
      "predicted\n",
      " [0 0 0 1]\n",
      "--------------------\n",
      "step : 10 \n",
      "W: [[0.2181 2.7819]\n",
      " [2.2181 4.7819]] \n",
      "b:  [[ 4.0645 -1.0645]] \n",
      "cost: [0.00590461 0.07409086 0.07409086 0.6937987 ] \n",
      "hypothesis :\n",
      " [[0.9941 0.0059]\n",
      " [0.9286 0.0714]\n",
      " [0.9286 0.0714]\n",
      " [0.5003 0.4997]] \n",
      "predicted\n",
      " [0 0 0 0]\n",
      "--------------------\n"
     ]
    }
   ],
   "source": [
    "with tf.Session() as sess:\n",
    "    sess.run(tf.global_variables_initializer())\n",
    "    for step in range(10):\n",
    "        cost_val, W_val, b_val , hyp_val= sess.run([cost,W,b,hypothesis],feed_dict={X:X_data,Y:Y_data})\n",
    "        pred = sess.run(tf.argmax(hyp_val,1))\n",
    "        print(\"step :\",step+1,'\\nW:',np.round(W_val,4),'\\nb: ',np.round(b_val,4),\n",
    "        '\\ncost:',cost_val,'\\nhypothesis :\\n',np.round(hyp_val,4),'\\npredicted\\n',pred)\n",
    "        print('-'*20)\n",
    "        sess.run(train,feed_dict={X:X_data,Y:Y_data})"
   ]
  },
  {
   "cell_type": "code",
   "execution_count": 46,
   "metadata": {},
   "outputs": [],
   "source": [
    "X = tf.placeholder(\"float32\", [None, 2])\n",
    "Y = tf.placeholder(\"float32\", [None, 2])\n",
    "\n",
    "\n",
    "W = tf.Variable([[1.,2.],[3.,4.]], name='weight')\n",
    "b = tf.Variable([[1.,2.],[1.,2.],[1.,2.],[1.,2.]], name='bias')"
   ]
  },
  {
   "cell_type": "code",
   "execution_count": 49,
   "metadata": {},
   "outputs": [],
   "source": [
    "hypothesis = tf.nn.softmax(tf.matmul(X,W) + b)\n",
    "cost = -tf.reduce_sum(Y*tf.log(hypothesis),axis=1)\n",
    "optimizer = tf.train.GradientDescentOptimizer(learning_rate=1)\n",
    "train = optimizer.minimize(cost)"
   ]
  },
  {
   "cell_type": "code",
   "execution_count": 50,
   "metadata": {},
   "outputs": [
    {
     "name": "stdout",
     "output_type": "stream",
     "text": [
      "step : 1 \n",
      "W: [[1. 2.]\n",
      " [3. 4.]] \n",
      "b:  [[1. 2.]\n",
      " [1. 2.]\n",
      " [1. 2.]\n",
      " [1. 2.]] \n",
      "cost: [1.3132616  2.126928   2.126928   0.04858734] \n",
      "hypothesis :\n",
      " [[0.2689 0.7311]\n",
      " [0.1192 0.8808]\n",
      " [0.1192 0.8808]\n",
      " [0.0474 0.9526]] \n",
      "predicted\n",
      " [1 1 1 1]\n",
      "--------------------\n",
      "step : 2 \n",
      "W: [[1.8334 1.1666]\n",
      " [3.8334 3.1666]] \n",
      "b:  [[1.7311 1.2689]\n",
      " [1.8808 1.1192]\n",
      " [1.8808 1.1192]\n",
      " [0.9526 2.0474]] \n",
      "cost: [0.4885484  0.21487533 0.21487533 0.8195651 ] \n",
      "hypothesis :\n",
      " [[0.6135 0.3865]\n",
      " [0.8066 0.1934]\n",
      " [0.8066 0.1934]\n",
      " [0.5594 0.4406]] \n",
      "predicted\n",
      " [0 0 0 0]\n",
      "--------------------\n",
      "step : 3 \n",
      "W: [[1.4674 1.5326]\n",
      " [3.4674 3.5326]] \n",
      "b:  [[2.1175 0.8825]\n",
      " [2.0742 0.9258]\n",
      " [2.0742 0.9258]\n",
      " [0.3932 2.6068]] \n",
      "cost: [0.25526997 0.2916042  0.29160428 0.09159819] \n",
      "hypothesis :\n",
      " [[0.7747 0.2253]\n",
      " [0.7471 0.2529]\n",
      " [0.7471 0.2529]\n",
      " [0.0875 0.9125]] \n",
      "predicted\n",
      " [0 0 0 1]\n",
      "--------------------\n",
      "step : 4 \n",
      "W: [[1.6328 1.3672]\n",
      " [3.6328 3.3672]] \n",
      "b:  [[2.3428 0.6572]\n",
      " [2.3271 0.6729]\n",
      " [2.3271 0.6729]\n",
      " [0.3057 2.6943]] \n",
      "cost: [0.17001298 0.13684525 0.13684525 0.14500329] \n",
      "hypothesis :\n",
      " [[0.8437 0.1563]\n",
      " [0.8721 0.1279]\n",
      " [0.8721 0.1279]\n",
      " [0.135  0.865 ]] \n",
      "predicted\n",
      " [0 0 0 1]\n",
      "--------------------\n",
      "step : 5 \n",
      "W: [[1.6257 1.3743]\n",
      " [3.6257 3.3743]] \n",
      "b:  [[2.4992 0.5008]\n",
      " [2.455  0.545 ]\n",
      " [2.455  0.545 ]\n",
      " [0.1707 2.8293]] \n",
      "cost: [0.12712331 0.10900957 0.10900957 0.109568  ] \n",
      "hypothesis :\n",
      " [[0.8806 0.1194]\n",
      " [0.8967 0.1033]\n",
      " [0.8967 0.1033]\n",
      " [0.1038 0.8962]] \n",
      "predicted\n",
      " [0 0 0 1]\n",
      "--------------------\n",
      "step : 6 \n",
      "W: [[1.6252 1.3748]\n",
      " [3.6252 3.3748]] \n",
      "b:  [[2.6186 0.3814]\n",
      " [2.5583 0.4417]\n",
      " [2.5583 0.4417]\n",
      " [0.0669 2.9331]] \n",
      "cost: [0.10144253 0.08963341 0.08963354 0.08975265] \n",
      "hypothesis :\n",
      " [[0.9035 0.0965]\n",
      " [0.9143 0.0857]\n",
      " [0.9143 0.0857]\n",
      " [0.0858 0.9142]] \n",
      "predicted\n",
      " [0 0 0 1]\n",
      "--------------------\n",
      "step : 7 \n",
      "W: [[1.6251 1.3749]\n",
      " [3.6251 3.3749]] \n",
      "b:  [[ 2.715   0.285 ]\n",
      " [ 2.644   0.356 ]\n",
      " [ 2.644   0.356 ]\n",
      " [-0.0189  3.0189]] \n",
      "cost: [0.08437119 0.07604802 0.07604802 0.07608597] \n",
      "hypothesis :\n",
      " [[0.9191 0.0809]\n",
      " [0.9268 0.0732]\n",
      " [0.9268 0.0732]\n",
      " [0.0733 0.9267]] \n",
      "predicted\n",
      " [0 0 0 1]\n",
      "--------------------\n",
      "step : 8 \n",
      "W: [[1.625 1.375]\n",
      " [3.625 3.375]] \n",
      "b:  [[ 2.7959  0.2041]\n",
      " [ 2.7172  0.2828]\n",
      " [ 2.7172  0.2828]\n",
      " [-0.0922  3.0922]] \n",
      "cost: [0.07220914 0.06602608 0.06602608 0.06604117] \n",
      "hypothesis :\n",
      " [[0.9303 0.0697]\n",
      " [0.9361 0.0639]\n",
      " [0.9361 0.0639]\n",
      " [0.0639 0.9361]] \n",
      "predicted\n",
      " [0 0 0 1]\n",
      "--------------------\n",
      "step : 9 \n",
      "W: [[1.625 1.375]\n",
      " [3.625 3.375]] \n",
      "b:  [[ 2.8656  0.1344]\n",
      " [ 2.7811  0.2189]\n",
      " [ 2.7811  0.2189]\n",
      " [-0.1561  3.1561]] \n",
      "cost: [0.06310757 0.0583335  0.0583335  0.05834058] \n",
      "hypothesis :\n",
      " [[0.9388 0.0612]\n",
      " [0.9433 0.0567]\n",
      " [0.9433 0.0567]\n",
      " [0.0567 0.9433]] \n",
      "predicted\n",
      " [0 0 0 1]\n",
      "--------------------\n",
      "step : 10 \n",
      "W: [[1.625 1.375]\n",
      " [3.625 3.375]] \n",
      "b:  [[ 2.9268  0.0732]\n",
      " [ 2.8378  0.1622]\n",
      " [ 2.8378  0.1622]\n",
      " [-0.2128  3.2128]] \n",
      "cost: [0.05604169 0.05224442 0.05224442 0.052248  ] \n",
      "hypothesis :\n",
      " [[0.9455 0.0545]\n",
      " [0.9491 0.0509]\n",
      " [0.9491 0.0509]\n",
      " [0.0509 0.9491]] \n",
      "predicted\n",
      " [0 0 0 1]\n",
      "--------------------\n"
     ]
    }
   ],
   "source": [
    "with tf.Session() as sess:\n",
    "    sess.run(tf.global_variables_initializer())\n",
    "    for step in range(10):\n",
    "        cost_val, W_val, b_val , hyp_val= sess.run([cost,W,b,hypothesis],feed_dict={X:X_data,Y:Y_data})\n",
    "        pred = sess.run(tf.argmax(hyp_val,1))\n",
    "        print(\"step :\",step+1,'\\nW:',np.round(W_val,4),'\\nb: ',np.round(b_val,4),\n",
    "        '\\ncost:',cost_val,'\\nhypothesis :\\n',np.round(hyp_val,4),'\\npredicted\\n',pred)\n",
    "        print('-'*20)\n",
    "        sess.run(train,feed_dict={X:X_data,Y:Y_data})"
   ]
  },
  {
   "cell_type": "code",
   "execution_count": 52,
   "metadata": {},
   "outputs": [],
   "source": [
    "import keras"
   ]
  },
  {
   "cell_type": "code",
   "execution_count": 53,
   "metadata": {},
   "outputs": [
    {
     "data": {
      "text/plain": [
       "'2.2.4'"
      ]
     },
     "execution_count": 53,
     "metadata": {},
     "output_type": "execute_result"
    }
   ],
   "source": [
    "keras.__version__"
   ]
  },
  {
   "cell_type": "code",
   "execution_count": null,
   "metadata": {},
   "outputs": [],
   "source": []
  }
 ],
 "metadata": {
  "kernelspec": {
   "display_name": "Python 3",
   "language": "python",
   "name": "python3"
  },
  "language_info": {
   "codemirror_mode": {
    "name": "ipython",
    "version": 3
   },
   "file_extension": ".py",
   "mimetype": "text/x-python",
   "name": "python",
   "nbconvert_exporter": "python",
   "pygments_lexer": "ipython3",
   "version": "3.6.5"
  }
 },
 "nbformat": 4,
 "nbformat_minor": 2
}
