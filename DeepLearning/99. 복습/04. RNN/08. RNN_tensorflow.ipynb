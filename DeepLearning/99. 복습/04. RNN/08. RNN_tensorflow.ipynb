{
 "cells": [
  {
   "cell_type": "code",
   "execution_count": 2,
   "metadata": {},
   "outputs": [
    {
     "name": "stderr",
     "output_type": "stream",
     "text": [
      "C:\\Users\\p\\Anaconda3\\lib\\site-packages\\h5py\\__init__.py:36: FutureWarning: Conversion of the second argument of issubdtype from `float` to `np.floating` is deprecated. In future, it will be treated as `np.float64 == np.dtype(float).type`.\n",
      "  from ._conv import register_converters as _register_converters\n"
     ]
    }
   ],
   "source": [
    "import tensorflow as tf\n",
    "import numpy as np"
   ]
  },
  {
   "cell_type": "code",
   "execution_count": 9,
   "metadata": {},
   "outputs": [],
   "source": [
    "tf.reset_default_graph()"
   ]
  },
  {
   "cell_type": "code",
   "execution_count": 10,
   "metadata": {},
   "outputs": [
    {
     "data": {
      "text/plain": [
       "(1, 1, 2)"
      ]
     },
     "execution_count": 10,
     "metadata": {},
     "output_type": "execute_result"
    }
   ],
   "source": [
    "X_data = np.array([[[0.,1.]]])\n",
    "batch_size = 1\n",
    "hidden_size = 1\n",
    "\n",
    "# None,1,2 는 무엇인가? 1 -> sequence length 2 -> vocab_size\n",
    "X = tf.placeholder(tf.float32,[None,1,2])\n",
    "X_data.shape "
   ]
  },
  {
   "cell_type": "code",
   "execution_count": 12,
   "metadata": {},
   "outputs": [],
   "source": [
    "cell = tf.nn.rnn_cell.BasicRNNCell(num_units=hidden_size)\n",
    "# cell.shape =  (batch, hidden_size)\n",
    "initial_state = cell.zero_state(batch_size,tf.float32)\n"
   ]
  },
  {
   "cell_type": "code",
   "execution_count": 13,
   "metadata": {},
   "outputs": [
    {
     "name": "stdout",
     "output_type": "stream",
     "text": [
      "rnn/basic_rnn_cell/kernel:0 \n",
      " [[-0.9973011 ]\n",
      " [-0.48289937]\n",
      " [ 0.38713038]]\n",
      "rnn/basic_rnn_cell/bias:0 \n",
      " [0.]\n",
      "---------\n",
      "initial state:\n",
      " [[0.]] \n",
      "X_data val:\n",
      " [[[0. 1.]]] \n",
      "output val:\n",
      " [[[-0.44856262]]] ]nstate val:\n",
      " [[-0.44856262]]\n"
     ]
    }
   ],
   "source": [
    "with tf.Session() as sess:\n",
    "    sess.run(tf.global_variables_initializer())\n",
    "    variables_names = [v.name for v in tf.trainable_variables()]\n",
    "    values = sess.run(variables_names)\n",
    "    for k,v in zip(variables_names,values):\n",
    "        print(k,'\\n',v)\n",
    "    print('-'*9)\n",
    "    outputs_val, state_val = sess.run([outputs,state],feed_dict={X:X_data})\n",
    "    print('initial state:\\n',sess.run(initial_state),\n",
    "          '\\nX_data val:\\n',X_data,\n",
    "          '\\noutput val:\\n',outputs_val,\n",
    "          ']nstate val:\\n',state_val)"
   ]
  },
  {
   "cell_type": "code",
   "execution_count": 67,
   "metadata": {},
   "outputs": [],
   "source": [
    "tf.reset_default_graph()"
   ]
  },
  {
   "cell_type": "code",
   "execution_count": 68,
   "metadata": {},
   "outputs": [
    {
     "data": {
      "text/plain": [
       "['h', 'l', 'e', 'o', 'i']"
      ]
     },
     "execution_count": 68,
     "metadata": {},
     "output_type": "execute_result"
    }
   ],
   "source": [
    "data = 'hihello'\n",
    "chars = list(set(data))\n",
    "vocab_size= len(chars)\n",
    "char_to_ix = { ch:i for i,ch in enumerate(chars)}\n",
    "ix_to_char = { i:ch for i,ch in enumerate(chars)}\n",
    "X_data = [char_to_ix[ch] for ch in data]\n",
    "X_onehot = tf.one_hot(X_data,vocab_size)\n",
    "seq_length = len(data)-1\n",
    "chars"
   ]
  },
  {
   "cell_type": "code",
   "execution_count": 69,
   "metadata": {},
   "outputs": [],
   "source": [
    "hidden_size = 10 \n",
    "batch_size = 1"
   ]
  },
  {
   "cell_type": "code",
   "execution_count": 70,
   "metadata": {},
   "outputs": [],
   "source": [
    "def sample(x,n,cell,Why,by):\n",
    "    W = cell[0]\n",
    "    Wxh = W[:vocab_size]\n",
    "    Whh = W[vocab_size:]\n",
    "    bh = cell[1]\n",
    "    h = np.zeros((1,hidden_size))\n",
    "    ixes = []\n",
    "    \n",
    "    for step in range(n):\n",
    "        h =np.tanh(np.dot(x,Wxh)+np.dot(h,Whh)+bh)\n",
    "        y = np.dot(h,Why)+by\n",
    "        ix = np.argmax(y)\n",
    "        x = np.zeros((1,vocab_size))\n",
    "        x[0][ix] = 1\n",
    "        ixes.append(ix)\n",
    "    return ixes\n",
    "    "
   ]
  },
  {
   "cell_type": "code",
   "execution_count": 71,
   "metadata": {},
   "outputs": [],
   "source": [
    "def seqtostr(input):\n",
    "    return ''.join(ix_to_char[ch] for ch in input[:])"
   ]
  },
  {
   "cell_type": "code",
   "execution_count": 72,
   "metadata": {},
   "outputs": [],
   "source": [
    "Why=tf.Variable(tf.random_normal([batch_size,hidden_size,vocab_size]))\n",
    "by = tf.Variable(tf.random_normal([batch_size,1,vocab_size]),name='bias_y')"
   ]
  },
  {
   "cell_type": "code",
   "execution_count": 73,
   "metadata": {},
   "outputs": [],
   "source": [
    "X=tf.placeholder(tf.float32,[None,1,vocab_size])\n",
    "cell=tf.nn.rnn_cell.BasicRNNCell(num_units=hidden_size)\n",
    "initial_state = cell.zero_state(batch_size,tf.float32)\n",
    "output,state = tf.nn.dynamic_rnn(cell=cell,inputs=X,initial_state=initial_state,dtype=tf.float32)"
   ]
  },
  {
   "cell_type": "code",
   "execution_count": 77,
   "metadata": {
    "scrolled": false
   },
   "outputs": [
    {
     "name": "stdout",
     "output_type": "stream",
     "text": [
      "heheheh\n"
     ]
    }
   ],
   "source": [
    "with tf.Session() as sess:\n",
    "    sess.run(tf.global_variables_initializer())\n",
    "    X_test = sess.run(X_onehot[0]).reshape(1,vocab_size)\n",
    "    predtxt = sample(X_test,seq_length,sess.run(cell.variables),sess.run(Why),sess.run(by))\n",
    "    print(data[0]+seqtostr(predtxt))"
   ]
  },
  {
   "cell_type": "markdown",
   "metadata": {},
   "source": []
  }
 ],
 "metadata": {
  "kernelspec": {
   "display_name": "Python 3",
   "language": "python",
   "name": "python3"
  },
  "language_info": {
   "codemirror_mode": {
    "name": "ipython",
    "version": 3
   },
   "file_extension": ".py",
   "mimetype": "text/x-python",
   "name": "python",
   "nbconvert_exporter": "python",
   "pygments_lexer": "ipython3",
   "version": "3.6.5"
  }
 },
 "nbformat": 4,
 "nbformat_minor": 2
}
