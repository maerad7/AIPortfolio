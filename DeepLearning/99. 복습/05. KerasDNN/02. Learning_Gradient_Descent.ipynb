{
 "cells": [
  {
   "cell_type": "code",
   "execution_count": 1,
   "metadata": {},
   "outputs": [],
   "source": [
    "import numpy as np\n",
    "import matplotlib.pyplot as plt"
   ]
  },
  {
   "cell_type": "markdown",
   "metadata": {},
   "source": [
    "### p.146 Gradient Descent"
   ]
  },
  {
   "cell_type": "code",
   "execution_count": 2,
   "metadata": {},
   "outputs": [
    {
     "data": {
      "image/png": "[encoded data removed]",
      "text/plain": [
       "<Figure size 432x288 with 1 Axes>"
      ]
     },
     "metadata": {
      "needs_background": "light"
     },
     "output_type": "display_data"
    },
    {
     "name": "stdout",
     "output_type": "stream",
     "text": [
      "[-1.27279982 -2.54559964 -5.09119928]\n",
      "-8.909598742500547\n"
     ]
    }
   ],
   "source": [
    "np.random.seed(2222)\n",
    "X = np.array([1,2,4])\n",
    "Y = np.array([2,4,8])\n",
    "\n",
    "W = np.random.random([1])\n",
    "hypothesis = W*X\n",
    "\n",
    "plt.plot(X, Y, 'o') \n",
    "plt.plot(X, hypothesis)\n",
    "plt.show()\n",
    "\n",
    "cost = hypothesis - Y\n",
    "print(cost)\n",
    "print(cost.sum())"
   ]
  },
  {
   "cell_type": "markdown",
   "metadata": {},
   "source": [
    "### p.147 Pow vs Abs"
   ]
  },
  {
   "cell_type": "code",
   "execution_count": 3,
   "metadata": {},
   "outputs": [
    {
     "name": "stdout",
     "output_type": "stream",
     "text": [
      "[-1.27279982 -2.54559964 -5.09119928]\n",
      "8.909598742500547\n",
      "34.020407036728855\n"
     ]
    }
   ],
   "source": [
    "np.random.seed(2222)\n",
    "X = np.array([1,2,4])\n",
    "Y = np.array([2,4,8])\n",
    "\n",
    "W = np.random.random([1])\n",
    "hypothesis = W*X\n",
    "cost = hypothesis - Y\n",
    "\n",
    "print(cost)\n",
    "print(np.abs(cost).sum())\n",
    "print((cost**2).sum())"
   ]
  },
  {
   "cell_type": "markdown",
   "metadata": {},
   "source": [
    "### p.148 Pow vs Abs Cost"
   ]
  },
  {
   "cell_type": "code",
   "execution_count": 4,
   "metadata": {},
   "outputs": [
    {
     "data": {
      "image/png": "[encoded data removed]",
      "text/plain": [
       "<Figure size 432x288 with 2 Axes>"
      ]
     },
     "metadata": {
      "needs_background": "light"
     },
     "output_type": "display_data"
    }
   ],
   "source": [
    "np.random.seed(2222)\n",
    "X = np.array([1,2,4])\n",
    "Y = np.array([2,4,8])\n",
    "\n",
    "W_val = []\n",
    "cost_val1 = []\n",
    "cost_val2 = []\n",
    "\n",
    "for W in range(-30, 50):\n",
    "    W /= 10\n",
    "    hypothesis = W*X\n",
    "    cost = hypothesis - Y\n",
    "    W_val.append(W)\n",
    "    cost_val1.append((cost**2).sum())\n",
    "    cost_val2.append(np.abs(cost).sum())\n",
    "\n",
    "plt.subplot(2,1,1)\n",
    "plt.plot(W_val, cost_val1)\n",
    "\n",
    "plt.subplot(2,1,2)\n",
    "plt.plot(W_val, cost_val2)\n",
    "\n",
    "plt.show()"
   ]
  },
  {
   "cell_type": "markdown",
   "metadata": {},
   "source": [
    "### p.153 cost and W"
   ]
  },
  {
   "cell_type": "code",
   "execution_count": 5,
   "metadata": {},
   "outputs": [
    {
     "name": "stdout",
     "output_type": "stream",
     "text": [
      "[0.72720018 1.45440036 2.90880072]\n",
      "[-1.27279982 -2.54559964 -5.09119928]\n",
      "[ 1.62001938  6.48007753 25.92031012]\n",
      "34.020407036728855\n"
     ]
    }
   ],
   "source": [
    "np.random.seed(2222)\n",
    "X = np.array([1,2,4])\n",
    "Y = np.array([2,4,8])\n",
    "\n",
    "W = np.random.random([1])\n",
    "\n",
    "hypothesis = W*X\n",
    "print(hypothesis)\n",
    "cost = hypothesis - Y\n",
    "print(cost)\n",
    "cost = cost**2\n",
    "print(cost)\n",
    "cost = cost.sum()\n",
    "print(cost)"
   ]
  },
  {
   "cell_type": "markdown",
   "metadata": {},
   "source": [
    "### p.154 Mean cost"
   ]
  },
  {
   "cell_type": "code",
   "execution_count": 6,
   "metadata": {},
   "outputs": [
    {
     "name": "stdout",
     "output_type": "stream",
     "text": [
      "[0.72720018 1.45440036 2.90880072]\n",
      "[-1.27279982 -2.54559964 -5.09119928]\n",
      "[ 1.62001938  6.48007753 25.92031012]\n",
      "11.340135678909618\n"
     ]
    }
   ],
   "source": [
    "np.random.seed(2222)\n",
    "X = np.array([1,2,4])\n",
    "Y = np.array([2,4,8])\n",
    "\n",
    "W = np.random.random([1])\n",
    "\n",
    "hypothesis = W*X\n",
    "print(hypothesis)\n",
    "cost = hypothesis - Y\n",
    "print(cost)\n",
    "cost = cost**2\n",
    "print(cost)\n",
    "cost = cost.sum() / X.size\n",
    "\n",
    "cost = (np.sum((X*W - Y)**2) / X.size)\n",
    "\n",
    "print(cost)"
   ]
  },
  {
   "cell_type": "markdown",
   "metadata": {},
   "source": [
    "### p.157 sympy"
   ]
  },
  {
   "cell_type": "code",
   "execution_count": 7,
   "metadata": {},
   "outputs": [],
   "source": [
    "import sympy as sp"
   ]
  },
  {
   "cell_type": "code",
   "execution_count": 8,
   "metadata": {},
   "outputs": [
    {
     "name": "stdout",
     "output_type": "stream",
     "text": [
      "x*cos(x) + sin(x)\n",
      "1\n",
      "cos(1) + sin(1)\n"
     ]
    }
   ],
   "source": [
    "x = sp.symbols('x')\n",
    "y = sp.symbols('y')\n",
    "f = x*sp.sin(x) + y\n",
    "diff_x = sp.diff(f, x)\n",
    "diff_y = sp.diff(f, y)\n",
    "print(diff_x)\n",
    "print(diff_y)\n",
    "print(diff_x.subs({x:1}))"
   ]
  },
  {
   "cell_type": "markdown",
   "metadata": {},
   "source": [
    "### p.158 sympy W->0"
   ]
  },
  {
   "cell_type": "code",
   "execution_count": 9,
   "metadata": {},
   "outputs": [
    {
     "name": "stdout",
     "output_type": "stream",
     "text": [
      "diff function :  98*W/3 - 196/3\n",
      "d/dw(func(1)) :  -98/3\n",
      "d/dw(func(1.5)) :  -16.3333333333333\n",
      "d/dw(func(1.8)) :  -6.53333333333333\n",
      "d/dw(func(1.9)) :  -3.26666666666667\n",
      "W, d/dw(func(W)) :  [0.28898549] -55.8931408077160\n"
     ]
    }
   ],
   "source": [
    "X = np.array([1,2,4])\n",
    "Y = np.array([2,4,8])\n",
    "\n",
    "W = np.random.random([1])\n",
    "cost = (np.sum((X*W - Y))**2) / X.size\n",
    "\n",
    "sp_W = sp.symbols('W')\n",
    "sp_cost = (np.sum((X*sp_W - Y))**2) / X.size\n",
    "#여기서 평균을 구하지 않아도 괜찮습니다\n",
    "\n",
    "f = sp.diff(sp_cost, sp_W)\n",
    "print('diff function : ', f)\n",
    "print('d/dw(func(1)) : ', f.subs({sp_W:1}))\n",
    "print('d/dw(func(1.5)) : ', f.subs({sp_W:1.5}))\n",
    "print('d/dw(func(1.8)) : ', f.subs({sp_W:1.8}))\n",
    "print('d/dw(func(1.9)) : ', f.subs({sp_W:1.9}))\n",
    "print('W, d/dw(func(W)) : ', W, f.subs({sp_W:W}))"
   ]
  },
  {
   "cell_type": "markdown",
   "metadata": {},
   "source": [
    "### p.159 learning rate = 0.01"
   ]
  },
  {
   "cell_type": "code",
   "execution_count": 10,
   "metadata": {},
   "outputs": [
    {
     "name": "stdout",
     "output_type": "stream",
     "text": [
      "W, d/dw(func(W)) :  [1.14298145429280] -27.9959391597684\n",
      "W, d/dw(func(W)) :  [1.42294084589049] -18.8505990342440\n",
      "W, d/dw(func(W)) :  [1.61144683623293] -12.6927366830577\n",
      "W, d/dw(func(W)) :  [1.73837420306351] -8.54644269992549\n",
      "W, d/dw(func(W)) :  [1.82383863006276] -5.75460475128317\n",
      "W, d/dw(func(W)) :  [1.88138467757559] -3.87476719919733\n",
      "W, d/dw(func(W)) :  [1.92013234956757] -2.60900991412620\n",
      "W, d/dw(func(W)) :  [1.94622244870883] -1.75673334217831\n",
      "W, d/dw(func(W)) :  [1.96378978213061] -1.18286711706672\n",
      "W, d/dw(func(W)) :  [1.97561845330128] -0.796463858824922\n",
      "W, d/dw(func(W)) :  [1.98358309188953] -0.536285664942113\n",
      "W, d/dw(func(W)) :  [1.98894594853895] -0.361099014394370\n",
      "W, d/dw(func(W)) :  [1.99255693868289] -0.243140003025545\n",
      "W, d/dw(func(W)) :  [1.99498833871315] -0.163714268703856\n",
      "W, d/dw(func(W)) :  [1.99662548140019] -0.110234274260606\n",
      "W, d/dw(func(W)) :  [1.99772782414279] -0.0742244113354786\n",
      "W, d/dw(func(W)) :  [1.99847006825615] -0.0499777702992219\n",
      "W, d/dw(func(W)) :  [1.99896984595914] -0.0336516986681374\n",
      "W, d/dw(func(W)) :  [1.99930636294582] -0.0226588104365391\n",
      "W, d/dw(func(W)) :  [1.99953295105019] -0.0152569323606002\n"
     ]
    }
   ],
   "source": [
    "np.random.seed(2222)\n",
    "learning_rate = 0.01\n",
    "X = np.array([1,2,4])\n",
    "Y = np.array([2,4,8])\n",
    "\n",
    "W = np.random.random([1])\n",
    "cost = (np.sum((X*W - Y))**2) / X.size\n",
    "\n",
    "sp_W = sp.symbols('W')\n",
    "sp_cost = (np.sum((X*sp_W - Y))**2) / X.size\n",
    "f = sp.diff(sp_cost, sp_W)\n",
    "\n",
    "for step in range(20):\n",
    "    W = W - learning_rate * f.subs({sp_W:W})\n",
    "    print('W, d/dw(func(W)) : ', W, f.subs({sp_W:W}))"
   ]
  },
  {
   "cell_type": "markdown",
   "metadata": {},
   "source": [
    "### p.161 Drawing Graph"
   ]
  },
  {
   "cell_type": "code",
   "execution_count": 11,
   "metadata": {},
   "outputs": [
    {
     "data": {
      "image/png": "[encoded data removed]",
      "text/plain": [
       "<Figure size 432x288 with 1 Axes>"
      ]
     },
     "metadata": {
      "needs_background": "light"
     },
     "output_type": "display_data"
    }
   ],
   "source": [
    "np.random.seed(2222)\n",
    "learning_rate = 0.01\n",
    "X = np.array([1,2,4])\n",
    "Y = np.array([2,4,8])\n",
    "\n",
    "W = np.random.random([1])\n",
    "\n",
    "sp_W = sp.symbols('W')\n",
    "sp_cost = (np.sum((X*sp_W - Y))**2) / X.size\n",
    "f = sp.diff(sp_cost, sp_W)\n",
    "\n",
    "for step in range(20):\n",
    "    W = W - learning_rate * f.subs({sp_W:W})\n",
    "    \n",
    "hypothesis = W*X\n",
    "\n",
    "plt.plot(X, Y, 'o') \n",
    "plt.plot(X, hypothesis)\n",
    "plt.show()"
   ]
  },
  {
   "cell_type": "markdown",
   "metadata": {},
   "source": [
    "### p.162 happy"
   ]
  },
  {
   "cell_type": "code",
   "execution_count": 12,
   "metadata": {},
   "outputs": [
    {
     "name": "stdout",
     "output_type": "stream",
     "text": [
      "3시간 놀면 행복 지수는? [5.99859885315056]\n"
     ]
    }
   ],
   "source": [
    "np.random.seed(2222)\n",
    "learning_rate = 0.01\n",
    "X = np.array([1,2,4])\n",
    "Y = np.array([2,4,8])\n",
    "\n",
    "W = np.random.random([1])\n",
    "\n",
    "sp_W = sp.symbols('W')\n",
    "sp_cost = (np.sum((X*sp_W - Y))**2) / X.size\n",
    "f = sp.diff(sp_cost, sp_W)\n",
    "\n",
    "for step in range(20):\n",
    "    W = W - learning_rate * f.subs({sp_W:W})\n",
    "    \n",
    "hypothesis = (lambda input : input*W)\n",
    "\n",
    "print('3시간 놀면 행복 지수는?', hypothesis(3))"
   ]
  },
  {
   "cell_type": "markdown",
   "metadata": {},
   "source": [
    "### p.164 Tensorflow"
   ]
  },
  {
   "cell_type": "code",
   "execution_count": 13,
   "metadata": {},
   "outputs": [],
   "source": [
    "import tensorflow as tf\n",
    "import numpy as np"
   ]
  },
  {
   "cell_type": "code",
   "execution_count": 14,
   "metadata": {},
   "outputs": [
    {
     "name": "stdout",
     "output_type": "stream",
     "text": [
      "step : 1 cost : 74.792564 W : [-0.8111151]\n",
      "step : 2 cost : 55.316574 W : [-0.417559]\n",
      "step : 3 cost : 40.912136 W : [-0.07910076]\n",
      "step : 4 cost : 30.258623 W : [0.21197337]\n",
      "step : 5 cost : 22.379272 W : [0.4622971]\n",
      "step : 6 cost : 16.551712 W : [0.67757547]\n",
      "step : 7 cost : 12.241646 W : [0.8627149]\n",
      "step : 8 cost : 9.053922 W : [1.0219347]\n",
      "step : 9 cost : 6.6962814 W : [1.1588639]\n",
      "step : 10 cost : 4.9525695 W : [1.276623]\n",
      "step : 11 cost : 3.6629198 W : [1.3778958]\n",
      "step : 12 cost : 2.709095 W : [1.4649904]\n",
      "step : 13 cost : 2.003647 W : [1.5398917]\n",
      "step : 14 cost : 1.4818974 W : [1.6043069]\n",
      "step : 15 cost : 1.096011 W : [1.659704]\n",
      "step : 16 cost : 0.81060964 W : [1.7073454]\n",
      "step : 17 cost : 0.5995271 W : [1.748317]\n",
      "step : 18 cost : 0.4434103 W : [1.7835526]\n",
      "step : 19 cost : 0.3279462 W : [1.8138553]\n",
      "step : 20 cost : 0.24254896 W : [1.8399155]\n",
      "3시간 놀면 행복 지수는? [5.519747]\n"
     ]
    }
   ],
   "source": [
    "tf.set_random_seed(2222)\n",
    "learning_rate = 0.01\n",
    "X_data = np.array([1,2,4])\n",
    "Y_data = np.array([2,4,8])\n",
    "\n",
    "X = tf.placeholder(tf.float32, [3])\n",
    "Y = tf.placeholder(tf.float32, [3])\n",
    "\n",
    "W = tf.Variable(tf.random_normal([1]), name='weight')\n",
    "hypothesis = X*W\n",
    "cost = tf.reduce_mean(tf.square(hypothesis - Y))\n",
    "\n",
    "optimizer = tf.train.GradientDescentOptimizer(learning_rate=learning_rate)\n",
    "train = optimizer.minimize(cost)\n",
    "\n",
    "sess = tf.Session()\n",
    "sess.run(tf.global_variables_initializer())\n",
    "\n",
    "for step in range(20):\n",
    "    cost_val, W_val,_ = sess.run([cost, W, train], feed_dict={X:X_data, Y:Y_data})\n",
    "    print(\"step :\", step+1, \"cost :\", cost_val, \"W :\", W_val)\n",
    "\n",
    "print('3시간 놀면 행복 지수는?', sess.run(3*W))\n",
    "sess.close()"
   ]
  }
 ],
 "metadata": {
  "kernelspec": {
   "display_name": "Python 3",
   "language": "python",
   "name": "python3"
  },
  "language_info": {
   "codemirror_mode": {
    "name": "ipython",
    "version": 3
   },
   "file_extension": ".py",
   "mimetype": "text/x-python",
   "name": "python",
   "nbconvert_exporter": "python",
   "pygments_lexer": "ipython3",
   "version": "3.6.5"
  }
 },
 "nbformat": 4,
 "nbformat_minor": 2
}
