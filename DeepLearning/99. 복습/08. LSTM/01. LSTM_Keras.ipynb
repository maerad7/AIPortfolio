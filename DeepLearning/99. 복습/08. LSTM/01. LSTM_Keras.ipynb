{
 "cells": [
  {
   "cell_type": "code",
   "execution_count": 1,
   "metadata": {},
   "outputs": [
    {
     "name": "stdout",
     "output_type": "stream",
     "text": [
      "Requirement already satisfied: nltk in c:\\users\\p\\anaconda3\\lib\\site-packages (3.3)\n",
      "Requirement already satisfied: six in c:\\users\\p\\anaconda3\\lib\\site-packages (from nltk) (1.11.0)\n"
     ]
    }
   ],
   "source": [
    "!pip install nltk"
   ]
  },
  {
   "cell_type": "code",
   "execution_count": 2,
   "metadata": {},
   "outputs": [],
   "source": [
    "import nltk"
   ]
  },
  {
   "cell_type": "code",
   "execution_count": 3,
   "metadata": {},
   "outputs": [
    {
     "name": "stdout",
     "output_type": "stream",
     "text": [
      "[nltk_data] Downloading package punkt to\n",
      "[nltk_data]     C:\\Users\\p\\AppData\\Roaming\\nltk_data...\n",
      "[nltk_data]   Unzipping tokenizers\\punkt.zip.\n"
     ]
    },
    {
     "data": {
      "text/plain": [
       "True"
      ]
     },
     "execution_count": 3,
     "metadata": {},
     "output_type": "execute_result"
    }
   ],
   "source": [
    "nltk.download('punkt')"
   ]
  },
  {
   "cell_type": "code",
   "execution_count": 4,
   "metadata": {},
   "outputs": [
    {
     "name": "stdout",
     "output_type": "stream",
     "text": [
      "Counter({'the': 4, 'people': 3, ',': 3, 'government': 1, 'of': 1, 'by': 1, 'for': 1, 'shall': 1, 'not': 1, 'perish': 1, 'from': 1, 'earth': 1})\n"
     ]
    }
   ],
   "source": [
    "import collections\n",
    "import nltk\n",
    "\n",
    "data = \"\"\"Government of the people, by the people, \n",
    "for the people, shall not perish from the Earth\"\"\"\n",
    "\n",
    "word_freqs = collections.Counter()\n",
    "words = nltk.word_tokenize(data.lower())\n",
    "for word in words:\n",
    "    word_freqs[word] += 1\n",
    "print(word_freqs)"
   ]
  },
  {
   "cell_type": "code",
   "execution_count": 1,
   "metadata": {
    "scrolled": true
   },
   "outputs": [
    {
     "name": "stderr",
     "output_type": "stream",
     "text": [
      "C:\\Users\\p\\Anaconda3\\lib\\site-packages\\h5py\\__init__.py:36: FutureWarning: Conversion of the second argument of issubdtype from `float` to `np.floating` is deprecated. In future, it will be treated as `np.float64 == np.dtype(float).type`.\n",
      "  from ._conv import register_converters as _register_converters\n",
      "Using TensorFlow backend.\n"
     ]
    }
   ],
   "source": [
    "# -*- coding: utf-8 -*-\n",
    "from keras.layers.core import Activation, Dense, Dropout, SpatialDropout1D\n",
    "from keras.layers.embeddings import Embedding\n",
    "from keras.layers.recurrent import LSTM\n",
    "from keras.models import Sequential\n",
    "from keras.preprocessing import sequence\n",
    "from sklearn.model_selection import train_test_split\n",
    "import collections\n",
    "import matplotlib.pyplot as plt\n",
    "import nltk\n",
    "import numpy as np\n",
    "import os\n",
    "\n",
    "DATA_DIR = \"./data\"\n",
    "\n",
    "EMBEDDING_SIZE = 128\n",
    "HIDDEN_LAYER_SIZE = 64\n",
    "BATCH_SIZE = 32\n",
    "NUM_EPOCHS = 10\n",
    "\n",
    "# 학습 데이터를 읽고 사전을 만든다.\n",
    "maxlen = 0\n",
    "word_freqs = collections.Counter()\n",
    "num_recs = 0\n",
    "ftrain = open(os.path.join(DATA_DIR, \"umich-sentiment-train.txt\"), 'r',encoding='utf8')\n",
    "for line in ftrain:\n",
    "    label, sentence = line.strip().split(\"\\t\")\n",
    "    words = nltk.word_tokenize(sentence.lower())\n",
    "    if len(words) > maxlen:\n",
    "        maxlen = len(words)\n",
    "    for word in words:\n",
    "        word_freqs[word] += 1\n",
    "    num_recs += 1\n",
    "ftrain.close()\n",
    "\n"
   ]
  },
  {
   "cell_type": "code",
   "execution_count": 2,
   "metadata": {},
   "outputs": [
    {
     "name": "stdout",
     "output_type": "stream",
     "text": [
      "Oh, and Brokeback Mountain was a terrible movie.\n"
     ]
    }
   ],
   "source": [
    "print(sentence)"
   ]
  },
  {
   "cell_type": "code",
   "execution_count": 8,
   "metadata": {},
   "outputs": [
    {
     "name": "stdout",
     "output_type": "stream",
     "text": [
      "Counter({'i': 4705, ',': 4194, '.': 3558, 'the': 3221, 'and': 2150, '!': 2131, 'harry': 2088, 'vinci': 2001, 'da': 1998, 'brokeback': 1996, 'code': 1986, 'mountain': 1982, 'potter': 1817, '...': 1685, 'love': 1542, 'is': 1521, 'a': 1305, 'was': 1179, 'mission': 1090, 'impossible': 1089, 'awesome': 1028, 'like': 974, 'it': 897, 'to': 808, 'movie': 777, 'that': 718, \"'s\": 629, 'because': 608, 'sucks': 592, 'hate': 578, 'sucked': 509, 'so': 506, 'as': 473, 'my': 462, '``': 449, 'much': 446, 'of': 424, 'really': 374, 'movies': 366, 'stupid': 365, 'you': 329, 'down': 322, 'but': 295, 'we': 295, 'be': 290, 'with': 288, 'just': 287, 'one': 283, 'know': 276, 'potter..': 276, 'suck': 273, 'out': 269, '3': 267, 'who': 263, '/': 263, 'or': 263, 'am': 259, 'loved': 256, 'want': 254, 'into': 253, 'which': 251, 'right': 249, 'for': 241, 'an': 225, \"n't\": 223, 'this': 213, 'me': 212, ':': 207, 'are': 203, 'think': 202, 'not': 198, 'how': 197, 'if': 195, 'depressing': 188, 'people': 183, 'his': 182, 'would': 181, 'up': 180, 'reading': 179, 'why': 178, 'series': 177, 'there': 176, 'in': 175, 'only': 175, 'fucking': 174, 'terrible': 173, 'she': 171, 'oh': 170, 'story': 170, 'being': 168, '..': 167, 'left': 166, 'ok': 163, 'guy': 163, 'here': 163, 'start': 161, 'felicia': 160, '(': 137, 'have': 135, 'book': 133, 'about': 129, 'beautiful': 125, 'good': 122, 'also': 118, 'too': 118, 'on': 116, 'went': 115, 'do': 115, 'read': 113, 'at': 110, 'then': 108, 'can': 108, 'saw': 106, 'first': 104, 'by': 103, 'tom': 103, 'more': 102, 'thought': 102, 'most': 102, '2': 102, 'liked': 101, 'way': 101, 'from': 101, 'absolutely': 101, 'still': 100, 'horrible': 100, 'well': 99, 'time': 99, 'got': 98, 'awesome..': 98, 'he': 98, 'when': 98, 'big': 97, 'heard': 97, 'ever': 96, 'were': 96, 'what': 96, 'watch': 96, 'film': 96, 'going': 96, 'great': 95, 'better': 93, 'such': 93, 'things': 93, 'does': 92, 'last': 92, 'said': 92, '?': 91, 'ca': 91, '=': 91, 'yeah': 90, 'gay': 90, 'boring': 90, 'both': 89, 'watching': 89, 'again': 88, 'wait': 88, 'making': 88, 'never': 88, 'man': 88, 'same': 87, \"'re\": 87, '’': 87, 'these': 87, 'excellent': 86, 'friday': 86, 'friends': 86, 'always': 86, 'person': 86, 'sucked..': 86, 'opinion': 85, 'anyone': 85, 'na': 85, 'cool': 85, 'says': 85, 'cock': 85, 'side': 84, 'make': 84, 'rocks': 84, 'him': 84, 'take': 84, 'anyway': 84, 's': 83, 'fun': 83, 'mom': 83, 'where': 83, 'worth': 83, 'around': 83, 'either': 83, 'knows': 83, 'thats': 82, 'luv': 82, 'wanted': 82, 'dad': 82, 'care': 82, 'freakin': 82, 'character': 82, 'daniel': 82, 'community': 82, 'main': 82, 'place': 82, 'hates': 82, 'review': 82, 'b': 82, 'crazy': 81, 'stand': 81, 'begin': 81, 'turned': 81, 'soo': 81, 'gon': 81, 'reality': 81, 'bitch': 81, 'table': 81, 'type': 81, 'dies': 81, 'cowboy': 81, 'hat': 81, 'snuck': 81, 'awards': 81, 'acceptable': 81, 'becoming': 81, 'past': 81, 'needs': 81, 'head': 81, 'horrible..': 81, 'seen..': 81, 'desperately': 80, \"love'the\": 80, 'lubb': 80, 'hoot': 80, 'silent': 80, 'hill': 80, 'coz': 80, 'hella': 80, 'goin': 80, 'sentry': 80, 'station': 80, 'bonkers': 80, 'cleaning': 80, 'grabs': 80, 'keys': 80, 'dash': 80, 'kirsten': 80, 'leah': 80, 'kate': 80, 'escapades': 80, 'joining': 80, 'deep': 80, 'profound': 80, 'differently': 80, 'serious': 80, 'count': 80, 'catcher': 80, 'tye': 80, 'jane': 80, 'eyre': 80, 'virgin': 80, 'suicides': 80, \"'yeah\": 80, 'acne': 80, \"'..\": 80, 'dudeee': 80, 'homosexuality': 80, 'hung': 80, 'kelsie': 80, 'combining': 80, 'gary': 80, 'gin': 80, 'zen': 80, 'letting': 80, '2.5': 80, 'stars': 80, 'quiz': 80, 'bye..': 80, 'retarted': 80, 'black': 80, 'outshines': 80, 'material': 80, 'plain': 80, 'likes': 80, 'dragged': 80, 'draco': 80, 'malfoy': 80, 'trousers': 80, 'hips': 80, 'throat': 80, 'vigor': 80, 'whimpering': 80, 'noises': 80, 'panting': 80, 'groaning': 80, 'blonds': 80, 'rock-hard': 80, 'aching': 80, 'wotshisface': 80, 'slap': 80, 'helped': 80, 'bobbypin': 80, 'insanely': 80, 'laughed': 80, 'jokes..': 80, 'sit': 80, 'mtv': 80, 'reminded': 80, 'despised': 80, 'see': 48, ')': 44, 'iii': 40, 'hated': 38, 'all': 36, \"'m\": 35, 'did': 33, 'pretty': 31, 'though': 29, 'evil': 29, 'even': 27, 'ass': 27, 'books': 25, 'say': 24, 'they': 24, '*': 23, 'go': 23, 'had': 23, 'lot': 21, 'now': 21, 'get': 20, 'other': 19, 'will': 19, 'after': 19, 'cruise': 19, 'very': 18, 'some': 17, '--': 17, '<': 16, 'its': 16, 'watched': 16, 'amazing': 15, 'best': 15, 'kinda': 15, 'than': 14, 'actually': 14, 'no': 14, 'balls': 14, 'seen': 13, 'already': 13, 'made': 13, 'awful': 13, 'thing': 12, 'has': 12, 'may': 12, 'two': 12, 'sad': 12, 'second': 12, 'since': 12, 'lol': 12, 'mountain..': 12, \"'ve\": 11, \"'d\": 11, 'over': 11, 'off': 11, 'us': 11, 'new': 11, 'miss': 10, 'far': 10, \"'ll\": 10, 'been': 10, 'enjoy': 9, 'night': 9, '&': 9, '[': 9, 'tell': 9, ']': 9, 'shit': 9, 'should': 9, 'three': 9, 'everyone': 9, 'action': 9, 'theme': 9, 'before': 9, 'your': 9, 'real': 9, 'could': 9, 'talk': 9, 'crash': 9, 'those': 9, 'code..': 8, 'enjoyed': 8, 'yet': 8, 'having': 8, 'looks': 8, 'while': 8, 'bad': 8, 'them': 8, 'life': 8, '>': 8, 'try': 8, 'sucks..': 8, 'course': 7, 'something': 7, 'wrong': 7, 'hey': 7, 'interesting': 7, 'times': 7, 'totally': 7, \"'\": 7, 'mean': 7, 'talking': 7, 'else': 7, 'feel': 7, 'little': 7, 'sure': 7, 'thinking': 7, 'glad': 7, 'anything': 7, 'world': 7, 'demons': 6, 'bit': 6, 'quite': 6, 'seeing': 6, 'finished': 6, 'lost': 6, 'our': 6, 'movie..': 6, 'x-men': 6, 'day': 6, 'back': 6, 'almost': 6, 'long': 6, 'year': 6, 'fan': 6, 'fact': 6, 'freaking': 6, 'school': 6, 'picture': 6, 'might': 6, 'kids': 6, 'okay': 6, 'saying': 6, 'fandom': 6, 'every': 6, 'much..': 6, 'told': 6, 'cowboys': 6, 'god': 6, '-': 6, 'crappy': 6, 'sucking': 6, 'angels': 5, 'few': 5, 'personally': 5, 'crap': 5, 'probably': 5, 'im': 5, 'sick': 5, 'must': 5, 'their': 5, 'until': 5, 'end': 5, 'kind': 5, 'novel': 5, 'luck': 5, 'officially': 5, 'tonight': 5, 'doing': 5, 'least': 5, 'stories': 5, 'theater': 5, 'show': 5, 'money': 5, 'used': 5, 'culture': 5, 'lord': 5, 'rings': 5, '”': 5, 'apparently': 5, 'through': 5, 'news': 5, 'won': 5, 'give': 5, 'bogus': 5, 'inaccurate': 5, 'hear': 5, 'mother': 5, 'own': 4, 'different': 4, 'girl': 4, 'idea': 4, 'telling': 4, 'music': 4, 'omg': 4, 'damn': 4, 'half': 4, 'week': 4, 'wan': 4, 'too..': 4, 'come': 4, 'jesus': 4, 'move': 4, 'funny': 4, 'days': 4, '3..': 4, 'played': 4, 'finally': 4, 'fell': 4, 'song': 4, 'classes': 4, 'fire': 4, 'films': 4, 'yes': 4, 'comes': 4, 'children': 4, 'club': 4, 'fuck': 4, 'sexy': 4, 'part': 4, 'someone': 4, 'ta': 4, 'incredibly': 4, 'once': 4, 'decided': 4, 'hope': 4, 'oscar': 4, 'shitty': 4, 'ass..': 4, 'majorly': 4, 'major': 4, 'john': 4, 'woo': 4, '$': 4, 'georgia': 4, 'her': 4, 'board': 4, 'nearly': 4, 'hollywood': 4, ';': 3, 'religious': 3, 'heart': 3, 'hard': 3, 'dan': 3, 'brown': 3, 'lit': 3, 'absurd': 3, 'next': 3, 'books..': 3, 'pages': 3, '+': 3, 'besides': 3, 'myself': 3, 'many': 3, 'came': 3, 'agree': 3, 'hell': 3, 'playing': 3, 'hedge': 3, 'given': 3, 'kick': 3, 'stayed': 3, 'update': 3, 'sort': 3, 'fat': 3, 'rent': 3, 'looking': 3, 'nothing': 3, 'ten': 3, 'top': 3, 'gun': 3, 'stop': 3, 'cuz': 3, 'anyways': 3, 'ask': 3, 'wondering': 3, 'except': 3, 'rather': 3, 'let': 3, 'especially': 3, 'between': 3, 'shows': 3, 'stuff': 3, 'minutes': 3, 'example': 3, 'goblet': 3, '�': 3, 'eragon': 3, '6th': 3, 'wish': 3, 'write': 3, 'loves': 3, 'm': 3, 'deal': 3, 'fanfiction': 3, 'any': 3, '4': 3, 'win': 3, 'gorgeous': 3, 'level': 3, '_': 3, 'case': 3, 'comment': 3, 'felt': 3, 'none': 3, 'college': 3, 'death': 3, 'halloween': 3, 'need': 3, 'gift': 3, 'nc-17': 3, 'taking': 3, 'food': 3, 'sorry': 3, 'along': 3, 'during': 3, 'hands': 3, 'short': 3, 'thank': 3, 'jake': 3, 'ban': 3, 'critics': 3, 'jack': 3, 'cried': 3, 'racism': 3, 'better..-we': 3, 'worthless': 3, 'audrey': 3, 'tautou': 3, 'work': 3, 'erm': 3, 'looked': 3, 't': 3, 'passion': 3, 'donkey': 3, 'suck..': 3, 'stinks': 3, 'conclusion': 3, 'true': 3, 'lame': 3, 'whole': 3, 'god-awful': 3, '“': 3, 'bullshit': 3, 'rant': 3, 'evil..': 3, 'dont': 3, 'mouth': 3, 'live': 3, 'extremely': 3, 'disliked': 3, 'hold': 2, 'buy': 2, 'ive': 2, 'turn': 2, 'figures': 2, 'old': 2, 'takes': 2, 'normal': 2, 'biased': 2, 'able': 2, 'equal': 2, 'nor': 2, 'cold': 2, 'page': 2, 'awesomest': 2, 'sounds': 2, 'aaron': 2, 'knew': 2, 'took': 2, 'book..': 2, 'recently': 2, 'theaters': 2, 'against': 2, 'religion': 2, 'together': 2, 'whatever': 2, 'lah': 2, 'soon': 2, 'ones': 2, 'hanks': 2, 'sooo': 2, 'hating': 2, 'awesomeness': 2, 'hardcore': 2, 'fireworks': 2, '‘': 2, 'accompaniment': 2, 'whistles': 2, 'bangs': 2, 'colourfully': 2, 'sky': 2, 'events': 2, 'drive': 2, 'haunt': 2, '-and': 2, 'yea': 2, 'fall': 2, 'class': 2, 'trailers': 2, 'catch': 2, 'flick': 2, 'saturday': 2, 'job': 2, 'ticket': 2, '7': 2, 'run': 2, 'sing': 2, 'makes': 2, 'cute': 2, 'problem': 2, 'geek': 2, 'tickets': 2, 'definitely': 2, 'instead': 2, 'btw': 2, 'x': 2, 'meeting': 2, 'party': 2, 'special': 2, 'ya': 2, 'definately': 2, 'hide': 2, 'feeling': 2, 'hot': 2, 'third': 2, 'scene': 2, 'chris': 2, 'showing': 2, 'pictures': 2, 'guys': 2, 'putting': 2, 'pocket': 2, 'hero': 2, 'tv': 2, 'although': 2, 'tc': 2, 'issues': 2, 'play': 2, 'impossible..': 2, 'joke': 2, 'girls': 2, 'maybe': 2, 'politics': 2, 'house': 2, 'proud': 2, 'ron': 2, 'favourite': 2, 're-reading': 2, 'half-blood': 2, 'prince': 2, 'final': 2, 'shoes': 2, 'stone': 2, 'j.': 2, 'k.': 2, 'rowling': 2, 'strangely': 2, 'hp': 2, 'fanfic': 2, 'kid': 2, 'perhaps': 2, 'often': 2, 'decent': 2, 'enough': 2, 'suppose': 2, 'pop': 2, 'funniest': 2, 'costumes': 2, 'la': 2, 'narnia': 2, 'disney': 2, 'eating': 2, 'fault': 2, 'empty': 2, 'dream': 2, 'body': 2, 'nerd': 2, 'ruined': 2, 'fabulous': 2, 'scar': 2, 'bought': 2, '–': 2, 'adult': 2, 'adorable': 2, 'everything': 2, \"y'all\": 2, 'author': 2, 'friend': 2, 'student': 2, 'forgotten': 2, 'dragons': 2, 'hogwarts': 2, 'emma': 2, 'watson': 2, 'brilliant': 2, '~': 2, 'popular': 2, 'craze': 2, 'word': 2, 'fic': 2, 'vampire': 2, 'n': 2, 'sivullinen': 2, 'requested': 2, 'het': 2, 'quizzes': 2, 'future': 2, 'till': 2, 'simply': 2, 'writing': 2, 'sense': 2, 'conquering': 2, 'friendships': 2, 'formed': 2, 'related': 2, 'christmas': 2, 'whether': 2, 'stopped': 2, 'months': 2, 'idk': 2, 'honor': 2, 'cry': 2, 'asking': 2, 'queer': 2, 'heath': 2, 'dick': 2, 'yesterday': 2, 'asian': 2, 'beautiful..': 2, 'copy': 2, 'choice': 2, 'kiss': 2, 'unbelievably': 2, '©': 2, 'asleep': 2, 'mentioned': 2, 'capote': 2, 'mention': 2, 'ang': 2, 'u': 2, 'understand': 2, 'industry': 2, 'rest': 2, 'acting': 2, 'deserved': 2, 'full': 2, 'carefully': 2, 'happy': 2, 'generally': 2, 'score': 2, 'white': 2, 'mainstream': 2, 'challenge': 2, 'actor': 2, 'super': 2, '-we': 2, 'written': 2, 'expected': 2, 'question': 2, 'beat': 2, 'boring..': 2, 'piece': 2, 'butt': 2, 'code-sucked': 2, 'loathe': 2, 'lie': 2, 'favorite': 2, 'everybody': 2, 'hoover': 2, 'less': 2, 'hopefully': 2, 'coming': 2, 'name': 2, 'due': 2, 'weekend': 2, 'couple': 2, 'didnt': 2, 'compared': 2, 'use': 2, 'reaction': 2, 'royally': 2, 'attempt': 2, 'johnny': 2, 'article': 2, 'draw': 2, 'christian': 2, 'beans': 2, 'wo': 2, 'getting': 2, 'tho': 2, 'chinese': 2, 'nice': 2, 'mi3': 2, 'please': 2, 'tired': 2, 'franchise': 2, 'ran': 2, 'cocktail': 2, 'phillip': 2, 'hoffman': 2, 'laid': 2, 'egg': 2, 'cringe': 2, 'whenever': 2, 'respect': 2, 'lousy': 2, 'point': 2, 'fit': 2, 'aka': 2, 'dumb': 2, 'actual': 2, 'blame': 2, 'ending': 2, 'dementors': 2, 'costume': 2, 'tea': 2, 'infuser': 2, 'die': 2, 'sometimes': 2, 'wesley': 2, 'captain': 2, 'picard': 2, 'douche': 2, 'tragic': 2, 'bible': 2, 'libraries': 2, 'witchcraft': 2, 'color': 2, 'dance': 2, 'obnoxious': 2, 'thinks': 2, 'it..': 2, 'thousand': 2, 'ultimate': 2, 'marvel': 2, 'education': 2, 'exquisite': 2, 'marcia': 2, 'gaither': 2, 'teaches': 2, 'wiccanism': 2, 'controversy': 2, 'working': 2, 'overall': 2, 'lords': 2, 'soul': 2, 'equally': 2, 'ago': 2, 'opened': 2, 'dictate': 2, 'reply': 2, 'cut': 2, 'mirror': 2, 'speaking': 2, 'home': 2, 'goth': 2, 'academy': 2, 'gayness': 2, 'tried': 2, '10': 2, 'tale': 2, '\\x80': 2, '\\x99': 2, 'rented': 2, 'twist': 2, 'record': 2, 'murderball-immediately': 2, 'robbed': 2, 'favor': 2, 'dislike': 2, 'shittiest': 2, 'clive': 1, 'cussler': 1, 'relic': 1, 'plausible': 1, 'ultimatly': 1, 'seem': 1, 'exaggeration': 1, 'midnight': 1, 'wal-mart': 1, 'kite': 1, 'runner': 1, 'light': 1, 'radio': 1, 'mind': 1, 'slash': 1, 'race': 1, 'disappointed': 1, '#': 1, '8230': 1, 'backtory': 1, 'various': 1, 'historical': 1, 'scifi': 1, 'ian': 1, 'mckellen': 1, 'husband': 1, 'joe': 1, 'bridget': 1, 'jones': 1, 'appeals': 1, 'chick': 1, 'arenas': 1, 'genre': 1, 'explore': 1, 'novels': 1, 'soundtrack': 1, 'pleased': 1, 'open-mindedness': 1, 'enjoyment': 1, 'reads': 1, 'ripping': 1, 'acoustic': 1, 'neither': 1, 'amazingly': 1, 'possibly': 1, 'figure': 1, '286': 1, 'seriously': 1, 'probable': 1, 'fr': 1, 'code-that': 1, 'raises': 1, 'theological': 1, 'questions': 1, '\\x92': 1, 'tour': 1, 'inside': 1, '3333': 1, 'onto': 1, 'angel': 1, 'code-illustrated': 1, 'edition': 1, 'thriller': 1, \"code'it\": 1, 'code-very': 1, 'angle': 1, 'friggin': 1, '30': 1, 'undercover': 1, 'outta': 1, 'drowining': 1, 'lynn': 1, 'jon': 1, 'code-other': 1, 'luau': 1, 'gasp': 1, 'protests': 1, 'share': 1, 'idiots': 1, 'dating': 1, 'sister': 1, 'admired': 1, 'bachelor': 1, 'beyond': 1, 'tome': 1, 'unauthorized': 1, 'deals': 1, 'inspired': 1, 'ridiculous': 1, 'panties': 1, 'bunch': 1, 'heresies': 1, 'blashpemies': 1, 'allegedly': 1, 'contains': 1, 'decide': 1, 'ti': 1, 'hand': 1, 'hooked': 1, 'melbourne': 1, 'hahash': 1, 'tooo': 1, 'honestly': 1, 'awesome-good': 1, 'ur': 1, 'tennis': 1, 'tournament..': 1, 'america': 1, 'supporting': 1, \"book'da\": 1, 'finshed': 1, 'comprehend': 1, 'explain': 1, 'power': 1, 'ps': 1, 'exciting': 1, 'wow': 1, 'updated': 1, 'hammy': 1, 'rocks..': 1, 'unpredictable': 1, 'spy': 1, 'scenario': 1, 'astonishingly': 1, 'free': 1, 'three-generation': 1, 'team': 1, 'infiltrate': 1, 'hour': 1, 'doors': 1, 'open': 1, 'wicked': 1, '10.9': 1, 'gym': 1, 'suspenseful': 1, 'plus': 1, 'attached': 1, 'clarksville': 1, 'summer': 1, 'grown': 1, 'teevee': 1, 'cant': 1, 'eek': 1, 'rolled': 1, 'fallon': 1, 'convo': 1, 'daddy': 1, 'speaker': 1, 'exelent': 1, 'game': 1, 'jamie': 1, '8': 1, 'lil': 1, 'bro': 1, 'tied': 1, 'mall': 1, 'shopping': 1, 'wacked': 1, 'however': 1, 'matters': 1, 'pressing': 1, 'alarm': 1, 'codes': 1, 'fortress..': 1, 'excersizing': 1, 'funner': 1, 'latest': 1, 'kicked': 1, 'period': 1, 'characterization': 1, 'effects': 1, 'pretending': 1, 'moives': 1, 'mindless': 1, 'tech': 1, 'small': 1, 'cars': 1, 'etc': 1, 'surprisingly': 1, 'asshole': 1, '1': 1, 'sunday': 1, 'tests': 1, 'afterschool': 1, 'relaxed': 1, 'ate': 1, 'margaritas': 1, 'w': 1, 'emily': 1, 'despise': 1, 'scientology': 1, 'crusade': 1, 'stinkin': 1, '-ike..': 1, 'holy': 1, 'fyi-mission': 1, 'brazil': 1, 'harrison': 1, 'viewings': 1, 'vic': 1, 'bday': 1, 'impossible-3..': 1, 'screening': 1, 'awesomely': 1, 'um': 1, 'trece': 1, 'bet': 1, 'blows': 1, 'exception': 1, 'eh': 1, 'experience': 1, 'camp': 1, 'setting': 1, 'land': 1, 'places': 1, 'hand..': 1, 'spin': 1, 'middle': 1, 'tan': 1, 'baby': 1, 'possum': 1, 'vault': 1, 'kelse': 1, 'spontaneously': 1, '10pm': 1, '~..': 1, 'erin': 1, 'firstly': 1, 'lot..': 1, 'settin': 1, 'halls': 1, 'partyin': 1, 'weekends': 1, 'clubbin': 1, 'lunch': 1, 'causing': 1, 'disruption': 1, 'wherever': 1, 'dart': 1, 'song..': 1, 'considered': 1, 'hooker': 1, 'gay-scientologist-mission': 1, 'orig': 1, 'alright': 1, 'halle': 1, 'barry': 1, 'hugh': 1, 'jackson': 1, 'jessica': 1, 'dumb..': 1, 'frenzied': 1, 'phone': 1, 'calls': 1, 'laura': 1, 'garrett': 1, 'abrams': 1, 'reason': 1, 'explosions': 1, 'straight': 1, 'row': 1, 'magic': 1, 'today': 1, 'rocked': 1, 'preview': 1, 'note': 1, 'davinci': 1, 'quip': 1, 'v': 1, 'freak': 1, 'pull': 1, 'style': 1, 'th': 1, 'bond': 1, 'kicking': 1, 'throw': 1, 'jail': 1, 'break': 1, 'reader': 1, 'excited': 1, 'lines': 1, 'whom': 1, 'shadeslayer': 1, 'truth': 1, 'philosopher': 1, 'paper': 1, 'entitled': 1, 'twilight': 1, 'unfortunate': 1, 'tons': 1, 'clickfive': 1, 'cake': 1, 'texts-fantasy': 1, 'obviously-is': 1, 'criticized': 1, 'oversimplifying': 1, 'struggle': 1, 'vs.': 1, 've': 1, 'thick': 1, 'burnt': 1, 'heavy': 1, 'enjoying': 1, 'sawyer': 1, 'hookup': 1, 'rereading': 1, 'picky': 1, '1st': 1, '2nd': 1, 'clearly': 1, 'planned': 1, 'biggie': 1, 'admiring': 1, 'sisters': 1, 'collection': 1, 'waited': 1, 'planning': 1, '2007': 1, 'unfortunately': 1, 'japenese': 1, 'food..': 1, 'undoubtedly': 1, 'purchase': 1, 'dvd': 1, 'walks': 1, 'beach': 1, 'oreos': 1, 'ootp': 1, 'sixth': 1, 'desperate': 1, 'discovered': 1, 'dork': 1, 'found': 1, 'german..': 1, 'primary': 1, 'bits': 1, 'happiness': 1, 'usually': 1, 'form': 1, 'storytimes': 1, 'occasional': 1, 'talks': 1, 'julia': 1, 'marisa': 1, 'spec': 1, 'candy': 1, 'requim': 1, 'christopher': 1, 'creed': 1, '@': 1, 'shraddha': 1, 'lotr': 1, 'superman': 1, 'budget': 1, 'rare': 1, 'books-not': 1, 'bootlegged': 1, 'radcliffe': 1, 'those..': 1, 'completely': 1, 'poem': 1, 'chance': 1, 'prize': 1, 'equus': 1, 'measure': 1, 'march': 1, '31st': 1, 'artemis': 1, 'fowl': 1, 'colony': 1, 'eoin': 1, 'colfer': 1, '385': 1, 'young': 1, 'near': 1, 'realize': 1, 'mocking..': 1, \"freagin'love\": 1, 'magical': 1, 'lore': 1, 'personaly': 1, 'encourage': 1, 'wholesome': 1, 'sakes': 1, 'scarf': 1, 'christmas..': 1, 'kept': 1, 'g': 1, 'lilo': 1, 'stitch': 1, 'barnyard': 1, 'discuss': 1, 'theories': 1, 'sorcerer': 1, 'low': 1, 'discussing': 1, 'learn': 1, 'appeal': 1, 'date': 1, 'jamaica': 1, 'queens..': 1, 'earrings': 1, 'goes': 1, 'adore': 1, 'thanks': 1, '33': 1, 'task': 1, 'achieved': 1, 'icons..': 1, 'reasons': 1, 'belong': 1, 'grey': 1, 'anatomy': 1, 'dedicated': 1, 'friday-harry': 1, 'feast': 1, 'spoke': 1, 'mrs.': 1, 'cowan': 1, 'briefly': 1, 'independent': 1, 'study': 1, 'lazy': 1, 'semester': 1, 'dorks': 1, 'delicious': 1, 'away': 1, 'enjoys': 1, 'in-depth': 1, 'conversations': 1, 'subjects': 1, 'interested': 1, 'intrigued': 1, 'kick-ass': 1, 'robe': 1, 'lends': 1, 'itself': 1, 'nicely': 1, 'deemed': 1, 'gavin': 1, 'degraw': 1, 'beatles': 1, 'drawing..': 1, 'fantasy': 1, 'hall': 1, 'kaka..': 1, 'television': 1, 'screens': 1, 'perfect': 1, 'literary': 1, 'version': 1, 'adaptation': 1, 'grips': 1, 'state': 1, 'dress': 1, 'find': 1, 'anywhere': 1, 'town': 1, 'veil': 1, 'darkness': 1, 'oceans': 1, 'phoenix': 1, 'total': 1, '517,648': 1, 'counting': 1, 'fairly': 1, 'drawn': 1, 'deciding': 1, '7th': 1, '-..': 1, 'xd': 1, 'anime': 1, 'manga': 1, 'grow': 1, 'rehearsal': 1, 'invisibility': 1, 'cloak': 1, 'folows': 1, 'machine': 1, 'lets': 1, 'portuguese': 1, 'spanish': 1, '200': 1, 'you..': 1, 'explaination': 1, 'travel': 1, 'packs': 1, 'animated': 1, 'emotes': 1, 'keep': 1, 'gettting': 1, 'fits': 1, '5': 1, 'cast': 1, 'spells': 1, 'fair': 1, 'lower': 1, 'shade': 1, 'others': 1, 'book-i': 1, 'posts': 1, 'pirates': 1, 'caribbean': 1, 'sarcastic': 1, 'quirky': 1, 'humor': 1, 'otp': 1, 'shipping': 1, 'winter': 1, 'specifically': 1, 'tree': 1, 'snowing': 1, 'outside': 1, 'devastate': 1, 'included': 1, 'coloured': 1, 'intellectual': 1, 'debates..': 1, 'irrespective': 1, 'writes': 1, 'legacy': 1, 'grand': 1, 'finale': 1, 'lives': 1, 'hype': 1, 'younger': 1, 'sis': 1, 'theres': 1, 'avatar': 1, 'sports': 1, 'messiah': 1, 'complex': 1, 'police': 1, 'longer': 1, 'ones..': 1, 'intense': 1, 'phase': 1, 'icons': 1, 'literature': 1, 'val': 1, 'starring': 1, 'performance': 1, 'titus': 1, 'rep': 1, 'explains': 1, 'oddly': 1, 'cover': 1, 'chronological': 1, 'ground': 1, 'unexpected': 1, 'basically': 1, 'diversity': 1, 'shout': 1, 'esther': 1, 'calling': 1, 'screenplay': 1, 'mph': 1, 'sale': 1, 'expo': 1, 'gosh': 1, 'lol..': 1, 'whereas': 1, 'brother': 1, 'cousins': 1, 'parents': 1, 'amazing..': 1, 'mountain-watched': 1, 'twice': 1, 'genres': 1, 'eye': 1, 'gn': 1, 'gl': 1, 'important': 1, 'hyped': 1, 'mountain-beautiful': 1, 'sweeping': 1, 'moving': 1, 'bbm': 1, 'rps': 1, 'figured': 1, 'interest': 1, 'picturesque': 1, 'quaintly': 1, 'attractive': 1, 'impressive': 1, 'tourist': 1, 'horses': 1, 'hugged': 1, 'wranglers': 1, \"him'i\": 1, 'o': 1, 'story-i': 1, 'riding': 1, 'giants': 1, 'napoleon': 1, 'dynamite': 1, 'silly': 1, 'pc': 1, 'check': 1, 'days..': 1, 'spectacularly': 1, 'confess': 1, 'judgement': 1, '16': 1, '£': 1, 'hill-form': 1, \"ain't..\": 1, 'springer': 1, '-yes': 1, 'supper': 1, 'latter': 1, 'tiny': 1, 'pink': 1, 'shame': 1, 'transamerica': 1, 'apart': 1, 'lee..': 1, 'film..': 1, 'defensive': 1, 'positions': 1, 'gays': 1, 'wonderful': 1, '33..': 1, 'discussed': 1, 'abortion': 1, 'south': 1, 'dakota': 1, 'strip': 1, 'sexual': 1, 'crash-and': 1, 'tells': 1, 'easy': 1, 'wondered': 1, 'happened': 1, 'ennis': 1, 'spend': 1, 'gayer': 1, 'picnic': 1, 'basket': 1, 'haunted': 1, 'mountain-hard': 1, 'ignore': 1, 'photography': 1, 'madly': 1, 'p.': 1, 's.': 1, 'change': 1, 'background': 1, 'tragically': 1, 'romantic': 1, 'heartbraking': 1, 'dearly': 1, 'truly': 1, 'ashamed': 1, 'wept': 1, 'five': 1, 'afterwards': 1, '-it': 1, 'done': 1, 'success': 1, 'derek': 1, 'heartbreaking': 1, \"mountain'is\": 1, 'matter': 1, 'lee': 1, 'gyllenhaal': 1, 'leder': 1, 'mrs': 1, 'yip': 1, 'score-brokeback': 1, 'changes': 1, 'receive': 1, 'director': 1, 'mountain-this': 1, 'finish': 1, 'random': 1, 'thoughts': 1, 'bitter': 1, 'bound': 1, 'wins': 1, 'heteronormativity': 1, 'dissapointed': 1, 'surprised': 1, 'packed': 1, 'sceneries': 1, '700': 1, 'million': 1, 'tomorrow': 1, 'yahoo': 1, 'games': 1, 'truly-awful': 1, 'code-themed': 1, 'skin': 1, 'chessboard': 1, 'disappointing': 1, 'fabricated': 1, 'christianity': 1, 'bolsters': 1, 'arguments': 1, 'england': 1, 'slow': 1, 'threw': 1, 'phenomenon': 1, 'congrats': 1, 'beating': 1, 'jay': 1, 'rickards': 1, 'finals': 1, 'poorly': 1, 'worst': 1, 'rachel': 1, 'nans': 1, 'libarian': 1, \"hated'the\": 1, 'turner': 1, 'btw..': 1, 'forget': 1, 'paul': 1, 'bentlys': 1, 'cool..': 1, 'timings': 1, 'ended': 1, 'fer': 1, 'runaway': 1, 'vacation': 1, 'conversation': 1, 'professors': 1, 'overslept': 1, 'jenn': 1, 'later': 1, 'ballz': 1, 'amã': 1, 'forgot': 1, '\\\\': 1, 'nd': 1, 'x3-good': 1, 'nacho': 1, 'libre-sucked': 1, 'cars-good': 1, 'hedge-good': 1, 'hank': 1, 'smoking-had': 1, 'moments': 1, 'bored': 1, 'coherent': 1, 'uh': 1, 'usage': 1, 'phrase': 1, 'dogfucking': 1, 'retarded': 1, 'worse': 1, 'started': 1, 'gathered': 1, 'lamest': 1, 'cinema': 1, 'lama': 1, 'aimee': 1, 'fun..-the': 1, '.-sean': 1, 'supportive': 1, 'friend..-indian': 1, 'reservations': 1, 'lately': 1, 'hanging': 1, 'happen': 1, 'sometime..': 1, 'holding': 1, 'signs': 1, 'christ': 1, 'project': 1, 'witha': 1, 'blasphying': 1, 'wide': 1, 'drove': 1, 'bayers': 1, 'lake': 1, 'dramatic': 1, 'supposed': 1, 'hello': 1, 'cos': 1, 'effort': 1, 'mang': 1, 'latin': 1, 'around..': 1, 'anyhow': 1, 'rofls': 1, 'howard': 1, 'google': 1, 'urls': 1, 'songs': 1, 'lucky': 1, 'refusing': 1, 'public': 1, 'place-there': 1, 'imo': 1, 'mood': 1, 'shop': 1, 'quick': 1, '..-have': 1, 'smoked': 1, 'week..-have': 1, 'consumed': 1, 'meat': 1, 'week..-da': 1, 'sucked..-love': 1, 'place..-broke': 1, 'ideas': 1, 'sucky': 1, '.-wish': 1, 'crack': 1, 'motherfuckers': 1, 'tonite..-da': 1, 'balls..-poseidon': 1, 'balls..-hooray': 1, 'memoirs': 1, 'geisha': 1, 'kelsey': 1, 'oceanwalk': 1, 'rockets': 1, 'bless': 1, 'linked': 1, 'symantec': 1, 'suing': 1, 'microsoft': 1, 'street': 1, 'without': 1, 'touching': 1, 'delayed': 1, 'banning': 1, 'omen': 1, 'muahahaahahah': 1, 'weeeellllllll': 1, 'therefor': 1, 'frakking': 1, 'media': 1, 'seems': 1, 'thirdly-the': 1, 'post': 1, 'add': 1, 'save': 1, 'showcasing': 1, 'aniwae': 1, 'men': 1, 'today..': 1, 'trip': 1, '007..': 1, 'freshman': 1, 'itz': 1, 'altogether': 1, 'theatan': 1, 'energy': 1, 'field': 1, 'eat': 1, 'dim': 1, 'sum': 1, 'whos': 1, '2..': 1, 'extent': 1, 'man..': 1, 'rv': 1, 'predictable': 1, 'lame..': 1, 'iii-sucks': 1, 'big-time': 1, 'weird': 1, 'tomkat': 1, 'back.-jill': 1, 'staying': 1, 'weekend.-mission': 1, 'd': 1, 'loathed': 1, 'involving': 1, 'badness': 1, 'increasing': 1, 'exponentially': 1, 'imagine': 1, 'sold': 1, 'flat': 1, 'shipmates': 1, 'burbank': 1, 'calif.': 1, 'ap': 1, '-brooke': 1, 'shields': 1, 'publicly': 1, 'apologized': 1, 'career': 1, 'including': 1, 'war': 1, 'worlds': 1, 'atrocious': 1, 'hahaha': 1, 'search': 1, 'boycotting': 1, 'mybutthole': 1, 'yuh': 1, 'nasy': 1, 'c.': 1, 'joiners': 1, 'me..': 1, '9am': 1, 'aside': 1, 'seymore': 1, 'nifty': 1, 'gadgets': 1, 'wif': 1, 'haha': 1, 'credit': 1, 'insane': 1, 'listen': 1, 'kanye': 1, 'west': 1, 'remix..': 1, 'good..': 1, 'sequels': 1, 'facing': 1, 'richard': 1, 'simmons..': 1, 'closet': 1, 'blogbacklinktitle': 1, 'blogbacklinksnippet': 1, 'seymour': 1, 'simon': 1, 'pegg': 1, '^': 1, 'prediction': 1, 'correct': 1, 'boycott': 1, 'impossible-tom': 1, 'talkin': 1, 'bout': 1, 'mi': 1, 'agreed': 1, '.-mission': 1, 'around..-the': 1, 'cobequid': 1, 'health': 1, 'center': 1, 'soooooooo': 1, 'vs': 1, 'et': 1, 'al': 1, 'useless': 1, 'realized': 1, 'chunnel': 1, 'fears': 1, 'scared': 1, 'regardless..': 1, 'track': 1, 'dumbest': 1, 'futile': 1, 'began': 1, 'teri': 1, '12': 1, 'interview': 1, 'anne': 1, 'rice': 1, 'attraction': 1, 'reopened': 1, 'release': 1, 'unable': 1, 'ignorant': 1, 'villains': 1, 'creatures': 1, 'called': 1, 'monthly': 1, 'mad': 1, 'vintage': 1, 'silver': 1, 'shaped': 1, 'frog': 1, 'idiot': 1, 'kenley': 1, 'decides': 1, 'plastic': 1, 'axes': 1, 'amazes': 1, 'afraid': 1, 'shit-i': 1, 'pastings': 1, 'mpreg': 1, 'archive': 1, 'section': 1, 'starting': 1, 'deluded': 1, 'loose': 1, 'allegory': 1, 'wants': 1, 'local': 1, 'schools': 1, 'leads': 1, 'according': 1, 'images': 1, 'lin': 1, 'pale': 1, 'comparrison': 1, 'overlooking': 1, 'hair': 1, 'trivia': 1, 'eyes': 1, 'absolute': 1, 'denial': 1, 'general': 1, 'involved': 1, '*..': 1, 'dumbass': 1, 'highly': 1, 'inappropriate': 1, 'headmistress': 1, 'office': 1, 'melandry': 1, 'fuckers': 1, 'shut': 1, 'ripper': 1, 'following': 1, 'clips': 1, 'featured': 1, 'believably': 1, 'judging': 1, 'generated': 1, 'gives': 1, 'returning': 1, 'spite': 1, 'knowing': 1, 'clit': 1, \"was'harry\": 1, 'everytime': 1, \"said'harry\": 1, \"sucks'i\": 1, 'outnumbered': 1, \"saying'harry\": 1, 'rules': 1, 'anax': 1, 'rife': 1, 'faked': 1, 'mary': 1, 'sue-ism': 1, 'hogwash': 1, 'listens': 1, 'campaign': 1, 'rid': 1, 'soooooo': 1, 'claiming': 1, 'drain': 1, 'warns': 1, 'indoctrinate': 1, 'wicca': 1, 'seeking': 1, 'wiccans': 1, 'react': 1, 'possible': 1, 'look': 1, 'precious': 1, 'classic': 1, 'cheapened': 1, 'association': 1, 'glitz': 1, 'gossip': 1, 'talked': 1, 'writer': 1, 'immortal': 1, 'psychology': 1, 'thesis': 1, 'iq': 1, 'cucumber': 1, 'potterholic..': 1, 'ew': 1, 'jame': 1, 'living': 1, 'guts': 1, 'depp': 1, 'haircut': 1, 'meganpenworthy': 1, 'dressed': 1, 'selfish': 1, 'iron': 1, 'optimus': 1, 'prime..': 1, '1984': 1, 'indicative': 1, 'decline': 1, 'english-speaking': 1, 'predictability': 1, 'pretty-packaging': 1, 'standpoint': 1, 'horridly': 1, 'basic': 1, 'cheap': 1, 'christain': 1, 'lynne': 1, 'devil': 1, 'chronicles': 1, 'ring': 1, 'arse': 1, 'rides': 1, 'broom': 1, 'simple': 1, 'exhausted': 1, 'hilarious': 1, 'fiber': 1, 'inherently': 1, 'invisible': 1, 'murdered': 1, 'fade': 1, 'creature': 1, 'demeantor': 1, 'decaying': 1, 'decomposing': 1, 'hippie': 1, 'bringing': 1, 'mcgarther': 1, 'park': 1, '.-sorcerer': 1, 'stone.-chamber': 1, 'secrets.-prisoner': 1, 'azkaban.-goblet': 1, 'fire.-i': 1, '.-i': 1, 'giving': 1, 'benefit': 1, 'doubt': 1, 'online': 1, 'more..': 1, 'offence': 1, 'roommate': 1, 'believe': 1, 'facebook': 1, 'group': 1, \"called'harry\": 1, 'addition': 1, 'screwed': 1, 'malaguena': 1, 'russotti': 1, 'changed': 1, 'plays': 1, 'dumbledor': 1, 'hours': 1, 'suncoast': 1, 'kat-tun': 1, 'starred': 1, 'topic': 1, 'yuck': 1, 'yeah-i': 1, 'gladly': 1, 'dungeons': 1, 'asks': 1, 'scent': 1, 'nature': 1, 'hairy': 1, 'otters': 1, 'wussies': 1, 'prisoner': 1, 'azkaban': 1, 'joy': 1, 'titanic': 1, 'durno': 1, 'offense': 1, 'whatev': 1, 'huge': 1, 'loser': 1, 'hahahaha': 1, 'sent': 1, '50': 1, 'musiclove..': 1, 'crystal': 1, 'condeming': 1, 'walk': 1, 'forever': 1, 'shell': 1, 'huh': 1, 'jelly': 1, 'pic': 1, 'frodo': 1, 'vice': 1, 'versa': 1, 'whiny': 1, 'canceled': 1, 'postponed': 1, 'hermione': 1, 'childishly': 1, 'immensely': 1, 'well-executed': 1, 'moralistic': 1, '-sucked': 1, '…': 1, 'actors': 1, '…..': 1, 'awkward': 1, 'award': 1, 'harder': 1, 'pup-tent': 1, 'boys': 1, 'fill': 1, 'blanks': 1, 'joan': 1, 'keeps': 1, 'characters': 1, 'juicy': 1, 'posted': 1, 'livejournal': 1, 'µª': 1, '0': 1, 'close': 1, 'waaaaaaaaaaaaaaaaaaaaaaaaaaaaaaaaaaaaaaaaaaaaaaaaaaaaaaaaaaaaa': 1, 'anus': 1, 'larry': 1, 'mcmurtry': 1, 'diana': 1, 'ossana-the': 1, 'do..': 1, 'freezing': 1, '-after': 1, 'evilpinkmunky': 1, 'soooo': 1, 'shameful': 1, 'master': 1, 'himself': 1, 'sitting': 1, 'stinks..': 1, 'chicken': 1, 'sam': 1, 'scenes': 1, 'backdrop': 1, 'ah': 1, 'nothin': 1, 'heather': 1, 'shes': 1, 'stites': 1, 'knight': 1, '=..': 1, 'seemed': 1, 'josie': 1, 'zach': 1, 'loudest': 1, 'criticizers': 1, 'didnâ': 1, 'donâ': 1, 'ps-brokeback': 1, 'nanny': 1, 'mcphee': 1, 'revise': 1, 'jokes': 1, 'unless': 1, 'crafted': 1, 'involve': 1, 'pop-culture': 1, '00': 1, 'rode': 1, 'bikes': 1, 'complaints': 1, 'vito-being-gay': 1, 'plot': 1, 'facile': 1, 'comparsions': 1, 'overcoming': 1, 'adversity': 1, 'stupidest': 1, 'offensive': 1, 'concocted': 1, 'dinner': 1, 'min': 1, 'rosie': 1, 'independant': 1, 'pudding': 1, 'category': 1, 'shattered-spine': 1, 'emo-mound': 1, 'cow': 1, 'kill': 1, 'writers': 1, 'ruining': 1, 'image': 1, 'liberal': 1, 'exploitation': 1, 'boyy': 1, 'hahahahahaha': 1, 'weiners': 1, 'generalized': 1, 'condemnation': 1, 'entire': 1, 'voted': 1, 'targeted': 1, 'mob': 1, 'win..': 1, \"watched'10\": 1, \"you'and\": 1, \"of'brokeback\": 1, 'remix': 1, 'homophobic': 1, 'died': 1, 'france': 1, 'portugal': 1, 'match': 1, 'dvds': 1, 'instead..': 1, 'kudos': 1, 'blog': 1, 'overexagerated': 1, 'requiem': 1, 'patirot': 1, 'knights': 1, 'four': 1, 'feathers': 1, 'casanova': 1, 'dogtown': 1, 'monsters': 1, 'ball': 1, 'visually': 1, 'incredible': 1, 'directed': 1, 'lapse': 1, 'created': 1, 'account': 1, 'comments': 1, 'becuase': 1, 'consider': 1, '1-brokeback': 1, 'reference': 1, 'answers': 1, 'wrote': 1, 'letter': 1, 'editor': 1, '6': 1, 'folk': 1, 'families': 1, 'boycotted': 1, 'festivities': 1, 'madre': 1, 'tiffani': 1, 'pirated': 1, 'illegally': 1, 'presented': 1, 'subtitles': 1, 'backward': 1, 'mormon': 1, 'danielle': 1, 'mostly': 1, 'honest': 1, 'lesson': 1, 'fix': 1, 'homophobes': 1, 'corrupting': 1, 'mountain-which': 1, 'thursday': 1, 'hollywoord': 1, 'guys..': 1, 'reviews': 1, 'fully': 1, 'clothed': 1, 'combonation': 1, 'halfway': 1, 'terrible..': 1, 'van': 1, 'insurance': 1, 'runs': 1, 'room': 1, 'messy': 1, 'clean': 1, 'ony': 1, 'monchel': 1, 'brigid': 1})\n"
     ]
    }
   ],
   "source": [
    "print(word_freqs)"
   ]
  },
  {
   "cell_type": "code",
   "execution_count": 62,
   "metadata": {},
   "outputs": [
    {
     "name": "stdout",
     "output_type": "stream",
     "text": [
      "2330\n"
     ]
    }
   ],
   "source": [
    "vocab_size = len(word_freqs) + 2\n",
    "word2index = {x[0]: i+2 for i, x in \n",
    "                enumerate(word_freqs.most_common(vocab_size))}\n",
    "word2index[\"PAD\"] = 0\n",
    "word2index[\"UNK\"] = 1\n",
    "index2word = {v:k for k, v in word2index.items()}\n",
    "\n",
    "print(vocab_size)"
   ]
  },
  {
   "cell_type": "code",
   "execution_count": null,
   "metadata": {},
   "outputs": [],
   "source": [
    "# 문장을 시퀀스로 변환\n",
    "X = np.empty((num_recs, ), dtype=list)\n",
    "y = np.zeros((num_recs, ))\n",
    "i = 0\n",
    "ftrain = open(os.path.join(DATA_DIR, \"umich-sentiment-train.txt\"), 'r')\n",
    "for line in ftrain:\n",
    "    label, sentence = line.strip().split(\"\\t\")\n",
    "    words = nltk.word_tokenize(sentence.lower())\n",
    "    seqs = []\n",
    "    for word in words:\n",
    "        #if word2index.has_key(word):\n",
    "        if word in word2index:\n",
    "            seqs.append(word2index[word])\n",
    "        else:\n",
    "            seqs.append(word2index[\"UNK\"])\n",
    "    X[i] = seqs\n",
    "    y[i] = int(label)\n",
    "    i += 1\n",
    "ftrain.close()"
   ]
  },
  {
   "cell_type": "code",
   "execution_count": 63,
   "metadata": {},
   "outputs": [
    {
     "name": "stdout",
     "output_type": "stream",
     "text": [
      "2330\n",
      "[[  0   0   0 ...  48  22   4]\n",
      " [  0   0   0 ... 341  67   4]\n",
      " [  0   0   0 ...  18 325   4]\n",
      " ...\n",
      " [  0   0   0 ...  11  13   4]\n",
      " [  0   0   0 ... 127  26   4]\n",
      " [  0   0   0 ...  87  26   4]]\n"
     ]
    }
   ],
   "source": [
    "# 시퀀스 패딩 (0으로 왼쪽 패딩)\n",
    "\n"
   ]
  },
  {
   "cell_type": "code",
   "execution_count": 68,
   "metadata": {},
   "outputs": [
    {
     "name": "stdout",
     "output_type": "stream",
     "text": [
      "(5668, 42) (1418, 42) (5668,) (1418,)\n",
      "[[  0   0   0 ...  48  22   4]\n",
      " [  0   0   0 ... 341  67   4]\n",
      " [  0   0   0 ...  18 325   4]\n",
      " ...\n",
      " [  0   0   0 ...  11  13   4]\n",
      " [  0   0   0 ... 127  26   4]\n",
      " [  0   0   0 ...  87  26   4]]\n"
     ]
    }
   ],
   "source": [
    "X = sequence.pad_sequences(X, maxlen=maxlen)\n",
    "\n",
    "Xtrain, Xtest, ytrain, ytest = train_test_split(X, y, test_size=0.2, \n",
    "                                                random_state=42)\n",
    "print(Xtrain.shape, Xtest.shape, ytrain.shape, ytest.shape)\n",
    "print(X)"
   ]
  },
  {
   "cell_type": "code",
   "execution_count": 75,
   "metadata": {},
   "outputs": [
    {
     "name": "stdout",
     "output_type": "stream",
     "text": [
      "Train on 5668 samples, validate on 1418 samples\n",
      "Epoch 1/10\n",
      "5668/5668 [==============================] - 21s 4ms/step - loss: 0.2335 - acc: 0.8998 - val_loss: 0.0485 - val_acc: 0.9859\n",
      "Epoch 2/10\n",
      "5668/5668 [==============================] - 19s 3ms/step - loss: 0.0313 - acc: 0.9905 - val_loss: 0.0238 - val_acc: 0.9915\n",
      "Epoch 3/10\n",
      "5668/5668 [==============================] - 19s 3ms/step - loss: 0.0079 - acc: 0.9977 - val_loss: 0.0333 - val_acc: 0.9908\n",
      "Epoch 4/10\n",
      "5668/5668 [==============================] - 20s 3ms/step - loss: 0.0050 - acc: 0.9986 - val_loss: 0.0282 - val_acc: 0.9929\n",
      "Epoch 5/10\n",
      "5668/5668 [==============================] - 19s 3ms/step - loss: 0.0118 - acc: 0.9965 - val_loss: 0.0267 - val_acc: 0.9937\n",
      "Epoch 6/10\n",
      "5668/5668 [==============================] - 19s 3ms/step - loss: 0.0027 - acc: 0.9995 - val_loss: 0.0185 - val_acc: 0.9937\n",
      "Epoch 7/10\n",
      "5668/5668 [==============================] - 19s 3ms/step - loss: 0.0017 - acc: 0.9995 - val_loss: 0.0292 - val_acc: 0.9929\n",
      "Epoch 8/10\n",
      "5668/5668 [==============================] - 19s 3ms/step - loss: 0.0030 - acc: 0.9995 - val_loss: 0.0337 - val_acc: 0.9908\n",
      "Epoch 9/10\n",
      "5668/5668 [==============================] - 19s 3ms/step - loss: 0.0016 - acc: 0.9995 - val_loss: 0.0203 - val_acc: 0.9944\n",
      "Epoch 10/10\n",
      "5668/5668 [==============================] - 19s 3ms/step - loss: 0.0011 - acc: 0.9996 - val_loss: 0.0289 - val_acc: 0.9929\n"
     ]
    },
    {
     "data": {
      "image/png": "[encoded data removed]",
      "text/plain": [
       "<Figure size 432x288 with 2 Axes>"
      ]
     },
     "metadata": {
      "needs_background": "light"
     },
     "output_type": "display_data"
    },
    {
     "name": "stdout",
     "output_type": "stream",
     "text": [
      "1418/1418 [==============================] - 0s 206us/step\n",
      "Test score: 0.029, accuracy: 0.993\n",
      "0\t0\tthen snuck into brokeback mountain , which is the most depressing movie i have ever seen..\n",
      "0\t0\talways knows what i want , not guy crazy , hates harry potter..\n",
      "1\t1\thell yea i love the mission impossible thing .\n",
      "1\t1\tharry potter is awesome i do n't care if anyone says differently ! ..\n",
      "0\t0\tmission impossible 2 sucked hardcore .\n"
     ]
    }
   ],
   "source": [
    "\n",
    "# 모델 작성\n",
    "model = Sequential()\n",
    "model.add(Embedding(vocab_size, EMBEDDING_SIZE, input_length=maxlen))\n",
    "model.add(SpatialDropout1D(0.2))\n",
    "model.add(LSTM(HIDDEN_LAYER_SIZE, dropout=0.2, recurrent_dropout=0.2))\n",
    "model.add(Dense(1))\n",
    "model.add(Activation(\"sigmoid\"))\n",
    "\n",
    "model.compile(loss=\"binary_crossentropy\", optimizer=\"adam\", \n",
    "              metrics=[\"accuracy\"])\n",
    "\n",
    "history = model.fit(Xtrain, ytrain, batch_size=BATCH_SIZE, \n",
    "                    epochs=NUM_EPOCHS,\n",
    "                    validation_data=(Xtest, ytest))\n",
    "\n",
    "# 손실과 정확도 시각화\n",
    "plt.subplot(211)\n",
    "plt.title(\"Accuracy\")\n",
    "plt.plot(history.history[\"acc\"], color=\"g\", label=\"Train\")\n",
    "plt.plot(history.history[\"val_acc\"], color=\"b\", label=\"Validation\")\n",
    "plt.legend(loc=\"best\")\n",
    "\n",
    "plt.subplot(212)\n",
    "plt.title(\"Loss\")\n",
    "plt.plot(history.history[\"loss\"], color=\"g\", label=\"Train\")\n",
    "plt.plot(history.history[\"val_loss\"], color=\"b\", label=\"Validation\")\n",
    "plt.legend(loc=\"best\")\n",
    "\n",
    "plt.tight_layout()\n",
    "plt.show()\n",
    "\n",
    "# 평가\n",
    "score, acc = model.evaluate(Xtest, ytest, batch_size=BATCH_SIZE)\n",
    "print(\"Test score: %.3f, accuracy: %.3f\" % (score, acc))\n",
    "\n",
    "for i in range(5):\n",
    "    idx = np.random.randint(len(Xtest))\n",
    "    xtest = Xtest[idx].reshape(1,42)\n",
    "    ylabel = ytest[idx]\n",
    "    ypred = model.predict(xtest)[0][0]\n",
    "    sent = \" \".join([index2word[x] for x in xtest[0].tolist() if x != 0])\n",
    "    print(\"%.0f\\t%d\\t%s\" % (ypred, ylabel, sent))"
   ]
  },
  {
   "cell_type": "code",
   "execution_count": 74,
   "metadata": {},
   "outputs": [
    {
     "name": "stdout",
     "output_type": "stream",
     "text": [
      "1418/1418 [==============================] - 0s 192us/step\n",
      "Test score: 0.018, accuracy: 0.994\n",
      "1\t1\tdudeee i loved brokeback mountain ! ! ! !\n",
      "0\t0\tda vinci code sucks be ...\n",
      "0\t0\tda vinci code sucked..\n",
      "0\t0\tbrokeback mountain was boring .\n",
      "1\t1\tok it 's time to update wow have n't updated for a long time ok so yeah watched over the hedge and mission impossible 3 awesome movies hammy rocks..\n"
     ]
    }
   ],
   "source": [
    "# 평가\n",
    "score, acc = model.evaluate(Xtest, ytest, batch_size=BATCH_SIZE)\n",
    "print(\"Test score: %.3f, accuracy: %.3f\" % (score, acc))\n",
    "\n",
    "for i in range(5):\n",
    "    idx = np.random.randint(len(Xtest))\n",
    "    xtest = Xtest[idx].reshape(1,42)\n",
    "    ylabel = ytest[idx]\n",
    "    ypred = model.predict(xtest)[0][0]\n",
    "    sent = \" \".join([index2word[x] for x in xtest[0].tolist() if x != 0])\n",
    "    print(\"%.0f\\t%d\\t%s\" % (ypred, ylabel, sent))"
   ]
  }
 ],
 "metadata": {
  "kernelspec": {
   "display_name": "Python 3",
   "language": "python",
   "name": "python3"
  },
  "language_info": {
   "codemirror_mode": {
    "name": "ipython",
    "version": 3
   },
   "file_extension": ".py",
   "mimetype": "text/x-python",
   "name": "python",
   "nbconvert_exporter": "python",
   "pygments_lexer": "ipython3",
   "version": "3.6.5"
  }
 },
 "nbformat": 4,
 "nbformat_minor": 2
}
