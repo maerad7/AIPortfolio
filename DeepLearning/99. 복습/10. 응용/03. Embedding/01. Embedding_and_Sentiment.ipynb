{
 "cells": [
  {
   "cell_type": "markdown",
   "metadata": {},
   "source": [
    "# Sentiment Analysis - RNN vs CNN"
   ]
  },
  {
   "cell_type": "markdown",
   "metadata": {},
   "source": [
    "# 1. Data Loading & Preprocessing"
   ]
  },
  {
   "cell_type": "code",
   "execution_count": 1,
   "metadata": {},
   "outputs": [],
   "source": [
    "max_features = 2000\n",
    "max_length = 40"
   ]
  },
  {
   "cell_type": "code",
   "execution_count": 2,
   "metadata": {},
   "outputs": [],
   "source": [
    "#nltk.download('punkt')\n",
    "import collections\n",
    "import os \n",
    "import nltk\n",
    "\n",
    "maxlen = 0\n",
    "word_freqs = collections.Counter()\n",
    "num_recs = 0\n",
    "ftrain = open(os.path.join(\"data/umich-sentiment-train.txt\"), 'rb')\n",
    "for line in ftrain:\n",
    "    label, sentence = line.decode('utf8').strip().split(\"\\t\")\n",
    "    words = nltk.word_tokenize(sentence.lower())\n",
    "    if len(words) > maxlen:\n",
    "        maxlen = len(words)\n",
    "    for word in words:\n",
    "        word_freqs[word] += 1\n",
    "    num_recs += 1\n",
    "ftrain.close()"
   ]
  },
  {
   "cell_type": "code",
   "execution_count": 3,
   "metadata": {},
   "outputs": [
    {
     "data": {
      "text/plain": [
       "(42, 2328)"
      ]
     },
     "execution_count": 3,
     "metadata": {},
     "output_type": "execute_result"
    }
   ],
   "source": [
    "maxlen, len(word_freqs)"
   ]
  },
  {
   "cell_type": "code",
   "execution_count": 4,
   "metadata": {},
   "outputs": [],
   "source": [
    "vocab_size = min(max_features, len(word_freqs)) + 2\n",
    "word2index = {x[0]: i+2 for i, x in enumerate(word_freqs.most_common(max_features))}\n",
    "word2index[\"PAD\"] = 0\n",
    "word2index[\"UNK\"] = 1\n",
    "index2word = {v:k for k, v in word2index.items()}"
   ]
  },
  {
   "cell_type": "code",
   "execution_count": 5,
   "metadata": {},
   "outputs": [
    {
     "name": "stderr",
     "output_type": "stream",
     "text": [
      "C:\\Users\\Hyunsil\\Anaconda3\\lib\\site-packages\\h5py\\__init__.py:36: FutureWarning: Conversion of the second argument of issubdtype from `float` to `np.floating` is deprecated. In future, it will be treated as `np.float64 == np.dtype(float).type`.\n",
      "  from ._conv import register_converters as _register_converters\n",
      "Using TensorFlow backend.\n"
     ]
    },
    {
     "data": {
      "text/plain": [
       "array([[  0,   0,   0, ...,  48,  22,   4],\n",
       "       [  0,   0,   0, ..., 341,  67,   4],\n",
       "       [  0,   0,   0, ...,  18, 325,   4],\n",
       "       ...,\n",
       "       [  0,   0,   0, ...,  11,  13,   4],\n",
       "       [  0,   0,   0, ..., 127,  26,   4],\n",
       "       [  0,   0,   0, ...,  87,  26,   4]])"
      ]
     },
     "execution_count": 5,
     "metadata": {},
     "output_type": "execute_result"
    }
   ],
   "source": [
    "import numpy as np \n",
    "from keras.preprocessing import sequence\n",
    "\n",
    "X = np.empty((num_recs, ), dtype=list)\n",
    "y = np.zeros((num_recs, ))\n",
    "i = 0\n",
    "ftrain = open(os.path.join(\"data/umich-sentiment-train.txt\"), 'rb')\n",
    "\n",
    "for line in ftrain:\n",
    "    label, sentence = line.decode('utf8').strip().split(\"\\t\")\n",
    "    words = nltk.word_tokenize(sentence.lower())\n",
    "    seqs = []\n",
    "    for word in words:\n",
    "        if word in word2index:\n",
    "            seqs.append(word2index[word])\n",
    "        else:\n",
    "            seqs.append(word2index[\"UNK\"])\n",
    "    X[i] = seqs\n",
    "    y[i] = int(label)\n",
    "    i += 1\n",
    "ftrain.close()\n",
    "\n",
    "X = sequence.pad_sequences(X, maxlen=max_length)\n",
    "X"
   ]
  },
  {
   "cell_type": "code",
   "execution_count": 6,
   "metadata": {},
   "outputs": [
    {
     "name": "stdout",
     "output_type": "stream",
     "text": [
      "(5668, 40) (1418, 40) (5668,) (1418,)\n"
     ]
    }
   ],
   "source": [
    "from sklearn.model_selection import train_test_split\n",
    "\n",
    "Xtrain, Xtest, ytrain, ytest = train_test_split(X, y, test_size=0.2, random_state=0)\n",
    "print(Xtrain.shape, Xtest.shape, ytrain.shape, ytest.shape)"
   ]
  },
  {
   "cell_type": "code",
   "execution_count": 7,
   "metadata": {},
   "outputs": [
    {
     "data": {
      "text/plain": [
       "2002"
      ]
     },
     "execution_count": 7,
     "metadata": {},
     "output_type": "execute_result"
    }
   ],
   "source": []
  },
  {
   "cell_type": "markdown",
   "metadata": {},
   "source": [
    "# 2. Building models"
   ]
  },
  {
   "cell_type": "code",
   "execution_count": 7,
   "metadata": {},
   "outputs": [],
   "source": [
    "BATCH_SIZE = 512\n",
    "NUM_EPOCHS = 30\n",
    "EMBEDDING_SIZE = 128"
   ]
  },
  {
   "cell_type": "code",
   "execution_count": 8,
   "metadata": {},
   "outputs": [],
   "source": [
    "from keras.models import Sequential\n",
    "from keras.layers import Embedding, Dropout, SpatialDropout1D, LSTM, Conv1D, Dense, GlobalMaxPooling1D\n",
    "\n",
    "import matplotlib.pyplot as plt\n",
    "from IPython.display import Image\n",
    "import os\n",
    "os.environ[\"PATH\"] += os.pathsep + 'C:/Program Files (x86)/Graphviz2.38/bin/'\n",
    "from keras.utils.vis_utils import plot_model"
   ]
  },
  {
   "cell_type": "markdown",
   "metadata": {},
   "source": [
    "## 2.1. LSTM 모델"
   ]
  },
  {
   "cell_type": "code",
   "execution_count": 9,
   "metadata": {},
   "outputs": [
    {
     "name": "stdout",
     "output_type": "stream",
     "text": [
      "_________________________________________________________________\n",
      "Layer (type)                 Output Shape              Param #   \n",
      "=================================================================\n",
      "embedding_1 (Embedding)      (None, 40, 128)           256256    \n",
      "_________________________________________________________________\n",
      "lstm_1 (LSTM)                (None, 32)                20608     \n",
      "_________________________________________________________________\n",
      "dense_1 (Dense)              (None, 1)                 33        \n",
      "=================================================================\n",
      "Total params: 276,897\n",
      "Trainable params: 276,897\n",
      "Non-trainable params: 0\n",
      "_________________________________________________________________\n"
     ]
    },
    {
     "data": {
      "image/png": "[encoded data removed]",
      "text/plain": [
       "<IPython.core.display.Image object>"
      ]
     },
     "execution_count": 9,
     "metadata": {},
     "output_type": "execute_result"
    }
   ],
   "source": [
    "model1 = Sequential()\n",
    "model1.add(Embedding(vocab_size, EMBEDDING_SIZE, input_length=max_length, mask_zero = True))\n",
    "model1.add(LSTM(32, recurrent_dropout=0.2, return_sequences=False))\n",
    "model1.add(Dense(1, activation = \"sigmoid\"))\n",
    "model1.compile(loss=\"binary_crossentropy\", optimizer=\"adam\", metrics=[\"acc\"])\n",
    "model1.summary()\n",
    "plot_model(model1, to_file='model1.png', show_shapes=True)\n",
    "Image('model1.png')"
   ]
  },
  {
   "cell_type": "code",
   "execution_count": 10,
   "metadata": {},
   "outputs": [
    {
     "name": "stdout",
     "output_type": "stream",
     "text": [
      "_________________________________________________________________\n",
      "Layer (type)                 Output Shape              Param #   \n",
      "=================================================================\n",
      "embedding_2 (Embedding)      (None, 40, 128)           256256    \n",
      "_________________________________________________________________\n",
      "conv1d_1 (Conv1D)            (None, 38, 256)           98560     \n",
      "_________________________________________________________________\n",
      "global_max_pooling1d_1 (Glob (None, 256)               0         \n",
      "_________________________________________________________________\n",
      "dense_2 (Dense)              (None, 1)                 257       \n",
      "=================================================================\n",
      "Total params: 355,073\n",
      "Trainable params: 355,073\n",
      "Non-trainable params: 0\n",
      "_________________________________________________________________\n"
     ]
    },
    {
     "data": {
      "image/png": "[encoded data removed]",
      "text/plain": [
       "<IPython.core.display.Image object>"
      ]
     },
     "execution_count": 10,
     "metadata": {},
     "output_type": "execute_result"
    }
   ],
   "source": [
    "NUM_FILTERS=256\n",
    "NUM_WORDS=3\n",
    "model2 = Sequential()\n",
    "model2.add(Embedding(vocab_size, EMBEDDING_SIZE, input_length=max_length))\n",
    "model2.add(Conv1D(filters=NUM_FILTERS, kernel_size=NUM_WORDS, activation='relu'))\n",
    "model2.add(GlobalMaxPooling1D())\n",
    "model2.add(Dense(1, activation = \"sigmoid\"))\n",
    "model2.compile(loss=\"binary_crossentropy\", optimizer=\"adam\", metrics=[\"acc\"])\n",
    "model2.summary()\n",
    "plot_model(model2, to_file='model2.png', show_shapes=True)\n",
    "Image('model2.png')"
   ]
  },
  {
   "cell_type": "code",
   "execution_count": 11,
   "metadata": {},
   "outputs": [
    {
     "name": "stdout",
     "output_type": "stream",
     "text": [
      "Train on 5668 samples, validate on 1418 samples\n",
      "Epoch 1/30\n",
      "5668/5668 [==============================] - 3s 610us/step - loss: 0.6738 - acc: 0.6625 - val_loss: 0.6389 - val_acc: 0.6869\n",
      "Epoch 2/30\n",
      "5668/5668 [==============================] - 2s 396us/step - loss: 0.5818 - acc: 0.7454 - val_loss: 0.4818 - val_acc: 0.8223\n",
      "Epoch 3/30\n",
      "5668/5668 [==============================] - 2s 375us/step - loss: 0.3833 - acc: 0.8866 - val_loss: 0.2827 - val_acc: 0.9506\n",
      "Epoch 4/30\n",
      "5668/5668 [==============================] - 2s 392us/step - loss: 0.2306 - acc: 0.9592 - val_loss: 0.1870 - val_acc: 0.9654\n",
      "Epoch 5/30\n",
      "5668/5668 [==============================] - 2s 400us/step - loss: 0.1478 - acc: 0.9742 - val_loss: 0.1289 - val_acc: 0.9767\n",
      "Epoch 6/30\n",
      "5668/5668 [==============================] - 2s 384us/step - loss: 0.0945 - acc: 0.9875 - val_loss: 0.0902 - val_acc: 0.9831\n",
      "Epoch 7/30\n",
      "5668/5668 [==============================] - 2s 390us/step - loss: 0.0618 - acc: 0.9919 - val_loss: 0.0658 - val_acc: 0.9866\n",
      "Epoch 8/30\n",
      "5668/5668 [==============================] - 2s 392us/step - loss: 0.0457 - acc: 0.9959 - val_loss: 0.0574 - val_acc: 0.9915\n",
      "Epoch 9/30\n",
      "5668/5668 [==============================] - 2s 392us/step - loss: 0.0312 - acc: 0.9970 - val_loss: 0.0497 - val_acc: 0.9887\n",
      "Epoch 10/30\n",
      "5668/5668 [==============================] - 2s 392us/step - loss: 0.0199 - acc: 0.9984 - val_loss: 0.0472 - val_acc: 0.9901\n",
      "Epoch 11/30\n",
      "5668/5668 [==============================] - 2s 397us/step - loss: 0.0139 - acc: 0.9989 - val_loss: 0.0450 - val_acc: 0.9908\n",
      "Epoch 12/30\n",
      "5668/5668 [==============================] - 2s 388us/step - loss: 0.0097 - acc: 0.9996 - val_loss: 0.0434 - val_acc: 0.9908\n",
      "Epoch 13/30\n",
      "5668/5668 [==============================] - 2s 392us/step - loss: 0.0078 - acc: 0.9995 - val_loss: 0.0425 - val_acc: 0.9901\n",
      "Epoch 14/30\n",
      "5668/5668 [==============================] - 2s 400us/step - loss: 0.0055 - acc: 1.0000 - val_loss: 0.0433 - val_acc: 0.9915\n",
      "Epoch 15/30\n",
      "5668/5668 [==============================] - 2s 414us/step - loss: 0.0054 - acc: 0.9998 - val_loss: 0.0395 - val_acc: 0.9901\n",
      "Epoch 16/30\n",
      "5668/5668 [==============================] - 3s 455us/step - loss: 0.0047 - acc: 0.9998 - val_loss: 0.0372 - val_acc: 0.9908\n",
      "Epoch 17/30\n",
      "5668/5668 [==============================] - 2s 415us/step - loss: 0.0042 - acc: 0.9996 - val_loss: 0.0409 - val_acc: 0.9908\n",
      "Epoch 18/30\n",
      "5668/5668 [==============================] - 2s 397us/step - loss: 0.0039 - acc: 0.9998 - val_loss: 0.0417 - val_acc: 0.9908\n",
      "Epoch 19/30\n",
      "5668/5668 [==============================] - 2s 412us/step - loss: 0.0023 - acc: 1.0000 - val_loss: 0.0423 - val_acc: 0.9901\n",
      "Epoch 20/30\n",
      "5668/5668 [==============================] - 2s 394us/step - loss: 0.0021 - acc: 1.0000 - val_loss: 0.0436 - val_acc: 0.9901\n",
      "Epoch 21/30\n",
      "5668/5668 [==============================] - 2s 400us/step - loss: 0.0021 - acc: 0.9998 - val_loss: 0.0444 - val_acc: 0.9901\n",
      "Epoch 22/30\n",
      "5668/5668 [==============================] - 2s 400us/step - loss: 0.0026 - acc: 0.9998 - val_loss: 0.0472 - val_acc: 0.9887\n",
      "Epoch 23/30\n",
      "5668/5668 [==============================] - 2s 397us/step - loss: 0.0018 - acc: 0.9998 - val_loss: 0.0489 - val_acc: 0.9887\n",
      "Epoch 24/30\n",
      "5668/5668 [==============================] - 2s 405us/step - loss: 0.0017 - acc: 1.0000 - val_loss: 0.0476 - val_acc: 0.9894\n",
      "Epoch 25/30\n",
      "5668/5668 [==============================] - 2s 401us/step - loss: 0.0014 - acc: 1.0000 - val_loss: 0.0456 - val_acc: 0.9901\n",
      "Epoch 26/30\n",
      "5668/5668 [==============================] - 2s 403us/step - loss: 0.0011 - acc: 1.0000 - val_loss: 0.0442 - val_acc: 0.9901\n",
      "Epoch 27/30\n",
      "5668/5668 [==============================] - 3s 445us/step - loss: 0.0011 - acc: 1.0000 - val_loss: 0.0438 - val_acc: 0.9901\n",
      "Epoch 28/30\n",
      "5668/5668 [==============================] - 2s 400us/step - loss: 0.0016 - acc: 0.9998 - val_loss: 0.0438 - val_acc: 0.9908\n",
      "Epoch 29/30\n",
      "5668/5668 [==============================] - 2s 404us/step - loss: 0.0029 - acc: 0.9996 - val_loss: 0.0448 - val_acc: 0.9908\n",
      "Epoch 30/30\n",
      "5668/5668 [==============================] - 2s 404us/step - loss: 0.0023 - acc: 0.9993 - val_loss: 0.0379 - val_acc: 0.9894\n",
      "Train on 5668 samples, validate on 1418 samples\n",
      "Epoch 1/30\n",
      "5668/5668 [==============================] - 4s 791us/step - loss: 0.6306 - acc: 0.5859 - val_loss: 0.5490 - val_acc: 0.8117\n",
      "Epoch 2/30\n",
      "5668/5668 [==============================] - 4s 773us/step - loss: 0.4690 - acc: 0.9158 - val_loss: 0.3519 - val_acc: 0.9647\n",
      "Epoch 3/30\n",
      "5668/5668 [==============================] - 5s 841us/step - loss: 0.2596 - acc: 0.9682 - val_loss: 0.1599 - val_acc: 0.9732\n",
      "Epoch 4/30\n",
      "5668/5668 [==============================] - 5s 867us/step - loss: 0.1066 - acc: 0.9797 - val_loss: 0.0676 - val_acc: 0.9803\n",
      "Epoch 5/30\n",
      "5668/5668 [==============================] - 5s 917us/step - loss: 0.0417 - acc: 0.9931 - val_loss: 0.0365 - val_acc: 0.9880\n",
      "Epoch 6/30\n",
      "5668/5668 [==============================] - 6s 1ms/step - loss: 0.0193 - acc: 0.9968 - val_loss: 0.0257 - val_acc: 0.9922\n",
      "Epoch 7/30\n",
      "5668/5668 [==============================] - 6s 987us/step - loss: 0.0108 - acc: 0.9986 - val_loss: 0.0216 - val_acc: 0.9922\n",
      "Epoch 8/30\n",
      "5668/5668 [==============================] - 6s 1ms/step - loss: 0.0069 - acc: 0.9995 - val_loss: 0.0190 - val_acc: 0.9929\n",
      "Epoch 9/30\n",
      "5668/5668 [==============================] - 6s 1ms/step - loss: 0.0049 - acc: 0.9996 - val_loss: 0.0175 - val_acc: 0.9937\n",
      "Epoch 10/30\n",
      "5668/5668 [==============================] - 6s 1ms/step - loss: 0.0036 - acc: 0.9996 - val_loss: 0.0166 - val_acc: 0.9937\n",
      "Epoch 11/30\n",
      "5668/5668 [==============================] - 6s 994us/step - loss: 0.0029 - acc: 0.9996 - val_loss: 0.0161 - val_acc: 0.9944\n",
      "Epoch 12/30\n",
      "5668/5668 [==============================] - 5s 948us/step - loss: 0.0023 - acc: 0.9998 - val_loss: 0.0156 - val_acc: 0.9951\n",
      "Epoch 13/30\n",
      "5668/5668 [==============================] - 5s 897us/step - loss: 0.0019 - acc: 1.0000 - val_loss: 0.0151 - val_acc: 0.9951\n",
      "Epoch 14/30\n",
      "5668/5668 [==============================] - 5s 873us/step - loss: 0.0016 - acc: 1.0000 - val_loss: 0.0148 - val_acc: 0.9958\n",
      "Epoch 15/30\n",
      "5668/5668 [==============================] - 5s 835us/step - loss: 0.0013 - acc: 1.0000 - val_loss: 0.0146 - val_acc: 0.9958\n",
      "Epoch 16/30\n",
      "5668/5668 [==============================] - 5s 819us/step - loss: 0.0012 - acc: 1.0000 - val_loss: 0.0145 - val_acc: 0.9958\n",
      "Epoch 17/30\n",
      "5668/5668 [==============================] - 5s 917us/step - loss: 9.9889e-04 - acc: 1.0000 - val_loss: 0.0143 - val_acc: 0.9958\n",
      "Epoch 18/30\n",
      "5668/5668 [==============================] - 4s 764us/step - loss: 8.7698e-04 - acc: 1.0000 - val_loss: 0.0141 - val_acc: 0.9958\n",
      "Epoch 19/30\n",
      "5668/5668 [==============================] - 4s 771us/step - loss: 7.7645e-04 - acc: 1.0000 - val_loss: 0.0140 - val_acc: 0.9958\n",
      "Epoch 20/30\n",
      "5668/5668 [==============================] - 4s 755us/step - loss: 6.9094e-04 - acc: 1.0000 - val_loss: 0.0140 - val_acc: 0.9958\n",
      "Epoch 21/30\n",
      "5668/5668 [==============================] - 4s 747us/step - loss: 6.2099e-04 - acc: 1.0000 - val_loss: 0.0139 - val_acc: 0.9958\n",
      "Epoch 22/30\n",
      "5668/5668 [==============================] - 4s 793us/step - loss: 5.5819e-04 - acc: 1.0000 - val_loss: 0.0138 - val_acc: 0.9958\n",
      "Epoch 23/30\n",
      "5668/5668 [==============================] - 4s 734us/step - loss: 5.0714e-04 - acc: 1.0000 - val_loss: 0.0137 - val_acc: 0.9958\n",
      "Epoch 24/30\n",
      "5668/5668 [==============================] - 4s 747us/step - loss: 4.6094e-04 - acc: 1.0000 - val_loss: 0.0137 - val_acc: 0.9958\n",
      "Epoch 25/30\n",
      "5668/5668 [==============================] - 4s 725us/step - loss: 4.2169e-04 - acc: 1.0000 - val_loss: 0.0136 - val_acc: 0.9958\n",
      "Epoch 26/30\n",
      "5668/5668 [==============================] - 4s 737us/step - loss: 3.8693e-04 - acc: 1.0000 - val_loss: 0.0137 - val_acc: 0.9958\n",
      "Epoch 27/30\n",
      "5668/5668 [==============================] - 4s 740us/step - loss: 3.5706e-04 - acc: 1.0000 - val_loss: 0.0137 - val_acc: 0.9958\n",
      "Epoch 28/30\n",
      "5668/5668 [==============================] - 4s 740us/step - loss: 3.3079e-04 - acc: 1.0000 - val_loss: 0.0137 - val_acc: 0.9958\n",
      "Epoch 29/30\n",
      "5668/5668 [==============================] - 4s 757us/step - loss: 3.0769e-04 - acc: 1.0000 - val_loss: 0.0137 - val_acc: 0.9958\n"
     ]
    },
    {
     "name": "stdout",
     "output_type": "stream",
     "text": [
      "Epoch 30/30\n",
      "5668/5668 [==============================] - 5s 868us/step - loss: 2.8688e-04 - acc: 1.0000 - val_loss: 0.0137 - val_acc: 0.9958\n"
     ]
    }
   ],
   "source": [
    "history1 = b\n",
    "history2 = model2.fit(Xtrain, ytrain, batch_size=BATCH_SIZE, epochs=NUM_EPOCHS, validation_data=(Xtest, ytest))"
   ]
  },
  {
   "cell_type": "markdown",
   "metadata": {},
   "source": [
    "# 3. Plotting & Prediction"
   ]
  },
  {
   "cell_type": "code",
   "execution_count": 12,
   "metadata": {},
   "outputs": [
    {
     "data": {
      "text/plain": [
       "<matplotlib.legend.Legend at 0x242d0e967f0>"
      ]
     },
     "execution_count": 12,
     "metadata": {},
     "output_type": "execute_result"
    },
    {
     "data": {
      "image/png": "[encoded data removed]",
      "text/plain": [
       "<Figure size 432x288 with 1 Axes>"
      ]
     },
     "metadata": {},
     "output_type": "display_data"
    }
   ],
   "source": [
    "plt.plot(history1.history['acc'])\n",
    "plt.plot(history2.history['acc'])\n",
    "plt.title('Train Accuracy')\n",
    "plt.legend(['RNN','CNN'], loc='lower right')"
   ]
  },
  {
   "cell_type": "code",
   "execution_count": 13,
   "metadata": {},
   "outputs": [
    {
     "data": {
      "text/plain": [
       "<matplotlib.legend.Legend at 0x242d0f22710>"
      ]
     },
     "execution_count": 13,
     "metadata": {},
     "output_type": "execute_result"
    },
    {
     "data": {
      "image/png": "[encoded data removed]",
      "text/plain": [
       "<Figure size 432x288 with 1 Axes>"
      ]
     },
     "metadata": {},
     "output_type": "display_data"
    }
   ],
   "source": [
    "plt.plot(history1.history['val_acc'])\n",
    "plt.plot(history2.history['val_acc'])\n",
    "plt.title('Test Accuracy')\n",
    "plt.legend(['RNN','CNN'], loc='lower right')"
   ]
  }
 ],
 "metadata": {
  "kernelspec": {
   "display_name": "Python 3",
   "language": "python",
   "name": "python3"
  },
  "language_info": {
   "codemirror_mode": {
    "name": "ipython",
    "version": 3
   },
   "file_extension": ".py",
   "mimetype": "text/x-python",
   "name": "python",
   "nbconvert_exporter": "python",
   "pygments_lexer": "ipython3",
   "version": "3.6.5"
  }
 },
 "nbformat": 4,
 "nbformat_minor": 2
}
