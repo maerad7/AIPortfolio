{
 "cells": [
  {
   "cell_type": "markdown",
   "metadata": {},
   "source": [
    "# 협업필터링(CF)"
   ]
  },
  {
   "cell_type": "code",
   "execution_count": 3,
   "metadata": {},
   "outputs": [],
   "source": [
    "import surprise\n",
    "import pandas as pd\n",
    "import numpy as np\n",
    "from surprise.model_selection import cross_validate"
   ]
  },
  {
   "cell_type": "code",
   "execution_count": 4,
   "metadata": {},
   "outputs": [],
   "source": [
    "data = surprise.Dataset.load_builtin('ml-100k')"
   ]
  },
  {
   "cell_type": "markdown",
   "metadata": {},
   "source": [
    "# 1. Collaborative Filtering"
   ]
  },
  {
   "cell_type": "markdown",
   "metadata": {},
   "source": [
    "- k=40 : 이웃수\n",
    "- min_k=1 : 최소 이웃수\n",
    "- verbose=True : 결과를 자세히 보는 옵션\n",
    "- bsl_options : 베이스라인 모형을 사용하는 경우 베이스라인 모형 옵션\n",
    "- name : 유사도의 종류\n",
    "- user-based : True 인경우 user-based CF,Fasle인 경우 item-based CF\n",
    "- min_support : 두 사용자 또는 상품에서 공통적으로 있는 평점의 최소값"
   ]
  },
  {
   "cell_type": "markdown",
   "metadata": {},
   "source": [
    "- sim_options : 유사도 기준(기본=MSD, cosine, pearson, pearson_baseline)"
   ]
  },
  {
   "cell_type": "code",
   "execution_count": 5,
   "metadata": {},
   "outputs": [],
   "source": [
    "sim_param = {'name':'pearson', \n",
    "             'user_based':True, \n",
    "             'min_support':1, \n",
    "             'shrinkage':0}"
   ]
  },
  {
   "cell_type": "code",
   "execution_count": 6,
   "metadata": {},
   "outputs": [],
   "source": [
    "bsl_param = {'method': 'als', 'n_epochs':5, 'reg_u':12, 'reg_i':5}"
   ]
  },
  {
   "cell_type": "code",
   "execution_count": 7,
   "metadata": {},
   "outputs": [],
   "source": [
    "basic = surprise.KNNBasic(k=100, min_k=1, sim_options=sim_param, verbose=False)\n",
    "w_mean = surprise.KNNWithMeans(k=100, min_k=1, sim_options=sim_param, verbose=False)\n",
    "w_zscore = surprise.KNNWithZScore(k=100, min_k=1, sim_options=sim_param, verbose=False)\n",
    "bsl = surprise.KNNBaseline(k=100, min_k=1, sim_options=sim_param, bsl_options=bsl_param, verbose=False)"
   ]
  },
  {
   "cell_type": "code",
   "execution_count": 8,
   "metadata": {},
   "outputs": [],
   "source": [
    "models = [basic, w_mean, w_zscore, bsl]"
   ]
  },
  {
   "cell_type": "code",
   "execution_count": 9,
   "metadata": {},
   "outputs": [],
   "source": [
    "acc = []\n",
    "for model in models:\n",
    "    cv = cross_validate(model, data)\n",
    "    acc.append(cv['test_rmse'].mean())"
   ]
  },
  {
   "cell_type": "code",
   "execution_count": 10,
   "metadata": {},
   "outputs": [],
   "source": [
    "import matplotlib.pyplot as plt\n",
    "import seaborn as sns\n",
    "%matplotlib inline"
   ]
  },
  {
   "cell_type": "code",
   "execution_count": 11,
   "metadata": {},
   "outputs": [],
   "source": [
    "model_name = ['basic','with Mean','with Zscore','with BSL']"
   ]
  },
  {
   "cell_type": "code",
   "execution_count": 12,
   "metadata": {},
   "outputs": [
    {
     "data": {
      "text/plain": [
       "Text(0.5, 0, 'Models')"
      ]
     },
     "execution_count": 12,
     "metadata": {},
     "output_type": "execute_result"
    },
    {
     "data": {
      "image/png": "[encoded data removed]",
      "text/plain": [
       "<Figure size 720x720 with 1 Axes>"
      ]
     },
     "metadata": {
      "needs_background": "light"
     },
     "output_type": "display_data"
    }
   ],
   "source": [
    "plt.figure(figsize=(10,10))\n",
    "sns.barplot(x=model_name, y=acc, palette='rocket')\n",
    "plt.xlabel('Models')"
   ]
  }
 ],
 "metadata": {
  "kernelspec": {
   "display_name": "Python 3",
   "language": "python",
   "name": "python3"
  },
  "language_info": {
   "codemirror_mode": {
    "name": "ipython",
    "version": 3
   },
   "file_extension": ".py",
   "mimetype": "text/x-python",
   "name": "python",
   "nbconvert_exporter": "python",
   "pygments_lexer": "ipython3",
   "version": "3.7.1"
  }
 },
 "nbformat": 4,
 "nbformat_minor": 2
}
