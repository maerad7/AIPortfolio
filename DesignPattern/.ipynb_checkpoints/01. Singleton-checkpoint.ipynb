{
 "cells": [
  {
   "cell_type": "markdown",
   "metadata": {},
   "source": [
    "## 싱글톤"
   ]
  },
  {
   "cell_type": "markdown",
   "metadata": {},
   "source": [
    "1. 정의\n",
    "\n",
    " - 인스턴스가 단 하나만을 생성되는 것을 보장하고 어디서나 그 인스턴스에 접근가능하도록 하기위한 패턴"
   ]
  },
  {
   "cell_type": "markdown",
   "metadata": {},
   "source": [
    "2. 구성요소\n",
    "\n",
    "    * 하나의 인스턴스만을 생성\n",
    "    - 어디에서나 접근가능한 클래스 매서드를 가지고 있음\n",
    "    - getInstance()메서드를 통해 모든 클라이언트에 동일한 인스턴스 제공"
   ]
  },
  {
   "cell_type": "markdown",
   "metadata": {},
   "source": [
    "3. 사용시점\n",
    "\n",
    "    - 프로그램 상에 단 하나만 존재하는 객체"
   ]
  },
  {
   "cell_type": "markdown",
   "metadata": {},
   "source": [
    "4. 예시\n",
    "    - 컬러선택 대화상자, 파일선택 대화상자\n",
    "    - 사용자 설정, 레지스트리 설정 처리하는 객체\n",
    "    - 프로그램 히스토리 관리자"
   ]
  },
  {
   "cell_type": "markdown",
   "metadata": {},
   "source": [
    "5. 예제"
   ]
  },
  {
   "cell_type": "code",
   "execution_count": null,
   "metadata": {},
   "outputs": [],
   "source": [
    "class OperationSingleton:\n",
    "    \n",
    "    __instance = None\n",
    "    ADD_OPERATION = 1\n",
    "    SUBSTRACT_OPERATION = 2\n",
    "    MULTIPLY_OPERATION = 3 \n",
    "    DIVIDE_OPERATION = 4 \n",
    "    \n",
    "    @classmethod\n",
    "    def __getInstance(cls):\n",
    "        return cls.__instance\n",
    "    \n",
    "    @classmethod\n",
    "    def getInstance(cls,*args,**kargs):\n",
    "        if not cls.__instance:\n",
    "            cls.__instance = cls(*args,**kargs)\n",
    "        return cls.__instance\n",
    "    \n",
    "    def opeate(self,)\n",
    "        \n",
    "    "
   ]
  }
 ],
 "metadata": {
  "kernelspec": {
   "display_name": "Python 3",
   "language": "python",
   "name": "python3"
  },
  "language_info": {
   "codemirror_mode": {
    "name": "ipython",
    "version": 3
   },
   "file_extension": ".py",
   "mimetype": "text/x-python",
   "name": "python",
   "nbconvert_exporter": "python",
   "pygments_lexer": "ipython3",
   "version": "3.6.5"
  }
 },
 "nbformat": 4,
 "nbformat_minor": 2
}
