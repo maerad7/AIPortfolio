{
 "cells": [
  {
   "cell_type": "code",
   "execution_count": 1,
   "metadata": {},
   "outputs": [],
   "source": [
    "# 전력 수요량 예측"
   ]
  },
  {
   "cell_type": "markdown",
   "metadata": {},
   "source": [
    " \n",
    "\n",
    "[배경]\n",
    "\n",
    "\n",
    "- 전력수요예측 시뮬레이션을 통한 효율적인 빅데이터 분석기법 발굴\n",
    "- 전력 융합신서비스 발굴 및 비즈니스 모델 개발 활용\n",
    "- 창의적인 아이디어와 빅데이터 분석기술을 토대로 에너지 신서비스 개발 촉진\n",
    "\n",
    "[문제]\n",
    "\n",
    "\n",
    "본 대회에서는, 기존 전력 사용 기록과 기상 데이터 등 공공 데이터를 이용하여, 각 가정 및 회사의 시간별, 일별, 월별 전력 사용량을 예측합니다. 2018년 7월1일부터 2018년 11월 30일까지의 에너지 사용량을 예측합니다. 보다 정확히는 다음을 예측합니다.\n",
    "- 2018년 7월 1일 00시부터 24시까지, 24시간, ‘시간당 전력사용량’ (24개)\n",
    "- 2018년 7월1일부터 7월10일까지, 10일간, ‘일간 전력사용량’ (10개)\n",
    "- 2018년 7월부터 11월까지, 5개월간, ‘월간 전력사용량’ (5개)\n",
    "\n",
    "즉 각 세대(또는 상가)당 39개(24개,10개,5개)의 값을 예측해야 합니다.\n"
   ]
  },
  {
   "cell_type": "code",
   "execution_count": null,
   "metadata": {},
   "outputs": [],
   "source": [
    "import pandas as pd\n",
    "import numpy as np\n",
    "import sklearn as "
   ]
  }
 ],
 "metadata": {
  "kernelspec": {
   "display_name": "Python 3",
   "language": "python",
   "name": "python3"
  },
  "language_info": {
   "codemirror_mode": {
    "name": "ipython",
    "version": 3
   },
   "file_extension": ".py",
   "mimetype": "text/x-python",
   "name": "python",
   "nbconvert_exporter": "python",
   "pygments_lexer": "ipython3",
   "version": "3.6.9"
  }
 },
 "nbformat": 4,
 "nbformat_minor": 4
}
