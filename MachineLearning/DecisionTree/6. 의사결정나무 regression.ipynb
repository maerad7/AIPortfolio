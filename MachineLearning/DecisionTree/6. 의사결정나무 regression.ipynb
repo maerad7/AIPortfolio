{
 "cells": [
  {
   "cell_type": "markdown",
   "metadata": {},
   "source": [
    "### Rregresiion\n",
    "* entropy -> varriance\n",
    "* 결과노드 : instance 들의 평균"
   ]
  },
  {
   "cell_type": "code",
   "execution_count": 2,
   "metadata": {},
   "outputs": [],
   "source": [
    "from sklearn.datasets import load_boston\n",
    "from sklearn.model_selection import cross_val_score\n",
    "from sklearn.model_selection import KFold\n",
    "import numpy as np"
   ]
  },
  {
   "cell_type": "code",
   "execution_count": 6,
   "metadata": {},
   "outputs": [],
   "source": [
    "boston = load_boston()\n",
    "X, y = boston.data, boston.target\n",
    "features = boston.feature_names\n",
    "\n",
    "crossvalidation = KFold(n_splits=X.shape[0],\n",
    " shuffle=True, random_state=1)"
   ]
  },
  {
   "cell_type": "code",
   "execution_count": 9,
   "metadata": {},
   "outputs": [
    {
     "name": "stdout",
     "output_type": "stream",
     "text": [
      "Mean squared error: 17.968\n"
     ]
    }
   ],
   "source": [
    "from sklearn.tree import DecisionTreeRegressor\n",
    "regression_tree = DecisionTreeRegressor(\n",
    "    min_samples_split=3, min_samples_leaf=3, random_state=0, max_leaf_nodes=20)\n",
    "regression_tree.fit(X,y)\n",
    "score = np.mean(\n",
    "    cross_val_score(regression_tree, X, y, scoring='neg_mean_squared_error', cv=crossvalidation, n_jobs=1))\n",
    "print ('Mean squared error: %.3f' % abs(score))"
   ]
  },
  {
   "cell_type": "code",
   "execution_count": 10,
   "metadata": {},
   "outputs": [
    {
     "name": "stdout",
     "output_type": "stream",
     "text": [
      "Mean squared error: 23.726\n"
     ]
    }
   ],
   "source": [
    "from sklearn import linear_model\n",
    "regr = linear_model.LinearRegression(normalize=True)\n",
    "score = np.mean(\n",
    "    cross_val_score(regr, X, y, scoring='neg_mean_squared_error', cv=crossvalidation, n_jobs=1))\n",
    "print ('Mean squared error: %.3f' % abs(score))"
   ]
  },
  {
   "cell_type": "code",
   "execution_count": 15,
   "metadata": {},
   "outputs": [],
   "source": [
    "from sklearn.datasets import load_iris\n",
    "iris = load_iris()\n",
    "X, y = iris.data, iris.target\n",
    "features = iris.feature_names\n",
    "\n",
    "crossvalidation = KFold(n_splits=X.shape[0],\n",
    " shuffle=True, random_state=1)"
   ]
  },
  {
   "cell_type": "code",
   "execution_count": 16,
   "metadata": {},
   "outputs": [
    {
     "name": "stdout",
     "output_type": "stream",
     "text": [
      "Depth: 1 Accuracy: 0.333\n",
      "Depth: 2 Accuracy: 0.953\n",
      "Depth: 3 Accuracy: 0.947\n",
      "Depth: 4 Accuracy: 0.940\n",
      "Depth: 5 Accuracy: 0.947\n"
     ]
    }
   ],
   "source": [
    "from sklearn import tree\n",
    "for depth in range(1,10):\n",
    "    tree_classifier = tree.DecisionTreeClassifier(\n",
    "    max_depth=depth, random_state=0)\n",
    "    if tree_classifier.fit(X,y).tree_.max_depth < depth:\n",
    "        break\n",
    "    score = np.mean(cross_val_score(tree_classifier, X, y,\n",
    "    scoring='accuracy', cv=crossvalidation, n_jobs=1))\n",
    "    print ('Depth: %i Accuracy: %.3f' % (depth,score))"
   ]
  }
 ],
 "metadata": {
  "kernelspec": {
   "display_name": "Python 3",
   "language": "python",
   "name": "python3"
  },
  "language_info": {
   "codemirror_mode": {
    "name": "ipython",
    "version": 3
   },
   "file_extension": ".py",
   "mimetype": "text/x-python",
   "name": "python",
   "nbconvert_exporter": "python",
   "pygments_lexer": "ipython3",
   "version": "3.7.1"
  }
 },
 "nbformat": 4,
 "nbformat_minor": 2
}
