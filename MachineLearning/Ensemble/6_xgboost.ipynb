{
 "cells": [
  {
   "cell_type": "markdown",
   "metadata": {},
   "source": [
    "### Xgboost \n",
    "* Tree 기반의 Gradient Boost\n",
    "* light_gbm과 성능 비슷하고 시간은 오래걸림"
   ]
  },
  {
   "cell_type": "code",
   "execution_count": 2,
   "metadata": {},
   "outputs": [],
   "source": [
    "import numpy as np\n",
    "import xgboost as xgb"
   ]
  },
  {
   "cell_type": "code",
   "execution_count": 3,
   "metadata": {},
   "outputs": [],
   "source": [
    "X = np.load(\"./tatanic_X_train.npy\")\n",
    "y = np.load(\"./tatanic_y_train.npy\")"
   ]
  },
  {
   "cell_type": "code",
   "execution_count": 6,
   "metadata": {},
   "outputs": [],
   "source": [
    "from sklearn.model_selection import train_test_split"
   ]
  },
  {
   "cell_type": "code",
   "execution_count": 7,
   "metadata": {},
   "outputs": [],
   "source": [
    "X_train, X_test, y_train, y_test = train_test_split(X, y, test_size =0.3)"
   ]
  },
  {
   "cell_type": "code",
   "execution_count": 8,
   "metadata": {},
   "outputs": [],
   "source": [
    "dtrain = xgb.DMatrix(X_train, label=y_train)\n",
    "dtest = xgb.DMatrix(X_test, label=y_test)"
   ]
  },
  {
   "cell_type": "code",
   "execution_count": 9,
   "metadata": {},
   "outputs": [],
   "source": [
    "param = {'max_depth': 2, 'eta': 0.5, 'silent': 1, 'objective': 'binary:logistic'}\n",
    "param['nthread'] = 7\n",
    "param['eval_metric'] = 'auc'\n",
    "evallist = [(dtest, 'eval'), (dtrain, 'train')]\n",
    "plst = param.items()"
   ]
  },
  {
   "cell_type": "code",
   "execution_count": 10,
   "metadata": {},
   "outputs": [
    {
     "name": "stdout",
     "output_type": "stream",
     "text": [
      "[0]\teval-auc:0.852377\ttrain-auc:0.83614\n",
      "[1]\teval-auc:0.859477\ttrain-auc:0.843805\n",
      "[2]\teval-auc:0.859299\ttrain-auc:0.844986\n",
      "[3]\teval-auc:0.868806\ttrain-auc:0.860497\n",
      "[4]\teval-auc:0.867201\ttrain-auc:0.870246\n",
      "[5]\teval-auc:0.875104\ttrain-auc:0.872522\n",
      "[6]\teval-auc:0.876471\ttrain-auc:0.875454\n",
      "[7]\teval-auc:0.88057\ttrain-auc:0.881866\n",
      "[8]\teval-auc:0.884759\ttrain-auc:0.887753\n",
      "[9]\teval-auc:0.876708\ttrain-auc:0.890045\n",
      "[10]\teval-auc:0.878907\ttrain-auc:0.892649\n",
      "[11]\teval-auc:0.88057\ttrain-auc:0.893886\n",
      "[12]\teval-auc:0.880778\ttrain-auc:0.895691\n",
      "[13]\teval-auc:0.876886\ttrain-auc:0.90265\n",
      "[14]\teval-auc:0.878966\ttrain-auc:0.904614\n",
      "[15]\teval-auc:0.876768\ttrain-auc:0.906212\n",
      "[16]\teval-auc:0.877332\ttrain-auc:0.906403\n",
      "[17]\teval-auc:0.881729\ttrain-auc:0.910736\n",
      "[18]\teval-auc:0.884938\ttrain-auc:0.912591\n",
      "[19]\teval-auc:0.884106\ttrain-auc:0.912323\n",
      "[20]\teval-auc:0.881373\ttrain-auc:0.914008\n",
      "[21]\teval-auc:0.878194\ttrain-auc:0.915496\n",
      "[22]\teval-auc:0.877718\ttrain-auc:0.917586\n",
      "[23]\teval-auc:0.877035\ttrain-auc:0.919386\n",
      "[24]\teval-auc:0.877689\ttrain-auc:0.92025\n",
      "[25]\teval-auc:0.876916\ttrain-auc:0.920775\n",
      "[26]\teval-auc:0.881046\ttrain-auc:0.923691\n",
      "[27]\teval-auc:0.880927\ttrain-auc:0.924118\n",
      "[28]\teval-auc:0.881135\ttrain-auc:0.924304\n",
      "[29]\teval-auc:0.881551\ttrain-auc:0.924802\n",
      "[30]\teval-auc:0.8806\ttrain-auc:0.925814\n",
      "[31]\teval-auc:0.878045\ttrain-auc:0.926733\n",
      "[32]\teval-auc:0.879709\ttrain-auc:0.927051\n",
      "[33]\teval-auc:0.881432\ttrain-auc:0.928095\n",
      "[34]\teval-auc:0.880511\ttrain-auc:0.928489\n",
      "[35]\teval-auc:0.880689\ttrain-auc:0.928796\n",
      "[36]\teval-auc:0.879323\ttrain-auc:0.929157\n",
      "[37]\teval-auc:0.87754\ttrain-auc:0.930738\n",
      "[38]\teval-auc:0.877897\ttrain-auc:0.932346\n",
      "[39]\teval-auc:0.878431\ttrain-auc:0.932368\n",
      "[40]\teval-auc:0.875401\ttrain-auc:0.932762\n",
      "[41]\teval-auc:0.874539\ttrain-auc:0.933616\n",
      "[42]\teval-auc:0.874718\ttrain-auc:0.933736\n",
      "[43]\teval-auc:0.875312\ttrain-auc:0.934075\n",
      "[44]\teval-auc:0.874955\ttrain-auc:0.934775\n",
      "[45]\teval-auc:0.875906\ttrain-auc:0.93506\n",
      "[46]\teval-auc:0.877629\ttrain-auc:0.936116\n",
      "[47]\teval-auc:0.877392\ttrain-auc:0.936138\n",
      "[48]\teval-auc:0.875342\ttrain-auc:0.936931\n",
      "[49]\teval-auc:0.874272\ttrain-auc:0.937774\n"
     ]
    }
   ],
   "source": [
    "num_round = 50\n",
    "bst = xgb.train(plst, dtrain, num_round, evallist)"
   ]
  },
  {
   "cell_type": "code",
   "execution_count": 11,
   "metadata": {},
   "outputs": [],
   "source": [
    "ypred = bst.predict(dtest, ntree_limit=bst.best_ntree_limit)"
   ]
  },
  {
   "cell_type": "code",
   "execution_count": 12,
   "metadata": {},
   "outputs": [
    {
     "data": {
      "text/plain": [
       "0.8352059925093633"
      ]
     },
     "execution_count": 12,
     "metadata": {},
     "output_type": "execute_result"
    }
   ],
   "source": [
    "(sum((ypred>0.5) == y_test)) / 267.0"
   ]
  }
 ],
 "metadata": {
  "kernelspec": {
   "display_name": "Python 3",
   "language": "python",
   "name": "python3"
  },
  "language_info": {
   "codemirror_mode": {
    "name": "ipython",
    "version": 3
   },
   "file_extension": ".py",
   "mimetype": "text/x-python",
   "name": "python",
   "nbconvert_exporter": "python",
   "pygments_lexer": "ipython3",
   "version": "3.7.1"
  }
 },
 "nbformat": 4,
 "nbformat_minor": 2
}
