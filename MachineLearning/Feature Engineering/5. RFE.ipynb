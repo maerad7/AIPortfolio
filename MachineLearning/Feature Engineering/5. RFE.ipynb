{
 "cells": [
  {
   "cell_type": "markdown",
   "metadata": {},
   "source": [
    "### Iterative Feature Selection\n",
    "* 반복적으로 feature의 수를 조절 -> 최적의 Feature 선택\n",
    "* 1개에서 계속 갯수를 늘리거나 n개에서 계속 줄여가면서 가장 성능이 좋은 feature 선택"
   ]
  },
  {
   "cell_type": "markdown",
   "metadata": {},
   "source": [
    "### RFE : Feature를 삭제할때 많이 사용\n",
    "* Tree, LR\n",
    "* n_feature_to_select : 몇 개의 feature 선택 할것인지\n",
    "* step : 몇번 반복 할것이냐"
   ]
  },
  {
   "cell_type": "markdown",
   "metadata": {},
   "source": [
    "### Feature 선택시 주의사항\n",
    "* prediction time 에도 쓸 수 있는 feature 인가?\n",
    "* 실시간 예측이 필요할 때, 생성이 너무 고비용이 아닌가?\n",
    "* scale은 일정한가? 또는 비율적으로 표현 가능한가?\n",
    "* 새롭게 등장하는 category data는?\n",
    "* 너무 극단적인 분포 -> threshold 기반으로 binarization"
   ]
  },
  {
   "cell_type": "code",
   "execution_count": 1,
   "metadata": {
    "collapsed": true
   },
   "outputs": [],
   "source": [
    "import warnings\n",
    "warnings.filterwarnings('ignore')"
   ]
  },
  {
   "cell_type": "code",
   "execution_count": 2,
   "metadata": {
    "collapsed": true
   },
   "outputs": [],
   "source": [
    "import hourse_price_preprocessor as hpp\n",
    "import os\n",
    "import numpy as np\n",
    "import pandas as pd"
   ]
  },
  {
   "cell_type": "code",
   "execution_count": 3,
   "metadata": {
    "collapsed": true
   },
   "outputs": [],
   "source": [
    "DATA_DIR = \"house_price\"\n",
    "TEST_FILENAME = \"test.csv\"\n",
    "TRAIN_FILENAME = \"train.csv\""
   ]
  },
  {
   "cell_type": "code",
   "execution_count": 4,
   "metadata": {
    "collapsed": true
   },
   "outputs": [],
   "source": [
    "test_file = os.path.join(DATA_DIR, TEST_FILENAME)\n",
    "train_file = os.path.join(DATA_DIR, TRAIN_FILENAME)"
   ]
  },
  {
   "cell_type": "code",
   "execution_count": 5,
   "metadata": {
    "collapsed": true
   },
   "outputs": [],
   "source": [
    "X_train, X_test, y_train, test_id_idx = hpp.get_train_test_split_dataset(train_file, test_file)"
   ]
  },
  {
   "cell_type": "code",
   "execution_count": 6,
   "metadata": {},
   "outputs": [
    {
     "data": {
      "text/plain": [
       "((1460, 67), (1460,), (1459, 67), (1459,))"
      ]
     },
     "execution_count": 6,
     "metadata": {},
     "output_type": "execute_result"
    }
   ],
   "source": [
    "X_train.shape, y_train.shape, X_test.shape, test_id_idx.shape"
   ]
  },
  {
   "cell_type": "code",
   "execution_count": 18,
   "metadata": {
    "collapsed": true
   },
   "outputs": [],
   "source": [
    "from sklearn.feature_selection import RFE\n",
    "from sklearn.model_selection import cross_val_score\n",
    "from sklearn.linear_model import LinearRegression\n",
    "from sklearn.ensemble import RandomForestRegressor"
   ]
  },
  {
   "cell_type": "code",
   "execution_count": 19,
   "metadata": {},
   "outputs": [
    {
     "data": {
      "text/plain": [
       "array([208500, 181500, 223500, ..., 266500, 142125, 147500], dtype=int64)"
      ]
     },
     "execution_count": 19,
     "metadata": {},
     "output_type": "execute_result"
    }
   ],
   "source": [
    "y_train"
   ]
  },
  {
   "cell_type": "code",
   "execution_count": 26,
   "metadata": {},
   "outputs": [],
   "source": [
    "select = RFE(RandomForestRegressor(n_estimators=100))\n",
    "select.fit(X_train, y_train)\n",
    "\n",
    "# transform training set\n",
    "X_train_selected = select.transform(X_train)"
   ]
  },
  {
   "cell_type": "code",
   "execution_count": 27,
   "metadata": {},
   "outputs": [
    {
     "data": {
      "text/plain": [
       "(1460, 33)"
      ]
     },
     "execution_count": 27,
     "metadata": {},
     "output_type": "execute_result"
    }
   ],
   "source": [
    "X_train_selected.shape"
   ]
  },
  {
   "cell_type": "code",
   "execution_count": 28,
   "metadata": {},
   "outputs": [
    {
     "data": {
      "text/plain": [
       "0.7826559065361373"
      ]
     },
     "execution_count": 28,
     "metadata": {},
     "output_type": "execute_result"
    }
   ],
   "source": [
    "np.mean(cross_val_score(LinearRegression(), X_train_selected, y_train, scoring=\"r2\"))"
   ]
  },
  {
   "cell_type": "code",
   "execution_count": 29,
   "metadata": {},
   "outputs": [
    {
     "data": {
      "text/plain": [
       "-9.320642852685059e+20"
      ]
     },
     "execution_count": 29,
     "metadata": {},
     "output_type": "execute_result"
    }
   ],
   "source": [
    "np.mean(cross_val_score(LinearRegression(), X_train, y_train, scoring=\"r2\"))"
   ]
  },
  {
   "cell_type": "code",
   "execution_count": 18,
   "metadata": {},
   "outputs": [
    {
     "data": {
      "text/plain": [
       "array([False,  True, False, False, False,  True, False, False, False,\n",
       "       False, False, False, False, False, False,  True,  True,  True,\n",
       "        True, False, False,  True,  True,  True,  True,  True,  True,\n",
       "        True, False, False, False, False, False, False, False,  True,\n",
       "        True,  True,  True,  True, False,  True,  True,  True,  True,\n",
       "       False,  True, False, False,  True,  True, False, False,  True,\n",
       "        True,  True,  True,  True,  True,  True, False, False, False,\n",
       "       False,  True, False, False])"
      ]
     },
     "execution_count": 18,
     "metadata": {},
     "output_type": "execute_result"
    }
   ],
   "source": [
    "select.get_support()\n"
   ]
  },
  {
   "cell_type": "code",
   "execution_count": 19,
   "metadata": {},
   "outputs": [
    {
     "data": {
      "text/plain": [
       "array([5.57502768e-001, 5.02124571e-015, 9.99995404e-001, 9.61452045e-002,\n",
       "       9.78688681e-001, 1.56588106e-018, 8.53544002e-001, 6.08632426e-004,\n",
       "       1.00000000e+000, 1.00000000e+000, 9.40689416e-001, 4.47384728e-003,\n",
       "       7.28714288e-001, 9.99971838e-001, 1.00000000e+000, 0.00000000e+000,\n",
       "       2.74137086e-080, 2.16603844e-032, 9.80605930e-008, 6.03435379e-005,\n",
       "       5.21139084e-001, 3.28224819e-014, 3.66786948e-057, 3.40254555e-116,\n",
       "       6.58540871e-136, 0.00000000e+000, 1.56650821e-015, 1.03867093e-011,\n",
       "       7.86193808e-001, 1.48016042e-002, 9.99660590e-001, 9.72965311e-001,\n",
       "       9.99999809e-001, 1.62972263e-002, 5.06478431e-003, 9.89489137e-057,\n",
       "       1.29089040e-029, 2.28852795e-016, 1.17708063e-020, 5.80269212e-013,\n",
       "       5.31304381e-001, 2.19085586e-007, 9.28134677e-030, 2.04558302e-030,\n",
       "       3.34282253e-012, 9.82841633e-001, 1.01652264e-060, 4.32652907e-002,\n",
       "       9.86567394e-001, 5.30633056e-040, 1.41075810e-006, 2.14400746e-003,\n",
       "       9.62826203e-001, 1.43794427e-017, 1.23675640e-011, 5.35611465e-016,\n",
       "       4.12651593e-045, 2.57617802e-037, 7.39104958e-006, 9.65929646e-007,\n",
       "       9.98789590e-001, 9.61469948e-001, 5.00582473e-001, 5.93745451e-001,\n",
       "       4.20626954e-069, 1.82269336e-001, 7.63487774e-002])"
      ]
     },
     "execution_count": 19,
     "metadata": {},
     "output_type": "execute_result"
    }
   ],
   "source": [
    "select.pvalues_"
   ]
  }
 ],
 "metadata": {
  "kernelspec": {
   "display_name": "Python 3",
   "language": "python",
   "name": "python3"
  },
  "language_info": {
   "codemirror_mode": {
    "name": "ipython",
    "version": 3
   },
   "file_extension": ".py",
   "mimetype": "text/x-python",
   "name": "python",
   "nbconvert_exporter": "python",
   "pygments_lexer": "ipython3",
   "version": "3.7.1"
  }
 },
 "nbformat": 4,
 "nbformat_minor": 2
}
