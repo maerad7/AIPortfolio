{
 "cells": [
  {
   "cell_type": "code",
   "execution_count": 1,
   "metadata": {},
   "outputs": [
    {
     "name": "stdout",
     "output_type": "stream",
     "text": [
      "Collecting JPype1\n",
      "  Downloading https://files.pythonhosted.org/packages/c4/4b/60a3e63d51714d4d7ef1b1efdf84315d118a0a80a5b085bb52a7e2428cdc/JPype1-0.6.3.tar.gz (168kB)\n",
      "Building wheels for collected packages: JPype1\n",
      "  Running setup.py bdist_wheel for JPype1: started\n",
      "  Running setup.py bdist_wheel for JPype1: finished with status 'error'\n",
      "  Complete output from command c:\\users\\p\\anaconda3\\python.exe -u -c \"import setuptools, tokenize;__file__='C:\\\\Users\\\\p\\\\AppData\\\\Local\\\\Temp\\\\pip-install-hr1sl51t\\\\JPype1\\\\setup.py';f=getattr(tokenize, 'open', open)(__file__);code=f.read().replace('\\r\\n', '\\n');f.close();exec(compile(code, __file__, 'exec'))\" bdist_wheel -d C:\\Users\\p\\AppData\\Local\\Temp\\pip-wheel-bbyvvl5_ --python-tag cp36:\n",
      "  running bdist_wheel\n",
      "  running build\n",
      "  running build_py\n",
      "  creating build\n",
      "  creating build\\lib.win-amd64-3.6\n",
      "  creating build\\lib.win-amd64-3.6\\jpype\n",
      "  copying jpype\\imports.py -> build\\lib.win-amd64-3.6\\jpype\n",
      "  copying jpype\\JClassUtil.py -> build\\lib.win-amd64-3.6\\jpype\n",
      "  copying jpype\\nio.py -> build\\lib.win-amd64-3.6\\jpype\n",
      "  copying jpype\\reflect.py -> build\\lib.win-amd64-3.6\\jpype\n",
      "  copying jpype\\_classpath.py -> build\\lib.win-amd64-3.6\\jpype\n",
      "  copying jpype\\_core.py -> build\\lib.win-amd64-3.6\\jpype\n",
      "  copying jpype\\_cygwin.py -> build\\lib.win-amd64-3.6\\jpype\n",
      "  copying jpype\\_darwin.py -> build\\lib.win-amd64-3.6\\jpype\n",
      "  copying jpype\\_gui.py -> build\\lib.win-amd64-3.6\\jpype\n",
      "  copying jpype\\_jarray.py -> build\\lib.win-amd64-3.6\\jpype\n",
      "  copying jpype\\_jboxed.py -> build\\lib.win-amd64-3.6\\jpype\n",
      "  copying jpype\\_jclass.py -> build\\lib.win-amd64-3.6\\jpype\n",
      "  copying jpype\\_jcollection.py -> build\\lib.win-amd64-3.6\\jpype\n",
      "  copying jpype\\_jexception.py -> build\\lib.win-amd64-3.6\\jpype\n",
      "  copying jpype\\_jio.py -> build\\lib.win-amd64-3.6\\jpype\n",
      "  copying jpype\\_jobject.py -> build\\lib.win-amd64-3.6\\jpype\n",
      "  copying jpype\\_jpackage.py -> build\\lib.win-amd64-3.6\\jpype\n",
      "  copying jpype\\_jproxy.py -> build\\lib.win-amd64-3.6\\jpype\n",
      "  copying jpype\\_jvmfinder.py -> build\\lib.win-amd64-3.6\\jpype\n",
      "  copying jpype\\_jwrapper.py -> build\\lib.win-amd64-3.6\\jpype\n",
      "  copying jpype\\_linux.py -> build\\lib.win-amd64-3.6\\jpype\n",
      "  copying jpype\\_properties.py -> build\\lib.win-amd64-3.6\\jpype\n",
      "  copying jpype\\_pykeywords.py -> build\\lib.win-amd64-3.6\\jpype\n",
      "  copying jpype\\_refdaemon.py -> build\\lib.win-amd64-3.6\\jpype\n",
      "  copying jpype\\_windows.py -> build\\lib.win-amd64-3.6\\jpype\n",
      "  copying jpype\\__init__.py -> build\\lib.win-amd64-3.6\\jpype\n",
      "  creating build\\lib.win-amd64-3.6\\jpype\\awt\n",
      "  copying jpype\\awt\\__init__.py -> build\\lib.win-amd64-3.6\\jpype\\awt\n",
      "  creating build\\lib.win-amd64-3.6\\jpype\\awt\\event\n",
      "  copying jpype\\awt\\event\\WindowAdapter.py -> build\\lib.win-amd64-3.6\\jpype\\awt\\event\n",
      "  copying jpype\\awt\\event\\__init__.py -> build\\lib.win-amd64-3.6\\jpype\\awt\\event\n",
      "  creating build\\lib.win-amd64-3.6\\jpypex\n",
      "  copying jpypex\\__init__.py -> build\\lib.win-amd64-3.6\\jpypex\n",
      "  creating build\\lib.win-amd64-3.6\\jpypex\\swing\n",
      "  copying jpypex\\swing\\AbstractAction.py -> build\\lib.win-amd64-3.6\\jpypex\\swing\n",
      "  copying jpypex\\swing\\pyutils.py -> build\\lib.win-amd64-3.6\\jpypex\\swing\n",
      "  copying jpypex\\swing\\__init__.py -> build\\lib.win-amd64-3.6\\jpypex\\swing\n",
      "  running build_ext\n",
      "  C:\\Users\\p\\AppData\\Local\\Temp\\pip-install-hr1sl51t\\JPype1\\setup.py:173: FeatureNotice: Turned ON Numpy support for fast Java array access\n",
      "    FeatureNotice)\n",
      "  building '_jpype' extension\n",
      "  error: Microsoft Visual C++ 14.0 is required. Get it with \"Microsoft Visual C++ Build Tools\": http://landinghub.visualstudio.com/visual-cpp-build-tools\n",
      "  \n",
      "  ----------------------------------------\n",
      "  Running setup.py clean for JPype1\n",
      "Failed to build JPype1\n",
      "Installing collected packages: JPype1\n",
      "  Running setup.py install for JPype1: started\n",
      "    Running setup.py install for JPype1: finished with status 'error'\n",
      "    Complete output from command c:\\users\\p\\anaconda3\\python.exe -u -c \"import setuptools, tokenize;__file__='C:\\\\Users\\\\p\\\\AppData\\\\Local\\\\Temp\\\\pip-install-hr1sl51t\\\\JPype1\\\\setup.py';f=getattr(tokenize, 'open', open)(__file__);code=f.read().replace('\\r\\n', '\\n');f.close();exec(compile(code, __file__, 'exec'))\" install --record C:\\Users\\p\\AppData\\Local\\Temp\\pip-record-gj5i2yzh\\install-record.txt --single-version-externally-managed --compile:\n",
      "    running install\n",
      "    running build\n",
      "    running build_py\n",
      "    creating build\n",
      "    creating build\\lib.win-amd64-3.6\n",
      "    creating build\\lib.win-amd64-3.6\\jpype\n",
      "    copying jpype\\imports.py -> build\\lib.win-amd64-3.6\\jpype\n",
      "    copying jpype\\JClassUtil.py -> build\\lib.win-amd64-3.6\\jpype\n",
      "    copying jpype\\nio.py -> build\\lib.win-amd64-3.6\\jpype\n",
      "    copying jpype\\reflect.py -> build\\lib.win-amd64-3.6\\jpype\n",
      "    copying jpype\\_classpath.py -> build\\lib.win-amd64-3.6\\jpype\n",
      "    copying jpype\\_core.py -> build\\lib.win-amd64-3.6\\jpype\n",
      "    copying jpype\\_cygwin.py -> build\\lib.win-amd64-3.6\\jpype\n",
      "    copying jpype\\_darwin.py -> build\\lib.win-amd64-3.6\\jpype\n",
      "    copying jpype\\_gui.py -> build\\lib.win-amd64-3.6\\jpype\n",
      "    copying jpype\\_jarray.py -> build\\lib.win-amd64-3.6\\jpype\n",
      "    copying jpype\\_jboxed.py -> build\\lib.win-amd64-3.6\\jpype\n",
      "    copying jpype\\_jclass.py -> build\\lib.win-amd64-3.6\\jpype\n",
      "    copying jpype\\_jcollection.py -> build\\lib.win-amd64-3.6\\jpype\n",
      "    copying jpype\\_jexception.py -> build\\lib.win-amd64-3.6\\jpype\n",
      "    copying jpype\\_jio.py -> build\\lib.win-amd64-3.6\\jpype\n",
      "    copying jpype\\_jobject.py -> build\\lib.win-amd64-3.6\\jpype\n",
      "    copying jpype\\_jpackage.py -> build\\lib.win-amd64-3.6\\jpype\n",
      "    copying jpype\\_jproxy.py -> build\\lib.win-amd64-3.6\\jpype\n",
      "    copying jpype\\_jvmfinder.py -> build\\lib.win-amd64-3.6\\jpype\n",
      "    copying jpype\\_jwrapper.py -> build\\lib.win-amd64-3.6\\jpype\n",
      "    copying jpype\\_linux.py -> build\\lib.win-amd64-3.6\\jpype\n",
      "    copying jpype\\_properties.py -> build\\lib.win-amd64-3.6\\jpype\n",
      "    copying jpype\\_pykeywords.py -> build\\lib.win-amd64-3.6\\jpype\n",
      "    copying jpype\\_refdaemon.py -> build\\lib.win-amd64-3.6\\jpype\n",
      "    copying jpype\\_windows.py -> build\\lib.win-amd64-3.6\\jpype\n",
      "    copying jpype\\__init__.py -> build\\lib.win-amd64-3.6\\jpype\n",
      "    creating build\\lib.win-amd64-3.6\\jpype\\awt\n",
      "    copying jpype\\awt\\__init__.py -> build\\lib.win-amd64-3.6\\jpype\\awt\n",
      "    creating build\\lib.win-amd64-3.6\\jpype\\awt\\event\n",
      "    copying jpype\\awt\\event\\WindowAdapter.py -> build\\lib.win-amd64-3.6\\jpype\\awt\\event\n",
      "    copying jpype\\awt\\event\\__init__.py -> build\\lib.win-amd64-3.6\\jpype\\awt\\event\n",
      "    creating build\\lib.win-amd64-3.6\\jpypex\n",
      "    copying jpypex\\__init__.py -> build\\lib.win-amd64-3.6\\jpypex\n",
      "    creating build\\lib.win-amd64-3.6\\jpypex\\swing\n",
      "    copying jpypex\\swing\\AbstractAction.py -> build\\lib.win-amd64-3.6\\jpypex\\swing\n",
      "    copying jpypex\\swing\\pyutils.py -> build\\lib.win-amd64-3.6\\jpypex\\swing\n",
      "    copying jpypex\\swing\\__init__.py -> build\\lib.win-amd64-3.6\\jpypex\\swing\n",
      "    running build_ext\n",
      "    C:\\Users\\p\\AppData\\Local\\Temp\\pip-install-hr1sl51t\\JPype1\\setup.py:173: FeatureNotice: Turned ON Numpy support for fast Java array access\n",
      "      FeatureNotice)\n",
      "    building '_jpype' extension\n",
      "    error: Microsoft Visual C++ 14.0 is required. Get it with \"Microsoft Visual C++ Build Tools\": http://landinghub.visualstudio.com/visual-cpp-build-tools\n",
      "    \n",
      "    ----------------------------------------\n"
     ]
    },
    {
     "name": "stderr",
     "output_type": "stream",
     "text": [
      "  Failed building wheel for JPype1\n",
      "Command \"c:\\users\\p\\anaconda3\\python.exe -u -c \"import setuptools, tokenize;__file__='C:\\\\Users\\\\p\\\\AppData\\\\Local\\\\Temp\\\\pip-install-hr1sl51t\\\\JPype1\\\\setup.py';f=getattr(tokenize, 'open', open)(__file__);code=f.read().replace('\\r\\n', '\\n');f.close();exec(compile(code, __file__, 'exec'))\" install --record C:\\Users\\p\\AppData\\Local\\Temp\\pip-record-gj5i2yzh\\install-record.txt --single-version-externally-managed --compile\" failed with error code 1 in C:\\Users\\p\\AppData\\Local\\Temp\\pip-install-hr1sl51t\\JPype1\\\n"
     ]
    }
   ],
   "source": [
    "!pip install JPype1"
   ]
  },
  {
   "cell_type": "code",
   "execution_count": 2,
   "metadata": {
    "scrolled": true
   },
   "outputs": [
    {
     "name": "stdout",
     "output_type": "stream",
     "text": [
      "Collecting konlp\n",
      "  Downloading https://files.pythonhosted.org/packages/7e/68/c93e0646e26904f77484d326de045918cb73def11b2971471c4bc2876189/konlp-0.0.8-py3-none-any.whl (5.0MB)\n",
      "Installing collected packages: konlp\n",
      "Successfully installed konlp-0.0.8\n"
     ]
    }
   ],
   "source": [
    "!pip install konlp"
   ]
  },
  {
   "cell_type": "code",
   "execution_count": 10,
   "metadata": {
    "scrolled": true
   },
   "outputs": [
    {
     "name": "stdout",
     "output_type": "stream",
     "text": [
      "Collecting konlpy\n",
      "  Downloading https://files.pythonhosted.org/packages/e5/3d/4e983cd98d87b50b2ab0387d73fa946f745aa8164e8888a714d5129f9765/konlpy-0.5.1-py2.py3-none-any.whl (19.4MB)\n",
      "Collecting JPype1>=0.5.7 (from konlpy)\n",
      "  Using cached https://files.pythonhosted.org/packages/c4/4b/60a3e63d51714d4d7ef1b1efdf84315d118a0a80a5b085bb52a7e2428cdc/JPype1-0.6.3.tar.gz\n",
      "Building wheels for collected packages: JPype1\n",
      "  Running setup.py bdist_wheel for JPype1: started\n",
      "  Running setup.py bdist_wheel for JPype1: finished with status 'error'\n",
      "  Complete output from command c:\\users\\p\\anaconda3\\python.exe -u -c \"import setuptools, tokenize;__file__='C:\\\\Users\\\\p\\\\AppData\\\\Local\\\\Temp\\\\pip-install-tc63vxe2\\\\JPype1\\\\setup.py';f=getattr(tokenize, 'open', open)(__file__);code=f.read().replace('\\r\\n', '\\n');f.close();exec(compile(code, __file__, 'exec'))\" bdist_wheel -d C:\\Users\\p\\AppData\\Local\\Temp\\pip-wheel-mwvb6stx --python-tag cp36:\n",
      "  running bdist_wheel\n",
      "  running build\n",
      "  running build_py\n",
      "  creating build\n",
      "  creating build\\lib.win-amd64-3.6\n",
      "  creating build\\lib.win-amd64-3.6\\jpype\n",
      "  copying jpype\\imports.py -> build\\lib.win-amd64-3.6\\jpype\n",
      "  copying jpype\\JClassUtil.py -> build\\lib.win-amd64-3.6\\jpype\n",
      "  copying jpype\\nio.py -> build\\lib.win-amd64-3.6\\jpype\n",
      "  copying jpype\\reflect.py -> build\\lib.win-amd64-3.6\\jpype\n",
      "  copying jpype\\_classpath.py -> build\\lib.win-amd64-3.6\\jpype\n",
      "  copying jpype\\_core.py -> build\\lib.win-amd64-3.6\\jpype\n",
      "  copying jpype\\_cygwin.py -> build\\lib.win-amd64-3.6\\jpype\n",
      "  copying jpype\\_darwin.py -> build\\lib.win-amd64-3.6\\jpype\n",
      "  copying jpype\\_gui.py -> build\\lib.win-amd64-3.6\\jpype\n",
      "  copying jpype\\_jarray.py -> build\\lib.win-amd64-3.6\\jpype\n",
      "  copying jpype\\_jboxed.py -> build\\lib.win-amd64-3.6\\jpype\n",
      "  copying jpype\\_jclass.py -> build\\lib.win-amd64-3.6\\jpype\n",
      "  copying jpype\\_jcollection.py -> build\\lib.win-amd64-3.6\\jpype\n",
      "  copying jpype\\_jexception.py -> build\\lib.win-amd64-3.6\\jpype\n",
      "  copying jpype\\_jio.py -> build\\lib.win-amd64-3.6\\jpype\n",
      "  copying jpype\\_jobject.py -> build\\lib.win-amd64-3.6\\jpype\n",
      "  copying jpype\\_jpackage.py -> build\\lib.win-amd64-3.6\\jpype\n",
      "  copying jpype\\_jproxy.py -> build\\lib.win-amd64-3.6\\jpype\n",
      "  copying jpype\\_jvmfinder.py -> build\\lib.win-amd64-3.6\\jpype\n",
      "  copying jpype\\_jwrapper.py -> build\\lib.win-amd64-3.6\\jpype\n",
      "  copying jpype\\_linux.py -> build\\lib.win-amd64-3.6\\jpype\n",
      "  copying jpype\\_properties.py -> build\\lib.win-amd64-3.6\\jpype\n",
      "  copying jpype\\_pykeywords.py -> build\\lib.win-amd64-3.6\\jpype\n",
      "  copying jpype\\_refdaemon.py -> build\\lib.win-amd64-3.6\\jpype\n",
      "  copying jpype\\_windows.py -> build\\lib.win-amd64-3.6\\jpype\n",
      "  copying jpype\\__init__.py -> build\\lib.win-amd64-3.6\\jpype\n",
      "  creating build\\lib.win-amd64-3.6\\jpype\\awt\n",
      "  copying jpype\\awt\\__init__.py -> build\\lib.win-amd64-3.6\\jpype\\awt\n",
      "  creating build\\lib.win-amd64-3.6\\jpype\\awt\\event\n",
      "  copying jpype\\awt\\event\\WindowAdapter.py -> build\\lib.win-amd64-3.6\\jpype\\awt\\event\n",
      "  copying jpype\\awt\\event\\__init__.py -> build\\lib.win-amd64-3.6\\jpype\\awt\\event\n",
      "  creating build\\lib.win-amd64-3.6\\jpypex\n",
      "  copying jpypex\\__init__.py -> build\\lib.win-amd64-3.6\\jpypex\n",
      "  creating build\\lib.win-amd64-3.6\\jpypex\\swing\n",
      "  copying jpypex\\swing\\AbstractAction.py -> build\\lib.win-amd64-3.6\\jpypex\\swing\n",
      "  copying jpypex\\swing\\pyutils.py -> build\\lib.win-amd64-3.6\\jpypex\\swing\n",
      "  copying jpypex\\swing\\__init__.py -> build\\lib.win-amd64-3.6\\jpypex\\swing\n",
      "  running build_ext\n",
      "  C:\\Users\\p\\AppData\\Local\\Temp\\pip-install-tc63vxe2\\JPype1\\setup.py:173: FeatureNotice: Turned ON Numpy support for fast Java array access\n",
      "    FeatureNotice)\n",
      "  building '_jpype' extension\n",
      "  error: Microsoft Visual C++ 14.0 is required. Get it with \"Microsoft Visual C++ Build Tools\": http://landinghub.visualstudio.com/visual-cpp-build-tools\n",
      "  \n",
      "  ----------------------------------------\n",
      "  Running setup.py clean for JPype1\n",
      "Failed to build JPype1\n",
      "Installing collected packages: JPype1, konlpy\n",
      "  Running setup.py install for JPype1: started\n",
      "    Running setup.py install for JPype1: finished with status 'error'\n",
      "    Complete output from command c:\\users\\p\\anaconda3\\python.exe -u -c \"import setuptools, tokenize;__file__='C:\\\\Users\\\\p\\\\AppData\\\\Local\\\\Temp\\\\pip-install-tc63vxe2\\\\JPype1\\\\setup.py';f=getattr(tokenize, 'open', open)(__file__);code=f.read().replace('\\r\\n', '\\n');f.close();exec(compile(code, __file__, 'exec'))\" install --record C:\\Users\\p\\AppData\\Local\\Temp\\pip-record-r0mbq0c2\\install-record.txt --single-version-externally-managed --compile:\n",
      "    running install\n",
      "    running build\n",
      "    running build_py\n",
      "    creating build\n",
      "    creating build\\lib.win-amd64-3.6\n",
      "    creating build\\lib.win-amd64-3.6\\jpype\n",
      "    copying jpype\\imports.py -> build\\lib.win-amd64-3.6\\jpype\n",
      "    copying jpype\\JClassUtil.py -> build\\lib.win-amd64-3.6\\jpype\n",
      "    copying jpype\\nio.py -> build\\lib.win-amd64-3.6\\jpype\n",
      "    copying jpype\\reflect.py -> build\\lib.win-amd64-3.6\\jpype\n",
      "    copying jpype\\_classpath.py -> build\\lib.win-amd64-3.6\\jpype\n",
      "    copying jpype\\_core.py -> build\\lib.win-amd64-3.6\\jpype\n",
      "    copying jpype\\_cygwin.py -> build\\lib.win-amd64-3.6\\jpype\n",
      "    copying jpype\\_darwin.py -> build\\lib.win-amd64-3.6\\jpype\n",
      "    copying jpype\\_gui.py -> build\\lib.win-amd64-3.6\\jpype\n",
      "    copying jpype\\_jarray.py -> build\\lib.win-amd64-3.6\\jpype\n",
      "    copying jpype\\_jboxed.py -> build\\lib.win-amd64-3.6\\jpype\n",
      "    copying jpype\\_jclass.py -> build\\lib.win-amd64-3.6\\jpype\n",
      "    copying jpype\\_jcollection.py -> build\\lib.win-amd64-3.6\\jpype\n",
      "    copying jpype\\_jexception.py -> build\\lib.win-amd64-3.6\\jpype\n",
      "    copying jpype\\_jio.py -> build\\lib.win-amd64-3.6\\jpype\n",
      "    copying jpype\\_jobject.py -> build\\lib.win-amd64-3.6\\jpype\n",
      "    copying jpype\\_jpackage.py -> build\\lib.win-amd64-3.6\\jpype\n",
      "    copying jpype\\_jproxy.py -> build\\lib.win-amd64-3.6\\jpype\n",
      "    copying jpype\\_jvmfinder.py -> build\\lib.win-amd64-3.6\\jpype\n",
      "    copying jpype\\_jwrapper.py -> build\\lib.win-amd64-3.6\\jpype\n",
      "    copying jpype\\_linux.py -> build\\lib.win-amd64-3.6\\jpype\n",
      "    copying jpype\\_properties.py -> build\\lib.win-amd64-3.6\\jpype\n",
      "    copying jpype\\_pykeywords.py -> build\\lib.win-amd64-3.6\\jpype\n",
      "    copying jpype\\_refdaemon.py -> build\\lib.win-amd64-3.6\\jpype\n",
      "    copying jpype\\_windows.py -> build\\lib.win-amd64-3.6\\jpype\n",
      "    copying jpype\\__init__.py -> build\\lib.win-amd64-3.6\\jpype\n",
      "    creating build\\lib.win-amd64-3.6\\jpype\\awt\n",
      "    copying jpype\\awt\\__init__.py -> build\\lib.win-amd64-3.6\\jpype\\awt\n",
      "    creating build\\lib.win-amd64-3.6\\jpype\\awt\\event\n",
      "    copying jpype\\awt\\event\\WindowAdapter.py -> build\\lib.win-amd64-3.6\\jpype\\awt\\event\n",
      "    copying jpype\\awt\\event\\__init__.py -> build\\lib.win-amd64-3.6\\jpype\\awt\\event\n",
      "    creating build\\lib.win-amd64-3.6\\jpypex\n",
      "    copying jpypex\\__init__.py -> build\\lib.win-amd64-3.6\\jpypex\n",
      "    creating build\\lib.win-amd64-3.6\\jpypex\\swing\n",
      "    copying jpypex\\swing\\AbstractAction.py -> build\\lib.win-amd64-3.6\\jpypex\\swing\n",
      "    copying jpypex\\swing\\pyutils.py -> build\\lib.win-amd64-3.6\\jpypex\\swing\n",
      "    copying jpypex\\swing\\__init__.py -> build\\lib.win-amd64-3.6\\jpypex\\swing\n",
      "    running build_ext\n",
      "    C:\\Users\\p\\AppData\\Local\\Temp\\pip-install-tc63vxe2\\JPype1\\setup.py:173: FeatureNotice: Turned ON Numpy support for fast Java array access\n",
      "      FeatureNotice)\n",
      "    building '_jpype' extension\n",
      "    error: Microsoft Visual C++ 14.0 is required. Get it with \"Microsoft Visual C++ Build Tools\": http://landinghub.visualstudio.com/visual-cpp-build-tools\n",
      "    \n",
      "    ----------------------------------------\n"
     ]
    },
    {
     "name": "stderr",
     "output_type": "stream",
     "text": [
      "  Failed building wheel for JPype1\n",
      "Command \"c:\\users\\p\\anaconda3\\python.exe -u -c \"import setuptools, tokenize;__file__='C:\\\\Users\\\\p\\\\AppData\\\\Local\\\\Temp\\\\pip-install-tc63vxe2\\\\JPype1\\\\setup.py';f=getattr(tokenize, 'open', open)(__file__);code=f.read().replace('\\r\\n', '\\n');f.close();exec(compile(code, __file__, 'exec'))\" install --record C:\\Users\\p\\AppData\\Local\\Temp\\pip-record-r0mbq0c2\\install-record.txt --single-version-externally-managed --compile\" failed with error code 1 in C:\\Users\\p\\AppData\\Local\\Temp\\pip-install-tc63vxe2\\JPype1\\\n"
     ]
    }
   ],
   "source": [
    "!pip install konlpy"
   ]
  },
  {
   "cell_type": "code",
   "execution_count": 12,
   "metadata": {},
   "outputs": [
    {
     "name": "stdout",
     "output_type": "stream",
     "text": [
      "Processing c:\\users\\p\\web crawling\\koreanpreprocessing\\jpype1-0.6.3-cp36-cp36m-win_amd64.whl\n",
      "Installing collected packages: JPype1\n",
      "Successfully installed JPype1-0.6.3\n"
     ]
    }
   ],
   "source": [
    "!pip install JPype1-0.6.3-cp36-cp36m-win_amd64.whl"
   ]
  },
  {
   "cell_type": "code",
   "execution_count": 14,
   "metadata": {},
   "outputs": [
    {
     "name": "stdout",
     "output_type": "stream",
     "text": [
      "Requirement already satisfied: konlp in c:\\users\\p\\anaconda3\\lib\\site-packages (0.0.8)\n"
     ]
    }
   ],
   "source": [
    "!pip install konlp"
   ]
  },
  {
   "cell_type": "code",
   "execution_count": 15,
   "metadata": {},
   "outputs": [
    {
     "name": "stdout",
     "output_type": "stream",
     "text": [
      "Collecting konlpy\n",
      "  Using cached https://files.pythonhosted.org/packages/e5/3d/4e983cd98d87b50b2ab0387d73fa946f745aa8164e8888a714d5129f9765/konlpy-0.5.1-py2.py3-none-any.whl\n",
      "Requirement already satisfied: JPype1>=0.5.7 in c:\\users\\p\\anaconda3\\lib\\site-packages (from konlpy) (0.6.3)\n",
      "Installing collected packages: konlpy\n",
      "Successfully installed konlpy-0.5.1\n"
     ]
    }
   ],
   "source": [
    "!pip install konlpy"
   ]
  },
  {
   "cell_type": "code",
   "execution_count": 16,
   "metadata": {
    "scrolled": true
   },
   "outputs": [],
   "source": [
    "import konlpy\n",
    "from konlpy.tag import Okt"
   ]
  },
  {
   "cell_type": "code",
   "execution_count": 17,
   "metadata": {},
   "outputs": [
    {
     "data": {
      "text/plain": [
       "[('아버지', 'Noun'),\n",
       " ('가방', 'Noun'),\n",
       " ('에', 'Josa'),\n",
       " ('들어가신다', 'Verb'),\n",
       " ('.', 'Punctuation')]"
      ]
     },
     "execution_count": 17,
     "metadata": {},
     "output_type": "execute_result"
    }
   ],
   "source": [
    "tagger = Okt()\n",
    "tagger.pos(tagger.pos('아버지가방에들어가신다.'))"
   ]
  },
  {
   "cell_type": "code",
   "execution_count": 18,
   "metadata": {},
   "outputs": [
    {
     "data": {
      "text/plain": [
       "['아버지', '가방']"
      ]
     },
     "execution_count": 18,
     "metadata": {},
     "output_type": "execute_result"
    }
   ],
   "source": [
    "tagger.nouns('아버지가방에들어가신다.')"
   ]
  },
  {
   "cell_type": "code",
   "execution_count": 19,
   "metadata": {},
   "outputs": [],
   "source": [
    "from konlpy.corpus import kolaw"
   ]
  },
  {
   "cell_type": "code",
   "execution_count": 20,
   "metadata": {},
   "outputs": [
    {
     "data": {
      "text/plain": [
       "'대한민국헌법\\n\\n유구한 역사와 전통에 빛나는 우리 대한국민은 3·1운동으로 건립된 대한민국임'"
      ]
     },
     "execution_count": 20,
     "metadata": {},
     "output_type": "execute_result"
    }
   ],
   "source": [
    "law_corpus = kolaw.open('constitution.txt').read()\n",
    "law_corpus[:50]"
   ]
  },
  {
   "cell_type": "code",
   "execution_count": 22,
   "metadata": {},
   "outputs": [
    {
     "data": {
      "text/plain": [
       "[('대한민국', 'Noun'),\n",
       " ('헌법', 'Noun'),\n",
       " ('\\n\\n', 'Foreign'),\n",
       " ('유구', 'Noun'),\n",
       " ('한', 'Josa'),\n",
       " ('역사', 'Noun'),\n",
       " ('와', 'Josa'),\n",
       " ('전통', 'Noun'),\n",
       " ('에', 'Josa'),\n",
       " ('빛나는', 'Verb'),\n",
       " ('우리', 'Noun'),\n",
       " ('대', 'Modifier'),\n",
       " ('한', 'Modifier'),\n",
       " ('국민', 'Noun'),\n",
       " ('은', 'Josa'),\n",
       " ('3', 'Number'),\n",
       " ('·', 'Punctuation'),\n",
       " ('1', 'Number'),\n",
       " ('운동', 'Noun'),\n",
       " ('으로', 'Josa'),\n",
       " ('건립', 'Noun'),\n",
       " ('된', 'Verb'),\n",
       " ('대한민국', 'Noun'),\n",
       " ('임시정부', 'Noun'),\n",
       " ('의', 'Josa'),\n",
       " ('법', 'Noun'),\n",
       " ('통과', 'Noun'),\n",
       " ('불의', 'Noun'),\n",
       " ('에', 'Josa'),\n",
       " ('항거', 'Noun'),\n",
       " ('한', 'Josa'),\n",
       " ('4', 'Number'),\n",
       " ('·', 'Punctuation'),\n",
       " ('19', 'Number'),\n",
       " ('민주', 'Noun'),\n",
       " ('이념', 'Noun'),\n",
       " ('을', 'Josa'),\n",
       " ('계승', 'Noun'),\n",
       " ('하고', 'Josa'),\n",
       " (',', 'Punctuation'),\n",
       " ('조국', 'Noun'),\n",
       " ('의', 'Josa'),\n",
       " ('민주', 'Noun'),\n",
       " ('개혁', 'Noun'),\n",
       " ('과', 'Josa'),\n",
       " ('평화', 'Noun'),\n",
       " ('적', 'Suffix'),\n",
       " ('통일', 'Noun'),\n",
       " ('의', 'Josa')]"
      ]
     },
     "execution_count": 22,
     "metadata": {},
     "output_type": "execute_result"
    }
   ],
   "source": [
    "tagger.pos(law_corpus[:100])"
   ]
  },
  {
   "cell_type": "code",
   "execution_count": 23,
   "metadata": {},
   "outputs": [
    {
     "data": {
      "text/plain": [
       "['대한민국',\n",
       " '헌법',\n",
       " '유구',\n",
       " '역사',\n",
       " '전통',\n",
       " '우리',\n",
       " '국민',\n",
       " '운동',\n",
       " '건립',\n",
       " '대한민국',\n",
       " '임시정부',\n",
       " '법',\n",
       " '통과',\n",
       " '불의',\n",
       " '항거',\n",
       " '민주',\n",
       " '이념',\n",
       " '계승',\n",
       " '조국',\n",
       " '민주',\n",
       " '개혁',\n",
       " '평화',\n",
       " '통일']"
      ]
     },
     "execution_count": 23,
     "metadata": {},
     "output_type": "execute_result"
    }
   ],
   "source": [
    "tagger.nouns(law_corpus[:100])"
   ]
  },
  {
   "cell_type": "code",
   "execution_count": null,
   "metadata": {},
   "outputs": [],
   "source": []
  }
 ],
 "metadata": {
  "kernelspec": {
   "display_name": "Python 3",
   "language": "python",
   "name": "python3"
  },
  "language_info": {
   "codemirror_mode": {
    "name": "ipython",
    "version": 3
   },
   "file_extension": ".py",
   "mimetype": "text/x-python",
   "name": "python",
   "nbconvert_exporter": "python",
   "pygments_lexer": "ipython3",
   "version": "3.6.5"
  }
 },
 "nbformat": 4,
 "nbformat_minor": 2
}
