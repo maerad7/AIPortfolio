{
 "cells": [
  {
   "cell_type": "code",
   "execution_count": 1,
   "metadata": {},
   "outputs": [],
   "source": [
    "import pandas as pd"
   ]
  },
  {
   "cell_type": "code",
   "execution_count": 3,
   "metadata": {},
   "outputs": [],
   "source": [
    "df = pd.read_csv('data/폭염.csv',engine='python',encoding='cp949')"
   ]
  },
  {
   "cell_type": "code",
   "execution_count": 5,
   "metadata": {},
   "outputs": [
    {
     "data": {
      "text/html": [
       "<div>\n",
       "<style scoped>\n",
       "    .dataframe tbody tr th:only-of-type {\n",
       "        vertical-align: middle;\n",
       "    }\n",
       "\n",
       "    .dataframe tbody tr th {\n",
       "        vertical-align: top;\n",
       "    }\n",
       "\n",
       "    .dataframe thead th {\n",
       "        text-align: right;\n",
       "    }\n",
       "</style>\n",
       "<table border=\"1\" class=\"dataframe\">\n",
       "  <thead>\n",
       "    <tr style=\"text-align: right;\">\n",
       "      <th></th>\n",
       "      <th>주소</th>\n",
       "      <th>일자</th>\n",
       "      <th>언론사</th>\n",
       "      <th>기고자</th>\n",
       "      <th>제목</th>\n",
       "      <th>통합 분류1</th>\n",
       "      <th>통합 분류2</th>\n",
       "      <th>통합 분류3</th>\n",
       "      <th>사건/사고 분류1</th>\n",
       "      <th>사건/사고 분류2</th>\n",
       "      <th>사건/사고 분류3</th>\n",
       "      <th>개체명(인물)</th>\n",
       "      <th>개체명(지역)</th>\n",
       "      <th>개체명(기업/기관)</th>\n",
       "      <th>키워드</th>\n",
       "      <th>특성추출</th>\n",
       "      <th>본문</th>\n",
       "      <th>원본주소</th>\n",
       "    </tr>\n",
       "  </thead>\n",
       "  <tbody>\n",
       "    <tr>\n",
       "      <th>0</th>\n",
       "      <td>http://www.bigkinds.or.kr/news/newsDetailView....</td>\n",
       "      <td>20180101</td>\n",
       "      <td>부산일보</td>\n",
       "      <td>백남경</td>\n",
       "      <td>[신년사] 한경호 경남도지사 권한대행 신성장동력 육성·일자리로 행복 경남 기틀 마련\"\"</td>\n",
       "      <td>지역&gt;경남</td>\n",
       "      <td>지역&gt;경기</td>\n",
       "      <td>NaN</td>\n",
       "      <td>NaN</td>\n",
       "      <td>NaN</td>\n",
       "      <td>NaN</td>\n",
       "      <td>NaN</td>\n",
       "      <td>경남, 경남도</td>\n",
       "      <td>성동조선, 경남, 가야사</td>\n",
       "      <td>육성,한경호,경남도지사,권한대행,성장,동력,일자리,행복,경남,기틀,마련,존경,도민,...</td>\n",
       "      <td>경남,일자리,4조,신성장동력,재조명,성원,도민들,사업자,국가산단,권한대행,협치,무술...</td>\n",
       "      <td>존경하는 350만 도민 여러분! 2018년 무술년의 희망찬 새해가 밝았습니다. 새해...</td>\n",
       "      <td>http://news20.busan.com/controller/newsControl...</td>\n",
       "    </tr>\n",
       "    <tr>\n",
       "      <th>1</th>\n",
       "      <td>http://www.bigkinds.or.kr/news/newsDetailView....</td>\n",
       "      <td>20180101</td>\n",
       "      <td>국민일보</td>\n",
       "      <td>김유나 기자</td>\n",
       "      <td>정류장의 ‘온기 텐트’… 시민 손·발, 마음까지 녹인다</td>\n",
       "      <td>지역&gt;지역일반</td>\n",
       "      <td>NaN</td>\n",
       "      <td>NaN</td>\n",
       "      <td>NaN</td>\n",
       "      <td>NaN</td>\n",
       "      <td>NaN</td>\n",
       "      <td>NaN</td>\n",
       "      <td>명동, 서울, 서리풀</td>\n",
       "      <td>롯데백화점, 은평구, 관악구, 서대문구, 도봉구, 지방분권, 양천구, 서초구, 온기...</td>\n",
       "      <td>정류장,온기,텐트,마음,추위,서울,은평구,디지털미디어시티역,버스,정류장,설치,노란색...</td>\n",
       "      <td>버스정류장,가림막,서울,그늘막,은평구,지방분권,시민들,서리풀트리,주민들,따스안,정류...</td>\n",
       "      <td>‘추위를 잠시 피해가세요.’   31일 서울 은평구 디지털미디어시티역 버스 정류장에...</td>\n",
       "      <td>http://news.kmib.co.kr/article/view.asp?arcid=...</td>\n",
       "    </tr>\n",
       "    <tr>\n",
       "      <th>2</th>\n",
       "      <td>http://www.bigkinds.or.kr/news/newsDetailView....</td>\n",
       "      <td>20180101</td>\n",
       "      <td>아시아경제</td>\n",
       "      <td>이영규</td>\n",
       "      <td>[신년사]공재광 평택시장</td>\n",
       "      <td>지역&gt;전남</td>\n",
       "      <td>NaN</td>\n",
       "      <td>NaN</td>\n",
       "      <td>사고&gt;교통사고&gt;항공사고</td>\n",
       "      <td>재해&gt;자연재해&gt;가뭄</td>\n",
       "      <td>재해&gt;자연재해&gt;지진</td>\n",
       "      <td>NaN</td>\n",
       "      <td>평택을, 고덕국제신도시, 생태공원, 북한, 평택항, 평택역, 평택, 안성천, 평택호...</td>\n",
       "      <td>청년창업, 평화예술의전당, 보건복지, 평택문화재단, 삼성, 평택, 미군, 한국지방자...</td>\n",
       "      <td>공재광,평택시장,존경,평택,시민,공직자,무술년,새해,새해,시민,소망,가정,기쁨,행복...</td>\n",
       "      <td>시민들,평택,활성화,일자리,평택호,공직자,평택시장,맞춤형,지원사업,경로당,범죄예방,...</td>\n",
       "      <td>존경하는 48만 평택시민 여러분,그리고 1,800여 공직자 여러분! 희망찬 무술년 ...</td>\n",
       "      <td>http:www.asiae.co.kr/news/view.htm?idxno=20171...</td>\n",
       "    </tr>\n",
       "    <tr>\n",
       "      <th>3</th>\n",
       "      <td>http://www.bigkinds.or.kr/news/newsDetailView....</td>\n",
       "      <td>20180101</td>\n",
       "      <td>한국경제</td>\n",
       "      <td>NaN</td>\n",
       "      <td>[2018 한경 신춘문예] 장편소설 부문 은모든 씨 15년간 소설 20편 응모했지만...</td>\n",
       "      <td>드디어 독자들과 건배하네요\"\"</td>\n",
       "      <td>문화&gt;출판</td>\n",
       "      <td>문화&gt;영화</td>\n",
       "      <td>문화&gt;방송_연예</td>\n",
       "      <td>사회&gt;사회문제&gt;자살</td>\n",
       "      <td>NaN</td>\n",
       "      <td>NaN</td>\n",
       "      <td>레이먼드, 전성태, 정세랑, 정홍수, 성석제, 김탁환</td>\n",
       "      <td>미국, 대부분, 서울, 망원동, 청주, 카버, 마포구</td>\n",
       "      <td>싱크대, 망원동, 동덕여대</td>\n",
       "      <td>장편소설,응모,소설,고배,독자들,건배,소설,영화,생각,소설,인생,의미,신춘문예,한경...</td>\n",
       "      <td>애주가,주희,스노보드,우경,그동안,은씨,제대로,망원동,출판사,동덕여대,서울,신춘문예...</td>\n",
       "      <td>[ 심성미 기자 ] “소설을 써야겠다는 꿈 말고는 없었어요. 술도 잘 마시 고, 영...</td>\n",
       "    </tr>\n",
       "    <tr>\n",
       "      <th>4</th>\n",
       "      <td>http://www.bigkinds.or.kr/news/newsDetailView....</td>\n",
       "      <td>20180101</td>\n",
       "      <td>국제신문</td>\n",
       "      <td>이준영 기자 ljy@kookje co kr</td>\n",
       "      <td>“산성터널 접속도로 생태숲 조성…새 도로 개설 땐 가로수 심어야”</td>\n",
       "      <td>지역&gt;지역일반</td>\n",
       "      <td>NaN</td>\n",
       "      <td>NaN</td>\n",
       "      <td>재해&gt;자연재해&gt;폭염</td>\n",
       "      <td>NaN</td>\n",
       "      <td>NaN</td>\n",
       "      <td>정기수, 안영원</td>\n",
       "      <td>삼한힐파크, 인도, 북구, 수정이, 서대봉</td>\n",
       "      <td>부산시, 국립산림과학원, 더불어민주당, 삼한힐파크, 삼한힐파크아파트, 산림청, 북구</td>\n",
       "      <td>산성,터널,접속도,생태숲,조성,도로,개설,가로수,부산시,예산,난색,예정,9월,완공,...</td>\n",
       "      <td>주민들,접속도로,삼한힐파크,현대아파트,부산시,도시숲,접속도,서대봉,산림청,사업비,안...</td>\n",
       "      <td>- 부산시는 예산 문제로 난색 오는 9월 완공 예정인 산성터널 접속도로(화명동 쪽)...</td>\n",
       "      <td>http://www.kookje.co.kr/news2011/asp/newsbody....</td>\n",
       "    </tr>\n",
       "  </tbody>\n",
       "</table>\n",
       "</div>"
      ],
      "text/plain": [
       "                                                  주소        일자    언론사  \\\n",
       "0  http://www.bigkinds.or.kr/news/newsDetailView....  20180101   부산일보   \n",
       "1  http://www.bigkinds.or.kr/news/newsDetailView....  20180101   국민일보   \n",
       "2  http://www.bigkinds.or.kr/news/newsDetailView....  20180101  아시아경제   \n",
       "3  http://www.bigkinds.or.kr/news/newsDetailView....  20180101   한국경제   \n",
       "4  http://www.bigkinds.or.kr/news/newsDetailView....  20180101   국제신문   \n",
       "\n",
       "                       기고자                                                 제목  \\\n",
       "0                      백남경   [신년사] 한경호 경남도지사 권한대행 신성장동력 육성·일자리로 행복 경남 기틀 마련\"\"   \n",
       "1                   김유나 기자                     정류장의 ‘온기 텐트’… 시민 손·발, 마음까지 녹인다   \n",
       "2                      이영규                                      [신년사]공재광 평택시장   \n",
       "3                      NaN  [2018 한경 신춘문예] 장편소설 부문 은모든 씨 15년간 소설 20편 응모했지만...   \n",
       "4  이준영 기자 ljy@kookje co kr               “산성터널 접속도로 생태숲 조성…새 도로 개설 땐 가로수 심어야”   \n",
       "\n",
       "              통합 분류1 통합 분류2 통합 분류3     사건/사고 분류1   사건/사고 분류2   사건/사고 분류3  \\\n",
       "0              지역>경남  지역>경기    NaN           NaN         NaN         NaN   \n",
       "1            지역>지역일반    NaN    NaN           NaN         NaN         NaN   \n",
       "2              지역>전남    NaN    NaN  사고>교통사고>항공사고  재해>자연재해>가뭄  재해>자연재해>지진   \n",
       "3   드디어 독자들과 건배하네요\"\"  문화>출판  문화>영화      문화>방송_연예  사회>사회문제>자살         NaN   \n",
       "4            지역>지역일반    NaN    NaN    재해>자연재해>폭염         NaN         NaN   \n",
       "\n",
       "    개체명(인물)                                            개체명(지역)  \\\n",
       "0       NaN                                            경남, 경남도   \n",
       "1       NaN                                        명동, 서울, 서리풀   \n",
       "2       NaN  평택을, 고덕국제신도시, 생태공원, 북한, 평택항, 평택역, 평택, 안성천, 평택호...   \n",
       "3       NaN                      레이먼드, 전성태, 정세랑, 정홍수, 성석제, 김탁환   \n",
       "4  정기수, 안영원                            삼한힐파크, 인도, 북구, 수정이, 서대봉   \n",
       "\n",
       "                                          개체명(기업/기관)  \\\n",
       "0                                      성동조선, 경남, 가야사   \n",
       "1  롯데백화점, 은평구, 관악구, 서대문구, 도봉구, 지방분권, 양천구, 서초구, 온기...   \n",
       "2  청년창업, 평화예술의전당, 보건복지, 평택문화재단, 삼성, 평택, 미군, 한국지방자...   \n",
       "3                      미국, 대부분, 서울, 망원동, 청주, 카버, 마포구   \n",
       "4     부산시, 국립산림과학원, 더불어민주당, 삼한힐파크, 삼한힐파크아파트, 산림청, 북구   \n",
       "\n",
       "                                                 키워드  \\\n",
       "0  육성,한경호,경남도지사,권한대행,성장,동력,일자리,행복,경남,기틀,마련,존경,도민,...   \n",
       "1  정류장,온기,텐트,마음,추위,서울,은평구,디지털미디어시티역,버스,정류장,설치,노란색...   \n",
       "2  공재광,평택시장,존경,평택,시민,공직자,무술년,새해,새해,시민,소망,가정,기쁨,행복...   \n",
       "3                                     싱크대, 망원동, 동덕여대   \n",
       "4  산성,터널,접속도,생태숲,조성,도로,개설,가로수,부산시,예산,난색,예정,9월,완공,...   \n",
       "\n",
       "                                                특성추출  \\\n",
       "0  경남,일자리,4조,신성장동력,재조명,성원,도민들,사업자,국가산단,권한대행,협치,무술...   \n",
       "1  버스정류장,가림막,서울,그늘막,은평구,지방분권,시민들,서리풀트리,주민들,따스안,정류...   \n",
       "2  시민들,평택,활성화,일자리,평택호,공직자,평택시장,맞춤형,지원사업,경로당,범죄예방,...   \n",
       "3  장편소설,응모,소설,고배,독자들,건배,소설,영화,생각,소설,인생,의미,신춘문예,한경...   \n",
       "4  주민들,접속도로,삼한힐파크,현대아파트,부산시,도시숲,접속도,서대봉,산림청,사업비,안...   \n",
       "\n",
       "                                                  본문  \\\n",
       "0  존경하는 350만 도민 여러분! 2018년 무술년의 희망찬 새해가 밝았습니다. 새해...   \n",
       "1  ‘추위를 잠시 피해가세요.’   31일 서울 은평구 디지털미디어시티역 버스 정류장에...   \n",
       "2  존경하는 48만 평택시민 여러분,그리고 1,800여 공직자 여러분! 희망찬 무술년 ...   \n",
       "3  애주가,주희,스노보드,우경,그동안,은씨,제대로,망원동,출판사,동덕여대,서울,신춘문예...   \n",
       "4  - 부산시는 예산 문제로 난색 오는 9월 완공 예정인 산성터널 접속도로(화명동 쪽)...   \n",
       "\n",
       "                                                원본주소  \n",
       "0  http://news20.busan.com/controller/newsControl...  \n",
       "1  http://news.kmib.co.kr/article/view.asp?arcid=...  \n",
       "2  http:www.asiae.co.kr/news/view.htm?idxno=20171...  \n",
       "3  [ 심성미 기자 ] “소설을 써야겠다는 꿈 말고는 없었어요. 술도 잘 마시 고, 영...  \n",
       "4  http://www.kookje.co.kr/news2011/asp/newsbody....  "
      ]
     },
     "execution_count": 5,
     "metadata": {},
     "output_type": "execute_result"
    }
   ],
   "source": [
    "df.head()"
   ]
  },
  {
   "cell_type": "code",
   "execution_count": 6,
   "metadata": {},
   "outputs": [
    {
     "data": {
      "text/plain": [
       "(13276, 18)"
      ]
     },
     "execution_count": 6,
     "metadata": {},
     "output_type": "execute_result"
    }
   ],
   "source": [
    "df.shape"
   ]
  },
  {
   "cell_type": "code",
   "execution_count": 7,
   "metadata": {},
   "outputs": [],
   "source": [
    "from konlpy.tag import Komoran "
   ]
  },
  {
   "cell_type": "code",
   "execution_count": 8,
   "metadata": {},
   "outputs": [],
   "source": [
    "tagger = Komoran()"
   ]
  },
  {
   "cell_type": "markdown",
   "metadata": {},
   "source": [
    "# 보통 숫자나 한글자 짜리 데이터는 제거한다"
   ]
  },
  {
   "cell_type": "code",
   "execution_count": 10,
   "metadata": {},
   "outputs": [
    {
     "data": {
      "text/plain": [
       "['아침', '해', '버스']"
      ]
     },
     "execution_count": 10,
     "metadata": {},
     "output_type": "execute_result"
    }
   ],
   "source": [
    "tagger.nouns('아침에 해를 보며 버스를 탔다')"
   ]
  },
  {
   "cell_type": "code",
   "execution_count": 11,
   "metadata": {},
   "outputs": [],
   "source": [
    "import re"
   ]
  },
  {
   "cell_type": "code",
   "execution_count": 19,
   "metadata": {},
   "outputs": [],
   "source": [
    "def get_nouns(text):\n",
    "    nouns = tagger.nouns(text)\n",
    "    nouns = [word for word in nouns if len(word)>1]\n",
    "    nouns = [word for word in nouns if not re.match(r'\\d+', word)]\n",
    "    return nouns"
   ]
  },
  {
   "cell_type": "code",
   "execution_count": 20,
   "metadata": {
    "scrolled": true
   },
   "outputs": [
    {
     "data": {
      "text/plain": [
       "['아침', '버스']"
      ]
     },
     "execution_count": 20,
     "metadata": {},
     "output_type": "execute_result"
    }
   ],
   "source": [
    "get_nouns('아침에 해를 보며 버스를 탔다')"
   ]
  },
  {
   "cell_type": "code",
   "execution_count": 22,
   "metadata": {},
   "outputs": [
    {
     "data": {
      "text/plain": [
       "['아침', '버스']"
      ]
     },
     "execution_count": 22,
     "metadata": {},
     "output_type": "execute_result"
    }
   ],
   "source": [
    "get_nouns('아침에 비를 맞으며 버스를 탔다')"
   ]
  },
  {
   "cell_type": "code",
   "execution_count": 23,
   "metadata": {},
   "outputs": [],
   "source": [
    "from sklearn.feature_extraction.text import CountVectorizer"
   ]
  },
  {
   "cell_type": "code",
   "execution_count": 24,
   "metadata": {},
   "outputs": [],
   "source": [
    "# tokenizer = 없을 때 스페이스 단위로 끊아사 키은트,\n",
    "# tokenizer=get_nouns \n",
    "# tokenizer= tagger.nouns\n",
    "cv = CountVectorizer(max_features=1000,tokenizer=get_nouns)"
   ]
  },
  {
   "cell_type": "code",
   "execution_count": 32,
   "metadata": {},
   "outputs": [],
   "source": [
    "tdm = cv.fit_transform(df['본문'])"
   ]
  },
  {
   "cell_type": "code",
   "execution_count": 34,
   "metadata": {},
   "outputs": [
    {
     "data": {
      "text/plain": [
       "<13276x1000 sparse matrix of type '<class 'numpy.int64'>'\n",
       "\twith 242189 stored elements in Compressed Sparse Row format>"
      ]
     },
     "execution_count": 34,
     "metadata": {},
     "output_type": "execute_result"
    }
   ],
   "source": [
    "tdm"
   ]
  },
  {
   "cell_type": "code",
   "execution_count": 30,
   "metadata": {},
   "outputs": [],
   "source": [
    "words = cv.get_feature_names()"
   ]
  },
  {
   "cell_type": "code",
   "execution_count": 35,
   "metadata": {},
   "outputs": [
    {
     "data": {
      "text/plain": [
       "array([1, 1, 1, 1, 1, 1, 2, 2], dtype=int64)"
      ]
     },
     "execution_count": 35,
     "metadata": {},
     "output_type": "execute_result"
    }
   ],
   "source": [
    "tdm[0].data"
   ]
  },
  {
   "cell_type": "code",
   "execution_count": 36,
   "metadata": {},
   "outputs": [
    {
     "data": {
      "text/plain": [
       "array([383, 982, 519, 715, 914, 821,  57, 240])"
      ]
     },
     "execution_count": 36,
     "metadata": {},
     "output_type": "execute_result"
    }
   ],
   "source": [
    "tdm[0].indices"
   ]
  },
  {
   "cell_type": "code",
   "execution_count": 38,
   "metadata": {},
   "outputs": [
    {
     "data": {
      "text/plain": [
       "'사상'"
      ]
     },
     "execution_count": 38,
     "metadata": {},
     "output_type": "execute_result"
    }
   ],
   "source": [
    "words[383]"
   ]
  },
  {
   "cell_type": "code",
   "execution_count": 39,
   "metadata": {},
   "outputs": [
    {
     "data": {
      "text/plain": [
       "'환경'"
      ]
     },
     "execution_count": 39,
     "metadata": {},
     "output_type": "execute_result"
    }
   ],
   "source": [
    "words[982]"
   ]
  },
  {
   "cell_type": "code",
   "execution_count": 41,
   "metadata": {},
   "outputs": [
    {
     "name": "stdout",
     "output_type": "stream",
     "text": [
      "경남 2\n",
      "도민 2\n",
      "사상 1\n",
      "안전 1\n",
      "재난 1\n",
      "지진 1\n",
      "폭염 1\n",
      "환경 1\n"
     ]
    }
   ],
   "source": [
    "for i,n in sorted(zip(tdm[0].indices,tdm[0].data)):\n",
    "    print(words[i],n)"
   ]
  },
  {
   "cell_type": "code",
   "execution_count": 42,
   "metadata": {},
   "outputs": [],
   "source": [
    "from sklearn.externals import joblib"
   ]
  },
  {
   "cell_type": "code",
   "execution_count": 43,
   "metadata": {},
   "outputs": [],
   "source": [
    "with open('data/hot-news.pkl','wb') as f:\n",
    "    joblib.dump(\n",
    "        {\n",
    "            'vectorizer' : cv,\n",
    "            'tdm': tdm\n",
    "            \n",
    "        },\n",
    "        f\n",
    "    )"
   ]
  },
  {
   "cell_type": "code",
   "execution_count": null,
   "metadata": {},
   "outputs": [],
   "source": []
  }
 ],
 "metadata": {
  "kernelspec": {
   "display_name": "Python 3",
   "language": "python",
   "name": "python3"
  },
  "language_info": {
   "codemirror_mode": {
    "name": "ipython",
    "version": 3
   },
   "file_extension": ".py",
   "mimetype": "text/x-python",
   "name": "python",
   "nbconvert_exporter": "python",
   "pygments_lexer": "ipython3",
   "version": "3.7.1"
  }
 },
 "nbformat": 4,
 "nbformat_minor": 2
}
