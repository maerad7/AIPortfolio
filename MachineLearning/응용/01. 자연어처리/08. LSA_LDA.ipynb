{
 "cells": [
  {
   "cell_type": "markdown",
   "metadata": {},
   "source": [
    "# LSA\n",
    "* TMD에 특이값 분해를 적용하여 차원 축소"
   ]
  },
  {
   "cell_type": "code",
   "execution_count": 1,
   "metadata": {},
   "outputs": [],
   "source": [
    "import pandas as pd\n",
    "from sklearn.externals import joblib"
   ]
  },
  {
   "cell_type": "code",
   "execution_count": 2,
   "metadata": {},
   "outputs": [
    {
     "data": {
      "text/plain": [
       "(1000, 1000)"
      ]
     },
     "execution_count": 2,
     "metadata": {},
     "output_type": "execute_result"
    }
   ],
   "source": [
    "with open('data/amazon.pkl','rb') as f:\n",
    "    data = joblib.load(f)\n",
    "locals().update(data)\n",
    "tdm.shape"
   ]
  },
  {
   "cell_type": "markdown",
   "metadata": {},
   "source": [
    "* 특이값 분해 기반 차원축소"
   ]
  },
  {
   "cell_type": "code",
   "execution_count": 16,
   "metadata": {},
   "outputs": [],
   "source": [
    "from sklearn.decomposition import TruncatedSVD"
   ]
  },
  {
   "cell_type": "code",
   "execution_count": 17,
   "metadata": {},
   "outputs": [],
   "source": [
    "# 몇개로 차원축소 할건지\n",
    "# 상관관계가 있는 변수들끼리 묶어서 변수를 줄이는 것\n",
    "svd = TruncatedSVD(n_components=30)"
   ]
  },
  {
   "cell_type": "code",
   "execution_count": 18,
   "metadata": {},
   "outputs": [
    {
     "data": {
      "text/plain": [
       "(1000, 30)"
      ]
     },
     "execution_count": 18,
     "metadata": {},
     "output_type": "execute_result"
    }
   ],
   "source": [
    "pos = svd.fit_transform(tdm)\n",
    "pos.shape"
   ]
  },
  {
   "cell_type": "code",
   "execution_count": 19,
   "metadata": {},
   "outputs": [],
   "source": [
    "import matplotlib.pyplot as plt\n",
    "% matplotlib inline"
   ]
  },
  {
   "cell_type": "markdown",
   "metadata": {},
   "source": [
    "* 긍정 파랑, 부정 빨강"
   ]
  },
  {
   "cell_type": "code",
   "execution_count": 20,
   "metadata": {
    "scrolled": true
   },
   "outputs": [
    {
     "data": {
      "text/plain": [
       "[<matplotlib.lines.Line2D at 0x21f3da27be0>]"
      ]
     },
     "execution_count": 20,
     "metadata": {},
     "output_type": "execute_result"
    },
    {
     "data": {
      "image/png": "[encoded data removed]",
      "text/plain": [
       "<Figure size 432x288 with 1 Axes>"
      ]
     },
     "metadata": {},
     "output_type": "display_data"
    }
   ],
   "source": [
    "dim1 = 0\n",
    "dim2 = 1\n",
    "# sentiment란 ? \n",
    "# Lsa는 리뷰가 길면 긴놈끼리 작으면 작은놈끼리 묶으려고 한다.\n",
    "plt.plot(pos[sentiment==1, dim1], pos[sentiment==1, dim2], 'bo') # blue o 긍정\n",
    "plt.plot(pos[sentiment==0, dim1], pos[sentiment==0, dim2], 'ro') # red o 부정"
   ]
  },
  {
   "cell_type": "code",
   "execution_count": 21,
   "metadata": {},
   "outputs": [],
   "source": [
    "# 문장의 길이로 판단하므로 노멀라징 해줘야됨\n",
    "from sklearn.preprocessing import Normalizer"
   ]
  },
  {
   "cell_type": "code",
   "execution_count": 22,
   "metadata": {},
   "outputs": [],
   "source": [
    "norm = Normalizer(copy=False) # copy=false "
   ]
  },
  {
   "cell_type": "code",
   "execution_count": 23,
   "metadata": {},
   "outputs": [
    {
     "data": {
      "text/plain": [
       "array([[ 0.09981419,  0.0363294 ,  0.02920138, ..., -0.27306701,\n",
       "        -0.20946159,  0.1327569 ],\n",
       "       [ 0.14502842,  0.45707893,  0.27587708, ...,  0.00170948,\n",
       "        -0.03397866,  0.07134408],\n",
       "       [ 0.71790463, -0.01381705, -0.52337381, ...,  0.05000635,\n",
       "        -0.00819703,  0.04627595],\n",
       "       ...,\n",
       "       [ 0.06659302,  0.03830959,  0.0270217 , ..., -0.19876004,\n",
       "         0.01017141, -0.26704259],\n",
       "       [ 0.06022326,  0.01402604,  0.08023949, ..., -0.45725976,\n",
       "        -0.284289  , -0.23820006],\n",
       "       [ 0.0667071 ,  0.00833265,  0.03851362, ..., -0.15359281,\n",
       "        -0.19592887, -0.10643887]])"
      ]
     },
     "execution_count": 23,
     "metadata": {},
     "output_type": "execute_result"
    }
   ],
   "source": [
    "pos2 = norm.fit_transform(pos)\n",
    "pos2"
   ]
  },
  {
   "cell_type": "code",
   "execution_count": 24,
   "metadata": {},
   "outputs": [
    {
     "data": {
      "text/plain": [
       "[<matplotlib.lines.Line2D at 0x21f3da81ef0>]"
      ]
     },
     "execution_count": 24,
     "metadata": {},
     "output_type": "execute_result"
    },
    {
     "data": {
      "image/png": "[encoded data removed]",
      "text/plain": [
       "<Figure size 432x288 with 1 Axes>"
      ]
     },
     "metadata": {},
     "output_type": "display_data"
    }
   ],
   "source": [
    "plt.plot(pos2[sentiment==1, dim1], pos2[sentiment==1, dim2], 'bo')\n",
    "plt.plot(pos2[sentiment==0, dim1], pos2[sentiment==0, dim2], 'ro')"
   ]
  },
  {
   "cell_type": "code",
   "execution_count": 26,
   "metadata": {},
   "outputs": [
    {
     "data": {
      "text/plain": [
       "array([[ 0.09308679,  0.03317713,  0.02711521, ..., -0.07285269,\n",
       "         0.07877779,  0.57260476],\n",
       "       [ 0.1450874 ,  0.45722189,  0.27589407, ...,  0.11845426,\n",
       "        -0.08846186, -0.00354616],\n",
       "       [ 0.71623325, -0.01375928, -0.52206576, ...,  0.04036644,\n",
       "        -0.03032257, -0.08539046],\n",
       "       ...,\n",
       "       [ 0.06558962,  0.03789403,  0.0267605 , ..., -0.10015553,\n",
       "         0.00675252,  0.13809829],\n",
       "       [ 0.06148933,  0.0136802 ,  0.08141561, ..., -0.50299502,\n",
       "        -0.334374  ,  0.22286627],\n",
       "       [ 0.06632415,  0.00805211,  0.03806343, ..., -0.21914361,\n",
       "        -0.01506869,  0.2372145 ]])"
      ]
     },
     "execution_count": 26,
     "metadata": {},
     "output_type": "execute_result"
    }
   ],
   "source": [
    "from sklearn.pipeline import make_pipeline\n",
    "svd = TruncatedSVD(n_components=30)\n",
    "svd.fit_transform(tdm)\n",
    "norm = Normalizer(copy=False)\n",
    "# 순서대로\n",
    "# attribute error 뜨면 다시 피팅해준후 파이프라인 만들기\n",
    "lsa = make_pipeline(svd, norm)\n",
    "lsa.transform(tdm)"
   ]
  },
  {
   "cell_type": "markdown",
   "metadata": {},
   "source": [
    "# LDA\n",
    "\n",
    "토픽은 단어들의 집합으로 이루어졌다.\n",
    "하나의 문서에서 여러개의 주제어가 섞일수 있다-> 그러므로 주제어가 확률로 나온다\n"
   ]
  },
  {
   "cell_type": "code",
   "execution_count": 29,
   "metadata": {},
   "outputs": [],
   "source": [
    "import pandas as pd\n",
    "from sklearn.externals import joblib"
   ]
  },
  {
   "cell_type": "code",
   "execution_count": 31,
   "metadata": {},
   "outputs": [],
   "source": [
    "def get_nouns():\n",
    "    pass\n",
    "\n",
    "with open('data/hot-news.pkl', 'rb') as f:\n",
    "    data = joblib.load(f)\n",
    "locals().update(data)"
   ]
  },
  {
   "cell_type": "code",
   "execution_count": 32,
   "metadata": {},
   "outputs": [],
   "source": [
    "words = vectorizer.get_feature_names()"
   ]
  },
  {
   "cell_type": "code",
   "execution_count": 33,
   "metadata": {},
   "outputs": [
    {
     "data": {
      "text/plain": [
       "'가격'"
      ]
     },
     "execution_count": 33,
     "metadata": {},
     "output_type": "execute_result"
    }
   ],
   "source": [
    "# 딕셔너리를 만들려면 어레이가 필요하므로 enumerate를 붙여준다.\n",
    "enumerate(words)\n",
    "word_dict = dict(enumerate(words))\n",
    "word_dict[3]"
   ]
  },
  {
   "cell_type": "code",
   "execution_count": 36,
   "metadata": {
    "scrolled": true
   },
   "outputs": [
    {
     "name": "stdout",
     "output_type": "stream",
     "text": [
      "Collecting gensim\n",
      "  Downloading https://files.pythonhosted.org/packages/52/d8/1a966940585bdd828d6ca8bca37d1be81e3e7e2fa1f51098117f15c32a1b/gensim-3.6.0-cp36-cp36m-win_amd64.whl (23.6MB)\n",
      "Requirement already satisfied: six>=1.5.0 in c:\\users\\p\\anaconda3\\lib\\site-packages (from gensim) (1.11.0)\n",
      "Requirement already satisfied: numpy>=1.11.3 in c:\\users\\p\\anaconda3\\lib\\site-packages (from gensim) (1.15.1)\n",
      "Collecting smart-open>=1.2.1 (from gensim)\n",
      "  Downloading https://files.pythonhosted.org/packages/4b/1f/6f27e3682124de63ac97a0a5876da6186de6c19410feab66c1543afab055/smart_open-1.7.1.tar.gz\n",
      "Requirement already satisfied: scipy>=0.18.1 in c:\\users\\p\\anaconda3\\lib\\site-packages (from gensim) (1.1.0)\n",
      "Requirement already satisfied: boto>=2.32 in c:\\users\\p\\anaconda3\\lib\\site-packages (from smart-open>=1.2.1->gensim) (2.48.0)\n",
      "Collecting bz2file (from smart-open>=1.2.1->gensim)\n",
      "  Downloading https://files.pythonhosted.org/packages/61/39/122222b5e85cd41c391b68a99ee296584b2a2d1d233e7ee32b4532384f2d/bz2file-0.98.tar.gz\n",
      "Requirement already satisfied: requests in c:\\users\\p\\anaconda3\\lib\\site-packages (from smart-open>=1.2.1->gensim) (2.18.4)\n",
      "Collecting boto3 (from smart-open>=1.2.1->gensim)\n",
      "  Downloading https://files.pythonhosted.org/packages/82/56/9a72cb5b3dfd424d92d77ee4317ef7eb611b8e86aa7c7490c9070987377b/boto3-1.9.17-py2.py3-none-any.whl (128kB)\n",
      "Requirement already satisfied: chardet<3.1.0,>=3.0.2 in c:\\users\\p\\anaconda3\\lib\\site-packages (from requests->smart-open>=1.2.1->gensim) (3.0.4)\n",
      "Requirement already satisfied: idna<2.7,>=2.5 in c:\\users\\p\\anaconda3\\lib\\site-packages (from requests->smart-open>=1.2.1->gensim) (2.6)\n",
      "Requirement already satisfied: urllib3<1.23,>=1.21.1 in c:\\users\\p\\anaconda3\\lib\\site-packages (from requests->smart-open>=1.2.1->gensim) (1.22)\n",
      "Requirement already satisfied: certifi>=2017.4.17 in c:\\users\\p\\anaconda3\\lib\\site-packages (from requests->smart-open>=1.2.1->gensim) (2018.4.16)\n",
      "Collecting jmespath<1.0.0,>=0.7.1 (from boto3->smart-open>=1.2.1->gensim)\n",
      "  Downloading https://files.pythonhosted.org/packages/b7/31/05c8d001f7f87f0f07289a5fc0fc3832e9a57f2dbd4d3b0fee70e0d51365/jmespath-0.9.3-py2.py3-none-any.whl\n",
      "Collecting s3transfer<0.2.0,>=0.1.10 (from boto3->smart-open>=1.2.1->gensim)\n",
      "  Downloading https://files.pythonhosted.org/packages/d7/14/2a0004d487464d120c9fb85313a75cd3d71a7506955be458eebfe19a6b1d/s3transfer-0.1.13-py2.py3-none-any.whl (59kB)\n",
      "Collecting botocore<1.13.0,>=1.12.17 (from boto3->smart-open>=1.2.1->gensim)\n",
      "  Downloading https://files.pythonhosted.org/packages/a6/5d/5848bbe40e2ba97335d86c23d5b814ccec1b398d36b3bc2da78a704fe178/botocore-1.12.17-py2.py3-none-any.whl (4.7MB)\n",
      "Requirement already satisfied: docutils>=0.10 in c:\\users\\p\\anaconda3\\lib\\site-packages (from botocore<1.13.0,>=1.12.17->boto3->smart-open>=1.2.1->gensim) (0.14)\n",
      "Requirement already satisfied: python-dateutil<3.0.0,>=2.1; python_version >= \"2.7\" in c:\\users\\p\\anaconda3\\lib\\site-packages (from botocore<1.13.0,>=1.12.17->boto3->smart-open>=1.2.1->gensim) (2.7.3)\n",
      "Building wheels for collected packages: smart-open, bz2file\n",
      "  Running setup.py bdist_wheel for smart-open: started\n",
      "  Running setup.py bdist_wheel for smart-open: finished with status 'done'\n",
      "  Stored in directory: C:\\Users\\p\\AppData\\Local\\pip\\Cache\\wheels\\23\\00\\44\\e5b939f7a80c04e32297dbd6d96fa3065af89ecf57e2b5f89f\n",
      "  Running setup.py bdist_wheel for bz2file: started\n",
      "  Running setup.py bdist_wheel for bz2file: finished with status 'done'\n",
      "  Stored in directory: C:\\Users\\p\\AppData\\Local\\pip\\Cache\\wheels\\81\\75\\d6\\e1317bf09bf1af5a30befc2a007869fa6e1f516b8f7c591cb9\n",
      "Successfully built smart-open bz2file\n",
      "Installing collected packages: bz2file, jmespath, botocore, s3transfer, boto3, smart-open, gensim\n",
      "Successfully installed boto3-1.9.17 botocore-1.12.17 bz2file-0.98 gensim-3.6.0 jmespath-0.9.3 s3transfer-0.1.13 smart-open-1.7.1\n"
     ]
    }
   ],
   "source": [
    "!pip install gensim"
   ]
  },
  {
   "cell_type": "code",
   "execution_count": 38,
   "metadata": {
    "scrolled": false
   },
   "outputs": [],
   "source": [
    "# tem을 젠신형태로 바꿔야 하는데 ...\n",
    "from gensim.matutils import Sparse2Corpus"
   ]
  },
  {
   "cell_type": "code",
   "execution_count": 39,
   "metadata": {},
   "outputs": [],
   "source": [
    "# tdm 단어,문서 gensim은 문서,단어\n",
    "corpus = Sparse2Corpus(tdm.T)"
   ]
  },
  {
   "cell_type": "code",
   "execution_count": 42,
   "metadata": {},
   "outputs": [],
   "source": [
    "from gensim.models.ldamodel import LdaModel"
   ]
  },
  {
   "cell_type": "markdown",
   "metadata": {},
   "source": [
    "* num_topics : 주제의 수\n",
    "* passes, itreations : 계산횟수 -> 증가시키면 안정적"
   ]
  },
  {
   "cell_type": "code",
   "execution_count": 45,
   "metadata": {},
   "outputs": [
    {
     "name": "stderr",
     "output_type": "stream",
     "text": [
      "C:\\Users\\p\\Anaconda3\\lib\\site-packages\\gensim\\models\\ldamodel.py:1023: RuntimeWarning: divide by zero encountered in log\n",
      "  diff = np.log(self.expElogbeta)\n"
     ]
    }
   ],
   "source": [
    "# 토픽수는 실험을 해봐야 한다. 토픽수를 결정하는 법이 있는데.... 월요일에~!\n",
    "# passes 는 전체를 몇번 통과 시킬지 -> 확률 분포에 맞게 난수를 만드는데 (비슷한 단어가 나오면 하나로 묶는다. passes를 많이주면\n",
    "#  주제를 많이 주는것과 같다.)\n",
    "#  iteration = 패스를 진행 다하면 이터레이션 ( 이터레이션은 수정된 모델을 가지고 진행함)\n",
    "#  id2word 해당되는 단어를 보기위해 딕셔너리 형태의 단어 배열을 넣는다.\n",
    "#  randomstate 안쓰면 실행할 떼마다 결과 값이 달라진다.\n",
    "lda = LdaModel(corpus=corpus, num_topics=100, passes=3, \n",
    "               iterations=100, id2word=word_dict, random_state=1234)"
   ]
  },
  {
   "cell_type": "code",
   "execution_count": 48,
   "metadata": {
    "scrolled": true
   },
   "outputs": [
    {
     "data": {
      "text/plain": [
       "[('사업', 0.18424447),\n",
       " ('교육', 0.11373187),\n",
       " ('실시', 0.04699194),\n",
       " ('안전사고', 0.042204987),\n",
       " ('환경', 0.042078584),\n",
       " ('예방', 0.036211457),\n",
       " ('출시', 0.034476377),\n",
       " ('국내', 0.03379465),\n",
       " ('추진', 0.03368742),\n",
       " ('지원', 0.031945124)]"
      ]
     },
     "execution_count": 48,
     "metadata": {},
     "output_type": "execute_result"
    }
   ],
   "source": [
    "lda.show_topic(0)"
   ]
  },
  {
   "cell_type": "code",
   "execution_count": 51,
   "metadata": {},
   "outputs": [
    {
     "data": {
      "text/plain": [
       "[('마리', 0.09537138),\n",
       " ('방송', 0.07557634),\n",
       " ('개최', 0.07466629),\n",
       " ('사용량', 0.06591126),\n",
       " ('.kr', 0.05524337),\n",
       " ('참석', 0.04998682),\n",
       " ('지사', 0.049052607),\n",
       " ('이날', 0.046455033),\n",
       " ('.co', 0.04377212),\n",
       " ('폭염', 0.04282706)]"
      ]
     },
     "execution_count": 51,
     "metadata": {},
     "output_type": "execute_result"
    }
   ],
   "source": [
    "lda.show_topic(1)"
   ]
  },
  {
   "cell_type": "code",
   "execution_count": 49,
   "metadata": {
    "scrolled": true
   },
   "outputs": [
    {
     "data": {
      "text/plain": [
       "[('폭염', 0.110477835),\n",
       " ('원인', 0.110442065),\n",
       " ('부담', 0.10448278),\n",
       " ('지적', 0.09525518),\n",
       " ('추정', 0.08881684),\n",
       " ('정책', 0.08141164),\n",
       " ('생각', 0.07558871),\n",
       " ('일시', 0.06341445),\n",
       " ('사태', 0.059574977),\n",
       " ('중단', 0.03047592)]"
      ]
     },
     "execution_count": 49,
     "metadata": {},
     "output_type": "execute_result"
    }
   ],
   "source": [
    "lda.show_topic(2)"
   ]
  },
  {
   "cell_type": "code",
   "execution_count": 52,
   "metadata": {},
   "outputs": [
    {
     "data": {
      "text/plain": [
       "[(383, 1), (982, 1), (519, 1), (715, 1), (914, 1), (821, 1), (57, 2), (240, 2)]"
      ]
     },
     "execution_count": 52,
     "metadata": {},
     "output_type": "execute_result"
    }
   ],
   "source": [
    "raw = tdm[0]\n",
    "# 383인덱스의 단어가 1번, 249인덱스의 단어가 2번\n",
    "doc = list(zip(raw.indices, raw.data))\n",
    "doc"
   ]
  },
  {
   "cell_type": "code",
   "execution_count": 32,
   "metadata": {},
   "outputs": [
    {
     "data": {
      "text/plain": [
       "[('사상', 1),\n",
       " ('환경', 1),\n",
       " ('안전', 1),\n",
       " ('재난', 1),\n",
       " ('폭염', 1),\n",
       " ('지진', 1),\n",
       " ('경남', 2),\n",
       " ('도민', 2)]"
      ]
     },
     "execution_count": 32,
     "metadata": {},
     "output_type": "execute_result"
    }
   ],
   "source": [
    "# 인덱스에 있는 단어를 네임으로 바꾸어주는 과정\n",
    "doc_words = [(words[i], n) for i, n in doc]\n",
    "doc_words"
   ]
  },
  {
   "cell_type": "code",
   "execution_count": 33,
   "metadata": {},
   "outputs": [
    {
     "data": {
      "text/plain": [
       "[(14, 0.23057149201588123),\n",
       " (32, 0.061353827393171703),\n",
       " (35, 0.15351132004681189),\n",
       " (46, 0.095403291534091772),\n",
       " (70, 0.19022956456841825),\n",
       " (73, 0.090159449024189611),\n",
       " (76, 0.094225600871982451)]"
      ]
     },
     "execution_count": 33,
     "metadata": {},
     "output_type": "execute_result"
    }
   ],
   "source": [
    "# 0번쩨 문서는 14번주제와 관련이 있다. 여기서 0번째는 tdm[0]에서 따오는듯 함\n",
    "\n",
    "lda.get_document_topics(doc)"
   ]
  },
  {
   "cell_type": "code",
   "execution_count": 53,
   "metadata": {},
   "outputs": [
    {
     "data": {
      "text/plain": [
       "[('폭염', 0.20705894),\n",
       " ('주의보', 0.12350757),\n",
       " ('경보', 0.0834265),\n",
       " ('발령', 0.064179495),\n",
       " ('지역', 0.037905075),\n",
       " ('이상', 0.036558997),\n",
       " ('기온', 0.032702398),\n",
       " ('경남', 0.029287208),\n",
       " ('이틀', 0.026935965),\n",
       " ('최고', 0.02670432)]"
      ]
     },
     "execution_count": 53,
     "metadata": {},
     "output_type": "execute_result"
    }
   ],
   "source": [
    "lda.show_topic(14)"
   ]
  },
  {
   "cell_type": "code",
   "execution_count": 55,
   "metadata": {},
   "outputs": [
    {
     "data": {
      "text/plain": [
       "[('도내', 0.43591157),\n",
       " ('습도', 0.16815743),\n",
       " ('기사', 0.14656232),\n",
       " ('도민', 0.12571648),\n",
       " ('폭염', 0.03771026),\n",
       " ('관련', 0.033246964),\n",
       " ('환경', 0.008186748),\n",
       " ('여름', 0.005653221),\n",
       " ('올해', 0.0055419737),\n",
       " ('더위', 0.0029653984)]"
      ]
     },
     "execution_count": 55,
     "metadata": {},
     "output_type": "execute_result"
    }
   ],
   "source": [
    "lda.show_topic(70)"
   ]
  },
  {
   "cell_type": "code",
   "execution_count": 57,
   "metadata": {},
   "outputs": [],
   "source": [
    "# 한글폴더라서 저장이 안된듯\n",
    "lda.save('hot_news.lda') "
   ]
  },
  {
   "cell_type": "code",
   "execution_count": 58,
   "metadata": {},
   "outputs": [],
   "source": [
    "from gensim.models.ldamodel import LdaModel"
   ]
  },
  {
   "cell_type": "code",
   "execution_count": 60,
   "metadata": {},
   "outputs": [],
   "source": [
    "lda2 = LdaModel.load('hot_news.lda')"
   ]
  },
  {
   "cell_type": "code",
   "execution_count": 61,
   "metadata": {},
   "outputs": [
    {
     "data": {
      "text/plain": [
       "[(14, 0.23006211),\n",
       " (32, 0.07419876),\n",
       " (35, 0.14597939),\n",
       " (46, 0.09548998),\n",
       " (70, 0.27455238),\n",
       " (76, 0.09426283)]"
      ]
     },
     "execution_count": 61,
     "metadata": {},
     "output_type": "execute_result"
    }
   ],
   "source": [
    "lda2.get_document_topics(doc)"
   ]
  }
 ],
 "metadata": {
  "kernelspec": {
   "display_name": "Python 3",
   "language": "python",
   "name": "python3"
  },
  "language_info": {
   "codemirror_mode": {
    "name": "ipython",
    "version": 3
   },
   "file_extension": ".py",
   "mimetype": "text/x-python",
   "name": "python",
   "nbconvert_exporter": "python",
   "pygments_lexer": "ipython3",
   "version": "3.7.1"
  }
 },
 "nbformat": 4,
 "nbformat_minor": 2
}
