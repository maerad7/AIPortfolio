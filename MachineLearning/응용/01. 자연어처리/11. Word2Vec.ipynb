{
 "cells": [
  {
   "cell_type": "markdown",
   "metadata": {},
   "source": [
    "### Word2Vec\n",
    "* CBOW : 주변 단어의 임베딩을 더해 대상 단어 예측\n",
    "* Skip-Gram : 대상 단어의임베딩으로 주변 단어 예측\n",
    "* Skip-gram의 성능이 좋다."
   ]
  },
  {
   "cell_type": "code",
   "execution_count": 1,
   "metadata": {},
   "outputs": [],
   "source": [
    "import requests\n",
    "import re"
   ]
  },
  {
   "cell_type": "code",
   "execution_count": 2,
   "metadata": {},
   "outputs": [],
   "source": [
    "res = requests.get('https://www.gutenberg.org/files/2591/2591-0.txt')"
   ]
  },
  {
   "cell_type": "code",
   "execution_count": 3,
   "metadata": {},
   "outputs": [],
   "source": [
    "grimm = res.text[2801:530661]"
   ]
  },
  {
   "cell_type": "code",
   "execution_count": 4,
   "metadata": {},
   "outputs": [],
   "source": [
    "grimm = re.sub(r'\\d+', ' ', grimm)\n",
    "grimm = re.sub(r'[^a-zA-Z\\. ] ', ' ', grimm)\n",
    "grimm = re.sub(r'\\s{2,}', ' ', grimm)\n",
    "grimm = grimm.lower()"
   ]
  },
  {
   "cell_type": "code",
   "execution_count": 5,
   "metadata": {},
   "outputs": [],
   "source": [
    "sentence = grimm.split('. ')"
   ]
  },
  {
   "cell_type": "code",
   "execution_count": 6,
   "metadata": {},
   "outputs": [],
   "source": [
    "data = [s.split() for s in sentence]"
   ]
  },
  {
   "cell_type": "code",
   "execution_count": 7,
   "metadata": {},
   "outputs": [
    {
     "data": {
      "text/plain": [
       "['THE',\n",
       " 'GOLDEN',\n",
       " 'BIRDA',\n",
       " 'certain',\n",
       " 'king',\n",
       " 'had',\n",
       " 'a',\n",
       " 'beautiful',\n",
       " 'garden',\n",
       " 'and',\n",
       " 'in',\n",
       " 'the',\n",
       " 'garden',\n",
       " 'stood',\n",
       " 'a',\n",
       " 'treewhich',\n",
       " 'bore',\n",
       " 'golden',\n",
       " 'apples']"
      ]
     },
     "execution_count": 7,
     "metadata": {},
     "output_type": "execute_result"
    }
   ],
   "source": [
    "data[0]"
   ]
  },
  {
   "cell_type": "code",
   "execution_count": 8,
   "metadata": {},
   "outputs": [
    {
     "name": "stderr",
     "output_type": "stream",
     "text": [
      "C:\\Users\\Hyunsil\\Anaconda3\\lib\\site-packages\\gensim\\utils.py:860: UserWarning: detected Windows; aliasing chunkize to chunkize_serial\n",
      "  warnings.warn(\"detected Windows; aliasing chunkize to chunkize_serial\")\n"
     ]
    }
   ],
   "source": [
    "from gensim.models.word2vec import Word2Vec"
   ]
  },
  {
   "cell_type": "code",
   "execution_count": 9,
   "metadata": {},
   "outputs": [],
   "source": [
    "model = Word2Vec(data, sg=1, size=100, window=3, \n",
    "                 min_count=3, workers=-1)"
   ]
  },
  {
   "cell_type": "code",
   "execution_count": 10,
   "metadata": {},
   "outputs": [],
   "source": [
    "model.save('word2vec.model')\n",
    "model = Word2Vec.load('word2vec.model')"
   ]
  },
  {
   "cell_type": "code",
   "execution_count": 11,
   "metadata": {},
   "outputs": [
    {
     "data": {
      "text/plain": [
       "array([ -2.38328154e-04,   1.79944106e-03,  -3.48519697e-03,\n",
       "         2.00382527e-03,  -1.48256798e-03,  -6.17180776e-04,\n",
       "        -3.39155877e-03,  -3.96715989e-03,  -2.33490486e-03,\n",
       "        -3.13851796e-03,  -2.90418556e-03,  -8.63661931e-04,\n",
       "        -2.64690793e-03,  -4.66194144e-03,   2.69162375e-03,\n",
       "         1.60314399e-03,  -2.29019643e-04,  -6.66425214e-04,\n",
       "        -6.39902020e-04,  -2.60913908e-03,  -4.11182502e-03,\n",
       "        -3.52867972e-03,  -2.83335685e-03,  -3.62149812e-03,\n",
       "         8.14383151e-04,  -1.09649356e-03,   2.59257737e-03,\n",
       "         4.43492876e-03,  -2.15512607e-03,   7.60955620e-04,\n",
       "        -3.92822223e-03,  -3.59660690e-03,   3.05962190e-03,\n",
       "         3.72881815e-03,  -3.25744832e-03,  -4.57362738e-03,\n",
       "         1.23861572e-03,   1.47648985e-04,  -3.46091040e-03,\n",
       "        -1.99188339e-03,   5.39006025e-04,   3.20679101e-04,\n",
       "        -5.18515531e-04,   4.09866590e-03,   1.32151844e-03,\n",
       "         2.27441755e-03,  -3.99439968e-03,  -2.58784159e-03,\n",
       "         3.55248665e-03,  -1.69851154e-03,  -2.23544659e-03,\n",
       "        -1.37051323e-03,   6.87847729e-04,   4.04999213e-04,\n",
       "         1.60450989e-03,   8.58141284e-04,  -1.10722659e-03,\n",
       "        -1.39957014e-03,  -3.90775176e-03,  -3.70569411e-03,\n",
       "         3.00333704e-05,  -4.54004109e-03,   1.67619309e-03,\n",
       "        -4.74951789e-03,   9.64514562e-04,   2.68277247e-03,\n",
       "         2.53331987e-03,   4.19119233e-03,   3.49733164e-05,\n",
       "         4.21641069e-03,  -3.98322381e-03,   1.50644046e-03,\n",
       "         2.15598429e-05,   2.08731624e-03,  -1.36961113e-03,\n",
       "        -4.68415068e-03,  -2.75686313e-03,  -1.61109131e-03,\n",
       "        -4.87938523e-03,   2.53056362e-03,   2.75146100e-03,\n",
       "         3.19816940e-03,  -3.64436116e-03,  -3.81894596e-03,\n",
       "        -3.83877847e-03,  -3.46443057e-03,   2.88902316e-03,\n",
       "         2.60842172e-03,  -1.95787637e-03,  -8.89490999e-04,\n",
       "        -9.55455180e-04,  -1.37450313e-03,   4.37793881e-03,\n",
       "         4.15491918e-03,   2.70016724e-03,  -2.22358713e-03,\n",
       "         4.91494406e-03,  -4.64108278e-04,  -3.82438861e-03,\n",
       "         3.22984788e-03], dtype=float32)"
      ]
     },
     "execution_count": 11,
     "metadata": {},
     "output_type": "execute_result"
    }
   ],
   "source": [
    "model.wv['princess']"
   ]
  },
  {
   "cell_type": "markdown",
   "metadata": {},
   "source": [
    "### 유사도 계산"
   ]
  },
  {
   "cell_type": "code",
   "execution_count": 12,
   "metadata": {},
   "outputs": [
    {
     "data": {
      "text/plain": [
       "0.14188986500480977"
      ]
     },
     "execution_count": 12,
     "metadata": {},
     "output_type": "execute_result"
    }
   ],
   "source": [
    "model.wv.similarity('princess', 'queen')"
   ]
  },
  {
   "cell_type": "code",
   "execution_count": 13,
   "metadata": {},
   "outputs": [
    {
     "data": {
      "text/plain": [
       "-0.019282091806564948"
      ]
     },
     "execution_count": 13,
     "metadata": {},
     "output_type": "execute_result"
    }
   ],
   "source": [
    "model.wv.similarity('princess', 'king')"
   ]
  },
  {
   "cell_type": "markdown",
   "metadata": {},
   "source": [
    "### 유사 단어 추출"
   ]
  },
  {
   "cell_type": "code",
   "execution_count": 14,
   "metadata": {
    "scrolled": true
   },
   "outputs": [
    {
     "data": {
      "text/plain": [
       "[('dearest', 0.3678279519081116),\n",
       " ('burn', 0.36315929889678955),\n",
       " ('together', 0.34903454780578613),\n",
       " ('keeping', 0.3116987645626068),\n",
       " ('way', 0.3035982847213745),\n",
       " ('along', 0.29990923404693604),\n",
       " ('hazeltree', 0.2974799871444702),\n",
       " ('Shake', 0.29327863454818726),\n",
       " ('rosy', 0.28094205260276794),\n",
       " ('sea', 0.27956968545913696)]"
      ]
     },
     "execution_count": 14,
     "metadata": {},
     "output_type": "execute_result"
    }
   ],
   "source": [
    "model.wv.most_similar('princess')"
   ]
  },
  {
   "cell_type": "code",
   "execution_count": 15,
   "metadata": {},
   "outputs": [
    {
     "data": {
      "text/plain": [
       "[('laces', 0.3308340311050415),\n",
       " ('thefire', 0.32928526401519775),\n",
       " ('seated', 0.2937711775302887),\n",
       " ('lay', 0.2848477363586426),\n",
       " ('fairy', 0.28055065870285034),\n",
       " ('high', 0.27924951910972595),\n",
       " ('because', 0.27543431520462036),\n",
       " ('trees', 0.27113503217697144),\n",
       " ('andthen', 0.256858766078949),\n",
       " ('came', 0.25104838609695435)]"
      ]
     },
     "execution_count": 15,
     "metadata": {},
     "output_type": "execute_result"
    }
   ],
   "source": [
    "model.wv.most_similar(positive=['man', 'princess'], negative=['woman'])"
   ]
  }
 ],
 "metadata": {
  "kernelspec": {
   "display_name": "Python 3",
   "language": "python",
   "name": "python3"
  },
  "language_info": {
   "codemirror_mode": {
    "name": "ipython",
    "version": 3
   },
   "file_extension": ".py",
   "mimetype": "text/x-python",
   "name": "python",
   "nbconvert_exporter": "python",
   "pygments_lexer": "ipython3",
   "version": "3.7.1"
  }
 },
 "nbformat": 4,
 "nbformat_minor": 2
}
