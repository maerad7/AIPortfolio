{
 "cells": [
  {
   "cell_type": "markdown",
   "metadata": {},
   "source": [
    "- linalg 서브모듈 함수 활용하여 선형대수 연산하기"
   ]
  },
  {
   "cell_type": "code",
   "execution_count": 1,
   "metadata": {},
   "outputs": [],
   "source": [
    "import numpy as np"
   ]
  },
  {
   "cell_type": "markdown",
   "metadata": {},
   "source": [
    "#### np.linalg.inv\n",
    " - 역행렬을 구할 때 사용\n",
    " - 모든 차원의 값이 같아야 함"
   ]
  },
  {
   "cell_type": "code",
   "execution_count": 12,
   "metadata": {},
   "outputs": [
    {
     "name": "stdout",
     "output_type": "stream",
     "text": [
      "[[[0.87556049 0.60858122 0.3870532 ]\n",
      "  [0.09870571 0.22533121 0.86717106]\n",
      "  [0.60541632 0.03537042 0.87721161]]\n",
      "\n",
      " [[0.91604975 0.90535427 0.05011153]\n",
      "  [0.89122148 0.05077985 0.60180951]\n",
      "  [0.11163293 0.649254   0.61860926]]\n",
      "\n",
      " [[0.05624497 0.24386294 0.43732052]\n",
      "  [0.16266571 0.01118997 0.39018126]\n",
      "  [0.92552967 0.7560655  0.61044177]]]\n"
     ]
    }
   ],
   "source": [
    "x = np.random.rand(3, 3, 3)\n",
    "print(x)\n"
   ]
  },
  {
   "cell_type": "code",
   "execution_count": 13,
   "metadata": {},
   "outputs": [
    {
     "data": {
      "text/plain": [
       "array([[[ 0.46184847, -1.4386234 ,  1.21837494],\n",
       "        [ 1.21252506,  1.47612429, -1.99423258],\n",
       "        [-0.36764006,  0.93336081,  0.3795125 ]],\n",
       "\n",
       "       [[ 0.48637982,  0.71407591, -0.7340836 ],\n",
       "        [ 0.65534269, -0.75950024,  0.68578708],\n",
       "        [-0.77557822,  0.66826381,  1.02924081]],\n",
       "\n",
       "       [[-2.97401201,  1.87600761,  0.93147863],\n",
       "        [ 2.70212042, -3.82282442,  0.50766797],\n",
       "        [ 1.16236526,  1.89044232, -0.40289075]]])"
      ]
     },
     "execution_count": 13,
     "metadata": {},
     "output_type": "execute_result"
    }
   ],
   "source": [
    "np.matmul(x, np.linalg.inv(x))\n",
    "np.linalg.inv(x)\n",
    "#x @ np.linalg.inv(x)"
   ]
  },
  {
   "cell_type": "markdown",
   "metadata": {},
   "source": [
    "#### np.linalg.solve\n",
    " - Ax = B 형태의 선형대수식 솔루션을 제공\n",
    " - 예제) 호랑이와 홍합의 합 : 25 호랑이 다리와 홍합 다리의 합은 64\n",
    "   - x + y = 25\n",
    "   - 2x + 4y = 64\n",
    "   \n",
    " $$\\begin{pmatrix} 1 & 1 \\\\ 2 & 4 \\end{pmatrix}\\begin{pmatrix} x \\\\ y \\end{pmatrix}= \\begin{pmatrix} 25 \\\\ 64 \\end{pmatrix}$$"
   ]
  },
  {
   "cell_type": "code",
   "execution_count": 9,
   "metadata": {},
   "outputs": [
    {
     "name": "stdout",
     "output_type": "stream",
     "text": [
      "[18.  7.]\n"
     ]
    }
   ],
   "source": [
    "A = np.array([[1, 1], [2, 4]])\n",
    "B = np.array([25, 64])\n",
    "\n",
    "x = np.linalg.solve(A, B)\n",
    "print(x)\n",
    "# np.allclose(A@x, B)"
   ]
  },
  {
   "cell_type": "code",
   "execution_count": null,
   "metadata": {},
   "outputs": [],
   "source": []
  }
 ],
 "metadata": {
  "kernelspec": {
   "display_name": "Python 2",
   "language": "python",
   "name": "python2"
  },
  "language_info": {
   "codemirror_mode": {
    "name": "ipython",
    "version": 2
   },
   "file_extension": ".py",
   "mimetype": "text/x-python",
   "name": "python",
   "nbconvert_exporter": "python",
   "pygments_lexer": "ipython2",
   "version": "2.7.12"
  }
 },
 "nbformat": 4,
 "nbformat_minor": 2
}
