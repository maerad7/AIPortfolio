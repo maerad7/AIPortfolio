{
 "cells": [
  {
   "cell_type": "markdown",
   "metadata": {},
   "source": [
    "### ndarray 기본 함수 사용하기"
   ]
  },
  {
   "cell_type": "code",
   "execution_count": 1,
   "metadata": {},
   "outputs": [],
   "source": [
    "import numpy as np"
   ]
  },
  {
   "cell_type": "markdown",
   "metadata": {},
   "source": [
    "- numpy documentation\n",
    "    - [numpy 공식 문서 링크](https://www.numpy.org/devdocs/reference/)\n",
    "    - numpy 문서"
   ]
  },
  {
   "cell_type": "code",
   "execution_count": 3,
   "metadata": {},
   "outputs": [
    {
     "name": "stdout",
     "output_type": "stream",
     "text": [
      "[[ 0  1  2  3  4]\n",
      " [ 5  6  7  8  9]\n",
      " [10 11 12 13 14]]\n",
      "[[0.02677584 0.00563769 0.68687174 0.99113138 0.6646855 ]\n",
      " [0.88152414 0.01030115 0.90574114 0.02495431 0.49538188]\n",
      " [0.69171215 0.76954895 0.37465222 0.18159439 0.1029163 ]]\n"
     ]
    }
   ],
   "source": [
    "x = np.arange(15).reshape(3,5)\n",
    "y = np.random.rand(15).reshape(3,5)\n",
    "\n",
    "print(x)\n",
    "print(y)"
   ]
  },
  {
   "cell_type": "markdown",
   "metadata": {},
   "source": [
    "- 연산 함수\n",
    "    - add, substract, multiply, divide"
   ]
  },
  {
   "cell_type": "code",
   "execution_count": 4,
   "metadata": {},
   "outputs": [
    {
     "data": {
      "text/plain": [
       "array([[ 0.02677584,  1.00563769,  2.68687174,  3.99113138,  4.6646855 ],\n",
       "       [ 5.88152414,  6.01030115,  7.90574114,  8.02495431,  9.49538188],\n",
       "       [10.69171215, 11.76954895, 12.37465222, 13.18159439, 14.1029163 ]])"
      ]
     },
     "execution_count": 4,
     "metadata": {},
     "output_type": "execute_result"
    }
   ],
   "source": [
    "np.add(x,y)"
   ]
  },
  {
   "cell_type": "code",
   "execution_count": 5,
   "metadata": {},
   "outputs": [
    {
     "data": {
      "text/plain": [
       "array([[  0.        , 177.37763003,   2.91175178,   3.02684392,\n",
       "          6.01788366],\n",
       "       [  5.67199442, 582.459266  ,   7.72847744, 320.58588253,\n",
       "         18.1678022 ],\n",
       "       [ 14.45688073,  14.2940875 ,  32.02970485,  71.58811616,\n",
       "        136.03287154]])"
      ]
     },
     "execution_count": 5,
     "metadata": {},
     "output_type": "execute_result"
    }
   ],
   "source": [
    "np.divide(x,y)"
   ]
  },
  {
   "cell_type": "code",
   "execution_count": 6,
   "metadata": {},
   "outputs": [
    {
     "data": {
      "text/plain": [
       "array([[ 0.02677584,  1.00563769,  2.68687174,  3.99113138,  4.6646855 ],\n",
       "       [ 5.88152414,  6.01030115,  7.90574114,  8.02495431,  9.49538188],\n",
       "       [10.69171215, 11.76954895, 12.37465222, 13.18159439, 14.1029163 ]])"
      ]
     },
     "execution_count": 6,
     "metadata": {},
     "output_type": "execute_result"
    }
   ],
   "source": [
    "x + y"
   ]
  },
  {
   "cell_type": "code",
   "execution_count": 7,
   "metadata": {},
   "outputs": [
    {
     "data": {
      "text/plain": [
       "array([[  0.        , 177.37763003,   2.91175178,   3.02684392,\n",
       "          6.01788366],\n",
       "       [  5.67199442, 582.459266  ,   7.72847744, 320.58588253,\n",
       "         18.1678022 ],\n",
       "       [ 14.45688073,  14.2940875 ,  32.02970485,  71.58811616,\n",
       "        136.03287154]])"
      ]
     },
     "execution_count": 7,
     "metadata": {},
     "output_type": "execute_result"
    }
   ],
   "source": [
    "x / y"
   ]
  },
  {
   "cell_type": "markdown",
   "metadata": {},
   "source": [
    "- 통계 함수\n",
    "    - 평균, 분산, 중앙, 최대, 최소값 등등 통계 관련된 함수가 내장"
   ]
  },
  {
   "cell_type": "code",
   "execution_count": 8,
   "metadata": {},
   "outputs": [
    {
     "name": "stdout",
     "output_type": "stream",
     "text": [
      "[[0.02677584 0.00563769 0.68687174 0.99113138 0.6646855 ]\n",
      " [0.88152414 0.01030115 0.90574114 0.02495431 0.49538188]\n",
      " [0.69171215 0.76954895 0.37465222 0.18159439 0.1029163 ]]\n"
     ]
    }
   ],
   "source": [
    "print(y)"
   ]
  },
  {
   "cell_type": "code",
   "execution_count": 9,
   "metadata": {},
   "outputs": [
    {
     "data": {
      "text/plain": [
       "0.4542285845765512"
      ]
     },
     "execution_count": 9,
     "metadata": {},
     "output_type": "execute_result"
    }
   ],
   "source": [
    "np.mean(y)"
   ]
  },
  {
   "cell_type": "code",
   "execution_count": 10,
   "metadata": {},
   "outputs": [
    {
     "data": {
      "text/plain": [
       "0.4542285845765512"
      ]
     },
     "execution_count": 10,
     "metadata": {},
     "output_type": "execute_result"
    }
   ],
   "source": [
    "y.mean()"
   ]
  },
  {
   "cell_type": "code",
   "execution_count": 11,
   "metadata": {},
   "outputs": [
    {
     "data": {
      "text/plain": [
       "0.991131383243009"
      ]
     },
     "execution_count": 11,
     "metadata": {},
     "output_type": "execute_result"
    }
   ],
   "source": [
    "np.max(y)"
   ]
  },
  {
   "cell_type": "code",
   "execution_count": 12,
   "metadata": {},
   "outputs": [
    {
     "data": {
      "text/plain": [
       "3"
      ]
     },
     "execution_count": 12,
     "metadata": {},
     "output_type": "execute_result"
    }
   ],
   "source": [
    "np.argmax(y)"
   ]
  },
  {
   "cell_type": "code",
   "execution_count": 13,
   "metadata": {},
   "outputs": [
    {
     "data": {
      "text/plain": [
       "0.12666822344004044"
      ]
     },
     "execution_count": 13,
     "metadata": {},
     "output_type": "execute_result"
    }
   ],
   "source": [
    "np.var(y)"
   ]
  },
  {
   "cell_type": "code",
   "execution_count": 14,
   "metadata": {},
   "outputs": [
    {
     "data": {
      "text/plain": [
       "0.4953818794478547"
      ]
     },
     "execution_count": 14,
     "metadata": {},
     "output_type": "execute_result"
    }
   ],
   "source": [
    "np.median(y)"
   ]
  },
  {
   "cell_type": "code",
   "execution_count": 15,
   "metadata": {},
   "outputs": [
    {
     "data": {
      "text/plain": [
       "0.35590479547210435"
      ]
     },
     "execution_count": 15,
     "metadata": {},
     "output_type": "execute_result"
    }
   ],
   "source": [
    "np.std(y)"
   ]
  },
  {
   "cell_type": "markdown",
   "metadata": {},
   "source": [
    "- 집계함수\n",
    "    - 합계, 누적합계 등등"
   ]
  },
  {
   "cell_type": "code",
   "execution_count": 16,
   "metadata": {},
   "outputs": [
    {
     "data": {
      "text/plain": [
       "array([[0.02677584, 0.00563769, 0.68687174, 0.99113138, 0.6646855 ],\n",
       "       [0.88152414, 0.01030115, 0.90574114, 0.02495431, 0.49538188],\n",
       "       [0.69171215, 0.76954895, 0.37465222, 0.18159439, 0.1029163 ]])"
      ]
     },
     "execution_count": 16,
     "metadata": {},
     "output_type": "execute_result"
    }
   ],
   "source": [
    "y"
   ]
  },
  {
   "cell_type": "code",
   "execution_count": 17,
   "metadata": {},
   "outputs": [
    {
     "data": {
      "text/plain": [
       "6.813428768648268"
      ]
     },
     "execution_count": 17,
     "metadata": {},
     "output_type": "execute_result"
    }
   ],
   "source": [
    "np.sum(y,axis=None)"
   ]
  },
  {
   "cell_type": "code",
   "execution_count": 18,
   "metadata": {},
   "outputs": [
    {
     "data": {
      "text/plain": [
       "array([0.02677584, 0.03241353, 0.71928526, 1.71041664, 2.37510214,\n",
       "       3.25662628, 3.26692743, 4.17266858, 4.19762289, 4.69300477,\n",
       "       5.38471691, 6.15426586, 6.52891808, 6.71051247, 6.81342877])"
      ]
     },
     "execution_count": 18,
     "metadata": {},
     "output_type": "execute_result"
    }
   ],
   "source": [
    "np.cumsum(y)"
   ]
  },
  {
   "cell_type": "markdown",
   "metadata": {},
   "source": [
    "- any, all 함수\n",
    "    - any: 특정 조건을 만족하는 것이 하나라도 있으면 True, 아니면 False\n",
    "    - all : 모든 원소가 특정 조건을 만족한다면 True, 아니면 False"
   ]
  },
  {
   "cell_type": "code",
   "execution_count": 19,
   "metadata": {},
   "outputs": [
    {
     "name": "stdout",
     "output_type": "stream",
     "text": [
      "[-0.61968787 -0.04454351  0.39910322  0.79644902 -0.27091838  0.77646886\n",
      "  0.24443243  0.48696496 -0.57827027 -0.28330784]\n"
     ]
    }
   ],
   "source": [
    "z = np.random.randn(10)\n",
    "print(z)"
   ]
  },
  {
   "cell_type": "code",
   "execution_count": 20,
   "metadata": {},
   "outputs": [
    {
     "data": {
      "text/plain": [
       "array([False, False,  True,  True, False,  True,  True,  True, False,\n",
       "       False])"
      ]
     },
     "execution_count": 20,
     "metadata": {},
     "output_type": "execute_result"
    }
   ],
   "source": [
    "z>0"
   ]
  },
  {
   "cell_type": "code",
   "execution_count": 21,
   "metadata": {},
   "outputs": [
    {
     "data": {
      "text/plain": [
       "True"
      ]
     },
     "execution_count": 21,
     "metadata": {},
     "output_type": "execute_result"
    }
   ],
   "source": [
    "np.any(z>0)"
   ]
  },
  {
   "cell_type": "code",
   "execution_count": 22,
   "metadata": {},
   "outputs": [
    {
     "data": {
      "text/plain": [
       "True"
      ]
     },
     "execution_count": 22,
     "metadata": {},
     "output_type": "execute_result"
    }
   ],
   "source": [
    "np.all(z != 0 )"
   ]
  },
  {
   "cell_type": "markdown",
   "metadata": {},
   "source": [
    "- where 함수\n",
    " - 조건에 따라 선별적으로 값을 선택 가능\n",
    " - 사용 예) 음수인경우는 0, 나머지는 그대로 값을 쓰는 경우"
   ]
  },
  {
   "cell_type": "code",
   "execution_count": 23,
   "metadata": {},
   "outputs": [
    {
     "name": "stdout",
     "output_type": "stream",
     "text": [
      "[ 0.4552018  -0.3271634   0.26465921  0.47198639  0.71925069 -1.26061386\n",
      "  0.446123    0.46651294  1.55442912 -1.12812338]\n"
     ]
    }
   ],
   "source": [
    "z = np.random.randn(10)\n",
    "print(z)"
   ]
  },
  {
   "cell_type": "code",
   "execution_count": 24,
   "metadata": {},
   "outputs": [
    {
     "data": {
      "text/plain": [
       "array([0.4552018 , 0.        , 0.26465921, 0.47198639, 0.71925069,\n",
       "       0.        , 0.446123  , 0.46651294, 1.55442912, 0.        ])"
      ]
     },
     "execution_count": 24,
     "metadata": {},
     "output_type": "execute_result"
    }
   ],
   "source": [
    "np.where(z > 0, z, 0)"
   ]
  }
 ],
 "metadata": {
  "kernelspec": {
   "display_name": "Python 2",
   "language": "python",
   "name": "python2"
  },
  "language_info": {
   "codemirror_mode": {
    "name": "ipython",
    "version": 2
   },
   "file_extension": ".py",
   "mimetype": "text/x-python",
   "name": "python",
   "nbconvert_exporter": "python",
   "pygments_lexer": "ipython2",
   "version": "2.7.12"
  }
 },
 "nbformat": 4,
 "nbformat_minor": 2
}
