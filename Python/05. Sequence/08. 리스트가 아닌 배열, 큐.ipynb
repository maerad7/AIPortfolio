{
 "cells": [
  {
   "cell_type": "code",
   "execution_count": 5,
   "metadata": {},
   "outputs": [],
   "source": [
    "from array import array\n",
    "from random import random"
   ]
  },
  {
   "cell_type": "code",
   "execution_count": 7,
   "metadata": {},
   "outputs": [],
   "source": [
    "floats = array('d',(random() for i in range(10**7)))"
   ]
  },
  {
   "cell_type": "code",
   "execution_count": 8,
   "metadata": {},
   "outputs": [
    {
     "data": {
      "text/plain": [
       "0.36394033839396256"
      ]
     },
     "execution_count": 8,
     "metadata": {},
     "output_type": "execute_result"
    }
   ],
   "source": [
    "floats[-1]"
   ]
  },
  {
   "cell_type": "code",
   "execution_count": 10,
   "metadata": {},
   "outputs": [],
   "source": [
    "fp = open('floats.bin','wb')\n",
    "floats.tofile(fp)\n",
    "fp.close()"
   ]
  },
  {
   "cell_type": "code",
   "execution_count": 11,
   "metadata": {},
   "outputs": [
    {
     "data": {
      "text/plain": [
       "0.36394033839396256"
      ]
     },
     "execution_count": 11,
     "metadata": {},
     "output_type": "execute_result"
    }
   ],
   "source": [
    "floats2=array('d')\n",
    "fp =open('floats.bin','rb')\n",
    "floats2.fromfile(fp,10**7)\n",
    "fp.close()\n",
    "floats2[-1]"
   ]
  },
  {
   "cell_type": "code",
   "execution_count": 13,
   "metadata": {},
   "outputs": [
    {
     "data": {
      "text/plain": [
       "True"
      ]
     },
     "execution_count": 13,
     "metadata": {},
     "output_type": "execute_result"
    }
   ],
   "source": [
    "floats2 == floats"
   ]
  },
  {
   "cell_type": "code",
   "execution_count": 19,
   "metadata": {},
   "outputs": [],
   "source": [
    "a = array('d',(random() for i in range(10**2)))"
   ]
  },
  {
   "cell_type": "code",
   "execution_count": 23,
   "metadata": {},
   "outputs": [
    {
     "data": {
      "text/plain": [
       "array('d', [0.09426919046471893, 0.21780127532494098, 0.046530057047201034, 0.0871612522144436, 0.693611827074018, 0.4041617037828743, 0.9216468471888781, 0.571264411132062, 0.050282448579435646, 0.38144953237602797, 0.01653365166180909, 0.2268579405714758, 0.40358414836260725, 0.6783376812939519, 0.9980243522024903, 0.7238099171414364, 0.051067524440875256, 0.8267145641276028, 0.44677911864701514, 0.022401460781696914, 0.1954573702755521, 0.0025866045082916234, 0.0012511685449932974, 0.4272066716788899, 0.02825942903514289, 0.8458567364043054, 0.8545017791950624, 0.7206675233690685, 0.6608977272132383, 0.08018442708531293, 0.8195205934015501, 0.4940271335221884, 0.4663876622506824, 0.9787152805034922, 0.2643857784266914, 0.5374945627131216, 0.4389478961176746, 0.893124106304999, 0.03489409165086044, 0.7065306913033772, 0.286190599780489, 0.3562083111597103, 0.2741328033012933, 0.7948101478021736, 0.8632838837518342, 0.3958968296055252, 0.7894016476458104, 0.45970410624993974, 0.9300290655232586, 0.5515718860386404, 0.18053403226775044, 0.829405284397151, 0.9997606705495627, 0.05017632769958558, 0.7736211746714075, 0.9495918788988815, 0.8670346155169945, 0.2852633487588673, 0.5310724900241294, 0.3809322654809546, 0.05766166016158836, 0.6846238061850022, 0.5205132114409231, 0.18798919580406914, 0.3304446952909582, 0.9559701997043675, 0.6737372178452965, 0.02938375650920888, 0.21873909728700713, 0.794595220776313, 0.4029539149064869, 0.7062365805765405, 0.2814834674755551, 0.029436632843391486, 0.9491544537938983, 0.13263887572561484, 0.23665614923541167, 0.6191351753027634, 0.47684959334703414, 0.7092569563091202, 0.8507513261594665, 0.9804837412306681, 0.18372446463827796, 0.9765852566126068, 0.8932165235182958, 0.6099099262796606, 0.0957662693080964, 0.5576771139208099, 0.9843836100197966, 0.657064567281327, 0.6164735148784032, 0.9440280400927159, 0.16510249179361636, 0.8152059566953557, 0.49912758957734793, 0.3235262079261888, 0.22132754392420662, 0.16880679013203148, 0.30930879029992064, 0.25213383267255884])"
      ]
     },
     "execution_count": 23,
     "metadata": {},
     "output_type": "execute_result"
    }
   ],
   "source": [
    "a"
   ]
  },
  {
   "cell_type": "markdown",
   "metadata": {},
   "source": [
    "* 배열 정렬"
   ]
  },
  {
   "cell_type": "code",
   "execution_count": 24,
   "metadata": {
    "scrolled": false
   },
   "outputs": [],
   "source": [
    "a = array('d',sorted(a))"
   ]
  },
  {
   "cell_type": "code",
   "execution_count": 25,
   "metadata": {},
   "outputs": [
    {
     "data": {
      "text/plain": [
       "array('d', [0.0012511685449932974, 0.0025866045082916234, 0.01653365166180909, 0.022401460781696914, 0.02825942903514289, 0.02938375650920888, 0.029436632843391486, 0.03489409165086044, 0.046530057047201034, 0.05017632769958558, 0.050282448579435646, 0.051067524440875256, 0.05766166016158836, 0.08018442708531293, 0.0871612522144436, 0.09426919046471893, 0.0957662693080964, 0.13263887572561484, 0.16510249179361636, 0.16880679013203148, 0.18053403226775044, 0.18372446463827796, 0.18798919580406914, 0.1954573702755521, 0.21780127532494098, 0.21873909728700713, 0.22132754392420662, 0.2268579405714758, 0.23665614923541167, 0.25213383267255884, 0.2643857784266914, 0.2741328033012933, 0.2814834674755551, 0.2852633487588673, 0.286190599780489, 0.30930879029992064, 0.3235262079261888, 0.3304446952909582, 0.3562083111597103, 0.3809322654809546, 0.38144953237602797, 0.3958968296055252, 0.4029539149064869, 0.40358414836260725, 0.4041617037828743, 0.4272066716788899, 0.4389478961176746, 0.44677911864701514, 0.45970410624993974, 0.4663876622506824, 0.47684959334703414, 0.4940271335221884, 0.49912758957734793, 0.5205132114409231, 0.5310724900241294, 0.5374945627131216, 0.5515718860386404, 0.5576771139208099, 0.571264411132062, 0.6099099262796606, 0.6164735148784032, 0.6191351753027634, 0.657064567281327, 0.6608977272132383, 0.6737372178452965, 0.6783376812939519, 0.6846238061850022, 0.693611827074018, 0.7062365805765405, 0.7065306913033772, 0.7092569563091202, 0.7206675233690685, 0.7238099171414364, 0.7736211746714075, 0.7894016476458104, 0.794595220776313, 0.7948101478021736, 0.8152059566953557, 0.8195205934015501, 0.8267145641276028, 0.829405284397151, 0.8458567364043054, 0.8507513261594665, 0.8545017791950624, 0.8632838837518342, 0.8670346155169945, 0.893124106304999, 0.8932165235182958, 0.9216468471888781, 0.9300290655232586, 0.9440280400927159, 0.9491544537938983, 0.9495918788988815, 0.9559701997043675, 0.9765852566126068, 0.9787152805034922, 0.9804837412306681, 0.9843836100197966, 0.9980243522024903, 0.9997606705495627])"
      ]
     },
     "execution_count": 25,
     "metadata": {},
     "output_type": "execute_result"
    }
   ],
   "source": [
    "a"
   ]
  },
  {
   "cell_type": "markdown",
   "metadata": {},
   "source": [
    "* 메모리 뷰 : 데이터 구조체를 복사하지 않고 메모리를 공유할 수 있게 해준다"
   ]
  },
  {
   "cell_type": "code",
   "execution_count": 27,
   "metadata": {},
   "outputs": [],
   "source": [
    "numbers = array('h',[-2,-1,0,1,2])"
   ]
  },
  {
   "cell_type": "code",
   "execution_count": 28,
   "metadata": {},
   "outputs": [
    {
     "data": {
      "text/plain": [
       "array('h', [-2, -1, 0, 1, 2])"
      ]
     },
     "execution_count": 28,
     "metadata": {},
     "output_type": "execute_result"
    }
   ],
   "source": [
    "numbers"
   ]
  },
  {
   "cell_type": "code",
   "execution_count": 29,
   "metadata": {},
   "outputs": [],
   "source": [
    "memv = memoryview(numbers)"
   ]
  },
  {
   "cell_type": "code",
   "execution_count": 32,
   "metadata": {},
   "outputs": [
    {
     "data": {
      "text/plain": [
       "<memory at 0x0000013CB9120C48>"
      ]
     },
     "execution_count": 32,
     "metadata": {},
     "output_type": "execute_result"
    }
   ],
   "source": [
    "memv"
   ]
  },
  {
   "cell_type": "code",
   "execution_count": 30,
   "metadata": {},
   "outputs": [
    {
     "data": {
      "text/plain": [
       "5"
      ]
     },
     "execution_count": 30,
     "metadata": {},
     "output_type": "execute_result"
    }
   ],
   "source": [
    "len(memv)"
   ]
  },
  {
   "cell_type": "code",
   "execution_count": 31,
   "metadata": {},
   "outputs": [],
   "source": [
    "memv_oct = memv.cast('B')"
   ]
  },
  {
   "cell_type": "code",
   "execution_count": 33,
   "metadata": {},
   "outputs": [
    {
     "data": {
      "text/plain": [
       "[254, 255, 255, 255, 0, 0, 1, 0, 2, 0]"
      ]
     },
     "execution_count": 33,
     "metadata": {},
     "output_type": "execute_result"
    }
   ],
   "source": [
    "memv_oct.tolist()"
   ]
  },
  {
   "cell_type": "code",
   "execution_count": 38,
   "metadata": {},
   "outputs": [
    {
     "data": {
      "text/plain": [
       "[254, 255, 255, 255, 0, 4, 1, 0, 2, 0]"
      ]
     },
     "execution_count": 38,
     "metadata": {},
     "output_type": "execute_result"
    }
   ],
   "source": [
    "memv_oct[5]=4\n",
    "memv_oct.tolist()"
   ]
  },
  {
   "cell_type": "code",
   "execution_count": 39,
   "metadata": {},
   "outputs": [
    {
     "data": {
      "text/plain": [
       "array('h', [-2, -1, 1024, 1, 2])"
      ]
     },
     "execution_count": 39,
     "metadata": {},
     "output_type": "execute_result"
    }
   ],
   "source": [
    "numbers"
   ]
  },
  {
   "cell_type": "markdown",
   "metadata": {},
   "source": [
    "* 데큐 및 큐\n",
    "    - collection.deque는 양쪽 어디에서든 빠르게 삭제하거나 삽입할 수 있다."
   ]
  },
  {
   "cell_type": "code",
   "execution_count": 54,
   "metadata": {},
   "outputs": [],
   "source": [
    "from collections import deque"
   ]
  },
  {
   "cell_type": "code",
   "execution_count": 55,
   "metadata": {},
   "outputs": [],
   "source": [
    "dq = deque(range(10),maxlen=10)"
   ]
  },
  {
   "cell_type": "code",
   "execution_count": 56,
   "metadata": {},
   "outputs": [
    {
     "data": {
      "text/plain": [
       "deque([0, 1, 2, 3, 4, 5, 6, 7, 8, 9])"
      ]
     },
     "execution_count": 56,
     "metadata": {},
     "output_type": "execute_result"
    }
   ],
   "source": [
    "dq"
   ]
  },
  {
   "cell_type": "code",
   "execution_count": 57,
   "metadata": {},
   "outputs": [
    {
     "data": {
      "text/plain": [
       "deque([7, 8, 9, 0, 1, 2, 3, 4, 5, 6])"
      ]
     },
     "execution_count": 57,
     "metadata": {},
     "output_type": "execute_result"
    }
   ],
   "source": [
    "# 3칸씩 오른쪽으로 이동\n",
    "dq.rotate(3)\n",
    "dq"
   ]
  },
  {
   "cell_type": "code",
   "execution_count": 58,
   "metadata": {},
   "outputs": [
    {
     "data": {
      "text/plain": [
       "deque([1, 2, 3, 4, 5, 6, 7, 8, 9, 0])"
      ]
     },
     "execution_count": 58,
     "metadata": {},
     "output_type": "execute_result"
    }
   ],
   "source": [
    "dq.rotate(-4)\n",
    "dq"
   ]
  },
  {
   "cell_type": "code",
   "execution_count": 59,
   "metadata": {},
   "outputs": [
    {
     "data": {
      "text/plain": [
       "deque([-1, 1, 2, 3, 4, 5, 6, 7, 8, 9])"
      ]
     },
     "execution_count": 59,
     "metadata": {},
     "output_type": "execute_result"
    }
   ],
   "source": [
    "dq.appendleft(-1)\n",
    "dq"
   ]
  },
  {
   "cell_type": "code",
   "execution_count": 60,
   "metadata": {},
   "outputs": [
    {
     "data": {
      "text/plain": [
       "deque([3, 4, 5, 6, 7, 8, 9, 11, 22, 33])"
      ]
     },
     "execution_count": 60,
     "metadata": {},
     "output_type": "execute_result"
    }
   ],
   "source": [
    "dq.extend([11,22,33])\n",
    "dq"
   ]
  },
  {
   "cell_type": "code",
   "execution_count": 61,
   "metadata": {},
   "outputs": [
    {
     "data": {
      "text/plain": [
       "deque([40, 30, 20, 10, 3, 4, 5, 6, 7, 8])"
      ]
     },
     "execution_count": 61,
     "metadata": {},
     "output_type": "execute_result"
    }
   ],
   "source": [
    "dq.extendleft([10,20,30,40])\n",
    "dq"
   ]
  }
 ],
 "metadata": {
  "kernelspec": {
   "display_name": "Python 3",
   "language": "python",
   "name": "python3"
  },
  "language_info": {
   "codemirror_mode": {
    "name": "ipython",
    "version": 3
   },
   "file_extension": ".py",
   "mimetype": "text/x-python",
   "name": "python",
   "nbconvert_exporter": "python",
   "pygments_lexer": "ipython3",
   "version": "3.7.3"
  }
 },
 "nbformat": 4,
 "nbformat_minor": 2
}
