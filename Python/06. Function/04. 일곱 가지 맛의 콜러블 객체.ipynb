{
 "cells": [
  {
   "cell_type": "markdown",
   "metadata": {},
   "source": [
    "### 사용자 정의 함수\n",
    "- def 문이나 람다 표현식으로 생성한다.\n",
    "\n",
    "### 내장 함수\n",
    "- 내장 함수\n",
    "\n",
    "### 내장 메서드\n",
    "- C언어로 구현된 메서드\n",
    "\n",
    "### 메서드\n",
    "- 클래스 본체에 정의된 함수\n",
    "\n",
    "### 클래스\n",
    "- 호출될 때 클래스는 자신의 __new__() 메서드를 실행해서 객체를 생성하고, __init__()으로 초기화한 후, 최종적으로 호출자에 객체를 반환한다. 파이썬에는 new 연산자가 없으므로 클래스를 호출하는 것은 함수를 호출하는 것과 동일하다.\n",
    "\n",
    "### 클래스 객체\n",
    "- 클래스가 __call__() 메서드를 구현하면 이 클래스의 객체는 함수로 호출될 수 있다. 5.5절 '사용자 정의 콜러블형'을 참조하라.\n",
    "\n",
    "### 제네레이터 함수\n",
    "- yield 키워드를 사용하는 함수나 메서드. 이함수가 호출되면 제네레이터 객체를 반환한다."
   ]
  },
  {
   "cell_type": "code",
   "execution_count": 1,
   "metadata": {},
   "outputs": [
    {
     "data": {
      "text/plain": [
       "(<function abs(x, /)>, str, 13)"
      ]
     },
     "execution_count": 1,
     "metadata": {},
     "output_type": "execute_result"
    }
   ],
   "source": [
    "abs , str , 13"
   ]
  },
  {
   "cell_type": "code",
   "execution_count": 2,
   "metadata": {},
   "outputs": [
    {
     "data": {
      "text/plain": [
       "[True, True, False]"
      ]
     },
     "execution_count": 2,
     "metadata": {},
     "output_type": "execute_result"
    }
   ],
   "source": [
    "[callable(obj) for obj in (abs, str, 13)]"
   ]
  }
 ],
 "metadata": {
  "kernelspec": {
   "display_name": "Python 3",
   "language": "python",
   "name": "python3"
  },
  "language_info": {
   "codemirror_mode": {
    "name": "ipython",
    "version": 3
   },
   "file_extension": ".py",
   "mimetype": "text/x-python",
   "name": "python",
   "nbconvert_exporter": "python",
   "pygments_lexer": "ipython3",
   "version": "3.6.9"
  }
 },
 "nbformat": 4,
 "nbformat_minor": 4
}
