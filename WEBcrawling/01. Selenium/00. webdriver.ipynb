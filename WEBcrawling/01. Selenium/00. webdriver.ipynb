{
 "cells": [
  {
   "cell_type": "code",
   "execution_count": 1,
   "metadata": {},
   "outputs": [
    {
     "name": "stdout",
     "output_type": "stream",
     "text": [
      "Requirement already satisfied: selenium in c:\\users\\maerad7\\anaconda3\\lib\\site-packages (3.141.0)\n",
      "Requirement already satisfied: urllib3 in c:\\users\\maerad7\\anaconda3\\lib\\site-packages (from selenium) (1.25.8)\n"
     ]
    }
   ],
   "source": [
    "!pip install selenium"
   ]
  },
  {
   "cell_type": "code",
   "execution_count": 2,
   "metadata": {},
   "outputs": [],
   "source": [
    "# https://sites.google.com/a/chromium.org/chromedriver/"
   ]
  },
  {
   "cell_type": "code",
   "execution_count": 5,
   "metadata": {},
   "outputs": [],
   "source": [
    "from selenium import webdriver\n",
    "from selenium.webdriver.common.keys import Keys "
   ]
  },
  {
   "cell_type": "code",
   "execution_count": 6,
   "metadata": {},
   "outputs": [],
   "source": [
    "chromedriver =\"../../../../../webdriver/chromedriver.exe\""
   ]
  },
  {
   "cell_type": "code",
   "execution_count": 21,
   "metadata": {},
   "outputs": [],
   "source": [
    "driver = webdriver.Chrome(chromedriver)"
   ]
  },
  {
   "cell_type": "code",
   "execution_count": 13,
   "metadata": {},
   "outputs": [
    {
     "name": "stdout",
     "output_type": "stream",
     "text": [
      "Welcome to Python.org\n"
     ]
    }
   ],
   "source": [
    "driver.get('http://python.org')\n",
    "print(driver.title)\n",
    "assert \"Python\" in driver.title"
   ]
  },
  {
   "cell_type": "code",
   "execution_count": 14,
   "metadata": {},
   "outputs": [],
   "source": [
    "# tag의 name을 가져오는것\n",
    "#find_element_by_name() : 최초 발견한 name으로 가져오기\n",
    "#find_elements_by_name(): 동일한 모든 name 리스트 가져오기\n",
    "#find_element_by_tag_name()\n",
    "#find_elements_by_tag_name()"
   ]
  },
  {
   "cell_type": "code",
   "execution_count": 18,
   "metadata": {},
   "outputs": [],
   "source": [
    "import time"
   ]
  },
  {
   "cell_type": "code",
   "execution_count": 19,
   "metadata": {},
   "outputs": [],
   "source": [
    "elem = driver.find_element_by_name('q')\n",
    "elem.clear()\n",
    "elem.send_keys(\"python\")\n",
    "elem.send_keys(Keys.RETURN)\n",
    "\n",
    "assert \"No results found.\" not in driver.page_source\n",
    "\n",
    "time.sleep(10)\n",
    "driver.quit()"
   ]
  },
  {
   "cell_type": "code",
   "execution_count": 30,
   "metadata": {},
   "outputs": [
    {
     "name": "stdout",
     "output_type": "stream",
     "text": [
      "Welcome to Python.org\n",
      "\n",
      "Results\n",
      "Python Documentation by Version\n",
      "Download Python for Other Platforms\n",
      "Release – Python 2.5.3\n",
      "Python 2.5.4 Release\n",
      "Release – Python 2.5.4\n",
      "Python 2.5.3 Release\n",
      "Python 2.5 Release\n",
      "Python 2.5.2 Release\n",
      "Python 2.5.1 Release\n",
      "Sunsetting Python 2\n",
      "Release – Python 2.5.0\n",
      "Release – Python 3.1.4\n",
      "Release – Python 2.5.2\n",
      "Python 3.1.4 Release\n",
      "Python 3.1.3 Release\n",
      "Release – Python 2.5.1\n",
      "Python 3.2.1 Release\n",
      "Release – Python 2.7.9rc1\n",
      "Python 3.0 Release\n",
      "Python 3.2.5 Release\n",
      "[<selenium.webdriver.remote.webelement.WebElement (session=\"e9cd32500ace0626c8796e127e8ea559\", element=\"b9482d23-b766-4e7e-8ada-9f2a7e459a39\")>, <selenium.webdriver.remote.webelement.WebElement (session=\"e9cd32500ace0626c8796e127e8ea559\", element=\"cf74c24e-4927-405a-9585-dd380b675c14\")>, <selenium.webdriver.remote.webelement.WebElement (session=\"e9cd32500ace0626c8796e127e8ea559\", element=\"0af488dd-85be-4e10-9aea-b9a1aae403e9\")>, <selenium.webdriver.remote.webelement.WebElement (session=\"e9cd32500ace0626c8796e127e8ea559\", element=\"d0781355-3249-453b-8eb2-2924f32e9e7e\")>, <selenium.webdriver.remote.webelement.WebElement (session=\"e9cd32500ace0626c8796e127e8ea559\", element=\"a27921d1-fc4a-4089-bd39-32ebe5dbdd5c\")>, <selenium.webdriver.remote.webelement.WebElement (session=\"e9cd32500ace0626c8796e127e8ea559\", element=\"5ac29e42-fa62-4262-a5c6-bca10ac6ca3c\")>, <selenium.webdriver.remote.webelement.WebElement (session=\"e9cd32500ace0626c8796e127e8ea559\", element=\"11336b65-2434-4519-85f8-91d2f9163a7d\")>, <selenium.webdriver.remote.webelement.WebElement (session=\"e9cd32500ace0626c8796e127e8ea559\", element=\"e5366455-30fb-4077-9cbd-9d2ab2df4499\")>, <selenium.webdriver.remote.webelement.WebElement (session=\"e9cd32500ace0626c8796e127e8ea559\", element=\"9f9c4c8e-4c7a-46dc-b5cb-e60053e37894\")>, <selenium.webdriver.remote.webelement.WebElement (session=\"e9cd32500ace0626c8796e127e8ea559\", element=\"d9cbe7d4-180e-401b-ad76-6128fe5ce265\")>, <selenium.webdriver.remote.webelement.WebElement (session=\"e9cd32500ace0626c8796e127e8ea559\", element=\"e236d80c-90ff-4a58-9215-f461ae7f1d63\")>, <selenium.webdriver.remote.webelement.WebElement (session=\"e9cd32500ace0626c8796e127e8ea559\", element=\"a54f0852-f21f-4eec-88c5-768ead52bcbd\")>, <selenium.webdriver.remote.webelement.WebElement (session=\"e9cd32500ace0626c8796e127e8ea559\", element=\"4ac2e5e9-2e77-4a88-9976-86d356e49bf2\")>, <selenium.webdriver.remote.webelement.WebElement (session=\"e9cd32500ace0626c8796e127e8ea559\", element=\"40ab6eb1-bb80-42e2-b15d-d78a51f3bb28\")>, <selenium.webdriver.remote.webelement.WebElement (session=\"e9cd32500ace0626c8796e127e8ea559\", element=\"ada530e2-30a4-49ce-83ca-0494595df880\")>, <selenium.webdriver.remote.webelement.WebElement (session=\"e9cd32500ace0626c8796e127e8ea559\", element=\"48d11108-d942-446e-8cb6-6456f5db0d1f\")>, <selenium.webdriver.remote.webelement.WebElement (session=\"e9cd32500ace0626c8796e127e8ea559\", element=\"8f8788e7-8bd5-4567-848c-d482cad60be2\")>, <selenium.webdriver.remote.webelement.WebElement (session=\"e9cd32500ace0626c8796e127e8ea559\", element=\"cb7edb61-6c47-4e2a-91a4-cd400ab3a06c\")>, <selenium.webdriver.remote.webelement.WebElement (session=\"e9cd32500ace0626c8796e127e8ea559\", element=\"27a95b54-6eb4-4fb4-bc10-3ae4bf527833\")>, <selenium.webdriver.remote.webelement.WebElement (session=\"e9cd32500ace0626c8796e127e8ea559\", element=\"c06b5060-189a-47a6-98c3-e6a5dd901755\")>, <selenium.webdriver.remote.webelement.WebElement (session=\"e9cd32500ace0626c8796e127e8ea559\", element=\"d23da47e-71bf-4aaa-a512-ea22848fba8c\")>, <selenium.webdriver.remote.webelement.WebElement (session=\"e9cd32500ace0626c8796e127e8ea559\", element=\"b239f60b-3922-4569-bbd4-08a80a7d508e\")>]\n"
     ]
    }
   ],
   "source": [
    "driver = webdriver.Chrome(chromedriver)\n",
    "driver.get('http://python.org')\n",
    "print(driver.title)\n",
    "elem = driver.find_element_by_name('q')\n",
    "elem.clear()\n",
    "elem.send_keys(\"python\")\n",
    "elem.send_keys(Keys.RETURN)\n",
    "time.sleep(2)\n",
    "h3s = driver.find_elements_by_tag_name('h3')\n",
    "for h3 in h3s:\n",
    "    print(h3.text)\n",
    "print(h3s)\n",
    "driver.quit()"
   ]
  },
  {
   "cell_type": "code",
   "execution_count": null,
   "metadata": {},
   "outputs": [],
   "source": []
  }
 ],
 "metadata": {
  "kernelspec": {
   "display_name": "Python 3",
   "language": "python",
   "name": "python3"
  },
  "language_info": {
   "codemirror_mode": {
    "name": "ipython",
    "version": 3
   },
   "file_extension": ".py",
   "mimetype": "text/x-python",
   "name": "python",
   "nbconvert_exporter": "python",
   "pygments_lexer": "ipython3",
   "version": "3.6.5"
  }
 },
 "nbformat": 4,
 "nbformat_minor": 4
}
