{
 "cells": [
  {
   "cell_type": "code",
   "execution_count": 1,
   "metadata": {},
   "outputs": [],
   "source": [
    "from selenium.webdriver import Chrome\n",
    "import pandas as pd"
   ]
  },
  {
   "cell_type": "code",
   "execution_count": 2,
   "metadata": {},
   "outputs": [],
   "source": [
    "browser=Chrome()"
   ]
  },
  {
   "cell_type": "code",
   "execution_count": 3,
   "metadata": {},
   "outputs": [],
   "source": [
    "url = 'https://www.tripadvisor.co.kr/Restaurant_Review-g294197-d1371740-Reviews-Mugyodong_Bugeokukjib-Seoul.html'"
   ]
  },
  {
   "cell_type": "code",
   "execution_count": 4,
   "metadata": {},
   "outputs": [],
   "source": [
    "browser.get(url)"
   ]
  },
  {
   "cell_type": "code",
   "execution_count": 5,
   "metadata": {},
   "outputs": [],
   "source": [
    "more_links = browser.find_elements_by_css_selector('.ulBlueLinks')"
   ]
  },
  {
   "cell_type": "code",
   "execution_count": 6,
   "metadata": {},
   "outputs": [],
   "source": [
    "for link in more_links:\n",
    "    try:\n",
    "        link.click()\n",
    "    except:\n",
    "        pass"
   ]
  },
  {
   "cell_type": "code",
   "execution_count": 7,
   "metadata": {},
   "outputs": [],
   "source": [
    "reviews = browser.find_elements_by_css_selector('.review-container')"
   ]
  },
  {
   "cell_type": "code",
   "execution_count": 8,
   "metadata": {},
   "outputs": [],
   "source": [
    "s = len('ui_bubble_rating bubble_')\n",
    "review_list = []\n",
    "for review in reviews:\n",
    "    # 별점을 찾는다. 하나만 찾기 때문에 단수형 element를 사용\n",
    "    rating = review.find_element_by_css_selector('.ui_bubble_rating')\n",
    "    # 별점에 지정된 클래스를 가져온다 (requests의 .attrib에 해당)\n",
    "    cls = rating.get_attribute('class')\n",
    "    # 앞부분을 떼어내고 정수로 해석한다\n",
    "    score = int(cls[s:])\n",
    "    # 평을 찾는다.\n",
    "    comment = review.find_element_by_css_selector('.partial_entry')\n",
    "    # 점수와 텍스트를 리스트에 추가한다\n",
    "    review_list.append((score, comment.text))"
   ]
  },
  {
   "cell_type": "code",
   "execution_count": 9,
   "metadata": {},
   "outputs": [
    {
     "data": {
      "text/html": [
       "<div>\n",
       "<style scoped>\n",
       "    .dataframe tbody tr th:only-of-type {\n",
       "        vertical-align: middle;\n",
       "    }\n",
       "\n",
       "    .dataframe tbody tr th {\n",
       "        vertical-align: top;\n",
       "    }\n",
       "\n",
       "    .dataframe thead th {\n",
       "        text-align: right;\n",
       "    }\n",
       "</style>\n",
       "<table border=\"1\" class=\"dataframe\">\n",
       "  <thead>\n",
       "    <tr style=\"text-align: right;\">\n",
       "      <th></th>\n",
       "      <th>score</th>\n",
       "      <th>text</th>\n",
       "    </tr>\n",
       "  </thead>\n",
       "  <tbody>\n",
       "    <tr>\n",
       "      <th>0</th>\n",
       "      <td>30</td>\n",
       "      <td>메뉴가 거의 단일화 되어있어 회전율이 빠릅니다.\\n주변에 직장인들이 많아서 금방 자...</td>\n",
       "    </tr>\n",
       "    <tr>\n",
       "      <th>1</th>\n",
       "      <td>40</td>\n",
       "      <td>북어국이 시원하고 서비스가 좋았습니다.\\n다음에 또 방문할 생각이 들 정도로 맛 포...</td>\n",
       "    </tr>\n",
       "    <tr>\n",
       "      <th>2</th>\n",
       "      <td>50</td>\n",
       "      <td>유명한 집입니다. 외국인 관광객도 많은편이예요\\n식사시간에 가면 대기가 길어요\\n3...</td>\n",
       "    </tr>\n",
       "    <tr>\n",
       "      <th>3</th>\n",
       "      <td>40</td>\n",
       "      <td>리뷰에 좋은글을 올려야 하는건지 모르지만 무교동 북어국 집이 예전에 비해 맛이 안좋...</td>\n",
       "    </tr>\n",
       "    <tr>\n",
       "      <th>4</th>\n",
       "      <td>40</td>\n",
       "      <td>테이블에 먹고싶은 만큼 꺼내먹을수 있는 반찬들도 좋았구요.\\n사람이 항상 많아보여서...</td>\n",
       "    </tr>\n",
       "    <tr>\n",
       "      <th>5</th>\n",
       "      <td>40</td>\n",
       "      <td>북어국집이 있는 작은 골목을 지날때마다 많은 사람들이 줄서있는 것을 보면...\\n'...</td>\n",
       "    </tr>\n",
       "    <tr>\n",
       "      <th>6</th>\n",
       "      <td>50</td>\n",
       "      <td>왜 미리 몰랐을까 라고 후회 했던 집\\n정말 맛보시길 추천 합니다\\n\\n일요일 오전...</td>\n",
       "    </tr>\n",
       "    <tr>\n",
       "      <th>7</th>\n",
       "      <td>50</td>\n",
       "      <td>\"숙취에 최고의 음식일 듯, 유명한 만큼 맛았고 친절하고 회전이 빠른 식당\"\\n\"직...</td>\n",
       "    </tr>\n",
       "    <tr>\n",
       "      <th>8</th>\n",
       "      <td>50</td>\n",
       "      <td>변함없늗 속풀이. 깔끔하고 회전 빠르고 가격도 주변에 비해 착함. 포장도 맛있음. ...</td>\n",
       "    </tr>\n",
       "    <tr>\n",
       "      <th>9</th>\n",
       "      <td>40</td>\n",
       "      <td>엄청난 맛집은 아니지만 나쁘지 않음으로 꾸준히 유지가 되는 집. 너무 큰 기대를 가...</td>\n",
       "    </tr>\n",
       "  </tbody>\n",
       "</table>\n",
       "</div>"
      ],
      "text/plain": [
       "   score                                               text\n",
       "0     30  메뉴가 거의 단일화 되어있어 회전율이 빠릅니다.\\n주변에 직장인들이 많아서 금방 자...\n",
       "1     40  북어국이 시원하고 서비스가 좋았습니다.\\n다음에 또 방문할 생각이 들 정도로 맛 포...\n",
       "2     50  유명한 집입니다. 외국인 관광객도 많은편이예요\\n식사시간에 가면 대기가 길어요\\n3...\n",
       "3     40  리뷰에 좋은글을 올려야 하는건지 모르지만 무교동 북어국 집이 예전에 비해 맛이 안좋...\n",
       "4     40  테이블에 먹고싶은 만큼 꺼내먹을수 있는 반찬들도 좋았구요.\\n사람이 항상 많아보여서...\n",
       "5     40  북어국집이 있는 작은 골목을 지날때마다 많은 사람들이 줄서있는 것을 보면...\\n'...\n",
       "6     50  왜 미리 몰랐을까 라고 후회 했던 집\\n정말 맛보시길 추천 합니다\\n\\n일요일 오전...\n",
       "7     50  \"숙취에 최고의 음식일 듯, 유명한 만큼 맛았고 친절하고 회전이 빠른 식당\"\\n\"직...\n",
       "8     50  변함없늗 속풀이. 깔끔하고 회전 빠르고 가격도 주변에 비해 착함. 포장도 맛있음. ...\n",
       "9     40  엄청난 맛집은 아니지만 나쁘지 않음으로 꾸준히 유지가 되는 집. 너무 큰 기대를 가..."
      ]
     },
     "execution_count": 9,
     "metadata": {},
     "output_type": "execute_result"
    }
   ],
   "source": [
    "df = pd.DataFrame(review_list, columns=['score', 'text'])\n",
    "df"
   ]
  },
  {
   "cell_type": "code",
   "execution_count": 10,
   "metadata": {},
   "outputs": [],
   "source": [
    "df.to_csv('tripadvisor.csv', encoding='euc-kr')"
   ]
  },
  {
   "cell_type": "code",
   "execution_count": 11,
   "metadata": {},
   "outputs": [],
   "source": [
    "browser.quit()"
   ]
  }
 ],
 "metadata": {
  "kernelspec": {
   "display_name": "Python 3",
   "language": "python",
   "name": "python3"
  },
  "language_info": {
   "codemirror_mode": {
    "name": "ipython",
    "version": 3
   },
   "file_extension": ".py",
   "mimetype": "text/x-python",
   "name": "python",
   "nbconvert_exporter": "python",
   "pygments_lexer": "ipython3",
   "version": "3.6.5"
  }
 },
 "nbformat": 4,
 "nbformat_minor": 2
}
