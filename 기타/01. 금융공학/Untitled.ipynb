{
 "cells": [
  {
   "cell_type": "markdown",
   "metadata": {},
   "source": [
    "## 네이버 금융 일별 시세페이지 분석"
   ]
  },
  {
   "cell_type": "code",
   "execution_count": 11,
   "metadata": {},
   "outputs": [],
   "source": [
    "index_cd = 'KPI200'\n",
    "page_n = 1 \n",
    "naver_index = 'https://finance.naver.com/sise/sise_index_day.nhn?code=' + index_cd + '&page=' + str(page_n) "
   ]
  },
  {
   "cell_type": "markdown",
   "metadata": {},
   "source": [
    "## 크롤링"
   ]
  },
  {
   "cell_type": "code",
   "execution_count": 12,
   "metadata": {},
   "outputs": [
    {
     "data": {
      "text/plain": [
       "b'\\n\\n\\n\\n\\n\\n\\n<html lang=\"ko\">\\n<head>\\n<meta http-equiv=\"Content-Type\" content=\"text/html; charset=euc-kr\">\\n<title>\\xb3\\xd7\\xc0\\xcc\\xb9\\xf6 \\xb1\\xdd\\xc0\\xb6</title>\\n<link rel=\"stylesheet\" type=\"text/css\" href=\"/css/newstock.css?20200720195029\">\\n<link rel=\"stylesheet\" type=\"text/css\" href=\"/css/common.css?20200720195029\">\\n<link rel=\"stylesheet\" type=\"text/css\" href=\"/css/layout.css?20200720195029\">\\n<link rel=\"stylesheet\" type=\"text/css\" href=\"/css/main.css?20200720195029\">\\n<link rel=\"stylesheet\" type=\"text/css\" href=\"/css/newstock2.css?20200720195029\">\\n<link rel=\"stylesheet\" type=\"text/css\" href=\"/css/newstock3.css?20200720195029\">\\n<link rel=\"stylesheet\" type=\"text/css\" href=\"/css/world.css?20200720195029\">\\n</head>\\n<body>\\n<script type=\"text/javascript\" src=\"/js/jindo.min.ns.1.5.3.euckr.js?20200720195029\"></script>\\n<script type=\"text/javascript\" src=\"/js/lcslog.js?20200720195029\"></script>\\n\\t\\t\\t\\t<!-- \\xc0\\xcf\\xba\\xb0\\xbd\\xc3\\xbc\\xbc -->\\n\\t\\t\\t\\t<div class=\"box_type_m\">\\n\\t\\t\\t\\t\\t<h4 class=\"top_tlt\" style=\"text-align:left;\"><em>\\xc0\\xcf\\xba\\xb0</em>\\xbd\\xc3\\xbc\\xbc</h4>\\n\\t\\t\\t\\t\\t<table summary=\"\\xc0\\xcf\\xba\\xb0 \\xbd\\xc3\\xbc\\xbc\\xc7\\xa5:\\xb3\\xaf\\xc2\\xa5\\xbf\\xa1 \\xb5\\xfb\\xb8\\xa5 \\xc3\\xbc\\xb0\\xe1\\xb0\\xa1 \\xc0\\xfc\\xc0\\xcf\\xba\\xf1 \\xb5\\xee\\xb6\\xf4\\xb7\\xfc \\xb0\\xc5\\xb7\\xa1\\xb7\\xae \\xb0\\xc5\\xb7\\xa1\\xb4\\xeb\\xb1\\xdd \\xc1\\xa4\\xba\\xb8\\xb8\\xa6 \\xc1\\xa6\\xb0\\xf8\\xc7\\xd5\\xb4\\xcf\\xb4\\xd9.\" cellpadding=\"0\" cellspacing=\"0\" class=\"type_1\">\\n\\t\\t\\t\\t\\t<caption>\\xc0\\xcf\\xba\\xb0\\xbd\\xc3\\xbc\\xbc</caption>\\n\\t\\t\\t\\t\\t<col width=\"15%\"><col width=\"14%\"><col width=\"18%\"><col width=\"14%\"><col width=\"*\"><col width=\"18%\">\\n\\t\\t\\t\\t\\t\\n\\t\\t\\t\\t\\t\\t\\n\\t\\t\\t\\t\\t\\t\\n\\t\\t\\t\\t\\t\\t<tr>\\n\\t\\t\\t\\t\\t\\t\\t<th>\\xb3\\xaf\\xc2\\xa5</th>\\n\\t\\t\\t\\t\\t\\t\\t<th>\\xc3\\xbc\\xb0\\xe1\\xb0\\xa1</th>\\n\\t\\t\\t\\t\\t\\t\\t<th>\\xc0\\xfc\\xc0\\xcf\\xba\\xf1</th>\\n\\t\\t\\t\\t\\t\\t\\t<th>\\xb5\\xee\\xb6\\xf4\\xb7\\xfc</th>\\n\\t\\t\\t\\t\\t\\t\\t<th>\\xb0\\xc5\\xb7\\xa1\\xb7\\xae<span class=\"add_txt\">(\\xc3\\xb5\\xc1\\xd6)</span></th>\\n\\t\\t\\t\\t\\t\\t\\t<th>\\xb0\\xc5\\xb7\\xa1\\xb4\\xeb\\xb1\\xdd<span class=\"add_txt\">(\\xb9\\xe9\\xb8\\xb8)</span></th>\\n\\t\\t\\t\\t\\t\\t</tr>\\n\\t\\t\\t\\t\\t\\t\\n\\t\\t\\t\\t\\t\\t\\t\\t\\t\\t\\n\\t\\t\\t\\t\\t<tr><td colspan=\"6\" class=\"blank_07\"></td></tr>\\n\\n\\t\\n\\t\\t\\t\\t\\t<tr>\\n\\t\\t\\t\\t\\t\\t<td class=\"date\">2020.07.24</td>\\n\\t\\t\\t\\t\\t\\t<td class=\"number_1\">290.66</td>\\n\\t\\t\\t\\t\\t\\t<td class=\"rate_down\" style=\"padding-right:35px;\">\\n\\t\\t\\t\\t<img src=\"https://ssl.pstatic.net/imgstock/images/images4/ico_down.gif\" width=\"7\" height=\"6\" style=\"margin-right:4px;\" alt=\"\\xc7\\xcf\\xb6\\xf4\"><span class=\"tah p11 nv01\">\\n\\t\\t\\t\\t1.71\\n\\t\\t\\t\\t</span>\\n\\t\\t\\t</td>\\n\\t\\t\\t\\t\\t\\t<td class=\"number_1\">\\n\\t\\t\\t\\t<span class=\"tah p11 nv01\">\\n\\t\\t\\t\\t-0.58%\\n\\t\\t\\t\\t</span>\\n\\t\\t\\t</td>\\n\\t\\t\\t\\t\\t\\t<td class=\"number_1\" style=\"padding-right:40px;\">216,209</td>\\n\\t\\t\\t\\t\\t\\t<td class=\"number_1\" style=\"padding-right:30px;\">9,899,343</td>\\n\\t\\t\\t\\t\\t</tr>\\n\\t\\t\\n\\t\\t\\t\\n\\t\\t\\t\\t\\n\\t\\t\\t\\t\\t<tr>\\n\\t\\t\\t\\t\\t\\t<td class=\"date\">2020.07.23</td>\\n\\t\\t\\t\\t\\t\\t<td class=\"number_1\">292.37</td>\\n\\t\\t\\t\\t\\t\\t<td class=\"rate_down\" style=\"padding-right:35px;\">\\n\\t\\t\\t\\t<img src=\"https://ssl.pstatic.net/imgstock/images/images4/ico_down.gif\" width=\"7\" height=\"6\" style=\"margin-right:4px;\" alt=\"\\xc7\\xcf\\xb6\\xf4\"><span class=\"tah p11 nv01\">\\n\\t\\t\\t\\t1.67\\n\\t\\t\\t\\t</span>\\n\\t\\t\\t</td>\\n\\t\\t\\t\\t\\t\\t<td class=\"number_1\">\\n\\t\\t\\t\\t<span class=\"tah p11 nv01\">\\n\\t\\t\\t\\t-0.57%\\n\\t\\t\\t\\t</span>\\n\\t\\t\\t</td>\\n\\t\\t\\t\\t\\t\\t<td class=\"number_1\" style=\"padding-right:40px;\">250,981</td>\\n\\t\\t\\t\\t\\t\\t<td class=\"number_1\" style=\"padding-right:30px;\">11,127,156</td>\\n\\t\\t\\t\\t\\t</tr>\\n\\t\\t\\t\\t\\n\\t\\t\\t\\t\\n\\t\\t\\t\\n\\t\\t\\t\\n\\t\\t\\t\\n\\t\\t\\t\\n\\t\\t\\t\\t\\n\\t\\t\\t\\n\\t\\t\\t\\n\\t\\t\\n\\t\\t\\t\\n\\t\\t\\t\\t\\n\\t\\t\\t\\t\\t<tr>\\n\\t\\t\\t\\t\\t\\t<td class=\"date\">2020.07.22</td>\\n\\t\\t\\t\\t\\t\\t<td class=\"number_1\">294.04</td>\\n\\t\\t\\t\\t\\t\\t<td class=\"rate_down\" style=\"padding-right:35px;\">\\n\\t\\t\\t\\t<img src=\"https://ssl.pstatic.net/imgstock/images/images4/ico_down.gif\" width=\"7\" height=\"6\" style=\"margin-right:4px;\" alt=\"\\xc7\\xcf\\xb6\\xf4\"><span class=\"tah p11 nv01\">\\n\\t\\t\\t\\t1.12\\n\\t\\t\\t\\t</span>\\n\\t\\t\\t</td>\\n\\t\\t\\t\\t\\t\\t<td class=\"number_1\">\\n\\t\\t\\t\\t<span class=\"tah p11 nv01\">\\n\\t\\t\\t\\t-0.38%\\n\\t\\t\\t\\t</span>\\n\\t\\t\\t</td>\\n\\t\\t\\t\\t\\t\\t<td class=\"number_1\" style=\"padding-right:40px;\">327,318</td>\\n\\t\\t\\t\\t\\t\\t<td class=\"number_1\" style=\"padding-right:30px;\">10,214,872</td>\\n\\t\\t\\t\\t\\t</tr>\\n\\t\\t\\t\\t\\n\\t\\t\\t\\t\\n\\t\\t\\t\\n\\t\\t\\t\\n\\t\\t\\t\\n\\t\\t\\t\\n\\t\\t\\t\\t\\n\\t\\t\\t\\t\\t<tr><td colspan=\"6\" class=\"blank_08\"></td></tr>\\n\\t\\t\\t\\t\\t<tr><td colspan=\"6\" class=\"division_line\"></td></tr>\\n\\t\\t\\t\\t\\t<tr><td colspan=\"6\" class=\"blank_08\"></td></tr>\\n\\t\\t\\t\\t\\t<tr>\\n\\t\\t\\t\\t\\n\\t\\t\\t\\n\\t\\t\\t\\n\\t\\t\\n\\t\\t\\t\\n\\t\\t\\t\\t\\n\\t\\t\\t\\t\\t<tr>\\n\\t\\t\\t\\t\\t\\t<td class=\"date\">2020.07.21</td>\\n\\t\\t\\t\\t\\t\\t<td class=\"number_1\">295.16</td>\\n\\t\\t\\t\\t\\t\\t<td class=\"rate_down\" style=\"padding-right:35px;\">\\n\\t\\t\\t\\t<img src=\"https://ssl.pstatic.net/imgstock/images/images4/ico_up.gif\" width=\"7\" height=\"6\" style=\"margin-right:4px;\" alt=\"\\xbb\\xf3\\xbd\\xc2\"><span class=\"tah p11 red02\">\\n\\t\\t\\t\\t4.35\\n\\t\\t\\t\\t</span>\\n\\t\\t\\t</td>\\n\\t\\t\\t\\t\\t\\t<td class=\"number_1\">\\n\\t\\t\\t\\t<span class=\"tah p11 red01\">\\n\\t\\t\\t\\t+1.50%\\n\\t\\t\\t\\t</span>\\n\\t\\t\\t</td>\\n\\t\\t\\t\\t\\t\\t<td class=\"number_1\" style=\"padding-right:40px;\">366,994</td>\\n\\t\\t\\t\\t\\t\\t<td class=\"number_1\" style=\"padding-right:30px;\">11,478,894</td>\\n\\t\\t\\t\\t\\t</tr>\\n\\t\\t\\t\\t\\n\\t\\t\\t\\t\\n\\t\\t\\t\\n\\t\\t\\t\\n\\t\\t\\t\\n\\t\\t\\t\\n\\t\\t\\t\\t\\n\\t\\t\\t\\n\\t\\t\\t\\n\\t\\t\\n\\t\\t\\t\\n\\t\\t\\t\\t\\n\\t\\t\\t\\t\\t<tr>\\n\\t\\t\\t\\t\\t\\t<td class=\"date\">2020.07.20</td>\\n\\t\\t\\t\\t\\t\\t<td class=\"number_1\">290.81</td>\\n\\t\\t\\t\\t\\t\\t<td class=\"rate_down\" style=\"padding-right:35px;\">\\n\\t\\t\\t\\t<img src=\"https://ssl.pstatic.net/imgstock/images/images4/ico_down.gif\" width=\"7\" height=\"6\" style=\"margin-right:4px;\" alt=\"\\xc7\\xcf\\xb6\\xf4\"><span class=\"tah p11 nv01\">\\n\\t\\t\\t\\t0.76\\n\\t\\t\\t\\t</span>\\n\\t\\t\\t</td>\\n\\t\\t\\t\\t\\t\\t<td class=\"number_1\">\\n\\t\\t\\t\\t<span class=\"tah p11 nv01\">\\n\\t\\t\\t\\t-0.26%\\n\\t\\t\\t\\t</span>\\n\\t\\t\\t</td>\\n\\t\\t\\t\\t\\t\\t<td class=\"number_1\" style=\"padding-right:40px;\">161,819</td>\\n\\t\\t\\t\\t\\t\\t<td class=\"number_1\" style=\"padding-right:30px;\">8,011,400</td>\\n\\t\\t\\t\\t\\t</tr>\\n\\t\\t\\t\\t\\n\\t\\t\\t\\t\\n\\t\\t\\t\\n\\t\\t\\t\\n\\t\\t\\t\\n\\t\\t\\t\\n\\t\\t\\t\\t\\n\\t\\t\\t\\n\\t\\t\\t\\n\\t\\t\\n\\t\\t\\t\\n\\t\\t\\t\\t\\n\\t\\t\\t\\t\\t<tr>\\n\\t\\t\\t\\t\\t\\t<td class=\"date\">2020.07.17</td>\\n\\t\\t\\t\\t\\t\\t<td class=\"number_1\">291.57</td>\\n\\t\\t\\t\\t\\t\\t<td class=\"rate_down\" style=\"padding-right:35px;\">\\n\\t\\t\\t\\t<img src=\"https://ssl.pstatic.net/imgstock/images/images4/ico_up.gif\" width=\"7\" height=\"6\" style=\"margin-right:4px;\" alt=\"\\xbb\\xf3\\xbd\\xc2\"><span class=\"tah p11 red02\">\\n\\t\\t\\t\\t2.32\\n\\t\\t\\t\\t</span>\\n\\t\\t\\t</td>\\n\\t\\t\\t\\t\\t\\t<td class=\"number_1\">\\n\\t\\t\\t\\t<span class=\"tah p11 red01\">\\n\\t\\t\\t\\t+0.80%\\n\\t\\t\\t\\t</span>\\n\\t\\t\\t</td>\\n\\t\\t\\t\\t\\t\\t<td class=\"number_1\" style=\"padding-right:40px;\">118,643</td>\\n\\t\\t\\t\\t\\t\\t<td class=\"number_1\" style=\"padding-right:30px;\">6,363,758</td>\\n\\t\\t\\t\\t\\t</tr>\\n\\t\\t\\t\\t\\n\\t\\t\\t\\t\\n\\t\\t\\t\\n\\t\\t\\t\\n\\t\\t\\t\\n\\t\\t\\t\\n\\t\\t\\t\\t\\n\\t\\t\\t\\n\\t\\t\\t\\n\\t\\t\\n\\t\\t\\t\\n\\t\\n\\t\\n\\t\\n\\t\\n\\n\\t\\t\\t\\t\\t<tr><td colspan=\"6\" class=\"blank_09\"></td></tr>\\n\\t\\t\\t\\t\\t<tr><td colspan=\"6\" class=\"division_line\"></td></tr>\\n\\t\\t\\t\\t\\t</table>\\n\\t\\t\\t\\t<!--- \\xc6\\xe4\\xc0\\xcc\\xc1\\xf6 \\xb3\\xd7\\xba\\xf1\\xb0\\xd4\\xc0\\xcc\\xbc\\xc7 \\xbd\\xc3\\xc0\\xdb--->\\n\\t\\t\\t\\t<table summary=\"\\xc6\\xe4\\xc0\\xcc\\xc1\\xf6 \\xb3\\xd7\\xba\\xf1\\xb0\\xd4\\xc0\\xcc\\xbc\\xc7 \\xb8\\xae\\xbd\\xba\\xc6\\xae\" class=\"Nnavi\" align=\"center\">\\n\\t\\t\\t\\t<caption>\\xc6\\xe4\\xc0\\xcc\\xc1\\xf6 \\xb3\\xd7\\xba\\xf1\\xb0\\xd4\\xc0\\xcc\\xbc\\xc7</caption>\\n\\t\\t\\t\\t<tr>\\t\\t\\n\\t\\t\\t\\n\\t\\t\\t\\t\\n                \\n                <td class=\"on\">\\n\\t\\t\\t\\t<a href=\"/sise/sise_index_day.nhn?code=KPI200&amp;page=1\"  >1</a>\\n\\t\\t\\t\\t</td>\\n<td>\\n\\t\\t\\t\\t<a href=\"/sise/sise_index_day.nhn?code=KPI200&amp;page=2\"  >2</a>\\n\\t\\t\\t\\t</td>\\n<td>\\n\\t\\t\\t\\t<a href=\"/sise/sise_index_day.nhn?code=KPI200&amp;page=3\"  >3</a>\\n\\t\\t\\t\\t</td>\\n<td>\\n\\t\\t\\t\\t<a href=\"/sise/sise_index_day.nhn?code=KPI200&amp;page=4\"  >4</a>\\n\\t\\t\\t\\t</td>\\n<td>\\n\\t\\t\\t\\t<a href=\"/sise/sise_index_day.nhn?code=KPI200&amp;page=5\"  >5</a>\\n\\t\\t\\t\\t</td>\\n<td>\\n\\t\\t\\t\\t<a href=\"/sise/sise_index_day.nhn?code=KPI200&amp;page=6\"  >6</a>\\n\\t\\t\\t\\t</td>\\n<td>\\n\\t\\t\\t\\t<a href=\"/sise/sise_index_day.nhn?code=KPI200&amp;page=7\"  >7</a>\\n\\t\\t\\t\\t</td>\\n<td>\\n\\t\\t\\t\\t<a href=\"/sise/sise_index_day.nhn?code=KPI200&amp;page=8\"  >8</a>\\n\\t\\t\\t\\t</td>\\n<td>\\n\\t\\t\\t\\t<a href=\"/sise/sise_index_day.nhn?code=KPI200&amp;page=9\"  >9</a>\\n\\t\\t\\t\\t</td>\\n<td>\\n\\t\\t\\t\\t<a href=\"/sise/sise_index_day.nhn?code=KPI200&amp;page=10\"  >10</a>\\n\\t\\t\\t\\t</td>\\n\\n                <td class=\"pgR\">\\n\\t\\t\\t\\t<a href=\"/sise/sise_index_day.nhn?code=KPI200&amp;page=11\"  >\\n\\t\\t\\t\\t\\xb4\\xd9\\xc0\\xbd<img src=\"https://ssl.pstatic.net/static/n/cmn/bu_pgarR.gif\" width=\"3\" height=\"5\" alt=\"\" border=\"0\">\\n\\t\\t\\t\\t</a>\\n\\t\\t\\t\\t</td>\\n\\n                <td class=\"pgRR\">\\n\\t\\t\\t\\t<a href=\"/sise/sise_index_day.nhn?code=KPI200&amp;page=600\"  >\\xb8\\xc7\\xb5\\xda\\n\\t\\t\\t\\t<img src=\"https://ssl.pstatic.net/static/n/cmn/bu_pgarRR.gif\" width=\"8\" height=\"5\" alt=\"\" border=\"0\">\\n\\t\\t\\t\\t</a>\\n\\t\\t\\t\\t</td>\\n\\n            \\n\\t\\t\\t\\t</tr>\\n\\t\\t\\t\\t</table>\\n\\t\\t\\t\\t<!--- \\xc6\\xe4\\xc0\\xcc\\xc1\\xf6 \\xb3\\xd7\\xba\\xf1\\xb0\\xd4\\xc0\\xcc\\xbc\\xc7 \\xb3\\xa1--->\\n\\t\\t\\t\\t</div>\\n\\t\\t\\t\\t<!-- //\\xc0\\xcf\\xba\\xb0\\xbd\\xc3\\xbc\\xbc -->\\n\\t\\t\\t\\t\\n<script type=\"text/javascript\">\\n    ;(function(){\\n        var eventType = \"onpageshow\" in window ? \"pageshow\" : \"load\";\\n        jindo.$Fn(function(){\\n            lcs_do();\\n        }).attach(window, eventType);\\n    })();\\n</script>\\n\\n</body>\\n</html>'"
      ]
     },
     "execution_count": 12,
     "metadata": {},
     "output_type": "execute_result"
    }
   ],
   "source": [
    "from urllib.request import urlopen\n",
    "source = urlopen(naver_index).read()\n",
    "source"
   ]
  },
  {
   "cell_type": "code",
   "execution_count": 13,
   "metadata": {},
   "outputs": [],
   "source": [
    "import bs4"
   ]
  },
  {
   "cell_type": "code",
   "execution_count": 14,
   "metadata": {},
   "outputs": [],
   "source": [
    "source = bs4.BeautifulSoup(source, 'lxml')"
   ]
  },
  {
   "cell_type": "code",
   "execution_count": 15,
   "metadata": {},
   "outputs": [
    {
     "name": "stdout",
     "output_type": "stream",
     "text": [
      "<html lang=\"ko\">\n",
      " <head>\n",
      "  <meta content=\"text/html; charset=utf-8\" http-equiv=\"Content-Type\"/>\n",
      "  <title>\n",
      "   네이버 금융\n",
      "  </title>\n",
      "  <link href=\"/css/newstock.css?20200720195029\" rel=\"stylesheet\" type=\"text/css\"/>\n",
      "  <link href=\"/css/common.css?20200720195029\" rel=\"stylesheet\" type=\"text/css\"/>\n",
      "  <link href=\"/css/layout.css?20200720195029\" rel=\"stylesheet\" type=\"text/css\"/>\n",
      "  <link href=\"/css/main.css?20200720195029\" rel=\"stylesheet\" type=\"text/css\"/>\n",
      "  <link href=\"/css/newstock2.css?20200720195029\" rel=\"stylesheet\" type=\"text/css\"/>\n",
      "  <link href=\"/css/newstock3.css?20200720195029\" rel=\"stylesheet\" type=\"text/css\"/>\n",
      "  <link href=\"/css/world.css?20200720195029\" rel=\"stylesheet\" type=\"text/css\"/>\n",
      " </head>\n",
      " <body>\n",
      "  <script src=\"/js/jindo.min.ns.1.5.3.euckr.js?20200720195029\" type=\"text/javascript\">\n",
      "  </script>\n",
      "  <script src=\"/js/lcslog.js?20200720195029\" type=\"text/javascript\">\n",
      "  </script>\n",
      "  <!-- 일별시세 -->\n",
      "  <div class=\"box_type_m\">\n",
      "   <h4 class=\"top_tlt\" style=\"text-align:left;\">\n",
      "    <em>\n",
      "     일별\n",
      "    </em>\n",
      "    시세\n",
      "   </h4>\n",
      "   <table cellpadding=\"0\" cellspacing=\"0\" class=\"type_1\" summary=\"일별 시세표:날짜에 따른 체결가 전일비 등락률 거래량 거래대금 정보를 제공합니다.\">\n",
      "    <caption>\n",
      "     일별시세\n",
      "    </caption>\n",
      "    <col width=\"15%\"/>\n",
      "    <col width=\"14%\"/>\n",
      "    <col width=\"18%\"/>\n",
      "    <col width=\"14%\"/>\n",
      "    <col width=\"*\"/>\n",
      "    <col width=\"18%\"/>\n",
      "    <tr>\n",
      "     <th>\n",
      "      날짜\n",
      "     </th>\n",
      "     <th>\n",
      "      체결가\n",
      "     </th>\n",
      "     <th>\n",
      "      전일비\n",
      "     </th>\n",
      "     <th>\n",
      "      등락률\n",
      "     </th>\n",
      "     <th>\n",
      "      거래량\n",
      "      <span class=\"add_txt\">\n",
      "       (천주)\n",
      "      </span>\n",
      "     </th>\n",
      "     <th>\n",
      "      거래대금\n",
      "      <span class=\"add_txt\">\n",
      "       (백만)\n",
      "      </span>\n",
      "     </th>\n",
      "    </tr>\n",
      "    <tr>\n",
      "     <td class=\"blank_07\" colspan=\"6\">\n",
      "     </td>\n",
      "    </tr>\n",
      "    <tr>\n",
      "     <td class=\"date\">\n",
      "      2020.07.24\n",
      "     </td>\n",
      "     <td class=\"number_1\">\n",
      "      290.66\n",
      "     </td>\n",
      "     <td class=\"rate_down\" style=\"padding-right:35px;\">\n",
      "      <img alt=\"하락\" height=\"6\" src=\"https://ssl.pstatic.net/imgstock/images/images4/ico_down.gif\" style=\"margin-right:4px;\" width=\"7\"/>\n",
      "      <span class=\"tah p11 nv01\">\n",
      "       1.71\n",
      "      </span>\n",
      "     </td>\n",
      "     <td class=\"number_1\">\n",
      "      <span class=\"tah p11 nv01\">\n",
      "       -0.58%\n",
      "      </span>\n",
      "     </td>\n",
      "     <td class=\"number_1\" style=\"padding-right:40px;\">\n",
      "      216,209\n",
      "     </td>\n",
      "     <td class=\"number_1\" style=\"padding-right:30px;\">\n",
      "      9,899,343\n",
      "     </td>\n",
      "    </tr>\n",
      "    <tr>\n",
      "     <td class=\"date\">\n",
      "      2020.07.23\n",
      "     </td>\n",
      "     <td class=\"number_1\">\n",
      "      292.37\n",
      "     </td>\n",
      "     <td class=\"rate_down\" style=\"padding-right:35px;\">\n",
      "      <img alt=\"하락\" height=\"6\" src=\"https://ssl.pstatic.net/imgstock/images/images4/ico_down.gif\" style=\"margin-right:4px;\" width=\"7\"/>\n",
      "      <span class=\"tah p11 nv01\">\n",
      "       1.67\n",
      "      </span>\n",
      "     </td>\n",
      "     <td class=\"number_1\">\n",
      "      <span class=\"tah p11 nv01\">\n",
      "       -0.57%\n",
      "      </span>\n",
      "     </td>\n",
      "     <td class=\"number_1\" style=\"padding-right:40px;\">\n",
      "      250,981\n",
      "     </td>\n",
      "     <td class=\"number_1\" style=\"padding-right:30px;\">\n",
      "      11,127,156\n",
      "     </td>\n",
      "    </tr>\n",
      "    <tr>\n",
      "     <td class=\"date\">\n",
      "      2020.07.22\n",
      "     </td>\n",
      "     <td class=\"number_1\">\n",
      "      294.04\n",
      "     </td>\n",
      "     <td class=\"rate_down\" style=\"padding-right:35px;\">\n",
      "      <img alt=\"하락\" height=\"6\" src=\"https://ssl.pstatic.net/imgstock/images/images4/ico_down.gif\" style=\"margin-right:4px;\" width=\"7\"/>\n",
      "      <span class=\"tah p11 nv01\">\n",
      "       1.12\n",
      "      </span>\n",
      "     </td>\n",
      "     <td class=\"number_1\">\n",
      "      <span class=\"tah p11 nv01\">\n",
      "       -0.38%\n",
      "      </span>\n",
      "     </td>\n",
      "     <td class=\"number_1\" style=\"padding-right:40px;\">\n",
      "      327,318\n",
      "     </td>\n",
      "     <td class=\"number_1\" style=\"padding-right:30px;\">\n",
      "      10,214,872\n",
      "     </td>\n",
      "    </tr>\n",
      "    <tr>\n",
      "     <td class=\"blank_08\" colspan=\"6\">\n",
      "     </td>\n",
      "    </tr>\n",
      "    <tr>\n",
      "     <td class=\"division_line\" colspan=\"6\">\n",
      "     </td>\n",
      "    </tr>\n",
      "    <tr>\n",
      "     <td class=\"blank_08\" colspan=\"6\">\n",
      "     </td>\n",
      "    </tr>\n",
      "    <tr>\n",
      "    </tr>\n",
      "    <tr>\n",
      "     <td class=\"date\">\n",
      "      2020.07.21\n",
      "     </td>\n",
      "     <td class=\"number_1\">\n",
      "      295.16\n",
      "     </td>\n",
      "     <td class=\"rate_down\" style=\"padding-right:35px;\">\n",
      "      <img alt=\"상승\" height=\"6\" src=\"https://ssl.pstatic.net/imgstock/images/images4/ico_up.gif\" style=\"margin-right:4px;\" width=\"7\"/>\n",
      "      <span class=\"tah p11 red02\">\n",
      "       4.35\n",
      "      </span>\n",
      "     </td>\n",
      "     <td class=\"number_1\">\n",
      "      <span class=\"tah p11 red01\">\n",
      "       +1.50%\n",
      "      </span>\n",
      "     </td>\n",
      "     <td class=\"number_1\" style=\"padding-right:40px;\">\n",
      "      366,994\n",
      "     </td>\n",
      "     <td class=\"number_1\" style=\"padding-right:30px;\">\n",
      "      11,478,894\n",
      "     </td>\n",
      "    </tr>\n",
      "    <tr>\n",
      "     <td class=\"date\">\n",
      "      2020.07.20\n",
      "     </td>\n",
      "     <td class=\"number_1\">\n",
      "      290.81\n",
      "     </td>\n",
      "     <td class=\"rate_down\" style=\"padding-right:35px;\">\n",
      "      <img alt=\"하락\" height=\"6\" src=\"https://ssl.pstatic.net/imgstock/images/images4/ico_down.gif\" style=\"margin-right:4px;\" width=\"7\"/>\n",
      "      <span class=\"tah p11 nv01\">\n",
      "       0.76\n",
      "      </span>\n",
      "     </td>\n",
      "     <td class=\"number_1\">\n",
      "      <span class=\"tah p11 nv01\">\n",
      "       -0.26%\n",
      "      </span>\n",
      "     </td>\n",
      "     <td class=\"number_1\" style=\"padding-right:40px;\">\n",
      "      161,819\n",
      "     </td>\n",
      "     <td class=\"number_1\" style=\"padding-right:30px;\">\n",
      "      8,011,400\n",
      "     </td>\n",
      "    </tr>\n",
      "    <tr>\n",
      "     <td class=\"date\">\n",
      "      2020.07.17\n",
      "     </td>\n",
      "     <td class=\"number_1\">\n",
      "      291.57\n",
      "     </td>\n",
      "     <td class=\"rate_down\" style=\"padding-right:35px;\">\n",
      "      <img alt=\"상승\" height=\"6\" src=\"https://ssl.pstatic.net/imgstock/images/images4/ico_up.gif\" style=\"margin-right:4px;\" width=\"7\"/>\n",
      "      <span class=\"tah p11 red02\">\n",
      "       2.32\n",
      "      </span>\n",
      "     </td>\n",
      "     <td class=\"number_1\">\n",
      "      <span class=\"tah p11 red01\">\n",
      "       +0.80%\n",
      "      </span>\n",
      "     </td>\n",
      "     <td class=\"number_1\" style=\"padding-right:40px;\">\n",
      "      118,643\n",
      "     </td>\n",
      "     <td class=\"number_1\" style=\"padding-right:30px;\">\n",
      "      6,363,758\n",
      "     </td>\n",
      "    </tr>\n",
      "    <tr>\n",
      "     <td class=\"blank_09\" colspan=\"6\">\n",
      "     </td>\n",
      "    </tr>\n",
      "    <tr>\n",
      "     <td class=\"division_line\" colspan=\"6\">\n",
      "     </td>\n",
      "    </tr>\n",
      "   </table>\n",
      "   <!--- 페이지 네비게이션 시작--->\n",
      "   <table align=\"center\" class=\"Nnavi\" summary=\"페이지 네비게이션 리스트\">\n",
      "    <caption>\n",
      "     페이지 네비게이션\n",
      "    </caption>\n",
      "    <tr>\n",
      "     <td class=\"on\">\n",
      "      <a href=\"/sise/sise_index_day.nhn?code=KPI200&amp;page=1\">\n",
      "       1\n",
      "      </a>\n",
      "     </td>\n",
      "     <td>\n",
      "      <a href=\"/sise/sise_index_day.nhn?code=KPI200&amp;page=2\">\n",
      "       2\n",
      "      </a>\n",
      "     </td>\n",
      "     <td>\n",
      "      <a href=\"/sise/sise_index_day.nhn?code=KPI200&amp;page=3\">\n",
      "       3\n",
      "      </a>\n",
      "     </td>\n",
      "     <td>\n",
      "      <a href=\"/sise/sise_index_day.nhn?code=KPI200&amp;page=4\">\n",
      "       4\n",
      "      </a>\n",
      "     </td>\n",
      "     <td>\n",
      "      <a href=\"/sise/sise_index_day.nhn?code=KPI200&amp;page=5\">\n",
      "       5\n",
      "      </a>\n",
      "     </td>\n",
      "     <td>\n",
      "      <a href=\"/sise/sise_index_day.nhn?code=KPI200&amp;page=6\">\n",
      "       6\n",
      "      </a>\n",
      "     </td>\n",
      "     <td>\n",
      "      <a href=\"/sise/sise_index_day.nhn?code=KPI200&amp;page=7\">\n",
      "       7\n",
      "      </a>\n",
      "     </td>\n",
      "     <td>\n",
      "      <a href=\"/sise/sise_index_day.nhn?code=KPI200&amp;page=8\">\n",
      "       8\n",
      "      </a>\n",
      "     </td>\n",
      "     <td>\n",
      "      <a href=\"/sise/sise_index_day.nhn?code=KPI200&amp;page=9\">\n",
      "       9\n",
      "      </a>\n",
      "     </td>\n",
      "     <td>\n",
      "      <a href=\"/sise/sise_index_day.nhn?code=KPI200&amp;page=10\">\n",
      "       10\n",
      "      </a>\n",
      "     </td>\n",
      "     <td class=\"pgR\">\n",
      "      <a href=\"/sise/sise_index_day.nhn?code=KPI200&amp;page=11\">\n",
      "       다음\n",
      "       <img alt=\"\" border=\"0\" height=\"5\" src=\"https://ssl.pstatic.net/static/n/cmn/bu_pgarR.gif\" width=\"3\"/>\n",
      "      </a>\n",
      "     </td>\n",
      "     <td class=\"pgRR\">\n",
      "      <a href=\"/sise/sise_index_day.nhn?code=KPI200&amp;page=600\">\n",
      "       맨뒤\n",
      "       <img alt=\"\" border=\"0\" height=\"5\" src=\"https://ssl.pstatic.net/static/n/cmn/bu_pgarRR.gif\" width=\"8\"/>\n",
      "      </a>\n",
      "     </td>\n",
      "    </tr>\n",
      "   </table>\n",
      "   <!--- 페이지 네비게이션 끝--->\n",
      "  </div>\n",
      "  <!-- //일별시세 -->\n",
      "  <script type=\"text/javascript\">\n",
      "   ;(function(){\n",
      "        var eventType = \"onpageshow\" in window ? \"pageshow\" : \"load\";\n",
      "        jindo.$Fn(function(){\n",
      "            lcs_do();\n",
      "        }).attach(window, eventType);\n",
      "    })();\n",
      "  </script>\n",
      " </body>\n",
      "</html>\n"
     ]
    }
   ],
   "source": [
    "print(source.prettify())"
   ]
  },
  {
   "cell_type": "markdown",
   "metadata": {},
   "source": [
    "## 날짜 추출하기"
   ]
  },
  {
   "attachments": {
    "image.png": {
     "image/png": "[encoded data removed]"
    }
   },
   "cell_type": "markdown",
   "metadata": {},
   "source": [
    "![image.png](attachment:image.png)"
   ]
  },
  {
   "cell_type": "code",
   "execution_count": 16,
   "metadata": {},
   "outputs": [
    {
     "data": {
      "text/plain": [
       "54"
      ]
     },
     "execution_count": 16,
     "metadata": {},
     "output_type": "execute_result"
    }
   ],
   "source": [
    "td = source.find_all('td')\n",
    "len(td)"
   ]
  },
  {
   "cell_type": "code",
   "execution_count": 17,
   "metadata": {},
   "outputs": [],
   "source": [
    "# 날짜 xpath : /html/body/div/table[1]/tbody/tr[3]/td[1]"
   ]
  },
  {
   "cell_type": "markdown",
   "metadata": {},
   "source": [
    "- 주의 : xpath는 숫자를 1부터 카운트 그러므로 -1 해줘야됨"
   ]
  },
  {
   "cell_type": "code",
   "execution_count": 18,
   "metadata": {},
   "outputs": [
    {
     "data": {
      "text/plain": [
       "<td class=\"date\">2020.07.24</td>"
      ]
     },
     "execution_count": 18,
     "metadata": {},
     "output_type": "execute_result"
    }
   ],
   "source": [
    "source.find_all('table')[0].find_all('tr')[2].find_all('td')[0]"
   ]
  },
  {
   "cell_type": "code",
   "execution_count": 19,
   "metadata": {},
   "outputs": [],
   "source": [
    "d = source.find_all('td',class_='date')[0].text"
   ]
  },
  {
   "cell_type": "code",
   "execution_count": 20,
   "metadata": {},
   "outputs": [
    {
     "data": {
      "text/plain": [
       "'2020.07.24'"
      ]
     },
     "execution_count": 20,
     "metadata": {},
     "output_type": "execute_result"
    }
   ],
   "source": [
    "d"
   ]
  },
  {
   "cell_type": "markdown",
   "metadata": {},
   "source": [
    "## date 타입 변경"
   ]
  },
  {
   "cell_type": "code",
   "execution_count": 21,
   "metadata": {},
   "outputs": [],
   "source": [
    "import datetime as dt"
   ]
  },
  {
   "cell_type": "code",
   "execution_count": 22,
   "metadata": {},
   "outputs": [
    {
     "data": {
      "text/plain": [
       "['2020', '07', '24']"
      ]
     },
     "execution_count": 22,
     "metadata": {},
     "output_type": "execute_result"
    }
   ],
   "source": [
    "full_date = d.split('.')\n",
    "full_date"
   ]
  },
  {
   "cell_type": "code",
   "execution_count": 23,
   "metadata": {},
   "outputs": [
    {
     "data": {
      "text/plain": [
       "datetime.date(2020, 7, 24)"
      ]
     },
     "execution_count": 23,
     "metadata": {},
     "output_type": "execute_result"
    }
   ],
   "source": [
    "yyyy = int(full_date[0])\n",
    "mm = int(full_date[1])\n",
    "dd = int(full_date[2])\n",
    "this_date = dt.date(yyyy,mm,dd)\n",
    "this_date"
   ]
  },
  {
   "cell_type": "code",
   "execution_count": 25,
   "metadata": {},
   "outputs": [],
   "source": [
    "def date_format(d):\n",
    "    d = str(d).replace('-','.')\n",
    "    full_date = d.split('.')\n",
    "    yyyy = int(full_date[0])\n",
    "    mm = int(full_date[1])\n",
    "    dd = int(full_date[2])\n",
    "    this_date = dt.date(yyyy,mm,dd)\n",
    "    \n",
    "    return this_date"
   ]
  },
  {
   "cell_type": "code",
   "execution_count": 26,
   "metadata": {},
   "outputs": [
    {
     "data": {
      "text/plain": [
       "datetime.date(2020, 7, 24)"
      ]
     },
     "execution_count": 26,
     "metadata": {},
     "output_type": "execute_result"
    }
   ],
   "source": [
    "date_format(d)"
   ]
  },
  {
   "cell_type": "markdown",
   "metadata": {},
   "source": [
    "## 지수 추출하기"
   ]
  },
  {
   "cell_type": "code",
   "execution_count": 27,
   "metadata": {},
   "outputs": [],
   "source": [
    "# xpath : /html/body/div/table[1]/tbody/tr[4]/td[2]"
   ]
  },
  {
   "cell_type": "code",
   "execution_count": 46,
   "metadata": {},
   "outputs": [],
   "source": [
    "this_close = source.find_all('table')[0].find_all('tr')[2].find_all('td')[1]"
   ]
  },
  {
   "cell_type": "code",
   "execution_count": 47,
   "metadata": {},
   "outputs": [
    {
     "data": {
      "text/plain": [
       "'290.66'"
      ]
     },
     "execution_count": 47,
     "metadata": {},
     "output_type": "execute_result"
    }
   ],
   "source": [
    "this_close.text"
   ]
  },
  {
   "cell_type": "code",
   "execution_count": 41,
   "metadata": {},
   "outputs": [
    {
     "data": {
      "text/plain": [
       "'290.66'"
      ]
     },
     "execution_count": 41,
     "metadata": {},
     "output_type": "execute_result"
    }
   ],
   "source": [
    "p = source.find_all('td',class_ = 'number_1')[0]\n",
    "p.text"
   ]
  },
  {
   "cell_type": "markdown",
   "metadata": {},
   "source": [
    "## 모든 날짜와 가격 불러오기"
   ]
  },
  {
   "cell_type": "code",
   "execution_count": 48,
   "metadata": {},
   "outputs": [],
   "source": [
    "dates = source.find_all('td', class_ ='date')\n",
    "prices = source.find_all('td', class_ ='number_1')"
   ]
  },
  {
   "cell_type": "code",
   "execution_count": 51,
   "metadata": {},
   "outputs": [
    {
     "name": "stdout",
     "output_type": "stream",
     "text": [
      "6 24\n"
     ]
    }
   ],
   "source": [
    "print(len(dates),len(prices))"
   ]
  },
  {
   "cell_type": "code",
   "execution_count": null,
   "metadata": {},
   "outputs": [],
   "source": []
  }
 ],
 "metadata": {
  "kernelspec": {
   "display_name": "Python 3",
   "language": "python",
   "name": "python3"
  },
  "language_info": {
   "codemirror_mode": {
    "name": "ipython",
    "version": 3
   },
   "file_extension": ".py",
   "mimetype": "text/x-python",
   "name": "python",
   "nbconvert_exporter": "python",
   "pygments_lexer": "ipython3",
   "version": "3.6.5"
  }
 },
 "nbformat": 4,
 "nbformat_minor": 2
}
