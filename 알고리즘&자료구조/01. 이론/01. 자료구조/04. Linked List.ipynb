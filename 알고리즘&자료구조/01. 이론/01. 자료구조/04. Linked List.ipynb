{
 "cells": [
  {
   "cell_type": "markdown",
   "metadata": {},
   "source": [
    "# 대표적인 데이터 구조: 링크드 리스트"
   ]
  },
  {
   "cell_type": "markdown",
   "metadata": {},
   "source": [
    "## 1. 링크스 리스트 구조"
   ]
  },
  {
   "cell_type": "markdown",
   "metadata": {},
   "source": [
    "- 연결 리스트\n",
    "- 배열은 순차적으로 연겨로딘 공간에 데이터를 나열하는 데이터 구조\n",
    "- 링크드 리스트는 떨어진 곳에 존재하는 데이터를 화살표로 연결해서 관리하는 데이터 구조"
   ]
  },
  {
   "cell_type": "markdown",
   "metadata": {},
   "source": [
    "## 2. 예시"
   ]
  },
  {
   "cell_type": "code",
   "execution_count": 3,
   "metadata": {},
   "outputs": [],
   "source": [
    "class Node:\n",
    "    def __init__(self,data):\n",
    "        self.data = data\n",
    "        self.next = None"
   ]
  },
  {
   "cell_type": "code",
   "execution_count": 4,
   "metadata": {},
   "outputs": [],
   "source": [
    "class Node:\n",
    "    def __init__(self,data = None):\n",
    "        self.data = data\n",
    "        self.next = next"
   ]
  },
  {
   "cell_type": "markdown",
   "metadata": {},
   "source": [
    "### Node 와 Node 연결하기"
   ]
  },
  {
   "cell_type": "code",
   "execution_count": 5,
   "metadata": {},
   "outputs": [],
   "source": [
    "node1 = Node(1)\n",
    "node2 = Node(2)\n",
    "node1.next = node2\n",
    "head = node1"
   ]
  },
  {
   "cell_type": "markdown",
   "metadata": {},
   "source": [
    "### 링크드 리스트로 데이터 추가하기"
   ]
  },
  {
   "cell_type": "code",
   "execution_count": 6,
   "metadata": {},
   "outputs": [],
   "source": [
    "class Node:\n",
    "    def __init__(self,data,next=None):\n",
    "        self.data = data\n",
    "        self.next = next"
   ]
  },
  {
   "cell_type": "code",
   "execution_count": 7,
   "metadata": {},
   "outputs": [],
   "source": [
    "def add(data):\n",
    "    node = head\n",
    "    while node.next:\n",
    "        node = node.next\n",
    "    node.next = Node(data)"
   ]
  },
  {
   "cell_type": "code",
   "execution_count": 8,
   "metadata": {},
   "outputs": [],
   "source": [
    "node1 = Node(1)\n",
    "head = node1\n",
    "for index in range(2,10):\n",
    "    add(index)"
   ]
  },
  {
   "cell_type": "markdown",
   "metadata": {},
   "source": [
    "### 링크드 리스트 데이터 출력하기"
   ]
  },
  {
   "cell_type": "code",
   "execution_count": 9,
   "metadata": {},
   "outputs": [
    {
     "name": "stdout",
     "output_type": "stream",
     "text": [
      "1\n",
      "2\n",
      "3\n",
      "4\n",
      "5\n",
      "6\n",
      "7\n",
      "8\n",
      "9\n"
     ]
    }
   ],
   "source": [
    "node = head\n",
    "while node.next:\n",
    "    print(node.data)\n",
    "    node = node.next\n",
    "print(node.data)"
   ]
  },
  {
   "cell_type": "markdown",
   "metadata": {},
   "source": [
    "#### 노드 추가, 삭제, 조회"
   ]
  },
  {
   "cell_type": "code",
   "execution_count": 22,
   "metadata": {},
   "outputs": [],
   "source": [
    "class Node:\n",
    "    def __init__(self,prev=None,data=None):\n",
    "        self.data = data\n",
    "        self.prev = prev\n",
    "        self.next = next"
   ]
  },
  {
   "cell_type": "code",
   "execution_count": 26,
   "metadata": {},
   "outputs": [],
   "source": [
    "class Node:\n",
    "    def __init__(self, data, prev=None, next=None):\n",
    "        self.prev = prev\n",
    "        self.data = data\n",
    "        self.next = next\n",
    "\n",
    "class NodeMgmt:\n",
    "    def __init__(self, data):\n",
    "        self.head = Node(data)\n",
    "        self.tail = self.head\n",
    "\n",
    "    def insert(self, data):\n",
    "        if self.head == None:\n",
    "            self.head = Node(data)\n",
    "            self.tail = self.head\n",
    "        else:\n",
    "            node = self.head\n",
    "            while node.next:\n",
    "                node = node.next\n",
    "            new = Node(data)\n",
    "            node.next = new\n",
    "            new.prev = node\n",
    "            self.tail = new\n",
    "\n",
    "    def desc(self):\n",
    "        node = self.head\n",
    "        while node:\n",
    "            print (node.data)\n",
    "            node = node.next\n",
    "            "
   ]
  },
  {
   "cell_type": "code",
   "execution_count": 27,
   "metadata": {},
   "outputs": [],
   "source": [
    "double_linked_list = NodeMgmt(0)\n"
   ]
  },
  {
   "cell_type": "code",
   "execution_count": 29,
   "metadata": {},
   "outputs": [
    {
     "name": "stdout",
     "output_type": "stream",
     "text": [
      "0\n",
      "1\n",
      "2\n",
      "3\n",
      "4\n",
      "5\n",
      "6\n",
      "7\n",
      "8\n",
      "9\n"
     ]
    }
   ],
   "source": [
    "for data in range(1, 10):\n",
    "    double_linked_list.insert(data)\n",
    "double_linked_list.desc()"
   ]
  },
  {
   "cell_type": "markdown",
   "metadata": {},
   "source": [
    "### double linked List"
   ]
  },
  {
   "cell_type": "code",
   "execution_count": 35,
   "metadata": {},
   "outputs": [],
   "source": [
    "class Node(object):\n",
    "    def __init__(self,data):\n",
    "        self.prev = None\n",
    "        self.next = None\n",
    "        self.data = data"
   ]
  },
  {
   "cell_type": "code",
   "execution_count": 36,
   "metadata": {},
   "outputs": [],
   "source": [
    "class DoubleLinkedList(object):\n",
    "    def __init__(self):\n",
    "        self.head = None\n",
    "        \n",
    "    def add(self,node):\n",
    "        if self.head:\n",
    "            current_node = self.head\n",
    "            while current_node.next:\n",
    "                current_node = current_node.next\n",
    "            current_node.next = node\n",
    "            node.prev = current_node\n",
    "        \n",
    "        else:\n",
    "            self.head = node\n",
    "    \n",
    "    \n",
    "    def insertNodeAtIndex(self,idx,node):\n",
    "        prev_node = None\n",
    "        next_node = None\n",
    "        \n",
    "        if idx == 0:\n",
    "            if self.head:\n",
    "                next_node = self.head\n",
    "                self.head = node\n",
    "                self.head.next = next_node\n",
    "                next_node.prev = self.head\n",
    "            else:\n",
    "                self.head = node\n",
    "        \n",
    "        else:\n",
    "            current_index = 0\n",
    "            current_node = self.head\n",
    "            while current_index < idx:\n",
    "                if current_node :\n",
    "                    prev_node = current_node\n",
    "                    current_node = current_node.next\n",
    "                else:\n",
    "                    break\n",
    "                current_index = current_index + 1\n",
    "            if current_index == idx:\n",
    "                node.prev = prev_node\n",
    "                node.next = current_node\n",
    "                prev_node.next = node\n",
    "                if current_node:\n",
    "                    current_node.prev = node\n",
    "            else:\n",
    "                print(-1)\n",
    "                return (-1)\n",
    "            \n",
    "    \n",
    "    def getDataIndex(self,data):\n",
    "        current_node = self.head\n",
    "        current_index = 0\n",
    "        \n",
    "        while current_node:\n",
    "            if current_node.data == data:\n",
    "                return current_index\n",
    "            current_node = current_node.next\n",
    "            current_index = current_index + 1\n",
    "        print(-1)\n",
    "        return (-1)\n",
    "    \n",
    "    def insertNodeAtData(self,data,node):\n",
    "        index = self.getDataIndex(data)\n",
    "        if index>=0:\n",
    "            self.insertNodeAtIndex(index,node)\n",
    "        else:\n",
    "            return(-1)\n",
    "        \n",
    "    def deleteAtIndex(self,idx):\n",
    "        next_node = None\n",
    "        prev_node = None\n",
    "        current_index = 0\n",
    "        \n",
    "        if idx == 0:\n",
    "            if self.head:\n",
    "                self.head = self.head.next\n",
    "                self.head.prev = None\n",
    "                return\n",
    "            else:\n",
    "                print(-1)\n",
    "                return\n",
    "        current_node = self.head\n",
    "        \n",
    "        while current_index <idx:\n",
    "            if current_node.next:\n",
    "                prev_node = current_node\n",
    "                current_node = current_node.next\n",
    "                next_node = current_node.next\n",
    "            else:\n",
    "                break\n",
    "            current_index = current_index +1\n",
    "        if current_index == idx:\n",
    "            if next_node:\n",
    "                next_node.prev = prev_node\n",
    "            prev_node.next = next_node\n",
    "        else:\n",
    "            print(-1)\n",
    "            return -1\n",
    "        \n",
    "    def print(self):\n",
    "        current_node = self.head\n",
    "        string=''\n",
    "        prev_node = None\n",
    "        while current_node:\n",
    "            string = string + str(current_node.data)\n",
    "            if current_node.next and current_node.prev == prev_node:\n",
    "                string += '<->'\n",
    "            prev_node = current_node\n",
    "            current_node = current_node.next\n",
    "        print(string)\n",
    "          "
   ]
  },
  {
   "cell_type": "code",
   "execution_count": 45,
   "metadata": {},
   "outputs": [
    {
     "name": "stdout",
     "output_type": "stream",
     "text": [
      "1<->2<->3<->4<->6\n"
     ]
    }
   ],
   "source": [
    "dl = DoubleLinkedList()\n",
    "dl.add(Node(1))\n",
    "dl.add(Node(2))\n",
    "dl.add(Node(3))\n",
    "dl.add(Node(4))\n",
    "dl.add(Node(6))\n",
    "dl.print()"
   ]
  },
  {
   "cell_type": "code",
   "execution_count": 46,
   "metadata": {},
   "outputs": [
    {
     "name": "stdout",
     "output_type": "stream",
     "text": [
      "1<->2<->3<->4<->6<->7\n"
     ]
    }
   ],
   "source": [
    "dl.insertNodeAtIndex(5,Node(7))\n",
    "dl.print()"
   ]
  },
  {
   "cell_type": "code",
   "execution_count": 47,
   "metadata": {},
   "outputs": [
    {
     "name": "stdout",
     "output_type": "stream",
     "text": [
      "1<->2<->3<->4<->5<->6<->7\n"
     ]
    }
   ],
   "source": [
    "dl.insertNodeAtData(6,Node(5))\n",
    "dl.print()"
   ]
  },
  {
   "cell_type": "code",
   "execution_count": 48,
   "metadata": {},
   "outputs": [
    {
     "name": "stdout",
     "output_type": "stream",
     "text": [
      "1<->2<->3<->4<->5<->6\n"
     ]
    }
   ],
   "source": [
    "dl.deleteAtIndex(6)\n",
    "dl.print()"
   ]
  },
  {
   "cell_type": "markdown",
   "metadata": {},
   "source": [
    "### Circular linked list\n",
    "- 환형 연결 리스트라고 부르는 이 연결 리스트는 머리와 꼬리가 연결되어 순환되는 구조"
   ]
  },
  {
   "cell_type": "code",
   "execution_count": 59,
   "metadata": {},
   "outputs": [],
   "source": [
    "class SingleNode(object):\n",
    "    def __init__(self,data):\n",
    "        self.data = data\n",
    "        self.next = None"
   ]
  },
  {
   "cell_type": "code",
   "execution_count": 65,
   "metadata": {},
   "outputs": [],
   "source": [
    "class CircularLinkedList(object):\n",
    "    def __init__(self):\n",
    "        self.head = None\n",
    "        \n",
    "    def append(self, node):\n",
    "        if self.head:\n",
    "            current_node = self.head\n",
    "            while current_node.next != self.head:\n",
    "                current_node = current_node.next\n",
    "            current_node.next = node\n",
    "            node.next = self.head\n",
    "        else:\n",
    "            self.head = node\n",
    "            node.next = self.head\n",
    "            \n",
    "    def removeData(self,data):\n",
    "        current_node = self.head.next\n",
    "        prev_node = self.head\n",
    "        \n",
    "        if self.head.data == data:\n",
    "            while current_node != self.head:\n",
    "                prev_node = current_node\n",
    "                current_node = current_node.next\n",
    "            prev_node.next = current_node.next\n",
    "            self.head = current_node.next\n",
    "            return\n",
    "        else:\n",
    "            while current_node != self.head:\n",
    "                if current_node.data == data:\n",
    "                    prev_node.next = current_node.next\n",
    "                    return\n",
    "                prev_node = current_node\n",
    "                current_node = current_node.next\n",
    "        return -1\n",
    "\n",
    "    def removePosition(self,idx):\n",
    "        if idx == 0:\n",
    "            if self.head:\n",
    "                if self.head.next:\n",
    "                    current_node = self.head.next\n",
    "                    while current_node.next != self.head:\n",
    "                        current_node = current_node.next\n",
    "                    current_node.next = self.head.next\n",
    "                    self.head = self.head.next\n",
    "                    return\n",
    "            else:\n",
    "                self.head = None\n",
    "                return\n",
    "        else:\n",
    "            prev_node = self.head\n",
    "            current_node = self.head.next\n",
    "            current_index = 1\n",
    "            while current_node != self.head:\n",
    "                if current_index == idx:\n",
    "                    next_node = current_node.next\n",
    "                    prev_node.next = next_node\n",
    "                    return\n",
    "                prev_node = current_node\n",
    "                current_node = current_node.next\n",
    "                current_index = current_index + 1\n",
    "                \n",
    "            return -1\n",
    "    \n",
    "    def insertNodeAtIndex(self,idx,node):\n",
    "        \n",
    "        if idx == 0:\n",
    "            if self.head:\n",
    "                current_node = self.head.next\n",
    "                current_index = 1\n",
    "                while current_node.next != self.head:\n",
    "                    current_node = current_node.next\n",
    "                    current_index = current_index + 1 \n",
    "                \n",
    "                node.next = self.head\n",
    "                self.head = node\n",
    "                current_node.next = self.head\n",
    "                return\n",
    "            else:\n",
    "                self.head = node\n",
    "                self.head.next= self.head\n",
    "                return\n",
    "        current_index = 1\n",
    "        prev_node = self.head\n",
    "        current_node = self.head.next\n",
    "        \n",
    "        while current_node.next != self.head:\n",
    "            if current_index == idx:\n",
    "                prev_node.next = node\n",
    "                node.next = current_node\n",
    "                return\n",
    "        return -1\n",
    "    \n",
    "    def getDataIndex(self,data):\n",
    "        idx = 0 \n",
    "        current_node = self.head\n",
    "        \n",
    "        if current_node.data == data:\n",
    "            return idx\n",
    "        \n",
    "        idx = idx +1\n",
    "        current_node = current_node.next\n",
    "        while current_node != self.head:\n",
    "            if current_node.data == data:\n",
    "                return idx\n",
    "            current_node = current_node.next\n",
    "            idx = idx +1\n",
    "        return -1\n",
    "    \n",
    "    def insertNodeAtData(self,data,node):\n",
    "        idx = self.getDataIndex(data)\n",
    "        if idx >= 0:\n",
    "            self.insertNodeAtIndex(idx,node)\n",
    "        else:\n",
    "            return -1\n",
    "        \n",
    "    def print(self):\n",
    "        current_node = self.head\n",
    "        string = ''\n",
    "        \n",
    "        while current_node:\n",
    "            string += str(current_node.data) \n",
    "            if current_node.next:\n",
    "                string +='->'\n",
    "            if current_node.next == self.head:\n",
    "                string = '->' + string\n",
    "                break\n",
    "            current_node = current_node.next\n",
    "        print(string)\n",
    "        \n",
    "        "
   ]
  },
  {
   "cell_type": "code",
   "execution_count": 66,
   "metadata": {},
   "outputs": [],
   "source": [
    "circular =CircularLinkedList()\n",
    "circular.append(SingleNode(1))\n",
    "circular.append(SingleNode(2))\n",
    "circular.append(SingleNode(3))\n",
    "circular.append(SingleNode(4))\n",
    "circular.append(SingleNode(5))"
   ]
  },
  {
   "cell_type": "code",
   "execution_count": 67,
   "metadata": {},
   "outputs": [
    {
     "name": "stdout",
     "output_type": "stream",
     "text": [
      "->1->2->3->4->5->\n"
     ]
    }
   ],
   "source": [
    "circular.print()"
   ]
  },
  {
   "cell_type": "code",
   "execution_count": 68,
   "metadata": {},
   "outputs": [],
   "source": [
    "circular.insertNodeAtIndex(0,SingleNode(0))"
   ]
  },
  {
   "cell_type": "code",
   "execution_count": 69,
   "metadata": {},
   "outputs": [
    {
     "name": "stdout",
     "output_type": "stream",
     "text": [
      "->0->1->2->3->4->5->\n"
     ]
    }
   ],
   "source": [
    "circular.print()"
   ]
  },
  {
   "cell_type": "code",
   "execution_count": 70,
   "metadata": {},
   "outputs": [
    {
     "data": {
      "text/plain": [
       "-1"
      ]
     },
     "execution_count": 70,
     "metadata": {},
     "output_type": "execute_result"
    }
   ],
   "source": [
    "circular.insertNodeAtData(7,SingleNode(6))"
   ]
  },
  {
   "cell_type": "code",
   "execution_count": 71,
   "metadata": {},
   "outputs": [
    {
     "name": "stdout",
     "output_type": "stream",
     "text": [
      "->0->1->2->3->4->5->\n"
     ]
    }
   ],
   "source": [
    "circular.print()"
   ]
  },
  {
   "cell_type": "code",
   "execution_count": 72,
   "metadata": {},
   "outputs": [
    {
     "name": "stdout",
     "output_type": "stream",
     "text": [
      "->0->1->2->3->4->\n"
     ]
    }
   ],
   "source": [
    "circular.removePosition(5)\n",
    "circular.print()"
   ]
  },
  {
   "cell_type": "code",
   "execution_count": null,
   "metadata": {},
   "outputs": [],
   "source": []
  }
 ],
 "metadata": {
  "kernelspec": {
   "display_name": "Python 3",
   "language": "python",
   "name": "python3"
  },
  "language_info": {
   "codemirror_mode": {
    "name": "ipython",
    "version": 3
   },
   "file_extension": ".py",
   "mimetype": "text/x-python",
   "name": "python",
   "nbconvert_exporter": "python",
   "pygments_lexer": "ipython3",
   "version": "3.6.9"
  }
 },
 "nbformat": 4,
 "nbformat_minor": 2
}
