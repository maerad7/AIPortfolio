{
 "cells": [
  {
   "cell_type": "code",
   "execution_count": 4,
   "metadata": {},
   "outputs": [
    {
     "name": "stdout",
     "output_type": "stream",
     "text": [
      "Package                            Version\n",
      "---------------------------------- ---------\n",
      "absl-py                            0.9.0\n",
      "alabaster                          0.7.10\n",
      "anaconda-client                    1.6.14\n",
      "anaconda-project                   0.8.2\n",
      "asn1crypto                         0.24.0\n",
      "astor                              0.7.1\n",
      "astroid                            1.6.3\n",
      "astropy                            3.0.2\n",
      "astunparse                         1.6.3\n",
      "attrs                              18.1.0\n",
      "Babel                              2.5.3\n",
      "backcall                           0.1.0\n",
      "backports.shutil-get-terminal-size 1.0.0\n",
      "beautifulsoup4                     4.6.0\n",
      "bitarray                           0.8.1\n",
      "bkcharts                           0.2\n",
      "blaze                              0.11.3\n",
      "bleach                             2.1.3\n",
      "bokeh                              0.12.16\n",
      "boto                               2.48.0\n",
      "Bottleneck                         1.2.1\n",
      "cachetools                         4.1.1\n",
      "certifi                            2018.4.16\n",
      "cffi                               1.11.5\n",
      "chardet                            3.0.4\n",
      "click                              6.7\n",
      "cloudpickle                        0.5.3\n",
      "clyent                             1.2.2\n",
      "colorama                           0.3.9\n",
      "comtypes                           1.1.4\n",
      "contextlib2                        0.5.5\n",
      "cryptography                       2.2.2\n",
      "cycler                             0.10.0\n",
      "Cython                             0.28.2\n",
      "cytoolz                            0.9.0.1\n",
      "dask                               0.17.5\n",
      "datashape                          0.5.4\n",
      "decorator                          4.3.0\n",
      "distributed                        1.21.8\n",
      "docutils                           0.14\n",
      "entrypoints                        0.2.3\n",
      "et-xmlfile                         1.0.1\n",
      "fastcache                          1.0.2\n",
      "filelock                           3.0.4\n",
      "Flask                              1.0.2\n",
      "Flask-Cors                         3.0.4\n",
      "future                             0.18.2\n",
      "gast                               0.3.3\n",
      "gevent                             1.3.0\n",
      "glob2                              0.6\n",
      "google-auth                        1.19.2\n",
      "google-auth-oauthlib               0.4.1\n",
      "google-pasta                       0.2.0\n",
      "greenlet                           0.4.13\n",
      "grpcio                             1.16.0\n",
      "h5py                               2.10.0\n",
      "heapdict                           1.0.0\n",
      "html5lib                           1.0.1\n",
      "idna                               2.6\n",
      "imageio                            2.3.0\n",
      "imagesize                          1.0.0\n",
      "ipykernel                          4.8.2\n",
      "ipython                            6.4.0\n",
      "ipython-genutils                   0.2.0\n",
      "ipywidgets                         7.2.1\n",
      "isort                              4.3.4\n",
      "itsdangerous                       0.24\n",
      "jdcal                              1.4\n",
      "jedi                               0.12.0\n",
      "Jinja2                             2.10\n",
      "jsonschema                         2.6.0\n",
      "jupyter                            1.0.0\n",
      "jupyter-client                     5.2.3\n",
      "jupyter-console                    5.2.0\n",
      "jupyter-core                       4.4.0\n",
      "jupyterlab                         0.32.1\n",
      "jupyterlab-launcher                0.10.5\n",
      "Keras-Applications                 1.0.6\n",
      "Keras-Preprocessing                1.1.2\n",
      "kiwisolver                         1.0.1\n",
      "lazy-object-proxy                  1.3.1\n",
      "llvmlite                           0.23.1\n",
      "locket                             0.2.0\n",
      "lxml                               4.2.1\n",
      "Markdown                           3.0.1\n",
      "MarkupSafe                         1.0\n",
      "matplotlib                         2.2.2\n",
      "mccabe                             0.6.1\n",
      "menuinst                           1.4.14\n",
      "missingno                          0.4.2\n",
      "mistune                            0.8.3\n",
      "mkl-fft                            1.0.0\n",
      "mkl-random                         1.0.1\n",
      "more-itertools                     4.1.0\n",
      "mpmath                             1.0.0\n",
      "msgpack-python                     0.5.6\n",
      "multipledispatch                   0.5.0\n",
      "nbconvert                          5.3.1\n",
      "nbformat                           4.4.0\n",
      "networkx                           2.1\n",
      "nltk                               3.3\n",
      "nose                               1.3.7\n",
      "notebook                           5.5.0\n",
      "numba                              0.38.0\n",
      "numexpr                            2.6.5\n",
      "numpy                              1.19.0\n",
      "numpydoc                           0.8.0\n",
      "oauthlib                           3.1.0\n",
      "odo                                0.5.1\n",
      "olefile                            0.45.1\n",
      "opencv-python                      4.3.0.36\n",
      "openpyxl                           2.5.3\n",
      "opt-einsum                         3.2.1\n",
      "packaging                          17.1\n",
      "pandas                             0.23.0\n",
      "pandocfilters                      1.4.2\n",
      "parso                              0.2.0\n",
      "partd                              0.3.8\n",
      "path.py                            11.0.1\n",
      "pathlib2                           2.3.2\n",
      "patsy                              0.5.0\n",
      "pep8                               1.7.1\n",
      "pickleshare                        0.7.4\n",
      "Pillow                             5.1.0\n",
      "pip                                20.1.1\n",
      "pkginfo                            1.4.2\n",
      "pluggy                             0.6.0\n",
      "ply                                3.11\n",
      "prompt-toolkit                     1.0.15\n",
      "protobuf                           3.12.2\n",
      "psutil                             5.4.5\n",
      "py                                 1.5.3\n",
      "pyasn1                             0.4.8\n",
      "pyasn1-modules                     0.2.8\n",
      "pycodestyle                        2.4.0\n",
      "pycosat                            0.6.3\n",
      "pycparser                          2.18\n",
      "pycrypto                           2.6.1\n",
      "pycurl                             7.43.0.1\n",
      "pyflakes                           1.6.0\n",
      "Pygments                           2.2.0\n",
      "pylint                             1.8.4\n",
      "pyodbc                             4.0.23\n",
      "pyOpenSSL                          18.0.0\n",
      "pyparsing                          2.2.0\n",
      "PySocks                            1.6.8\n",
      "pytest                             3.5.1\n",
      "pytest-arraydiff                   0.2\n",
      "pytest-astropy                     0.3.0\n",
      "pytest-doctestplus                 0.1.3\n",
      "pytest-openfiles                   0.3.0\n",
      "pytest-remotedata                  0.2.1\n",
      "python-dateutil                    2.7.3\n",
      "pytz                               2018.4\n",
      "PyWavelets                         0.5.2\n",
      "pywin32                            223\n",
      "pywinpty                           0.5.1\n",
      "PyYAML                             3.12\n",
      "pyzmq                              17.0.0\n",
      "QtAwesome                          0.4.4\n",
      "qtconsole                          4.3.1\n",
      "QtPy                               1.4.1\n",
      "requests                           2.24.0\n",
      "requests-oauthlib                  1.3.0\n",
      "rope                               0.10.7\n",
      "rsa                                4.6\n",
      "ruamel-yaml                        0.15.35\n",
      "scikit-image                       0.13.1\n",
      "scikit-learn                       0.19.1\n",
      "scipy                              1.4.1\n",
      "seaborn                            0.8.1\n",
      "Send2Trash                         1.5.0\n",
      "setuptools                         49.2.0\n",
      "simplegeneric                      0.8.1\n",
      "singledispatch                     3.4.0.3\n",
      "six                                1.15.0\n",
      "sklearn                            0.0\n",
      "snowballstemmer                    1.2.1\n",
      "sortedcollections                  0.6.1\n",
      "sortedcontainers                   1.5.10\n",
      "Sphinx                             1.7.4\n",
      "sphinxcontrib-websupport           1.0.1\n",
      "spyder                             3.2.8\n",
      "SQLAlchemy                         1.2.7\n",
      "statsmodels                        0.9.0\n",
      "sympy                              1.1.1\n",
      "tables                             3.4.3\n",
      "tblib                              1.3.2\n",
      "tensorboard                        2.2.2\n",
      "tensorboard-plugin-wit             1.7.0\n",
      "tensorflow                         2.2.0\n",
      "tensorflow-estimator               2.2.0\n",
      "tensorflow-gpu                     1.11.0\n",
      "termcolor                          1.1.0\n",
      "terminado                          0.8.1\n",
      "testpath                           0.3.1\n",
      "toolz                              0.9.0\n",
      "torch                              1.5.1\n",
      "torchvision                        0.6.1\n",
      "tornado                            5.0.2\n",
      "traitlets                          4.3.2\n",
      "typing                             3.6.4\n",
      "unicodecsv                         0.14.1\n",
      "urllib3                            1.22\n",
      "wcwidth                            0.1.7\n",
      "webencodings                       0.5.1\n",
      "Werkzeug                           0.14.1\n",
      "wheel                              0.31.1\n",
      "widgetsnbextension                 3.2.1\n",
      "win-inet-pton                      1.0.1\n",
      "win-unicode-console                0.5\n",
      "wincertstore                       0.2\n",
      "wrapt                              1.12.1\n",
      "xlrd                               1.1.0\n",
      "XlsxWriter                         1.0.4\n",
      "xlwings                            0.11.8\n",
      "xlwt                               1.3.0\n",
      "zict                               0.1.3\n"
     ]
    },
    {
     "name": "stderr",
     "output_type": "stream",
     "text": [
      "WARNING: You are using pip version 20.1.1; however, version 20.3.3 is available.\n",
      "You should consider upgrading via the 'c:\\users\\maerad7\\anaconda3\\envs\\ml\\python.exe -m pip install --upgrade pip' command.\n"
     ]
    }
   ],
   "source": [
    "!pip list"
   ]
  },
  {
   "cell_type": "code",
   "execution_count": 1,
   "metadata": {},
   "outputs": [],
   "source": [
    "import torch"
   ]
  },
  {
   "cell_type": "code",
   "execution_count": 3,
   "metadata": {},
   "outputs": [
    {
     "name": "stdout",
     "output_type": "stream",
     "text": [
      "tensor([1., 2., 3.])\n"
     ]
    }
   ],
   "source": [
    "v_data = [1.,2.,3.]\n",
    "v = torch.Tensor(v_data)\n",
    "print(v)"
   ]
  },
  {
   "cell_type": "code",
   "execution_count": 5,
   "metadata": {},
   "outputs": [
    {
     "name": "stdout",
     "output_type": "stream",
     "text": [
      "tensor([[1., 2., 3.],\n",
      "        [4., 5., 6.]])\n"
     ]
    }
   ],
   "source": [
    "M_data =  [[1.,2.,3.],[4.,5.,6.]]\n",
    "M = torch.Tensor(M_data)\n",
    "print(M)"
   ]
  },
  {
   "cell_type": "code",
   "execution_count": 7,
   "metadata": {},
   "outputs": [
    {
     "name": "stdout",
     "output_type": "stream",
     "text": [
      "tensor([[[1., 2.],\n",
      "         [3., 4.]],\n",
      "\n",
      "        [[5., 6.],\n",
      "         [7., 8.]]])\n"
     ]
    }
   ],
   "source": [
    "T_data = [[[1.,2.],[3.,4.]],[[5.,6.],[7.,8.]]]\n",
    "T = torch.Tensor(T_data)\n",
    "print(T)"
   ]
  },
  {
   "cell_type": "code",
   "execution_count": 9,
   "metadata": {},
   "outputs": [
    {
     "data": {
      "text/plain": [
       "tensor([1., 1., 1.])"
      ]
     },
     "execution_count": 9,
     "metadata": {},
     "output_type": "execute_result"
    }
   ],
   "source": [
    "a = torch.ones(3)\n",
    "a"
   ]
  },
  {
   "cell_type": "code",
   "execution_count": 10,
   "metadata": {},
   "outputs": [
    {
     "data": {
      "text/plain": [
       "tensor([[1., 1., 1.],\n",
       "        [1., 1., 1.]])"
      ]
     },
     "execution_count": 10,
     "metadata": {},
     "output_type": "execute_result"
    }
   ],
   "source": [
    "b = torch.ones(2,3)\n",
    "b"
   ]
  },
  {
   "cell_type": "code",
   "execution_count": 11,
   "metadata": {},
   "outputs": [
    {
     "data": {
      "text/plain": [
       "tensor([0., 0., 0., 0.])"
      ]
     },
     "execution_count": 11,
     "metadata": {},
     "output_type": "execute_result"
    }
   ],
   "source": [
    "torch.zeros(4)"
   ]
  },
  {
   "cell_type": "code",
   "execution_count": 12,
   "metadata": {},
   "outputs": [
    {
     "data": {
      "text/plain": [
       "tensor([[[0., 0., 0.],\n",
       "         [0., 0., 0.]],\n",
       "\n",
       "        [[0., 0., 0.],\n",
       "         [0., 0., 0.]],\n",
       "\n",
       "        [[0., 0., 0.],\n",
       "         [0., 0., 0.]],\n",
       "\n",
       "        [[0., 0., 0.],\n",
       "         [0., 0., 0.]],\n",
       "\n",
       "        [[0., 0., 0.],\n",
       "         [0., 0., 0.]]])"
      ]
     },
     "execution_count": 12,
     "metadata": {},
     "output_type": "execute_result"
    }
   ],
   "source": [
    "torch.zeros(5,2,3)"
   ]
  },
  {
   "cell_type": "code",
   "execution_count": 13,
   "metadata": {},
   "outputs": [
    {
     "data": {
      "text/plain": [
       "tensor([[1.0653e-38, 1.0194e-38, 8.4490e-39, 1.0469e-38],\n",
       "        [9.3674e-39, 9.9184e-39, 8.7245e-39, 9.2755e-39],\n",
       "        [8.9082e-39, 9.9184e-39, 8.4490e-39, 9.6429e-39],\n",
       "        [1.0653e-38, 1.0469e-38, 4.2246e-39, 1.0378e-38],\n",
       "        [9.6429e-39, 9.2755e-39, 9.7346e-39, 1.0745e-38]])"
      ]
     },
     "execution_count": 13,
     "metadata": {},
     "output_type": "execute_result"
    }
   ],
   "source": [
    "torch.empty(5,4) # 현재 메모리에 존재하는 값"
   ]
  },
  {
   "cell_type": "code",
   "execution_count": 14,
   "metadata": {},
   "outputs": [
    {
     "data": {
      "text/plain": [
       "tensor([[0.8110, 0.4485, 0.6129],\n",
       "        [0.7733, 0.3682, 0.5229],\n",
       "        [0.1402, 0.8043, 0.8583],\n",
       "        [0.7492, 0.3369, 0.5929],\n",
       "        [0.5557, 0.6381, 0.7362]])"
      ]
     },
     "execution_count": 14,
     "metadata": {},
     "output_type": "execute_result"
    }
   ],
   "source": [
    "torch.rand(5,3)"
   ]
  },
  {
   "cell_type": "code",
   "execution_count": 15,
   "metadata": {},
   "outputs": [
    {
     "data": {
      "text/plain": [
       "tensor([0.9140, 0.1176, 0.1612, 0.1952], dtype=torch.float64)"
      ]
     },
     "execution_count": 15,
     "metadata": {},
     "output_type": "execute_result"
    }
   ],
   "source": [
    "torch.rand(4,  dtype=torch.double)"
   ]
  },
  {
   "cell_type": "code",
   "execution_count": 16,
   "metadata": {},
   "outputs": [
    {
     "data": {
      "text/plain": [
       "tensor([[0.9221, 0.5378, 0.5042],\n",
       "        [0.4716, 0.7763, 0.2540]])"
      ]
     },
     "execution_count": 16,
     "metadata": {},
     "output_type": "execute_result"
    }
   ],
   "source": [
    "torch.rand(2,3, dtype=torch.float)"
   ]
  },
  {
   "cell_type": "code",
   "execution_count": 18,
   "metadata": {},
   "outputs": [
    {
     "data": {
      "text/plain": [
       "torch.Size([2, 3])"
      ]
     },
     "execution_count": 18,
     "metadata": {},
     "output_type": "execute_result"
    }
   ],
   "source": [
    "torch.rand(2,3, dtype=torch.float).size()"
   ]
  },
  {
   "cell_type": "markdown",
   "metadata": {},
   "source": [
    "# Indexing Tensors"
   ]
  },
  {
   "cell_type": "code",
   "execution_count": 21,
   "metadata": {},
   "outputs": [],
   "source": [
    "temp = torch.Tensor([0,1,2,3,4,5,6,7])"
   ]
  },
  {
   "cell_type": "code",
   "execution_count": 22,
   "metadata": {},
   "outputs": [
    {
     "data": {
      "text/plain": [
       "tensor([0., 1., 2., 3., 4., 5., 6., 7.])"
      ]
     },
     "execution_count": 22,
     "metadata": {},
     "output_type": "execute_result"
    }
   ],
   "source": [
    "temp[:]"
   ]
  },
  {
   "cell_type": "code",
   "execution_count": 23,
   "metadata": {},
   "outputs": [
    {
     "data": {
      "text/plain": [
       "tensor([1., 2., 3.])"
      ]
     },
     "execution_count": 23,
     "metadata": {},
     "output_type": "execute_result"
    }
   ],
   "source": [
    "temp[1:4]"
   ]
  },
  {
   "cell_type": "code",
   "execution_count": 24,
   "metadata": {},
   "outputs": [
    {
     "data": {
      "text/plain": [
       "tensor([1., 2., 3., 4., 5., 6., 7.])"
      ]
     },
     "execution_count": 24,
     "metadata": {},
     "output_type": "execute_result"
    }
   ],
   "source": [
    "temp[1:]"
   ]
  },
  {
   "cell_type": "code",
   "execution_count": 25,
   "metadata": {},
   "outputs": [
    {
     "data": {
      "text/plain": [
       "tensor([0., 1., 2., 3.])"
      ]
     },
     "execution_count": 25,
     "metadata": {},
     "output_type": "execute_result"
    }
   ],
   "source": [
    "temp[:4]"
   ]
  },
  {
   "cell_type": "code",
   "execution_count": 26,
   "metadata": {},
   "outputs": [
    {
     "data": {
      "text/plain": [
       "tensor(7.)"
      ]
     },
     "execution_count": 26,
     "metadata": {},
     "output_type": "execute_result"
    }
   ],
   "source": [
    "temp[-1]"
   ]
  },
  {
   "cell_type": "code",
   "execution_count": 28,
   "metadata": {},
   "outputs": [
    {
     "data": {
      "text/plain": [
       "tensor([1., 3., 5.])"
      ]
     },
     "execution_count": 28,
     "metadata": {},
     "output_type": "execute_result"
    }
   ],
   "source": [
    "temp[1:6:2]"
   ]
  },
  {
   "cell_type": "code",
   "execution_count": 29,
   "metadata": {},
   "outputs": [],
   "source": [
    "temp2 = torch.Tensor([[1,2,3],[4,5,6]])"
   ]
  },
  {
   "cell_type": "code",
   "execution_count": 30,
   "metadata": {},
   "outputs": [
    {
     "data": {
      "text/plain": [
       "tensor([[1., 2., 3.],\n",
       "        [4., 5., 6.]])"
      ]
     },
     "execution_count": 30,
     "metadata": {},
     "output_type": "execute_result"
    }
   ],
   "source": [
    "temp2"
   ]
  },
  {
   "cell_type": "code",
   "execution_count": 31,
   "metadata": {},
   "outputs": [
    {
     "data": {
      "text/plain": [
       "tensor([[4., 5., 6.]])"
      ]
     },
     "execution_count": 31,
     "metadata": {},
     "output_type": "execute_result"
    }
   ],
   "source": [
    "temp2[1:]"
   ]
  },
  {
   "cell_type": "code",
   "execution_count": 32,
   "metadata": {},
   "outputs": [
    {
     "data": {
      "text/plain": [
       "tensor([[5., 6.]])"
      ]
     },
     "execution_count": 32,
     "metadata": {},
     "output_type": "execute_result"
    }
   ],
   "source": [
    "temp2[1:,1:]"
   ]
  },
  {
   "cell_type": "code",
   "execution_count": 33,
   "metadata": {},
   "outputs": [
    {
     "data": {
      "text/plain": [
       "tensor([4.])"
      ]
     },
     "execution_count": 33,
     "metadata": {},
     "output_type": "execute_result"
    }
   ],
   "source": [
    "temp2[1:,0]"
   ]
  },
  {
   "cell_type": "markdown",
   "metadata": {},
   "source": [
    "# convert type"
   ]
  },
  {
   "cell_type": "code",
   "execution_count": 36,
   "metadata": {},
   "outputs": [
    {
     "data": {
      "text/plain": [
       "tensor([[0., 0., 0.],\n",
       "        [0., 0., 0.]], dtype=torch.float64)"
      ]
     },
     "execution_count": 36,
     "metadata": {},
     "output_type": "execute_result"
    }
   ],
   "source": [
    "a = torch.zeros(2,3,dtype=torch.float64)\n",
    "a"
   ]
  },
  {
   "cell_type": "code",
   "execution_count": 37,
   "metadata": {},
   "outputs": [
    {
     "data": {
      "text/plain": [
       "tensor([[0., 0., 0.],\n",
       "        [0., 0., 0.]], dtype=torch.float16)"
      ]
     },
     "execution_count": 37,
     "metadata": {},
     "output_type": "execute_result"
    }
   ],
   "source": [
    "a.to(dtype=torch.float16)"
   ]
  },
  {
   "cell_type": "markdown",
   "metadata": {},
   "source": [
    "# Reshape"
   ]
  },
  {
   "cell_type": "code",
   "execution_count": 38,
   "metadata": {},
   "outputs": [],
   "source": [
    "a = torch.Tensor([[1,2,3],[4,5,6]])"
   ]
  },
  {
   "cell_type": "code",
   "execution_count": 39,
   "metadata": {},
   "outputs": [
    {
     "data": {
      "text/plain": [
       "tensor([[1., 2., 3.],\n",
       "        [4., 5., 6.]])"
      ]
     },
     "execution_count": 39,
     "metadata": {},
     "output_type": "execute_result"
    }
   ],
   "source": [
    "a"
   ]
  },
  {
   "cell_type": "code",
   "execution_count": 40,
   "metadata": {},
   "outputs": [
    {
     "data": {
      "text/plain": [
       "torch.Size([2, 3])"
      ]
     },
     "execution_count": 40,
     "metadata": {},
     "output_type": "execute_result"
    }
   ],
   "source": [
    "a.shape"
   ]
  },
  {
   "cell_type": "code",
   "execution_count": 42,
   "metadata": {},
   "outputs": [
    {
     "data": {
      "text/plain": [
       "torch.Size([2, 3])"
      ]
     },
     "execution_count": 42,
     "metadata": {},
     "output_type": "execute_result"
    }
   ],
   "source": [
    "a.size()"
   ]
  },
  {
   "cell_type": "code",
   "execution_count": 45,
   "metadata": {},
   "outputs": [
    {
     "data": {
      "text/plain": [
       "tensor([[1., 2.],\n",
       "        [3., 4.],\n",
       "        [5., 6.]])"
      ]
     },
     "execution_count": 45,
     "metadata": {},
     "output_type": "execute_result"
    }
   ],
   "source": [
    "a_reshape=a.reshape(3,2)\n",
    "a_reshape"
   ]
  },
  {
   "cell_type": "code",
   "execution_count": 47,
   "metadata": {},
   "outputs": [
    {
     "data": {
      "text/plain": [
       "tensor([[1., 2.],\n",
       "        [3., 4.],\n",
       "        [5., 6.]])"
      ]
     },
     "execution_count": 47,
     "metadata": {},
     "output_type": "execute_result"
    }
   ],
   "source": [
    "a_reshape_2 = a.reshape(-1,2)\n",
    "a_reshape_2"
   ]
  },
  {
   "cell_type": "code",
   "execution_count": 58,
   "metadata": {},
   "outputs": [
    {
     "data": {
      "text/plain": [
       "torch.Size([4, 4])"
      ]
     },
     "execution_count": 58,
     "metadata": {},
     "output_type": "execute_result"
    }
   ],
   "source": [
    "x = torch.rand(4,4)\n",
    "x.size()"
   ]
  },
  {
   "cell_type": "code",
   "execution_count": 59,
   "metadata": {},
   "outputs": [
    {
     "data": {
      "text/plain": [
       "torch.Size([16])"
      ]
     },
     "execution_count": 59,
     "metadata": {},
     "output_type": "execute_result"
    }
   ],
   "source": [
    "y  =x.view(16)\n",
    "y.size()"
   ]
  },
  {
   "cell_type": "code",
   "execution_count": 60,
   "metadata": {},
   "outputs": [
    {
     "name": "stdout",
     "output_type": "stream",
     "text": [
      "torch.Size([2, 8])\n"
     ]
    }
   ],
   "source": [
    "z = x.view(-1,8)\n",
    "print(z.size())"
   ]
  },
  {
   "cell_type": "code",
   "execution_count": 61,
   "metadata": {},
   "outputs": [
    {
     "data": {
      "text/plain": [
       "(tensor([[0.1661, 0.6648, 0.6857, 0.3045],\n",
       "         [0.4063, 0.9198, 0.1040, 0.7073],\n",
       "         [0.7782, 0.9314, 0.3671, 0.2092],\n",
       "         [0.5886, 0.5454, 0.1819, 0.8919]]),\n",
       " tensor([0.1661, 0.6648, 0.6857, 0.3045, 0.4063, 0.9198, 0.1040, 0.7073, 0.7782,\n",
       "         0.9314, 0.3671, 0.2092, 0.5886, 0.5454, 0.1819, 0.8919]),\n",
       " tensor([[0.1661, 0.6648, 0.6857, 0.3045, 0.4063, 0.9198, 0.1040, 0.7073],\n",
       "         [0.7782, 0.9314, 0.3671, 0.2092, 0.5886, 0.5454, 0.1819, 0.8919]]))"
      ]
     },
     "execution_count": 61,
     "metadata": {},
     "output_type": "execute_result"
    }
   ],
   "source": [
    "x,y,z"
   ]
  },
  {
   "cell_type": "markdown",
   "metadata": {},
   "source": [
    "# Transpose"
   ]
  },
  {
   "cell_type": "code",
   "execution_count": 62,
   "metadata": {},
   "outputs": [
    {
     "data": {
      "text/plain": [
       "tensor([1.7845])"
      ]
     },
     "execution_count": 62,
     "metadata": {},
     "output_type": "execute_result"
    }
   ],
   "source": [
    "x = torch.randn(1)\n",
    "x"
   ]
  },
  {
   "cell_type": "code",
   "execution_count": 63,
   "metadata": {},
   "outputs": [
    {
     "data": {
      "text/plain": [
       "tensor([1.7845])"
      ]
     },
     "execution_count": 63,
     "metadata": {},
     "output_type": "execute_result"
    }
   ],
   "source": [
    "torch.t(x)"
   ]
  },
  {
   "cell_type": "code",
   "execution_count": 64,
   "metadata": {},
   "outputs": [
    {
     "data": {
      "text/plain": [
       "tensor([0.6312, 0.2339, 0.3224])"
      ]
     },
     "execution_count": 64,
     "metadata": {},
     "output_type": "execute_result"
    }
   ],
   "source": [
    "y = torch.rand(3)\n",
    "y"
   ]
  },
  {
   "cell_type": "code",
   "execution_count": 65,
   "metadata": {},
   "outputs": [
    {
     "data": {
      "text/plain": [
       "tensor([0.6312, 0.2339, 0.3224])"
      ]
     },
     "execution_count": 65,
     "metadata": {},
     "output_type": "execute_result"
    }
   ],
   "source": [
    "y.t()"
   ]
  },
  {
   "cell_type": "code",
   "execution_count": 66,
   "metadata": {},
   "outputs": [
    {
     "data": {
      "text/plain": [
       "tensor([[-0.6715,  0.7250, -1.8913],\n",
       "        [-0.6329, -1.0278, -0.3202]])"
      ]
     },
     "execution_count": 66,
     "metadata": {},
     "output_type": "execute_result"
    }
   ],
   "source": [
    "z = torch.randn(2,3)\n",
    "z"
   ]
  },
  {
   "cell_type": "code",
   "execution_count": 67,
   "metadata": {},
   "outputs": [
    {
     "data": {
      "text/plain": [
       "tensor([[-0.6715, -0.6329],\n",
       "        [ 0.7250, -1.0278],\n",
       "        [-1.8913, -0.3202]])"
      ]
     },
     "execution_count": 67,
     "metadata": {},
     "output_type": "execute_result"
    }
   ],
   "source": [
    "torch.t(z)"
   ]
  },
  {
   "cell_type": "code",
   "execution_count": 71,
   "metadata": {},
   "outputs": [
    {
     "data": {
      "text/plain": [
       "torch.Size([64, 128, 768])"
      ]
     },
     "execution_count": 71,
     "metadata": {},
     "output_type": "execute_result"
    }
   ],
   "source": [
    "real_example = torch.randn(64,128,768)\n",
    "real_example.shape"
   ]
  },
  {
   "cell_type": "code",
   "execution_count": 72,
   "metadata": {},
   "outputs": [
    {
     "data": {
      "text/plain": [
       "torch.Size([64, 768, 128])"
      ]
     },
     "execution_count": 72,
     "metadata": {},
     "output_type": "execute_result"
    }
   ],
   "source": [
    "transposed = torch.transpose(real_example,1,2)\n",
    "transposed.shape"
   ]
  },
  {
   "cell_type": "code",
   "execution_count": 73,
   "metadata": {},
   "outputs": [
    {
     "data": {
      "text/plain": [
       "torch.Size([768, 128, 64])"
      ]
     },
     "execution_count": 73,
     "metadata": {},
     "output_type": "execute_result"
    }
   ],
   "source": [
    "transposed = torch.transpose(real_example,0,2)\n",
    "transposed.shape"
   ]
  },
  {
   "cell_type": "markdown",
   "metadata": {},
   "source": [
    "# Operation"
   ]
  },
  {
   "cell_type": "code",
   "execution_count": 75,
   "metadata": {},
   "outputs": [],
   "source": [
    "x = torch.ones(1,2)\n",
    "y = torch.ones(5,2)"
   ]
  },
  {
   "cell_type": "code",
   "execution_count": 76,
   "metadata": {},
   "outputs": [
    {
     "data": {
      "text/plain": [
       "tensor([[2., 2.],\n",
       "        [2., 2.],\n",
       "        [2., 2.],\n",
       "        [2., 2.],\n",
       "        [2., 2.]])"
      ]
     },
     "execution_count": 76,
     "metadata": {},
     "output_type": "execute_result"
    }
   ],
   "source": [
    "x+y"
   ]
  },
  {
   "cell_type": "code",
   "execution_count": 77,
   "metadata": {},
   "outputs": [
    {
     "data": {
      "text/plain": [
       "tensor([[2., 2.],\n",
       "        [2., 2.],\n",
       "        [2., 2.],\n",
       "        [2., 2.],\n",
       "        [2., 2.]])"
      ]
     },
     "execution_count": 77,
     "metadata": {},
     "output_type": "execute_result"
    }
   ],
   "source": [
    "torch.add(x,y)"
   ]
  },
  {
   "cell_type": "code",
   "execution_count": 78,
   "metadata": {},
   "outputs": [
    {
     "data": {
      "text/plain": [
       "tensor([[2., 2.],\n",
       "        [2., 2.],\n",
       "        [2., 2.],\n",
       "        [2., 2.],\n",
       "        [2., 2.]])"
      ]
     },
     "execution_count": 78,
     "metadata": {},
     "output_type": "execute_result"
    }
   ],
   "source": [
    "result = torch.empty(5,2)\n",
    "torch.add(x,y,out=result)"
   ]
  },
  {
   "cell_type": "code",
   "execution_count": 79,
   "metadata": {},
   "outputs": [
    {
     "data": {
      "text/plain": [
       "tensor([[2., 2.],\n",
       "        [2., 2.],\n",
       "        [2., 2.],\n",
       "        [2., 2.],\n",
       "        [2., 2.]])"
      ]
     },
     "execution_count": 79,
     "metadata": {},
     "output_type": "execute_result"
    }
   ],
   "source": [
    "result"
   ]
  },
  {
   "cell_type": "code",
   "execution_count": 80,
   "metadata": {},
   "outputs": [
    {
     "data": {
      "text/plain": [
       "tensor([[2., 2.],\n",
       "        [2., 2.],\n",
       "        [2., 2.],\n",
       "        [2., 2.],\n",
       "        [2., 2.]])"
      ]
     },
     "execution_count": 80,
     "metadata": {},
     "output_type": "execute_result"
    }
   ],
   "source": [
    "y.add_(x)"
   ]
  },
  {
   "cell_type": "markdown",
   "metadata": {},
   "source": [
    "# cuda-gpu"
   ]
  },
  {
   "cell_type": "code",
   "execution_count": 82,
   "metadata": {},
   "outputs": [
    {
     "data": {
      "text/plain": [
       "False"
      ]
     },
     "execution_count": 82,
     "metadata": {},
     "output_type": "execute_result"
    }
   ],
   "source": [
    "torch.cuda.is_available()"
   ]
  },
  {
   "cell_type": "code",
   "execution_count": null,
   "metadata": {},
   "outputs": [],
   "source": [
    "torch.cuda.is_available()"
   ]
  },
  {
   "cell_type": "code",
   "execution_count": null,
   "metadata": {
    "colab": {
     "base_uri": "https://localhost:8080/",
     "height": 68
    },
    "colab_type": "code",
    "id": "5QxizvAxu8df",
    "outputId": "fd7e0366-09ac-47fe-ab4a-7d690af2189d"
   },
   "outputs": [],
   "source": [
    "import torch # 런타임 유형을 변경하면 colab 세션이 초기화될 수 있음\n",
    "\n",
    "points_gpu = torch.tensor([[4.0, 1.0], [5.0, 3.0], [2.0, 1.0]], device='cuda')\n",
    "\n",
    "print(points_gpu)"
   ]
  },
  {
   "cell_type": "code",
   "execution_count": null,
   "metadata": {
    "colab": {
     "base_uri": "https://localhost:8080/",
     "height": 51
    },
    "colab_type": "code",
    "id": "of1nZPe-wThd",
    "outputId": "a3acec8b-89be-4a92-fe15-f041cdd7a5f1"
   },
   "outputs": [],
   "source": [
    "points = torch.randn(2, 3)\n",
    "points_gpu = points.to(device='cuda')\n",
    "\n",
    "print(points_gpu)"
   ]
  },
  {
   "cell_type": "markdown",
   "metadata": {
    "colab_type": "text",
    "id": "hvPB3ixRwKQu"
   },
   "source": [
    "If our machine has more than one GPU, we can also decide on which GPU we allocate the tensor by passing a zero-based integer identifying the GPU on the machine, such as cuda:0, cuda:1, ..."
   ]
  },
  {
   "cell_type": "code",
   "execution_count": null,
   "metadata": {
    "colab": {
     "base_uri": "https://localhost:8080/",
     "height": 51
    },
    "colab_type": "code",
    "id": "r24Gocegv7l6",
    "outputId": "5831d71b-41e3-4c3b-9d86-6247dc94fde9"
   },
   "outputs": [],
   "source": [
    "points_gpu_0 = points.to(device='cuda:0')\n",
    "print(points_gpu_0)"
   ]
  },
  {
   "cell_type": "code",
   "execution_count": null,
   "metadata": {
    "colab": {
     "base_uri": "https://localhost:8080/",
     "height": 85
    },
    "colab_type": "code",
    "id": "nx9QcSKdwo07",
    "outputId": "686d9dde-3c77-48c3-c61e-d2aeb6eb42ae"
   },
   "outputs": [],
   "source": [
    "# operations performed on CPU and GPU\n",
    "\n",
    "points = 2 * points   # cpu에서 계산 수행\n",
    "print(points)\n",
    "\n",
    "points_op_gpu = 2 * points.to(device='cuda')  # gpu에서 계산 수행\n",
    "print(points_op_gpu)"
   ]
  },
  {
   "cell_type": "code",
   "execution_count": null,
   "metadata": {
    "colab": {
     "base_uri": "https://localhost:8080/",
     "height": 68
    },
    "colab_type": "code",
    "id": "JSeaQodKw6cS",
    "outputId": "dedb0842-4f41-4a40-c49d-9d2a37a0f9be"
   },
   "outputs": [],
   "source": [
    "# move the tensor back to the CPU\n",
    "\n",
    "points_cpu = points_gpu_0.to(device='cpu')\n",
    "print(points_cpu)\n",
    "print(points_cpu.device)"
   ]
  },
  {
   "cell_type": "code",
   "execution_count": null,
   "metadata": {
    "colab": {
     "base_uri": "https://localhost:8080/",
     "height": 119
    },
    "colab_type": "code",
    "id": "RIjlkk3nxn9j",
    "outputId": "35b0f366-7ba4-4194-9694-a0061ab8b205"
   },
   "outputs": [],
   "source": [
    "# shorter forms\n",
    "points_gpu = points.cuda()\n",
    "print(points_gpu)\n",
    "\n",
    "points_gpu = points.cuda(0)\n",
    "print(points_gpu)\n",
    "\n",
    "points_cpu = points_gpu.cpu()\n",
    "print(points_cpu)"
   ]
  },
  {
   "cell_type": "markdown",
   "metadata": {},
   "source": [
    "# Numpy"
   ]
  },
  {
   "cell_type": "code",
   "execution_count": 83,
   "metadata": {},
   "outputs": [],
   "source": [
    "import numpy as np"
   ]
  },
  {
   "cell_type": "code",
   "execution_count": 87,
   "metadata": {},
   "outputs": [
    {
     "data": {
      "text/plain": [
       "tensor([[1., 1., 1., 1.],\n",
       "        [1., 1., 1., 1.],\n",
       "        [1., 1., 1., 1.]])"
      ]
     },
     "execution_count": 87,
     "metadata": {},
     "output_type": "execute_result"
    }
   ],
   "source": [
    "points = torch.ones(3,4)\n",
    "points"
   ]
  },
  {
   "cell_type": "code",
   "execution_count": 88,
   "metadata": {},
   "outputs": [
    {
     "data": {
      "text/plain": [
       "array([[1., 1., 1., 1.],\n",
       "       [1., 1., 1., 1.],\n",
       "       [1., 1., 1., 1.]], dtype=float32)"
      ]
     },
     "execution_count": 88,
     "metadata": {},
     "output_type": "execute_result"
    }
   ],
   "source": [
    "points_np = points.numpy()\n",
    "points_np"
   ]
  },
  {
   "cell_type": "code",
   "execution_count": 90,
   "metadata": {},
   "outputs": [
    {
     "data": {
      "text/plain": [
       "tensor([[1., 1., 1., 1.],\n",
       "        [1., 1., 1., 1.],\n",
       "        [1., 1., 1., 1.]])"
      ]
     },
     "execution_count": 90,
     "metadata": {},
     "output_type": "execute_result"
    }
   ],
   "source": [
    "poinnts= torch.from_numpy(points_np)\n",
    "poinnts"
   ]
  },
  {
   "cell_type": "markdown",
   "metadata": {},
   "source": [
    "# Save and load tensors"
   ]
  },
  {
   "cell_type": "code",
   "execution_count": 92,
   "metadata": {},
   "outputs": [],
   "source": [
    "# torch.save(points,filname)\n",
    "# torch.load(filename)"
   ]
  },
  {
   "cell_type": "code",
   "execution_count": null,
   "metadata": {},
   "outputs": [],
   "source": []
  }
 ],
 "metadata": {
  "kernelspec": {
   "display_name": "Python 3",
   "language": "python",
   "name": "python3"
  },
  "language_info": {
   "codemirror_mode": {
    "name": "ipython",
    "version": 3
   },
   "file_extension": ".py",
   "mimetype": "text/x-python",
   "name": "python",
   "nbconvert_exporter": "python",
   "pygments_lexer": "ipython3",
   "version": "3.6.5"
  }
 },
 "nbformat": 4,
 "nbformat_minor": 2
}
